{
 "cells": [
  {
   "cell_type": "code",
   "execution_count": 3,
   "id": "1e86615f",
   "metadata": {},
   "outputs": [],
   "source": [
    "node_labels = [\n",
    "    'FunctionalCluster',\n",
    "    \n",
    "    'PlantCoding',\n",
    "    'PlantNonCoding',\n",
    "    'PlantAbstract',\n",
    "    \n",
    "    'ForeignEntity', \n",
    "    'ForeignCoding',\n",
    "    'ForeignNonCoding',\n",
    "    'ForeignAbstract',\n",
    "    \n",
    "    'Complex',\n",
    "    'Process', \n",
    "    'MetaboliteFamily',\n",
    "    'Metabolite',\n",
    "    'Reaction'\n",
    "]"
   ]
  },
  {
   "cell_type": "code",
   "execution_count": 5,
   "id": "d1cbc749",
   "metadata": {},
   "outputs": [
    {
     "name": "stdout",
     "output_type": "stream",
     "text": [
      "CREATE CONSTRAINT unique_name_functionalcluster ON (node:FunctionalCluster) ASSERT node.name IS UNIQUE;\n",
      "CREATE CONSTRAINT unique_name_plantcoding ON (node:PlantCoding) ASSERT node.name IS UNIQUE;\n",
      "CREATE CONSTRAINT unique_name_plantnoncoding ON (node:PlantNonCoding) ASSERT node.name IS UNIQUE;\n",
      "CREATE CONSTRAINT unique_name_plantabstract ON (node:PlantAbstract) ASSERT node.name IS UNIQUE;\n",
      "CREATE CONSTRAINT unique_name_foreignentity ON (node:ForeignEntity) ASSERT node.name IS UNIQUE;\n",
      "CREATE CONSTRAINT unique_name_foreigncoding ON (node:ForeignCoding) ASSERT node.name IS UNIQUE;\n",
      "CREATE CONSTRAINT unique_name_foreignnoncoding ON (node:ForeignNonCoding) ASSERT node.name IS UNIQUE;\n",
      "CREATE CONSTRAINT unique_name_foreignabstract ON (node:ForeignAbstract) ASSERT node.name IS UNIQUE;\n",
      "CREATE CONSTRAINT unique_name_complex ON (node:Complex) ASSERT node.name IS UNIQUE;\n",
      "CREATE CONSTRAINT unique_name_process ON (node:Process) ASSERT node.name IS UNIQUE;\n",
      "CREATE CONSTRAINT unique_name_metabolitefamily ON (node:MetaboliteFamily) ASSERT node.name IS UNIQUE;\n",
      "CREATE CONSTRAINT unique_name_metabolite ON (node:Metabolite) ASSERT node.name IS UNIQUE;\n",
      "CREATE CONSTRAINT unique_name_reaction ON (node:Reaction) ASSERT node.name IS UNIQUE;\n"
     ]
    }
   ],
   "source": [
    "for label in node_labels:\n",
    "    q = f'''CREATE CONSTRAINT unique_name_{label.lower()} ON (node:{label}) ASSERT node.name IS UNIQUE'''\n",
    "    print(q + \";\")"
   ]
  }
 ],
 "metadata": {
  "kernelspec": {
   "display_name": "Python 3 (ipykernel)",
   "language": "python",
   "name": "python3"
  },
  "language_info": {
   "codemirror_mode": {
    "name": "ipython",
    "version": 3
   },
   "file_extension": ".py",
   "mimetype": "text/x-python",
   "name": "python",
   "nbconvert_exporter": "python",
   "pygments_lexer": "ipython3",
   "version": "3.8.1"
  }
 },
 "nbformat": 4,
 "nbformat_minor": 5
}
