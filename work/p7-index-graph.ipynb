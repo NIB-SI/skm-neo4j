{
 "cells": [
  {
   "cell_type": "code",
   "execution_count": 1,
   "metadata": {},
   "outputs": [],
   "source": [
    "version = \"v0.1.0\""
   ]
  },
  {
   "cell_type": "code",
   "execution_count": 2,
   "metadata": {},
   "outputs": [
    {
     "data": {
      "text/html": [
       "<style>.container { width:80% !important; }</style>"
      ],
      "text/plain": [
       "<IPython.core.display.HTML object>"
      ]
     },
     "metadata": {},
     "output_type": "display_data"
    }
   ],
   "source": [
    "from IPython.core.display import display, HTML\n",
    "display(HTML(\"<style>.container { width:80% !important; }</style>\"))"
   ]
  },
  {
   "cell_type": "markdown",
   "metadata": {},
   "source": [
    "# Import neo4j DB: 6/6\n",
    "\n",
    "Code to translate v2.7.4_PIS-model.xlsx to neo4j database. "
   ]
  },
  {
   "cell_type": "markdown",
   "metadata": {},
   "source": [
    "## Setup"
   ]
  },
  {
   "cell_type": "code",
   "execution_count": 3,
   "metadata": {},
   "outputs": [],
   "source": [
    "from collections import defaultdict"
   ]
  },
  {
   "cell_type": "code",
   "execution_count": 4,
   "metadata": {},
   "outputs": [],
   "source": [
    "import pandas as pd\n",
    "import re\n",
    "import numpy as np\n",
    "import os"
   ]
  },
  {
   "cell_type": "code",
   "execution_count": 5,
   "metadata": {},
   "outputs": [],
   "source": [
    "from py2neo import Graph, Node, Relationship"
   ]
  },
  {
   "cell_type": "code",
   "execution_count": 6,
   "metadata": {},
   "outputs": [],
   "source": [
    "import helpers"
   ]
  },
  {
   "cell_type": "code",
   "execution_count": 7,
   "metadata": {},
   "outputs": [],
   "source": [
    "from importlib import reload"
   ]
  },
  {
   "cell_type": "markdown",
   "metadata": {},
   "source": [
    "Connect to graph via docker-compose link. See http://localhost:7474/browser/"
   ]
  },
  {
   "cell_type": "code",
   "execution_count": 8,
   "metadata": {},
   "outputs": [],
   "source": [
    "graph = Graph(host=\"neo4j\")"
   ]
  },
  {
   "cell_type": "code",
   "execution_count": 9,
   "metadata": {},
   "outputs": [],
   "source": [
    "from pathlib import Path\n",
    "\n",
    "base_path = Path(\"..\")\n",
    "parsed_path = base_path / \"data\" / \"parsed\""
   ]
  },
  {
   "cell_type": "markdown",
   "metadata": {},
   "source": [
    "## Add string lists for full text search"
   ]
  },
  {
   "cell_type": "code",
   "execution_count": 10,
   "metadata": {},
   "outputs": [
    {
     "name": "stdout",
     "output_type": "stream",
     "text": [
      "\n",
      "MATCH (m)\n",
      "WHERE EXISTS(m.external_links)\n",
      "SET m._external_links = trim(reduce(s='', el IN m.external_links | s + el + ' '))\n",
      "\n"
     ]
    },
    {
     "data": {
      "text/plain": [
       "(No data)"
      ]
     },
     "execution_count": 10,
     "metadata": {},
     "output_type": "execute_result"
    }
   ],
   "source": [
    "# str external links\n",
    "\n",
    "cy = f'''\n",
    "MATCH (m)\n",
    "WHERE EXISTS(m.external_links)\n",
    "SET m._external_links = trim(reduce(s='', el IN m.external_links | s + el + ' '))\n",
    "'''\n",
    "print(cy)\n",
    "graph.run(cy)"
   ]
  },
  {
   "cell_type": "code",
   "execution_count": 17,
   "metadata": {},
   "outputs": [
    {
     "name": "stdout",
     "output_type": "stream",
     "text": [
      "\n",
      "MATCH (m:Family)\n",
      "WITH m, COALESCE(trim(reduce(s='', el IN m.ath_homologues | s + el + ' ')), '') AS ath,  \n",
      "        COALESCE(trim(reduce(s='', el IN m.osa_homologues | s + el + ' ')), '') AS osa, \n",
      "        COALESCE(trim(reduce(s='', el IN m.sly_homologues | s + el + ' ')), '') AS sly, \n",
      "        COALESCE(trim(reduce(s='', el IN m.stu_homologues | s + el + ' ')), '') AS stu\n",
      "SET m._identifiers = trim(reduce(s='', el IN [ath, osa, sly, stu] | s + el + ' '))\n",
      "\n",
      "\n",
      "MATCH (m:FunctionalCluster)\n",
      "WITH m, COALESCE(trim(reduce(s='', el IN m.ath_homologues | s + el + ' ')), '') AS ath,  \n",
      "        COALESCE(trim(reduce(s='', el IN m.osa_homologues | s + el + ' ')), '') AS osa, \n",
      "        COALESCE(trim(reduce(s='', el IN m.sly_homologues | s + el + ' ')), '') AS sly, \n",
      "        COALESCE(trim(reduce(s='', el IN m.stu_homologues | s + el + ' ')), '') AS stu\n",
      "SET m._identifiers = trim(reduce(s='', el IN [ath, osa, sly, stu] | s + el + ' '))\n",
      "\n"
     ]
    },
    {
     "data": {
      "text/plain": [
       "(No data)"
      ]
     },
     "execution_count": 17,
     "metadata": {},
     "output_type": "execute_result"
    }
   ],
   "source": [
    "# str identifiers\n",
    "cy = '''\n",
    "MATCH (m:Family)\n",
    "WITH m, COALESCE(trim(reduce(s='', el IN m.ath_homologues | s + el + ' ')), '') AS ath,  \n",
    "        COALESCE(trim(reduce(s='', el IN m.osa_homologues | s + el + ' ')), '') AS osa, \n",
    "        COALESCE(trim(reduce(s='', el IN m.sly_homologues | s + el + ' ')), '') AS sly, \n",
    "        COALESCE(trim(reduce(s='', el IN m.stu_homologues | s + el + ' ')), '') AS stu\n",
    "SET m._identifiers = trim(reduce(s='', el IN [ath, osa, sly, stu] | s + el + ' '))\n",
    "'''\n",
    "print(cy)\n",
    "graph.run(cy)\n",
    "\n",
    "\n",
    "# str identifiers\n",
    "cy = '''\n",
    "MATCH (m:FunctionalCluster)\n",
    "WITH m, COALESCE(trim(reduce(s='', el IN m.ath_homologues | s + el + ' ')), '') AS ath,  \n",
    "        COALESCE(trim(reduce(s='', el IN m.osa_homologues | s + el + ' ')), '') AS osa, \n",
    "        COALESCE(trim(reduce(s='', el IN m.sly_homologues | s + el + ' ')), '') AS sly, \n",
    "        COALESCE(trim(reduce(s='', el IN m.stu_homologues | s + el + ' ')), '') AS stu\n",
    "SET m._identifiers = trim(reduce(s='', el IN [ath, osa, sly, stu] | s + el + ' '))\n",
    "'''\n",
    "print(cy)\n",
    "graph.run(cy)"
   ]
  },
  {
   "cell_type": "code",
   "execution_count": 12,
   "metadata": {},
   "outputs": [
    {
     "name": "stdout",
     "output_type": "stream",
     "text": [
      "\n",
      "MATCH (m)\n",
      "WHERE EXISTS(m.synonyms)\n",
      "SET m._synonyms = trim(reduce(s='', el IN m.synonyms | s + el + ' '))\n",
      "\n"
     ]
    },
    {
     "data": {
      "text/plain": [
       "(No data)"
      ]
     },
     "execution_count": 12,
     "metadata": {},
     "output_type": "execute_result"
    }
   ],
   "source": [
    "cy = f'''\n",
    "MATCH (m)\n",
    "WHERE EXISTS(m.synonyms)\n",
    "SET m._synonyms = trim(reduce(s='', el IN m.synonyms | s + el + ' '))\n",
    "'''\n",
    "print(cy)\n",
    "graph.run(cy)"
   ]
  },
  {
   "cell_type": "markdown",
   "metadata": {},
   "source": [
    "## Indexes"
   ]
  },
  {
   "cell_type": "code",
   "execution_count": 13,
   "metadata": {},
   "outputs": [
    {
     "data": {
      "text/plain": [
       "(No data)"
      ]
     },
     "execution_count": 13,
     "metadata": {},
     "output_type": "execute_result"
    }
   ],
   "source": [
    "# metabolites\n",
    "\n",
    "cy = '''\n",
    "CREATE FULLTEXT INDEX  metabolites_all\n",
    "FOR (m:Metabolite)\n",
    "ON EACH [\n",
    "    m.name, \n",
    "    m._synonyms, \n",
    "    m.description, \n",
    "    m.additional_information,    \n",
    "    m._external_links\n",
    "]\n",
    "'''\n",
    "graph.run(cy)"
   ]
  },
  {
   "cell_type": "code",
   "execution_count": 14,
   "metadata": {},
   "outputs": [
    {
     "data": {
      "text/plain": [
       "(No data)"
      ]
     },
     "execution_count": 14,
     "metadata": {},
     "output_type": "execute_result"
    }
   ],
   "source": [
    "# complexes \n",
    "\n",
    "cy = '''\n",
    "CREATE FULLTEXT INDEX complex_all \n",
    "FOR (m:Complex) \n",
    "ON EACH [\n",
    "     m.name, \n",
    "     m._synonyms, \n",
    "     m.description, \n",
    "     m.additional_information,    \n",
    "     m._external_links\n",
    "] \n",
    "'''\n",
    "graph.run(cy)"
   ]
  },
  {
   "cell_type": "code",
   "execution_count": 15,
   "metadata": {},
   "outputs": [
    {
     "data": {
      "text/plain": [
       "(No data)"
      ]
     },
     "execution_count": 15,
     "metadata": {},
     "output_type": "execute_result"
    }
   ],
   "source": [
    "# foreign\n",
    "\n",
    "cy = '''\n",
    "CREATE FULLTEXT INDEX foreign_all \n",
    "FOR (m:Foreign) \n",
    "ON EACH [\n",
    "    m.name, \n",
    "    m._synonyms,\n",
    "    m._identifiers,\n",
    "    m.description, \n",
    "    m.additional_information,    \n",
    "    m._external_links\n",
    "    ] \n",
    "'''\n",
    "\n",
    "graph.run(cy)"
   ]
  },
  {
   "cell_type": "code",
   "execution_count": 16,
   "metadata": {},
   "outputs": [
    {
     "data": {
      "text/plain": [
       "(No data)"
      ]
     },
     "execution_count": 16,
     "metadata": {},
     "output_type": "execute_result"
    }
   ],
   "source": [
    "# process\n",
    "\n",
    "cy = '''\n",
    "CREATE FULLTEXT INDEX process_all \n",
    "FOR (m:Process) \n",
    "ON EACH [\n",
    "    m.name, \n",
    "    m._synonyms, \n",
    "    m.description, \n",
    "    m.additional_information,        \n",
    "    m._external_links\n",
    "    ] \n",
    "'''\n",
    "graph.run(cy)"
   ]
  },
  {
   "cell_type": "code",
   "execution_count": 19,
   "metadata": {
    "scrolled": true
   },
   "outputs": [
    {
     "ename": "ClientError",
     "evalue": "[Schema.EquivalentSchemaRuleAlreadyExists] An equivalent index already exists, 'Index( id=33, name='family_identifiers', type='GENERAL FULLTEXT', schema=(:Family {_identifiers}), indexProvider='fulltext-1.0' )'.",
     "output_type": "error",
     "traceback": [
      "\u001b[0;31m---------------------------------------------------------------------------\u001b[0m",
      "\u001b[0;31mClientError\u001b[0m                               Traceback (most recent call last)",
      "\u001b[0;32m<ipython-input-19-d8132bdae8ba>\u001b[0m in \u001b[0;36m<module>\u001b[0;34m\u001b[0m\n\u001b[1;32m      6\u001b[0m \u001b[0mON\u001b[0m \u001b[0mEACH\u001b[0m \u001b[0;34m[\u001b[0m\u001b[0mm\u001b[0m\u001b[0;34m.\u001b[0m\u001b[0m_identifiers\u001b[0m\u001b[0;34m]\u001b[0m\u001b[0;34m\u001b[0m\u001b[0;34m\u001b[0m\u001b[0m\n\u001b[1;32m      7\u001b[0m '''\n\u001b[0;32m----> 8\u001b[0;31m \u001b[0mgraph\u001b[0m\u001b[0;34m.\u001b[0m\u001b[0mrun\u001b[0m\u001b[0;34m(\u001b[0m\u001b[0mcy\u001b[0m\u001b[0;34m)\u001b[0m\u001b[0;34m\u001b[0m\u001b[0;34m\u001b[0m\u001b[0m\n\u001b[0m",
      "\u001b[0;32m/opt/conda/lib/python3.9/site-packages/py2neo/database.py\u001b[0m in \u001b[0;36mrun\u001b[0;34m(self, cypher, parameters, **kwparameters)\u001b[0m\n\u001b[1;32m    403\u001b[0m         \u001b[0;34m:\u001b[0m\u001b[0;32mreturn\u001b[0m\u001b[0;34m:\u001b[0m\u001b[0;34m\u001b[0m\u001b[0;34m\u001b[0m\u001b[0m\n\u001b[1;32m    404\u001b[0m         \"\"\"\n\u001b[0;32m--> 405\u001b[0;31m         \u001b[0;32mreturn\u001b[0m \u001b[0mself\u001b[0m\u001b[0;34m.\u001b[0m\u001b[0mauto\u001b[0m\u001b[0;34m(\u001b[0m\u001b[0;34m)\u001b[0m\u001b[0;34m.\u001b[0m\u001b[0mrun\u001b[0m\u001b[0;34m(\u001b[0m\u001b[0mcypher\u001b[0m\u001b[0;34m,\u001b[0m \u001b[0mparameters\u001b[0m\u001b[0;34m,\u001b[0m \u001b[0;34m**\u001b[0m\u001b[0mkwparameters\u001b[0m\u001b[0;34m)\u001b[0m\u001b[0;34m\u001b[0m\u001b[0;34m\u001b[0m\u001b[0m\n\u001b[0m\u001b[1;32m    406\u001b[0m \u001b[0;34m\u001b[0m\u001b[0m\n\u001b[1;32m    407\u001b[0m     \u001b[0;32mdef\u001b[0m \u001b[0mevaluate\u001b[0m\u001b[0;34m(\u001b[0m\u001b[0mself\u001b[0m\u001b[0;34m,\u001b[0m \u001b[0mcypher\u001b[0m\u001b[0;34m,\u001b[0m \u001b[0mparameters\u001b[0m\u001b[0;34m=\u001b[0m\u001b[0;32mNone\u001b[0m\u001b[0;34m,\u001b[0m \u001b[0;34m**\u001b[0m\u001b[0mkwparameters\u001b[0m\u001b[0;34m)\u001b[0m\u001b[0;34m:\u001b[0m\u001b[0;34m\u001b[0m\u001b[0;34m\u001b[0m\u001b[0m\n",
      "\u001b[0;32m/opt/conda/lib/python3.9/site-packages/py2neo/database.py\u001b[0m in \u001b[0;36mrun\u001b[0;34m(self, cypher, parameters, **kwparameters)\u001b[0m\n\u001b[1;32m    976\u001b[0m                 \u001b[0mresult\u001b[0m \u001b[0;34m=\u001b[0m \u001b[0mself\u001b[0m\u001b[0;34m.\u001b[0m\u001b[0m_connector\u001b[0m\u001b[0;34m.\u001b[0m\u001b[0mrun\u001b[0m\u001b[0;34m(\u001b[0m\u001b[0mself\u001b[0m\u001b[0;34m.\u001b[0m\u001b[0mref\u001b[0m\u001b[0;34m,\u001b[0m \u001b[0mcypher\u001b[0m\u001b[0;34m,\u001b[0m \u001b[0mparameters\u001b[0m\u001b[0;34m)\u001b[0m\u001b[0;34m\u001b[0m\u001b[0;34m\u001b[0m\u001b[0m\n\u001b[1;32m    977\u001b[0m             \u001b[0;32melse\u001b[0m\u001b[0;34m:\u001b[0m\u001b[0;34m\u001b[0m\u001b[0;34m\u001b[0m\u001b[0m\n\u001b[0;32m--> 978\u001b[0;31m                 result = self._connector.auto_run(cypher, parameters,\n\u001b[0m\u001b[1;32m    979\u001b[0m                                                   \u001b[0mgraph_name\u001b[0m\u001b[0;34m=\u001b[0m\u001b[0mself\u001b[0m\u001b[0;34m.\u001b[0m\u001b[0mgraph\u001b[0m\u001b[0;34m.\u001b[0m\u001b[0mname\u001b[0m\u001b[0;34m,\u001b[0m\u001b[0;34m\u001b[0m\u001b[0;34m\u001b[0m\u001b[0m\n\u001b[1;32m    980\u001b[0m                                                   readonly=self.readonly)\n",
      "\u001b[0;32m/opt/conda/lib/python3.9/site-packages/py2neo/client/__init__.py\u001b[0m in \u001b[0;36mauto_run\u001b[0;34m(self, cypher, parameters, pull, graph_name, readonly)\u001b[0m\n\u001b[1;32m   1329\u001b[0m             \u001b[0;32mif\u001b[0m \u001b[0mpull\u001b[0m \u001b[0;34m!=\u001b[0m \u001b[0;36m0\u001b[0m\u001b[0;34m:\u001b[0m\u001b[0;34m\u001b[0m\u001b[0;34m\u001b[0m\u001b[0m\n\u001b[1;32m   1330\u001b[0m                 \u001b[0;32mtry\u001b[0m\u001b[0;34m:\u001b[0m\u001b[0;34m\u001b[0m\u001b[0;34m\u001b[0m\u001b[0m\n\u001b[0;32m-> 1331\u001b[0;31m                     \u001b[0mcx\u001b[0m\u001b[0;34m.\u001b[0m\u001b[0mpull\u001b[0m\u001b[0;34m(\u001b[0m\u001b[0mresult\u001b[0m\u001b[0;34m,\u001b[0m \u001b[0mn\u001b[0m\u001b[0;34m=\u001b[0m\u001b[0mpull\u001b[0m\u001b[0;34m)\u001b[0m\u001b[0;34m\u001b[0m\u001b[0;34m\u001b[0m\u001b[0m\n\u001b[0m\u001b[1;32m   1332\u001b[0m                 \u001b[0;32mexcept\u001b[0m \u001b[0mTypeError\u001b[0m\u001b[0;34m:\u001b[0m\u001b[0;34m\u001b[0m\u001b[0;34m\u001b[0m\u001b[0m\n\u001b[1;32m   1333\u001b[0m                     \u001b[0;31m# If the RUN fails, so will the PULL, due to\u001b[0m\u001b[0;34m\u001b[0m\u001b[0;34m\u001b[0m\u001b[0;34m\u001b[0m\u001b[0m\n",
      "\u001b[0;32m/opt/conda/lib/python3.9/site-packages/py2neo/client/bolt.py\u001b[0m in \u001b[0;36mpull\u001b[0;34m(self, result, n, capacity)\u001b[0m\n\u001b[1;32m    948\u001b[0m                                         \"during pull\"), error)\n\u001b[1;32m    949\u001b[0m         \u001b[0;32melse\u001b[0m\u001b[0;34m:\u001b[0m\u001b[0;34m\u001b[0m\u001b[0;34m\u001b[0m\u001b[0m\n\u001b[0;32m--> 950\u001b[0;31m             \u001b[0mself\u001b[0m\u001b[0;34m.\u001b[0m\u001b[0m_audit\u001b[0m\u001b[0;34m(\u001b[0m\u001b[0mself\u001b[0m\u001b[0;34m.\u001b[0m\u001b[0m_transaction\u001b[0m\u001b[0;34m)\u001b[0m\u001b[0;34m\u001b[0m\u001b[0;34m\u001b[0m\u001b[0m\n\u001b[0m\u001b[1;32m    951\u001b[0m             \u001b[0;32mreturn\u001b[0m \u001b[0mresponse\u001b[0m\u001b[0;34m\u001b[0m\u001b[0;34m\u001b[0m\u001b[0m\n\u001b[1;32m    952\u001b[0m \u001b[0;34m\u001b[0m\u001b[0m\n",
      "\u001b[0;32m/opt/conda/lib/python3.9/site-packages/py2neo/client/bolt.py\u001b[0m in \u001b[0;36m_audit\u001b[0;34m(self, task)\u001b[0m\n\u001b[1;32m    757\u001b[0m             \u001b[0;32mreturn\u001b[0m\u001b[0;34m\u001b[0m\u001b[0;34m\u001b[0m\u001b[0m\n\u001b[1;32m    758\u001b[0m         \u001b[0;32mtry\u001b[0m\u001b[0;34m:\u001b[0m\u001b[0;34m\u001b[0m\u001b[0;34m\u001b[0m\u001b[0m\n\u001b[0;32m--> 759\u001b[0;31m             \u001b[0mtask\u001b[0m\u001b[0;34m.\u001b[0m\u001b[0maudit\u001b[0m\u001b[0;34m(\u001b[0m\u001b[0;34m)\u001b[0m\u001b[0;34m\u001b[0m\u001b[0;34m\u001b[0m\u001b[0m\n\u001b[0m\u001b[1;32m    760\u001b[0m         \u001b[0;32mexcept\u001b[0m \u001b[0mNeo4jError\u001b[0m\u001b[0;34m:\u001b[0m\u001b[0;34m\u001b[0m\u001b[0;34m\u001b[0m\u001b[0m\n\u001b[1;32m    761\u001b[0m             \u001b[0mself\u001b[0m\u001b[0;34m.\u001b[0m\u001b[0mreset\u001b[0m\u001b[0;34m(\u001b[0m\u001b[0mforce\u001b[0m\u001b[0;34m=\u001b[0m\u001b[0;32mTrue\u001b[0m\u001b[0;34m)\u001b[0m\u001b[0;34m\u001b[0m\u001b[0;34m\u001b[0m\u001b[0m\n",
      "\u001b[0;32m/opt/conda/lib/python3.9/site-packages/py2neo/client/bolt.py\u001b[0m in \u001b[0;36maudit\u001b[0;34m(self)\u001b[0m\n\u001b[1;32m   1099\u001b[0m     \u001b[0;32mdef\u001b[0m \u001b[0maudit\u001b[0m\u001b[0;34m(\u001b[0m\u001b[0mself\u001b[0m\u001b[0;34m)\u001b[0m\u001b[0;34m:\u001b[0m\u001b[0;34m\u001b[0m\u001b[0;34m\u001b[0m\u001b[0m\n\u001b[1;32m   1100\u001b[0m         \u001b[0;32mfor\u001b[0m \u001b[0mitem\u001b[0m \u001b[0;32min\u001b[0m \u001b[0mself\u001b[0m\u001b[0;34m.\u001b[0m\u001b[0m_items\u001b[0m\u001b[0;34m:\u001b[0m\u001b[0;34m\u001b[0m\u001b[0;34m\u001b[0m\u001b[0m\n\u001b[0;32m-> 1101\u001b[0;31m             \u001b[0mitem\u001b[0m\u001b[0;34m.\u001b[0m\u001b[0maudit\u001b[0m\u001b[0;34m(\u001b[0m\u001b[0;34m)\u001b[0m\u001b[0;34m\u001b[0m\u001b[0;34m\u001b[0m\u001b[0m\n\u001b[0m\u001b[1;32m   1102\u001b[0m \u001b[0;34m\u001b[0m\u001b[0m\n\u001b[1;32m   1103\u001b[0m \u001b[0;34m\u001b[0m\u001b[0m\n",
      "\u001b[0;32m/opt/conda/lib/python3.9/site-packages/py2neo/client/bolt.py\u001b[0m in \u001b[0;36maudit\u001b[0;34m(self)\u001b[0m\n\u001b[1;32m   1099\u001b[0m     \u001b[0;32mdef\u001b[0m \u001b[0maudit\u001b[0m\u001b[0;34m(\u001b[0m\u001b[0mself\u001b[0m\u001b[0;34m)\u001b[0m\u001b[0;34m:\u001b[0m\u001b[0;34m\u001b[0m\u001b[0;34m\u001b[0m\u001b[0m\n\u001b[1;32m   1100\u001b[0m         \u001b[0;32mfor\u001b[0m \u001b[0mitem\u001b[0m \u001b[0;32min\u001b[0m \u001b[0mself\u001b[0m\u001b[0;34m.\u001b[0m\u001b[0m_items\u001b[0m\u001b[0;34m:\u001b[0m\u001b[0;34m\u001b[0m\u001b[0;34m\u001b[0m\u001b[0m\n\u001b[0;32m-> 1101\u001b[0;31m             \u001b[0mitem\u001b[0m\u001b[0;34m.\u001b[0m\u001b[0maudit\u001b[0m\u001b[0;34m(\u001b[0m\u001b[0;34m)\u001b[0m\u001b[0;34m\u001b[0m\u001b[0;34m\u001b[0m\u001b[0m\n\u001b[0m\u001b[1;32m   1102\u001b[0m \u001b[0;34m\u001b[0m\u001b[0m\n\u001b[1;32m   1103\u001b[0m \u001b[0;34m\u001b[0m\u001b[0m\n",
      "\u001b[0;32m/opt/conda/lib/python3.9/site-packages/py2neo/client/bolt.py\u001b[0m in \u001b[0;36maudit\u001b[0;34m(self)\u001b[0m\n\u001b[1;32m   1262\u001b[0m         \u001b[0;32mif\u001b[0m \u001b[0mself\u001b[0m\u001b[0;34m.\u001b[0m\u001b[0m_failure\u001b[0m\u001b[0;34m:\u001b[0m\u001b[0;34m\u001b[0m\u001b[0;34m\u001b[0m\u001b[0m\n\u001b[1;32m   1263\u001b[0m             \u001b[0mself\u001b[0m\u001b[0;34m.\u001b[0m\u001b[0mset_ignored\u001b[0m\u001b[0;34m(\u001b[0m\u001b[0;34m)\u001b[0m\u001b[0;34m\u001b[0m\u001b[0;34m\u001b[0m\u001b[0m\n\u001b[0;32m-> 1264\u001b[0;31m             \u001b[0;32mraise\u001b[0m \u001b[0mself\u001b[0m\u001b[0;34m.\u001b[0m\u001b[0m_failure\u001b[0m\u001b[0;34m\u001b[0m\u001b[0;34m\u001b[0m\u001b[0m\n\u001b[0m\u001b[1;32m   1265\u001b[0m \u001b[0;34m\u001b[0m\u001b[0m\n\u001b[1;32m   1266\u001b[0m     \u001b[0;34m@\u001b[0m\u001b[0mproperty\u001b[0m\u001b[0;34m\u001b[0m\u001b[0;34m\u001b[0m\u001b[0m\n",
      "\u001b[0;31mClientError\u001b[0m: [Schema.EquivalentSchemaRuleAlreadyExists] An equivalent index already exists, 'Index( id=33, name='family_identifiers', type='GENERAL FULLTEXT', schema=(:Family {_identifiers}), indexProvider='fulltext-1.0' )'."
     ]
    }
   ],
   "source": [
    "# identifiers\n",
    "\n",
    "cy = '''\n",
    "CREATE FULLTEXT INDEX family_identifiers \n",
    "FOR (m:Family) \n",
    "ON EACH [m._identifiers]\n",
    "'''\n",
    "graph.run(cy)"
   ]
  },
  {
   "cell_type": "code",
   "execution_count": 20,
   "metadata": {},
   "outputs": [
    {
     "data": {
      "text/plain": [
       "(No data)"
      ]
     },
     "execution_count": 20,
     "metadata": {},
     "output_type": "execute_result"
    }
   ],
   "source": [
    "# plant parts\n",
    "\n",
    "cy = '''\n",
    "CREATE FULLTEXT INDEX plant_all \n",
    "FOR (m:Plant) \n",
    "ON EACH [    \n",
    "    m.name, \n",
    "    m._synonyms, \n",
    "    m.description, \n",
    "    m.additional_information,    \n",
    "    m._external_links,\n",
    "    m._identifiers\n",
    "    ]\n",
    "'''\n",
    "graph.run(cy)"
   ]
  },
  {
   "cell_type": "code",
   "execution_count": 21,
   "metadata": {},
   "outputs": [
    {
     "data": {
      "text/plain": [
       "(No data)"
      ]
     },
     "execution_count": 21,
     "metadata": {},
     "output_type": "execute_result"
    }
   ],
   "source": [
    "# everything \n",
    "cy = '''\n",
    "MATCH (n)\n",
    "SET n :Node\n",
    "'''\n",
    "graph.run(cy)\n",
    "\n",
    "cy = '''\n",
    "CREATE FULLTEXT INDEX general_text \n",
    "FOR (m:Node)\n",
    "ON EACH [    \n",
    "    m.name, \n",
    "    m._synonyms, \n",
    "    m.description, \n",
    "    m.additional_information,\n",
    "    m._external_links,\n",
    "    m._identifiers\n",
    "    ]\n",
    "'''\n",
    "graph.run(cy)"
   ]
  },
  {
   "cell_type": "markdown",
   "metadata": {},
   "source": [
    "## Data Science graph"
   ]
  },
  {
   "cell_type": "code",
   "execution_count": 28,
   "metadata": {},
   "outputs": [
    {
     "data": {
      "text/plain": [
       " graphName       | nodeCount | relationshipCount | createMillis \n",
       "-----------------|-----------|-------------------|--------------\n",
       " reaction-graph1 |       872 |              1176 |           46 "
      ]
     },
     "execution_count": 28,
     "metadata": {},
     "output_type": "execute_result"
    }
   ],
   "source": [
    "cy = '''\n",
    "CALL gds.graph.create.cypher(\n",
    "    'reaction-graph1',\n",
    "    'MATCH (n) WHERE NOT n:Family RETURN id(n) AS id',\n",
    "    'MATCH (a)-[r]->(b) WHERE EXISTS(r.reaction_type) RETURN id(a) AS source, id(b) AS target'\n",
    ")\n",
    "YIELD graphName, nodeCount, relationshipCount, createMillis;\n",
    "'''\n",
    "graph.run(cy)"
   ]
  },
  {
   "cell_type": "code",
   "execution_count": 30,
   "metadata": {},
   "outputs": [
    {
     "data": {
      "text/html": [
       "<div>\n",
       "<style scoped>\n",
       "    .dataframe tbody tr th:only-of-type {\n",
       "        vertical-align: middle;\n",
       "    }\n",
       "\n",
       "    .dataframe tbody tr th {\n",
       "        vertical-align: top;\n",
       "    }\n",
       "\n",
       "    .dataframe thead th {\n",
       "        text-align: right;\n",
       "    }\n",
       "</style>\n",
       "<table border=\"1\" class=\"dataframe\">\n",
       "  <thead>\n",
       "    <tr style=\"text-align: right;\">\n",
       "      <th></th>\n",
       "      <th>componentId</th>\n",
       "      <th>componentSize</th>\n",
       "    </tr>\n",
       "  </thead>\n",
       "  <tbody>\n",
       "    <tr>\n",
       "      <th>0</th>\n",
       "      <td>0</td>\n",
       "      <td>726</td>\n",
       "    </tr>\n",
       "    <tr>\n",
       "      <th>1</th>\n",
       "      <td>3</td>\n",
       "      <td>13</td>\n",
       "    </tr>\n",
       "    <tr>\n",
       "      <th>2</th>\n",
       "      <td>49</td>\n",
       "      <td>1</td>\n",
       "    </tr>\n",
       "    <tr>\n",
       "      <th>3</th>\n",
       "      <td>59</td>\n",
       "      <td>1</td>\n",
       "    </tr>\n",
       "    <tr>\n",
       "      <th>4</th>\n",
       "      <td>63</td>\n",
       "      <td>1</td>\n",
       "    </tr>\n",
       "    <tr>\n",
       "      <th>5</th>\n",
       "      <td>65</td>\n",
       "      <td>1</td>\n",
       "    </tr>\n",
       "    <tr>\n",
       "      <th>6</th>\n",
       "      <td>66</td>\n",
       "      <td>1</td>\n",
       "    </tr>\n",
       "    <tr>\n",
       "      <th>7</th>\n",
       "      <td>71</td>\n",
       "      <td>1</td>\n",
       "    </tr>\n",
       "    <tr>\n",
       "      <th>8</th>\n",
       "      <td>74</td>\n",
       "      <td>1</td>\n",
       "    </tr>\n",
       "    <tr>\n",
       "      <th>9</th>\n",
       "      <td>77</td>\n",
       "      <td>1</td>\n",
       "    </tr>\n",
       "    <tr>\n",
       "      <th>10</th>\n",
       "      <td>107</td>\n",
       "      <td>1</td>\n",
       "    </tr>\n",
       "    <tr>\n",
       "      <th>11</th>\n",
       "      <td>110</td>\n",
       "      <td>1</td>\n",
       "    </tr>\n",
       "    <tr>\n",
       "      <th>12</th>\n",
       "      <td>111</td>\n",
       "      <td>1</td>\n",
       "    </tr>\n",
       "    <tr>\n",
       "      <th>13</th>\n",
       "      <td>112</td>\n",
       "      <td>1</td>\n",
       "    </tr>\n",
       "    <tr>\n",
       "      <th>14</th>\n",
       "      <td>116</td>\n",
       "      <td>1</td>\n",
       "    </tr>\n",
       "    <tr>\n",
       "      <th>15</th>\n",
       "      <td>118</td>\n",
       "      <td>1</td>\n",
       "    </tr>\n",
       "    <tr>\n",
       "      <th>16</th>\n",
       "      <td>119</td>\n",
       "      <td>1</td>\n",
       "    </tr>\n",
       "    <tr>\n",
       "      <th>17</th>\n",
       "      <td>120</td>\n",
       "      <td>1</td>\n",
       "    </tr>\n",
       "    <tr>\n",
       "      <th>18</th>\n",
       "      <td>122</td>\n",
       "      <td>8</td>\n",
       "    </tr>\n",
       "    <tr>\n",
       "      <th>19</th>\n",
       "      <td>124</td>\n",
       "      <td>1</td>\n",
       "    </tr>\n",
       "    <tr>\n",
       "      <th>20</th>\n",
       "      <td>125</td>\n",
       "      <td>1</td>\n",
       "    </tr>\n",
       "    <tr>\n",
       "      <th>21</th>\n",
       "      <td>126</td>\n",
       "      <td>1</td>\n",
       "    </tr>\n",
       "    <tr>\n",
       "      <th>22</th>\n",
       "      <td>128</td>\n",
       "      <td>1</td>\n",
       "    </tr>\n",
       "    <tr>\n",
       "      <th>23</th>\n",
       "      <td>129</td>\n",
       "      <td>16</td>\n",
       "    </tr>\n",
       "    <tr>\n",
       "      <th>24</th>\n",
       "      <td>130</td>\n",
       "      <td>1</td>\n",
       "    </tr>\n",
       "    <tr>\n",
       "      <th>25</th>\n",
       "      <td>132</td>\n",
       "      <td>1</td>\n",
       "    </tr>\n",
       "    <tr>\n",
       "      <th>26</th>\n",
       "      <td>133</td>\n",
       "      <td>3</td>\n",
       "    </tr>\n",
       "    <tr>\n",
       "      <th>27</th>\n",
       "      <td>137</td>\n",
       "      <td>1</td>\n",
       "    </tr>\n",
       "    <tr>\n",
       "      <th>28</th>\n",
       "      <td>143</td>\n",
       "      <td>10</td>\n",
       "    </tr>\n",
       "    <tr>\n",
       "      <th>29</th>\n",
       "      <td>171</td>\n",
       "      <td>7</td>\n",
       "    </tr>\n",
       "    <tr>\n",
       "      <th>30</th>\n",
       "      <td>197</td>\n",
       "      <td>9</td>\n",
       "    </tr>\n",
       "    <tr>\n",
       "      <th>31</th>\n",
       "      <td>234</td>\n",
       "      <td>11</td>\n",
       "    </tr>\n",
       "    <tr>\n",
       "      <th>32</th>\n",
       "      <td>240</td>\n",
       "      <td>13</td>\n",
       "    </tr>\n",
       "    <tr>\n",
       "      <th>33</th>\n",
       "      <td>256</td>\n",
       "      <td>5</td>\n",
       "    </tr>\n",
       "    <tr>\n",
       "      <th>34</th>\n",
       "      <td>257</td>\n",
       "      <td>14</td>\n",
       "    </tr>\n",
       "    <tr>\n",
       "      <th>35</th>\n",
       "      <td>292</td>\n",
       "      <td>7</td>\n",
       "    </tr>\n",
       "    <tr>\n",
       "      <th>36</th>\n",
       "      <td>295</td>\n",
       "      <td>3</td>\n",
       "    </tr>\n",
       "    <tr>\n",
       "      <th>37</th>\n",
       "      <td>304</td>\n",
       "      <td>4</td>\n",
       "    </tr>\n",
       "  </tbody>\n",
       "</table>\n",
       "</div>"
      ],
      "text/plain": [
       "    componentId  componentSize\n",
       "0             0            726\n",
       "1             3             13\n",
       "2            49              1\n",
       "3            59              1\n",
       "4            63              1\n",
       "5            65              1\n",
       "6            66              1\n",
       "7            71              1\n",
       "8            74              1\n",
       "9            77              1\n",
       "10          107              1\n",
       "11          110              1\n",
       "12          111              1\n",
       "13          112              1\n",
       "14          116              1\n",
       "15          118              1\n",
       "16          119              1\n",
       "17          120              1\n",
       "18          122              8\n",
       "19          124              1\n",
       "20          125              1\n",
       "21          126              1\n",
       "22          128              1\n",
       "23          129             16\n",
       "24          130              1\n",
       "25          132              1\n",
       "26          133              3\n",
       "27          137              1\n",
       "28          143             10\n",
       "29          171              7\n",
       "30          197              9\n",
       "31          234             11\n",
       "32          240             13\n",
       "33          256              5\n",
       "34          257             14\n",
       "35          292              7\n",
       "36          295              3\n",
       "37          304              4"
      ]
     },
     "execution_count": 30,
     "metadata": {},
     "output_type": "execute_result"
    }
   ],
   "source": [
    "# check connected components\n",
    "\n",
    "cy = '''\n",
    "CALL gds.wcc.stream('reaction-graph1')\n",
    "YIELD nodeId, componentId\n",
    "WITH componentId, count(*) AS componentSize\n",
    "RETURN componentId, componentSize ORDER BY componentId\n",
    "'''\n",
    "data = graph.run(cy).data()\n",
    "cc_sizes = pd.DataFrame(data)\n",
    "cc_sizes"
   ]
  },
  {
   "cell_type": "code",
   "execution_count": 32,
   "metadata": {},
   "outputs": [
    {
     "data": {
      "text/html": [
       "<div>\n",
       "<style scoped>\n",
       "    .dataframe tbody tr th:only-of-type {\n",
       "        vertical-align: middle;\n",
       "    }\n",
       "\n",
       "    .dataframe tbody tr th {\n",
       "        vertical-align: top;\n",
       "    }\n",
       "\n",
       "    .dataframe thead th {\n",
       "        text-align: right;\n",
       "    }\n",
       "</style>\n",
       "<table border=\"1\" class=\"dataframe\">\n",
       "  <thead>\n",
       "    <tr style=\"text-align: right;\">\n",
       "      <th></th>\n",
       "      <th>name</th>\n",
       "      <th>componentId</th>\n",
       "    </tr>\n",
       "  </thead>\n",
       "  <tbody>\n",
       "    <tr>\n",
       "      <th>0</th>\n",
       "      <td>12,13-EOT</td>\n",
       "      <td>0</td>\n",
       "    </tr>\n",
       "    <tr>\n",
       "      <th>1</th>\n",
       "      <td>12-OH-JA-Ile</td>\n",
       "      <td>0</td>\n",
       "    </tr>\n",
       "    <tr>\n",
       "      <th>2</th>\n",
       "      <td>13-HPOT</td>\n",
       "      <td>0</td>\n",
       "    </tr>\n",
       "    <tr>\n",
       "      <th>3</th>\n",
       "      <td>AAO[AT1G04580,AT2G27150,AT3G43600,AT4G34890,AT...</td>\n",
       "      <td>0</td>\n",
       "    </tr>\n",
       "    <tr>\n",
       "      <th>4</th>\n",
       "      <td>ACC</td>\n",
       "      <td>0</td>\n",
       "    </tr>\n",
       "    <tr>\n",
       "      <th>...</th>\n",
       "      <td>...</td>\n",
       "      <td>...</td>\n",
       "    </tr>\n",
       "    <tr>\n",
       "      <th>867</th>\n",
       "      <td>rx00306</td>\n",
       "      <td>295</td>\n",
       "    </tr>\n",
       "    <tr>\n",
       "      <th>868</th>\n",
       "      <td>NDR1[AT3G20600]</td>\n",
       "      <td>304</td>\n",
       "    </tr>\n",
       "    <tr>\n",
       "      <th>869</th>\n",
       "      <td>NDR1|RIN4</td>\n",
       "      <td>304</td>\n",
       "    </tr>\n",
       "    <tr>\n",
       "      <th>870</th>\n",
       "      <td>RIN4[AT3G25070]</td>\n",
       "      <td>304</td>\n",
       "    </tr>\n",
       "    <tr>\n",
       "      <th>871</th>\n",
       "      <td>rx00055</td>\n",
       "      <td>304</td>\n",
       "    </tr>\n",
       "  </tbody>\n",
       "</table>\n",
       "<p>872 rows × 2 columns</p>\n",
       "</div>"
      ],
      "text/plain": [
       "                                                  name  componentId\n",
       "0                                            12,13-EOT            0\n",
       "1                                         12-OH-JA-Ile            0\n",
       "2                                              13-HPOT            0\n",
       "3    AAO[AT1G04580,AT2G27150,AT3G43600,AT4G34890,AT...            0\n",
       "4                                                  ACC            0\n",
       "..                                                 ...          ...\n",
       "867                                            rx00306          295\n",
       "868                                    NDR1[AT3G20600]          304\n",
       "869                                          NDR1|RIN4          304\n",
       "870                                    RIN4[AT3G25070]          304\n",
       "871                                            rx00055          304\n",
       "\n",
       "[872 rows x 2 columns]"
      ]
     },
     "execution_count": 32,
     "metadata": {},
     "output_type": "execute_result"
    }
   ],
   "source": [
    "cy = '''\n",
    "CALL gds.wcc.stream('reaction-graph1')\n",
    "YIELD nodeId, componentId\n",
    "RETURN gds.util.asNode(nodeId).name AS name, componentId\n",
    "ORDER BY componentId, name\n",
    "'''\n",
    "data = graph.run(cy).data()\n",
    "cc_nodes = pd.DataFrame(data)\n",
    "cc_nodes"
   ]
  },
  {
   "cell_type": "code",
   "execution_count": 33,
   "metadata": {},
   "outputs": [
    {
     "name": "stdout",
     "output_type": "stream",
     "text": [
      "3\t13\t9-cis-&beta;-carotene, 9-cis-10&prime;-apo-&beta;-carotenal, CCD7[AT2G44990], CCD8[AT4G32810], CL, CLA, D27[OS11G0587000], MAX1[AT2G26170], all-trans-&beta;-carotene, rx00314, rx00315, rx00316, rx00317\n",
      "49\t1\tNADPH\n",
      "59\t1\tH2O\n",
      "63\t1\tHO2.\n",
      "65\t1\tO3\n",
      "66\t1\tOH.\n",
      "71\t1\tSL\n",
      "74\t1\tUDP glucose\n",
      "77\t1\tanthocyanin\n",
      "107\t1\ttZRP\n",
      "110\t1\tDAMP/HAMP\n",
      "111\t1\tPostROS\n",
      "112\t1\tPreROS\n",
      "116\t1\telf18\n",
      "118\t1\tch\n",
      "119\t1\t6K1\n",
      "120\t1\t6K2\n",
      "122\t8\tCP, CPIP1,2b[AT1G10350], CPIP2a[AT3G08910], CP|CPIP1,2b, CP|CPIP2a, rx00201, rx00202, rx00203\n",
      "124\t1\tNIa-Pro\n",
      "125\t1\tNIb\n",
      "126\t1\tP1\n",
      "128\t1\tP3N-PIPO\n",
      "129\t16\tCO[AT5G15840], CO|OBE1, OBE1[AT3G07780], OBE1|VPg, OBE1|WRKY11, OBE1|WRKY17, RH8[AT4G00660], RH8|VPg, VPg, WRKY11[AT4G31550], WRKY17[AT2G24570], rx00226, rx00227, rx00229, rx00230, rx00231\n",
      "130\t1\toomycete\n",
      "132\t1\ttrichous-bacteria\n",
      "133\t3\tARF2[AT5G62000], AUX-signalling, rx00121\n",
      "137\t1\tROS-production\n",
      "143\t10\tGPAphid2[GPAphid2], GPAphid2|RANGAP, RANGAP[AT3G63130,AT5G19320], RANGAP|Rx1, RANGAP|Rx2, Rx1[Rx1], Rx2[Rx2], rx00057, rx00058, rx00059\n",
      "171\t7\tARF3[AT2G33860], ARF4[AT5G60450], MIR390[AT2G38325,AT5G58465], TAS3[AT3G17185,AT5G49615], rx00111, rx00112, rx00113\n",
      "197\t9\tCPK11[AT1G35670], CPK1[AT5G04870], CPK2[AT3G10660], CPK4[AT4G09570], RBOHD[AT5G47910], rx00174, rx00175, rx00176, rx00177\n",
      "234\t11\tESP[AT1G54040], ESP|WRKY53, MAPKKK8[AT4G08500], UPL5[AT4G12570], WRKY30[AT5G24110], WRKY30|WRKY53, WRKY53[AT4G23810], rx00122, rx00123, rx00124, rx00125\n",
      "240\t13\tGA20ox.x3[SOTUB09G017710.1.1], GA20ox.x5[SOTUB10G011620.1.1], GA20ox1[AT4G25420,SOLYC03G006880.3.1,SOTUB03G007160.1.1], GA20ox3[AT5G07200,SOLYC11G072310.2.1,SOTUB11G029030.1.1], GA20ox4[AT1G60980,SOLYC01G093980.3.1,SOTUB01G031210.1.1], miR167e-3p[miR167e-3p], rx00276, rx00277, rx00278, rx00279, rx00280, rx00281, vsiRNA12986[vsiRNA12986]\n",
      "256\t5\tHSP90[AT2G04030,AT3G07770,AT4G24190,AT5G52640,AT5G56000,AT5G56010,AT5G56030], HSP90|RAR1|SGT1, RAR1[AT5G51700], SGT1[AT4G11260,AT4G23570], rx00053\n",
      "257\t14\tIAA29[AT4G32280], IAA29|WRKY57, JAZ4[AT1G48500], JAZ4|WRKY57, JAZ8[AT1G30135], JAZ8|WRKY57, SAG12[AT5G45890], SEN4[AT4G30270], WRKY57[AT1G69310], rx00126, rx00127, rx00128, rx00129, rx00130\n",
      "292\t7\tMYB33[AT5G06100], miR159a[miR159a], miR319a-3p[miR319a-3p], miR6022[miR6022-3p], rx00305, rx00307, rx00308\n",
      "295\t3\tMYB65[AT3G11440], miR159b[miR159b], rx00306\n",
      "304\t4\tNDR1[AT3G20600], NDR1|RIN4, RIN4[AT3G25070], rx00055\n"
     ]
    }
   ],
   "source": [
    "for componentID, subdf in cc_nodes.groupby('componentId'):\n",
    "    print(\"compponentID\")\n",
    "    if subdf.shape[0] < cc_sizes['componentSize'].max():\n",
    "        print(f'{componentID}\\t{subdf.shape[0]}\\t{\", \".join(list(subdf[\"name\"].values))}')"
   ]
  },
  {
   "cell_type": "markdown",
   "metadata": {},
   "source": [
    "# END "
   ]
  },
  {
   "cell_type": "code",
   "execution_count": null,
   "metadata": {},
   "outputs": [],
   "source": []
  }
 ],
 "metadata": {
  "kernelspec": {
   "display_name": "Python 3",
   "language": "python",
   "name": "python3"
  },
  "language_info": {
   "codemirror_mode": {
    "name": "ipython",
    "version": 3
   },
   "file_extension": ".py",
   "mimetype": "text/x-python",
   "name": "python",
   "nbconvert_exporter": "python",
   "pygments_lexer": "ipython3",
   "version": "3.9.2"
  }
 },
 "nbformat": 4,
 "nbformat_minor": 2
}
