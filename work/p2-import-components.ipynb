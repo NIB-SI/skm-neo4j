{
 "cells": [
  {
   "cell_type": "code",
   "execution_count": 1,
   "metadata": {},
   "outputs": [
    {
     "data": {
      "text/html": [
       "<style>.container { width:80% !important; }</style>"
      ],
      "text/plain": [
       "<IPython.core.display.HTML object>"
      ]
     },
     "metadata": {},
     "output_type": "display_data"
    }
   ],
   "source": [
    "from IPython.core.display import display, HTML\n",
    "display(HTML(\"<style>.container { width:80% !important; }</style>\"))"
   ]
  },
  {
   "cell_type": "markdown",
   "metadata": {},
   "source": [
    "# Import neo4j DB: 2/4\n",
    "\n",
    "Code to translate v2.7.4_PIS-model.xlsx to neo4j database. "
   ]
  },
  {
   "cell_type": "markdown",
   "metadata": {},
   "source": [
    "## Setup"
   ]
  },
  {
   "cell_type": "code",
   "execution_count": 2,
   "metadata": {},
   "outputs": [],
   "source": [
    "import pandas as pd\n",
    "import re\n",
    "import numpy as np\n",
    "import os\n",
    "from IPython.display import Image, display"
   ]
  },
  {
   "cell_type": "code",
   "execution_count": 3,
   "metadata": {},
   "outputs": [],
   "source": [
    "from py2neo import Graph, Node, Relationship"
   ]
  },
  {
   "cell_type": "code",
   "execution_count": 4,
   "metadata": {},
   "outputs": [],
   "source": [
    "import helpers"
   ]
  },
  {
   "cell_type": "code",
   "execution_count": 5,
   "metadata": {},
   "outputs": [],
   "source": [
    "from importlib import reload"
   ]
  },
  {
   "cell_type": "markdown",
   "metadata": {},
   "source": [
    "Connect to graph via docker-compose link. See http://localhost:7474/browser/"
   ]
  },
  {
   "cell_type": "code",
   "execution_count": 6,
   "metadata": {},
   "outputs": [],
   "source": [
    "graph = Graph(host=\"neo4j\")"
   ]
  },
  {
   "cell_type": "code",
   "execution_count": 7,
   "metadata": {},
   "outputs": [],
   "source": [
    "q = graph.run(\"MATCH (n) RETURN n LIMIT 10\")"
   ]
  },
  {
   "cell_type": "code",
   "execution_count": 8,
   "metadata": {},
   "outputs": [
    {
     "data": {
      "text/plain": [
       "constraints_added: 0\n",
       "constraints_removed: 0\n",
       "contains_updates: False\n",
       "indexes_added: 0\n",
       "indexes_removed: 0\n",
       "labels_added: 0\n",
       "labels_removed: 0\n",
       "nodes_created: 0\n",
       "nodes_deleted: 0\n",
       "properties_set: 0\n",
       "relationships_created: 0\n",
       "relationships_deleted: 0"
      ]
     },
     "execution_count": 8,
     "metadata": {},
     "output_type": "execute_result"
    }
   ],
   "source": [
    "q.stats()"
   ]
  },
  {
   "cell_type": "code",
   "execution_count": 9,
   "metadata": {},
   "outputs": [],
   "source": [
    "node_labels = helpers.node_labels"
   ]
  },
  {
   "cell_type": "code",
   "execution_count": 10,
   "metadata": {},
   "outputs": [],
   "source": [
    "from pathlib import Path\n",
    "\n",
    "base_path = Path(\"..\")\n",
    "parsed_path = base_path / \"data\" / \"parsed\""
   ]
  },
  {
   "cell_type": "code",
   "execution_count": 11,
   "metadata": {},
   "outputs": [],
   "source": [
    "# start from scratch\n",
    "graph.delete_all()\n",
    "\n",
    "for l in node_labels:\n",
    "    try:\n",
    "        graph.schema.drop_uniqueness_constraint(l, \"name\")\n",
    "    except:\n",
    "        pass    "
   ]
  },
  {
   "cell_type": "markdown",
   "metadata": {},
   "source": [
    "## Constraints on node names\n",
    "\n",
    "Constraint automatically adds an index. "
   ]
  },
  {
   "cell_type": "code",
   "execution_count": 12,
   "metadata": {
    "scrolled": true
   },
   "outputs": [
    {
     "name": "stdout",
     "output_type": "stream",
     "text": [
      "PlantCoding 1\n",
      "PlantNonCoding 1\n",
      "PlantAbstract 1\n",
      "Complex 1\n",
      "ExternalEntity 1\n",
      "ExternalCoding 1\n",
      "ExternalNonCoding 1\n",
      "ExternalAbstract 1\n",
      "Process 1\n",
      "MetaboliteFamily 1\n",
      "Metabolite 1\n",
      "PseudoNode 1\n"
     ]
    }
   ],
   "source": [
    "for label in node_labels:\n",
    "    q = f'''CREATE CONSTRAINT unique_name_{label.lower()}\n",
    "        ON (node:{label}) ASSERT node.name IS UNIQUE'''\n",
    "    qr = graph.run(q)\n",
    "    print(label, qr.stats()['constraints_added'])   "
   ]
  },
  {
   "cell_type": "markdown",
   "metadata": {},
   "source": [
    "## Read in"
   ]
  },
  {
   "cell_type": "code",
   "execution_count": 13,
   "metadata": {},
   "outputs": [],
   "source": [
    "path =  parsed_path / \"components.tsv\"\n",
    "df_components = pd.read_csv(path, sep=\"\\t\")"
   ]
  },
  {
   "cell_type": "markdown",
   "metadata": {},
   "source": [
    "## metabolites"
   ]
  },
  {
   "cell_type": "code",
   "execution_count": 14,
   "metadata": {},
   "outputs": [],
   "source": [
    "label = 'Metabolite'\n",
    "df_metabolites = df_components[df_components['NodeLabel'] == label].copy()"
   ]
  },
  {
   "cell_type": "code",
   "execution_count": 15,
   "metadata": {},
   "outputs": [
    {
     "data": {
      "text/plain": [
       "Index(['identifier', 'AddedBy', 'species', 'NodeLabel', 'NodeType', 'Family',\n",
       "       'Clade', 'NodeID', 'NodeName', 'external_links', 'NodeDescription',\n",
       "       'AdditionalInfo', 'Process', 'ModelV', 'ModelStatus', 'gmm_ocd',\n",
       "       'GMM_Description', 'GMM_ShortName', 'synonyms'],\n",
       "      dtype='object')"
      ]
     },
     "execution_count": 15,
     "metadata": {},
     "output_type": "execute_result"
    }
   ],
   "source": [
    "df_metabolites.columns"
   ]
  },
  {
   "cell_type": "code",
   "execution_count": 16,
   "metadata": {},
   "outputs": [
    {
     "data": {
      "text/html": [
       "<div>\n",
       "<style scoped>\n",
       "    .dataframe tbody tr th:only-of-type {\n",
       "        vertical-align: middle;\n",
       "    }\n",
       "\n",
       "    .dataframe tbody tr th {\n",
       "        vertical-align: top;\n",
       "    }\n",
       "\n",
       "    .dataframe thead th {\n",
       "        text-align: right;\n",
       "    }\n",
       "</style>\n",
       "<table border=\"1\" class=\"dataframe\">\n",
       "  <thead>\n",
       "    <tr style=\"text-align: right;\">\n",
       "      <th></th>\n",
       "      <th>identifier</th>\n",
       "      <th>AddedBy</th>\n",
       "      <th>species</th>\n",
       "      <th>NodeLabel</th>\n",
       "      <th>NodeType</th>\n",
       "      <th>Family</th>\n",
       "      <th>Clade</th>\n",
       "      <th>NodeID</th>\n",
       "      <th>NodeName</th>\n",
       "      <th>external_links</th>\n",
       "      <th>NodeDescription</th>\n",
       "      <th>AdditionalInfo</th>\n",
       "      <th>Process</th>\n",
       "      <th>ModelV</th>\n",
       "      <th>ModelStatus</th>\n",
       "      <th>gmm_ocd</th>\n",
       "      <th>GMM_Description</th>\n",
       "      <th>GMM_ShortName</th>\n",
       "      <th>synonyms</th>\n",
       "    </tr>\n",
       "  </thead>\n",
       "  <tbody>\n",
       "  </tbody>\n",
       "</table>\n",
       "</div>"
      ],
      "text/plain": [
       "Empty DataFrame\n",
       "Columns: [identifier, AddedBy, species, NodeLabel, NodeType, Family, Clade, NodeID, NodeName, external_links, NodeDescription, AdditionalInfo, Process, ModelV, ModelStatus, gmm_ocd, GMM_Description, GMM_ShortName, synonyms]\n",
       "Index: []"
      ]
     },
     "execution_count": 16,
     "metadata": {},
     "output_type": "execute_result"
    }
   ],
   "source": [
    "df_metabolites[df_metabolites['NodeName'].duplicated()]"
   ]
  },
  {
   "cell_type": "code",
   "execution_count": 17,
   "metadata": {},
   "outputs": [],
   "source": [
    "want_columns = ['AddedBy', 'Family', 'NodeName', \n",
    "                'external_links', 'NodeDescription', 'AdditionalInfo', \n",
    "                'Process', 'ModelV', 'ModelStatus',                 \n",
    "               ]"
   ]
  },
  {
   "cell_type": "code",
   "execution_count": 18,
   "metadata": {},
   "outputs": [],
   "source": [
    "f = '%s-components.tsv'%label\n",
    "df_metabolites[want_columns].to_csv(\"../data/import/\" + f, sep=\"\\t\", index=None)"
   ]
  },
  {
   "cell_type": "code",
   "execution_count": 19,
   "metadata": {},
   "outputs": [],
   "source": [
    "q = helpers.metabolite_node_query(f, label, \n",
    "                     n_name=\"line.NodeName\"\n",
    "                    )"
   ]
  },
  {
   "cell_type": "code",
   "execution_count": 20,
   "metadata": {},
   "outputs": [
    {
     "name": "stdout",
     "output_type": "stream",
     "text": [
      "USING PERIODIC COMMIT 500\n",
      "           LOAD CSV WITH HEADERS FROM  'file:///Metabolite-components.tsv' AS line FIELDTERMINATOR '\t'\n",
      "           CREATE (p:Metabolite   { \n",
      "                name:line.NodeName, \n",
      "                added_by:line.AddedBy,\n",
      "                description:line.NodeDescription, \n",
      "                additional_information: line.AdditionalInfo, \n",
      "                model_version:line.ModelV,\n",
      "                model_status:line.ModelStatus, \n",
      "                pathway:line.Process,\n",
      "                \n",
      "                external_links:split(line.external_links, \",\")\n",
      "                \n",
      "            })\n"
     ]
    }
   ],
   "source": [
    "print(q)"
   ]
  },
  {
   "cell_type": "code",
   "execution_count": 21,
   "metadata": {
    "scrolled": true
   },
   "outputs": [],
   "source": [
    "qr = graph.run(q)\n",
    "if not df_metabolites.shape[0] == qr.stats()['nodes_created']:\n",
    "    raise Exception"
   ]
  },
  {
   "cell_type": "code",
   "execution_count": 22,
   "metadata": {},
   "outputs": [
    {
     "data": {
      "text/html": [
       "<div>\n",
       "<style scoped>\n",
       "    .dataframe tbody tr th:only-of-type {\n",
       "        vertical-align: middle;\n",
       "    }\n",
       "\n",
       "    .dataframe tbody tr th {\n",
       "        vertical-align: top;\n",
       "    }\n",
       "\n",
       "    .dataframe thead th {\n",
       "        text-align: right;\n",
       "    }\n",
       "</style>\n",
       "<table border=\"1\" class=\"dataframe\">\n",
       "  <thead>\n",
       "    <tr style=\"text-align: right;\">\n",
       "      <th></th>\n",
       "      <th>identifier</th>\n",
       "      <th>AddedBy</th>\n",
       "      <th>species</th>\n",
       "      <th>NodeLabel</th>\n",
       "      <th>NodeType</th>\n",
       "      <th>Family</th>\n",
       "      <th>Clade</th>\n",
       "      <th>NodeID</th>\n",
       "      <th>NodeName</th>\n",
       "      <th>external_links</th>\n",
       "      <th>NodeDescription</th>\n",
       "      <th>AdditionalInfo</th>\n",
       "      <th>Process</th>\n",
       "      <th>ModelV</th>\n",
       "      <th>ModelStatus</th>\n",
       "      <th>gmm_ocd</th>\n",
       "      <th>GMM_Description</th>\n",
       "      <th>GMM_ShortName</th>\n",
       "      <th>synonyms</th>\n",
       "    </tr>\n",
       "  </thead>\n",
       "  <tbody>\n",
       "  </tbody>\n",
       "</table>\n",
       "</div>"
      ],
      "text/plain": [
       "Empty DataFrame\n",
       "Columns: [identifier, AddedBy, species, NodeLabel, NodeType, Family, Clade, NodeID, NodeName, external_links, NodeDescription, AdditionalInfo, Process, ModelV, ModelStatus, gmm_ocd, GMM_Description, GMM_ShortName, synonyms]\n",
       "Index: []"
      ]
     },
     "execution_count": 22,
     "metadata": {},
     "output_type": "execute_result"
    }
   ],
   "source": [
    "df_metabolites[df_metabolites['Clade'] != df_metabolites['NodeID']]"
   ]
  },
  {
   "cell_type": "code",
   "execution_count": 23,
   "metadata": {},
   "outputs": [],
   "source": [
    "label = \"MetaboliteFamily\""
   ]
  },
  {
   "cell_type": "code",
   "execution_count": 24,
   "metadata": {},
   "outputs": [],
   "source": [
    "df_metabolites_has_family = df_metabolites[df_metabolites['Family'] != df_metabolites['NodeID']]"
   ]
  },
  {
   "cell_type": "code",
   "execution_count": 25,
   "metadata": {},
   "outputs": [],
   "source": [
    "want_columns = ['AddedBy', 'Family',\n",
    "                'external_links', 'NodeDescription', 'AdditionalInfo', \n",
    "                'Process', 'ModelV', 'ModelStatus']"
   ]
  },
  {
   "cell_type": "code",
   "execution_count": 26,
   "metadata": {
    "scrolled": true
   },
   "outputs": [],
   "source": [
    "df_metabolites_family = df_metabolites_has_family.fillna('').groupby('Family').agg({\n",
    "                                                                  'Family':lambda x:list(x)[0],\n",
    "                                                                  'AddedBy':lambda x:list(x)[0], \n",
    "                                                                  'NodeDescription':lambda x: ', '.join(x), \n",
    "                                                                  'external_links':lambda x: ', '.join([s for s in x if not s=='']), \n",
    "                                                                  'AdditionalInfo':lambda x: helpers.list_to_string(x), \n",
    "                                                                  'Process':lambda x:list(x)[0], \n",
    "                                                                  'ModelV':helpers.get_latest_model, \n",
    "                                                                  'ModelStatus':helpers.get_model_status})"
   ]
  },
  {
   "cell_type": "code",
   "execution_count": 27,
   "metadata": {},
   "outputs": [
    {
     "data": {
      "text/html": [
       "<div>\n",
       "<style scoped>\n",
       "    .dataframe tbody tr th:only-of-type {\n",
       "        vertical-align: middle;\n",
       "    }\n",
       "\n",
       "    .dataframe tbody tr th {\n",
       "        vertical-align: top;\n",
       "    }\n",
       "\n",
       "    .dataframe thead th {\n",
       "        text-align: right;\n",
       "    }\n",
       "</style>\n",
       "<table border=\"1\" class=\"dataframe\">\n",
       "  <thead>\n",
       "    <tr style=\"text-align: right;\">\n",
       "      <th></th>\n",
       "      <th>Family</th>\n",
       "      <th>AddedBy</th>\n",
       "      <th>NodeDescription</th>\n",
       "      <th>external_links</th>\n",
       "      <th>AdditionalInfo</th>\n",
       "      <th>Process</th>\n",
       "      <th>ModelV</th>\n",
       "      <th>ModelStatus</th>\n",
       "    </tr>\n",
       "    <tr>\n",
       "      <th>Family</th>\n",
       "      <th></th>\n",
       "      <th></th>\n",
       "      <th></th>\n",
       "      <th></th>\n",
       "      <th></th>\n",
       "      <th></th>\n",
       "      <th></th>\n",
       "      <th></th>\n",
       "    </tr>\n",
       "  </thead>\n",
       "  <tbody>\n",
       "    <tr>\n",
       "      <th>DAMP/HAMP</th>\n",
       "      <td>DAMP/HAMP</td>\n",
       "      <td>KG</td>\n",
       "      <td>oligogalacturonides</td>\n",
       "      <td>chebi:62533</td>\n",
       "      <td>damage/host associated molecular patterns; Oli...</td>\n",
       "      <td></td>\n",
       "      <td>v2.6</td>\n",
       "      <td>use</td>\n",
       "    </tr>\n",
       "    <tr>\n",
       "      <th>PostROS</th>\n",
       "      <td>PostROS</td>\n",
       "      <td>MZ</td>\n",
       "      <td>water</td>\n",
       "      <td>chebi:15377</td>\n",
       "      <td></td>\n",
       "      <td>S:ROS</td>\n",
       "      <td>v2.7</td>\n",
       "      <td>ignore</td>\n",
       "    </tr>\n",
       "    <tr>\n",
       "      <th>PreROS</th>\n",
       "      <td>PreROS</td>\n",
       "      <td>MZ</td>\n",
       "      <td>ROS precursors; oxygen</td>\n",
       "      <td>chebi:25805</td>\n",
       "      <td></td>\n",
       "      <td>S:ROS</td>\n",
       "      <td>v2.6</td>\n",
       "      <td>use</td>\n",
       "    </tr>\n",
       "    <tr>\n",
       "      <th>ROS</th>\n",
       "      <td>ROS</td>\n",
       "      <td>MZ</td>\n",
       "      <td>hydrogen peroxide (reactive oxygen species), h...</td>\n",
       "      <td>chebi:16240, chebi:25935, chebi:18421, chebi:2...</td>\n",
       "      <td></td>\n",
       "      <td>S:ROS</td>\n",
       "      <td>v2.6</td>\n",
       "      <td>use</td>\n",
       "    </tr>\n",
       "    <tr>\n",
       "      <th>SLs</th>\n",
       "      <td>SLs</td>\n",
       "      <td>MZ</td>\n",
       "      <td>StrigoLactone(s)</td>\n",
       "      <td>chebi:68487,doi:10.1126/science.1218094</td>\n",
       "      <td>Strigolactones derive from carotenoids via a p...</td>\n",
       "      <td>Hormone:SLs</td>\n",
       "      <td>v0.0</td>\n",
       "      <td>use</td>\n",
       "    </tr>\n",
       "    <tr>\n",
       "      <th>tZRMP</th>\n",
       "      <td>tZRMP</td>\n",
       "      <td>AG</td>\n",
       "      <td>9-ribosyl-trans-zeatin-5&amp;prime;-monophosphate</td>\n",
       "      <td>chebi:71719</td>\n",
       "      <td></td>\n",
       "      <td>Hormone:CK</td>\n",
       "      <td>v0.0</td>\n",
       "      <td>use</td>\n",
       "    </tr>\n",
       "  </tbody>\n",
       "</table>\n",
       "</div>"
      ],
      "text/plain": [
       "              Family AddedBy  \\\n",
       "Family                         \n",
       "DAMP/HAMP  DAMP/HAMP      KG   \n",
       "PostROS      PostROS      MZ   \n",
       "PreROS        PreROS      MZ   \n",
       "ROS              ROS      MZ   \n",
       "SLs              SLs      MZ   \n",
       "tZRMP          tZRMP      AG   \n",
       "\n",
       "                                             NodeDescription  \\\n",
       "Family                                                         \n",
       "DAMP/HAMP                                oligogalacturonides   \n",
       "PostROS                                                water   \n",
       "PreROS                                ROS precursors; oxygen   \n",
       "ROS        hydrogen peroxide (reactive oxygen species), h...   \n",
       "SLs                                         StrigoLactone(s)   \n",
       "tZRMP          9-ribosyl-trans-zeatin-5&prime;-monophosphate   \n",
       "\n",
       "                                              external_links  \\\n",
       "Family                                                         \n",
       "DAMP/HAMP                                        chebi:62533   \n",
       "PostROS                                          chebi:15377   \n",
       "PreROS                                           chebi:25805   \n",
       "ROS        chebi:16240, chebi:25935, chebi:18421, chebi:2...   \n",
       "SLs                  chebi:68487,doi:10.1126/science.1218094   \n",
       "tZRMP                                            chebi:71719   \n",
       "\n",
       "                                              AdditionalInfo      Process  \\\n",
       "Family                                                                      \n",
       "DAMP/HAMP  damage/host associated molecular patterns; Oli...                \n",
       "PostROS                                                             S:ROS   \n",
       "PreROS                                                              S:ROS   \n",
       "ROS                                                                 S:ROS   \n",
       "SLs        Strigolactones derive from carotenoids via a p...  Hormone:SLs   \n",
       "tZRMP                                                          Hormone:CK   \n",
       "\n",
       "          ModelV ModelStatus  \n",
       "Family                        \n",
       "DAMP/HAMP   v2.6         use  \n",
       "PostROS     v2.7      ignore  \n",
       "PreROS      v2.6         use  \n",
       "ROS         v2.6         use  \n",
       "SLs         v0.0         use  \n",
       "tZRMP       v0.0         use  "
      ]
     },
     "execution_count": 27,
     "metadata": {},
     "output_type": "execute_result"
    }
   ],
   "source": [
    "df_metabolites_family"
   ]
  },
  {
   "cell_type": "code",
   "execution_count": 28,
   "metadata": {},
   "outputs": [],
   "source": [
    "f = '%s-components.tsv'%label\n",
    "df_metabolites_family.to_csv(\"../data/import/\" + f, sep=\"\\t\", index=None)"
   ]
  },
  {
   "cell_type": "code",
   "execution_count": 29,
   "metadata": {},
   "outputs": [],
   "source": [
    "q = helpers.metabolite_node_query(f, label, \n",
    "                     n_name=\"line.Family\"\n",
    "                    )"
   ]
  },
  {
   "cell_type": "code",
   "execution_count": 30,
   "metadata": {},
   "outputs": [
    {
     "name": "stdout",
     "output_type": "stream",
     "text": [
      "USING PERIODIC COMMIT 500\n",
      "           LOAD CSV WITH HEADERS FROM  'file:///MetaboliteFamily-components.tsv' AS line FIELDTERMINATOR '\t'\n",
      "           CREATE (p:MetaboliteFamily   { \n",
      "                name:line.Family, \n",
      "                added_by:line.AddedBy,\n",
      "                description:line.NodeDescription, \n",
      "                additional_information: line.AdditionalInfo, \n",
      "                model_version:line.ModelV,\n",
      "                model_status:line.ModelStatus, \n",
      "                pathway:line.Process,\n",
      "                \n",
      "                external_links:split(line.external_links, \",\")\n",
      "                \n",
      "            })\n"
     ]
    }
   ],
   "source": [
    "print(q)"
   ]
  },
  {
   "cell_type": "code",
   "execution_count": 31,
   "metadata": {},
   "outputs": [],
   "source": [
    "qr = graph.run(q)\n",
    "if not df_metabolites_family.shape[0] == qr.stats()['nodes_created']:\n",
    "    raise Exception "
   ]
  },
  {
   "cell_type": "code",
   "execution_count": 32,
   "metadata": {},
   "outputs": [],
   "source": [
    "# Metabolite to MetaboliteFamily edges\n",
    "edge_type = 'TYPE_OF'\n",
    "f = '%s-edges.tsv'%edge_type\n",
    "df_metabolites_has_family[want_columns + [\"NodeName\"]].to_csv(\"../data/import/\" + f, sep=\"\\t\", index=None)"
   ]
  },
  {
   "cell_type": "code",
   "execution_count": 33,
   "metadata": {},
   "outputs": [],
   "source": [
    "q = helpers.make_create_type_of_edge_query(f, edge_type, \n",
    "                           source_label=\"Metabolite\", target_label=\"MetaboliteFamily\",\n",
    "                           source_name=\"line.NodeName\", target_name=\"line.Family\")"
   ]
  },
  {
   "cell_type": "code",
   "execution_count": 34,
   "metadata": {},
   "outputs": [
    {
     "name": "stdout",
     "output_type": "stream",
     "text": [
      "USING PERIODIC COMMIT 500\n",
      "           LOAD CSV WITH HEADERS FROM  'file:///TYPE_OF-edges.tsv' AS line FIELDTERMINATOR '\t'\n",
      "           \n",
      "           MATCH (source:Metabolite { name:line.NodeName}),\n",
      "                 (target:MetaboliteFamily { name:line.Family})\n",
      "           \n",
      "           CREATE (source)-[:TYPE_OF {\n",
      "                        added_by:line.AddedBy,\n",
      "                        additional_information: line.AdditionalInfo, \n",
      "                        model_version:line.ModelV,\n",
      "                        model_status:line.ModelStatus,\n",
      "                        \n",
      "                        pathway:line.Process\n",
      "                        }]->(target)\n"
     ]
    }
   ],
   "source": [
    "print(q)"
   ]
  },
  {
   "cell_type": "code",
   "execution_count": 35,
   "metadata": {},
   "outputs": [],
   "source": [
    "qr = graph.run(q)\n",
    "if not df_metabolites_has_family.shape[0] == qr.stats()['relationships_created']:\n",
    "    raise Exception"
   ]
  },
  {
   "cell_type": "markdown",
   "metadata": {},
   "source": [
    "## Pathogens (External)"
   ]
  },
  {
   "cell_type": "code",
   "execution_count": 36,
   "metadata": {},
   "outputs": [],
   "source": [
    "df_external = df_components[df_components[\"NodeLabel\"].isin([\"ExternalCoding\", \"ExternalNonCoding\"])].copy()"
   ]
  },
  {
   "cell_type": "code",
   "execution_count": 37,
   "metadata": {},
   "outputs": [
    {
     "data": {
      "text/plain": [
       "Index(['identifier', 'AddedBy', 'species', 'NodeLabel', 'NodeType', 'Family',\n",
       "       'Clade', 'NodeID', 'NodeName', 'external_links', 'NodeDescription',\n",
       "       'AdditionalInfo', 'Process', 'ModelV', 'ModelStatus', 'gmm_ocd',\n",
       "       'GMM_Description', 'GMM_ShortName', 'synonyms'],\n",
       "      dtype='object')"
      ]
     },
     "execution_count": 37,
     "metadata": {},
     "output_type": "execute_result"
    }
   ],
   "source": [
    "df_external.columns"
   ]
  },
  {
   "cell_type": "code",
   "execution_count": 38,
   "metadata": {},
   "outputs": [],
   "source": [
    "# Species --> '-'\n",
    "# Family --> 'biological classification'\n",
    "# Clade --> 'species'\n",
    "df_external.columns = ['identifier', 'AddedBy', '-', 'NodeLabel', 'NodeType', \n",
    "                       'classification', 'species', 'NodeID', 'NodeName', \n",
    "                       'external_links', 'NodeDescription', 'AdditionalInfo', \n",
    "                       'Process', 'ModelV', 'ModelStatus', \n",
    "                       'gmm_ocd', 'GMM_Description', 'GMM_ShortName', 'GMM_Synonyms']"
   ]
  },
  {
   "cell_type": "code",
   "execution_count": 39,
   "metadata": {},
   "outputs": [],
   "source": [
    "#manualfix\n",
    "df_external.loc[df_external['species']=='oomycete', 'classification'] = 'oomycete'"
   ]
  },
  {
   "cell_type": "code",
   "execution_count": 40,
   "metadata": {},
   "outputs": [
    {
     "data": {
      "text/html": [
       "<div>\n",
       "<style scoped>\n",
       "    .dataframe tbody tr th:only-of-type {\n",
       "        vertical-align: middle;\n",
       "    }\n",
       "\n",
       "    .dataframe tbody tr th {\n",
       "        vertical-align: top;\n",
       "    }\n",
       "\n",
       "    .dataframe thead th {\n",
       "        text-align: right;\n",
       "    }\n",
       "</style>\n",
       "<table border=\"1\" class=\"dataframe\">\n",
       "  <thead>\n",
       "    <tr style=\"text-align: right;\">\n",
       "      <th></th>\n",
       "      <th>identifier</th>\n",
       "      <th>AddedBy</th>\n",
       "      <th>-</th>\n",
       "      <th>NodeLabel</th>\n",
       "      <th>NodeType</th>\n",
       "      <th>classification</th>\n",
       "      <th>species</th>\n",
       "      <th>NodeID</th>\n",
       "      <th>NodeName</th>\n",
       "      <th>external_links</th>\n",
       "      <th>NodeDescription</th>\n",
       "      <th>AdditionalInfo</th>\n",
       "      <th>Process</th>\n",
       "      <th>ModelV</th>\n",
       "      <th>ModelStatus</th>\n",
       "      <th>gmm_ocd</th>\n",
       "      <th>GMM_Description</th>\n",
       "      <th>GMM_ShortName</th>\n",
       "      <th>GMM_Synonyms</th>\n",
       "    </tr>\n",
       "  </thead>\n",
       "  <tbody>\n",
       "    <tr>\n",
       "      <th>3</th>\n",
       "      <td>node0467</td>\n",
       "      <td>KG</td>\n",
       "      <td>external</td>\n",
       "      <td>ExternalCoding</td>\n",
       "      <td>pathogen_coding</td>\n",
       "      <td>bacteria</td>\n",
       "      <td>trichous-bacteria</td>\n",
       "      <td>elf18</td>\n",
       "      <td>elf18</td>\n",
       "      <td>chebi:73165</td>\n",
       "      <td>EF-Tu fragment</td>\n",
       "      <td>N terminus of elongation factor Tu (EF-Tu), th...</td>\n",
       "      <td>Pathogen_Effector</td>\n",
       "      <td>vNA</td>\n",
       "      <td>use</td>\n",
       "      <td>NaN</td>\n",
       "      <td>NaN</td>\n",
       "      <td>NaN</td>\n",
       "      <td>NaN</td>\n",
       "    </tr>\n",
       "    <tr>\n",
       "      <th>4</th>\n",
       "      <td>node0466</td>\n",
       "      <td>KG</td>\n",
       "      <td>external</td>\n",
       "      <td>ExternalCoding</td>\n",
       "      <td>pathogen_coding</td>\n",
       "      <td>bacteria</td>\n",
       "      <td>trichous-bacteria</td>\n",
       "      <td>flg22</td>\n",
       "      <td>flg22</td>\n",
       "      <td>NaN</td>\n",
       "      <td>flagellin fragment</td>\n",
       "      <td>Flagellin is the structural protein that forms...</td>\n",
       "      <td>Pathogen_Effector</td>\n",
       "      <td>vNA</td>\n",
       "      <td>use</td>\n",
       "      <td>NaN</td>\n",
       "      <td>NaN</td>\n",
       "      <td>NaN</td>\n",
       "      <td>NaN</td>\n",
       "    </tr>\n",
       "    <tr>\n",
       "      <th>5</th>\n",
       "      <td>node0468</td>\n",
       "      <td>KG</td>\n",
       "      <td>external</td>\n",
       "      <td>ExternalCoding</td>\n",
       "      <td>pathogen_coding</td>\n",
       "      <td>oomycete</td>\n",
       "      <td>oomycete</td>\n",
       "      <td>ch</td>\n",
       "      <td>ch</td>\n",
       "      <td>chebi:17029</td>\n",
       "      <td>chitin</td>\n",
       "      <td>Chitin is a polymer of N-acetyl-d-glucosamine ...</td>\n",
       "      <td>Pathogen_Effector</td>\n",
       "      <td>vNA</td>\n",
       "      <td>use</td>\n",
       "      <td>NaN</td>\n",
       "      <td>NaN</td>\n",
       "      <td>NaN</td>\n",
       "      <td>NaN</td>\n",
       "    </tr>\n",
       "    <tr>\n",
       "      <th>6</th>\n",
       "      <td>node0455</td>\n",
       "      <td>KG</td>\n",
       "      <td>external</td>\n",
       "      <td>ExternalCoding</td>\n",
       "      <td>pathogen_coding</td>\n",
       "      <td>virus</td>\n",
       "      <td>potyvirus</td>\n",
       "      <td>6K1</td>\n",
       "      <td>6K1</td>\n",
       "      <td>doi:10.1016/j.coviro.2012.09.004</td>\n",
       "      <td>small peptide of unknown functions</td>\n",
       "      <td>NaN</td>\n",
       "      <td>Pathogen</td>\n",
       "      <td>v2.6</td>\n",
       "      <td>use</td>\n",
       "      <td>NaN</td>\n",
       "      <td>NaN</td>\n",
       "      <td>NaN</td>\n",
       "      <td>NaN</td>\n",
       "    </tr>\n",
       "    <tr>\n",
       "      <th>7</th>\n",
       "      <td>node0456</td>\n",
       "      <td>KG</td>\n",
       "      <td>external</td>\n",
       "      <td>ExternalCoding</td>\n",
       "      <td>pathogen_coding</td>\n",
       "      <td>virus</td>\n",
       "      <td>potyvirus</td>\n",
       "      <td>6K2</td>\n",
       "      <td>6K2</td>\n",
       "      <td>doi:10.1016/j.coviro.2012.09.004</td>\n",
       "      <td>small peptide of unknown functions</td>\n",
       "      <td>NaN</td>\n",
       "      <td>Pathogen</td>\n",
       "      <td>v2.6</td>\n",
       "      <td>use</td>\n",
       "      <td>NaN</td>\n",
       "      <td>NaN</td>\n",
       "      <td>NaN</td>\n",
       "      <td>NaN</td>\n",
       "    </tr>\n",
       "  </tbody>\n",
       "</table>\n",
       "</div>"
      ],
      "text/plain": [
       "  identifier AddedBy         -       NodeLabel         NodeType  \\\n",
       "3   node0467      KG  external  ExternalCoding  pathogen_coding   \n",
       "4   node0466      KG  external  ExternalCoding  pathogen_coding   \n",
       "5   node0468      KG  external  ExternalCoding  pathogen_coding   \n",
       "6   node0455      KG  external  ExternalCoding  pathogen_coding   \n",
       "7   node0456      KG  external  ExternalCoding  pathogen_coding   \n",
       "\n",
       "  classification            species NodeID NodeName  \\\n",
       "3       bacteria  trichous-bacteria  elf18    elf18   \n",
       "4       bacteria  trichous-bacteria  flg22    flg22   \n",
       "5       oomycete           oomycete     ch       ch   \n",
       "6          virus          potyvirus    6K1      6K1   \n",
       "7          virus          potyvirus    6K2      6K2   \n",
       "\n",
       "                     external_links                     NodeDescription  \\\n",
       "3                       chebi:73165                      EF-Tu fragment   \n",
       "4                               NaN                  flagellin fragment   \n",
       "5                       chebi:17029                              chitin   \n",
       "6  doi:10.1016/j.coviro.2012.09.004  small peptide of unknown functions   \n",
       "7  doi:10.1016/j.coviro.2012.09.004  small peptide of unknown functions   \n",
       "\n",
       "                                      AdditionalInfo            Process  \\\n",
       "3  N terminus of elongation factor Tu (EF-Tu), th...  Pathogen_Effector   \n",
       "4  Flagellin is the structural protein that forms...  Pathogen_Effector   \n",
       "5  Chitin is a polymer of N-acetyl-d-glucosamine ...  Pathogen_Effector   \n",
       "6                                                NaN           Pathogen   \n",
       "7                                                NaN           Pathogen   \n",
       "\n",
       "  ModelV ModelStatus gmm_ocd GMM_Description GMM_ShortName GMM_Synonyms  \n",
       "3    vNA         use     NaN             NaN           NaN          NaN  \n",
       "4    vNA         use     NaN             NaN           NaN          NaN  \n",
       "5    vNA         use     NaN             NaN           NaN          NaN  \n",
       "6   v2.6         use     NaN             NaN           NaN          NaN  \n",
       "7   v2.6         use     NaN             NaN           NaN          NaN  "
      ]
     },
     "execution_count": 40,
     "metadata": {},
     "output_type": "execute_result"
    }
   ],
   "source": [
    "df_external.head()"
   ]
  },
  {
   "cell_type": "code",
   "execution_count": 41,
   "metadata": {},
   "outputs": [],
   "source": [
    "want_columns = ['AddedBy',  \n",
    "                'classification', 'species', 'NodeName', \n",
    "                'external_links', 'NodeDescription', 'AdditionalInfo', \n",
    "                'Process', 'ModelV', 'ModelStatus']"
   ]
  },
  {
   "cell_type": "code",
   "execution_count": 42,
   "metadata": {},
   "outputs": [
    {
     "data": {
      "text/html": [
       "<div>\n",
       "<style scoped>\n",
       "    .dataframe tbody tr th:only-of-type {\n",
       "        vertical-align: middle;\n",
       "    }\n",
       "\n",
       "    .dataframe tbody tr th {\n",
       "        vertical-align: top;\n",
       "    }\n",
       "\n",
       "    .dataframe thead th {\n",
       "        text-align: right;\n",
       "    }\n",
       "</style>\n",
       "<table border=\"1\" class=\"dataframe\">\n",
       "  <thead>\n",
       "    <tr style=\"text-align: right;\">\n",
       "      <th></th>\n",
       "      <th>NodeType</th>\n",
       "      <th>classification</th>\n",
       "      <th>species</th>\n",
       "      <th>NodeName</th>\n",
       "    </tr>\n",
       "  </thead>\n",
       "  <tbody>\n",
       "    <tr>\n",
       "      <th>3</th>\n",
       "      <td>pathogen_coding</td>\n",
       "      <td>bacteria</td>\n",
       "      <td>trichous-bacteria</td>\n",
       "      <td>elf18</td>\n",
       "    </tr>\n",
       "    <tr>\n",
       "      <th>4</th>\n",
       "      <td>pathogen_coding</td>\n",
       "      <td>bacteria</td>\n",
       "      <td>trichous-bacteria</td>\n",
       "      <td>flg22</td>\n",
       "    </tr>\n",
       "    <tr>\n",
       "      <th>5</th>\n",
       "      <td>pathogen_coding</td>\n",
       "      <td>oomycete</td>\n",
       "      <td>oomycete</td>\n",
       "      <td>ch</td>\n",
       "    </tr>\n",
       "    <tr>\n",
       "      <th>6</th>\n",
       "      <td>pathogen_coding</td>\n",
       "      <td>virus</td>\n",
       "      <td>potyvirus</td>\n",
       "      <td>6K1</td>\n",
       "    </tr>\n",
       "    <tr>\n",
       "      <th>7</th>\n",
       "      <td>pathogen_coding</td>\n",
       "      <td>virus</td>\n",
       "      <td>potyvirus</td>\n",
       "      <td>6K2</td>\n",
       "    </tr>\n",
       "    <tr>\n",
       "      <th>8</th>\n",
       "      <td>pathogen_coding</td>\n",
       "      <td>virus</td>\n",
       "      <td>potyvirus</td>\n",
       "      <td>CI</td>\n",
       "    </tr>\n",
       "    <tr>\n",
       "      <th>9</th>\n",
       "      <td>pathogen_coding</td>\n",
       "      <td>virus</td>\n",
       "      <td>potyvirus</td>\n",
       "      <td>CP</td>\n",
       "    </tr>\n",
       "    <tr>\n",
       "      <th>10</th>\n",
       "      <td>pathogen_coding</td>\n",
       "      <td>virus</td>\n",
       "      <td>potyvirus</td>\n",
       "      <td>HC-Pro</td>\n",
       "    </tr>\n",
       "    <tr>\n",
       "      <th>11</th>\n",
       "      <td>pathogen_coding</td>\n",
       "      <td>virus</td>\n",
       "      <td>potyvirus</td>\n",
       "      <td>NIa-Pro</td>\n",
       "    </tr>\n",
       "    <tr>\n",
       "      <th>12</th>\n",
       "      <td>pathogen_coding</td>\n",
       "      <td>virus</td>\n",
       "      <td>potyvirus</td>\n",
       "      <td>NIb</td>\n",
       "    </tr>\n",
       "    <tr>\n",
       "      <th>13</th>\n",
       "      <td>pathogen_coding</td>\n",
       "      <td>virus</td>\n",
       "      <td>potyvirus</td>\n",
       "      <td>P1</td>\n",
       "    </tr>\n",
       "    <tr>\n",
       "      <th>14</th>\n",
       "      <td>pathogen_coding</td>\n",
       "      <td>virus</td>\n",
       "      <td>potyvirus</td>\n",
       "      <td>P3</td>\n",
       "    </tr>\n",
       "    <tr>\n",
       "      <th>15</th>\n",
       "      <td>pathogen_coding</td>\n",
       "      <td>virus</td>\n",
       "      <td>potyvirus</td>\n",
       "      <td>P3N-PIPO</td>\n",
       "    </tr>\n",
       "    <tr>\n",
       "      <th>16</th>\n",
       "      <td>pathogen_coding</td>\n",
       "      <td>virus</td>\n",
       "      <td>potyvirus</td>\n",
       "      <td>VPg</td>\n",
       "    </tr>\n",
       "  </tbody>\n",
       "</table>\n",
       "</div>"
      ],
      "text/plain": [
       "           NodeType classification            species  NodeName\n",
       "3   pathogen_coding       bacteria  trichous-bacteria     elf18\n",
       "4   pathogen_coding       bacteria  trichous-bacteria     flg22\n",
       "5   pathogen_coding       oomycete           oomycete        ch\n",
       "6   pathogen_coding          virus          potyvirus       6K1\n",
       "7   pathogen_coding          virus          potyvirus       6K2\n",
       "8   pathogen_coding          virus          potyvirus        CI\n",
       "9   pathogen_coding          virus          potyvirus        CP\n",
       "10  pathogen_coding          virus          potyvirus    HC-Pro\n",
       "11  pathogen_coding          virus          potyvirus   NIa-Pro\n",
       "12  pathogen_coding          virus          potyvirus       NIb\n",
       "13  pathogen_coding          virus          potyvirus        P1\n",
       "14  pathogen_coding          virus          potyvirus        P3\n",
       "15  pathogen_coding          virus          potyvirus  P3N-PIPO\n",
       "16  pathogen_coding          virus          potyvirus       VPg"
      ]
     },
     "execution_count": 42,
     "metadata": {},
     "output_type": "execute_result"
    }
   ],
   "source": [
    "df_external[['NodeType', 'classification', 'species', 'NodeName']]"
   ]
  },
  {
   "cell_type": "code",
   "execution_count": 43,
   "metadata": {},
   "outputs": [
    {
     "name": "stdout",
     "output_type": "stream",
     "text": [
      "ExternalCoding\tUSING PERIODIC COMMIT 500\n",
      "           LOAD CSV WITH HEADERS FROM  'file:///ExternalCoding-components.tsv' AS line FIELDTERMINATOR '\t'\n",
      "           CREATE (p:ExternalCoding   { \n",
      "                name:line.NodeName, \n",
      "                added_by:line.AddedBy,\n",
      "                description:line.NodeDescription, \n",
      "                additional_information: line.AdditionalInfo, \n",
      "                model_version:line.ModelV,\n",
      "                pathway:line.Process,\n",
      "                species:split(line.species, \",\"),\n",
      "                external_links:split(line.external_links, \",\"),\n",
      "                                             \n",
      "                classification:line.classification\n",
      "            })\n"
     ]
    }
   ],
   "source": [
    "for label, subdf in df_external.groupby('NodeLabel'):\n",
    "    print(label, end='\\t')\n",
    "    f = '%s-components.tsv'%label\n",
    "    subdf[want_columns].to_csv(\"../data/import/\" + f, sep=\"\\t\", index=None)\n",
    "    \n",
    "    q = helpers.external_node_query(f, label, \n",
    "                     n_name=\"line.NodeName\"\n",
    "                    )\n",
    "    print(q)\n",
    "    qr = graph.run(q)\n",
    "    if not subdf.shape[0] == qr.stats()['nodes_created']:\n",
    "        raise Exception"
   ]
  },
  {
   "cell_type": "code",
   "execution_count": 44,
   "metadata": {},
   "outputs": [],
   "source": [
    "external_entities = df_external.groupby('species').agg({\n",
    "                                                      'classification':lambda x:list(x)[0],\n",
    "                                                      'AddedBy':lambda x:list(x)[0], \n",
    "                                                      #'NodeDescription':lambda x: ', '.join(x), \n",
    "                                                      #'AdditionalInfo':lambda x: helpers.list_to_string(x), \n",
    "                                                      'Process':lambda x:list(x)[0], \n",
    "                                                      'ModelV':helpers.get_latest_model, \n",
    "                                                      #'ModelStatus':helpers.get_model_status\n",
    "                                                }).reset_index()"
   ]
  },
  {
   "cell_type": "code",
   "execution_count": 45,
   "metadata": {},
   "outputs": [
    {
     "data": {
      "text/plain": [
       "Index(['species', 'classification', 'AddedBy', 'Process', 'ModelV'], dtype='object')"
      ]
     },
     "execution_count": 45,
     "metadata": {},
     "output_type": "execute_result"
    }
   ],
   "source": [
    "external_entities.columns"
   ]
  },
  {
   "cell_type": "code",
   "execution_count": 46,
   "metadata": {},
   "outputs": [],
   "source": [
    "label = 'ExternalEntity'\n",
    "want_columns = ['species', 'classification', 'AddedBy', 'Process', 'ModelV']\n",
    "f = '%s-components.tsv'%label\n",
    "external_entities[want_columns].to_csv(\"../data/import/\" + f, sep=\"\\t\", index=None)"
   ]
  },
  {
   "cell_type": "code",
   "execution_count": 47,
   "metadata": {},
   "outputs": [
    {
     "name": "stdout",
     "output_type": "stream",
     "text": [
      "USING PERIODIC COMMIT 500\n",
      "           LOAD CSV WITH HEADERS FROM  'file:///ExternalEntity-components.tsv' AS line FIELDTERMINATOR '\t'\n",
      "           CREATE (p:ExternalEntity   { \n",
      "                name:line.species, \n",
      "                added_by:line.AddedBy,\n",
      "                description:line.NodeDescription, \n",
      "                additional_information: line.AdditionalInfo, \n",
      "                model_version:line.ModelV,\n",
      "                pathway:line.Process,\n",
      "                species:split(line.species, \",\"),\n",
      "                external_links:split(line.external_links, \",\"),\n",
      "                                             \n",
      "                classification:line.classification\n",
      "            })\n"
     ]
    }
   ],
   "source": [
    "q = helpers.external_node_query(f, label, \n",
    "                     n_name=\"line.species\", \n",
    "                    )\n",
    "print(q)"
   ]
  },
  {
   "cell_type": "code",
   "execution_count": 48,
   "metadata": {},
   "outputs": [],
   "source": [
    "qr = graph.run(q)\n",
    "if not external_entities.shape[0] == qr.stats()['nodes_created']:\n",
    "    raise Exception"
   ]
  },
  {
   "cell_type": "code",
   "execution_count": 49,
   "metadata": {},
   "outputs": [],
   "source": [
    "# ExternalXXX to external_entities edges\n",
    "want_columns = ['AddedBy', 'NodeName', 'species', 'ModelV']\n",
    "edge_type = 'AGENT_OF'\n",
    "f = '%s-edges.tsv'%edge_type\n",
    "df_external[want_columns].to_csv(\"../data/import/\" + f, sep=\"\\t\", index=None)"
   ]
  },
  {
   "cell_type": "code",
   "execution_count": 50,
   "metadata": {},
   "outputs": [
    {
     "name": "stdout",
     "output_type": "stream",
     "text": [
      "USING PERIODIC COMMIT 500\n",
      "           LOAD CSV WITH HEADERS FROM  'file:///AGENT_OF-edges.tsv' AS line FIELDTERMINATOR '\t'\n",
      "           \n",
      "           MATCH (source { name:line.NodeName}),\n",
      "                 (target:ExternalEntity { name:line.species})\n",
      "           \n",
      "           CREATE (source)-[:AGENT_OF {\n",
      "                        added_by:line.AddedBy,\n",
      "                        additional_information: line.AdditionalInfo, \n",
      "                        model_version:line.ModelV,\n",
      "                        model_status:line.ModelStatus,\n",
      "                        \n",
      "                        pathway:line.Process\n",
      "                        }]->(target)\n"
     ]
    }
   ],
   "source": [
    "q = helpers.make_create_type_of_edge_query(f, edge_type, \n",
    "                           source_label=\"\", target_label=\"ExternalEntity\",\n",
    "                           source_name=\"line.NodeName\", target_name=\"line.species\")\n",
    "print(q)"
   ]
  },
  {
   "cell_type": "code",
   "execution_count": 51,
   "metadata": {},
   "outputs": [],
   "source": [
    "qr = graph.run(q)\n",
    "if not df_external.shape[0] == qr.stats()['relationships_created']:\n",
    "    raise Exception"
   ]
  },
  {
   "cell_type": "markdown",
   "metadata": {},
   "source": [
    "## Bio-elements"
   ]
  },
  {
   "cell_type": "code",
   "execution_count": 52,
   "metadata": {},
   "outputs": [],
   "source": [
    "df_bioelements = df_components[df_components['NodeLabel'].isin(['PlantCoding', \n",
    "                                                                 'PlantNonCoding',\n",
    "                                                                 'PlantAbstract', \n",
    "                                                                 'Complex'\n",
    "                                                                ])].copy()"
   ]
  },
  {
   "cell_type": "code",
   "execution_count": 53,
   "metadata": {},
   "outputs": [
    {
     "data": {
      "text/plain": [
       "array(['all', 'ath', 'stu', 'sly', 'osa'], dtype=object)"
      ]
     },
     "execution_count": 53,
     "metadata": {},
     "output_type": "execute_result"
    }
   ],
   "source": [
    "df_bioelements['species'].unique()"
   ]
  },
  {
   "cell_type": "code",
   "execution_count": 54,
   "metadata": {},
   "outputs": [
    {
     "data": {
      "text/html": [
       "<div>\n",
       "<style scoped>\n",
       "    .dataframe tbody tr th:only-of-type {\n",
       "        vertical-align: middle;\n",
       "    }\n",
       "\n",
       "    .dataframe tbody tr th {\n",
       "        vertical-align: top;\n",
       "    }\n",
       "\n",
       "    .dataframe thead th {\n",
       "        text-align: right;\n",
       "    }\n",
       "</style>\n",
       "<table border=\"1\" class=\"dataframe\">\n",
       "  <thead>\n",
       "    <tr style=\"text-align: right;\">\n",
       "      <th></th>\n",
       "      <th>identifier</th>\n",
       "      <th>AddedBy</th>\n",
       "      <th>species</th>\n",
       "      <th>NodeLabel</th>\n",
       "      <th>NodeType</th>\n",
       "      <th>Family</th>\n",
       "      <th>Clade</th>\n",
       "      <th>NodeID</th>\n",
       "      <th>NodeName</th>\n",
       "      <th>external_links</th>\n",
       "      <th>NodeDescription</th>\n",
       "      <th>AdditionalInfo</th>\n",
       "      <th>Process</th>\n",
       "      <th>ModelV</th>\n",
       "      <th>ModelStatus</th>\n",
       "      <th>gmm_ocd</th>\n",
       "      <th>GMM_Description</th>\n",
       "      <th>GMM_ShortName</th>\n",
       "      <th>synonyms</th>\n",
       "    </tr>\n",
       "  </thead>\n",
       "  <tbody>\n",
       "    <tr>\n",
       "      <th>0</th>\n",
       "      <td>node0887</td>\n",
       "      <td>ZR</td>\n",
       "      <td>all</td>\n",
       "      <td>Complex</td>\n",
       "      <td>plant_complex</td>\n",
       "      <td>SCF</td>\n",
       "      <td>SCF</td>\n",
       "      <td>SCF</td>\n",
       "      <td>SCF</td>\n",
       "      <td>go:0019005</td>\n",
       "      <td>SCF</td>\n",
       "      <td>NaN</td>\n",
       "      <td>NaN</td>\n",
       "      <td>v2.7</td>\n",
       "      <td>use</td>\n",
       "      <td>NaN</td>\n",
       "      <td>NaN</td>\n",
       "      <td>NaN</td>\n",
       "      <td>NaN</td>\n",
       "    </tr>\n",
       "    <tr>\n",
       "      <th>1</th>\n",
       "      <td>node0888</td>\n",
       "      <td>ZR</td>\n",
       "      <td>all</td>\n",
       "      <td>Complex</td>\n",
       "      <td>plant_complex</td>\n",
       "      <td>WD/bHLH/MYB</td>\n",
       "      <td>WD/bHLH/MYB</td>\n",
       "      <td>WD/bHLH/MYB</td>\n",
       "      <td>WD/bHLH/MYB</td>\n",
       "      <td>conceptual:complex</td>\n",
       "      <td>WD/bHLH/MYB</td>\n",
       "      <td>NaN</td>\n",
       "      <td>NaN</td>\n",
       "      <td>v2.7</td>\n",
       "      <td>use</td>\n",
       "      <td>NaN</td>\n",
       "      <td>NaN</td>\n",
       "      <td>NaN</td>\n",
       "      <td>NaN</td>\n",
       "    </tr>\n",
       "    <tr>\n",
       "      <th>2</th>\n",
       "      <td>node0787</td>\n",
       "      <td>ZR</td>\n",
       "      <td>all</td>\n",
       "      <td>Complex</td>\n",
       "      <td>plant_complex</td>\n",
       "      <td>ribosome</td>\n",
       "      <td>ribosome</td>\n",
       "      <td>ribosome</td>\n",
       "      <td>ribosome</td>\n",
       "      <td>go:0005840</td>\n",
       "      <td>ribosome</td>\n",
       "      <td>NaN</td>\n",
       "      <td>NaN</td>\n",
       "      <td>v2.6</td>\n",
       "      <td>use</td>\n",
       "      <td>NaN</td>\n",
       "      <td>NaN</td>\n",
       "      <td>NaN</td>\n",
       "      <td>NaN</td>\n",
       "    </tr>\n",
       "  </tbody>\n",
       "</table>\n",
       "</div>"
      ],
      "text/plain": [
       "  identifier AddedBy species NodeLabel       NodeType       Family  \\\n",
       "0   node0887      ZR     all   Complex  plant_complex          SCF   \n",
       "1   node0888      ZR     all   Complex  plant_complex  WD/bHLH/MYB   \n",
       "2   node0787      ZR     all   Complex  plant_complex     ribosome   \n",
       "\n",
       "         Clade       NodeID     NodeName      external_links NodeDescription  \\\n",
       "0          SCF          SCF          SCF          go:0019005             SCF   \n",
       "1  WD/bHLH/MYB  WD/bHLH/MYB  WD/bHLH/MYB  conceptual:complex     WD/bHLH/MYB   \n",
       "2     ribosome     ribosome     ribosome          go:0005840        ribosome   \n",
       "\n",
       "  AdditionalInfo Process ModelV ModelStatus gmm_ocd GMM_Description  \\\n",
       "0            NaN     NaN   v2.7         use     NaN             NaN   \n",
       "1            NaN     NaN   v2.7         use     NaN             NaN   \n",
       "2            NaN     NaN   v2.6         use     NaN             NaN   \n",
       "\n",
       "  GMM_ShortName synonyms  \n",
       "0           NaN      NaN  \n",
       "1           NaN      NaN  \n",
       "2           NaN      NaN  "
      ]
     },
     "execution_count": 54,
     "metadata": {},
     "output_type": "execute_result"
    }
   ],
   "source": [
    "df_bioelements[df_bioelements['species'] == 'all']"
   ]
  },
  {
   "cell_type": "code",
   "execution_count": 55,
   "metadata": {},
   "outputs": [
    {
     "data": {
      "text/plain": [
       "PlantCoding       858\n",
       "PlantAbstract      12\n",
       "PlantNonCoding     12\n",
       "Complex             3\n",
       "Name: NodeLabel, dtype: int64"
      ]
     },
     "execution_count": 55,
     "metadata": {},
     "output_type": "execute_result"
    }
   ],
   "source": [
    "pd.value_counts(df_bioelements['NodeLabel'])"
   ]
  },
  {
   "cell_type": "code",
   "execution_count": 56,
   "metadata": {},
   "outputs": [
    {
     "data": {
      "text/plain": [
       "['all', 'ath', 'stu', 'sly', 'osa']"
      ]
     },
     "execution_count": 56,
     "metadata": {},
     "output_type": "execute_result"
    }
   ],
   "source": [
    "all_species_listed = list(df_bioelements['species'].unique()); all_species_listed"
   ]
  },
  {
   "cell_type": "code",
   "execution_count": 57,
   "metadata": {},
   "outputs": [],
   "source": [
    "all_species = all_species_listed.copy()"
   ]
  },
  {
   "cell_type": "code",
   "execution_count": 58,
   "metadata": {},
   "outputs": [],
   "source": [
    "try: all_species.remove('plant_all')\n",
    "except ValueError: pass\n",
    "try: all_species.remove('all')\n",
    "except ValueError: pass    "
   ]
  },
  {
   "cell_type": "code",
   "execution_count": 59,
   "metadata": {},
   "outputs": [
    {
     "data": {
      "text/plain": [
       "['ath', 'stu', 'sly', 'osa']"
      ]
     },
     "execution_count": 59,
     "metadata": {},
     "output_type": "execute_result"
    }
   ],
   "source": [
    "all_species"
   ]
  },
  {
   "cell_type": "code",
   "execution_count": 60,
   "metadata": {},
   "outputs": [],
   "source": [
    "def pick_the_set(x):\n",
    "    for v in x:\n",
    "        if type(v) == set:\n",
    "            return \",\".join(list(v))\n",
    "    return ''\n",
    "\n",
    "\n",
    "def get_species_homologues(level):\n",
    "    df_level_species  = df_bioelements.groupby([level, 'species']).agg({\n",
    "      'NodeID':lambda x: set(x), \n",
    "    })\n",
    "    \n",
    "    df_level_species.reset_index(1, inplace=True)\n",
    "\n",
    "    cols = []\n",
    "    for specie in all_species:\n",
    "        col = specie + '_homologues'\n",
    "        cols.append(col)\n",
    "        df_level_species.loc[df_level_species['species'] == specie, col] =\\\n",
    "                 df_level_species[df_level_species['species'] == specie]['NodeID']\n",
    "    \n",
    "    df_level_species = df_level_species[cols].groupby(level).agg({\n",
    "        y:pick_the_set for y in cols\n",
    "    })\n",
    "    \n",
    "    df_level = df_bioelements.fillna('').groupby(level).agg({\n",
    "          'AddedBy':lambda x:list(x)[0], \n",
    "          'NodeLabel':lambda x:list(x)[0], \n",
    "          'NodeDescription':lambda x: ', '.join(list(set(x))), \n",
    "          'AdditionalInfo':lambda x: helpers.list_to_string(x), \n",
    "          'Process':lambda x:list(x)[0], \n",
    "          'ModelV':helpers.get_latest_model, \n",
    "          'species':lambda x: ', '.join(list(set(x))),\n",
    "          'ModelStatus':helpers.get_model_status,\n",
    "          'external_links':lambda x: ', '.join([s for s in x if not s=='']), \n",
    "          'gmm_ocd':lambda x: ', '.join(list(set(x))),\n",
    "          'GMM_Description':lambda x: ', '.join(list(set(x))),\n",
    "          'GMM_ShortName':lambda x: ', '.join(list(set(x))),\n",
    "          'synonyms':lambda x: ', '.join(list(set(x))),\n",
    "    })    \n",
    "\n",
    "    df_level = df_level.join(df_level_species[cols])\n",
    "    df_level.reset_index(inplace=True)\n",
    "    \n",
    "    return df_level"
   ]
  },
  {
   "cell_type": "code",
   "execution_count": 61,
   "metadata": {},
   "outputs": [],
   "source": [
    "df_families = get_species_homologues(\"Family\")"
   ]
  },
  {
   "cell_type": "code",
   "execution_count": 62,
   "metadata": {},
   "outputs": [
    {
     "data": {
      "text/plain": [
       "181"
      ]
     },
     "execution_count": 62,
     "metadata": {},
     "output_type": "execute_result"
    }
   ],
   "source": [
    "df_families.shape[0]"
   ]
  },
  {
   "cell_type": "code",
   "execution_count": 63,
   "metadata": {},
   "outputs": [
    {
     "data": {
      "text/html": [
       "<div>\n",
       "<style scoped>\n",
       "    .dataframe tbody tr th:only-of-type {\n",
       "        vertical-align: middle;\n",
       "    }\n",
       "\n",
       "    .dataframe tbody tr th {\n",
       "        vertical-align: top;\n",
       "    }\n",
       "\n",
       "    .dataframe thead th {\n",
       "        text-align: right;\n",
       "    }\n",
       "</style>\n",
       "<table border=\"1\" class=\"dataframe\">\n",
       "  <thead>\n",
       "    <tr style=\"text-align: right;\">\n",
       "      <th></th>\n",
       "      <th>Family</th>\n",
       "      <th>AddedBy</th>\n",
       "      <th>NodeLabel</th>\n",
       "      <th>NodeDescription</th>\n",
       "      <th>AdditionalInfo</th>\n",
       "      <th>Process</th>\n",
       "      <th>ModelV</th>\n",
       "      <th>species</th>\n",
       "      <th>ModelStatus</th>\n",
       "      <th>external_links</th>\n",
       "      <th>gmm_ocd</th>\n",
       "      <th>GMM_Description</th>\n",
       "      <th>GMM_ShortName</th>\n",
       "      <th>synonyms</th>\n",
       "      <th>ath_homologues</th>\n",
       "      <th>stu_homologues</th>\n",
       "      <th>sly_homologues</th>\n",
       "      <th>osa_homologues</th>\n",
       "    </tr>\n",
       "  </thead>\n",
       "  <tbody>\n",
       "    <tr>\n",
       "      <th>0</th>\n",
       "      <td>&amp;alpha;/&amp;beta; hydroxylase</td>\n",
       "      <td>JALR</td>\n",
       "      <td>PlantCoding</td>\n",
       "      <td>D14; Strigolactone esterase D14;  &amp;alpha;/&amp;bet...</td>\n",
       "      <td>D14 is the SL receptor</td>\n",
       "      <td>Hormone:SLs</td>\n",
       "      <td>v0.0</td>\n",
       "      <td>ath</td>\n",
       "      <td>use</td>\n",
       "      <td>uniprot:Q9SQR3</td>\n",
       "      <td></td>\n",
       "      <td></td>\n",
       "      <td></td>\n",
       "      <td>D14</td>\n",
       "      <td>AT3G03990</td>\n",
       "      <td></td>\n",
       "      <td></td>\n",
       "      <td></td>\n",
       "    </tr>\n",
       "    <tr>\n",
       "      <th>1</th>\n",
       "      <td>&amp;beta;-carotene isomerase</td>\n",
       "      <td>JALR</td>\n",
       "      <td>PlantCoding</td>\n",
       "      <td>b-carotene isomerase; Beta-carotene isomerase ...</td>\n",
       "      <td>Os11g0587000; The orthologous in Arabidopsis i...</td>\n",
       "      <td>Hormone:SLs</td>\n",
       "      <td>v0.0</td>\n",
       "      <td>osa</td>\n",
       "      <td>use</td>\n",
       "      <td>uniprot:Q7XA78</td>\n",
       "      <td></td>\n",
       "      <td></td>\n",
       "      <td></td>\n",
       "      <td></td>\n",
       "      <td></td>\n",
       "      <td></td>\n",
       "      <td></td>\n",
       "      <td>OS11G0587000</td>\n",
       "    </tr>\n",
       "    <tr>\n",
       "      <th>2</th>\n",
       "      <td>4CLL</td>\n",
       "      <td>KG</td>\n",
       "      <td>PlantCoding</td>\n",
       "      <td>AMP-dependent synthetase and ligase family pro...</td>\n",
       "      <td>OPCL1: physiological role in JA biosynthesis w...</td>\n",
       "      <td>Hormone:JA</td>\n",
       "      <td>v2.5</td>\n",
       "      <td>ath</td>\n",
       "      <td>use</td>\n",
       "      <td>gmm_ocd:ocd_all_000824, gmm_ocd:ocd_all_000824...</td>\n",
       "      <td>ocd_all_000824</td>\n",
       "      <td>AMP-dependent synthetase and ligase family pro...</td>\n",
       "      <td>4CLL8, 4CLL5, 4CLL7, 4CLL4, 4CLL3, 4CLL2</td>\n",
       "      <td>4CLL7, 4CLL4, 4CLL3, 4CLL5,OPCL1, 4CLL2, 4CL8,...</td>\n",
       "      <td>AT1G20510,AT1G20490,AT1G20480,AT5G38120,AT4G05...</td>\n",
       "      <td></td>\n",
       "      <td></td>\n",
       "      <td></td>\n",
       "    </tr>\n",
       "    <tr>\n",
       "      <th>3</th>\n",
       "      <td>AAO</td>\n",
       "      <td>KG</td>\n",
       "      <td>PlantCoding</td>\n",
       "      <td>xanthine dehydrogenase, aldehyde oxidase</td>\n",
       "      <td>Encodes aldehyde oxidase AA01.,Encodes an alde...</td>\n",
       "      <td>Hormone:SA</td>\n",
       "      <td>v2.5</td>\n",
       "      <td>ath</td>\n",
       "      <td>use</td>\n",
       "      <td>gmm_ocd:ocd_all_000158, gmm_ocd:ocd_all_000158...</td>\n",
       "      <td>ocd_all_000158</td>\n",
       "      <td>aldehyde oxidase 2, aldehyde oxidase 4, xanthi...</td>\n",
       "      <td>AAO3, AAO2, XDH2, AAO1, AAO4, XDH1</td>\n",
       "      <td>ATXDH1,XDH1, ATXDH2,XDH2, AAO4,AO2,AO4,ATAO-4,...</td>\n",
       "      <td>AT4G34890,AT2G27150,AT1G04580,AT5G20960,AT4G34...</td>\n",
       "      <td></td>\n",
       "      <td></td>\n",
       "      <td></td>\n",
       "    </tr>\n",
       "    <tr>\n",
       "      <th>4</th>\n",
       "      <td>ACH</td>\n",
       "      <td>KG</td>\n",
       "      <td>PlantCoding</td>\n",
       "      <td>acyl-coenzyme A thioesterase 9 [EC:3.1.2.-]; A...</td>\n",
       "      <td></td>\n",
       "      <td>Hormone:JA</td>\n",
       "      <td>v2.5</td>\n",
       "      <td>ath</td>\n",
       "      <td>use</td>\n",
       "      <td>ec:3.1.2.-,gmm_ocd:ocd_all_002748, ec:3.1.2.-,...</td>\n",
       "      <td>ocd_all_002748</td>\n",
       "      <td>Thioesterase/thiol ester dehydrase-isomerase s...</td>\n",
       "      <td></td>\n",
       "      <td></td>\n",
       "      <td>AT5G48370,AT2G30720</td>\n",
       "      <td></td>\n",
       "      <td></td>\n",
       "      <td></td>\n",
       "    </tr>\n",
       "  </tbody>\n",
       "</table>\n",
       "</div>"
      ],
      "text/plain": [
       "                       Family AddedBy    NodeLabel  \\\n",
       "0  &alpha;/&beta; hydroxylase    JALR  PlantCoding   \n",
       "1   &beta;-carotene isomerase    JALR  PlantCoding   \n",
       "2                        4CLL      KG  PlantCoding   \n",
       "3                         AAO      KG  PlantCoding   \n",
       "4                         ACH      KG  PlantCoding   \n",
       "\n",
       "                                     NodeDescription  \\\n",
       "0  D14; Strigolactone esterase D14;  &alpha;/&bet...   \n",
       "1  b-carotene isomerase; Beta-carotene isomerase ...   \n",
       "2  AMP-dependent synthetase and ligase family pro...   \n",
       "3           xanthine dehydrogenase, aldehyde oxidase   \n",
       "4  acyl-coenzyme A thioesterase 9 [EC:3.1.2.-]; A...   \n",
       "\n",
       "                                      AdditionalInfo      Process ModelV  \\\n",
       "0                             D14 is the SL receptor  Hormone:SLs   v0.0   \n",
       "1  Os11g0587000; The orthologous in Arabidopsis i...  Hormone:SLs   v0.0   \n",
       "2  OPCL1: physiological role in JA biosynthesis w...   Hormone:JA   v2.5   \n",
       "3  Encodes aldehyde oxidase AA01.,Encodes an alde...   Hormone:SA   v2.5   \n",
       "4                                                      Hormone:JA   v2.5   \n",
       "\n",
       "  species ModelStatus                                     external_links  \\\n",
       "0     ath         use                                     uniprot:Q9SQR3   \n",
       "1     osa         use                                     uniprot:Q7XA78   \n",
       "2     ath         use  gmm_ocd:ocd_all_000824, gmm_ocd:ocd_all_000824...   \n",
       "3     ath         use  gmm_ocd:ocd_all_000158, gmm_ocd:ocd_all_000158...   \n",
       "4     ath         use  ec:3.1.2.-,gmm_ocd:ocd_all_002748, ec:3.1.2.-,...   \n",
       "\n",
       "          gmm_ocd                                    GMM_Description  \\\n",
       "0                                                                      \n",
       "1                                                                      \n",
       "2  ocd_all_000824  AMP-dependent synthetase and ligase family pro...   \n",
       "3  ocd_all_000158  aldehyde oxidase 2, aldehyde oxidase 4, xanthi...   \n",
       "4  ocd_all_002748  Thioesterase/thiol ester dehydrase-isomerase s...   \n",
       "\n",
       "                              GMM_ShortName  \\\n",
       "0                                             \n",
       "1                                             \n",
       "2  4CLL8, 4CLL5, 4CLL7, 4CLL4, 4CLL3, 4CLL2   \n",
       "3        AAO3, AAO2, XDH2, AAO1, AAO4, XDH1   \n",
       "4                                             \n",
       "\n",
       "                                            synonyms  \\\n",
       "0                                                D14   \n",
       "1                                                      \n",
       "2  4CLL7, 4CLL4, 4CLL3, 4CLL5,OPCL1, 4CLL2, 4CL8,...   \n",
       "3  ATXDH1,XDH1, ATXDH2,XDH2, AAO4,AO2,AO4,ATAO-4,...   \n",
       "4                                                      \n",
       "\n",
       "                                      ath_homologues stu_homologues  \\\n",
       "0                                          AT3G03990                  \n",
       "1                                                                     \n",
       "2  AT1G20510,AT1G20490,AT1G20480,AT5G38120,AT4G05...                  \n",
       "3  AT4G34890,AT2G27150,AT1G04580,AT5G20960,AT4G34...                  \n",
       "4                                AT5G48370,AT2G30720                  \n",
       "\n",
       "  sly_homologues osa_homologues  \n",
       "0                                \n",
       "1                  OS11G0587000  \n",
       "2                                \n",
       "3                                \n",
       "4                                "
      ]
     },
     "execution_count": 63,
     "metadata": {},
     "output_type": "execute_result"
    }
   ],
   "source": [
    "df_families.head()"
   ]
  },
  {
   "cell_type": "code",
   "execution_count": 64,
   "metadata": {},
   "outputs": [
    {
     "name": "stdout",
     "output_type": "stream",
     "text": [
      "Complex \t 3\n",
      "PlantAbstract \t 7\n",
      "PlantCoding \t 162\n",
      "PlantNonCoding \t 9\n"
     ]
    }
   ],
   "source": [
    "# save node types \n",
    "family_node_labels = []\n",
    "for t, subdf in df_families.groupby(\"NodeLabel\"):\n",
    "    print(t, \"\\t\", subdf.shape[0])\n",
    "    subdf.to_csv(\"../data/import/%s-components.tsv\"%t, sep=\"\\t\", index=None)\n",
    "    family_node_labels.append(t)"
   ]
  },
  {
   "cell_type": "code",
   "execution_count": 65,
   "metadata": {
    "scrolled": true
   },
   "outputs": [
    {
     "name": "stdout",
     "output_type": "stream",
     "text": [
      "Complex \t 3\n",
      "PlantAbstract \t 7\n",
      "PlantCoding \t 162\n",
      "PlantNonCoding \t 9\n"
     ]
    }
   ],
   "source": [
    "has_family = [\"PlantCoding\", \"PlantNonCoding\", \"PlantAbstract\"]\n",
    "\n",
    "\n",
    "for t in family_node_labels:\n",
    "    if t in has_family: \n",
    "        labels = [t, 'Family']\n",
    "    else:\n",
    "        labels = [t]\n",
    "    query = helpers.bioelement_node_query(\"%s-components.tsv\"%t, labels, n_name=\"line.Family\")\n",
    "    #query = f\"MATCH (n:{t}) DELETE n\"\n",
    "    #print(query)\n",
    "    qr = graph.run(query)\n",
    "    print(t, \"\\t\", qr.stats()['nodes_created'])"
   ]
  },
  {
   "cell_type": "code",
   "execution_count": 66,
   "metadata": {},
   "outputs": [],
   "source": [
    "file_name = parsed_path / \"bio_elements.tsv\"\n",
    "df_bioelements.to_csv(file_name, sep=\"\\t\", index=False)"
   ]
  },
  {
   "cell_type": "markdown",
   "metadata": {},
   "source": [
    "## Process"
   ]
  },
  {
   "cell_type": "code",
   "execution_count": 67,
   "metadata": {},
   "outputs": [],
   "source": [
    "df_process = df_components[df_components['NodeLabel'].isin(['Process'\n",
    "                                                                ])].copy()"
   ]
  },
  {
   "cell_type": "code",
   "execution_count": 68,
   "metadata": {},
   "outputs": [
    {
     "data": {
      "text/html": [
       "<div>\n",
       "<style scoped>\n",
       "    .dataframe tbody tr th:only-of-type {\n",
       "        vertical-align: middle;\n",
       "    }\n",
       "\n",
       "    .dataframe tbody tr th {\n",
       "        vertical-align: top;\n",
       "    }\n",
       "\n",
       "    .dataframe thead th {\n",
       "        text-align: right;\n",
       "    }\n",
       "</style>\n",
       "<table border=\"1\" class=\"dataframe\">\n",
       "  <thead>\n",
       "    <tr style=\"text-align: right;\">\n",
       "      <th></th>\n",
       "      <th>identifier</th>\n",
       "      <th>AddedBy</th>\n",
       "      <th>species</th>\n",
       "      <th>NodeLabel</th>\n",
       "      <th>NodeType</th>\n",
       "      <th>Family</th>\n",
       "      <th>Clade</th>\n",
       "      <th>NodeID</th>\n",
       "      <th>NodeName</th>\n",
       "      <th>external_links</th>\n",
       "      <th>NodeDescription</th>\n",
       "      <th>AdditionalInfo</th>\n",
       "      <th>Process</th>\n",
       "      <th>ModelV</th>\n",
       "      <th>ModelStatus</th>\n",
       "      <th>gmm_ocd</th>\n",
       "      <th>GMM_Description</th>\n",
       "      <th>GMM_ShortName</th>\n",
       "      <th>synonyms</th>\n",
       "    </tr>\n",
       "  </thead>\n",
       "  <tbody>\n",
       "    <tr>\n",
       "      <th>1009</th>\n",
       "      <td>node0792</td>\n",
       "      <td>ZR</td>\n",
       "      <td>all</td>\n",
       "      <td>Process</td>\n",
       "      <td>process</td>\n",
       "      <td>AUX-signalling</td>\n",
       "      <td>AUX-signalling</td>\n",
       "      <td>AUX-signalling</td>\n",
       "      <td>AUX-signalling</td>\n",
       "      <td>conceptual:process</td>\n",
       "      <td>Auxin signalling.</td>\n",
       "      <td>NaN</td>\n",
       "      <td>Hormone:AUX</td>\n",
       "      <td>v2.6</td>\n",
       "      <td>use</td>\n",
       "      <td>NaN</td>\n",
       "      <td>NaN</td>\n",
       "      <td>NaN</td>\n",
       "      <td>NaN</td>\n",
       "    </tr>\n",
       "    <tr>\n",
       "      <th>1010</th>\n",
       "      <td>node0788</td>\n",
       "      <td>ZR</td>\n",
       "      <td>all</td>\n",
       "      <td>Process</td>\n",
       "      <td>process</td>\n",
       "      <td>Anthocyanin-accumulation</td>\n",
       "      <td>Anthocyanin-accumulation</td>\n",
       "      <td>Anthocyanin-accumulation</td>\n",
       "      <td>Anthocyanin-accumulation</td>\n",
       "      <td>conceptual:process</td>\n",
       "      <td>Accumulation of anthocynanins.</td>\n",
       "      <td>NaN</td>\n",
       "      <td>P:Secondary-metabolism_Anthocyanins</td>\n",
       "      <td>v2.6</td>\n",
       "      <td>use</td>\n",
       "      <td>NaN</td>\n",
       "      <td>NaN</td>\n",
       "      <td>NaN</td>\n",
       "      <td>NaN</td>\n",
       "    </tr>\n",
       "    <tr>\n",
       "      <th>1011</th>\n",
       "      <td>node0793</td>\n",
       "      <td>ZR</td>\n",
       "      <td>all</td>\n",
       "      <td>Process</td>\n",
       "      <td>process</td>\n",
       "      <td>CO2-deficiency</td>\n",
       "      <td>CO2-deficiency</td>\n",
       "      <td>CO2-deficiency</td>\n",
       "      <td>CO2-deficiency</td>\n",
       "      <td>conceptual:process</td>\n",
       "      <td>ROS processes.</td>\n",
       "      <td>NaN</td>\n",
       "      <td>S:ROS</td>\n",
       "      <td>v2.6</td>\n",
       "      <td>use</td>\n",
       "      <td>NaN</td>\n",
       "      <td>NaN</td>\n",
       "      <td>NaN</td>\n",
       "      <td>NaN</td>\n",
       "    </tr>\n",
       "    <tr>\n",
       "      <th>1012</th>\n",
       "      <td>node0790</td>\n",
       "      <td>ZR</td>\n",
       "      <td>all</td>\n",
       "      <td>Process</td>\n",
       "      <td>process</td>\n",
       "      <td>RNA-silencing</td>\n",
       "      <td>RNA-silencing</td>\n",
       "      <td>RNA-silencing</td>\n",
       "      <td>RNA-silencing</td>\n",
       "      <td>conceptual:process</td>\n",
       "      <td>RNA silencing.</td>\n",
       "      <td>NaN</td>\n",
       "      <td>P:Silencing</td>\n",
       "      <td>v2.6</td>\n",
       "      <td>use</td>\n",
       "      <td>NaN</td>\n",
       "      <td>NaN</td>\n",
       "      <td>NaN</td>\n",
       "      <td>NaN</td>\n",
       "    </tr>\n",
       "    <tr>\n",
       "      <th>1013</th>\n",
       "      <td>node0791</td>\n",
       "      <td>ZR</td>\n",
       "      <td>all</td>\n",
       "      <td>Process</td>\n",
       "      <td>process</td>\n",
       "      <td>ROS-production</td>\n",
       "      <td>ROS-production</td>\n",
       "      <td>ROS-production</td>\n",
       "      <td>ROS-production</td>\n",
       "      <td>conceptual:process</td>\n",
       "      <td>ROS processes.</td>\n",
       "      <td>NaN</td>\n",
       "      <td>S:ROS</td>\n",
       "      <td>v2.6</td>\n",
       "      <td>use</td>\n",
       "      <td>NaN</td>\n",
       "      <td>NaN</td>\n",
       "      <td>NaN</td>\n",
       "      <td>NaN</td>\n",
       "    </tr>\n",
       "  </tbody>\n",
       "</table>\n",
       "</div>"
      ],
      "text/plain": [
       "     identifier AddedBy species NodeLabel NodeType                    Family  \\\n",
       "1009   node0792      ZR     all   Process  process            AUX-signalling   \n",
       "1010   node0788      ZR     all   Process  process  Anthocyanin-accumulation   \n",
       "1011   node0793      ZR     all   Process  process            CO2-deficiency   \n",
       "1012   node0790      ZR     all   Process  process             RNA-silencing   \n",
       "1013   node0791      ZR     all   Process  process            ROS-production   \n",
       "\n",
       "                         Clade                    NodeID  \\\n",
       "1009            AUX-signalling            AUX-signalling   \n",
       "1010  Anthocyanin-accumulation  Anthocyanin-accumulation   \n",
       "1011            CO2-deficiency            CO2-deficiency   \n",
       "1012             RNA-silencing             RNA-silencing   \n",
       "1013            ROS-production            ROS-production   \n",
       "\n",
       "                      NodeName      external_links  \\\n",
       "1009            AUX-signalling  conceptual:process   \n",
       "1010  Anthocyanin-accumulation  conceptual:process   \n",
       "1011            CO2-deficiency  conceptual:process   \n",
       "1012             RNA-silencing  conceptual:process   \n",
       "1013            ROS-production  conceptual:process   \n",
       "\n",
       "                     NodeDescription AdditionalInfo  \\\n",
       "1009               Auxin signalling.            NaN   \n",
       "1010  Accumulation of anthocynanins.            NaN   \n",
       "1011                  ROS processes.            NaN   \n",
       "1012                  RNA silencing.            NaN   \n",
       "1013                  ROS processes.            NaN   \n",
       "\n",
       "                                  Process ModelV ModelStatus gmm_ocd  \\\n",
       "1009                          Hormone:AUX   v2.6         use     NaN   \n",
       "1010  P:Secondary-metabolism_Anthocyanins   v2.6         use     NaN   \n",
       "1011                                S:ROS   v2.6         use     NaN   \n",
       "1012                          P:Silencing   v2.6         use     NaN   \n",
       "1013                                S:ROS   v2.6         use     NaN   \n",
       "\n",
       "     GMM_Description GMM_ShortName synonyms  \n",
       "1009             NaN           NaN      NaN  \n",
       "1010             NaN           NaN      NaN  \n",
       "1011             NaN           NaN      NaN  \n",
       "1012             NaN           NaN      NaN  \n",
       "1013             NaN           NaN      NaN  "
      ]
     },
     "execution_count": 68,
     "metadata": {},
     "output_type": "execute_result"
    }
   ],
   "source": [
    "df_process.head()"
   ]
  },
  {
   "cell_type": "code",
   "execution_count": 69,
   "metadata": {},
   "outputs": [],
   "source": [
    "want_columns = ['AddedBy', 'NodeLabel',  \n",
    "        'NodeName', 'external_links', 'NodeDescription',\n",
    "       'AdditionalInfo', 'Process', 'ModelV', 'ModelStatus']\n"
   ]
  },
  {
   "cell_type": "code",
   "execution_count": 70,
   "metadata": {},
   "outputs": [],
   "source": [
    "label = \"Process\"\n",
    "f = \"%s-components.tsv\"%label\n",
    "df_process[want_columns].to_csv(\"../data/import/\" + f, sep=\"\\t\", index=None)"
   ]
  },
  {
   "cell_type": "code",
   "execution_count": 71,
   "metadata": {},
   "outputs": [
    {
     "name": "stdout",
     "output_type": "stream",
     "text": [
      "USING PERIODIC COMMIT 500\n",
      "           LOAD CSV WITH HEADERS FROM  'file:///Process-components.tsv' AS line FIELDTERMINATOR '\t'\n",
      "           CREATE (p:Process   { \n",
      "                name:line.NodeName, \n",
      "                added_by:line.AddedBy,\n",
      "                description:line.NodeDescription, \n",
      "                additional_information: line.AdditionalInfo, \n",
      "                model_version:line.ModelV,\n",
      "                model_status:line.ModelStatus, \n",
      "                pathway:line.Process,\n",
      "                \n",
      "                external_links:split(line.external_links, \",\")\n",
      "                \n",
      "            })\n"
     ]
    }
   ],
   "source": [
    "q = helpers.process_node_query(f, label, \n",
    "                     n_name=\"line.NodeName\", \n",
    "                    )\n",
    "print(q)"
   ]
  },
  {
   "cell_type": "code",
   "execution_count": 72,
   "metadata": {},
   "outputs": [],
   "source": [
    "qr = graph.run(q)\n",
    "if not df_process.shape[0] == qr.stats()['nodes_created']:\n",
    "    raise Exception"
   ]
  },
  {
   "cell_type": "markdown",
   "metadata": {},
   "source": [
    "# END "
   ]
  },
  {
   "cell_type": "code",
   "execution_count": null,
   "metadata": {},
   "outputs": [],
   "source": []
  },
  {
   "cell_type": "code",
   "execution_count": null,
   "metadata": {},
   "outputs": [],
   "source": []
  },
  {
   "cell_type": "markdown",
   "metadata": {},
   "source": [
    "## Protein, Clade, Family keys"
   ]
  },
  {
   "cell_type": "code",
   "execution_count": null,
   "metadata": {},
   "outputs": [],
   "source": [
    "input_path"
   ]
  },
  {
   "cell_type": "code",
   "execution_count": null,
   "metadata": {},
   "outputs": [],
   "source": [
    "file_name = os.path.join(input_path, \"bio_elements.tsv\")\n",
    "df_bioelements.to_csv(file_name, sep=\"\\t\", index=False)"
   ]
  },
  {
   "cell_type": "code",
   "execution_count": null,
   "metadata": {},
   "outputs": [],
   "source": [
    "id_to_name = df_bioelements[['NodeID', 'NodeName']]"
   ]
  },
  {
   "cell_type": "code",
   "execution_count": null,
   "metadata": {},
   "outputs": [],
   "source": [
    "id_to_name[id_to_name['NodeName'].duplicated()]['NodeName'].unique()"
   ]
  },
  {
   "cell_type": "code",
   "execution_count": null,
   "metadata": {},
   "outputs": [],
   "source": [
    "df_nodes = get_species_homologues('NodeName')\n",
    "df_nodes.set_index('NodeName', inplace=True)"
   ]
  },
  {
   "cell_type": "code",
   "execution_count": null,
   "metadata": {},
   "outputs": [],
   "source": [
    "# node name to node IDs\n",
    "node_ids_key = {}\n",
    "for species in all_species:\n",
    "    col = species + '_homologues'\n",
    "    node_ids_key[col] = df_nodes[col].to_dict()"
   ]
  },
  {
   "cell_type": "code",
   "execution_count": null,
   "metadata": {},
   "outputs": [],
   "source": [
    "df_clades = get_species_homologues('Clade')\n",
    "df_clades.set_index('Clade', inplace=True)"
   ]
  },
  {
   "cell_type": "code",
   "execution_count": null,
   "metadata": {},
   "outputs": [],
   "source": [
    "# clade name to node IDs\n",
    "clade_ids_key = {}\n",
    "for species in all_species:\n",
    "    col = species + '_homologues'\n",
    "    clade_ids_key[col] = df_clades[col].to_dict() "
   ]
  },
  {
   "cell_type": "code",
   "execution_count": null,
   "metadata": {},
   "outputs": [],
   "source": [
    "# family name to node IDs\n",
    "df_families.set_index(\"Family\", inplace=True)\n",
    "family_ids_key = {}\n",
    "for species in all_species:\n",
    "    col = species + '_homologues'\n",
    "    family_ids_key[col] = df_families[col].to_dict() "
   ]
  },
  {
   "cell_type": "code",
   "execution_count": null,
   "metadata": {},
   "outputs": [],
   "source": [
    "node_to_family = df_bioelements[[\"NodeName\", \"Family\"]].set_index(\"NodeName\")[\"Family\"].to_dict()"
   ]
  },
  {
   "cell_type": "code",
   "execution_count": null,
   "metadata": {},
   "outputs": [],
   "source": [
    "clade_to_family = df_bioelements[[\"Clade\", \"Family\"]].set_index(\"Clade\")[\"Family\"].to_dict()"
   ]
  },
  {
   "cell_type": "code",
   "execution_count": null,
   "metadata": {},
   "outputs": [],
   "source": []
  },
  {
   "cell_type": "code",
   "execution_count": null,
   "metadata": {},
   "outputs": [],
   "source": []
  },
  {
   "cell_type": "code",
   "execution_count": null,
   "metadata": {},
   "outputs": [],
   "source": []
  },
  {
   "cell_type": "code",
   "execution_count": null,
   "metadata": {},
   "outputs": [],
   "source": []
  },
  {
   "cell_type": "code",
   "execution_count": null,
   "metadata": {},
   "outputs": [],
   "source": []
  },
  {
   "cell_type": "code",
   "execution_count": null,
   "metadata": {},
   "outputs": [],
   "source": []
  },
  {
   "cell_type": "code",
   "execution_count": null,
   "metadata": {},
   "outputs": [],
   "source": [
    "df_process['NodeName']"
   ]
  },
  {
   "cell_type": "code",
   "execution_count": null,
   "metadata": {},
   "outputs": [],
   "source": [
    "df_components[\"Process\"].unique()"
   ]
  },
  {
   "cell_type": "markdown",
   "metadata": {},
   "source": [
    "## Components summary"
   ]
  },
  {
   "cell_type": "code",
   "execution_count": null,
   "metadata": {},
   "outputs": [],
   "source": [
    "q = '''MATCH (n) RETURN DISTINCT n.name AS name, n.level AS level'''\n",
    "nodes = graph.run(q).data()\n",
    "all_nodes_in_components = set([(d[\"name\"], d[\"level\"]) for d in nodes])"
   ]
  },
  {
   "cell_type": "code",
   "execution_count": null,
   "metadata": {},
   "outputs": [],
   "source": [
    "len(all_nodes_in_components)"
   ]
  },
  {
   "cell_type": "code",
   "execution_count": null,
   "metadata": {
    "scrolled": true
   },
   "outputs": [],
   "source": [
    "sorted(df_components['NodeLabel'].unique())"
   ]
  },
  {
   "cell_type": "code",
   "execution_count": null,
   "metadata": {},
   "outputs": [],
   "source": [
    "node_dict = {}\n",
    "for label in node_labels:\n",
    "    q = '''MATCH (n:%s) RETURN DISTINCT n.name'''%label\n",
    "    s = set([d['n.name'] for d in graph.run(q).data()])\n",
    "    print(label, len(s))\n",
    "    node_dict[label] = s\n"
   ]
  },
  {
   "cell_type": "markdown",
   "metadata": {},
   "source": [
    "### Reactions sheet"
   ]
  },
  {
   "cell_type": "code",
   "execution_count": null,
   "metadata": {},
   "outputs": [],
   "source": [
    "df_edges_orig = pd.read_excel(input_path, \n",
    "                         sheet_name=\"Reactions\", \n",
    "                         header=[1], \n",
    "                         dtype=str, \n",
    "                         na_values=helpers.empty_strings)\n",
    "df_edges_orig = df_edges_orig[df_edges_orig['Status'].isin([\"forCB\", \"forCB_INVENTED\"])]\n",
    "df_edges_orig.drop(['Status', 'FOXMES', 'Legacy:Process', 'Legacy:ReactionMode'], axis=1, inplace=True)\n",
    "df_edges_orig.columns = pd.Index(['AddedBy', 'ConnID', 'Species', \n",
    "          'input1_ID', 'input1_level', 'input1_localisation', 'input1_type', \n",
    "          'input2_ID', 'input2_level', 'input2_localisation', 'input2_type', \n",
    "          'input3_ID', 'input3_level', 'input3_localisation', 'input3_type', \n",
    "          'ReactionEffect', 'ReactionMode', 'Modifications',\n",
    "          'output1_ID', 'output1_level', 'output1_localisation', 'output1_type', \n",
    "          'TrustLevel', 'Literature', 'AdditionalInfo', 'Comment', 'ModelV', 'kinetics'],\n",
    "      dtype='object')\n",
    "\n",
    "df_edges_new = pd.read_excel(input_path, \n",
    "                         sheet_name=\"Reactions_New\", \n",
    "                         header=[1], \n",
    "                         dtype=str, \n",
    "                         na_values=helpers.empty_strings)\n",
    "df_edges_new = df_edges_new[~df_edges_new['AddedBy'].isin(['-'])]\n",
    "df_edges_new.drop(['Status'], axis=1, inplace=True)\n",
    "df_edges_new.columns = pd.Index(['AddedBy', 'ConnID', 'Species', \n",
    "          'input1_ID', 'input1_level', 'input1_type', \n",
    "          'input2_ID', 'input2_level', 'input2_type', \n",
    "          'input3_ID', 'input3_level', 'input3_type',                                  \n",
    "          'ReactionEffect', 'ReactionMode', \n",
    "          'output1_ID', 'output1_level', 'output1_type', \n",
    "          'TrustLevel', 'Literature', 'AdditionalInfo', 'Comment', 'ModelV'],\n",
    "      dtype='object')\n",
    "\n",
    "\n",
    "df_edges = pd.concat([df_edges_orig, df_edges_new], sort=False)"
   ]
  },
  {
   "cell_type": "code",
   "execution_count": null,
   "metadata": {},
   "outputs": [],
   "source": [
    "df_edges = df_edges[~df_edges[\"AddedBy\"].isna()]"
   ]
  },
  {
   "cell_type": "code",
   "execution_count": null,
   "metadata": {},
   "outputs": [],
   "source": [
    "df_edges.tail()"
   ]
  },
  {
   "cell_type": "code",
   "execution_count": null,
   "metadata": {},
   "outputs": [],
   "source": [
    "x = df_edges[df_edges['AddedBy']=='x'].index\n",
    "print(x)\n",
    "df_edges.drop(x, inplace=True)"
   ]
  },
  {
   "cell_type": "code",
   "execution_count": null,
   "metadata": {},
   "outputs": [],
   "source": [
    "df_edges[\"TrustLevel\"].unique()"
   ]
  },
  {
   "cell_type": "code",
   "execution_count": null,
   "metadata": {},
   "outputs": [],
   "source": [
    "df_edges['trust_level']  = df_edges[\"TrustLevel\"].apply(lambda x: re.search( r\"(R[1|2|3|4|x|y]|undefined)\", x).groups()[0])\n",
    "df_edges['observed_species'] = df_edges[\"Species\"].apply(helpers.get_second_item)\n",
    "df_edges['also_observed_in'] = df_edges[\"Species\"].apply(helpers.rest_of_items)\n",
    "df_edges['Comment'] = df_edges['Comment'].fillna(\"\")\n",
    "df_edges['AdditionalInfo'] = df_edges['AdditionalInfo'].fillna(\"\")"
   ]
  },
  {
   "cell_type": "code",
   "execution_count": null,
   "metadata": {},
   "outputs": [],
   "source": [
    "df_edges['AddedBy'] = df_edges['AddedBy'].apply(lambda x: x.upper())\n",
    "df_edges[\"AddedBy\"].unique()"
   ]
  },
  {
   "cell_type": "code",
   "execution_count": null,
   "metadata": {},
   "outputs": [],
   "source": [
    "df_edges.loc[df_edges['ModelV'].isna(), 'ModelV'] = 'vNA'\n",
    "df_edges['ModelV'].unique()"
   ]
  },
  {
   "cell_type": "code",
   "execution_count": null,
   "metadata": {},
   "outputs": [],
   "source": [
    "def only_asci(x):\n",
    "    return \"\".join([character for character in x if character.isascii()])\n",
    "\n",
    "def doi_list(x):\n",
    "    x = only_asci(x.lower())\n",
    "    match = re.findall(\"(?:doi)(?:\\:|\\/)\\s*(.+?)(?:\\s|$)\", x)\n",
    "    if not match is None:\n",
    "        return [\"doi:\" + m.rstrip('.') for m in match]\n",
    "    else:\n",
    "        return []\n",
    "\n",
    "def pubmed_list(x):\n",
    "    x = only_asci(x.lower())\n",
    "    match = re.findall(\"(?:pmid)\\:\\s*(.+?)(?:\\s|$)\", x)\n",
    "    if not match is None:\n",
    "        return [\"pmid:\" + m.rstrip('.') for m in match]\n",
    "    else:\n",
    "        return []\n",
    "\n",
    "def list_to_string(x):\n",
    "    return \",\".join([str(i) for i in x])"
   ]
  },
  {
   "cell_type": "code",
   "execution_count": null,
   "metadata": {
    "scrolled": true
   },
   "outputs": [],
   "source": [
    "# format literature sources\n",
    "df_edges[\"Literature\"].fillna(value=\"\", inplace=True)\n",
    "for i, row in df_edges.iterrows():\n",
    "    s = row['Literature']\n",
    "    source = doi_list(s)\n",
    "    source += pubmed_list(s)\n",
    "    for z in s.split(\"|\"):\n",
    "        key = z.lower()\n",
    "        if \":\" in key:\n",
    "            if \"aracyc\" in key:\n",
    "                aracyc_string = \"aracyc:\" + z.split(\":\")[1].strip()\n",
    "                source.append(aracyc_string)\n",
    "            elif \"kegg\" in key:\n",
    "                kegg_string = \"kegg:\" + z.split(\":\")[1].strip()\n",
    "                source.append(kegg_string)\n",
    "            elif \"doi\" in key:\n",
    "                # already fetched\n",
    "                continue\n",
    "            elif (\"pubmed\" in key) or (\"pmid\" in key):\n",
    "                pmid_string = \"pubmed:\" + z.split(\":\")[1].strip()\n",
    "        elif \"invented\" in key:\n",
    "            source.append(\"invented\")\n",
    "        else:\n",
    "            print(\"no/bad reference\", row[\"ConnID\"], z)\n",
    "            source.append(\"other:\" + only_asci(z.strip()))\n",
    "    if len(source) > 0:\n",
    "        df_edges.loc[i, \"literature_sources\"] = list_to_string(source)\n",
    "    else:\n",
    "        print(row[\"ConnID\"], z)\n"
   ]
  },
  {
   "cell_type": "code",
   "execution_count": null,
   "metadata": {},
   "outputs": [],
   "source": [
    "df_edges[[\"ConnID\", \"Literature\", \"literature_sources\"]].to_csv(\"lit-check.tsv\", sep=\"\\t\", index=None)"
   ]
  },
  {
   "cell_type": "code",
   "execution_count": null,
   "metadata": {},
   "outputs": [],
   "source": [
    "df_edges.reset_index(inplace=True, drop=True)"
   ]
  },
  {
   "cell_type": "code",
   "execution_count": null,
   "metadata": {},
   "outputs": [],
   "source": [
    "save_df = df_edges.copy()\n",
    "#df_edges = save_df.copy()"
   ]
  },
  {
   "cell_type": "code",
   "execution_count": null,
   "metadata": {},
   "outputs": [],
   "source": [
    "df_edges[df_edges['ConnID'].duplicated()]"
   ]
  },
  {
   "cell_type": "code",
   "execution_count": null,
   "metadata": {},
   "outputs": [],
   "source": [
    "df_edges.head()"
   ]
  },
  {
   "cell_type": "code",
   "execution_count": null,
   "metadata": {},
   "outputs": [],
   "source": [
    "for x in ['input1', 'input2', 'input3', 'output1']:\n",
    "    df_edges.loc[:, x + \"_ID\"] = df_edges[x + \"_ID\"].apply(helpers.reorder_ids)"
   ]
  },
  {
   "cell_type": "code",
   "execution_count": null,
   "metadata": {},
   "outputs": [],
   "source": [
    "df_edges.head()"
   ]
  },
  {
   "cell_type": "code",
   "execution_count": null,
   "metadata": {},
   "outputs": [],
   "source": [
    "def convert_node_to_family(x):\n",
    "    # pathogen proteins are listed as proteins, so cannot use dict\n",
    "    id_, type_, level_ = x.values\n",
    "      \n",
    "    if id_ is np.nan:\n",
    "        return np.nan, np.nan\n",
    "\n",
    "    new_label = None\n",
    "    family_id = None\n",
    "    \n",
    "    ########################\n",
    "    # Simple Cases\n",
    "    ########################\n",
    "    if type_ in ['complex', 'complex [active]', 'complex [activated]', 'complex [inactive]', 'plant_complex']:\n",
    "        if not (id_ in node_dict[\"Complex\"]):\n",
    "            complexes_to_add.append(id_)\n",
    "        new_label = 'Complex'\n",
    "        family_id = id_\n",
    "    \n",
    "    elif type_ in [\"metabolite\"]:\n",
    "        for label in [\"Metabolite\", \"MetaboliteFamily\"]:\n",
    "            if id_ in node_dict[label]:\n",
    "                new_label = label\n",
    "                break\n",
    "        if not new_label:\n",
    "            missing_in_components.update([id_])        \n",
    "            print(id_, type_, level_, \" | (label) not a listed metabolite\")\n",
    "        family_id = id_\n",
    "\n",
    "    elif type_ in ['process']:\n",
    "        if (id_ in node_dict[\"Process\"]):\n",
    "            family_id = id_\n",
    "            new_label = \"Process\"\n",
    "        else:\n",
    "            print(id_, type_, level_, \" | (label) process not a listed process\")\n",
    "        \n",
    "    else:\n",
    "        ########################\n",
    "        # family ID\n",
    "        ########################\n",
    "        check_external = False\n",
    "        if level_ == \"family\":    \n",
    "            family_id = id_\n",
    "        elif level_ in [\"clade\", \"clade/orthologue\"]:\n",
    "            try:\n",
    "                family_id = clade_to_family[id_]\n",
    "                replace_w_family.update([id_])\n",
    "            except KeyError:\n",
    "                check_external = True\n",
    "        elif level_ == \"node\":\n",
    "            try:\n",
    "                family_id = node_to_family[id_]\n",
    "                replace_w_family.update([id_])\n",
    "            except KeyError:\n",
    "                check_external = True\n",
    "        \n",
    "        if check_external:\n",
    "            for label in [\"ExternalOrganism\", \"ExternalCoding\", \"ExternalNonCoding\"]:\n",
    "                if id_ in node_dict[label]:\n",
    "                    new_label = label\n",
    "                    family_id = id_\n",
    "                    break\n",
    "                    \n",
    "        if not family_id:\n",
    "            print(id_, type_, level_, \" | (family id) could not convert to family/external\")\n",
    "                \n",
    "        ########################\n",
    "        # Label\n",
    "        ########################\n",
    "        if (family_id) and (not new_label):\n",
    "            id_labels = [] #looping just in case an id occurs mutiple times\n",
    "            for label in node_labels:\n",
    "                if family_id in node_dict[label]:\n",
    "                    id_labels.append(label)\n",
    "\n",
    "            if len(id_labels) == 1:\n",
    "                new_label = id_labels[0]\n",
    "            elif len(id_labels) > 1:\n",
    "                print(id_, type_, level_, \" | (label) many labels fit\")\n",
    "                missing_in_components.update([id_])       \n",
    "\n",
    "            else:\n",
    "                print(id_, type_, level_, \" | (label) could not find label\")\n",
    "                missing_in_components.update([id_])        \n",
    "\n",
    "    return family_id, new_label\n",
    "        "
   ]
  },
  {
   "cell_type": "code",
   "execution_count": null,
   "metadata": {
    "scrolled": true
   },
   "outputs": [],
   "source": [
    "complexes_to_add = []\n",
    "missing_in_components = set()\n",
    "replace_w_family = set()\n",
    "\n",
    "for prefix in ['input1', 'input2', 'input3', 'output1']:\n",
    "    id_col, type_col, level_col, new_id, new_label_col  =\\\n",
    "            [prefix + x for x in ('_ID',  '_type',  '_level',  '_newID', '_label')]    \n",
    "    \n",
    "    df_edges[[new_id, new_label_col]] = df_edges[[id_col, type_col, level_col]].apply(convert_node_to_family, axis=1, result_type='expand')\n"
   ]
  },
  {
   "cell_type": "code",
   "execution_count": null,
   "metadata": {},
   "outputs": [],
   "source": [
    "df_edges.head()"
   ]
  },
  {
   "cell_type": "code",
   "execution_count": null,
   "metadata": {},
   "outputs": [],
   "source": [
    "def get_orthologues(x, prefix=\"\"):\n",
    "    id_, level_, label_ = x.values\n",
    "    ########################\n",
    "    # Specie specific homologues\n",
    "    ########################\n",
    "    \n",
    "    return_D = {f\"{prefix}_{specie}_homologues\":\"\" for specie in all_species}\n",
    "    \n",
    "    if label_ in ['PlantCoding', 'PlantNonCoding',  'PlantAbstract']:\n",
    "\n",
    "        for species in all_species:\n",
    "            species = f\"{species}_homologues\"\n",
    "            k = f\"{prefix}_{species}\"\n",
    "            if level_ == 'node':\n",
    "                return_D[k] = node_ids_key[species][id_]\n",
    "            elif level_ == 'clade':\n",
    "                return_D[k] =  clade_ids_key[species][id_]\n",
    "            elif level_ == 'family':\n",
    "                return_D[k] =  family_ids_key[species][id_]\n",
    "\n",
    "    return_D = {x:helpers.list_to_string(list(return_D[x])) for x in return_D}\n",
    "    return return_D"
   ]
  },
  {
   "cell_type": "code",
   "execution_count": null,
   "metadata": {
    "scrolled": true
   },
   "outputs": [],
   "source": [
    "new_dfs = []\n",
    "for prefix in ['input1', 'input2', 'input3', 'output1']:\n",
    "    print(prefix)\n",
    "    id_col, level_col, new_label_col  =\\\n",
    "                [prefix + x for x in ('_ID',  '_level',  '_label')]        \n",
    "    \n",
    "    new_df = df_edges[[id_col, level_col, new_label_col ]].apply(get_orthologues, axis=1, result_type='expand', prefix=prefix)\n",
    "    new_dfs.append(new_df)\n",
    "    #df_edges = df_edges.join(new_df, sort=False)"
   ]
  },
  {
   "cell_type": "code",
   "execution_count": null,
   "metadata": {},
   "outputs": [],
   "source": [
    "homologues_df = pd.concat(new_dfs, sort=False, axis=1)"
   ]
  },
  {
   "cell_type": "code",
   "execution_count": null,
   "metadata": {},
   "outputs": [],
   "source": [
    "homologues_df.loc[0]"
   ]
  },
  {
   "cell_type": "code",
   "execution_count": null,
   "metadata": {},
   "outputs": [],
   "source": [
    "df_edges = df_edges.join(homologues_df, sort=False)"
   ]
  },
  {
   "cell_type": "code",
   "execution_count": null,
   "metadata": {},
   "outputs": [],
   "source": [
    "df_edges.head()"
   ]
  },
  {
   "cell_type": "code",
   "execution_count": null,
   "metadata": {
    "scrolled": true
   },
   "outputs": [],
   "source": [
    "node_type_to_node_form_dict = {\n",
    "    \"gene\":\"gene\",\n",
    "    \n",
    "    \"protein\":\"protein\",\n",
    "    \"protein [activated]\":\"protein_active\",\n",
    "    'protein [active]': \"protein_active\",\n",
    "    \n",
    "    \"ncRNA\":\"ncRNA\",\n",
    "    \"plant_ncRNA\":\"ncRNA\",\n",
    "    'ta-siRNA':\"ta-siRNA\", \n",
    "        \n",
    "    \"complex\":\"complex\", \n",
    "    \"plant_complex\":\"complex\",\n",
    "    'complex [active]': \"complex_active\",\n",
    "    \n",
    "    \"metabolite\":\"metabolite\",\n",
    "    \n",
    "    \"process\":\"process\", \n",
    "    'process [active]':\"process_active\",\n",
    "\n",
    "    np.nan:\"\", \n",
    "    \"plant_coding\":\"unknown\"\n",
    "}\n",
    "\n",
    "for prefix in ['input1', 'input2', 'input3', 'output1']:\n",
    "    id_col, type_col, new_form_col  =\\\n",
    "        [prefix + x for x in ('_ID',  '_type',  '_form')]\n",
    "    \n",
    "    x = df_edges[[id_col, type_col]].dropna(how='all')\n",
    "    \n",
    "    print(prefix)\n",
    "    df_edges[new_form_col] = df_edges[type_col].apply(lambda x: node_type_to_node_form_dict[x])"
   ]
  },
  {
   "cell_type": "code",
   "execution_count": null,
   "metadata": {},
   "outputs": [],
   "source": [
    "df_edges.head()"
   ]
  },
  {
   "cell_type": "code",
   "execution_count": null,
   "metadata": {},
   "outputs": [],
   "source": [
    "node_localisation_dict = {\n",
    "    'nuc':'nucleus',\n",
    "    'er':'endoplasmic reticulum',\n",
    "    'golgi':'golgi apparatus'\n",
    "}\n",
    "\n",
    "\n",
    "good_localisations = set([\n",
    "     'nucleus',\n",
    "     'nucleolus',\n",
    "     'cytoplasm',\n",
    "     'vacuole',\n",
    "     'endoplasmic reticulum',\n",
    "     'chloroplast',\n",
    "     'mitochondrion',\n",
    "     'golgi apparatus',\n",
    "     'peroxisome',\n",
    "     'apoplast',\n",
    "     'extracellular'\n",
    "])\n",
    "\n",
    "\n",
    "def node_localisation_std(x):\n",
    "    if not type(x) == str:\n",
    "        return \"\"\n",
    "    \n",
    "    x = x.lower()\n",
    "    if x in node_localisation_dict.keys():\n",
    "        x = node_localisation_dict[x]\n",
    "    \n",
    "    if x in good_localisations:\n",
    "        return x\n",
    "    else:\n",
    "        return \"\"\n",
    "\n",
    "node_localisations = set()\n",
    "new_localisation = set()\n",
    "for prefix in ['input1', 'input2', 'input3', 'output1']:\n",
    "    id_col, type_col, localisation_col  =\\\n",
    "        [prefix + x for x in ('_ID',  '_type',  '_localisation')]\n",
    "    \n",
    "    x = df_edges[['ConnID', id_col, localisation_col]].dropna(how='all', subset=[ id_col, localisation_col])\n",
    "    \n",
    "    #for _, y in x.iterrows():\n",
    "    #    if y[localisation_col] in ['mitochondria?', np.nan]:\n",
    "    #        print(y['ConnID'], \"\\t\", y[id_col], \"\\t\", y[localisation_col])\n",
    "    \n",
    "    \n",
    "    node_localisations.update(x[localisation_col])\n",
    "    \n",
    "    #print(prefix)\n",
    "    df_edges[localisation_col] = df_edges[localisation_col].apply(node_localisation_std)\n",
    "    \n",
    "    new_localisation.update(df_edges[localisation_col])"
   ]
  },
  {
   "cell_type": "code",
   "execution_count": null,
   "metadata": {},
   "outputs": [],
   "source": [
    "node_localisations"
   ]
  },
  {
   "cell_type": "code",
   "execution_count": null,
   "metadata": {},
   "outputs": [],
   "source": [
    "new_localisation"
   ]
  },
  {
   "cell_type": "code",
   "execution_count": null,
   "metadata": {},
   "outputs": [],
   "source": [
    "df_edges.to_csv(os.path.join(\"..\", \"data\", \"raw\", \"edges-sheet.tsv\"), sep=\"\\t\")"
   ]
  },
  {
   "cell_type": "code",
   "execution_count": null,
   "metadata": {},
   "outputs": [],
   "source": [
    "homologue_cols = [f\"{x}_homologues\" for x in all_species]"
   ]
  },
  {
   "cell_type": "code",
   "execution_count": null,
   "metadata": {},
   "outputs": [],
   "source": [
    "all_species"
   ]
  },
  {
   "cell_type": "code",
   "execution_count": null,
   "metadata": {},
   "outputs": [],
   "source": [
    "with open(os.path.join(\"..\", \"data\", \"raw\", \"complexes_to_add.tsv\"), \"w\") as out:\n",
    "    for c in complexes_to_add:\n",
    "        out.write(f\"{c}\\n\")"
   ]
  },
  {
   "cell_type": "code",
   "execution_count": null,
   "metadata": {},
   "outputs": [],
   "source": []
  },
  {
   "cell_type": "code",
   "execution_count": null,
   "metadata": {},
   "outputs": [],
   "source": []
  }
 ],
 "metadata": {
  "kernelspec": {
   "display_name": "Python 3",
   "language": "python",
   "name": "python3"
  },
  "language_info": {
   "codemirror_mode": {
    "name": "ipython",
    "version": 3
   },
   "file_extension": ".py",
   "mimetype": "text/x-python",
   "name": "python",
   "nbconvert_exporter": "python",
   "pygments_lexer": "ipython3",
   "version": "3.7.3"
  }
 },
 "nbformat": 4,
 "nbformat_minor": 2
}
