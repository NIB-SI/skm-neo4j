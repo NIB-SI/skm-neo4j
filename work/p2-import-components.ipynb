{
 "cells": [
  {
   "cell_type": "code",
   "execution_count": 1,
   "metadata": {},
   "outputs": [
    {
     "data": {
      "text/html": [
       "<style>.container { width:80% !important; }</style>"
      ],
      "text/plain": [
       "<IPython.core.display.HTML object>"
      ]
     },
     "metadata": {},
     "output_type": "display_data"
    }
   ],
   "source": [
    "from IPython.core.display import display, HTML\n",
    "display(HTML(\"<style>.container { width:80% !important; }</style>\"))"
   ]
  },
  {
   "cell_type": "markdown",
   "metadata": {},
   "source": [
    "# Import neo4j DB: 2/4\n",
    "\n",
    "Code to translate v2.7.4_PIS-model.xlsx to neo4j database. "
   ]
  },
  {
   "cell_type": "markdown",
   "metadata": {},
   "source": [
    "## Setup"
   ]
  },
  {
   "cell_type": "code",
   "execution_count": 2,
   "metadata": {},
   "outputs": [],
   "source": [
    "import pandas as pd\n",
    "import re\n",
    "import numpy as np\n",
    "import os\n",
    "from IPython.display import Image, display"
   ]
  },
  {
   "cell_type": "code",
   "execution_count": 3,
   "metadata": {},
   "outputs": [],
   "source": [
    "from py2neo import Graph, Node, Relationship"
   ]
  },
  {
   "cell_type": "code",
   "execution_count": 4,
   "metadata": {},
   "outputs": [],
   "source": [
    "import helpers"
   ]
  },
  {
   "cell_type": "code",
   "execution_count": 5,
   "metadata": {},
   "outputs": [],
   "source": [
    "from importlib import reload"
   ]
  },
  {
   "cell_type": "markdown",
   "metadata": {},
   "source": [
    "Connect to graph via docker-compose link. See http://localhost:7474/browser/"
   ]
  },
  {
   "cell_type": "code",
   "execution_count": 6,
   "metadata": {},
   "outputs": [],
   "source": [
    "graph = Graph(host=\"neo4j\")"
   ]
  },
  {
   "cell_type": "code",
   "execution_count": 7,
   "metadata": {},
   "outputs": [],
   "source": [
    "q = graph.run(\"MATCH (n) RETURN n LIMIT 10\")"
   ]
  },
  {
   "cell_type": "code",
   "execution_count": 8,
   "metadata": {},
   "outputs": [
    {
     "data": {
      "text/plain": [
       "{}"
      ]
     },
     "execution_count": 8,
     "metadata": {},
     "output_type": "execute_result"
    }
   ],
   "source": [
    "q.stats()"
   ]
  },
  {
   "cell_type": "code",
   "execution_count": 9,
   "metadata": {},
   "outputs": [],
   "source": [
    "node_labels = helpers.node_labels"
   ]
  },
  {
   "cell_type": "code",
   "execution_count": 10,
   "metadata": {},
   "outputs": [],
   "source": [
    "from pathlib import Path\n",
    "\n",
    "base_path = Path(\"..\")\n",
    "parsed_path = base_path / \"data\" / \"parsed\""
   ]
  },
  {
   "cell_type": "code",
   "execution_count": 11,
   "metadata": {},
   "outputs": [],
   "source": [
    "# start from scratch\n",
    "graph.delete_all()\n",
    "\n",
    "for l in node_labels:\n",
    "    try:\n",
    "        graph.schema.drop_uniqueness_constraint(l, \"name\")\n",
    "    except:\n",
    "        pass    "
   ]
  },
  {
   "cell_type": "markdown",
   "metadata": {},
   "source": [
    "## Constraints on node names\n",
    "\n",
    "Constraint automatically adds an index. "
   ]
  },
  {
   "cell_type": "code",
   "execution_count": 12,
   "metadata": {
    "scrolled": true
   },
   "outputs": [
    {
     "name": "stdout",
     "output_type": "stream",
     "text": [
      "FunctionalCluster 1\n",
      "PlantCoding 1\n",
      "PlantNonCoding 1\n",
      "PlantAbstract 1\n",
      "ForeignEntity 1\n",
      "ForeignCoding 1\n",
      "ForeignNonCoding 1\n",
      "ForeignAbstract 1\n",
      "Complex 1\n",
      "Process 1\n",
      "MetaboliteFamily 1\n",
      "Metabolite 1\n",
      "Reaction 1\n"
     ]
    }
   ],
   "source": [
    "for label in node_labels:\n",
    "    q = f'''CREATE CONSTRAINT unique_name_{label.lower()}\n",
    "        ON (node:{label}) ASSERT node.name IS UNIQUE'''\n",
    "    try: \n",
    "        qr = graph.run(q)\n",
    "        print(label, qr.stats()['constraints_added'])\n",
    "    except Exception as e:\n",
    "        print(e)"
   ]
  },
  {
   "cell_type": "markdown",
   "metadata": {},
   "source": [
    "## Read in"
   ]
  },
  {
   "cell_type": "code",
   "execution_count": 13,
   "metadata": {},
   "outputs": [],
   "source": [
    "path =  parsed_path / \"components.tsv\"\n",
    "df_components = pd.read_csv(path, sep=\"\\t\")"
   ]
  },
  {
   "cell_type": "markdown",
   "metadata": {},
   "source": [
    "## metabolites"
   ]
  },
  {
   "cell_type": "code",
   "execution_count": 14,
   "metadata": {},
   "outputs": [],
   "source": [
    "label = 'Metabolite'\n",
    "df_metabolites = df_components[df_components['NodeLabel'] == label].copy()"
   ]
  },
  {
   "cell_type": "code",
   "execution_count": 15,
   "metadata": {},
   "outputs": [
    {
     "data": {
      "text/plain": [
       "Index(['identifier', 'AddedBy', 'species', 'NodeLabel', 'NodeType', 'Family',\n",
       "       'Clade', 'NodeID', 'NodeName', 'external_links', 'NodeDescription',\n",
       "       'AdditionalInfo', 'Process', 'ModelV', 'ModelStatus', 'gmm_ocd',\n",
       "       'GMM_Description', 'GMM_ShortName', 'synonyms'],\n",
       "      dtype='object')"
      ]
     },
     "execution_count": 15,
     "metadata": {},
     "output_type": "execute_result"
    }
   ],
   "source": [
    "df_metabolites.columns"
   ]
  },
  {
   "cell_type": "code",
   "execution_count": 16,
   "metadata": {},
   "outputs": [
    {
     "data": {
      "text/html": [
       "<div>\n",
       "<style scoped>\n",
       "    .dataframe tbody tr th:only-of-type {\n",
       "        vertical-align: middle;\n",
       "    }\n",
       "\n",
       "    .dataframe tbody tr th {\n",
       "        vertical-align: top;\n",
       "    }\n",
       "\n",
       "    .dataframe thead th {\n",
       "        text-align: right;\n",
       "    }\n",
       "</style>\n",
       "<table border=\"1\" class=\"dataframe\">\n",
       "  <thead>\n",
       "    <tr style=\"text-align: right;\">\n",
       "      <th></th>\n",
       "      <th>identifier</th>\n",
       "      <th>AddedBy</th>\n",
       "      <th>species</th>\n",
       "      <th>NodeLabel</th>\n",
       "      <th>NodeType</th>\n",
       "      <th>Family</th>\n",
       "      <th>Clade</th>\n",
       "      <th>NodeID</th>\n",
       "      <th>NodeName</th>\n",
       "      <th>external_links</th>\n",
       "      <th>NodeDescription</th>\n",
       "      <th>AdditionalInfo</th>\n",
       "      <th>Process</th>\n",
       "      <th>ModelV</th>\n",
       "      <th>ModelStatus</th>\n",
       "      <th>gmm_ocd</th>\n",
       "      <th>GMM_Description</th>\n",
       "      <th>GMM_ShortName</th>\n",
       "      <th>synonyms</th>\n",
       "    </tr>\n",
       "  </thead>\n",
       "  <tbody>\n",
       "  </tbody>\n",
       "</table>\n",
       "</div>"
      ],
      "text/plain": [
       "Empty DataFrame\n",
       "Columns: [identifier, AddedBy, species, NodeLabel, NodeType, Family, Clade, NodeID, NodeName, external_links, NodeDescription, AdditionalInfo, Process, ModelV, ModelStatus, gmm_ocd, GMM_Description, GMM_ShortName, synonyms]\n",
       "Index: []"
      ]
     },
     "execution_count": 16,
     "metadata": {},
     "output_type": "execute_result"
    }
   ],
   "source": [
    "df_metabolites[df_metabolites['NodeName'].duplicated()]"
   ]
  },
  {
   "cell_type": "code",
   "execution_count": 17,
   "metadata": {},
   "outputs": [],
   "source": [
    "want_columns = ['AddedBy', 'Family', 'NodeName', \n",
    "                'external_links', 'NodeDescription', 'AdditionalInfo', \n",
    "                'Process', 'ModelV', 'ModelStatus',                 \n",
    "               ]"
   ]
  },
  {
   "cell_type": "code",
   "execution_count": 18,
   "metadata": {},
   "outputs": [],
   "source": [
    "f = '%s-components.tsv'%label\n",
    "df_metabolites[want_columns].to_csv(\"../data/import/\" + f, sep=\"\\t\", index=None)"
   ]
  },
  {
   "cell_type": "code",
   "execution_count": 19,
   "metadata": {},
   "outputs": [],
   "source": [
    "q = helpers.metabolite_node_query(f, label, \n",
    "                     n_name=\"line.NodeName\"\n",
    "                    )"
   ]
  },
  {
   "cell_type": "code",
   "execution_count": 20,
   "metadata": {},
   "outputs": [
    {
     "name": "stdout",
     "output_type": "stream",
     "text": [
      "USING PERIODIC COMMIT 500\n",
      "           LOAD CSV WITH HEADERS FROM  'file:///Metabolite-components.tsv' AS line FIELDTERMINATOR '\t'\n",
      "           CREATE (p:Metabolite:Metabolite   { \n",
      "                name:line.NodeName, \n",
      "                added_by:line.AddedBy,\n",
      "                description:line.NodeDescription, \n",
      "                additional_information: line.AdditionalInfo, \n",
      "                model_version:line.ModelV,\n",
      "                model_status:line.ModelStatus, \n",
      "                pathway:line.Process,\n",
      "                \n",
      "                external_links:split(line.external_links, \",\")\n",
      "                \n",
      "            })\n"
     ]
    }
   ],
   "source": [
    "print(q)"
   ]
  },
  {
   "cell_type": "code",
   "execution_count": 21,
   "metadata": {
    "scrolled": true
   },
   "outputs": [],
   "source": [
    "qr = graph.run(q)\n",
    "if not df_metabolites.shape[0] == qr.stats()['nodes_created']:\n",
    "    raise Exception"
   ]
  },
  {
   "cell_type": "code",
   "execution_count": 22,
   "metadata": {},
   "outputs": [
    {
     "data": {
      "text/html": [
       "<div>\n",
       "<style scoped>\n",
       "    .dataframe tbody tr th:only-of-type {\n",
       "        vertical-align: middle;\n",
       "    }\n",
       "\n",
       "    .dataframe tbody tr th {\n",
       "        vertical-align: top;\n",
       "    }\n",
       "\n",
       "    .dataframe thead th {\n",
       "        text-align: right;\n",
       "    }\n",
       "</style>\n",
       "<table border=\"1\" class=\"dataframe\">\n",
       "  <thead>\n",
       "    <tr style=\"text-align: right;\">\n",
       "      <th></th>\n",
       "      <th>identifier</th>\n",
       "      <th>AddedBy</th>\n",
       "      <th>species</th>\n",
       "      <th>NodeLabel</th>\n",
       "      <th>NodeType</th>\n",
       "      <th>Family</th>\n",
       "      <th>Clade</th>\n",
       "      <th>NodeID</th>\n",
       "      <th>NodeName</th>\n",
       "      <th>external_links</th>\n",
       "      <th>NodeDescription</th>\n",
       "      <th>AdditionalInfo</th>\n",
       "      <th>Process</th>\n",
       "      <th>ModelV</th>\n",
       "      <th>ModelStatus</th>\n",
       "      <th>gmm_ocd</th>\n",
       "      <th>GMM_Description</th>\n",
       "      <th>GMM_ShortName</th>\n",
       "      <th>synonyms</th>\n",
       "    </tr>\n",
       "  </thead>\n",
       "  <tbody>\n",
       "  </tbody>\n",
       "</table>\n",
       "</div>"
      ],
      "text/plain": [
       "Empty DataFrame\n",
       "Columns: [identifier, AddedBy, species, NodeLabel, NodeType, Family, Clade, NodeID, NodeName, external_links, NodeDescription, AdditionalInfo, Process, ModelV, ModelStatus, gmm_ocd, GMM_Description, GMM_ShortName, synonyms]\n",
       "Index: []"
      ]
     },
     "execution_count": 22,
     "metadata": {},
     "output_type": "execute_result"
    }
   ],
   "source": [
    "df_metabolites[df_metabolites['Clade'] != df_metabolites['NodeID']]"
   ]
  },
  {
   "cell_type": "code",
   "execution_count": 23,
   "metadata": {},
   "outputs": [],
   "source": [
    "label = \"MetaboliteFamily\""
   ]
  },
  {
   "cell_type": "code",
   "execution_count": 24,
   "metadata": {},
   "outputs": [],
   "source": [
    "df_metabolites_has_family = df_metabolites[df_metabolites['Family'] != df_metabolites['NodeID']]"
   ]
  },
  {
   "cell_type": "code",
   "execution_count": 25,
   "metadata": {},
   "outputs": [],
   "source": [
    "want_columns = ['AddedBy', 'Family',\n",
    "                'external_links', 'NodeDescription', 'AdditionalInfo', \n",
    "                'Process', 'ModelV', 'ModelStatus']"
   ]
  },
  {
   "cell_type": "code",
   "execution_count": 26,
   "metadata": {
    "scrolled": true
   },
   "outputs": [],
   "source": [
    "df_metabolites_family = df_metabolites_has_family.fillna('').groupby('Family').agg({\n",
    "                                                                  'Family':lambda x:list(x)[0],\n",
    "                                                                  'AddedBy':lambda x:list(x)[0], \n",
    "                                                                  'NodeDescription':lambda x: ','.join(x), \n",
    "                                                                  'external_links':lambda x: ','.join([s for s in x if not s=='']), \n",
    "                                                                  'AdditionalInfo':lambda x: helpers.list_to_string(x), \n",
    "                                                                  'Process':lambda x:list(x)[0], \n",
    "                                                                  'ModelV':helpers.get_latest_model, \n",
    "                                                                  'ModelStatus':helpers.get_model_status})"
   ]
  },
  {
   "cell_type": "code",
   "execution_count": 27,
   "metadata": {},
   "outputs": [
    {
     "data": {
      "text/html": [
       "<div>\n",
       "<style scoped>\n",
       "    .dataframe tbody tr th:only-of-type {\n",
       "        vertical-align: middle;\n",
       "    }\n",
       "\n",
       "    .dataframe tbody tr th {\n",
       "        vertical-align: top;\n",
       "    }\n",
       "\n",
       "    .dataframe thead th {\n",
       "        text-align: right;\n",
       "    }\n",
       "</style>\n",
       "<table border=\"1\" class=\"dataframe\">\n",
       "  <thead>\n",
       "    <tr style=\"text-align: right;\">\n",
       "      <th></th>\n",
       "      <th>Family</th>\n",
       "      <th>AddedBy</th>\n",
       "      <th>NodeDescription</th>\n",
       "      <th>external_links</th>\n",
       "      <th>AdditionalInfo</th>\n",
       "      <th>Process</th>\n",
       "      <th>ModelV</th>\n",
       "      <th>ModelStatus</th>\n",
       "    </tr>\n",
       "    <tr>\n",
       "      <th>Family</th>\n",
       "      <th></th>\n",
       "      <th></th>\n",
       "      <th></th>\n",
       "      <th></th>\n",
       "      <th></th>\n",
       "      <th></th>\n",
       "      <th></th>\n",
       "      <th></th>\n",
       "    </tr>\n",
       "  </thead>\n",
       "  <tbody>\n",
       "    <tr>\n",
       "      <th>DAMP/HAMP</th>\n",
       "      <td>DAMP/HAMP</td>\n",
       "      <td>KG</td>\n",
       "      <td>oligogalacturonides</td>\n",
       "      <td>chebi:62533</td>\n",
       "      <td>damage/host associated molecular patterns; Oli...</td>\n",
       "      <td></td>\n",
       "      <td>v2.6</td>\n",
       "      <td>use</td>\n",
       "    </tr>\n",
       "    <tr>\n",
       "      <th>PostROS</th>\n",
       "      <td>PostROS</td>\n",
       "      <td>MZ</td>\n",
       "      <td>water</td>\n",
       "      <td>chebi:15377</td>\n",
       "      <td></td>\n",
       "      <td>S:ROS</td>\n",
       "      <td>v2.7</td>\n",
       "      <td>ignore</td>\n",
       "    </tr>\n",
       "    <tr>\n",
       "      <th>PreROS</th>\n",
       "      <td>PreROS</td>\n",
       "      <td>MZ</td>\n",
       "      <td>ROS precursors; oxygen</td>\n",
       "      <td>chebi:25805</td>\n",
       "      <td></td>\n",
       "      <td>S:ROS</td>\n",
       "      <td>v2.6</td>\n",
       "      <td>use</td>\n",
       "    </tr>\n",
       "    <tr>\n",
       "      <th>ROS</th>\n",
       "      <td>ROS</td>\n",
       "      <td>MZ</td>\n",
       "      <td>hydrogen peroxide (reactive oxygen species),hy...</td>\n",
       "      <td>chebi:16240,chebi:25935,chebi:18421,chebi:2581...</td>\n",
       "      <td></td>\n",
       "      <td>S:ROS</td>\n",
       "      <td>v2.6</td>\n",
       "      <td>use</td>\n",
       "    </tr>\n",
       "    <tr>\n",
       "      <th>SLs</th>\n",
       "      <td>SLs</td>\n",
       "      <td>MZ</td>\n",
       "      <td>StrigoLactone(s)</td>\n",
       "      <td>doi:10.1126/science.1218094,chebi:68487</td>\n",
       "      <td>Strigolactones derive from carotenoids via a p...</td>\n",
       "      <td>Hormone:SLs</td>\n",
       "      <td>v0.0</td>\n",
       "      <td>use</td>\n",
       "    </tr>\n",
       "    <tr>\n",
       "      <th>tZRMP</th>\n",
       "      <td>tZRMP</td>\n",
       "      <td>AG</td>\n",
       "      <td>9-ribosyl-trans-zeatin-5&amp;prime;-monophosphate</td>\n",
       "      <td>chebi:71719</td>\n",
       "      <td></td>\n",
       "      <td>Hormone:CK</td>\n",
       "      <td>v0.0</td>\n",
       "      <td>use</td>\n",
       "    </tr>\n",
       "  </tbody>\n",
       "</table>\n",
       "</div>"
      ],
      "text/plain": [
       "              Family AddedBy  \\\n",
       "Family                         \n",
       "DAMP/HAMP  DAMP/HAMP      KG   \n",
       "PostROS      PostROS      MZ   \n",
       "PreROS        PreROS      MZ   \n",
       "ROS              ROS      MZ   \n",
       "SLs              SLs      MZ   \n",
       "tZRMP          tZRMP      AG   \n",
       "\n",
       "                                             NodeDescription  \\\n",
       "Family                                                         \n",
       "DAMP/HAMP                                oligogalacturonides   \n",
       "PostROS                                                water   \n",
       "PreROS                                ROS precursors; oxygen   \n",
       "ROS        hydrogen peroxide (reactive oxygen species),hy...   \n",
       "SLs                                         StrigoLactone(s)   \n",
       "tZRMP          9-ribosyl-trans-zeatin-5&prime;-monophosphate   \n",
       "\n",
       "                                              external_links  \\\n",
       "Family                                                         \n",
       "DAMP/HAMP                                        chebi:62533   \n",
       "PostROS                                          chebi:15377   \n",
       "PreROS                                           chebi:25805   \n",
       "ROS        chebi:16240,chebi:25935,chebi:18421,chebi:2581...   \n",
       "SLs                  doi:10.1126/science.1218094,chebi:68487   \n",
       "tZRMP                                            chebi:71719   \n",
       "\n",
       "                                              AdditionalInfo      Process  \\\n",
       "Family                                                                      \n",
       "DAMP/HAMP  damage/host associated molecular patterns; Oli...                \n",
       "PostROS                                                             S:ROS   \n",
       "PreROS                                                              S:ROS   \n",
       "ROS                                                                 S:ROS   \n",
       "SLs        Strigolactones derive from carotenoids via a p...  Hormone:SLs   \n",
       "tZRMP                                                          Hormone:CK   \n",
       "\n",
       "          ModelV ModelStatus  \n",
       "Family                        \n",
       "DAMP/HAMP   v2.6         use  \n",
       "PostROS     v2.7      ignore  \n",
       "PreROS      v2.6         use  \n",
       "ROS         v2.6         use  \n",
       "SLs         v0.0         use  \n",
       "tZRMP       v0.0         use  "
      ]
     },
     "execution_count": 27,
     "metadata": {},
     "output_type": "execute_result"
    }
   ],
   "source": [
    "df_metabolites_family"
   ]
  },
  {
   "cell_type": "code",
   "execution_count": 28,
   "metadata": {},
   "outputs": [],
   "source": [
    "f = '%s-components.tsv'%label\n",
    "df_metabolites_family.to_csv(\"../data/import/\" + f, sep=\"\\t\", index=None)"
   ]
  },
  {
   "cell_type": "code",
   "execution_count": 29,
   "metadata": {},
   "outputs": [],
   "source": [
    "q = helpers.metabolite_node_query(f, label, \n",
    "                     n_name=\"line.Family\"\n",
    "                    )"
   ]
  },
  {
   "cell_type": "code",
   "execution_count": 30,
   "metadata": {},
   "outputs": [
    {
     "name": "stdout",
     "output_type": "stream",
     "text": [
      "USING PERIODIC COMMIT 500\n",
      "           LOAD CSV WITH HEADERS FROM  'file:///MetaboliteFamily-components.tsv' AS line FIELDTERMINATOR '\t'\n",
      "           CREATE (p:Metabolite:MetaboliteFamily   { \n",
      "                name:line.Family, \n",
      "                added_by:line.AddedBy,\n",
      "                description:line.NodeDescription, \n",
      "                additional_information: line.AdditionalInfo, \n",
      "                model_version:line.ModelV,\n",
      "                model_status:line.ModelStatus, \n",
      "                pathway:line.Process,\n",
      "                \n",
      "                external_links:split(line.external_links, \",\")\n",
      "                \n",
      "            })\n"
     ]
    }
   ],
   "source": [
    "print(q)"
   ]
  },
  {
   "cell_type": "code",
   "execution_count": 31,
   "metadata": {},
   "outputs": [],
   "source": [
    "qr = graph.run(q)\n",
    "if not df_metabolites_family.shape[0] == qr.stats()['nodes_created']:\n",
    "    raise Exception "
   ]
  },
  {
   "cell_type": "code",
   "execution_count": 32,
   "metadata": {},
   "outputs": [],
   "source": [
    "# Metabolite to MetaboliteFamily edges\n",
    "edge_type = 'TYPE_OF'\n",
    "f = '%s-edges.tsv'%edge_type\n",
    "df_metabolites_has_family[want_columns + [\"NodeName\"]].to_csv(\"../data/import/\" + f, sep=\"\\t\", index=None)"
   ]
  },
  {
   "cell_type": "code",
   "execution_count": 33,
   "metadata": {},
   "outputs": [],
   "source": [
    "q = helpers.make_create_type_of_edge_query(f, edge_type, \n",
    "                           source_label=\"Metabolite\", target_label=\"MetaboliteFamily\",\n",
    "                           source_name=\"line.NodeName\", target_name=\"line.Family\")"
   ]
  },
  {
   "cell_type": "code",
   "execution_count": 34,
   "metadata": {},
   "outputs": [
    {
     "name": "stdout",
     "output_type": "stream",
     "text": [
      "USING PERIODIC COMMIT 500\n",
      "           LOAD CSV WITH HEADERS FROM  'file:///TYPE_OF-edges.tsv' AS line FIELDTERMINATOR '\t'\n",
      "           \n",
      "           MATCH (source:Metabolite { name:line.NodeName}),\n",
      "                 (target:MetaboliteFamily { name:line.Family})\n",
      "           \n",
      "           CREATE (source)-[:TYPE_OF {\n",
      "                        added_by:line.AddedBy,\n",
      "                        additional_information: line.AdditionalInfo, \n",
      "                        model_version:line.ModelV,\n",
      "                        model_status:line.ModelStatus,\n",
      "                        \n",
      "                        pathway:line.Process\n",
      "                        }]->(target)\n"
     ]
    }
   ],
   "source": [
    "print(q)"
   ]
  },
  {
   "cell_type": "code",
   "execution_count": 35,
   "metadata": {},
   "outputs": [],
   "source": [
    "qr = graph.run(q)\n",
    "if not df_metabolites_has_family.shape[0] == qr.stats()['relationships_created']:\n",
    "    raise Exception"
   ]
  },
  {
   "cell_type": "markdown",
   "metadata": {},
   "source": [
    "## Pathogens (Foreign)"
   ]
  },
  {
   "cell_type": "code",
   "execution_count": 36,
   "metadata": {},
   "outputs": [],
   "source": [
    "df_external = df_components[df_components[\"NodeLabel\"].isin(helpers.foreign_node_labels)].copy()"
   ]
  },
  {
   "cell_type": "code",
   "execution_count": 37,
   "metadata": {},
   "outputs": [
    {
     "data": {
      "text/plain": [
       "Index(['identifier', 'AddedBy', 'species', 'NodeLabel', 'NodeType', 'Family',\n",
       "       'Clade', 'NodeID', 'NodeName', 'external_links', 'NodeDescription',\n",
       "       'AdditionalInfo', 'Process', 'ModelV', 'ModelStatus', 'gmm_ocd',\n",
       "       'GMM_Description', 'GMM_ShortName', 'synonyms'],\n",
       "      dtype='object')"
      ]
     },
     "execution_count": 37,
     "metadata": {},
     "output_type": "execute_result"
    }
   ],
   "source": [
    "df_external.columns"
   ]
  },
  {
   "cell_type": "code",
   "execution_count": 38,
   "metadata": {},
   "outputs": [],
   "source": [
    "# Species --> '-'\n",
    "# Family --> 'biological classification'\n",
    "# Clade --> 'species'\n",
    "df_external.columns = ['identifier', 'AddedBy', '-', 'NodeLabel', 'NodeType', \n",
    "                       'classification', 'species', 'NodeID', 'NodeName', \n",
    "                       'external_links', 'NodeDescription', 'AdditionalInfo', \n",
    "                       'Process', 'ModelV', 'ModelStatus', \n",
    "                       'gmm_ocd', 'GMM_Description', 'GMM_ShortName', 'GMM_Synonyms']"
   ]
  },
  {
   "cell_type": "code",
   "execution_count": 39,
   "metadata": {},
   "outputs": [],
   "source": [
    "#manualfix\n",
    "df_external.loc[df_external['species']=='oomycete', 'classification'] = 'oomycete'"
   ]
  },
  {
   "cell_type": "code",
   "execution_count": 40,
   "metadata": {},
   "outputs": [
    {
     "data": {
      "text/html": [
       "<div>\n",
       "<style scoped>\n",
       "    .dataframe tbody tr th:only-of-type {\n",
       "        vertical-align: middle;\n",
       "    }\n",
       "\n",
       "    .dataframe tbody tr th {\n",
       "        vertical-align: top;\n",
       "    }\n",
       "\n",
       "    .dataframe thead th {\n",
       "        text-align: right;\n",
       "    }\n",
       "</style>\n",
       "<table border=\"1\" class=\"dataframe\">\n",
       "  <thead>\n",
       "    <tr style=\"text-align: right;\">\n",
       "      <th></th>\n",
       "      <th>identifier</th>\n",
       "      <th>AddedBy</th>\n",
       "      <th>-</th>\n",
       "      <th>NodeLabel</th>\n",
       "      <th>NodeType</th>\n",
       "      <th>classification</th>\n",
       "      <th>species</th>\n",
       "      <th>NodeID</th>\n",
       "      <th>NodeName</th>\n",
       "      <th>external_links</th>\n",
       "      <th>NodeDescription</th>\n",
       "      <th>AdditionalInfo</th>\n",
       "      <th>Process</th>\n",
       "      <th>ModelV</th>\n",
       "      <th>ModelStatus</th>\n",
       "      <th>gmm_ocd</th>\n",
       "      <th>GMM_Description</th>\n",
       "      <th>GMM_ShortName</th>\n",
       "      <th>GMM_Synonyms</th>\n",
       "    </tr>\n",
       "  </thead>\n",
       "  <tbody>\n",
       "    <tr>\n",
       "      <th>3</th>\n",
       "      <td>node0467</td>\n",
       "      <td>KG</td>\n",
       "      <td>external</td>\n",
       "      <td>ForeignCoding</td>\n",
       "      <td>pathogen_coding</td>\n",
       "      <td>bacteria</td>\n",
       "      <td>trichous-bacteria</td>\n",
       "      <td>elf18</td>\n",
       "      <td>elf18</td>\n",
       "      <td>chebi:73165</td>\n",
       "      <td>EF-Tu fragment</td>\n",
       "      <td>N terminus of elongation factor Tu (EF-Tu), th...</td>\n",
       "      <td>Pathogen_Effector</td>\n",
       "      <td>vNA</td>\n",
       "      <td>use</td>\n",
       "      <td>NaN</td>\n",
       "      <td>NaN</td>\n",
       "      <td>NaN</td>\n",
       "      <td>NaN</td>\n",
       "    </tr>\n",
       "    <tr>\n",
       "      <th>4</th>\n",
       "      <td>node0466</td>\n",
       "      <td>KG</td>\n",
       "      <td>external</td>\n",
       "      <td>ForeignCoding</td>\n",
       "      <td>pathogen_coding</td>\n",
       "      <td>bacteria</td>\n",
       "      <td>trichous-bacteria</td>\n",
       "      <td>flg22</td>\n",
       "      <td>flg22</td>\n",
       "      <td>NaN</td>\n",
       "      <td>flagellin fragment</td>\n",
       "      <td>Flagellin is the structural protein that forms...</td>\n",
       "      <td>Pathogen_Effector</td>\n",
       "      <td>vNA</td>\n",
       "      <td>use</td>\n",
       "      <td>NaN</td>\n",
       "      <td>NaN</td>\n",
       "      <td>NaN</td>\n",
       "      <td>NaN</td>\n",
       "    </tr>\n",
       "    <tr>\n",
       "      <th>5</th>\n",
       "      <td>node0468</td>\n",
       "      <td>KG</td>\n",
       "      <td>external</td>\n",
       "      <td>ForeignCoding</td>\n",
       "      <td>pathogen_coding</td>\n",
       "      <td>oomycete</td>\n",
       "      <td>oomycete</td>\n",
       "      <td>ch</td>\n",
       "      <td>ch</td>\n",
       "      <td>chebi:17029</td>\n",
       "      <td>chitin</td>\n",
       "      <td>Chitin is a polymer of N-acetyl-d-glucosamine ...</td>\n",
       "      <td>Pathogen_Effector</td>\n",
       "      <td>vNA</td>\n",
       "      <td>use</td>\n",
       "      <td>NaN</td>\n",
       "      <td>NaN</td>\n",
       "      <td>NaN</td>\n",
       "      <td>NaN</td>\n",
       "    </tr>\n",
       "    <tr>\n",
       "      <th>6</th>\n",
       "      <td>node0455</td>\n",
       "      <td>KG</td>\n",
       "      <td>external</td>\n",
       "      <td>ForeignCoding</td>\n",
       "      <td>pathogen_coding</td>\n",
       "      <td>virus</td>\n",
       "      <td>potyvirus</td>\n",
       "      <td>6K1</td>\n",
       "      <td>6K1</td>\n",
       "      <td>doi:10.1016/j.coviro.2012.09.004</td>\n",
       "      <td>small peptide of unknown functions</td>\n",
       "      <td>NaN</td>\n",
       "      <td>Pathogen</td>\n",
       "      <td>v2.6</td>\n",
       "      <td>use</td>\n",
       "      <td>NaN</td>\n",
       "      <td>NaN</td>\n",
       "      <td>NaN</td>\n",
       "      <td>NaN</td>\n",
       "    </tr>\n",
       "    <tr>\n",
       "      <th>7</th>\n",
       "      <td>node0456</td>\n",
       "      <td>KG</td>\n",
       "      <td>external</td>\n",
       "      <td>ForeignCoding</td>\n",
       "      <td>pathogen_coding</td>\n",
       "      <td>virus</td>\n",
       "      <td>potyvirus</td>\n",
       "      <td>6K2</td>\n",
       "      <td>6K2</td>\n",
       "      <td>doi:10.1016/j.coviro.2012.09.004</td>\n",
       "      <td>small peptide of unknown functions</td>\n",
       "      <td>NaN</td>\n",
       "      <td>Pathogen</td>\n",
       "      <td>v2.6</td>\n",
       "      <td>use</td>\n",
       "      <td>NaN</td>\n",
       "      <td>NaN</td>\n",
       "      <td>NaN</td>\n",
       "      <td>NaN</td>\n",
       "    </tr>\n",
       "  </tbody>\n",
       "</table>\n",
       "</div>"
      ],
      "text/plain": [
       "  identifier AddedBy         -      NodeLabel         NodeType classification  \\\n",
       "3   node0467      KG  external  ForeignCoding  pathogen_coding       bacteria   \n",
       "4   node0466      KG  external  ForeignCoding  pathogen_coding       bacteria   \n",
       "5   node0468      KG  external  ForeignCoding  pathogen_coding       oomycete   \n",
       "6   node0455      KG  external  ForeignCoding  pathogen_coding          virus   \n",
       "7   node0456      KG  external  ForeignCoding  pathogen_coding          virus   \n",
       "\n",
       "             species NodeID NodeName                    external_links  \\\n",
       "3  trichous-bacteria  elf18    elf18                       chebi:73165   \n",
       "4  trichous-bacteria  flg22    flg22                               NaN   \n",
       "5           oomycete     ch       ch                       chebi:17029   \n",
       "6          potyvirus    6K1      6K1  doi:10.1016/j.coviro.2012.09.004   \n",
       "7          potyvirus    6K2      6K2  doi:10.1016/j.coviro.2012.09.004   \n",
       "\n",
       "                      NodeDescription  \\\n",
       "3                      EF-Tu fragment   \n",
       "4                  flagellin fragment   \n",
       "5                              chitin   \n",
       "6  small peptide of unknown functions   \n",
       "7  small peptide of unknown functions   \n",
       "\n",
       "                                      AdditionalInfo            Process  \\\n",
       "3  N terminus of elongation factor Tu (EF-Tu), th...  Pathogen_Effector   \n",
       "4  Flagellin is the structural protein that forms...  Pathogen_Effector   \n",
       "5  Chitin is a polymer of N-acetyl-d-glucosamine ...  Pathogen_Effector   \n",
       "6                                                NaN           Pathogen   \n",
       "7                                                NaN           Pathogen   \n",
       "\n",
       "  ModelV ModelStatus gmm_ocd GMM_Description GMM_ShortName GMM_Synonyms  \n",
       "3    vNA         use     NaN             NaN           NaN          NaN  \n",
       "4    vNA         use     NaN             NaN           NaN          NaN  \n",
       "5    vNA         use     NaN             NaN           NaN          NaN  \n",
       "6   v2.6         use     NaN             NaN           NaN          NaN  \n",
       "7   v2.6         use     NaN             NaN           NaN          NaN  "
      ]
     },
     "execution_count": 40,
     "metadata": {},
     "output_type": "execute_result"
    }
   ],
   "source": [
    "df_external.head()"
   ]
  },
  {
   "cell_type": "code",
   "execution_count": 41,
   "metadata": {},
   "outputs": [],
   "source": [
    "want_columns = ['AddedBy',  \n",
    "                'classification', 'species', 'NodeName', \n",
    "                'external_links', 'NodeDescription', 'AdditionalInfo', \n",
    "                'Process', 'ModelV', 'ModelStatus']"
   ]
  },
  {
   "cell_type": "code",
   "execution_count": 42,
   "metadata": {},
   "outputs": [
    {
     "data": {
      "text/html": [
       "<div>\n",
       "<style scoped>\n",
       "    .dataframe tbody tr th:only-of-type {\n",
       "        vertical-align: middle;\n",
       "    }\n",
       "\n",
       "    .dataframe tbody tr th {\n",
       "        vertical-align: top;\n",
       "    }\n",
       "\n",
       "    .dataframe thead th {\n",
       "        text-align: right;\n",
       "    }\n",
       "</style>\n",
       "<table border=\"1\" class=\"dataframe\">\n",
       "  <thead>\n",
       "    <tr style=\"text-align: right;\">\n",
       "      <th></th>\n",
       "      <th>NodeType</th>\n",
       "      <th>classification</th>\n",
       "      <th>species</th>\n",
       "      <th>NodeName</th>\n",
       "    </tr>\n",
       "  </thead>\n",
       "  <tbody>\n",
       "    <tr>\n",
       "      <th>3</th>\n",
       "      <td>pathogen_coding</td>\n",
       "      <td>bacteria</td>\n",
       "      <td>trichous-bacteria</td>\n",
       "      <td>elf18</td>\n",
       "    </tr>\n",
       "    <tr>\n",
       "      <th>4</th>\n",
       "      <td>pathogen_coding</td>\n",
       "      <td>bacteria</td>\n",
       "      <td>trichous-bacteria</td>\n",
       "      <td>flg22</td>\n",
       "    </tr>\n",
       "    <tr>\n",
       "      <th>5</th>\n",
       "      <td>pathogen_coding</td>\n",
       "      <td>oomycete</td>\n",
       "      <td>oomycete</td>\n",
       "      <td>ch</td>\n",
       "    </tr>\n",
       "    <tr>\n",
       "      <th>6</th>\n",
       "      <td>pathogen_coding</td>\n",
       "      <td>virus</td>\n",
       "      <td>potyvirus</td>\n",
       "      <td>6K1</td>\n",
       "    </tr>\n",
       "    <tr>\n",
       "      <th>7</th>\n",
       "      <td>pathogen_coding</td>\n",
       "      <td>virus</td>\n",
       "      <td>potyvirus</td>\n",
       "      <td>6K2</td>\n",
       "    </tr>\n",
       "    <tr>\n",
       "      <th>8</th>\n",
       "      <td>pathogen_coding</td>\n",
       "      <td>virus</td>\n",
       "      <td>potyvirus</td>\n",
       "      <td>CI</td>\n",
       "    </tr>\n",
       "    <tr>\n",
       "      <th>9</th>\n",
       "      <td>pathogen_coding</td>\n",
       "      <td>virus</td>\n",
       "      <td>potyvirus</td>\n",
       "      <td>CP</td>\n",
       "    </tr>\n",
       "    <tr>\n",
       "      <th>10</th>\n",
       "      <td>pathogen_coding</td>\n",
       "      <td>virus</td>\n",
       "      <td>potyvirus</td>\n",
       "      <td>HC-Pro</td>\n",
       "    </tr>\n",
       "    <tr>\n",
       "      <th>11</th>\n",
       "      <td>pathogen_coding</td>\n",
       "      <td>virus</td>\n",
       "      <td>potyvirus</td>\n",
       "      <td>NIa-Pro</td>\n",
       "    </tr>\n",
       "    <tr>\n",
       "      <th>12</th>\n",
       "      <td>pathogen_coding</td>\n",
       "      <td>virus</td>\n",
       "      <td>potyvirus</td>\n",
       "      <td>NIb</td>\n",
       "    </tr>\n",
       "    <tr>\n",
       "      <th>13</th>\n",
       "      <td>pathogen_coding</td>\n",
       "      <td>virus</td>\n",
       "      <td>potyvirus</td>\n",
       "      <td>P1</td>\n",
       "    </tr>\n",
       "    <tr>\n",
       "      <th>14</th>\n",
       "      <td>pathogen_coding</td>\n",
       "      <td>virus</td>\n",
       "      <td>potyvirus</td>\n",
       "      <td>P3</td>\n",
       "    </tr>\n",
       "    <tr>\n",
       "      <th>15</th>\n",
       "      <td>pathogen_coding</td>\n",
       "      <td>virus</td>\n",
       "      <td>potyvirus</td>\n",
       "      <td>P3N-PIPO</td>\n",
       "    </tr>\n",
       "    <tr>\n",
       "      <th>16</th>\n",
       "      <td>pathogen_coding</td>\n",
       "      <td>virus</td>\n",
       "      <td>potyvirus</td>\n",
       "      <td>VPg</td>\n",
       "    </tr>\n",
       "  </tbody>\n",
       "</table>\n",
       "</div>"
      ],
      "text/plain": [
       "           NodeType classification            species  NodeName\n",
       "3   pathogen_coding       bacteria  trichous-bacteria     elf18\n",
       "4   pathogen_coding       bacteria  trichous-bacteria     flg22\n",
       "5   pathogen_coding       oomycete           oomycete        ch\n",
       "6   pathogen_coding          virus          potyvirus       6K1\n",
       "7   pathogen_coding          virus          potyvirus       6K2\n",
       "8   pathogen_coding          virus          potyvirus        CI\n",
       "9   pathogen_coding          virus          potyvirus        CP\n",
       "10  pathogen_coding          virus          potyvirus    HC-Pro\n",
       "11  pathogen_coding          virus          potyvirus   NIa-Pro\n",
       "12  pathogen_coding          virus          potyvirus       NIb\n",
       "13  pathogen_coding          virus          potyvirus        P1\n",
       "14  pathogen_coding          virus          potyvirus        P3\n",
       "15  pathogen_coding          virus          potyvirus  P3N-PIPO\n",
       "16  pathogen_coding          virus          potyvirus       VPg"
      ]
     },
     "execution_count": 42,
     "metadata": {},
     "output_type": "execute_result"
    }
   ],
   "source": [
    "df_external[['NodeType', 'classification', 'species', 'NodeName']]"
   ]
  },
  {
   "cell_type": "code",
   "execution_count": 43,
   "metadata": {},
   "outputs": [
    {
     "name": "stdout",
     "output_type": "stream",
     "text": [
      "ForeignCoding\tUSING PERIODIC COMMIT 500\n",
      "           LOAD CSV WITH HEADERS FROM  'file:///ForeignCoding-components.tsv' AS line FIELDTERMINATOR '\t'\n",
      "           CREATE (p:Foreign:ForeignCoding   { \n",
      "                name:line.NodeName, \n",
      "                added_by:line.AddedBy,\n",
      "                description:line.NodeDescription, \n",
      "                additional_information: line.AdditionalInfo, \n",
      "                model_version:line.ModelV,\n",
      "                pathway:line.Process,\n",
      "                species:split(line.species, \",\"),\n",
      "                external_links:split(line.external_links, \",\"),\n",
      "                                             \n",
      "                classification:line.classification\n",
      "            })\n"
     ]
    }
   ],
   "source": [
    "for label, subdf in df_external.groupby('NodeLabel'):\n",
    "    print(label, end='\\t')\n",
    "    f = '%s-components.tsv'%label\n",
    "    subdf[want_columns].to_csv(\"../data/import/\" + f, sep=\"\\t\", index=None)\n",
    "    \n",
    "    q = helpers.foreign_node_query(f, label, \n",
    "                     n_name=\"line.NodeName\"\n",
    "                    )\n",
    "    print(q)\n",
    "    qr = graph.run(q)\n",
    "    if not subdf.shape[0] == qr.stats()['nodes_created']:\n",
    "        raise Exception"
   ]
  },
  {
   "cell_type": "code",
   "execution_count": 44,
   "metadata": {},
   "outputs": [],
   "source": [
    "external_entities = df_external.groupby('species').agg({\n",
    "                                                      'classification':lambda x:list(x)[0],\n",
    "                                                      'AddedBy':lambda x:list(x)[0], \n",
    "                                                      #'NodeDescription':lambda x: ', '.join(x), \n",
    "                                                      #'AdditionalInfo':lambda x: helpers.list_to_string(x), \n",
    "                                                      'Process':lambda x:list(x)[0], \n",
    "                                                      'ModelV':helpers.get_latest_model, \n",
    "                                                      #'ModelStatus':helpers.get_model_status\n",
    "                                                }).reset_index()"
   ]
  },
  {
   "cell_type": "code",
   "execution_count": 45,
   "metadata": {},
   "outputs": [
    {
     "data": {
      "text/plain": [
       "Index(['species', 'classification', 'AddedBy', 'Process', 'ModelV'], dtype='object')"
      ]
     },
     "execution_count": 45,
     "metadata": {},
     "output_type": "execute_result"
    }
   ],
   "source": [
    "external_entities.columns"
   ]
  },
  {
   "cell_type": "code",
   "execution_count": 46,
   "metadata": {},
   "outputs": [],
   "source": [
    "label = 'ForeignEntity'\n",
    "want_columns = ['species', 'classification', 'AddedBy', 'Process', 'ModelV']\n",
    "f = '%s-components.tsv'%label\n",
    "external_entities[want_columns].to_csv(\"../data/import/\" + f, sep=\"\\t\", index=None)"
   ]
  },
  {
   "cell_type": "code",
   "execution_count": 47,
   "metadata": {},
   "outputs": [
    {
     "name": "stdout",
     "output_type": "stream",
     "text": [
      "USING PERIODIC COMMIT 500\n",
      "           LOAD CSV WITH HEADERS FROM  'file:///ForeignEntity-components.tsv' AS line FIELDTERMINATOR '\t'\n",
      "           CREATE (p:Foreign:ForeignEntity   { \n",
      "                name:line.species, \n",
      "                added_by:line.AddedBy,\n",
      "                description:line.NodeDescription, \n",
      "                additional_information: line.AdditionalInfo, \n",
      "                model_version:line.ModelV,\n",
      "                pathway:line.Process,\n",
      "                species:split(line.species, \",\"),\n",
      "                external_links:split(line.external_links, \",\"),\n",
      "                                             \n",
      "                classification:line.classification\n",
      "            })\n"
     ]
    }
   ],
   "source": [
    "q = helpers.foreign_node_query(f, label, \n",
    "                     n_name=\"line.species\", \n",
    "                    )\n",
    "print(q)"
   ]
  },
  {
   "cell_type": "code",
   "execution_count": 48,
   "metadata": {},
   "outputs": [],
   "source": [
    "qr = graph.run(q)\n",
    "if not external_entities.shape[0] == qr.stats()['nodes_created']:\n",
    "    raise Exception"
   ]
  },
  {
   "cell_type": "code",
   "execution_count": 49,
   "metadata": {},
   "outputs": [],
   "source": [
    "# ExternalXXX to external_entities edges\n",
    "want_columns = ['AddedBy', 'NodeName', 'species', 'ModelV']\n",
    "edge_type = 'AGENT_OF'\n",
    "f = '%s-edges.tsv'%edge_type\n",
    "df_external[want_columns].to_csv(\"../data/import/\" + f, sep=\"\\t\", index=None)"
   ]
  },
  {
   "cell_type": "code",
   "execution_count": 50,
   "metadata": {},
   "outputs": [
    {
     "name": "stdout",
     "output_type": "stream",
     "text": [
      "USING PERIODIC COMMIT 500\n",
      "           LOAD CSV WITH HEADERS FROM  'file:///AGENT_OF-edges.tsv' AS line FIELDTERMINATOR '\t'\n",
      "           \n",
      "           MATCH (source { name:line.NodeName}),\n",
      "                 (target:ForeignEntity { name:line.species})\n",
      "           \n",
      "           CREATE (source)-[:AGENT_OF {\n",
      "                        added_by:line.AddedBy,\n",
      "                        additional_information: line.AdditionalInfo, \n",
      "                        model_version:line.ModelV,\n",
      "                        model_status:line.ModelStatus,\n",
      "                        \n",
      "                        pathway:line.Process\n",
      "                        }]->(target)\n"
     ]
    }
   ],
   "source": [
    "q = helpers.make_create_type_of_edge_query(f, edge_type, \n",
    "                           source_label=\"\", target_label=\"ForeignEntity\",\n",
    "                           source_name=\"line.NodeName\", target_name=\"line.species\")\n",
    "print(q)"
   ]
  },
  {
   "cell_type": "code",
   "execution_count": 51,
   "metadata": {},
   "outputs": [],
   "source": [
    "qr = graph.run(q)\n",
    "if not df_external.shape[0] == qr.stats()['relationships_created']:\n",
    "    raise Exception"
   ]
  },
  {
   "cell_type": "markdown",
   "metadata": {},
   "source": [
    "## Process"
   ]
  },
  {
   "cell_type": "code",
   "execution_count": 52,
   "metadata": {},
   "outputs": [],
   "source": [
    "df_process = df_components[df_components['NodeLabel'].isin(['Process'\n",
    "                                                                ])].copy()"
   ]
  },
  {
   "cell_type": "code",
   "execution_count": 53,
   "metadata": {},
   "outputs": [
    {
     "data": {
      "text/html": [
       "<div>\n",
       "<style scoped>\n",
       "    .dataframe tbody tr th:only-of-type {\n",
       "        vertical-align: middle;\n",
       "    }\n",
       "\n",
       "    .dataframe tbody tr th {\n",
       "        vertical-align: top;\n",
       "    }\n",
       "\n",
       "    .dataframe thead th {\n",
       "        text-align: right;\n",
       "    }\n",
       "</style>\n",
       "<table border=\"1\" class=\"dataframe\">\n",
       "  <thead>\n",
       "    <tr style=\"text-align: right;\">\n",
       "      <th></th>\n",
       "      <th>identifier</th>\n",
       "      <th>AddedBy</th>\n",
       "      <th>species</th>\n",
       "      <th>NodeLabel</th>\n",
       "      <th>NodeType</th>\n",
       "      <th>Family</th>\n",
       "      <th>Clade</th>\n",
       "      <th>NodeID</th>\n",
       "      <th>NodeName</th>\n",
       "      <th>external_links</th>\n",
       "      <th>NodeDescription</th>\n",
       "      <th>AdditionalInfo</th>\n",
       "      <th>Process</th>\n",
       "      <th>ModelV</th>\n",
       "      <th>ModelStatus</th>\n",
       "      <th>gmm_ocd</th>\n",
       "      <th>GMM_Description</th>\n",
       "      <th>GMM_ShortName</th>\n",
       "      <th>synonyms</th>\n",
       "    </tr>\n",
       "  </thead>\n",
       "  <tbody>\n",
       "    <tr>\n",
       "      <th>1009</th>\n",
       "      <td>node0792</td>\n",
       "      <td>ZR</td>\n",
       "      <td>all</td>\n",
       "      <td>Process</td>\n",
       "      <td>process</td>\n",
       "      <td>AUX-signalling</td>\n",
       "      <td>AUX-signalling</td>\n",
       "      <td>AUX-signalling</td>\n",
       "      <td>AUX-signalling</td>\n",
       "      <td>conceptual:process</td>\n",
       "      <td>Auxin signalling.</td>\n",
       "      <td>NaN</td>\n",
       "      <td>Hormone:AUX</td>\n",
       "      <td>v2.6</td>\n",
       "      <td>use</td>\n",
       "      <td>NaN</td>\n",
       "      <td>NaN</td>\n",
       "      <td>NaN</td>\n",
       "      <td>NaN</td>\n",
       "    </tr>\n",
       "    <tr>\n",
       "      <th>1010</th>\n",
       "      <td>node0788</td>\n",
       "      <td>ZR</td>\n",
       "      <td>all</td>\n",
       "      <td>Process</td>\n",
       "      <td>process</td>\n",
       "      <td>Anthocyanin-accumulation</td>\n",
       "      <td>Anthocyanin-accumulation</td>\n",
       "      <td>Anthocyanin-accumulation</td>\n",
       "      <td>Anthocyanin-accumulation</td>\n",
       "      <td>conceptual:process</td>\n",
       "      <td>Accumulation of anthocynanins.</td>\n",
       "      <td>NaN</td>\n",
       "      <td>P:Secondary-metabolism_Anthocyanins</td>\n",
       "      <td>v2.6</td>\n",
       "      <td>use</td>\n",
       "      <td>NaN</td>\n",
       "      <td>NaN</td>\n",
       "      <td>NaN</td>\n",
       "      <td>NaN</td>\n",
       "    </tr>\n",
       "    <tr>\n",
       "      <th>1011</th>\n",
       "      <td>node0793</td>\n",
       "      <td>ZR</td>\n",
       "      <td>all</td>\n",
       "      <td>Process</td>\n",
       "      <td>process</td>\n",
       "      <td>CO2-deficiency</td>\n",
       "      <td>CO2-deficiency</td>\n",
       "      <td>CO2-deficiency</td>\n",
       "      <td>CO2-deficiency</td>\n",
       "      <td>conceptual:process</td>\n",
       "      <td>ROS processes.</td>\n",
       "      <td>NaN</td>\n",
       "      <td>S:ROS</td>\n",
       "      <td>v2.6</td>\n",
       "      <td>use</td>\n",
       "      <td>NaN</td>\n",
       "      <td>NaN</td>\n",
       "      <td>NaN</td>\n",
       "      <td>NaN</td>\n",
       "    </tr>\n",
       "    <tr>\n",
       "      <th>1012</th>\n",
       "      <td>node0790</td>\n",
       "      <td>ZR</td>\n",
       "      <td>all</td>\n",
       "      <td>Process</td>\n",
       "      <td>process</td>\n",
       "      <td>RNA-silencing</td>\n",
       "      <td>RNA-silencing</td>\n",
       "      <td>RNA-silencing</td>\n",
       "      <td>RNA-silencing</td>\n",
       "      <td>conceptual:process</td>\n",
       "      <td>RNA silencing.</td>\n",
       "      <td>NaN</td>\n",
       "      <td>P:Silencing</td>\n",
       "      <td>v2.6</td>\n",
       "      <td>use</td>\n",
       "      <td>NaN</td>\n",
       "      <td>NaN</td>\n",
       "      <td>NaN</td>\n",
       "      <td>NaN</td>\n",
       "    </tr>\n",
       "    <tr>\n",
       "      <th>1013</th>\n",
       "      <td>node0791</td>\n",
       "      <td>ZR</td>\n",
       "      <td>all</td>\n",
       "      <td>Process</td>\n",
       "      <td>process</td>\n",
       "      <td>ROS-production</td>\n",
       "      <td>ROS-production</td>\n",
       "      <td>ROS-production</td>\n",
       "      <td>ROS-production</td>\n",
       "      <td>conceptual:process</td>\n",
       "      <td>ROS processes.</td>\n",
       "      <td>NaN</td>\n",
       "      <td>S:ROS</td>\n",
       "      <td>v2.6</td>\n",
       "      <td>use</td>\n",
       "      <td>NaN</td>\n",
       "      <td>NaN</td>\n",
       "      <td>NaN</td>\n",
       "      <td>NaN</td>\n",
       "    </tr>\n",
       "  </tbody>\n",
       "</table>\n",
       "</div>"
      ],
      "text/plain": [
       "     identifier AddedBy species NodeLabel NodeType                    Family  \\\n",
       "1009   node0792      ZR     all   Process  process            AUX-signalling   \n",
       "1010   node0788      ZR     all   Process  process  Anthocyanin-accumulation   \n",
       "1011   node0793      ZR     all   Process  process            CO2-deficiency   \n",
       "1012   node0790      ZR     all   Process  process             RNA-silencing   \n",
       "1013   node0791      ZR     all   Process  process            ROS-production   \n",
       "\n",
       "                         Clade                    NodeID  \\\n",
       "1009            AUX-signalling            AUX-signalling   \n",
       "1010  Anthocyanin-accumulation  Anthocyanin-accumulation   \n",
       "1011            CO2-deficiency            CO2-deficiency   \n",
       "1012             RNA-silencing             RNA-silencing   \n",
       "1013            ROS-production            ROS-production   \n",
       "\n",
       "                      NodeName      external_links  \\\n",
       "1009            AUX-signalling  conceptual:process   \n",
       "1010  Anthocyanin-accumulation  conceptual:process   \n",
       "1011            CO2-deficiency  conceptual:process   \n",
       "1012             RNA-silencing  conceptual:process   \n",
       "1013            ROS-production  conceptual:process   \n",
       "\n",
       "                     NodeDescription AdditionalInfo  \\\n",
       "1009               Auxin signalling.            NaN   \n",
       "1010  Accumulation of anthocynanins.            NaN   \n",
       "1011                  ROS processes.            NaN   \n",
       "1012                  RNA silencing.            NaN   \n",
       "1013                  ROS processes.            NaN   \n",
       "\n",
       "                                  Process ModelV ModelStatus gmm_ocd  \\\n",
       "1009                          Hormone:AUX   v2.6         use     NaN   \n",
       "1010  P:Secondary-metabolism_Anthocyanins   v2.6         use     NaN   \n",
       "1011                                S:ROS   v2.6         use     NaN   \n",
       "1012                          P:Silencing   v2.6         use     NaN   \n",
       "1013                                S:ROS   v2.6         use     NaN   \n",
       "\n",
       "     GMM_Description GMM_ShortName synonyms  \n",
       "1009             NaN           NaN      NaN  \n",
       "1010             NaN           NaN      NaN  \n",
       "1011             NaN           NaN      NaN  \n",
       "1012             NaN           NaN      NaN  \n",
       "1013             NaN           NaN      NaN  "
      ]
     },
     "execution_count": 53,
     "metadata": {},
     "output_type": "execute_result"
    }
   ],
   "source": [
    "df_process.head()"
   ]
  },
  {
   "cell_type": "code",
   "execution_count": 54,
   "metadata": {},
   "outputs": [],
   "source": [
    "want_columns = ['AddedBy', 'NodeLabel',  \n",
    "        'NodeName', 'external_links', 'NodeDescription',\n",
    "       'AdditionalInfo', 'Process', 'ModelV', 'ModelStatus']\n"
   ]
  },
  {
   "cell_type": "code",
   "execution_count": 55,
   "metadata": {},
   "outputs": [],
   "source": [
    "label = \"Process\"\n",
    "f = \"%s-components.tsv\"%label\n",
    "df_process[want_columns].to_csv(\"../data/import/\" + f, sep=\"\\t\", index=None)"
   ]
  },
  {
   "cell_type": "code",
   "execution_count": 56,
   "metadata": {
    "scrolled": true
   },
   "outputs": [
    {
     "name": "stdout",
     "output_type": "stream",
     "text": [
      "USING PERIODIC COMMIT 500\n",
      "           LOAD CSV WITH HEADERS FROM  'file:///Process-components.tsv' AS line FIELDTERMINATOR '\t'\n",
      "           CREATE (p:Process   { \n",
      "                name:line.NodeName, \n",
      "                added_by:line.AddedBy,\n",
      "                description:line.NodeDescription, \n",
      "                additional_information: line.AdditionalInfo, \n",
      "                model_version:line.ModelV,\n",
      "                model_status:line.ModelStatus, \n",
      "                pathway:line.Process,\n",
      "                \n",
      "                external_links:split(line.external_links, \",\")\n",
      "                \n",
      "            })\n"
     ]
    }
   ],
   "source": [
    "q = helpers.process_node_query(f, label, \n",
    "                     n_name=\"line.NodeName\", \n",
    "                    )\n",
    "print(q)"
   ]
  },
  {
   "cell_type": "code",
   "execution_count": 57,
   "metadata": {},
   "outputs": [],
   "source": [
    "qr = graph.run(q)\n",
    "if not df_process.shape[0] == qr.stats()['nodes_created']:\n",
    "    raise Exception"
   ]
  },
  {
   "cell_type": "markdown",
   "metadata": {},
   "source": [
    "## Complexes"
   ]
  },
  {
   "cell_type": "code",
   "execution_count": 58,
   "metadata": {},
   "outputs": [],
   "source": [
    "label = 'Complex'\n",
    "df_complex = df_components[df_components['NodeLabel'] == label].copy()"
   ]
  },
  {
   "cell_type": "code",
   "execution_count": 59,
   "metadata": {},
   "outputs": [
    {
     "data": {
      "text/html": [
       "<div>\n",
       "<style scoped>\n",
       "    .dataframe tbody tr th:only-of-type {\n",
       "        vertical-align: middle;\n",
       "    }\n",
       "\n",
       "    .dataframe tbody tr th {\n",
       "        vertical-align: top;\n",
       "    }\n",
       "\n",
       "    .dataframe thead th {\n",
       "        text-align: right;\n",
       "    }\n",
       "</style>\n",
       "<table border=\"1\" class=\"dataframe\">\n",
       "  <thead>\n",
       "    <tr style=\"text-align: right;\">\n",
       "      <th></th>\n",
       "      <th>identifier</th>\n",
       "      <th>AddedBy</th>\n",
       "      <th>species</th>\n",
       "      <th>NodeLabel</th>\n",
       "      <th>NodeType</th>\n",
       "      <th>Family</th>\n",
       "      <th>Clade</th>\n",
       "      <th>NodeID</th>\n",
       "      <th>NodeName</th>\n",
       "      <th>external_links</th>\n",
       "      <th>NodeDescription</th>\n",
       "      <th>AdditionalInfo</th>\n",
       "      <th>Process</th>\n",
       "      <th>ModelV</th>\n",
       "      <th>ModelStatus</th>\n",
       "      <th>gmm_ocd</th>\n",
       "      <th>GMM_Description</th>\n",
       "      <th>GMM_ShortName</th>\n",
       "      <th>synonyms</th>\n",
       "    </tr>\n",
       "  </thead>\n",
       "  <tbody>\n",
       "    <tr>\n",
       "      <th>0</th>\n",
       "      <td>node0887</td>\n",
       "      <td>ZR</td>\n",
       "      <td>all</td>\n",
       "      <td>Complex</td>\n",
       "      <td>plant_complex</td>\n",
       "      <td>SCF</td>\n",
       "      <td>SCF</td>\n",
       "      <td>SCF</td>\n",
       "      <td>SCF</td>\n",
       "      <td>go:0019005</td>\n",
       "      <td>SCF</td>\n",
       "      <td>NaN</td>\n",
       "      <td>NaN</td>\n",
       "      <td>v2.7</td>\n",
       "      <td>use</td>\n",
       "      <td>NaN</td>\n",
       "      <td>NaN</td>\n",
       "      <td>NaN</td>\n",
       "      <td>NaN</td>\n",
       "    </tr>\n",
       "    <tr>\n",
       "      <th>1</th>\n",
       "      <td>node0888</td>\n",
       "      <td>ZR</td>\n",
       "      <td>all</td>\n",
       "      <td>Complex</td>\n",
       "      <td>plant_complex</td>\n",
       "      <td>WD/bHLH/MYB</td>\n",
       "      <td>WD/bHLH/MYB</td>\n",
       "      <td>WD/bHLH/MYB</td>\n",
       "      <td>WD/bHLH/MYB</td>\n",
       "      <td>conceptual:complex</td>\n",
       "      <td>WD/bHLH/MYB</td>\n",
       "      <td>NaN</td>\n",
       "      <td>NaN</td>\n",
       "      <td>v2.7</td>\n",
       "      <td>use</td>\n",
       "      <td>NaN</td>\n",
       "      <td>NaN</td>\n",
       "      <td>NaN</td>\n",
       "      <td>NaN</td>\n",
       "    </tr>\n",
       "    <tr>\n",
       "      <th>2</th>\n",
       "      <td>node0787</td>\n",
       "      <td>ZR</td>\n",
       "      <td>all</td>\n",
       "      <td>Complex</td>\n",
       "      <td>plant_complex</td>\n",
       "      <td>ribosome</td>\n",
       "      <td>ribosome</td>\n",
       "      <td>ribosome</td>\n",
       "      <td>ribosome</td>\n",
       "      <td>go:0005840</td>\n",
       "      <td>ribosome</td>\n",
       "      <td>NaN</td>\n",
       "      <td>NaN</td>\n",
       "      <td>v2.6</td>\n",
       "      <td>use</td>\n",
       "      <td>NaN</td>\n",
       "      <td>NaN</td>\n",
       "      <td>NaN</td>\n",
       "      <td>NaN</td>\n",
       "    </tr>\n",
       "  </tbody>\n",
       "</table>\n",
       "</div>"
      ],
      "text/plain": [
       "  identifier AddedBy species NodeLabel       NodeType       Family  \\\n",
       "0   node0887      ZR     all   Complex  plant_complex          SCF   \n",
       "1   node0888      ZR     all   Complex  plant_complex  WD/bHLH/MYB   \n",
       "2   node0787      ZR     all   Complex  plant_complex     ribosome   \n",
       "\n",
       "         Clade       NodeID     NodeName      external_links NodeDescription  \\\n",
       "0          SCF          SCF          SCF          go:0019005             SCF   \n",
       "1  WD/bHLH/MYB  WD/bHLH/MYB  WD/bHLH/MYB  conceptual:complex     WD/bHLH/MYB   \n",
       "2     ribosome     ribosome     ribosome          go:0005840        ribosome   \n",
       "\n",
       "  AdditionalInfo Process ModelV ModelStatus gmm_ocd GMM_Description  \\\n",
       "0            NaN     NaN   v2.7         use     NaN             NaN   \n",
       "1            NaN     NaN   v2.7         use     NaN             NaN   \n",
       "2            NaN     NaN   v2.6         use     NaN             NaN   \n",
       "\n",
       "  GMM_ShortName synonyms  \n",
       "0           NaN      NaN  \n",
       "1           NaN      NaN  \n",
       "2           NaN      NaN  "
      ]
     },
     "execution_count": 59,
     "metadata": {},
     "output_type": "execute_result"
    }
   ],
   "source": [
    "df_complex"
   ]
  },
  {
   "cell_type": "code",
   "execution_count": 60,
   "metadata": {},
   "outputs": [
    {
     "name": "stdout",
     "output_type": "stream",
     "text": [
      "Complex \t 3\n"
     ]
    }
   ],
   "source": [
    "# save node types \n",
    "print(label, \"\\t\", df_complex.shape[0])\n",
    "df_complex.to_csv(f\"../data/import/{label}-components.tsv\", sep=\"\\t\", index=None)"
   ]
  },
  {
   "cell_type": "code",
   "execution_count": 61,
   "metadata": {},
   "outputs": [
    {
     "name": "stdout",
     "output_type": "stream",
     "text": [
      "Complex \t 3\n"
     ]
    }
   ],
   "source": [
    "query = helpers.bioelement_node_query(f\"{label}-components.tsv\", label, n_name=\"line.Family\")\n",
    "qr = graph.run(query)\n",
    "print(label, \"\\t\", qr.stats()['nodes_created'])"
   ]
  },
  {
   "cell_type": "markdown",
   "metadata": {},
   "source": [
    "## Bio-elements\n",
    "\n",
    "these nodes have \"Family\", \"Clade\" (msa) and \"FunctionalCluster\""
   ]
  },
  {
   "cell_type": "code",
   "execution_count": 62,
   "metadata": {},
   "outputs": [],
   "source": [
    "df_bioelements = df_components[df_components['NodeLabel'].isin(helpers.plant_node_labels)].copy()"
   ]
  },
  {
   "cell_type": "code",
   "execution_count": 63,
   "metadata": {
    "scrolled": false
   },
   "outputs": [
    {
     "data": {
      "text/html": [
       "<div>\n",
       "<style scoped>\n",
       "    .dataframe tbody tr th:only-of-type {\n",
       "        vertical-align: middle;\n",
       "    }\n",
       "\n",
       "    .dataframe tbody tr th {\n",
       "        vertical-align: top;\n",
       "    }\n",
       "\n",
       "    .dataframe thead th {\n",
       "        text-align: right;\n",
       "    }\n",
       "</style>\n",
       "<table border=\"1\" class=\"dataframe\">\n",
       "  <thead>\n",
       "    <tr style=\"text-align: right;\">\n",
       "      <th></th>\n",
       "      <th>identifier</th>\n",
       "      <th>species</th>\n",
       "      <th>Family</th>\n",
       "      <th>Clade</th>\n",
       "      <th>NodeID</th>\n",
       "      <th>NodeName</th>\n",
       "    </tr>\n",
       "  </thead>\n",
       "  <tbody>\n",
       "    <tr>\n",
       "      <th>335</th>\n",
       "      <td>node0795</td>\n",
       "      <td>ath</td>\n",
       "      <td>CPS</td>\n",
       "      <td>CPS</td>\n",
       "      <td>AT4G02780</td>\n",
       "      <td>CPS</td>\n",
       "    </tr>\n",
       "    <tr>\n",
       "      <th>336</th>\n",
       "      <td>node0796</td>\n",
       "      <td>stu</td>\n",
       "      <td>CPS</td>\n",
       "      <td>CPS</td>\n",
       "      <td>SOTUB06G034690.1.1</td>\n",
       "      <td>CPS</td>\n",
       "    </tr>\n",
       "    <tr>\n",
       "      <th>337</th>\n",
       "      <td>node0797</td>\n",
       "      <td>stu</td>\n",
       "      <td>CPS</td>\n",
       "      <td>CPS</td>\n",
       "      <td>SOTUB08G006560.1.1</td>\n",
       "      <td>CPS.x1</td>\n",
       "    </tr>\n",
       "    <tr>\n",
       "      <th>338</th>\n",
       "      <td>node0800</td>\n",
       "      <td>sly</td>\n",
       "      <td>CPS</td>\n",
       "      <td>CPS</td>\n",
       "      <td>SOLYC06G084240.2.1</td>\n",
       "      <td>CPS.x1</td>\n",
       "    </tr>\n",
       "    <tr>\n",
       "      <th>339</th>\n",
       "      <td>node0798</td>\n",
       "      <td>stu</td>\n",
       "      <td>CPS</td>\n",
       "      <td>CPS</td>\n",
       "      <td>SOTUB08G020310.1.1</td>\n",
       "      <td>CPS.x2</td>\n",
       "    </tr>\n",
       "    <tr>\n",
       "      <th>340</th>\n",
       "      <td>node0801</td>\n",
       "      <td>sly</td>\n",
       "      <td>CPS</td>\n",
       "      <td>CPS</td>\n",
       "      <td>SOLYC08G005710.3.1</td>\n",
       "      <td>CPS.x2</td>\n",
       "    </tr>\n",
       "    <tr>\n",
       "      <th>477</th>\n",
       "      <td>node0823</td>\n",
       "      <td>stu</td>\n",
       "      <td>GA20ox</td>\n",
       "      <td>GA20ox</td>\n",
       "      <td>SOTUB06G023200.1.1</td>\n",
       "      <td>GA20ox.x1</td>\n",
       "    </tr>\n",
       "    <tr>\n",
       "      <th>478</th>\n",
       "      <td>node0828</td>\n",
       "      <td>sly</td>\n",
       "      <td>GA20ox</td>\n",
       "      <td>GA20ox</td>\n",
       "      <td>SOLYC06G050110.2.1</td>\n",
       "      <td>GA20ox.x1</td>\n",
       "    </tr>\n",
       "    <tr>\n",
       "      <th>479</th>\n",
       "      <td>node0824</td>\n",
       "      <td>stu</td>\n",
       "      <td>GA20ox</td>\n",
       "      <td>GA20ox</td>\n",
       "      <td>SOTUB09G017720.1.1</td>\n",
       "      <td>GA20ox.x2</td>\n",
       "    </tr>\n",
       "    <tr>\n",
       "      <th>480</th>\n",
       "      <td>node0829</td>\n",
       "      <td>sly</td>\n",
       "      <td>GA20ox</td>\n",
       "      <td>GA20ox</td>\n",
       "      <td>SOLYC09G009110.3.1</td>\n",
       "      <td>GA20ox.x2</td>\n",
       "    </tr>\n",
       "    <tr>\n",
       "      <th>486</th>\n",
       "      <td>node0826</td>\n",
       "      <td>sly</td>\n",
       "      <td>GA20ox</td>\n",
       "      <td>GA20ox</td>\n",
       "      <td>SOLYC03G006880.3.1</td>\n",
       "      <td>GA20ox1</td>\n",
       "    </tr>\n",
       "    <tr>\n",
       "      <th>485</th>\n",
       "      <td>node0821</td>\n",
       "      <td>stu</td>\n",
       "      <td>GA20ox</td>\n",
       "      <td>GA20ox</td>\n",
       "      <td>SOTUB03G007160.1.1</td>\n",
       "      <td>GA20ox1</td>\n",
       "    </tr>\n",
       "    <tr>\n",
       "      <th>484</th>\n",
       "      <td>node0819</td>\n",
       "      <td>ath</td>\n",
       "      <td>GA20ox</td>\n",
       "      <td>GA20ox</td>\n",
       "      <td>AT4G25420</td>\n",
       "      <td>GA20ox1</td>\n",
       "    </tr>\n",
       "    <tr>\n",
       "      <th>489</th>\n",
       "      <td>node0827</td>\n",
       "      <td>sly</td>\n",
       "      <td>GA20ox</td>\n",
       "      <td>GA20ox</td>\n",
       "      <td>SOLYC06G035530.3.1</td>\n",
       "      <td>GA20ox2</td>\n",
       "    </tr>\n",
       "    <tr>\n",
       "      <th>487</th>\n",
       "      <td>node0820</td>\n",
       "      <td>ath</td>\n",
       "      <td>GA20ox</td>\n",
       "      <td>GA20ox</td>\n",
       "      <td>AT5G51810</td>\n",
       "      <td>GA20ox2</td>\n",
       "    </tr>\n",
       "    <tr>\n",
       "      <th>488</th>\n",
       "      <td>node0822</td>\n",
       "      <td>stu</td>\n",
       "      <td>GA20ox</td>\n",
       "      <td>GA20ox</td>\n",
       "      <td>SOTUB06G009210.1.1</td>\n",
       "      <td>GA20ox2</td>\n",
       "    </tr>\n",
       "    <tr>\n",
       "      <th>491</th>\n",
       "      <td>node0830</td>\n",
       "      <td>sly</td>\n",
       "      <td>GA20ox</td>\n",
       "      <td>GA20ox</td>\n",
       "      <td>SOLYC11G072310.2.1</td>\n",
       "      <td>GA20ox3</td>\n",
       "    </tr>\n",
       "    <tr>\n",
       "      <th>492</th>\n",
       "      <td>node0831</td>\n",
       "      <td>ath</td>\n",
       "      <td>GA20ox</td>\n",
       "      <td>GA20ox</td>\n",
       "      <td>AT5G07200</td>\n",
       "      <td>GA20ox3</td>\n",
       "    </tr>\n",
       "    <tr>\n",
       "      <th>490</th>\n",
       "      <td>node0825</td>\n",
       "      <td>stu</td>\n",
       "      <td>GA20ox</td>\n",
       "      <td>GA20ox</td>\n",
       "      <td>SOTUB11G029030.1.1</td>\n",
       "      <td>GA20ox3</td>\n",
       "    </tr>\n",
       "    <tr>\n",
       "      <th>493</th>\n",
       "      <td>node0832</td>\n",
       "      <td>ath</td>\n",
       "      <td>GA20ox</td>\n",
       "      <td>GA20ox</td>\n",
       "      <td>AT1G60980</td>\n",
       "      <td>GA20ox4</td>\n",
       "    </tr>\n",
       "    <tr>\n",
       "      <th>494</th>\n",
       "      <td>node0833</td>\n",
       "      <td>stu</td>\n",
       "      <td>GA20ox</td>\n",
       "      <td>GA20ox</td>\n",
       "      <td>SOTUB01G031210.1.1</td>\n",
       "      <td>GA20ox4</td>\n",
       "    </tr>\n",
       "    <tr>\n",
       "      <th>495</th>\n",
       "      <td>node0834</td>\n",
       "      <td>sly</td>\n",
       "      <td>GA20ox</td>\n",
       "      <td>GA20ox</td>\n",
       "      <td>SOLYC01G093980.3.1</td>\n",
       "      <td>GA20ox4</td>\n",
       "    </tr>\n",
       "    <tr>\n",
       "      <th>502</th>\n",
       "      <td>node0810</td>\n",
       "      <td>stu</td>\n",
       "      <td>GA3ox</td>\n",
       "      <td>GA3ox</td>\n",
       "      <td>SOTUB06G023360.1.1</td>\n",
       "      <td>GA3ox.x1</td>\n",
       "    </tr>\n",
       "    <tr>\n",
       "      <th>503</th>\n",
       "      <td>node0812</td>\n",
       "      <td>sly</td>\n",
       "      <td>GA3ox</td>\n",
       "      <td>GA3ox</td>\n",
       "      <td>SOLYC03G119910.3.1</td>\n",
       "      <td>GA3ox.x1</td>\n",
       "    </tr>\n",
       "    <tr>\n",
       "      <th>505</th>\n",
       "      <td>node0813</td>\n",
       "      <td>sly</td>\n",
       "      <td>GA3ox</td>\n",
       "      <td>GA3ox</td>\n",
       "      <td>SOLYC06G066820.3.1</td>\n",
       "      <td>GA3ox.x2</td>\n",
       "    </tr>\n",
       "    <tr>\n",
       "      <th>504</th>\n",
       "      <td>node0811</td>\n",
       "      <td>stu</td>\n",
       "      <td>GA3ox</td>\n",
       "      <td>GA3ox</td>\n",
       "      <td>SOTUB03G033480.1.1</td>\n",
       "      <td>GA3ox.x2</td>\n",
       "    </tr>\n",
       "    <tr>\n",
       "      <th>513</th>\n",
       "      <td>node0845</td>\n",
       "      <td>stu</td>\n",
       "      <td>GID</td>\n",
       "      <td>GID1</td>\n",
       "      <td>SOTUB01G036020.1.1</td>\n",
       "      <td>GID1.x1</td>\n",
       "    </tr>\n",
       "    <tr>\n",
       "      <th>514</th>\n",
       "      <td>node0848</td>\n",
       "      <td>sly</td>\n",
       "      <td>GID</td>\n",
       "      <td>GID1</td>\n",
       "      <td>SOLYC01G098390.3.1</td>\n",
       "      <td>GID1.x1</td>\n",
       "    </tr>\n",
       "    <tr>\n",
       "      <th>515</th>\n",
       "      <td>node0846</td>\n",
       "      <td>stu</td>\n",
       "      <td>GID</td>\n",
       "      <td>GID1</td>\n",
       "      <td>SOTUB06G008680.1.1</td>\n",
       "      <td>GID1.x2</td>\n",
       "    </tr>\n",
       "    <tr>\n",
       "      <th>516</th>\n",
       "      <td>node0849</td>\n",
       "      <td>sly</td>\n",
       "      <td>GID</td>\n",
       "      <td>GID1</td>\n",
       "      <td>SOLYC06G008870.2.1</td>\n",
       "      <td>GID1.x2</td>\n",
       "    </tr>\n",
       "    <tr>\n",
       "      <th>518</th>\n",
       "      <td>node0850</td>\n",
       "      <td>sly</td>\n",
       "      <td>GID</td>\n",
       "      <td>GID1</td>\n",
       "      <td>SOLYC09G074270.3.1</td>\n",
       "      <td>GID1.x3</td>\n",
       "    </tr>\n",
       "    <tr>\n",
       "      <th>517</th>\n",
       "      <td>node0847</td>\n",
       "      <td>stu</td>\n",
       "      <td>GID</td>\n",
       "      <td>GID1</td>\n",
       "      <td>SOTUB09G021750.1.1</td>\n",
       "      <td>GID1.x3</td>\n",
       "    </tr>\n",
       "    <tr>\n",
       "      <th>750</th>\n",
       "      <td>node0856</td>\n",
       "      <td>sly</td>\n",
       "      <td>MYB</td>\n",
       "      <td>MYB33,65</td>\n",
       "      <td>SOLYC01G009070.3.1</td>\n",
       "      <td>MYB33-65.x1</td>\n",
       "    </tr>\n",
       "    <tr>\n",
       "      <th>749</th>\n",
       "      <td>node0854</td>\n",
       "      <td>stu</td>\n",
       "      <td>MYB</td>\n",
       "      <td>MYB33,65</td>\n",
       "      <td>SOTUB06G030530.1.1</td>\n",
       "      <td>MYB33-65.x1</td>\n",
       "    </tr>\n",
       "    <tr>\n",
       "      <th>751</th>\n",
       "      <td>node0855</td>\n",
       "      <td>stu</td>\n",
       "      <td>MYB</td>\n",
       "      <td>MYB33,65</td>\n",
       "      <td>SOTUB01G009890.1.1</td>\n",
       "      <td>MYB33-65.x2</td>\n",
       "    </tr>\n",
       "    <tr>\n",
       "      <th>752</th>\n",
       "      <td>node0857</td>\n",
       "      <td>sly</td>\n",
       "      <td>MYB</td>\n",
       "      <td>MYB33,65</td>\n",
       "      <td>SOLYC06G073640.3.1</td>\n",
       "      <td>MYB33-65.x2</td>\n",
       "    </tr>\n",
       "    <tr>\n",
       "      <th>387</th>\n",
       "      <td>node0378</td>\n",
       "      <td>ath</td>\n",
       "      <td>DELLA</td>\n",
       "      <td>RGA2</td>\n",
       "      <td>AT1G14920</td>\n",
       "      <td>RGA2</td>\n",
       "    </tr>\n",
       "    <tr>\n",
       "      <th>388</th>\n",
       "      <td>node0383</td>\n",
       "      <td>sly</td>\n",
       "      <td>DELLA</td>\n",
       "      <td>RGA2</td>\n",
       "      <td>SOLYC11G011260.1.1</td>\n",
       "      <td>RGA2</td>\n",
       "    </tr>\n",
       "    <tr>\n",
       "      <th>389</th>\n",
       "      <td>node0384</td>\n",
       "      <td>stu</td>\n",
       "      <td>DELLA</td>\n",
       "      <td>RGA2</td>\n",
       "      <td>SOTUB11G008520.1.1</td>\n",
       "      <td>RGA2</td>\n",
       "    </tr>\n",
       "  </tbody>\n",
       "</table>\n",
       "</div>"
      ],
      "text/plain": [
       "    identifier species  Family     Clade              NodeID     NodeName\n",
       "335   node0795     ath     CPS       CPS           AT4G02780          CPS\n",
       "336   node0796     stu     CPS       CPS  SOTUB06G034690.1.1          CPS\n",
       "337   node0797     stu     CPS       CPS  SOTUB08G006560.1.1       CPS.x1\n",
       "338   node0800     sly     CPS       CPS  SOLYC06G084240.2.1       CPS.x1\n",
       "339   node0798     stu     CPS       CPS  SOTUB08G020310.1.1       CPS.x2\n",
       "340   node0801     sly     CPS       CPS  SOLYC08G005710.3.1       CPS.x2\n",
       "477   node0823     stu  GA20ox    GA20ox  SOTUB06G023200.1.1    GA20ox.x1\n",
       "478   node0828     sly  GA20ox    GA20ox  SOLYC06G050110.2.1    GA20ox.x1\n",
       "479   node0824     stu  GA20ox    GA20ox  SOTUB09G017720.1.1    GA20ox.x2\n",
       "480   node0829     sly  GA20ox    GA20ox  SOLYC09G009110.3.1    GA20ox.x2\n",
       "486   node0826     sly  GA20ox    GA20ox  SOLYC03G006880.3.1      GA20ox1\n",
       "485   node0821     stu  GA20ox    GA20ox  SOTUB03G007160.1.1      GA20ox1\n",
       "484   node0819     ath  GA20ox    GA20ox           AT4G25420      GA20ox1\n",
       "489   node0827     sly  GA20ox    GA20ox  SOLYC06G035530.3.1      GA20ox2\n",
       "487   node0820     ath  GA20ox    GA20ox           AT5G51810      GA20ox2\n",
       "488   node0822     stu  GA20ox    GA20ox  SOTUB06G009210.1.1      GA20ox2\n",
       "491   node0830     sly  GA20ox    GA20ox  SOLYC11G072310.2.1      GA20ox3\n",
       "492   node0831     ath  GA20ox    GA20ox           AT5G07200      GA20ox3\n",
       "490   node0825     stu  GA20ox    GA20ox  SOTUB11G029030.1.1      GA20ox3\n",
       "493   node0832     ath  GA20ox    GA20ox           AT1G60980      GA20ox4\n",
       "494   node0833     stu  GA20ox    GA20ox  SOTUB01G031210.1.1      GA20ox4\n",
       "495   node0834     sly  GA20ox    GA20ox  SOLYC01G093980.3.1      GA20ox4\n",
       "502   node0810     stu   GA3ox     GA3ox  SOTUB06G023360.1.1     GA3ox.x1\n",
       "503   node0812     sly   GA3ox     GA3ox  SOLYC03G119910.3.1     GA3ox.x1\n",
       "505   node0813     sly   GA3ox     GA3ox  SOLYC06G066820.3.1     GA3ox.x2\n",
       "504   node0811     stu   GA3ox     GA3ox  SOTUB03G033480.1.1     GA3ox.x2\n",
       "513   node0845     stu     GID      GID1  SOTUB01G036020.1.1      GID1.x1\n",
       "514   node0848     sly     GID      GID1  SOLYC01G098390.3.1      GID1.x1\n",
       "515   node0846     stu     GID      GID1  SOTUB06G008680.1.1      GID1.x2\n",
       "516   node0849     sly     GID      GID1  SOLYC06G008870.2.1      GID1.x2\n",
       "518   node0850     sly     GID      GID1  SOLYC09G074270.3.1      GID1.x3\n",
       "517   node0847     stu     GID      GID1  SOTUB09G021750.1.1      GID1.x3\n",
       "750   node0856     sly     MYB  MYB33,65  SOLYC01G009070.3.1  MYB33-65.x1\n",
       "749   node0854     stu     MYB  MYB33,65  SOTUB06G030530.1.1  MYB33-65.x1\n",
       "751   node0855     stu     MYB  MYB33,65  SOTUB01G009890.1.1  MYB33-65.x2\n",
       "752   node0857     sly     MYB  MYB33,65  SOLYC06G073640.3.1  MYB33-65.x2\n",
       "387   node0378     ath   DELLA      RGA2           AT1G14920         RGA2\n",
       "388   node0383     sly   DELLA      RGA2  SOLYC11G011260.1.1         RGA2\n",
       "389   node0384     stu   DELLA      RGA2  SOTUB11G008520.1.1         RGA2"
      ]
     },
     "execution_count": 63,
     "metadata": {},
     "output_type": "execute_result"
    }
   ],
   "source": [
    "df_bioelements[df_bioelements['NodeName'].duplicated(keep=False)].sort_values('NodeName')[['identifier', 'species', 'Family', 'Clade', 'NodeID', 'NodeName']]"
   ]
  },
  {
   "cell_type": "code",
   "execution_count": 64,
   "metadata": {},
   "outputs": [
    {
     "data": {
      "text/plain": [
       "PlantCoding       858\n",
       "PlantNonCoding     12\n",
       "PlantAbstract      12\n",
       "Name: NodeLabel, dtype: int64"
      ]
     },
     "execution_count": 64,
     "metadata": {},
     "output_type": "execute_result"
    }
   ],
   "source": [
    "pd.value_counts(df_bioelements['NodeLabel'])"
   ]
  },
  {
   "cell_type": "code",
   "execution_count": 65,
   "metadata": {},
   "outputs": [
    {
     "data": {
      "text/plain": [
       "['ath', 'stu', 'sly', 'osa']"
      ]
     },
     "execution_count": 65,
     "metadata": {},
     "output_type": "execute_result"
    }
   ],
   "source": [
    "all_species_listed = list(df_bioelements['species'].unique()); all_species_listed\n",
    "all_species = all_species_listed.copy()\n",
    "all_species"
   ]
  },
  {
   "cell_type": "code",
   "execution_count": 66,
   "metadata": {},
   "outputs": [],
   "source": [
    "def pick_the_set(x):\n",
    "    for v in x:\n",
    "        if type(v) == set:\n",
    "            return \",\".join(list(v))\n",
    "    return ''\n",
    "\n",
    "def str_lists_to_one_list(x):\n",
    "    l = []\n",
    "    for sub in x:\n",
    "        l += sub.split(',')\n",
    "    l = [s.strip() for s in l if not s=='']\n",
    "    \n",
    "    return ','.join(list(set(l)))\n",
    "\n",
    "def get_species_homologues(level, meta=False, use=False):\n",
    "    \n",
    "    if use:\n",
    "        df = df_bioelements[df_bioelements['ModelStatus'] == 'use'].copy()\n",
    "    else:\n",
    "        df = df_bioelements.copy()\n",
    "\n",
    "    df['family'] = df['Family']\n",
    "    \n",
    "    df_level_species  = df.groupby([level, 'species']).agg({\n",
    "      'NodeID':lambda x: set(x), \n",
    "      'family':lambda x: set(x).pop(), \n",
    "    })\n",
    "       \n",
    "    df_level_species.reset_index(1, inplace=True)\n",
    "\n",
    "    cols = []\n",
    "    for specie in all_species:\n",
    "        col = specie + '_homologues'\n",
    "        cols.append(col)\n",
    "        df_level_species.loc[df_level_species['species'] == specie, col] =\\\n",
    "                 df_level_species[df_level_species['species'] == specie]['NodeID']\n",
    "    \n",
    "    selector = {\n",
    "        y:pick_the_set for y in cols\n",
    "    }\n",
    "    selector['family'] = lambda x: x[0]\n",
    "        \n",
    "    df_level_species = df_level_species.groupby(level).agg(selector)\n",
    "    \n",
    "    if meta:\n",
    "        df_level = df.fillna('').groupby(level).agg({\n",
    "              'AddedBy':lambda x:list(x)[0], \n",
    "              'NodeLabel':lambda x:list(x)[0], \n",
    "              'NodeDescription':lambda x: ', '.join(list(set(x))), \n",
    "              'AdditionalInfo':lambda x: helpers.list_to_string(x), \n",
    "              'Process':lambda x:list(x)[0], \n",
    "              'ModelV':helpers.get_latest_model, \n",
    "              'species':lambda x: ','.join(list(set(x))),\n",
    "              'ModelStatus':helpers.get_model_status,\n",
    "              'external_links':str_lists_to_one_list, \n",
    "              'gmm_ocd':str_lists_to_one_list,\n",
    "              'GMM_Description':str_lists_to_one_list,\n",
    "              'GMM_ShortName':str_lists_to_one_list,\n",
    "              'synonyms':str_lists_to_one_list,\n",
    "        })    \n",
    "\n",
    "        df = df_level.join(df_level_species[cols])\n",
    "    else:\n",
    "        df = df_level_species#[cols]\n",
    "    \n",
    "    df.reset_index(inplace=True)\n",
    "    return df"
   ]
  },
  {
   "cell_type": "code",
   "execution_count": 67,
   "metadata": {},
   "outputs": [],
   "source": [
    "df_families = get_species_homologues(\"Family\", meta=True)"
   ]
  },
  {
   "cell_type": "code",
   "execution_count": 68,
   "metadata": {},
   "outputs": [
    {
     "name": "stdout",
     "output_type": "stream",
     "text": [
      "PlantAbstract \t 7\n",
      "PlantCoding \t 162\n",
      "PlantNonCoding \t 9\n"
     ]
    }
   ],
   "source": [
    "# save node types \n",
    "family_node_labels = []\n",
    "for t, subdf in df_families.groupby(\"NodeLabel\"):\n",
    "    print(t, \"\\t\", subdf.shape[0])\n",
    "    subdf.to_csv(\"../data/import/%s-components.tsv\"%t, sep=\"\\t\", index=None)\n",
    "    family_node_labels.append(t)"
   ]
  },
  {
   "cell_type": "code",
   "execution_count": 69,
   "metadata": {
    "scrolled": true
   },
   "outputs": [
    {
     "name": "stdout",
     "output_type": "stream",
     "text": [
      "PlantAbstract \t 7\n",
      "PlantCoding \t 162\n",
      "PlantNonCoding \t 9\n"
     ]
    }
   ],
   "source": [
    "for t in family_node_labels:\n",
    "    labels = [t, 'Family', 'Plant']\n",
    "    query = helpers.bioelement_node_query(\"%s-components.tsv\"%t, labels, n_name=\"line.Family\")\n",
    "    #query = f\"MATCH (n:{t}) DELETE n\"\n",
    "    #print(query)\n",
    "    qr = graph.run(query)\n",
    "    print(t, \"\\t\", qr.stats()['nodes_created'])"
   ]
  },
  {
   "cell_type": "markdown",
   "metadata": {},
   "source": [
    "## save files"
   ]
  },
  {
   "cell_type": "code",
   "execution_count": 70,
   "metadata": {},
   "outputs": [],
   "source": [
    "file_name = parsed_path / \"bio_elements.tsv\"\n",
    "df_bioelements.to_csv(file_name, sep=\"\\t\", index=False)"
   ]
  },
  {
   "cell_type": "code",
   "execution_count": 71,
   "metadata": {},
   "outputs": [
    {
     "name": "stdout",
     "output_type": "stream",
     "text": [
      "NodeName\n",
      "Clade\n",
      "Family\n"
     ]
    }
   ],
   "source": [
    "dfs = []\n",
    "for col_name, level in [('NodeName', 'node'), ('Clade', 'clade'), ('Family', 'family')]:\n",
    "    print(col_name)\n",
    "    df = get_species_homologues(col_name, use=True)\n",
    "\n",
    "    df.rename(columns={col_name:'name'}, inplace=True)\n",
    "    df['level'] = level\n",
    "    df.set_index(['name', 'level'], inplace=True)\n",
    "    dfs.append(df)"
   ]
  },
  {
   "cell_type": "code",
   "execution_count": 72,
   "metadata": {},
   "outputs": [
    {
     "data": {
      "text/html": [
       "<div>\n",
       "<style scoped>\n",
       "    .dataframe tbody tr th:only-of-type {\n",
       "        vertical-align: middle;\n",
       "    }\n",
       "\n",
       "    .dataframe tbody tr th {\n",
       "        vertical-align: top;\n",
       "    }\n",
       "\n",
       "    .dataframe thead th {\n",
       "        text-align: right;\n",
       "    }\n",
       "</style>\n",
       "<table border=\"1\" class=\"dataframe\">\n",
       "  <thead>\n",
       "    <tr style=\"text-align: right;\">\n",
       "      <th></th>\n",
       "      <th></th>\n",
       "      <th>ath_homologues</th>\n",
       "      <th>stu_homologues</th>\n",
       "      <th>sly_homologues</th>\n",
       "      <th>osa_homologues</th>\n",
       "      <th>family</th>\n",
       "    </tr>\n",
       "    <tr>\n",
       "      <th>name</th>\n",
       "      <th>level</th>\n",
       "      <th></th>\n",
       "      <th></th>\n",
       "      <th></th>\n",
       "      <th></th>\n",
       "      <th></th>\n",
       "    </tr>\n",
       "  </thead>\n",
       "  <tbody>\n",
       "    <tr>\n",
       "      <th rowspan=\"2\" valign=\"top\">&amp;alpha;/&amp;beta; hydroxylase</th>\n",
       "      <th>clade</th>\n",
       "      <td>AT3G03990</td>\n",
       "      <td></td>\n",
       "      <td></td>\n",
       "      <td></td>\n",
       "      <td>&amp;alpha;/&amp;beta; hydroxylase</td>\n",
       "    </tr>\n",
       "    <tr>\n",
       "      <th>family</th>\n",
       "      <td>AT3G03990</td>\n",
       "      <td></td>\n",
       "      <td></td>\n",
       "      <td></td>\n",
       "      <td>&amp;alpha;/&amp;beta; hydroxylase</td>\n",
       "    </tr>\n",
       "    <tr>\n",
       "      <th rowspan=\"2\" valign=\"top\">&amp;beta;-carotene isomerase</th>\n",
       "      <th>clade</th>\n",
       "      <td></td>\n",
       "      <td></td>\n",
       "      <td></td>\n",
       "      <td>OS11G0587000</td>\n",
       "      <td>&amp;beta;-carotene isomerase</td>\n",
       "    </tr>\n",
       "    <tr>\n",
       "      <th>family</th>\n",
       "      <td></td>\n",
       "      <td></td>\n",
       "      <td></td>\n",
       "      <td>OS11G0587000</td>\n",
       "      <td>&amp;beta;-carotene isomerase</td>\n",
       "    </tr>\n",
       "    <tr>\n",
       "      <th>4CLL</th>\n",
       "      <th>clade</th>\n",
       "      <td>AT1G20500,AT5G38120,AT1G20480,AT1G20510</td>\n",
       "      <td></td>\n",
       "      <td></td>\n",
       "      <td></td>\n",
       "      <td>4CLL</td>\n",
       "    </tr>\n",
       "  </tbody>\n",
       "</table>\n",
       "</div>"
      ],
      "text/plain": [
       "                                                            ath_homologues  \\\n",
       "name                       level                                             \n",
       "&alpha;/&beta; hydroxylase clade                                 AT3G03990   \n",
       "                           family                                AT3G03990   \n",
       "&beta;-carotene isomerase  clade                                             \n",
       "                           family                                            \n",
       "4CLL                       clade   AT1G20500,AT5G38120,AT1G20480,AT1G20510   \n",
       "\n",
       "                                  stu_homologues sly_homologues  \\\n",
       "name                       level                                  \n",
       "&alpha;/&beta; hydroxylase clade                                  \n",
       "                           family                                 \n",
       "&beta;-carotene isomerase  clade                                  \n",
       "                           family                                 \n",
       "4CLL                       clade                                  \n",
       "\n",
       "                                  osa_homologues                      family  \n",
       "name                       level                                              \n",
       "&alpha;/&beta; hydroxylase clade                  &alpha;/&beta; hydroxylase  \n",
       "                           family                 &alpha;/&beta; hydroxylase  \n",
       "&beta;-carotene isomerase  clade    OS11G0587000   &beta;-carotene isomerase  \n",
       "                           family   OS11G0587000   &beta;-carotene isomerase  \n",
       "4CLL                       clade                                        4CLL  "
      ]
     },
     "execution_count": 72,
     "metadata": {},
     "output_type": "execute_result"
    }
   ],
   "source": [
    "translate_df = pd.concat(dfs)\n",
    "translate_df = translate_df.sort_index()\n",
    "translate_df.head()"
   ]
  },
  {
   "cell_type": "code",
   "execution_count": 73,
   "metadata": {},
   "outputs": [],
   "source": [
    "file_name = parsed_path / \"level_translation.tsv\"\n",
    "translate_df.to_csv(file_name, sep=\"\\t\")"
   ]
  },
  {
   "cell_type": "code",
   "execution_count": null,
   "metadata": {},
   "outputs": [],
   "source": []
  },
  {
   "cell_type": "code",
   "execution_count": 74,
   "metadata": {},
   "outputs": [
    {
     "name": "stdout",
     "output_type": "stream",
     "text": [
      "NodeName\n",
      "Clade\n",
      "Family\n"
     ]
    }
   ],
   "source": [
    "dfs = []\n",
    "for col_name, level in [('NodeName', 'node'), ('Clade', 'clade'), ('Family', 'family')]:\n",
    "    print(col_name)\n",
    "    df = get_species_homologues(col_name, use=False)\n",
    "\n",
    "    df.rename(columns={col_name:'name'}, inplace=True)\n",
    "    df['level'] = level\n",
    "    df.set_index(['name', 'level'], inplace=True)\n",
    "    dfs.append(df)"
   ]
  },
  {
   "cell_type": "code",
   "execution_count": 75,
   "metadata": {},
   "outputs": [
    {
     "data": {
      "text/html": [
       "<div>\n",
       "<style scoped>\n",
       "    .dataframe tbody tr th:only-of-type {\n",
       "        vertical-align: middle;\n",
       "    }\n",
       "\n",
       "    .dataframe tbody tr th {\n",
       "        vertical-align: top;\n",
       "    }\n",
       "\n",
       "    .dataframe thead th {\n",
       "        text-align: right;\n",
       "    }\n",
       "</style>\n",
       "<table border=\"1\" class=\"dataframe\">\n",
       "  <thead>\n",
       "    <tr style=\"text-align: right;\">\n",
       "      <th></th>\n",
       "      <th></th>\n",
       "      <th>ath_homologues</th>\n",
       "      <th>stu_homologues</th>\n",
       "      <th>sly_homologues</th>\n",
       "      <th>osa_homologues</th>\n",
       "      <th>family</th>\n",
       "    </tr>\n",
       "    <tr>\n",
       "      <th>name</th>\n",
       "      <th>level</th>\n",
       "      <th></th>\n",
       "      <th></th>\n",
       "      <th></th>\n",
       "      <th></th>\n",
       "      <th></th>\n",
       "    </tr>\n",
       "  </thead>\n",
       "  <tbody>\n",
       "    <tr>\n",
       "      <th rowspan=\"2\" valign=\"top\">&amp;alpha;/&amp;beta; hydroxylase</th>\n",
       "      <th>clade</th>\n",
       "      <td>AT3G03990</td>\n",
       "      <td></td>\n",
       "      <td></td>\n",
       "      <td></td>\n",
       "      <td>&amp;alpha;/&amp;beta; hydroxylase</td>\n",
       "    </tr>\n",
       "    <tr>\n",
       "      <th>family</th>\n",
       "      <td>AT3G03990</td>\n",
       "      <td></td>\n",
       "      <td></td>\n",
       "      <td></td>\n",
       "      <td>&amp;alpha;/&amp;beta; hydroxylase</td>\n",
       "    </tr>\n",
       "    <tr>\n",
       "      <th rowspan=\"2\" valign=\"top\">&amp;beta;-carotene isomerase</th>\n",
       "      <th>clade</th>\n",
       "      <td></td>\n",
       "      <td></td>\n",
       "      <td></td>\n",
       "      <td>OS11G0587000</td>\n",
       "      <td>&amp;beta;-carotene isomerase</td>\n",
       "    </tr>\n",
       "    <tr>\n",
       "      <th>family</th>\n",
       "      <td></td>\n",
       "      <td></td>\n",
       "      <td></td>\n",
       "      <td>OS11G0587000</td>\n",
       "      <td>&amp;beta;-carotene isomerase</td>\n",
       "    </tr>\n",
       "    <tr>\n",
       "      <th>4CLL</th>\n",
       "      <th>clade</th>\n",
       "      <td>AT1G20500,AT5G38120,AT1G20480,AT1G20490,AT4G05...</td>\n",
       "      <td></td>\n",
       "      <td></td>\n",
       "      <td></td>\n",
       "      <td>4CLL</td>\n",
       "    </tr>\n",
       "  </tbody>\n",
       "</table>\n",
       "</div>"
      ],
      "text/plain": [
       "                                                                      ath_homologues  \\\n",
       "name                       level                                                       \n",
       "&alpha;/&beta; hydroxylase clade                                           AT3G03990   \n",
       "                           family                                          AT3G03990   \n",
       "&beta;-carotene isomerase  clade                                                       \n",
       "                           family                                                      \n",
       "4CLL                       clade   AT1G20500,AT5G38120,AT1G20480,AT1G20490,AT4G05...   \n",
       "\n",
       "                                  stu_homologues sly_homologues  \\\n",
       "name                       level                                  \n",
       "&alpha;/&beta; hydroxylase clade                                  \n",
       "                           family                                 \n",
       "&beta;-carotene isomerase  clade                                  \n",
       "                           family                                 \n",
       "4CLL                       clade                                  \n",
       "\n",
       "                                  osa_homologues                      family  \n",
       "name                       level                                              \n",
       "&alpha;/&beta; hydroxylase clade                  &alpha;/&beta; hydroxylase  \n",
       "                           family                 &alpha;/&beta; hydroxylase  \n",
       "&beta;-carotene isomerase  clade    OS11G0587000   &beta;-carotene isomerase  \n",
       "                           family   OS11G0587000   &beta;-carotene isomerase  \n",
       "4CLL                       clade                                        4CLL  "
      ]
     },
     "execution_count": 75,
     "metadata": {},
     "output_type": "execute_result"
    }
   ],
   "source": [
    "translate_df = pd.concat(dfs)\n",
    "translate_df = translate_df.sort_index()\n",
    "translate_df.head()"
   ]
  },
  {
   "cell_type": "code",
   "execution_count": 76,
   "metadata": {},
   "outputs": [],
   "source": [
    "file_name = parsed_path / \"level_not_use_translation.tsv\"\n",
    "translate_df.to_csv(file_name, sep=\"\\t\")"
   ]
  },
  {
   "cell_type": "markdown",
   "metadata": {},
   "source": [
    "# END "
   ]
  },
  {
   "cell_type": "code",
   "execution_count": null,
   "metadata": {},
   "outputs": [],
   "source": []
  }
 ],
 "metadata": {
  "kernelspec": {
   "display_name": "Python 3",
   "language": "python",
   "name": "python3"
  },
  "language_info": {
   "codemirror_mode": {
    "name": "ipython",
    "version": 3
   },
   "file_extension": ".py",
   "mimetype": "text/x-python",
   "name": "python",
   "nbconvert_exporter": "python",
   "pygments_lexer": "ipython3",
   "version": "3.9.2"
  }
 },
 "nbformat": 4,
 "nbformat_minor": 2
}
