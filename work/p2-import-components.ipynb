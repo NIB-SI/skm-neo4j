{
 "cells": [
  {
   "cell_type": "code",
   "execution_count": 1,
   "metadata": {},
   "outputs": [
    {
     "data": {
      "text/html": [
       "<style>.container { width:80% !important; }</style>"
      ],
      "text/plain": [
       "<IPython.core.display.HTML object>"
      ]
     },
     "metadata": {},
     "output_type": "display_data"
    }
   ],
   "source": [
    "from IPython.core.display import display, HTML\n",
    "display(HTML(\"<style>.container { width:80% !important; }</style>\"))"
   ]
  },
  {
   "cell_type": "markdown",
   "metadata": {},
   "source": [
    "# Import neo4j DB: 2/4\n",
    "\n",
    "Code to translate v2.7.4_PIS-model.xlsx to neo4j database. "
   ]
  },
  {
   "cell_type": "markdown",
   "metadata": {},
   "source": [
    "## Setup"
   ]
  },
  {
   "cell_type": "code",
   "execution_count": 2,
   "metadata": {},
   "outputs": [],
   "source": [
    "import pandas as pd\n",
    "import re\n",
    "import numpy as np\n",
    "import os\n",
    "from IPython.display import Image, display"
   ]
  },
  {
   "cell_type": "code",
   "execution_count": 3,
   "metadata": {},
   "outputs": [],
   "source": [
    "from py2neo import Graph, Node, Relationship"
   ]
  },
  {
   "cell_type": "code",
   "execution_count": 4,
   "metadata": {},
   "outputs": [],
   "source": [
    "import helpers"
   ]
  },
  {
   "cell_type": "code",
   "execution_count": 5,
   "metadata": {},
   "outputs": [],
   "source": [
    "from importlib import reload"
   ]
  },
  {
   "cell_type": "markdown",
   "metadata": {},
   "source": [
    "Connect to graph via docker-compose link. See http://localhost:7474/browser/"
   ]
  },
  {
   "cell_type": "code",
   "execution_count": 6,
   "metadata": {},
   "outputs": [],
   "source": [
    "graph = Graph(host=\"neo4j\")"
   ]
  },
  {
   "cell_type": "code",
   "execution_count": 7,
   "metadata": {},
   "outputs": [],
   "source": [
    "q = graph.run(\"MATCH (n) RETURN n LIMIT 10\")"
   ]
  },
  {
   "cell_type": "code",
   "execution_count": 8,
   "metadata": {},
   "outputs": [
    {
     "data": {
      "text/plain": [
       "{}"
      ]
     },
     "execution_count": 8,
     "metadata": {},
     "output_type": "execute_result"
    }
   ],
   "source": [
    "q.stats()"
   ]
  },
  {
   "cell_type": "code",
   "execution_count": 9,
   "metadata": {},
   "outputs": [],
   "source": [
    "node_labels = helpers.node_labels"
   ]
  },
  {
   "cell_type": "code",
   "execution_count": 10,
   "metadata": {},
   "outputs": [],
   "source": [
    "from pathlib import Path\n",
    "\n",
    "base_path = Path(\"..\")\n",
    "parsed_path = base_path / \"data\" / \"parsed\""
   ]
  },
  {
   "cell_type": "code",
   "execution_count": null,
   "metadata": {},
   "outputs": [],
   "source": [
    "# start from scratch\n",
    "graph.delete_all()\n",
    "\n",
    "for l in node_labels:\n",
    "    try:\n",
    "        graph.schema.drop_uniqueness_constraint(l, \"name\")\n",
    "    except:\n",
    "        pass    "
   ]
  },
  {
   "cell_type": "markdown",
   "metadata": {},
   "source": [
    "## Constraints on node names\n",
    "\n",
    "Constraint automatically adds an index. "
   ]
  },
  {
   "cell_type": "code",
   "execution_count": null,
   "metadata": {},
   "outputs": [],
   "source": [
    "for label in node_labels:\n",
    "    q = f'''CREATE CONSTRAINT unique_name_{label.lower()}\n",
    "        ON (node:{label}) ASSERT node.name IS UNIQUE'''\n",
    "    try: \n",
    "        qr = graph.run(q)\n",
    "        print(label, qr.stats()['constraints_added'])\n",
    "    except Exception as e:\n",
    "        print(e)"
   ]
  },
  {
   "cell_type": "markdown",
   "metadata": {},
   "source": [
    "## Read in"
   ]
  },
  {
   "cell_type": "code",
   "execution_count": 11,
   "metadata": {},
   "outputs": [],
   "source": [
    "path =  parsed_path / \"components.tsv\"\n",
    "df_components = pd.read_csv(path, sep=\"\\t\")"
   ]
  },
  {
   "cell_type": "markdown",
   "metadata": {},
   "source": [
    "## metabolites"
   ]
  },
  {
   "cell_type": "code",
   "execution_count": null,
   "metadata": {},
   "outputs": [],
   "source": [
    "label = 'Metabolite'\n",
    "df_metabolites = df_components[df_components['NodeLabel'] == label].copy()"
   ]
  },
  {
   "cell_type": "code",
   "execution_count": null,
   "metadata": {},
   "outputs": [],
   "source": [
    "df_metabolites.columns"
   ]
  },
  {
   "cell_type": "code",
   "execution_count": null,
   "metadata": {},
   "outputs": [],
   "source": [
    "df_metabolites[df_metabolites['NodeName'].duplicated()]"
   ]
  },
  {
   "cell_type": "code",
   "execution_count": null,
   "metadata": {},
   "outputs": [],
   "source": [
    "want_columns = ['AddedBy', 'Family', 'NodeName', \n",
    "                'external_links', 'NodeDescription', 'AdditionalInfo', \n",
    "                'Process', 'ModelV', 'ModelStatus',                 \n",
    "               ]"
   ]
  },
  {
   "cell_type": "code",
   "execution_count": null,
   "metadata": {},
   "outputs": [],
   "source": [
    "f = '%s-components.tsv'%label\n",
    "df_metabolites[want_columns].to_csv(\"../data/import/\" + f, sep=\"\\t\", index=None)"
   ]
  },
  {
   "cell_type": "code",
   "execution_count": null,
   "metadata": {},
   "outputs": [],
   "source": [
    "q = helpers.metabolite_node_query(f, label, \n",
    "                     n_name=\"line.NodeName\"\n",
    "                    )"
   ]
  },
  {
   "cell_type": "code",
   "execution_count": null,
   "metadata": {},
   "outputs": [],
   "source": [
    "print(q)"
   ]
  },
  {
   "cell_type": "code",
   "execution_count": null,
   "metadata": {},
   "outputs": [],
   "source": [
    "qr = graph.run(q)\n",
    "if not df_metabolites.shape[0] == qr.stats()['nodes_created']:\n",
    "    raise Exception"
   ]
  },
  {
   "cell_type": "code",
   "execution_count": null,
   "metadata": {},
   "outputs": [],
   "source": [
    "df_metabolites[df_metabolites['Clade'] != df_metabolites['NodeID']]"
   ]
  },
  {
   "cell_type": "code",
   "execution_count": null,
   "metadata": {},
   "outputs": [],
   "source": [
    "label = \"MetaboliteFamily\""
   ]
  },
  {
   "cell_type": "code",
   "execution_count": null,
   "metadata": {},
   "outputs": [],
   "source": [
    "df_metabolites_has_family = df_metabolites[df_metabolites['Family'] != df_metabolites['NodeID']]"
   ]
  },
  {
   "cell_type": "code",
   "execution_count": null,
   "metadata": {},
   "outputs": [],
   "source": [
    "want_columns = ['AddedBy', 'Family',\n",
    "                'external_links', 'NodeDescription', 'AdditionalInfo', \n",
    "                'Process', 'ModelV', 'ModelStatus']"
   ]
  },
  {
   "cell_type": "code",
   "execution_count": null,
   "metadata": {},
   "outputs": [],
   "source": [
    "df_metabolites_family = df_metabolites_has_family.fillna('').groupby('Family').agg({\n",
    "                                                                  'Family':lambda x:list(x)[0],\n",
    "                                                                  'AddedBy':lambda x:list(x)[0], \n",
    "                                                                  'NodeDescription':lambda x: ','.join(x), \n",
    "                                                                  'external_links':lambda x: ','.join([s for s in x if not s=='']), \n",
    "                                                                  'AdditionalInfo':lambda x: helpers.list_to_string(x), \n",
    "                                                                  'Process':lambda x:list(x)[0], \n",
    "                                                                  'ModelV':helpers.get_latest_model, \n",
    "                                                                  'ModelStatus':helpers.get_model_status})"
   ]
  },
  {
   "cell_type": "code",
   "execution_count": null,
   "metadata": {},
   "outputs": [],
   "source": [
    "df_metabolites_family"
   ]
  },
  {
   "cell_type": "code",
   "execution_count": null,
   "metadata": {},
   "outputs": [],
   "source": [
    "f = '%s-components.tsv'%label\n",
    "df_metabolites_family.to_csv(\"../data/import/\" + f, sep=\"\\t\", index=None)"
   ]
  },
  {
   "cell_type": "code",
   "execution_count": null,
   "metadata": {},
   "outputs": [],
   "source": [
    "q = helpers.metabolite_node_query(f, label, \n",
    "                     n_name=\"line.Family\"\n",
    "                    )"
   ]
  },
  {
   "cell_type": "code",
   "execution_count": null,
   "metadata": {},
   "outputs": [],
   "source": [
    "print(q)"
   ]
  },
  {
   "cell_type": "code",
   "execution_count": null,
   "metadata": {},
   "outputs": [],
   "source": [
    "qr = graph.run(q)\n",
    "if not df_metabolites_family.shape[0] == qr.stats()['nodes_created']:\n",
    "    raise Exception "
   ]
  },
  {
   "cell_type": "code",
   "execution_count": null,
   "metadata": {},
   "outputs": [],
   "source": [
    "# Metabolite to MetaboliteFamily edges\n",
    "edge_type = 'TYPE_OF'\n",
    "f = '%s-edges.tsv'%edge_type\n",
    "df_metabolites_has_family[want_columns + [\"NodeName\"]].to_csv(\"../data/import/\" + f, sep=\"\\t\", index=None)"
   ]
  },
  {
   "cell_type": "code",
   "execution_count": null,
   "metadata": {},
   "outputs": [],
   "source": [
    "q = helpers.make_create_type_of_edge_query(f, edge_type, \n",
    "                           source_label=\"Metabolite\", target_label=\"MetaboliteFamily\",\n",
    "                           source_name=\"line.NodeName\", target_name=\"line.Family\")"
   ]
  },
  {
   "cell_type": "code",
   "execution_count": null,
   "metadata": {},
   "outputs": [],
   "source": [
    "print(q)"
   ]
  },
  {
   "cell_type": "code",
   "execution_count": null,
   "metadata": {},
   "outputs": [],
   "source": [
    "qr = graph.run(q)\n",
    "if not df_metabolites_has_family.shape[0] == qr.stats()['relationships_created']:\n",
    "    raise Exception"
   ]
  },
  {
   "cell_type": "markdown",
   "metadata": {},
   "source": [
    "## Pathogens (Foreign)"
   ]
  },
  {
   "cell_type": "code",
   "execution_count": null,
   "metadata": {},
   "outputs": [],
   "source": [
    "df_external = df_components[df_components[\"NodeLabel\"].isin(helpers.foreign_node_labels)].copy()"
   ]
  },
  {
   "cell_type": "code",
   "execution_count": null,
   "metadata": {},
   "outputs": [],
   "source": [
    "df_external.columns"
   ]
  },
  {
   "cell_type": "code",
   "execution_count": null,
   "metadata": {},
   "outputs": [],
   "source": [
    "# Species --> '-'\n",
    "# Family --> 'biological classification'\n",
    "# Clade --> 'species'\n",
    "df_external.columns = ['identifier', 'AddedBy', '-', 'NodeLabel', 'NodeType', \n",
    "                       'classification', 'species', 'NodeID', 'NodeName', \n",
    "                       'external_links', 'NodeDescription', 'AdditionalInfo', \n",
    "                       'Process', 'ModelV', 'ModelStatus', \n",
    "                       'gmm_ocd', 'GMM_Description', 'GMM_ShortName', 'GMM_Synonyms']"
   ]
  },
  {
   "cell_type": "code",
   "execution_count": null,
   "metadata": {},
   "outputs": [],
   "source": [
    "#manualfix\n",
    "df_external.loc[df_external['species']=='oomycete', 'classification'] = 'oomycete'"
   ]
  },
  {
   "cell_type": "code",
   "execution_count": null,
   "metadata": {},
   "outputs": [],
   "source": [
    "df_external.head()"
   ]
  },
  {
   "cell_type": "code",
   "execution_count": null,
   "metadata": {},
   "outputs": [],
   "source": [
    "want_columns = ['AddedBy',  \n",
    "                'classification', 'species', 'NodeName', \n",
    "                'external_links', 'NodeDescription', 'AdditionalInfo', \n",
    "                'Process', 'ModelV', 'ModelStatus']"
   ]
  },
  {
   "cell_type": "code",
   "execution_count": null,
   "metadata": {},
   "outputs": [],
   "source": [
    "df_external[['NodeType', 'classification', 'species', 'NodeName']]"
   ]
  },
  {
   "cell_type": "code",
   "execution_count": null,
   "metadata": {},
   "outputs": [],
   "source": [
    "for label, subdf in df_external.groupby('NodeLabel'):\n",
    "    print(label, end='\\t')\n",
    "    f = '%s-components.tsv'%label\n",
    "    subdf[want_columns].to_csv(\"../data/import/\" + f, sep=\"\\t\", index=None)\n",
    "    \n",
    "    q = helpers.foreign_node_query(f, label, \n",
    "                     n_name=\"line.NodeName\"\n",
    "                    )\n",
    "    print(q)\n",
    "    qr = graph.run(q)\n",
    "    if not subdf.shape[0] == qr.stats()['nodes_created']:\n",
    "        raise Exception"
   ]
  },
  {
   "cell_type": "code",
   "execution_count": null,
   "metadata": {},
   "outputs": [],
   "source": [
    "external_entities = df_external.groupby('species').agg({\n",
    "                                                      'classification':lambda x:list(x)[0],\n",
    "                                                      'AddedBy':lambda x:list(x)[0], \n",
    "                                                      #'NodeDescription':lambda x: ', '.join(x), \n",
    "                                                      #'AdditionalInfo':lambda x: helpers.list_to_string(x), \n",
    "                                                      'Process':lambda x:list(x)[0], \n",
    "                                                      'ModelV':helpers.get_latest_model, \n",
    "                                                      #'ModelStatus':helpers.get_model_status\n",
    "                                                }).reset_index()"
   ]
  },
  {
   "cell_type": "code",
   "execution_count": null,
   "metadata": {},
   "outputs": [],
   "source": [
    "external_entities.columns"
   ]
  },
  {
   "cell_type": "code",
   "execution_count": null,
   "metadata": {},
   "outputs": [],
   "source": [
    "label = 'ForeignEntity'\n",
    "want_columns = ['species', 'classification', 'AddedBy', 'Process', 'ModelV']\n",
    "f = '%s-components.tsv'%label\n",
    "external_entities[want_columns].to_csv(\"../data/import/\" + f, sep=\"\\t\", index=None)"
   ]
  },
  {
   "cell_type": "code",
   "execution_count": null,
   "metadata": {},
   "outputs": [],
   "source": [
    "q = helpers.foreign_node_query(f, label, \n",
    "                     n_name=\"line.species\", \n",
    "                    )\n",
    "print(q)"
   ]
  },
  {
   "cell_type": "code",
   "execution_count": null,
   "metadata": {},
   "outputs": [],
   "source": [
    "qr = graph.run(q)\n",
    "if not external_entities.shape[0] == qr.stats()['nodes_created']:\n",
    "    raise Exception"
   ]
  },
  {
   "cell_type": "code",
   "execution_count": null,
   "metadata": {},
   "outputs": [],
   "source": [
    "# ExternalXXX to external_entities edges\n",
    "want_columns = ['AddedBy', 'NodeName', 'species', 'ModelV']\n",
    "edge_type = 'AGENT_OF'\n",
    "f = '%s-edges.tsv'%edge_type\n",
    "df_external[want_columns].to_csv(\"../data/import/\" + f, sep=\"\\t\", index=None)"
   ]
  },
  {
   "cell_type": "code",
   "execution_count": null,
   "metadata": {},
   "outputs": [],
   "source": [
    "q = helpers.make_create_type_of_edge_query(f, edge_type, \n",
    "                           source_label=\"\", target_label=\"ForeignEntity\",\n",
    "                           source_name=\"line.NodeName\", target_name=\"line.species\")\n",
    "print(q)"
   ]
  },
  {
   "cell_type": "code",
   "execution_count": null,
   "metadata": {},
   "outputs": [],
   "source": [
    "qr = graph.run(q)\n",
    "if not df_external.shape[0] == qr.stats()['relationships_created']:\n",
    "    raise Exception"
   ]
  },
  {
   "cell_type": "markdown",
   "metadata": {},
   "source": [
    "## Process"
   ]
  },
  {
   "cell_type": "code",
   "execution_count": null,
   "metadata": {},
   "outputs": [],
   "source": [
    "df_process = df_components[df_components['NodeLabel'].isin(['Process'\n",
    "                                                                ])].copy()"
   ]
  },
  {
   "cell_type": "code",
   "execution_count": null,
   "metadata": {},
   "outputs": [],
   "source": [
    "df_process.head()"
   ]
  },
  {
   "cell_type": "code",
   "execution_count": null,
   "metadata": {},
   "outputs": [],
   "source": [
    "want_columns = ['AddedBy', 'NodeLabel',  \n",
    "        'NodeName', 'external_links', 'NodeDescription',\n",
    "       'AdditionalInfo', 'Process', 'ModelV', 'ModelStatus']\n"
   ]
  },
  {
   "cell_type": "code",
   "execution_count": null,
   "metadata": {},
   "outputs": [],
   "source": [
    "label = \"Process\"\n",
    "f = \"%s-components.tsv\"%label\n",
    "df_process[want_columns].to_csv(\"../data/import/\" + f, sep=\"\\t\", index=None)"
   ]
  },
  {
   "cell_type": "code",
   "execution_count": null,
   "metadata": {},
   "outputs": [],
   "source": [
    "q = helpers.process_node_query(f, label, \n",
    "                     n_name=\"line.NodeName\", \n",
    "                    )\n",
    "print(q)"
   ]
  },
  {
   "cell_type": "code",
   "execution_count": null,
   "metadata": {},
   "outputs": [],
   "source": [
    "qr = graph.run(q)\n",
    "if not df_process.shape[0] == qr.stats()['nodes_created']:\n",
    "    raise Exception"
   ]
  },
  {
   "cell_type": "markdown",
   "metadata": {},
   "source": [
    "## Complexes"
   ]
  },
  {
   "cell_type": "code",
   "execution_count": null,
   "metadata": {},
   "outputs": [],
   "source": [
    "label = 'Complex'\n",
    "df_complex = df_components[df_components['NodeLabel'] == label].copy()"
   ]
  },
  {
   "cell_type": "code",
   "execution_count": null,
   "metadata": {},
   "outputs": [],
   "source": [
    "df_complex"
   ]
  },
  {
   "cell_type": "code",
   "execution_count": null,
   "metadata": {},
   "outputs": [],
   "source": [
    "# save node types \n",
    "print(label, \"\\t\", df_complex.shape[0])\n",
    "df_complex.to_csv(f\"../data/import/{label}-components.tsv\", sep=\"\\t\", index=None)"
   ]
  },
  {
   "cell_type": "code",
   "execution_count": null,
   "metadata": {},
   "outputs": [],
   "source": [
    "query = helpers.bioelement_node_query(f\"{label}-components.tsv\", label, n_name=\"line.Family\")\n",
    "qr = graph.run(query)\n",
    "print(label, \"\\t\", qr.stats()['nodes_created'])"
   ]
  },
  {
   "cell_type": "markdown",
   "metadata": {},
   "source": [
    "## Bio-elements\n",
    "\n",
    "these nodes have \"Family\", \"Clade\" (msa) and \"FunctionalCluster\"\n",
    "at this point only import Families"
   ]
  },
  {
   "cell_type": "code",
   "execution_count": 12,
   "metadata": {},
   "outputs": [],
   "source": [
    "df_bioelements = df_components[df_components['NodeLabel'].isin(helpers.plant_node_labels)].copy()"
   ]
  },
  {
   "cell_type": "code",
   "execution_count": 13,
   "metadata": {},
   "outputs": [
    {
     "data": {
      "text/html": [
       "<div>\n",
       "<style scoped>\n",
       "    .dataframe tbody tr th:only-of-type {\n",
       "        vertical-align: middle;\n",
       "    }\n",
       "\n",
       "    .dataframe tbody tr th {\n",
       "        vertical-align: top;\n",
       "    }\n",
       "\n",
       "    .dataframe thead th {\n",
       "        text-align: right;\n",
       "    }\n",
       "</style>\n",
       "<table border=\"1\" class=\"dataframe\">\n",
       "  <thead>\n",
       "    <tr style=\"text-align: right;\">\n",
       "      <th></th>\n",
       "      <th>identifier</th>\n",
       "      <th>species</th>\n",
       "      <th>Family</th>\n",
       "      <th>Clade</th>\n",
       "      <th>NodeID</th>\n",
       "      <th>NodeName</th>\n",
       "    </tr>\n",
       "  </thead>\n",
       "  <tbody>\n",
       "    <tr>\n",
       "      <th>335</th>\n",
       "      <td>node0795</td>\n",
       "      <td>ath</td>\n",
       "      <td>CPS</td>\n",
       "      <td>CPS</td>\n",
       "      <td>AT4G02780</td>\n",
       "      <td>CPS</td>\n",
       "    </tr>\n",
       "    <tr>\n",
       "      <th>336</th>\n",
       "      <td>node0796</td>\n",
       "      <td>stu</td>\n",
       "      <td>CPS</td>\n",
       "      <td>CPS</td>\n",
       "      <td>SOTUB06G034690.1.1</td>\n",
       "      <td>CPS</td>\n",
       "    </tr>\n",
       "    <tr>\n",
       "      <th>337</th>\n",
       "      <td>node0797</td>\n",
       "      <td>stu</td>\n",
       "      <td>CPS</td>\n",
       "      <td>CPS</td>\n",
       "      <td>SOTUB08G006560.1.1</td>\n",
       "      <td>CPS.x1</td>\n",
       "    </tr>\n",
       "    <tr>\n",
       "      <th>338</th>\n",
       "      <td>node0800</td>\n",
       "      <td>sly</td>\n",
       "      <td>CPS</td>\n",
       "      <td>CPS</td>\n",
       "      <td>SOLYC06G084240.2.1</td>\n",
       "      <td>CPS.x1</td>\n",
       "    </tr>\n",
       "    <tr>\n",
       "      <th>339</th>\n",
       "      <td>node0798</td>\n",
       "      <td>stu</td>\n",
       "      <td>CPS</td>\n",
       "      <td>CPS</td>\n",
       "      <td>SOTUB08G020310.1.1</td>\n",
       "      <td>CPS.x2</td>\n",
       "    </tr>\n",
       "    <tr>\n",
       "      <th>340</th>\n",
       "      <td>node0801</td>\n",
       "      <td>sly</td>\n",
       "      <td>CPS</td>\n",
       "      <td>CPS</td>\n",
       "      <td>SOLYC08G005710.3.1</td>\n",
       "      <td>CPS.x2</td>\n",
       "    </tr>\n",
       "    <tr>\n",
       "      <th>477</th>\n",
       "      <td>node0823</td>\n",
       "      <td>stu</td>\n",
       "      <td>GA20ox</td>\n",
       "      <td>GA20ox</td>\n",
       "      <td>SOTUB06G023200.1.1</td>\n",
       "      <td>GA20ox.x1</td>\n",
       "    </tr>\n",
       "    <tr>\n",
       "      <th>478</th>\n",
       "      <td>node0828</td>\n",
       "      <td>sly</td>\n",
       "      <td>GA20ox</td>\n",
       "      <td>GA20ox</td>\n",
       "      <td>SOLYC06G050110.2.1</td>\n",
       "      <td>GA20ox.x1</td>\n",
       "    </tr>\n",
       "    <tr>\n",
       "      <th>479</th>\n",
       "      <td>node0824</td>\n",
       "      <td>stu</td>\n",
       "      <td>GA20ox</td>\n",
       "      <td>GA20ox</td>\n",
       "      <td>SOTUB09G017720.1.1</td>\n",
       "      <td>GA20ox.x2</td>\n",
       "    </tr>\n",
       "    <tr>\n",
       "      <th>480</th>\n",
       "      <td>node0829</td>\n",
       "      <td>sly</td>\n",
       "      <td>GA20ox</td>\n",
       "      <td>GA20ox</td>\n",
       "      <td>SOLYC09G009110.3.1</td>\n",
       "      <td>GA20ox.x2</td>\n",
       "    </tr>\n",
       "    <tr>\n",
       "      <th>486</th>\n",
       "      <td>node0826</td>\n",
       "      <td>sly</td>\n",
       "      <td>GA20ox</td>\n",
       "      <td>GA20ox</td>\n",
       "      <td>SOLYC03G006880.3.1</td>\n",
       "      <td>GA20ox1</td>\n",
       "    </tr>\n",
       "    <tr>\n",
       "      <th>485</th>\n",
       "      <td>node0821</td>\n",
       "      <td>stu</td>\n",
       "      <td>GA20ox</td>\n",
       "      <td>GA20ox</td>\n",
       "      <td>SOTUB03G007160.1.1</td>\n",
       "      <td>GA20ox1</td>\n",
       "    </tr>\n",
       "    <tr>\n",
       "      <th>484</th>\n",
       "      <td>node0819</td>\n",
       "      <td>ath</td>\n",
       "      <td>GA20ox</td>\n",
       "      <td>GA20ox</td>\n",
       "      <td>AT4G25420</td>\n",
       "      <td>GA20ox1</td>\n",
       "    </tr>\n",
       "    <tr>\n",
       "      <th>489</th>\n",
       "      <td>node0827</td>\n",
       "      <td>sly</td>\n",
       "      <td>GA20ox</td>\n",
       "      <td>GA20ox</td>\n",
       "      <td>SOLYC06G035530.3.1</td>\n",
       "      <td>GA20ox2</td>\n",
       "    </tr>\n",
       "    <tr>\n",
       "      <th>487</th>\n",
       "      <td>node0820</td>\n",
       "      <td>ath</td>\n",
       "      <td>GA20ox</td>\n",
       "      <td>GA20ox</td>\n",
       "      <td>AT5G51810</td>\n",
       "      <td>GA20ox2</td>\n",
       "    </tr>\n",
       "    <tr>\n",
       "      <th>488</th>\n",
       "      <td>node0822</td>\n",
       "      <td>stu</td>\n",
       "      <td>GA20ox</td>\n",
       "      <td>GA20ox</td>\n",
       "      <td>SOTUB06G009210.1.1</td>\n",
       "      <td>GA20ox2</td>\n",
       "    </tr>\n",
       "    <tr>\n",
       "      <th>491</th>\n",
       "      <td>node0830</td>\n",
       "      <td>sly</td>\n",
       "      <td>GA20ox</td>\n",
       "      <td>GA20ox</td>\n",
       "      <td>SOLYC11G072310.2.1</td>\n",
       "      <td>GA20ox3</td>\n",
       "    </tr>\n",
       "    <tr>\n",
       "      <th>492</th>\n",
       "      <td>node0831</td>\n",
       "      <td>ath</td>\n",
       "      <td>GA20ox</td>\n",
       "      <td>GA20ox</td>\n",
       "      <td>AT5G07200</td>\n",
       "      <td>GA20ox3</td>\n",
       "    </tr>\n",
       "    <tr>\n",
       "      <th>490</th>\n",
       "      <td>node0825</td>\n",
       "      <td>stu</td>\n",
       "      <td>GA20ox</td>\n",
       "      <td>GA20ox</td>\n",
       "      <td>SOTUB11G029030.1.1</td>\n",
       "      <td>GA20ox3</td>\n",
       "    </tr>\n",
       "    <tr>\n",
       "      <th>493</th>\n",
       "      <td>node0832</td>\n",
       "      <td>ath</td>\n",
       "      <td>GA20ox</td>\n",
       "      <td>GA20ox</td>\n",
       "      <td>AT1G60980</td>\n",
       "      <td>GA20ox4</td>\n",
       "    </tr>\n",
       "    <tr>\n",
       "      <th>494</th>\n",
       "      <td>node0833</td>\n",
       "      <td>stu</td>\n",
       "      <td>GA20ox</td>\n",
       "      <td>GA20ox</td>\n",
       "      <td>SOTUB01G031210.1.1</td>\n",
       "      <td>GA20ox4</td>\n",
       "    </tr>\n",
       "    <tr>\n",
       "      <th>495</th>\n",
       "      <td>node0834</td>\n",
       "      <td>sly</td>\n",
       "      <td>GA20ox</td>\n",
       "      <td>GA20ox</td>\n",
       "      <td>SOLYC01G093980.3.1</td>\n",
       "      <td>GA20ox4</td>\n",
       "    </tr>\n",
       "    <tr>\n",
       "      <th>502</th>\n",
       "      <td>node0810</td>\n",
       "      <td>stu</td>\n",
       "      <td>GA3ox</td>\n",
       "      <td>GA3ox</td>\n",
       "      <td>SOTUB06G023360.1.1</td>\n",
       "      <td>GA3ox.x1</td>\n",
       "    </tr>\n",
       "    <tr>\n",
       "      <th>503</th>\n",
       "      <td>node0812</td>\n",
       "      <td>sly</td>\n",
       "      <td>GA3ox</td>\n",
       "      <td>GA3ox</td>\n",
       "      <td>SOLYC03G119910.3.1</td>\n",
       "      <td>GA3ox.x1</td>\n",
       "    </tr>\n",
       "    <tr>\n",
       "      <th>505</th>\n",
       "      <td>node0813</td>\n",
       "      <td>sly</td>\n",
       "      <td>GA3ox</td>\n",
       "      <td>GA3ox</td>\n",
       "      <td>SOLYC06G066820.3.1</td>\n",
       "      <td>GA3ox.x2</td>\n",
       "    </tr>\n",
       "    <tr>\n",
       "      <th>504</th>\n",
       "      <td>node0811</td>\n",
       "      <td>stu</td>\n",
       "      <td>GA3ox</td>\n",
       "      <td>GA3ox</td>\n",
       "      <td>SOTUB03G033480.1.1</td>\n",
       "      <td>GA3ox.x2</td>\n",
       "    </tr>\n",
       "    <tr>\n",
       "      <th>513</th>\n",
       "      <td>node0845</td>\n",
       "      <td>stu</td>\n",
       "      <td>GID</td>\n",
       "      <td>GID1</td>\n",
       "      <td>SOTUB01G036020.1.1</td>\n",
       "      <td>GID1.x1</td>\n",
       "    </tr>\n",
       "    <tr>\n",
       "      <th>514</th>\n",
       "      <td>node0848</td>\n",
       "      <td>sly</td>\n",
       "      <td>GID</td>\n",
       "      <td>GID1</td>\n",
       "      <td>SOLYC01G098390.3.1</td>\n",
       "      <td>GID1.x1</td>\n",
       "    </tr>\n",
       "    <tr>\n",
       "      <th>515</th>\n",
       "      <td>node0846</td>\n",
       "      <td>stu</td>\n",
       "      <td>GID</td>\n",
       "      <td>GID1</td>\n",
       "      <td>SOTUB06G008680.1.1</td>\n",
       "      <td>GID1.x2</td>\n",
       "    </tr>\n",
       "    <tr>\n",
       "      <th>516</th>\n",
       "      <td>node0849</td>\n",
       "      <td>sly</td>\n",
       "      <td>GID</td>\n",
       "      <td>GID1</td>\n",
       "      <td>SOLYC06G008870.2.1</td>\n",
       "      <td>GID1.x2</td>\n",
       "    </tr>\n",
       "    <tr>\n",
       "      <th>518</th>\n",
       "      <td>node0850</td>\n",
       "      <td>sly</td>\n",
       "      <td>GID</td>\n",
       "      <td>GID1</td>\n",
       "      <td>SOLYC09G074270.3.1</td>\n",
       "      <td>GID1.x3</td>\n",
       "    </tr>\n",
       "    <tr>\n",
       "      <th>517</th>\n",
       "      <td>node0847</td>\n",
       "      <td>stu</td>\n",
       "      <td>GID</td>\n",
       "      <td>GID1</td>\n",
       "      <td>SOTUB09G021750.1.1</td>\n",
       "      <td>GID1.x3</td>\n",
       "    </tr>\n",
       "    <tr>\n",
       "      <th>749</th>\n",
       "      <td>node0854</td>\n",
       "      <td>stu</td>\n",
       "      <td>MYB</td>\n",
       "      <td>MYB33,65</td>\n",
       "      <td>SOTUB06G030530.1.1</td>\n",
       "      <td>MYB33</td>\n",
       "    </tr>\n",
       "    <tr>\n",
       "      <th>748</th>\n",
       "      <td>node0852</td>\n",
       "      <td>ath</td>\n",
       "      <td>MYB</td>\n",
       "      <td>MYB33,65</td>\n",
       "      <td>AT5G06100</td>\n",
       "      <td>MYB33</td>\n",
       "    </tr>\n",
       "    <tr>\n",
       "      <th>751</th>\n",
       "      <td>node0855</td>\n",
       "      <td>stu</td>\n",
       "      <td>MYB</td>\n",
       "      <td>MYB33,65</td>\n",
       "      <td>SOTUB01G009890.1.1</td>\n",
       "      <td>MYB33-65.x2</td>\n",
       "    </tr>\n",
       "    <tr>\n",
       "      <th>752</th>\n",
       "      <td>node0857</td>\n",
       "      <td>sly</td>\n",
       "      <td>MYB</td>\n",
       "      <td>MYB33,65</td>\n",
       "      <td>SOLYC06G073640.3.1</td>\n",
       "      <td>MYB33-65.x2</td>\n",
       "    </tr>\n",
       "    <tr>\n",
       "      <th>387</th>\n",
       "      <td>node0378</td>\n",
       "      <td>ath</td>\n",
       "      <td>DELLA</td>\n",
       "      <td>RGA2</td>\n",
       "      <td>AT1G14920</td>\n",
       "      <td>RGA2</td>\n",
       "    </tr>\n",
       "    <tr>\n",
       "      <th>388</th>\n",
       "      <td>node0383</td>\n",
       "      <td>sly</td>\n",
       "      <td>DELLA</td>\n",
       "      <td>RGA2</td>\n",
       "      <td>SOLYC11G011260.1.1</td>\n",
       "      <td>RGA2</td>\n",
       "    </tr>\n",
       "    <tr>\n",
       "      <th>389</th>\n",
       "      <td>node0384</td>\n",
       "      <td>stu</td>\n",
       "      <td>DELLA</td>\n",
       "      <td>RGA2</td>\n",
       "      <td>SOTUB11G008520.1.1</td>\n",
       "      <td>RGA2</td>\n",
       "    </tr>\n",
       "  </tbody>\n",
       "</table>\n",
       "</div>"
      ],
      "text/plain": [
       "    identifier species  Family     Clade              NodeID     NodeName\n",
       "335   node0795     ath     CPS       CPS           AT4G02780          CPS\n",
       "336   node0796     stu     CPS       CPS  SOTUB06G034690.1.1          CPS\n",
       "337   node0797     stu     CPS       CPS  SOTUB08G006560.1.1       CPS.x1\n",
       "338   node0800     sly     CPS       CPS  SOLYC06G084240.2.1       CPS.x1\n",
       "339   node0798     stu     CPS       CPS  SOTUB08G020310.1.1       CPS.x2\n",
       "340   node0801     sly     CPS       CPS  SOLYC08G005710.3.1       CPS.x2\n",
       "477   node0823     stu  GA20ox    GA20ox  SOTUB06G023200.1.1    GA20ox.x1\n",
       "478   node0828     sly  GA20ox    GA20ox  SOLYC06G050110.2.1    GA20ox.x1\n",
       "479   node0824     stu  GA20ox    GA20ox  SOTUB09G017720.1.1    GA20ox.x2\n",
       "480   node0829     sly  GA20ox    GA20ox  SOLYC09G009110.3.1    GA20ox.x2\n",
       "486   node0826     sly  GA20ox    GA20ox  SOLYC03G006880.3.1      GA20ox1\n",
       "485   node0821     stu  GA20ox    GA20ox  SOTUB03G007160.1.1      GA20ox1\n",
       "484   node0819     ath  GA20ox    GA20ox           AT4G25420      GA20ox1\n",
       "489   node0827     sly  GA20ox    GA20ox  SOLYC06G035530.3.1      GA20ox2\n",
       "487   node0820     ath  GA20ox    GA20ox           AT5G51810      GA20ox2\n",
       "488   node0822     stu  GA20ox    GA20ox  SOTUB06G009210.1.1      GA20ox2\n",
       "491   node0830     sly  GA20ox    GA20ox  SOLYC11G072310.2.1      GA20ox3\n",
       "492   node0831     ath  GA20ox    GA20ox           AT5G07200      GA20ox3\n",
       "490   node0825     stu  GA20ox    GA20ox  SOTUB11G029030.1.1      GA20ox3\n",
       "493   node0832     ath  GA20ox    GA20ox           AT1G60980      GA20ox4\n",
       "494   node0833     stu  GA20ox    GA20ox  SOTUB01G031210.1.1      GA20ox4\n",
       "495   node0834     sly  GA20ox    GA20ox  SOLYC01G093980.3.1      GA20ox4\n",
       "502   node0810     stu   GA3ox     GA3ox  SOTUB06G023360.1.1     GA3ox.x1\n",
       "503   node0812     sly   GA3ox     GA3ox  SOLYC03G119910.3.1     GA3ox.x1\n",
       "505   node0813     sly   GA3ox     GA3ox  SOLYC06G066820.3.1     GA3ox.x2\n",
       "504   node0811     stu   GA3ox     GA3ox  SOTUB03G033480.1.1     GA3ox.x2\n",
       "513   node0845     stu     GID      GID1  SOTUB01G036020.1.1      GID1.x1\n",
       "514   node0848     sly     GID      GID1  SOLYC01G098390.3.1      GID1.x1\n",
       "515   node0846     stu     GID      GID1  SOTUB06G008680.1.1      GID1.x2\n",
       "516   node0849     sly     GID      GID1  SOLYC06G008870.2.1      GID1.x2\n",
       "518   node0850     sly     GID      GID1  SOLYC09G074270.3.1      GID1.x3\n",
       "517   node0847     stu     GID      GID1  SOTUB09G021750.1.1      GID1.x3\n",
       "749   node0854     stu     MYB  MYB33,65  SOTUB06G030530.1.1        MYB33\n",
       "748   node0852     ath     MYB  MYB33,65           AT5G06100        MYB33\n",
       "751   node0855     stu     MYB  MYB33,65  SOTUB01G009890.1.1  MYB33-65.x2\n",
       "752   node0857     sly     MYB  MYB33,65  SOLYC06G073640.3.1  MYB33-65.x2\n",
       "387   node0378     ath   DELLA      RGA2           AT1G14920         RGA2\n",
       "388   node0383     sly   DELLA      RGA2  SOLYC11G011260.1.1         RGA2\n",
       "389   node0384     stu   DELLA      RGA2  SOTUB11G008520.1.1         RGA2"
      ]
     },
     "execution_count": 13,
     "metadata": {},
     "output_type": "execute_result"
    }
   ],
   "source": [
    "df_bioelements[df_bioelements['NodeName'].duplicated(keep=False)].sort_values('NodeName')[['identifier', 'species', 'Family', 'Clade', 'NodeID', 'NodeName']]"
   ]
  },
  {
   "cell_type": "code",
   "execution_count": 14,
   "metadata": {},
   "outputs": [
    {
     "data": {
      "text/plain": [
       "PlantCoding       858\n",
       "PlantAbstract      12\n",
       "PlantNonCoding     12\n",
       "Name: NodeLabel, dtype: int64"
      ]
     },
     "execution_count": 14,
     "metadata": {},
     "output_type": "execute_result"
    }
   ],
   "source": [
    "pd.value_counts(df_bioelements['NodeLabel'])"
   ]
  },
  {
   "cell_type": "code",
   "execution_count": 15,
   "metadata": {},
   "outputs": [
    {
     "data": {
      "text/plain": [
       "['ath', 'stu', 'sly', 'osa']"
      ]
     },
     "execution_count": 15,
     "metadata": {},
     "output_type": "execute_result"
    }
   ],
   "source": [
    "all_species_listed = list(df_bioelements['species'].unique()); all_species_listed\n",
    "all_species = all_species_listed.copy()\n",
    "all_species"
   ]
  },
  {
   "cell_type": "code",
   "execution_count": 16,
   "metadata": {},
   "outputs": [],
   "source": [
    "def pick_the_set(x):\n",
    "    for v in x:\n",
    "        if type(v) == set:\n",
    "            return \",\".join(list(v))\n",
    "    return ''\n",
    "\n",
    "def str_lists_to_one_list(x):\n",
    "    l = []\n",
    "    for sub in x:\n",
    "        l += sub.split(',')\n",
    "    l = [s.strip() for s in l if not s=='']\n",
    "    \n",
    "    return ','.join(list(set(l)))\n",
    "\n",
    "def get_species_homologues(level, meta=False, use=False):\n",
    "    \n",
    "    if use:\n",
    "        df = df_bioelements[df_bioelements['ModelStatus'] == 'use'].copy()\n",
    "    else:\n",
    "        df = df_bioelements.copy()\n",
    "\n",
    "    df['family'] = df['Family']\n",
    "    \n",
    "    df_level_species  = df.groupby([level, 'species']).agg({\n",
    "      'NodeID':lambda x: set(x), \n",
    "      'family':lambda x: set(x).pop(), \n",
    "    })\n",
    "       \n",
    "    df_level_species.reset_index(1, inplace=True)\n",
    "\n",
    "    cols = []\n",
    "    for specie in all_species:\n",
    "        col = specie + '_homologues'\n",
    "        cols.append(col)\n",
    "        df_level_species.loc[df_level_species['species'] == specie, col] =\\\n",
    "                 df_level_species[df_level_species['species'] == specie]['NodeID']\n",
    "    \n",
    "    selector = {\n",
    "        y:pick_the_set for y in cols\n",
    "    }\n",
    "    selector['family'] = lambda x: x[0]\n",
    "        \n",
    "    df_level_species = df_level_species.groupby(level).agg(selector)\n",
    "    \n",
    "    if meta:\n",
    "        df_level = df.fillna('').groupby(level).agg({\n",
    "              'AddedBy':lambda x:list(x)[0], \n",
    "              'NodeLabel':lambda x:list(x)[0], \n",
    "              'NodeDescription':lambda x: ', '.join(list(set(x))), \n",
    "              'AdditionalInfo':lambda x: helpers.list_to_string(x), \n",
    "              'Process':lambda x:list(x)[0], \n",
    "              'ModelV':helpers.get_latest_model, \n",
    "              'species':lambda x: ','.join(list(set(x))),\n",
    "              'ModelStatus':helpers.get_model_status,\n",
    "              'external_links':str_lists_to_one_list, \n",
    "              'gmm_ocd':str_lists_to_one_list,\n",
    "              'GMM_Description':str_lists_to_one_list,\n",
    "              'GMM_ShortName':str_lists_to_one_list,\n",
    "              'synonyms':str_lists_to_one_list,\n",
    "        })    \n",
    "\n",
    "        df = df_level.join(df_level_species[cols])\n",
    "    else:\n",
    "        df = df_level_species#[cols]\n",
    "    \n",
    "    df.reset_index(inplace=True)\n",
    "    return df"
   ]
  },
  {
   "cell_type": "code",
   "execution_count": 17,
   "metadata": {},
   "outputs": [],
   "source": [
    "df_families = get_species_homologues(\"Family\", meta=True)"
   ]
  },
  {
   "cell_type": "code",
   "execution_count": null,
   "metadata": {},
   "outputs": [],
   "source": [
    "# save node types \n",
    "family_node_labels = []\n",
    "for t, subdf in df_families.groupby(\"NodeLabel\"):\n",
    "    print(t, \"\\t\", subdf.shape[0])\n",
    "    subdf.to_csv(\"../data/import/%s-components.tsv\"%t, sep=\"\\t\", index=None)\n",
    "    family_node_labels.append(t)"
   ]
  },
  {
   "cell_type": "code",
   "execution_count": null,
   "metadata": {},
   "outputs": [],
   "source": [
    "for t in family_node_labels:\n",
    "    labels = [t, 'Family', 'Plant']\n",
    "    query = helpers.bioelement_node_query(\"%s-components.tsv\"%t, labels, n_name=\"line.Family\")\n",
    "    #query = f\"MATCH (n:{t}) DELETE n\"\n",
    "    #print(query)\n",
    "    qr = graph.run(query)\n",
    "    print(t, \"\\t\", qr.stats()['nodes_created'])"
   ]
  },
  {
   "cell_type": "markdown",
   "metadata": {},
   "source": [
    "## save files"
   ]
  },
  {
   "cell_type": "code",
   "execution_count": 23,
   "metadata": {},
   "outputs": [
    {
     "data": {
      "text/html": [
       "<div>\n",
       "<style scoped>\n",
       "    .dataframe tbody tr th:only-of-type {\n",
       "        vertical-align: middle;\n",
       "    }\n",
       "\n",
       "    .dataframe tbody tr th {\n",
       "        vertical-align: top;\n",
       "    }\n",
       "\n",
       "    .dataframe thead th {\n",
       "        text-align: right;\n",
       "    }\n",
       "</style>\n",
       "<table border=\"1\" class=\"dataframe\">\n",
       "  <thead>\n",
       "    <tr style=\"text-align: right;\">\n",
       "      <th></th>\n",
       "      <th>identifier</th>\n",
       "      <th>AddedBy</th>\n",
       "      <th>species</th>\n",
       "      <th>NodeLabel</th>\n",
       "      <th>NodeType</th>\n",
       "      <th>Family</th>\n",
       "      <th>Clade</th>\n",
       "      <th>NodeID</th>\n",
       "      <th>NodeName</th>\n",
       "      <th>external_links</th>\n",
       "      <th>NodeDescription</th>\n",
       "      <th>AdditionalInfo</th>\n",
       "      <th>Process</th>\n",
       "      <th>ModelV</th>\n",
       "      <th>ModelStatus</th>\n",
       "      <th>gmm_ocd</th>\n",
       "      <th>GMM_Description</th>\n",
       "      <th>GMM_ShortName</th>\n",
       "      <th>synonyms</th>\n",
       "    </tr>\n",
       "  </thead>\n",
       "  <tbody>\n",
       "    <tr>\n",
       "      <th>773</th>\n",
       "      <td>node0491</td>\n",
       "      <td>KG</td>\n",
       "      <td>ath</td>\n",
       "      <td>PlantCoding</td>\n",
       "      <td>plant_coding</td>\n",
       "      <td>NADPH-oxidase</td>\n",
       "      <td>NADPH-oxidase</td>\n",
       "      <td>AT5G07390</td>\n",
       "      <td>RBOHA</td>\n",
       "      <td>gmm_ocd:ocd_all_000146</td>\n",
       "      <td>NADPH oxidase</td>\n",
       "      <td>Respiratory burst oxidase.</td>\n",
       "      <td>S:ROS</td>\n",
       "      <td>v2.5</td>\n",
       "      <td>orthology</td>\n",
       "      <td>ocd_all_000146</td>\n",
       "      <td>respiratory burst oxidase homolog A</td>\n",
       "      <td>RBOHA</td>\n",
       "      <td>ATRBOHA, RBOHA</td>\n",
       "    </tr>\n",
       "    <tr>\n",
       "      <th>774</th>\n",
       "      <td>node0492</td>\n",
       "      <td>KG</td>\n",
       "      <td>ath</td>\n",
       "      <td>PlantCoding</td>\n",
       "      <td>plant_coding</td>\n",
       "      <td>NADPH-oxidase</td>\n",
       "      <td>NADPH-oxidase</td>\n",
       "      <td>AT1G09090</td>\n",
       "      <td>RBOHB</td>\n",
       "      <td>gmm_ocd:ocd_all_000146</td>\n",
       "      <td>NADPH oxidase</td>\n",
       "      <td>Respiratory burst oxidase: NADPH-oxidase Atrbo...</td>\n",
       "      <td>S:ROS</td>\n",
       "      <td>v2.5</td>\n",
       "      <td>orthology</td>\n",
       "      <td>ocd_all_000146</td>\n",
       "      <td>respiratory burst oxidase-like protein</td>\n",
       "      <td>RBOHB</td>\n",
       "      <td>ATRBOHB, ATRBOHB-BETA, RBOHB</td>\n",
       "    </tr>\n",
       "    <tr>\n",
       "      <th>775</th>\n",
       "      <td>node0494</td>\n",
       "      <td>KG</td>\n",
       "      <td>ath</td>\n",
       "      <td>PlantCoding</td>\n",
       "      <td>plant_coding</td>\n",
       "      <td>NADPH-oxidase</td>\n",
       "      <td>NADPH-oxidase</td>\n",
       "      <td>AT5G51060</td>\n",
       "      <td>RBOHC</td>\n",
       "      <td>gmm_ocd:ocd_all_000146</td>\n",
       "      <td>NADPH oxidase</td>\n",
       "      <td>Respiratory burst oxidase: It is required for ...</td>\n",
       "      <td>S:ROS</td>\n",
       "      <td>v2.5</td>\n",
       "      <td>orthology</td>\n",
       "      <td>ocd_all_000146</td>\n",
       "      <td>NADPH/respiratory burst oxidase protein D</td>\n",
       "      <td>RBOHC</td>\n",
       "      <td>ATRBOHC, RBOHC, RHD2</td>\n",
       "    </tr>\n",
       "    <tr>\n",
       "      <th>776</th>\n",
       "      <td>node0493</td>\n",
       "      <td>KG</td>\n",
       "      <td>ath</td>\n",
       "      <td>PlantCoding</td>\n",
       "      <td>plant_coding</td>\n",
       "      <td>NADPH-oxidase</td>\n",
       "      <td>NADPH-oxidase</td>\n",
       "      <td>AT5G47910</td>\n",
       "      <td>RBOHD</td>\n",
       "      <td>gmm_ocd:ocd_all_000146</td>\n",
       "      <td>NADPH oxidase</td>\n",
       "      <td>Respiratory burst oxidase: NADPH/respiratory b...</td>\n",
       "      <td>S:ROS</td>\n",
       "      <td>v2.5</td>\n",
       "      <td>use</td>\n",
       "      <td>ocd_all_000146</td>\n",
       "      <td>respiratory burst oxidase homologue D</td>\n",
       "      <td>RBOHD</td>\n",
       "      <td>ATRBOHD, RBOHD</td>\n",
       "    </tr>\n",
       "    <tr>\n",
       "      <th>777</th>\n",
       "      <td>node0496</td>\n",
       "      <td>KG</td>\n",
       "      <td>ath</td>\n",
       "      <td>PlantCoding</td>\n",
       "      <td>plant_coding</td>\n",
       "      <td>NADPH-oxidase</td>\n",
       "      <td>NADPH-oxidase</td>\n",
       "      <td>AT1G19230</td>\n",
       "      <td>RBOHE</td>\n",
       "      <td>gmm_ocd:ocd_all_000146</td>\n",
       "      <td>NADPH oxidase</td>\n",
       "      <td>Riboflavin synthase-like superfamily protein.</td>\n",
       "      <td>S:ROS</td>\n",
       "      <td>v2.5</td>\n",
       "      <td>orthology</td>\n",
       "      <td>ocd_all_000146</td>\n",
       "      <td>Riboflavin synthase-like superfamily protein</td>\n",
       "      <td>RBOHE</td>\n",
       "      <td>RBOHE</td>\n",
       "    </tr>\n",
       "    <tr>\n",
       "      <th>778</th>\n",
       "      <td>node0495</td>\n",
       "      <td>KG</td>\n",
       "      <td>ath</td>\n",
       "      <td>PlantCoding</td>\n",
       "      <td>plant_coding</td>\n",
       "      <td>NADPH-oxidase</td>\n",
       "      <td>NADPH-oxidase</td>\n",
       "      <td>AT1G64060</td>\n",
       "      <td>RBOHF</td>\n",
       "      <td>gmm_ocd:ocd_all_000146</td>\n",
       "      <td>NADPH oxidase</td>\n",
       "      <td>Respiratory burst oxidase: Interacts with Atrb...</td>\n",
       "      <td>S:ROS</td>\n",
       "      <td>v2.5</td>\n",
       "      <td>orthology</td>\n",
       "      <td>ocd_all_000146</td>\n",
       "      <td>respiratory burst oxidase protein F</td>\n",
       "      <td>RBOHF</td>\n",
       "      <td>ATRBOHF, RBOH F, RBOHAP108, RBOHF</td>\n",
       "    </tr>\n",
       "    <tr>\n",
       "      <th>779</th>\n",
       "      <td>node0498</td>\n",
       "      <td>KG</td>\n",
       "      <td>ath</td>\n",
       "      <td>PlantCoding</td>\n",
       "      <td>plant_coding</td>\n",
       "      <td>NADPH-oxidase</td>\n",
       "      <td>NADPH-oxidase</td>\n",
       "      <td>AT4G25090</td>\n",
       "      <td>RBOHG</td>\n",
       "      <td>gmm_ocd:ocd_all_000146</td>\n",
       "      <td>NADPH oxidase</td>\n",
       "      <td>Riboflavin synthase-like superfamily protein.</td>\n",
       "      <td>S:ROS</td>\n",
       "      <td>v2.5</td>\n",
       "      <td>orthology</td>\n",
       "      <td>ocd_all_000146</td>\n",
       "      <td>Riboflavin synthase-like superfamily protein</td>\n",
       "      <td>RBOHG</td>\n",
       "      <td>RBOHG</td>\n",
       "    </tr>\n",
       "    <tr>\n",
       "      <th>780</th>\n",
       "      <td>node0500</td>\n",
       "      <td>KG</td>\n",
       "      <td>ath</td>\n",
       "      <td>PlantCoding</td>\n",
       "      <td>plant_coding</td>\n",
       "      <td>NADPH-oxidase</td>\n",
       "      <td>NADPH-oxidase</td>\n",
       "      <td>AT5G60010</td>\n",
       "      <td>RBOHH</td>\n",
       "      <td>gmm_ocd:ocd_all_000146</td>\n",
       "      <td>NADPH oxidase</td>\n",
       "      <td>Ferric reductase-like transmembrane component ...</td>\n",
       "      <td>S:ROS</td>\n",
       "      <td>v2.5</td>\n",
       "      <td>orthology</td>\n",
       "      <td>ocd_all_000146</td>\n",
       "      <td>ferric reductase-like transmembrane component ...</td>\n",
       "      <td>RBOHH</td>\n",
       "      <td>RBOHH, RbohH</td>\n",
       "    </tr>\n",
       "    <tr>\n",
       "      <th>781</th>\n",
       "      <td>node0497</td>\n",
       "      <td>KG</td>\n",
       "      <td>ath</td>\n",
       "      <td>PlantCoding</td>\n",
       "      <td>plant_coding</td>\n",
       "      <td>NADPH-oxidase</td>\n",
       "      <td>NADPH-oxidase</td>\n",
       "      <td>AT4G11230</td>\n",
       "      <td>RBOHI</td>\n",
       "      <td>gmm_ocd:ocd_all_000146</td>\n",
       "      <td>NADPH oxidase</td>\n",
       "      <td>Riboflavin synthase-like superfamily protein.</td>\n",
       "      <td>S:ROS</td>\n",
       "      <td>v2.5</td>\n",
       "      <td>orthology</td>\n",
       "      <td>ocd_all_000146</td>\n",
       "      <td>Riboflavin synthase-like superfamily protein</td>\n",
       "      <td>RBOHI</td>\n",
       "      <td>RBOHI</td>\n",
       "    </tr>\n",
       "    <tr>\n",
       "      <th>782</th>\n",
       "      <td>node0499</td>\n",
       "      <td>KG</td>\n",
       "      <td>ath</td>\n",
       "      <td>PlantCoding</td>\n",
       "      <td>plant_coding</td>\n",
       "      <td>NADPH-oxidase</td>\n",
       "      <td>NADPH-oxidase</td>\n",
       "      <td>AT3G45810</td>\n",
       "      <td>RBOHJ</td>\n",
       "      <td>gmm_ocd:ocd_all_000146</td>\n",
       "      <td>NADPH oxidase</td>\n",
       "      <td>Ferric reductase-like transmembrane component ...</td>\n",
       "      <td>S:ROS</td>\n",
       "      <td>v2.5</td>\n",
       "      <td>orthology</td>\n",
       "      <td>ocd_all_000146</td>\n",
       "      <td>ferric reductase-like transmembrane component ...</td>\n",
       "      <td>RBOHJ</td>\n",
       "      <td>RBOHJ, RbohJ</td>\n",
       "    </tr>\n",
       "  </tbody>\n",
       "</table>\n",
       "</div>"
      ],
      "text/plain": [
       "    identifier AddedBy species    NodeLabel      NodeType         Family  \\\n",
       "773   node0491      KG     ath  PlantCoding  plant_coding  NADPH-oxidase   \n",
       "774   node0492      KG     ath  PlantCoding  plant_coding  NADPH-oxidase   \n",
       "775   node0494      KG     ath  PlantCoding  plant_coding  NADPH-oxidase   \n",
       "776   node0493      KG     ath  PlantCoding  plant_coding  NADPH-oxidase   \n",
       "777   node0496      KG     ath  PlantCoding  plant_coding  NADPH-oxidase   \n",
       "778   node0495      KG     ath  PlantCoding  plant_coding  NADPH-oxidase   \n",
       "779   node0498      KG     ath  PlantCoding  plant_coding  NADPH-oxidase   \n",
       "780   node0500      KG     ath  PlantCoding  plant_coding  NADPH-oxidase   \n",
       "781   node0497      KG     ath  PlantCoding  plant_coding  NADPH-oxidase   \n",
       "782   node0499      KG     ath  PlantCoding  plant_coding  NADPH-oxidase   \n",
       "\n",
       "             Clade     NodeID NodeName          external_links  \\\n",
       "773  NADPH-oxidase  AT5G07390    RBOHA  gmm_ocd:ocd_all_000146   \n",
       "774  NADPH-oxidase  AT1G09090    RBOHB  gmm_ocd:ocd_all_000146   \n",
       "775  NADPH-oxidase  AT5G51060    RBOHC  gmm_ocd:ocd_all_000146   \n",
       "776  NADPH-oxidase  AT5G47910    RBOHD  gmm_ocd:ocd_all_000146   \n",
       "777  NADPH-oxidase  AT1G19230    RBOHE  gmm_ocd:ocd_all_000146   \n",
       "778  NADPH-oxidase  AT1G64060    RBOHF  gmm_ocd:ocd_all_000146   \n",
       "779  NADPH-oxidase  AT4G25090    RBOHG  gmm_ocd:ocd_all_000146   \n",
       "780  NADPH-oxidase  AT5G60010    RBOHH  gmm_ocd:ocd_all_000146   \n",
       "781  NADPH-oxidase  AT4G11230    RBOHI  gmm_ocd:ocd_all_000146   \n",
       "782  NADPH-oxidase  AT3G45810    RBOHJ  gmm_ocd:ocd_all_000146   \n",
       "\n",
       "    NodeDescription                                     AdditionalInfo  \\\n",
       "773   NADPH oxidase                         Respiratory burst oxidase.   \n",
       "774   NADPH oxidase  Respiratory burst oxidase: NADPH-oxidase Atrbo...   \n",
       "775   NADPH oxidase  Respiratory burst oxidase: It is required for ...   \n",
       "776   NADPH oxidase  Respiratory burst oxidase: NADPH/respiratory b...   \n",
       "777   NADPH oxidase      Riboflavin synthase-like superfamily protein.   \n",
       "778   NADPH oxidase  Respiratory burst oxidase: Interacts with Atrb...   \n",
       "779   NADPH oxidase      Riboflavin synthase-like superfamily protein.   \n",
       "780   NADPH oxidase  Ferric reductase-like transmembrane component ...   \n",
       "781   NADPH oxidase      Riboflavin synthase-like superfamily protein.   \n",
       "782   NADPH oxidase  Ferric reductase-like transmembrane component ...   \n",
       "\n",
       "    Process ModelV ModelStatus         gmm_ocd  \\\n",
       "773   S:ROS   v2.5   orthology  ocd_all_000146   \n",
       "774   S:ROS   v2.5   orthology  ocd_all_000146   \n",
       "775   S:ROS   v2.5   orthology  ocd_all_000146   \n",
       "776   S:ROS   v2.5         use  ocd_all_000146   \n",
       "777   S:ROS   v2.5   orthology  ocd_all_000146   \n",
       "778   S:ROS   v2.5   orthology  ocd_all_000146   \n",
       "779   S:ROS   v2.5   orthology  ocd_all_000146   \n",
       "780   S:ROS   v2.5   orthology  ocd_all_000146   \n",
       "781   S:ROS   v2.5   orthology  ocd_all_000146   \n",
       "782   S:ROS   v2.5   orthology  ocd_all_000146   \n",
       "\n",
       "                                       GMM_Description GMM_ShortName  \\\n",
       "773                respiratory burst oxidase homolog A         RBOHA   \n",
       "774             respiratory burst oxidase-like protein         RBOHB   \n",
       "775          NADPH/respiratory burst oxidase protein D         RBOHC   \n",
       "776              respiratory burst oxidase homologue D         RBOHD   \n",
       "777       Riboflavin synthase-like superfamily protein         RBOHE   \n",
       "778                respiratory burst oxidase protein F         RBOHF   \n",
       "779       Riboflavin synthase-like superfamily protein         RBOHG   \n",
       "780  ferric reductase-like transmembrane component ...         RBOHH   \n",
       "781       Riboflavin synthase-like superfamily protein         RBOHI   \n",
       "782  ferric reductase-like transmembrane component ...         RBOHJ   \n",
       "\n",
       "                              synonyms  \n",
       "773                     ATRBOHA, RBOHA  \n",
       "774       ATRBOHB, ATRBOHB-BETA, RBOHB  \n",
       "775               ATRBOHC, RBOHC, RHD2  \n",
       "776                     ATRBOHD, RBOHD  \n",
       "777                              RBOHE  \n",
       "778  ATRBOHF, RBOH F, RBOHAP108, RBOHF  \n",
       "779                              RBOHG  \n",
       "780                       RBOHH, RbohH  \n",
       "781                              RBOHI  \n",
       "782                       RBOHJ, RbohJ  "
      ]
     },
     "execution_count": 23,
     "metadata": {},
     "output_type": "execute_result"
    }
   ],
   "source": [
    "df_bioelements[df_bioelements['Clade'] =='NADPH-oxidase']"
   ]
  },
  {
   "cell_type": "code",
   "execution_count": null,
   "metadata": {},
   "outputs": [],
   "source": [
    "file_name = parsed_path / \"bio_elements.tsv\"\n",
    "df_bioelements.to_csv(file_name, sep=\"\\t\", index=False)"
   ]
  },
  {
   "cell_type": "code",
   "execution_count": 18,
   "metadata": {},
   "outputs": [
    {
     "name": "stdout",
     "output_type": "stream",
     "text": [
      "NodeName\n",
      "Clade\n",
      "Family\n"
     ]
    }
   ],
   "source": [
    "dfs = []\n",
    "for col_name, level in [('NodeName', 'node'), ('Clade', 'clade'), ('Family', 'family')]:\n",
    "    print(col_name)\n",
    "    df = get_species_homologues(col_name, use=True)\n",
    "\n",
    "    df.rename(columns={col_name:'name'}, inplace=True)\n",
    "    df['level'] = level\n",
    "    df.set_index(['name', 'level'], inplace=True)\n",
    "    dfs.append(df)"
   ]
  },
  {
   "cell_type": "code",
   "execution_count": 19,
   "metadata": {},
   "outputs": [
    {
     "data": {
      "text/html": [
       "<div>\n",
       "<style scoped>\n",
       "    .dataframe tbody tr th:only-of-type {\n",
       "        vertical-align: middle;\n",
       "    }\n",
       "\n",
       "    .dataframe tbody tr th {\n",
       "        vertical-align: top;\n",
       "    }\n",
       "\n",
       "    .dataframe thead th {\n",
       "        text-align: right;\n",
       "    }\n",
       "</style>\n",
       "<table border=\"1\" class=\"dataframe\">\n",
       "  <thead>\n",
       "    <tr style=\"text-align: right;\">\n",
       "      <th></th>\n",
       "      <th></th>\n",
       "      <th>ath_homologues</th>\n",
       "      <th>stu_homologues</th>\n",
       "      <th>sly_homologues</th>\n",
       "      <th>osa_homologues</th>\n",
       "      <th>family</th>\n",
       "    </tr>\n",
       "    <tr>\n",
       "      <th>name</th>\n",
       "      <th>level</th>\n",
       "      <th></th>\n",
       "      <th></th>\n",
       "      <th></th>\n",
       "      <th></th>\n",
       "      <th></th>\n",
       "    </tr>\n",
       "  </thead>\n",
       "  <tbody>\n",
       "    <tr>\n",
       "      <th rowspan=\"2\" valign=\"top\">&amp;alpha;/&amp;beta; hydroxylase</th>\n",
       "      <th>clade</th>\n",
       "      <td>AT3G03990</td>\n",
       "      <td></td>\n",
       "      <td></td>\n",
       "      <td></td>\n",
       "      <td>&amp;alpha;/&amp;beta; hydroxylase</td>\n",
       "    </tr>\n",
       "    <tr>\n",
       "      <th>family</th>\n",
       "      <td>AT3G03990</td>\n",
       "      <td></td>\n",
       "      <td></td>\n",
       "      <td></td>\n",
       "      <td>&amp;alpha;/&amp;beta; hydroxylase</td>\n",
       "    </tr>\n",
       "    <tr>\n",
       "      <th rowspan=\"2\" valign=\"top\">&amp;beta;-carotene isomerase</th>\n",
       "      <th>clade</th>\n",
       "      <td></td>\n",
       "      <td></td>\n",
       "      <td></td>\n",
       "      <td>OS11G0587000</td>\n",
       "      <td>&amp;beta;-carotene isomerase</td>\n",
       "    </tr>\n",
       "    <tr>\n",
       "      <th>family</th>\n",
       "      <td></td>\n",
       "      <td></td>\n",
       "      <td></td>\n",
       "      <td>OS11G0587000</td>\n",
       "      <td>&amp;beta;-carotene isomerase</td>\n",
       "    </tr>\n",
       "    <tr>\n",
       "      <th>4CLL</th>\n",
       "      <th>clade</th>\n",
       "      <td>AT5G38120,AT1G20480,AT1G20510,AT1G20500</td>\n",
       "      <td></td>\n",
       "      <td></td>\n",
       "      <td></td>\n",
       "      <td>4CLL</td>\n",
       "    </tr>\n",
       "  </tbody>\n",
       "</table>\n",
       "</div>"
      ],
      "text/plain": [
       "                                                            ath_homologues  \\\n",
       "name                       level                                             \n",
       "&alpha;/&beta; hydroxylase clade                                 AT3G03990   \n",
       "                           family                                AT3G03990   \n",
       "&beta;-carotene isomerase  clade                                             \n",
       "                           family                                            \n",
       "4CLL                       clade   AT5G38120,AT1G20480,AT1G20510,AT1G20500   \n",
       "\n",
       "                                  stu_homologues sly_homologues  \\\n",
       "name                       level                                  \n",
       "&alpha;/&beta; hydroxylase clade                                  \n",
       "                           family                                 \n",
       "&beta;-carotene isomerase  clade                                  \n",
       "                           family                                 \n",
       "4CLL                       clade                                  \n",
       "\n",
       "                                  osa_homologues                      family  \n",
       "name                       level                                              \n",
       "&alpha;/&beta; hydroxylase clade                  &alpha;/&beta; hydroxylase  \n",
       "                           family                 &alpha;/&beta; hydroxylase  \n",
       "&beta;-carotene isomerase  clade    OS11G0587000   &beta;-carotene isomerase  \n",
       "                           family   OS11G0587000   &beta;-carotene isomerase  \n",
       "4CLL                       clade                                        4CLL  "
      ]
     },
     "execution_count": 19,
     "metadata": {},
     "output_type": "execute_result"
    }
   ],
   "source": [
    "translate_df = pd.concat(dfs)\n",
    "translate_df = translate_df.sort_index()\n",
    "translate_df.head()"
   ]
  },
  {
   "cell_type": "code",
   "execution_count": 21,
   "metadata": {},
   "outputs": [
    {
     "data": {
      "text/html": [
       "<div>\n",
       "<style scoped>\n",
       "    .dataframe tbody tr th:only-of-type {\n",
       "        vertical-align: middle;\n",
       "    }\n",
       "\n",
       "    .dataframe tbody tr th {\n",
       "        vertical-align: top;\n",
       "    }\n",
       "\n",
       "    .dataframe thead th {\n",
       "        text-align: right;\n",
       "    }\n",
       "</style>\n",
       "<table border=\"1\" class=\"dataframe\">\n",
       "  <thead>\n",
       "    <tr style=\"text-align: right;\">\n",
       "      <th></th>\n",
       "      <th>ath_homologues</th>\n",
       "      <th>stu_homologues</th>\n",
       "      <th>sly_homologues</th>\n",
       "      <th>osa_homologues</th>\n",
       "      <th>family</th>\n",
       "    </tr>\n",
       "    <tr>\n",
       "      <th>level</th>\n",
       "      <th></th>\n",
       "      <th></th>\n",
       "      <th></th>\n",
       "      <th></th>\n",
       "      <th></th>\n",
       "    </tr>\n",
       "  </thead>\n",
       "  <tbody>\n",
       "    <tr>\n",
       "      <th>clade</th>\n",
       "      <td>AT5G47910</td>\n",
       "      <td></td>\n",
       "      <td></td>\n",
       "      <td></td>\n",
       "      <td>NADPH-oxidase</td>\n",
       "    </tr>\n",
       "    <tr>\n",
       "      <th>family</th>\n",
       "      <td>AT5G47910</td>\n",
       "      <td></td>\n",
       "      <td></td>\n",
       "      <td></td>\n",
       "      <td>NADPH-oxidase</td>\n",
       "    </tr>\n",
       "  </tbody>\n",
       "</table>\n",
       "</div>"
      ],
      "text/plain": [
       "       ath_homologues stu_homologues sly_homologues osa_homologues  \\\n",
       "level                                                                \n",
       "clade       AT5G47910                                                \n",
       "family      AT5G47910                                                \n",
       "\n",
       "               family  \n",
       "level                  \n",
       "clade   NADPH-oxidase  \n",
       "family  NADPH-oxidase  "
      ]
     },
     "execution_count": 21,
     "metadata": {},
     "output_type": "execute_result"
    }
   ],
   "source": [
    "translate_df.loc['NADPH-oxidase']"
   ]
  },
  {
   "cell_type": "code",
   "execution_count": 24,
   "metadata": {},
   "outputs": [],
   "source": [
    "level = 'Clade'\n",
    "# use = True, meta=false\n",
    "\n",
    "  #  if use:\n",
    "df = df_bioelements[df_bioelements['ModelStatus'] == 'use'].copy()\n",
    "#    else:\n",
    "#        df = df_bioelements.copy()\n",
    "\n",
    "df['family'] = df['Family']\n",
    "\n",
    "df_level_species  = df.groupby([level, 'species']).agg({\n",
    "  'NodeID':lambda x: set(x), \n",
    "  'family':lambda x: set(x).pop(), \n",
    "})\n",
    "\n",
    "df_level_species.reset_index(1, inplace=True)\n",
    "\n",
    "cols = []\n",
    "for specie in all_species:\n",
    "    col = specie + '_homologues'\n",
    "    cols.append(col)\n",
    "    df_level_species.loc[df_level_species['species'] == specie, col] =\\\n",
    "             df_level_species[df_level_species['species'] == specie]['NodeID']\n",
    "\n",
    "selector = {\n",
    "    y:pick_the_set for y in cols\n",
    "}\n",
    "selector['family'] = lambda x: x[0]\n",
    "\n",
    "df_level_species = df_level_species.groupby(level).agg(selector)\n",
    "\n",
    "\n",
    "df = df_level_species#[cols]\n",
    "\n",
    "df.reset_index(inplace=True)\n"
   ]
  },
  {
   "cell_type": "code",
   "execution_count": 26,
   "metadata": {},
   "outputs": [
    {
     "data": {
      "text/html": [
       "<div>\n",
       "<style scoped>\n",
       "    .dataframe tbody tr th:only-of-type {\n",
       "        vertical-align: middle;\n",
       "    }\n",
       "\n",
       "    .dataframe tbody tr th {\n",
       "        vertical-align: top;\n",
       "    }\n",
       "\n",
       "    .dataframe thead th {\n",
       "        text-align: right;\n",
       "    }\n",
       "</style>\n",
       "<table border=\"1\" class=\"dataframe\">\n",
       "  <thead>\n",
       "    <tr style=\"text-align: right;\">\n",
       "      <th></th>\n",
       "      <th>Clade</th>\n",
       "      <th>ath_homologues</th>\n",
       "      <th>stu_homologues</th>\n",
       "      <th>sly_homologues</th>\n",
       "      <th>osa_homologues</th>\n",
       "      <th>family</th>\n",
       "    </tr>\n",
       "  </thead>\n",
       "  <tbody>\n",
       "    <tr>\n",
       "      <th>146</th>\n",
       "      <td>NADPH-oxidase</td>\n",
       "      <td>AT5G47910</td>\n",
       "      <td></td>\n",
       "      <td></td>\n",
       "      <td></td>\n",
       "      <td>NADPH-oxidase</td>\n",
       "    </tr>\n",
       "  </tbody>\n",
       "</table>\n",
       "</div>"
      ],
      "text/plain": [
       "             Clade ath_homologues stu_homologues sly_homologues  \\\n",
       "146  NADPH-oxidase      AT5G47910                                 \n",
       "\n",
       "    osa_homologues         family  \n",
       "146                 NADPH-oxidase  "
      ]
     },
     "execution_count": 26,
     "metadata": {},
     "output_type": "execute_result"
    }
   ],
   "source": [
    "df[df['Clade'] =='NADPH-oxidase']"
   ]
  },
  {
   "cell_type": "code",
   "execution_count": null,
   "metadata": {},
   "outputs": [],
   "source": [
    "    "
   ]
  },
  {
   "cell_type": "code",
   "execution_count": null,
   "metadata": {},
   "outputs": [],
   "source": []
  },
  {
   "cell_type": "code",
   "execution_count": null,
   "metadata": {},
   "outputs": [],
   "source": [
    "file_name = parsed_path / \"level_translation.tsv\"\n",
    "translate_df.to_csv(file_name, sep=\"\\t\")"
   ]
  },
  {
   "cell_type": "code",
   "execution_count": null,
   "metadata": {},
   "outputs": [],
   "source": []
  },
  {
   "cell_type": "code",
   "execution_count": null,
   "metadata": {},
   "outputs": [],
   "source": [
    "dfs = []\n",
    "for col_name, level in [('NodeName', 'node'), ('Clade', 'clade'), ('Family', 'family')]:\n",
    "    print(col_name)\n",
    "    df = get_species_homologues(col_name, use=False)\n",
    "\n",
    "    df.rename(columns={col_name:'name'}, inplace=True)\n",
    "    df['level'] = level\n",
    "    df.set_index(['name', 'level'], inplace=True)\n",
    "    dfs.append(df)"
   ]
  },
  {
   "cell_type": "code",
   "execution_count": null,
   "metadata": {},
   "outputs": [],
   "source": [
    "translate_df = pd.concat(dfs)\n",
    "translate_df = translate_df.sort_index()\n",
    "translate_df.head()"
   ]
  },
  {
   "cell_type": "code",
   "execution_count": null,
   "metadata": {},
   "outputs": [],
   "source": [
    "file_name = parsed_path / \"level_not_use_translation.tsv\"\n",
    "translate_df.to_csv(file_name, sep=\"\\t\")"
   ]
  },
  {
   "cell_type": "markdown",
   "metadata": {},
   "source": [
    "# END "
   ]
  },
  {
   "cell_type": "code",
   "execution_count": null,
   "metadata": {},
   "outputs": [],
   "source": []
  }
 ],
 "metadata": {
  "kernelspec": {
   "display_name": "Python 3 (ipykernel)",
   "language": "python",
   "name": "python3"
  },
  "language_info": {
   "codemirror_mode": {
    "name": "ipython",
    "version": 3
   },
   "file_extension": ".py",
   "mimetype": "text/x-python",
   "name": "python",
   "nbconvert_exporter": "python",
   "pygments_lexer": "ipython3",
   "version": "3.8.1"
  }
 },
 "nbformat": 4,
 "nbformat_minor": 2
}
