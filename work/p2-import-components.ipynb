{
 "cells": [
  {
   "cell_type": "code",
   "execution_count": null,
   "metadata": {},
   "outputs": [],
   "source": [
    "from IPython.core.display import display, HTML\n",
    "display(HTML(\"<style>.container { width:80% !important; }</style>\"))"
   ]
  },
  {
   "cell_type": "markdown",
   "metadata": {},
   "source": [
    "# Import neo4j DB: 2/4\n",
    "\n",
    "Code to translate v2.7.4_PIS-model.xlsx to neo4j database. "
   ]
  },
  {
   "cell_type": "markdown",
   "metadata": {},
   "source": [
    "## Setup"
   ]
  },
  {
   "cell_type": "code",
   "execution_count": null,
   "metadata": {},
   "outputs": [],
   "source": [
    "import pandas as pd\n",
    "import re\n",
    "import numpy as np\n",
    "import os\n",
    "from IPython.display import Image, display"
   ]
  },
  {
   "cell_type": "code",
   "execution_count": null,
   "metadata": {},
   "outputs": [],
   "source": [
    "from py2neo import Graph, Node, Relationship"
   ]
  },
  {
   "cell_type": "code",
   "execution_count": null,
   "metadata": {},
   "outputs": [],
   "source": [
    "import helpers"
   ]
  },
  {
   "cell_type": "code",
   "execution_count": null,
   "metadata": {},
   "outputs": [],
   "source": [
    "from importlib import reload"
   ]
  },
  {
   "cell_type": "markdown",
   "metadata": {},
   "source": [
    "Connect to graph via docker-compose link. See http://localhost:7474/browser/"
   ]
  },
  {
   "cell_type": "code",
   "execution_count": null,
   "metadata": {},
   "outputs": [],
   "source": [
    "graph = Graph(host=\"neo4j\")"
   ]
  },
  {
   "cell_type": "code",
   "execution_count": null,
   "metadata": {},
   "outputs": [],
   "source": [
    "q = graph.run(\"MATCH (n) RETURN n LIMIT 10\")"
   ]
  },
  {
   "cell_type": "code",
   "execution_count": null,
   "metadata": {},
   "outputs": [],
   "source": [
    "q.stats()"
   ]
  },
  {
   "cell_type": "code",
   "execution_count": null,
   "metadata": {},
   "outputs": [],
   "source": [
    "node_labels = helpers.node_labels"
   ]
  },
  {
   "cell_type": "code",
   "execution_count": null,
   "metadata": {},
   "outputs": [],
   "source": [
    "from pathlib import Path\n",
    "\n",
    "base_path = Path(\"..\")\n",
    "parsed_path = base_path / \"data\" / \"parsed\""
   ]
  },
  {
   "cell_type": "code",
   "execution_count": null,
   "metadata": {},
   "outputs": [],
   "source": [
    "# start from scratch\n",
    "graph.delete_all()\n",
    "\n",
    "for l in node_labels:\n",
    "    try:\n",
    "        graph.schema.drop_uniqueness_constraint(l, \"name\")\n",
    "    except:\n",
    "        pass    "
   ]
  },
  {
   "cell_type": "markdown",
   "metadata": {},
   "source": [
    "## Constraints on node names\n",
    "\n",
    "Constraint automatically adds an index. "
   ]
  },
  {
   "cell_type": "code",
   "execution_count": null,
   "metadata": {},
   "outputs": [],
   "source": [
    "for label in node_labels:\n",
    "    q = f'''CREATE CONSTRAINT unique_name_{label.lower()}\n",
    "        ON (node:{label}) ASSERT node.name IS UNIQUE'''\n",
    "    try: \n",
    "        qr = graph.run(q)\n",
    "        print(label, qr.stats()['constraints_added'])\n",
    "    except Exception as e:\n",
    "        print(e)"
   ]
  },
  {
   "cell_type": "markdown",
   "metadata": {},
   "source": [
    "## Read in"
   ]
  },
  {
   "cell_type": "code",
   "execution_count": null,
   "metadata": {},
   "outputs": [],
   "source": [
    "path =  parsed_path / \"components.tsv\"\n",
    "df_components = pd.read_csv(path, sep=\"\\t\")"
   ]
  },
  {
   "cell_type": "markdown",
   "metadata": {},
   "source": [
    "## metabolites"
   ]
  },
  {
   "cell_type": "code",
   "execution_count": null,
   "metadata": {},
   "outputs": [],
   "source": [
    "label = 'Metabolite'\n",
    "df_metabolites = df_components[df_components['NodeLabel'] == label].copy()"
   ]
  },
  {
   "cell_type": "code",
   "execution_count": null,
   "metadata": {},
   "outputs": [],
   "source": [
    "df_metabolites.columns"
   ]
  },
  {
   "cell_type": "code",
   "execution_count": null,
   "metadata": {},
   "outputs": [],
   "source": [
    "df_metabolites[df_metabolites['NodeName'].duplicated()]"
   ]
  },
  {
   "cell_type": "code",
   "execution_count": null,
   "metadata": {},
   "outputs": [],
   "source": [
    "want_columns = ['AddedBy', 'Family', 'NodeName', \n",
    "                'external_links', 'NodeDescription', 'AdditionalInfo', \n",
    "                'Process', 'ModelV', 'ModelStatus',                 \n",
    "               ]"
   ]
  },
  {
   "cell_type": "code",
   "execution_count": null,
   "metadata": {},
   "outputs": [],
   "source": [
    "f = '%s-components.tsv'%label\n",
    "df_metabolites[want_columns].to_csv(\"../data/import/\" + f, sep=\"\\t\", index=None)"
   ]
  },
  {
   "cell_type": "code",
   "execution_count": null,
   "metadata": {},
   "outputs": [],
   "source": [
    "q = helpers.metabolite_node_query(f, label, \n",
    "                     n_name=\"line.NodeName\"\n",
    "                    )"
   ]
  },
  {
   "cell_type": "code",
   "execution_count": null,
   "metadata": {},
   "outputs": [],
   "source": [
    "print(q)"
   ]
  },
  {
   "cell_type": "code",
   "execution_count": null,
   "metadata": {},
   "outputs": [],
   "source": [
    "qr = graph.run(q)\n",
    "if not df_metabolites.shape[0] == qr.stats()['nodes_created']:\n",
    "    raise Exception"
   ]
  },
  {
   "cell_type": "code",
   "execution_count": null,
   "metadata": {},
   "outputs": [],
   "source": [
    "df_metabolites[df_metabolites['Clade'] != df_metabolites['NodeID']]"
   ]
  },
  {
   "cell_type": "code",
   "execution_count": null,
   "metadata": {},
   "outputs": [],
   "source": [
    "label = \"MetaboliteFamily\""
   ]
  },
  {
   "cell_type": "code",
   "execution_count": null,
   "metadata": {},
   "outputs": [],
   "source": [
    "df_metabolites_has_family = df_metabolites[df_metabolites['Family'] != df_metabolites['NodeID']]"
   ]
  },
  {
   "cell_type": "code",
   "execution_count": null,
   "metadata": {},
   "outputs": [],
   "source": [
    "want_columns = ['AddedBy', 'Family',\n",
    "                'external_links', 'NodeDescription', 'AdditionalInfo', \n",
    "                'Process', 'ModelV', 'ModelStatus']"
   ]
  },
  {
   "cell_type": "code",
   "execution_count": null,
   "metadata": {},
   "outputs": [],
   "source": [
    "df_metabolites_family = df_metabolites_has_family.fillna('').groupby('Family').agg({\n",
    "                                                                  'Family':lambda x:list(x)[0],\n",
    "                                                                  'AddedBy':lambda x:list(x)[0], \n",
    "                                                                  'NodeDescription':lambda x: ','.join(x), \n",
    "                                                                  'external_links':lambda x: ','.join([s for s in x if not s=='']), \n",
    "                                                                  'AdditionalInfo':lambda x: helpers.list_to_string(x), \n",
    "                                                                  'Process':lambda x:list(x)[0], \n",
    "                                                                  'ModelV':helpers.get_latest_model, \n",
    "                                                                  'ModelStatus':helpers.get_model_status})"
   ]
  },
  {
   "cell_type": "code",
   "execution_count": null,
   "metadata": {},
   "outputs": [],
   "source": [
    "df_metabolites_family"
   ]
  },
  {
   "cell_type": "code",
   "execution_count": null,
   "metadata": {},
   "outputs": [],
   "source": [
    "f = '%s-components.tsv'%label\n",
    "df_metabolites_family.to_csv(\"../data/import/\" + f, sep=\"\\t\", index=None)"
   ]
  },
  {
   "cell_type": "code",
   "execution_count": null,
   "metadata": {},
   "outputs": [],
   "source": [
    "q = helpers.metabolite_node_query(f, label, \n",
    "                     n_name=\"line.Family\"\n",
    "                    )"
   ]
  },
  {
   "cell_type": "code",
   "execution_count": null,
   "metadata": {},
   "outputs": [],
   "source": [
    "print(q)"
   ]
  },
  {
   "cell_type": "code",
   "execution_count": null,
   "metadata": {},
   "outputs": [],
   "source": [
    "qr = graph.run(q)\n",
    "if not df_metabolites_family.shape[0] == qr.stats()['nodes_created']:\n",
    "    raise Exception "
   ]
  },
  {
   "cell_type": "code",
   "execution_count": null,
   "metadata": {},
   "outputs": [],
   "source": [
    "# Metabolite to MetaboliteFamily edges\n",
    "edge_type = 'TYPE_OF'\n",
    "f = '%s-edges.tsv'%edge_type\n",
    "df_metabolites_has_family[want_columns + [\"NodeName\"]].to_csv(\"../data/import/\" + f, sep=\"\\t\", index=None)"
   ]
  },
  {
   "cell_type": "code",
   "execution_count": null,
   "metadata": {},
   "outputs": [],
   "source": [
    "q = helpers.make_create_type_of_edge_query(f, edge_type, \n",
    "                           source_label=\"Metabolite\", target_label=\"MetaboliteFamily\",\n",
    "                           source_name=\"line.NodeName\", target_name=\"line.Family\")"
   ]
  },
  {
   "cell_type": "code",
   "execution_count": null,
   "metadata": {},
   "outputs": [],
   "source": [
    "print(q)"
   ]
  },
  {
   "cell_type": "code",
   "execution_count": null,
   "metadata": {},
   "outputs": [],
   "source": [
    "qr = graph.run(q)\n",
    "if not df_metabolites_has_family.shape[0] == qr.stats()['relationships_created']:\n",
    "    raise Exception"
   ]
  },
  {
   "cell_type": "markdown",
   "metadata": {},
   "source": [
    "## Pathogens (Foreign)"
   ]
  },
  {
   "cell_type": "code",
   "execution_count": null,
   "metadata": {},
   "outputs": [],
   "source": [
    "df_external = df_components[df_components[\"NodeLabel\"].isin(helpers.foreign_node_labels)].copy()"
   ]
  },
  {
   "cell_type": "code",
   "execution_count": null,
   "metadata": {},
   "outputs": [],
   "source": [
    "df_external.columns"
   ]
  },
  {
   "cell_type": "code",
   "execution_count": null,
   "metadata": {},
   "outputs": [],
   "source": [
    "# Species --> '-'\n",
    "# Family --> 'biological classification'\n",
    "# Clade --> 'species'\n",
    "df_external.columns = ['identifier', 'AddedBy', '-', 'NodeLabel', 'NodeType', \n",
    "                       'classification', 'species', 'NodeID', 'NodeName', \n",
    "                       'external_links', 'NodeDescription', 'AdditionalInfo', \n",
    "                       'Process', 'ModelV', 'ModelStatus', \n",
    "                       'gmm_ocd', 'GMM_Description', 'GMM_ShortName', 'GMM_Synonyms']"
   ]
  },
  {
   "cell_type": "code",
   "execution_count": null,
   "metadata": {},
   "outputs": [],
   "source": [
    "#manualfix\n",
    "df_external.loc[df_external['species']=='oomycete', 'classification'] = 'oomycete'"
   ]
  },
  {
   "cell_type": "code",
   "execution_count": null,
   "metadata": {},
   "outputs": [],
   "source": [
    "df_external.head()"
   ]
  },
  {
   "cell_type": "code",
   "execution_count": null,
   "metadata": {},
   "outputs": [],
   "source": [
    "want_columns = ['AddedBy',  \n",
    "                'classification', 'species', 'NodeName', \n",
    "                'external_links', 'NodeDescription', 'AdditionalInfo', \n",
    "                'Process', 'ModelV', 'ModelStatus']"
   ]
  },
  {
   "cell_type": "code",
   "execution_count": null,
   "metadata": {},
   "outputs": [],
   "source": [
    "df_external[['NodeType', 'classification', 'species', 'NodeName']]"
   ]
  },
  {
   "cell_type": "code",
   "execution_count": null,
   "metadata": {},
   "outputs": [],
   "source": [
    "for label, subdf in df_external.groupby('NodeLabel'):\n",
    "    print(label, end='\\t')\n",
    "    f = '%s-components.tsv'%label\n",
    "    subdf[want_columns].to_csv(\"../data/import/\" + f, sep=\"\\t\", index=None)\n",
    "    \n",
    "    q = helpers.foreign_node_query(f, label, \n",
    "                     n_name=\"line.NodeName\"\n",
    "                    )\n",
    "    print(q)\n",
    "    qr = graph.run(q)\n",
    "    if not subdf.shape[0] == qr.stats()['nodes_created']:\n",
    "        raise Exception"
   ]
  },
  {
   "cell_type": "code",
   "execution_count": null,
   "metadata": {},
   "outputs": [],
   "source": [
    "external_entities = df_external.groupby('species').agg({\n",
    "                                                      'classification':lambda x:list(x)[0],\n",
    "                                                      'AddedBy':lambda x:list(x)[0], \n",
    "                                                      #'NodeDescription':lambda x: ', '.join(x), \n",
    "                                                      #'AdditionalInfo':lambda x: helpers.list_to_string(x), \n",
    "                                                      'Process':lambda x:list(x)[0], \n",
    "                                                      'ModelV':helpers.get_latest_model, \n",
    "                                                      #'ModelStatus':helpers.get_model_status\n",
    "                                                }).reset_index()"
   ]
  },
  {
   "cell_type": "code",
   "execution_count": null,
   "metadata": {},
   "outputs": [],
   "source": [
    "external_entities.columns"
   ]
  },
  {
   "cell_type": "code",
   "execution_count": null,
   "metadata": {},
   "outputs": [],
   "source": [
    "label = 'ForeignEntity'\n",
    "want_columns = ['species', 'classification', 'AddedBy', 'Process', 'ModelV']\n",
    "f = '%s-components.tsv'%label\n",
    "external_entities[want_columns].to_csv(\"../data/import/\" + f, sep=\"\\t\", index=None)"
   ]
  },
  {
   "cell_type": "code",
   "execution_count": null,
   "metadata": {},
   "outputs": [],
   "source": [
    "q = helpers.foreign_node_query(f, label, \n",
    "                     n_name=\"line.species\", \n",
    "                    )\n",
    "print(q)"
   ]
  },
  {
   "cell_type": "code",
   "execution_count": null,
   "metadata": {},
   "outputs": [],
   "source": [
    "qr = graph.run(q)\n",
    "if not external_entities.shape[0] == qr.stats()['nodes_created']:\n",
    "    raise Exception"
   ]
  },
  {
   "cell_type": "code",
   "execution_count": null,
   "metadata": {},
   "outputs": [],
   "source": [
    "# ExternalXXX to external_entities edges\n",
    "want_columns = ['AddedBy', 'NodeName', 'species', 'ModelV']\n",
    "edge_type = 'AGENT_OF'\n",
    "f = '%s-edges.tsv'%edge_type\n",
    "df_external[want_columns].to_csv(\"../data/import/\" + f, sep=\"\\t\", index=None)"
   ]
  },
  {
   "cell_type": "code",
   "execution_count": null,
   "metadata": {},
   "outputs": [],
   "source": [
    "q = helpers.make_create_type_of_edge_query(f, edge_type, \n",
    "                           source_label=\"\", target_label=\"ForeignEntity\",\n",
    "                           source_name=\"line.NodeName\", target_name=\"line.species\")\n",
    "print(q)"
   ]
  },
  {
   "cell_type": "code",
   "execution_count": null,
   "metadata": {},
   "outputs": [],
   "source": [
    "qr = graph.run(q)\n",
    "if not df_external.shape[0] == qr.stats()['relationships_created']:\n",
    "    raise Exception"
   ]
  },
  {
   "cell_type": "markdown",
   "metadata": {},
   "source": [
    "## Process"
   ]
  },
  {
   "cell_type": "code",
   "execution_count": null,
   "metadata": {},
   "outputs": [],
   "source": [
    "df_process = df_components[df_components['NodeLabel'].isin(['Process'\n",
    "                                                                ])].copy()"
   ]
  },
  {
   "cell_type": "code",
   "execution_count": null,
   "metadata": {},
   "outputs": [],
   "source": [
    "df_process.head()"
   ]
  },
  {
   "cell_type": "code",
   "execution_count": null,
   "metadata": {},
   "outputs": [],
   "source": [
    "want_columns = ['AddedBy', 'NodeLabel',  \n",
    "        'NodeName', 'external_links', 'NodeDescription',\n",
    "       'AdditionalInfo', 'Process', 'ModelV', 'ModelStatus']\n"
   ]
  },
  {
   "cell_type": "code",
   "execution_count": null,
   "metadata": {},
   "outputs": [],
   "source": [
    "label = \"Process\"\n",
    "f = \"%s-components.tsv\"%label\n",
    "df_process[want_columns].to_csv(\"../data/import/\" + f, sep=\"\\t\", index=None)"
   ]
  },
  {
   "cell_type": "code",
   "execution_count": null,
   "metadata": {},
   "outputs": [],
   "source": [
    "q = helpers.process_node_query(f, label, \n",
    "                     n_name=\"line.NodeName\", \n",
    "                    )\n",
    "print(q)"
   ]
  },
  {
   "cell_type": "code",
   "execution_count": null,
   "metadata": {},
   "outputs": [],
   "source": [
    "qr = graph.run(q)\n",
    "if not df_process.shape[0] == qr.stats()['nodes_created']:\n",
    "    raise Exception"
   ]
  },
  {
   "cell_type": "markdown",
   "metadata": {},
   "source": [
    "## Complexes"
   ]
  },
  {
   "cell_type": "code",
   "execution_count": null,
   "metadata": {},
   "outputs": [],
   "source": [
    "label = 'Complex'\n",
    "df_complex = df_components[df_components['NodeLabel'] == label].copy()"
   ]
  },
  {
   "cell_type": "code",
   "execution_count": null,
   "metadata": {},
   "outputs": [],
   "source": [
    "df_complex"
   ]
  },
  {
   "cell_type": "code",
   "execution_count": null,
   "metadata": {},
   "outputs": [],
   "source": [
    "# save node types \n",
    "print(label, \"\\t\", df_complex.shape[0])\n",
    "df_complex.to_csv(f\"../data/import/{label}-components.tsv\", sep=\"\\t\", index=None)"
   ]
  },
  {
   "cell_type": "code",
   "execution_count": null,
   "metadata": {},
   "outputs": [],
   "source": [
    "query = helpers.bioelement_node_query(f\"{label}-components.tsv\", label, n_name=\"line.Family\")\n",
    "qr = graph.run(query)\n",
    "print(label, \"\\t\", qr.stats()['nodes_created'])"
   ]
  },
  {
   "cell_type": "markdown",
   "metadata": {},
   "source": [
    "## Bio-elements\n",
    "\n",
    "these nodes have \"Family\", \"Clade\" (msa) and \"FunctionalCluster\"\n",
    "at this point only import Families"
   ]
  },
  {
   "cell_type": "code",
   "execution_count": null,
   "metadata": {},
   "outputs": [],
   "source": [
    "df_bioelements = df_components[df_components['NodeLabel'].isin(helpers.plant_node_labels)].copy()"
   ]
  },
  {
   "cell_type": "code",
   "execution_count": null,
   "metadata": {},
   "outputs": [],
   "source": [
    "df_bioelements[df_bioelements['NodeName'].duplicated(keep=False)].sort_values('NodeName')[['identifier', 'species', 'Family', 'Clade', 'NodeID', 'NodeName']]"
   ]
  },
  {
   "cell_type": "code",
   "execution_count": null,
   "metadata": {},
   "outputs": [],
   "source": [
    "pd.value_counts(df_bioelements['NodeLabel'])"
   ]
  },
  {
   "cell_type": "code",
   "execution_count": null,
   "metadata": {},
   "outputs": [],
   "source": [
    "all_species_listed = list(df_bioelements['species'].unique()); all_species_listed\n",
    "all_species = all_species_listed.copy()\n",
    "all_species"
   ]
  },
  {
   "cell_type": "code",
   "execution_count": null,
   "metadata": {},
   "outputs": [],
   "source": [
    "def pick_the_set(x):\n",
    "    for v in x:\n",
    "        if type(v) == set:\n",
    "            return \",\".join(list(v))\n",
    "    return ''\n",
    "\n",
    "def str_lists_to_one_list(x):\n",
    "    l = []\n",
    "    for sub in x:\n",
    "        l += sub.split(',')\n",
    "    l = [s.strip() for s in l if not s=='']\n",
    "    \n",
    "    return ','.join(list(set(l)))\n",
    "\n",
    "def get_species_homologues(level, meta=False, use=False):\n",
    "    \n",
    "    if use:\n",
    "        df = df_bioelements[df_bioelements['ModelStatus'] == 'use'].copy()\n",
    "    else:\n",
    "        df = df_bioelements.copy()\n",
    "\n",
    "    df['family'] = df['Family']\n",
    "    \n",
    "    df_level_species  = df.groupby([level, 'species']).agg({\n",
    "      'NodeID':lambda x: set(x), \n",
    "      'family':lambda x: set(x).pop(), \n",
    "    })\n",
    "       \n",
    "    df_level_species.reset_index(1, inplace=True)\n",
    "\n",
    "    cols = []\n",
    "    for specie in all_species:\n",
    "        col = specie + '_homologues'\n",
    "        cols.append(col)\n",
    "        df_level_species.loc[df_level_species['species'] == specie, col] =\\\n",
    "                 df_level_species[df_level_species['species'] == specie]['NodeID']\n",
    "    \n",
    "    selector = {\n",
    "        y:pick_the_set for y in cols\n",
    "    }\n",
    "    selector['family'] = lambda x: x[0]\n",
    "        \n",
    "    df_level_species = df_level_species.groupby(level).agg(selector)\n",
    "    \n",
    "    if meta:\n",
    "        df_level = df.fillna('').groupby(level).agg({\n",
    "              'AddedBy':lambda x:list(x)[0], \n",
    "              'NodeLabel':lambda x:list(x)[0], \n",
    "              'NodeDescription':lambda x: ', '.join(list(set(x))), \n",
    "              'AdditionalInfo':lambda x: helpers.list_to_string(x), \n",
    "              'Process':lambda x:list(x)[0], \n",
    "              'ModelV':helpers.get_latest_model, \n",
    "              'species':lambda x: ','.join(list(set(x))),\n",
    "              'ModelStatus':helpers.get_model_status,\n",
    "              'external_links':str_lists_to_one_list, \n",
    "              'gmm_ocd':str_lists_to_one_list,\n",
    "              'GMM_Description':str_lists_to_one_list,\n",
    "              'GMM_ShortName':str_lists_to_one_list,\n",
    "              'synonyms':str_lists_to_one_list,\n",
    "        })    \n",
    "\n",
    "        df = df_level.join(df_level_species[cols])\n",
    "    else:\n",
    "        df = df_level_species#[cols]\n",
    "    \n",
    "    df.reset_index(inplace=True)\n",
    "    return df"
   ]
  },
  {
   "cell_type": "code",
   "execution_count": null,
   "metadata": {},
   "outputs": [],
   "source": [
    "df_families = get_species_homologues(\"Family\", meta=True)"
   ]
  },
  {
   "cell_type": "code",
   "execution_count": null,
   "metadata": {},
   "outputs": [],
   "source": [
    "# save node types \n",
    "family_node_labels = []\n",
    "for t, subdf in df_families.groupby(\"NodeLabel\"):\n",
    "    print(t, \"\\t\", subdf.shape[0])\n",
    "    subdf.to_csv(\"../data/import/%s-components.tsv\"%t, sep=\"\\t\", index=None)\n",
    "    family_node_labels.append(t)"
   ]
  },
  {
   "cell_type": "code",
   "execution_count": null,
   "metadata": {},
   "outputs": [],
   "source": [
    "for t in family_node_labels:\n",
    "    labels = [t, 'Family', 'Plant']\n",
    "    query = helpers.bioelement_node_query(\"%s-components.tsv\"%t, labels, n_name=\"line.Family\")\n",
    "    #query = f\"MATCH (n:{t}) DELETE n\"\n",
    "    #print(query)\n",
    "    qr = graph.run(query)\n",
    "    print(t, \"\\t\", qr.stats()['nodes_created'])"
   ]
  },
  {
   "cell_type": "markdown",
   "metadata": {},
   "source": [
    "## save files"
   ]
  },
  {
   "cell_type": "code",
   "execution_count": null,
   "metadata": {},
   "outputs": [],
   "source": [
    "file_name = parsed_path / \"bio_elements.tsv\"\n",
    "df_bioelements.to_csv(file_name, sep=\"\\t\", index=False)"
   ]
  },
  {
   "cell_type": "code",
   "execution_count": null,
   "metadata": {},
   "outputs": [],
   "source": [
    "dfs = []\n",
    "for col_name, level in [('NodeName', 'node'), ('Clade', 'clade'), ('Family', 'family')]:\n",
    "    print(col_name)\n",
    "    df = get_species_homologues(col_name, use=True)\n",
    "\n",
    "    df.rename(columns={col_name:'name'}, inplace=True)\n",
    "    df['level'] = level\n",
    "    df.set_index(['name', 'level'], inplace=True)\n",
    "    dfs.append(df)"
   ]
  },
  {
   "cell_type": "code",
   "execution_count": null,
   "metadata": {},
   "outputs": [],
   "source": [
    "translate_df = pd.concat(dfs)\n",
    "translate_df = translate_df.sort_index()\n",
    "translate_df.head()"
   ]
  },
  {
   "cell_type": "code",
   "execution_count": null,
   "metadata": {},
   "outputs": [],
   "source": [
    "file_name = parsed_path / \"level_translation.tsv\"\n",
    "translate_df.to_csv(file_name, sep=\"\\t\")"
   ]
  },
  {
   "cell_type": "code",
   "execution_count": null,
   "metadata": {},
   "outputs": [],
   "source": []
  },
  {
   "cell_type": "code",
   "execution_count": null,
   "metadata": {},
   "outputs": [],
   "source": [
    "dfs = []\n",
    "for col_name, level in [('NodeName', 'node'), ('Clade', 'clade'), ('Family', 'family')]:\n",
    "    print(col_name)\n",
    "    df = get_species_homologues(col_name, use=False)\n",
    "\n",
    "    df.rename(columns={col_name:'name'}, inplace=True)\n",
    "    df['level'] = level\n",
    "    df.set_index(['name', 'level'], inplace=True)\n",
    "    dfs.append(df)"
   ]
  },
  {
   "cell_type": "code",
   "execution_count": null,
   "metadata": {},
   "outputs": [],
   "source": [
    "translate_df = pd.concat(dfs)\n",
    "translate_df = translate_df.sort_index()\n",
    "translate_df.head()"
   ]
  },
  {
   "cell_type": "code",
   "execution_count": null,
   "metadata": {},
   "outputs": [],
   "source": [
    "file_name = parsed_path / \"level_not_use_translation.tsv\"\n",
    "translate_df.to_csv(file_name, sep=\"\\t\")"
   ]
  },
  {
   "cell_type": "markdown",
   "metadata": {},
   "source": [
    "# END "
   ]
  },
  {
   "cell_type": "code",
   "execution_count": null,
   "metadata": {},
   "outputs": [],
   "source": []
  }
 ],
 "metadata": {
  "kernelspec": {
   "display_name": "Python 3",
   "language": "python",
   "name": "python3"
  },
  "language_info": {
   "codemirror_mode": {
    "name": "ipython",
    "version": 3
   },
   "file_extension": ".py",
   "mimetype": "text/x-python",
   "name": "python",
   "nbconvert_exporter": "python",
   "pygments_lexer": "ipython3",
   "version": "3.9.2"
  }
 },
 "nbformat": 4,
 "nbformat_minor": 2
}
