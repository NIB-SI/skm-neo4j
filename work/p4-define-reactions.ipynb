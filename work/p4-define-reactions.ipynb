{
 "cells": [
  {
   "cell_type": "code",
   "execution_count": 1,
   "metadata": {},
   "outputs": [
    {
     "data": {
      "text/html": [
       "<style>.container { width:80% !important; }</style>"
      ],
      "text/plain": [
       "<IPython.core.display.HTML object>"
      ]
     },
     "metadata": {},
     "output_type": "display_data"
    }
   ],
   "source": [
    "from IPython.core.display import display, HTML\n",
    "display(HTML(\"<style>.container { width:80% !important; }</style>\"))"
   ]
  },
  {
   "cell_type": "markdown",
   "metadata": {},
   "source": [
    "# Import neo4j DB: 3/4\n",
    "\n",
    "Code to translate v2.7.4_PIS-model.xlsx to neo4j database. "
   ]
  },
  {
   "cell_type": "markdown",
   "metadata": {},
   "source": [
    "## Setup"
   ]
  },
  {
   "cell_type": "code",
   "execution_count": 2,
   "metadata": {},
   "outputs": [],
   "source": [
    "import pandas as pd\n",
    "import re\n",
    "import numpy as np\n",
    "import os\n",
    "from IPython.display import Image\n",
    "\n",
    "from collections import defaultdict"
   ]
  },
  {
   "cell_type": "code",
   "execution_count": 3,
   "metadata": {},
   "outputs": [],
   "source": [
    "import helpers"
   ]
  },
  {
   "cell_type": "code",
   "execution_count": 4,
   "metadata": {},
   "outputs": [],
   "source": [
    "from importlib import reload"
   ]
  },
  {
   "cell_type": "code",
   "execution_count": 5,
   "metadata": {},
   "outputs": [],
   "source": [
    "from pathlib import Path\n",
    "\n",
    "base_path = Path(\"..\")\n",
    "input_path = base_path / \"data\" / \"raw\"\n",
    "output_path = base_path / \"data\" / \"parsed\""
   ]
  },
  {
   "cell_type": "markdown",
   "metadata": {},
   "source": [
    "Connect to graph via docker-compose link. See http://localhost:7474/browser/"
   ]
  },
  {
   "cell_type": "code",
   "execution_count": 6,
   "metadata": {},
   "outputs": [],
   "source": [
    "from py2neo import Graph, Node, Relationship"
   ]
  },
  {
   "cell_type": "code",
   "execution_count": 7,
   "metadata": {},
   "outputs": [],
   "source": [
    "graph = Graph(host=\"neo4j\")"
   ]
  },
  {
   "cell_type": "markdown",
   "metadata": {},
   "source": [
    "## Read in Bio elements\n",
    "bioelements = PlantCoding/PlantNonCoding/PlantAbstract\n",
    "\n",
    "have family hierachy"
   ]
  },
  {
   "cell_type": "code",
   "execution_count": 8,
   "metadata": {},
   "outputs": [
    {
     "data": {
      "text/html": [
       "<div>\n",
       "<style scoped>\n",
       "    .dataframe tbody tr th:only-of-type {\n",
       "        vertical-align: middle;\n",
       "    }\n",
       "\n",
       "    .dataframe tbody tr th {\n",
       "        vertical-align: top;\n",
       "    }\n",
       "\n",
       "    .dataframe thead th {\n",
       "        text-align: right;\n",
       "    }\n",
       "</style>\n",
       "<table border=\"1\" class=\"dataframe\">\n",
       "  <thead>\n",
       "    <tr style=\"text-align: right;\">\n",
       "      <th></th>\n",
       "      <th>identifier</th>\n",
       "      <th>AddedBy</th>\n",
       "      <th>species</th>\n",
       "      <th>NodeLabel</th>\n",
       "      <th>NodeType</th>\n",
       "      <th>Family</th>\n",
       "      <th>Clade</th>\n",
       "      <th>NodeID</th>\n",
       "      <th>NodeName</th>\n",
       "      <th>external_links</th>\n",
       "      <th>NodeDescription</th>\n",
       "      <th>AdditionalInfo</th>\n",
       "      <th>Process</th>\n",
       "      <th>ModelV</th>\n",
       "      <th>ModelStatus</th>\n",
       "      <th>gmm_ocd</th>\n",
       "      <th>GMM_Description</th>\n",
       "      <th>GMM_ShortName</th>\n",
       "      <th>synonyms</th>\n",
       "    </tr>\n",
       "  </thead>\n",
       "  <tbody>\n",
       "    <tr>\n",
       "      <th>0</th>\n",
       "      <td>node0278</td>\n",
       "      <td>KG</td>\n",
       "      <td>ath</td>\n",
       "      <td>PlantAbstract</td>\n",
       "      <td>plant_abstract</td>\n",
       "      <td>BA2H</td>\n",
       "      <td>BA2H</td>\n",
       "      <td>BA2H</td>\n",
       "      <td>BA2H</td>\n",
       "      <td>NaN</td>\n",
       "      <td>BA2H</td>\n",
       "      <td>Benzoic acid 2-hydroxylase: Isolated from toba...</td>\n",
       "      <td>Hormone:SA</td>\n",
       "      <td>v1.0</td>\n",
       "      <td>ignore</td>\n",
       "      <td>NaN</td>\n",
       "      <td>NaN</td>\n",
       "      <td>NaN</td>\n",
       "      <td>NaN</td>\n",
       "    </tr>\n",
       "    <tr>\n",
       "      <th>1</th>\n",
       "      <td>node0255</td>\n",
       "      <td>KG</td>\n",
       "      <td>ath</td>\n",
       "      <td>PlantAbstract</td>\n",
       "      <td>plant_abstract</td>\n",
       "      <td>IPL</td>\n",
       "      <td>IPL</td>\n",
       "      <td>IPL</td>\n",
       "      <td>IPL</td>\n",
       "      <td>NaN</td>\n",
       "      <td>Arabidopsis contains two ICS genes but has no ...</td>\n",
       "      <td>NaN</td>\n",
       "      <td>Hormone:SA</td>\n",
       "      <td>v1.0</td>\n",
       "      <td>ignore</td>\n",
       "      <td>NaN</td>\n",
       "      <td>NaN</td>\n",
       "      <td>NaN</td>\n",
       "      <td>NaN</td>\n",
       "    </tr>\n",
       "    <tr>\n",
       "      <th>2</th>\n",
       "      <td>node0695</td>\n",
       "      <td>KG</td>\n",
       "      <td>ath</td>\n",
       "      <td>PlantAbstract</td>\n",
       "      <td>plant_abstract</td>\n",
       "      <td>R-gene</td>\n",
       "      <td>GPAphid2</td>\n",
       "      <td>GPAphid2</td>\n",
       "      <td>GPAphid2</td>\n",
       "      <td>invented:unidentified</td>\n",
       "      <td>green peach aphid 2; resistance against PVX (stu)</td>\n",
       "      <td>NaN</td>\n",
       "      <td>S:Rgenes</td>\n",
       "      <td>v2.6</td>\n",
       "      <td>ignore</td>\n",
       "      <td>NaN</td>\n",
       "      <td>NaN</td>\n",
       "      <td>NaN</td>\n",
       "      <td>NaN</td>\n",
       "    </tr>\n",
       "    <tr>\n",
       "      <th>3</th>\n",
       "      <td>node0692</td>\n",
       "      <td>KG</td>\n",
       "      <td>ath</td>\n",
       "      <td>PlantAbstract</td>\n",
       "      <td>plant_abstract</td>\n",
       "      <td>R-gene</td>\n",
       "      <td>HRT</td>\n",
       "      <td>HRT</td>\n",
       "      <td>HRT</td>\n",
       "      <td>invented:unidentified</td>\n",
       "      <td>HR against TCV (ath)</td>\n",
       "      <td>NaN</td>\n",
       "      <td>S:Rgenes</td>\n",
       "      <td>v2.5</td>\n",
       "      <td>ignore</td>\n",
       "      <td>NaN</td>\n",
       "      <td>NaN</td>\n",
       "      <td>NaN</td>\n",
       "      <td>NaN</td>\n",
       "    </tr>\n",
       "    <tr>\n",
       "      <th>4</th>\n",
       "      <td>node0691</td>\n",
       "      <td>KG</td>\n",
       "      <td>ath</td>\n",
       "      <td>PlantAbstract</td>\n",
       "      <td>plant_abstract</td>\n",
       "      <td>R-gene</td>\n",
       "      <td>Ny</td>\n",
       "      <td>Ny</td>\n",
       "      <td>Ny</td>\n",
       "      <td>invented:unidentified</td>\n",
       "      <td>HR against PVY (stu)</td>\n",
       "      <td>NaN</td>\n",
       "      <td>S:Rgenes</td>\n",
       "      <td>v2.5</td>\n",
       "      <td>ignore</td>\n",
       "      <td>NaN</td>\n",
       "      <td>NaN</td>\n",
       "      <td>NaN</td>\n",
       "      <td>NaN</td>\n",
       "    </tr>\n",
       "  </tbody>\n",
       "</table>\n",
       "</div>"
      ],
      "text/plain": [
       "  identifier AddedBy species      NodeLabel        NodeType  Family     Clade  \\\n",
       "0   node0278      KG     ath  PlantAbstract  plant_abstract    BA2H      BA2H   \n",
       "1   node0255      KG     ath  PlantAbstract  plant_abstract     IPL       IPL   \n",
       "2   node0695      KG     ath  PlantAbstract  plant_abstract  R-gene  GPAphid2   \n",
       "3   node0692      KG     ath  PlantAbstract  plant_abstract  R-gene       HRT   \n",
       "4   node0691      KG     ath  PlantAbstract  plant_abstract  R-gene        Ny   \n",
       "\n",
       "     NodeID  NodeName         external_links  \\\n",
       "0      BA2H      BA2H                    NaN   \n",
       "1       IPL       IPL                    NaN   \n",
       "2  GPAphid2  GPAphid2  invented:unidentified   \n",
       "3       HRT       HRT  invented:unidentified   \n",
       "4        Ny        Ny  invented:unidentified   \n",
       "\n",
       "                                     NodeDescription  \\\n",
       "0                                               BA2H   \n",
       "1  Arabidopsis contains two ICS genes but has no ...   \n",
       "2  green peach aphid 2; resistance against PVX (stu)   \n",
       "3                               HR against TCV (ath)   \n",
       "4                               HR against PVY (stu)   \n",
       "\n",
       "                                      AdditionalInfo     Process ModelV  \\\n",
       "0  Benzoic acid 2-hydroxylase: Isolated from toba...  Hormone:SA   v1.0   \n",
       "1                                                NaN  Hormone:SA   v1.0   \n",
       "2                                                NaN    S:Rgenes   v2.6   \n",
       "3                                                NaN    S:Rgenes   v2.5   \n",
       "4                                                NaN    S:Rgenes   v2.5   \n",
       "\n",
       "  ModelStatus gmm_ocd GMM_Description GMM_ShortName synonyms  \n",
       "0      ignore     NaN             NaN           NaN      NaN  \n",
       "1      ignore     NaN             NaN           NaN      NaN  \n",
       "2      ignore     NaN             NaN           NaN      NaN  \n",
       "3      ignore     NaN             NaN           NaN      NaN  \n",
       "4      ignore     NaN             NaN           NaN      NaN  "
      ]
     },
     "execution_count": 8,
     "metadata": {},
     "output_type": "execute_result"
    }
   ],
   "source": [
    "file_name = output_path / \"bio_elements.tsv\"\n",
    "df_bioelements = pd.read_csv(file_name, sep=\"\\t\")\n",
    "df_bioelements.head()"
   ]
  },
  {
   "cell_type": "code",
   "execution_count": 9,
   "metadata": {},
   "outputs": [],
   "source": [
    "#df_bioelements[df_bioelements['NodeName'].duplicated(keep=False)].sort_values('NodeName')[['identifier', 'species', 'Family', 'Clade', 'NodeID', 'NodeName']]\n",
    "repeated_node_level = df_bioelements[df_bioelements['NodeName'].duplicated(keep='first')]['NodeName'].values"
   ]
  },
  {
   "cell_type": "code",
   "execution_count": 10,
   "metadata": {},
   "outputs": [
    {
     "data": {
      "text/plain": [
       "array(['CPS', 'CPS.x1', 'CPS.x2', 'RGA2', 'RGA2', 'GA20ox.x1',\n",
       "       'GA20ox.x2', 'GA20ox1', 'GA20ox1', 'GA20ox2', 'GA20ox2', 'GA20ox3',\n",
       "       'GA20ox3', 'GA20ox4', 'GA20ox4', 'GA3ox.x1', 'GA3ox.x2', 'GID1.x1',\n",
       "       'GID1.x2', 'GID1.x3', 'MYB33', 'MYB33-65.x2'], dtype=object)"
      ]
     },
     "execution_count": 10,
     "metadata": {},
     "output_type": "execute_result"
    }
   ],
   "source": [
    "repeated_node_level"
   ]
  },
  {
   "cell_type": "code",
   "execution_count": 11,
   "metadata": {},
   "outputs": [
    {
     "data": {
      "text/html": [
       "<div>\n",
       "<style scoped>\n",
       "    .dataframe tbody tr th:only-of-type {\n",
       "        vertical-align: middle;\n",
       "    }\n",
       "\n",
       "    .dataframe tbody tr th {\n",
       "        vertical-align: top;\n",
       "    }\n",
       "\n",
       "    .dataframe thead th {\n",
       "        text-align: right;\n",
       "    }\n",
       "</style>\n",
       "<table border=\"1\" class=\"dataframe\">\n",
       "  <thead>\n",
       "    <tr style=\"text-align: right;\">\n",
       "      <th></th>\n",
       "      <th></th>\n",
       "      <th>ath_homologues</th>\n",
       "      <th>stu_homologues</th>\n",
       "      <th>sly_homologues</th>\n",
       "      <th>osa_homologues</th>\n",
       "      <th>family</th>\n",
       "    </tr>\n",
       "    <tr>\n",
       "      <th>name</th>\n",
       "      <th>level</th>\n",
       "      <th></th>\n",
       "      <th></th>\n",
       "      <th></th>\n",
       "      <th></th>\n",
       "      <th></th>\n",
       "    </tr>\n",
       "  </thead>\n",
       "  <tbody>\n",
       "    <tr>\n",
       "      <th rowspan=\"2\" valign=\"top\">&amp;alpha;/&amp;beta; hydroxylase</th>\n",
       "      <th>clade</th>\n",
       "      <td>AT3G03990</td>\n",
       "      <td></td>\n",
       "      <td></td>\n",
       "      <td></td>\n",
       "      <td>&amp;alpha;/&amp;beta; hydroxylase</td>\n",
       "    </tr>\n",
       "    <tr>\n",
       "      <th>family</th>\n",
       "      <td>AT3G03990</td>\n",
       "      <td></td>\n",
       "      <td></td>\n",
       "      <td></td>\n",
       "      <td>&amp;alpha;/&amp;beta; hydroxylase</td>\n",
       "    </tr>\n",
       "    <tr>\n",
       "      <th rowspan=\"2\" valign=\"top\">&amp;beta;-carotene isomerase</th>\n",
       "      <th>clade</th>\n",
       "      <td></td>\n",
       "      <td></td>\n",
       "      <td></td>\n",
       "      <td>OS11G0587000</td>\n",
       "      <td>&amp;beta;-carotene isomerase</td>\n",
       "    </tr>\n",
       "    <tr>\n",
       "      <th>family</th>\n",
       "      <td></td>\n",
       "      <td></td>\n",
       "      <td></td>\n",
       "      <td>OS11G0587000</td>\n",
       "      <td>&amp;beta;-carotene isomerase</td>\n",
       "    </tr>\n",
       "    <tr>\n",
       "      <th>4CLL</th>\n",
       "      <th>clade</th>\n",
       "      <td>AT1G20510,AT1G20480,AT5G38120,AT1G20500</td>\n",
       "      <td></td>\n",
       "      <td></td>\n",
       "      <td></td>\n",
       "      <td>4CLL</td>\n",
       "    </tr>\n",
       "  </tbody>\n",
       "</table>\n",
       "</div>"
      ],
      "text/plain": [
       "                                                            ath_homologues  \\\n",
       "name                       level                                             \n",
       "&alpha;/&beta; hydroxylase clade                                 AT3G03990   \n",
       "                           family                                AT3G03990   \n",
       "&beta;-carotene isomerase  clade                                             \n",
       "                           family                                            \n",
       "4CLL                       clade   AT1G20510,AT1G20480,AT5G38120,AT1G20500   \n",
       "\n",
       "                                  stu_homologues sly_homologues  \\\n",
       "name                       level                                  \n",
       "&alpha;/&beta; hydroxylase clade                                  \n",
       "                           family                                 \n",
       "&beta;-carotene isomerase  clade                                  \n",
       "                           family                                 \n",
       "4CLL                       clade                                  \n",
       "\n",
       "                                  osa_homologues                      family  \n",
       "name                       level                                              \n",
       "&alpha;/&beta; hydroxylase clade                  &alpha;/&beta; hydroxylase  \n",
       "                           family                 &alpha;/&beta; hydroxylase  \n",
       "&beta;-carotene isomerase  clade    OS11G0587000   &beta;-carotene isomerase  \n",
       "                           family   OS11G0587000   &beta;-carotene isomerase  \n",
       "4CLL                       clade                                        4CLL  "
      ]
     },
     "execution_count": 11,
     "metadata": {},
     "output_type": "execute_result"
    }
   ],
   "source": [
    "file_name = output_path / \"level_translation.tsv\"\n",
    "translate_df = pd.read_csv(file_name, sep=\"\\t\", index_col=[0, 1])\n",
    "translate_df.fillna('', inplace=True)\n",
    "translate_df.head()"
   ]
  },
  {
   "cell_type": "code",
   "execution_count": null,
   "metadata": {},
   "outputs": [],
   "source": [
    "file_name = output_path / \"level_not_use_translation.tsv\"\n",
    "translate_ignore_etc_df = pd.read_csv(file_name, sep=\"\\t\", index_col=[0, 1])\n",
    "translate_ignore_etc_df.fillna('', inplace=True)\n",
    "translate_ignore_etc_df.head()"
   ]
  },
  {
   "cell_type": "markdown",
   "metadata": {},
   "source": [
    "## Read in parsed reactions"
   ]
  },
  {
   "cell_type": "code",
   "execution_count": null,
   "metadata": {},
   "outputs": [],
   "source": [
    "all_species = list(df_bioelements['species'].unique())\n",
    "try: all_species.remove('plant_all')\n",
    "except ValueError: pass\n",
    "try: all_species.remove('all')\n",
    "except ValueError: pass    \n",
    "all_species"
   ]
  },
  {
   "cell_type": "code",
   "execution_count": null,
   "metadata": {},
   "outputs": [],
   "source": [
    "df_edges = pd.read_csv(\"parsed_reactions.tsv\", sep=\"\\t\", index_col=0)\n",
    "df_edges.head()"
   ]
  },
  {
   "cell_type": "code",
   "execution_count": null,
   "metadata": {},
   "outputs": [],
   "source": [
    "len(df_edges['ConnID'].unique()) == df_edges.shape[0]"
   ]
  },
  {
   "cell_type": "code",
   "execution_count": null,
   "metadata": {},
   "outputs": [],
   "source": [
    "df_edges['species'].value_counts()"
   ]
  },
  {
   "cell_type": "code",
   "execution_count": null,
   "metadata": {},
   "outputs": [],
   "source": [
    "df_edges['reaction_id'] = df_edges.index.map(lambda x: f\"rx{x+1:05}\")\n",
    "df_edges['reaction_id'].head()"
   ]
  },
  {
   "cell_type": "code",
   "execution_count": null,
   "metadata": {},
   "outputs": [],
   "source": [
    "node_dict = {}\n",
    "for label in helpers.node_labels:\n",
    "    if label == \"Metabolite\":\n",
    "        q = '''MATCH (n:%s) WHERE NOT n:MetaboliteFamily RETURN DISTINCT n.name'''%label\n",
    "    else:\n",
    "        q = '''MATCH (n:%s) RETURN DISTINCT n.name'''%label\n",
    "    s = set([d['n.name'] for d in graph.run(q).data()])\n",
    "    print(label, len(s))\n",
    "    node_dict[label] = s"
   ]
  },
  {
   "cell_type": "code",
   "execution_count": null,
   "metadata": {},
   "outputs": [],
   "source": [
    "translate_df.head()"
   ]
  },
  {
   "cell_type": "code",
   "execution_count": null,
   "metadata": {},
   "outputs": [],
   "source": [
    "translate_ignore_etc_df.loc[('Rx1', 'node')]"
   ]
  },
  {
   "cell_type": "code",
   "execution_count": null,
   "metadata": {},
   "outputs": [],
   "source": [
    "def get_label(x):\n",
    "    # pathogen proteins are listed as proteins, so cannot use dict\n",
    "    id_, form_, level_, ConnID, origin = x.values\n",
    "      \n",
    "    if id_ in helpers.empty_strings:\n",
    "        return np.nan\n",
    "\n",
    "    new_label = None\n",
    "    \n",
    "    ########################\n",
    "    # Simple Cases\n",
    "    ########################\n",
    "    if form_ in ['complex', 'complex_active']:\n",
    "        if not (id_ in node_dict[\"Complex\"]):\n",
    "            complexes_to_add.append(id_)\n",
    "        new_label = 'Complex'\n",
    "    \n",
    "    elif form_ in [\"metabolite\"]:\n",
    "        for label in [\"Metabolite\", \"MetaboliteFamily\"]:\n",
    "            if id_ in node_dict[label]:\n",
    "                new_label = label\n",
    "                break\n",
    "        if not new_label:\n",
    "            missing_in_components.update([id_])        \n",
    "            print('ERROR', origin, \"|\", ConnID, \"|\", id_, \"|\", form_, \"|\", level_, \" |a (label) not a listed Metabolite/MetaboliteFamily\")\n",
    "\n",
    "    elif form_ in ['process', 'process_active']:\n",
    "        if (id_ in node_dict[\"Process\"]):\n",
    "            new_label = \"Process\"\n",
    "        else:\n",
    "            print('ERROR', origin, \"|\", ConnID, \"|\", id_, \"|\", form_, \"|\", level_,  \" |b (label) process not a listed process\")\n",
    "    \n",
    "    else:\n",
    "        # somethng plant, something foreign\n",
    "        family_id = get_family_id(id_, level_, translate_df)\n",
    "        \n",
    "        if not family_id:\n",
    "            family_id = get_family_id(id_, level_, translate_ignore_etc_df)\n",
    "\n",
    "                \n",
    "        if (family_id):\n",
    "            id_labels = [] #looping just in case an id occurs mutiple times\n",
    "            for label in helpers.plant_node_labels:\n",
    "                if family_id in node_dict[label]:\n",
    "                    id_labels.append(label)\n",
    "\n",
    "            if len(id_labels) == 1:\n",
    "                new_label = id_labels[0]\n",
    "            elif len(id_labels) > 1:\n",
    "                print('ERROR', origin, \"|\", ConnID, \"|\", id_, \"|\", form_, \"|\", level_,  \" |d (label) many labels fit\")\n",
    "                missing_in_components.update([id_])       \n",
    "\n",
    "            else:\n",
    "                print('ERROR', origin, \"|\", ConnID, \"|\", id_, \"|\", form_, \"|\", level_,  \" |e (label) could not find label\")\n",
    "                missing_in_components.update([id_]) \n",
    "        else:\n",
    "            # check if foreign\n",
    "            for label in helpers.foreign_node_labels:\n",
    "                if id_ in node_dict[label]:\n",
    "                    new_label = label\n",
    "                    break\n",
    "        \n",
    "    if not new_label:\n",
    "        print('ERROR', origin, \"|\", ConnID, \"|\", id_, \"|\", form_, \"|\", level_,  \" |c (family id) could not convert to label\")\n",
    "        \n",
    "    return new_label\n",
    "\n",
    "\n",
    "    \n",
    "def get_family_id(id_, level_, df):\n",
    "    family_id = None\n",
    "    if id_ in repeated_node_level:\n",
    "        print('INFO', id_, level_, 'node level has multiple identifiers')\n",
    "    if level_ == \"family\":    \n",
    "        try:\n",
    "            family_id = df.loc[(id_, 'family')]['family']\n",
    "        except KeyError:\n",
    "            pass\n",
    "    elif level_ in [\"clade\", \"clade/orthologue\"]:\n",
    "        try:\n",
    "            family_id = df.loc[(id_, 'clade')]['family']\n",
    "        except KeyError:\n",
    "            pass\n",
    "    elif level_ == \"node\":\n",
    "        try:\n",
    "            family_id = df.loc[(id_, 'node')]['family']\n",
    "        except KeyError:\n",
    "            pass\n",
    "\n",
    "    return family_id\n",
    "\n",
    "def apply_get_family_id(x):\n",
    "    id_, level_, label_, ConnID, origin = x.values\n",
    "      \n",
    "    if id_ in helpers.empty_strings:\n",
    "        return np.nan\n",
    "    \n",
    "    family_id = np.nan\n",
    "    if label_ in helpers.plant_node_labels:\n",
    "        family_id = get_family_id(id_, level_)\n",
    "    \n",
    "    return family_id\n"
   ]
  },
  {
   "cell_type": "code",
   "execution_count": null,
   "metadata": {},
   "outputs": [],
   "source": [
    "complexes_to_add = []\n",
    "missing_in_components = set()\n",
    "replace_w_family = set()\n",
    "\n",
    "for prefix in ['input1', 'input2', 'input3', 'output1']:\n",
    "    print(prefix)\n",
    "    id_col, form_col, level_col  =\\\n",
    "            [prefix + x for x in ('_ID',  '_form',  '_level')]\n",
    "\n",
    "    label_col = prefix + '_label'\n",
    "    family_col = prefix + '_family'    \n",
    "    \n",
    "    df_edges[label_col] = df_edges[[id_col, form_col, level_col, 'ConnID', 'origin']].apply(get_label, axis=1, result_type='expand')\n",
    "    #df_edges[family_col] = df_edges[[id_col, level_col, label_col, 'ConnID', 'origin']].apply(apply_get_family_id, axis=1, result_type='expand')\n"
   ]
  },
  {
   "cell_type": "markdown",
   "metadata": {},
   "source": [
    "## Functional groups\n",
    "Node --> identifiers\n",
    "\n",
    "Clade --> identifiers\n",
    "\n",
    "Family --> identifiers"
   ]
  },
  {
   "cell_type": "code",
   "execution_count": null,
   "metadata": {},
   "outputs": [],
   "source": [
    "helpers.plant_node_labels"
   ]
  },
  {
   "cell_type": "code",
   "execution_count": null,
   "metadata": {},
   "outputs": [],
   "source": [
    "def create_entry():\n",
    "    d = {'level':'', 'members':'', 'species':'', \"family\":''}      \n",
    "    for c in [f\"{specie}_homologues\" for specie in all_species]:\n",
    "        d[c] = '-'\n",
    "\n",
    "    return d\n",
    "\n",
    "def list_of_string_list_to_list(x, delim=\",\"):\n",
    "    '''e.g: ['AT5G26130,AT1G50060,AT2G14610,AT2G14580', '', '', '']\n",
    "    to: ['AT4G33710', 'AT4G33720', 'AT5G26130', 'AT1G50060', 'AT2G14610', 'AT2G14580']\n",
    "    '''\n",
    "    new_list = []\n",
    "    for sub_s in x:\n",
    "        if not sub_s in helpers.empty_strings:\n",
    "            for s in sub_s.split(delim):\n",
    "                if not s in helpers.empty_strings:\n",
    "                    new_list.append(s)\n",
    "    new_list = sorted(new_list)\n",
    "    return new_list\n",
    "\n",
    "print(\"column\\tname\\trxid\\tlevel\\tspecies(as in excel)\\tspecies(for identifiers)\")\n",
    "reaction_players = defaultdict(lambda : defaultdict(dict))  #lambda : defaultdict(create_entry))\n",
    "for prefix in ['input1', 'input2', 'input3', 'output1']:\n",
    "    id_col, from_col, level_col, new_id, label_col  =\\\n",
    "            [prefix + x for x in ('_ID',  '_form',  '_level',  '_newID', '_label')]    \n",
    "    homologue_cols = [f\"{prefix}_{specie}_homologues\" for specie in all_species]\n",
    "    \n",
    "    this_players = df_edges[['reaction_id', 'species', id_col, level_col, label_col]]# + homologue_cols]\n",
    "    \n",
    "    for _, row in this_players.iterrows():\n",
    "        if row[label_col] in helpers.plant_node_labels:\n",
    "            name = row[id_col]\n",
    "            level = row[level_col]\n",
    "            \n",
    "            members = []\n",
    "            \n",
    "            reaction_species = row['species']\n",
    "            \n",
    "            if reaction_species == 'all':\n",
    "                tmp_reaction_species = all_species\n",
    "            else:\n",
    "                tmp_reaction_species = row['species'].split(',')\n",
    "            \n",
    "            try:\n",
    "                r = translate_df.loc[(name, level)]\n",
    "                no_members = False\n",
    "            except KeyError:\n",
    "                r = translate_ignore_etc_df.loc[(name, level)]\n",
    "                no_members = True\n",
    "                #print(name, '- no members')\n",
    "            \n",
    "\n",
    "            was_in_species = []\n",
    "            for specie in all_species:\n",
    "                c = f\"{specie}_homologues\"\n",
    "                if (not no_members) and (specie in tmp_reaction_species):\n",
    "                    reaction_players[row[id_col]][row['reaction_id']][c] = r[c]\n",
    "                    members.append(r[c])\n",
    "                    was_in_species.append(specie)\n",
    "                else:\n",
    "                    reaction_players[row[id_col]][row['reaction_id']][c] = ''\n",
    "            \n",
    "            members = list_of_string_list_to_list(members)\n",
    "            \n",
    "            if ( not set(was_in_species) == set(tmp_reaction_species) ) or ( len(members) == 0 ):\n",
    "                print(f\"{id_col}\\t{row[id_col]}\\t{row['reaction_id']}\\t{level}\\t{reaction_species}\\t{tmp_reaction_species}\\t{members}\")\n",
    "                \n",
    "            reaction_players[row[id_col]][row['reaction_id']]['level'] =  level\n",
    "            reaction_players[row[id_col]][row['reaction_id']]['family'] =  r['family']\n",
    "            reaction_players[row[id_col]][row['reaction_id']]['members'] =  members\n",
    "            reaction_players[row[id_col]][row['reaction_id']]['species'] =  reaction_species\n",
    "        #else:\n",
    "            #print('---', id_col, row[label_col], row['reaction_id'])\n",
    "reaction_players = dict(reaction_players)"
   ]
  },
  {
   "cell_type": "code",
   "execution_count": null,
   "metadata": {},
   "outputs": [],
   "source": [
    "with open(\"FunctionalClusters_first-definition.tsv\", \"w\") as out:\n",
    "    c = '\\t'.join([f'{specie}_homologues' for specie in all_species])\n",
    "    out.write(f\"node_name\\tfamily\\treaction_id\\tlevel\\tspecies\\tmembers\\t{c}\\n\")\n",
    "    for node in list(reaction_players):\n",
    "        for reaction in list(reaction_players[node]):\n",
    "            members = reaction_players[node][reaction]['members']\n",
    "            c =  '\\t'.join([reaction_players[node][reaction][f'{specie}_homologues'] for specie in all_species])\n",
    "            out.write(f\"{node}\\t{reaction_players[node][reaction]['family']}\\t{reaction}\\t{reaction_players[node][reaction]['level']}\\t{reaction_players[node][reaction]['species']}\\t{','.join(members)}\\t{c}\\n\")"
   ]
  },
  {
   "cell_type": "code",
   "execution_count": null,
   "metadata": {},
   "outputs": [],
   "source": [
    "!head FunctionalClusters_first-definition.tsv"
   ]
  },
  {
   "cell_type": "code",
   "execution_count": null,
   "metadata": {},
   "outputs": [],
   "source": [
    "functional_clusters_df = pd.read_csv(\"FunctionalClusters_first-definition.tsv\", sep=\"\\t\")\n",
    "functional_clusters_df = functional_clusters_df.fillna('')"
   ]
  },
  {
   "cell_type": "code",
   "execution_count": null,
   "metadata": {},
   "outputs": [],
   "source": [
    "functional_clusters_df[functional_clusters_df['level']=='node']"
   ]
  },
  {
   "cell_type": "code",
   "execution_count": null,
   "metadata": {},
   "outputs": [],
   "source": [
    "print(functional_clusters_df.shape[0])\n",
    "functional_clusters_df.head()"
   ]
  },
  {
   "cell_type": "code",
   "execution_count": null,
   "metadata": {},
   "outputs": [],
   "source": [
    "print(functional_clusters_df.shape[0])\n",
    "functional_clusters_df.head()"
   ]
  },
  {
   "cell_type": "code",
   "execution_count": null,
   "metadata": {},
   "outputs": [],
   "source": [
    "functional_clusters_df.sort_values('node_name', inplace=True)\n",
    "functional_clusters_df = functional_clusters_df.drop_duplicates(keep='first', subset=['node_name', 'members', 'level'])"
   ]
  },
  {
   "cell_type": "code",
   "execution_count": null,
   "metadata": {},
   "outputs": [],
   "source": [
    "functional_clusters_df[functional_clusters_df['node_name']=='CPS']"
   ]
  },
  {
   "cell_type": "code",
   "execution_count": null,
   "metadata": {},
   "outputs": [],
   "source": [
    "functional_clusters_df[functional_clusters_df['node_name']=='MYB33']"
   ]
  },
  {
   "cell_type": "code",
   "execution_count": null,
   "metadata": {},
   "outputs": [],
   "source": [
    "x = functional_clusters_df[['node_name']].value_counts()\n",
    "x = x[x>1].index[:]\n",
    "x = [z[0] for z in x]\n",
    "functional_clusters_df[functional_clusters_df['node_name'].isin(x)]"
   ]
  },
  {
   "cell_type": "code",
   "execution_count": null,
   "metadata": {},
   "outputs": [],
   "source": [
    "functional_clusters_df[functional_clusters_df['members'] == '']"
   ]
  },
  {
   "cell_type": "code",
   "execution_count": null,
   "metadata": {},
   "outputs": [],
   "source": [
    "functional_clusters_df.loc[:, \"functional_cluster_name\"] = functional_clusters_df.apply(lambda row: f\"{row['node_name']}[{row['members']}]\", axis=1)\n",
    "functional_clusters_df.head()"
   ]
  },
  {
   "cell_type": "code",
   "execution_count": null,
   "metadata": {},
   "outputs": [],
   "source": [
    "functional_clusters_df[functional_clusters_df['members'] =='']"
   ]
  },
  {
   "cell_type": "code",
   "execution_count": null,
   "metadata": {},
   "outputs": [],
   "source": [
    "functional_clusters_df.head()"
   ]
  },
  {
   "cell_type": "code",
   "execution_count": null,
   "metadata": {},
   "outputs": [],
   "source": [
    "functional_clusters_df[functional_clusters_df['node_name'] == 'SAGT']"
   ]
  },
  {
   "cell_type": "code",
   "execution_count": null,
   "metadata": {},
   "outputs": [],
   "source": [
    "functional_clusters_df[functional_clusters_df['node_name'] == 'COI1']"
   ]
  },
  {
   "cell_type": "code",
   "execution_count": null,
   "metadata": {},
   "outputs": [],
   "source": [
    "functional_clusters_df[functional_clusters_df['node_name'] == 'EIN2']"
   ]
  },
  {
   "cell_type": "code",
   "execution_count": null,
   "metadata": {},
   "outputs": [],
   "source": [
    "functional_clusters_df[functional_clusters_df['node_name'] == 'miR6022']"
   ]
  },
  {
   "cell_type": "code",
   "execution_count": null,
   "metadata": {},
   "outputs": [],
   "source": [
    "functional_clusters_df[functional_clusters_df['node_name'] == 'miR159a']"
   ]
  },
  {
   "cell_type": "code",
   "execution_count": null,
   "metadata": {},
   "outputs": [],
   "source": [
    "functional_clusters_df[functional_clusters_df['node_name'] == 'X4']"
   ]
  },
  {
   "cell_type": "code",
   "execution_count": null,
   "metadata": {},
   "outputs": [],
   "source": [
    "functional_clusters_df[functional_clusters_df['reaction_id'] == 'rx00039']"
   ]
  },
  {
   "cell_type": "markdown",
   "metadata": {},
   "source": [
    "## Create functional cluster nodes"
   ]
  },
  {
   "cell_type": "code",
   "execution_count": null,
   "metadata": {},
   "outputs": [],
   "source": [
    "functional_clusters_import = functional_clusters_df.drop_duplicates(keep='first', subset=['functional_cluster_name'])"
   ]
  },
  {
   "cell_type": "code",
   "execution_count": null,
   "metadata": {},
   "outputs": [],
   "source": [
    "functional_clusters_import.shape"
   ]
  },
  {
   "cell_type": "code",
   "execution_count": null,
   "metadata": {},
   "outputs": [],
   "source": [
    "def clean_labels(labels):\n",
    "\tfor x in ['Family', 'Plant', 'Foreign', 'Node']:\n",
    "\t\tif x in labels:\n",
    "\t\t\tlabels.remove(x)\n",
    "\treturn labels[0]\n",
    "\n",
    "def functional_cluster_query(file_name, \n",
    "                         labels, \n",
    "                         n_name=\"line.functional_cluster_name\"\n",
    "                        ):\n",
    "    \n",
    "    if type(labels) == list:\n",
    "        node_label = ':' + ':'.join(labels)\n",
    "    else:\n",
    "        node_label = ':' + labels\n",
    "    \n",
    "    key = {\"file_name\":file_name, \n",
    "           \"node_label\":node_label, \n",
    "           \"name\":n_name}\n",
    "\n",
    "    species_str = \"\"\n",
    "    for specie in all_species:\n",
    "        species_str += f\"{specie}_homologues:split(line.{specie}_homologues, ','),\\n                \"\n",
    "\n",
    "    \n",
    "    q = '''USING PERIODIC COMMIT 500\n",
    "           LOAD CSV WITH HEADERS FROM  'file:///{file_name}' AS line FIELDTERMINATOR '\\t'\n",
    "           CREATE (p{node_label}   {{ \n",
    "                name:{name}, \n",
    "                                \n",
    "                {species_str}\n",
    "\n",
    "                family:line.family\n",
    "   \n",
    "            }})'''.format(**key, species_str=species_str)\n",
    "    \n",
    "    return q\n",
    "\n",
    "\n",
    "\n",
    "def make_create_type_of_edge_query(file_name, edge_type,\n",
    "                           source_label=\"\", target_label=\"\",\n",
    "                           source_name=\"line.source_name\", target_name=\"line.target_name\",\n",
    "                          ):\n",
    "\n",
    "    if not source_label == \"\":\n",
    "        source_label = ':' + source_label\n",
    "        \n",
    "    if not target_label == \"\":\n",
    "        target_label = ':' + target_label\n",
    "                \n",
    "    key ={\"file_name\":file_name, \"edge_type\":edge_type,\n",
    "          \"source_label\":source_label, \"target_label\":target_label,\n",
    "          \"source_name\":source_name, \"target_name\":target_name, \n",
    "         }\n",
    "    \n",
    "    q = '''USING PERIODIC COMMIT 500\n",
    "           LOAD CSV WITH HEADERS FROM  'file:///{file_name}' AS line FIELDTERMINATOR '\\t'\n",
    "           \n",
    "           MATCH (source{source_label} {{ name:{source_name}}}),\n",
    "                 (target{target_label} {{ name:{target_name}}})\n",
    "           \n",
    "           CREATE (source)-[:{edge_type}]->(target)'''.format(**key)\n",
    "\n",
    "    return q"
   ]
  },
  {
   "cell_type": "code",
   "execution_count": null,
   "metadata": {},
   "outputs": [],
   "source": [
    "label = \"FunctionalCluster\"\n",
    "f = f\"{label}-components.tsv\"\n",
    "functional_clusters_import.to_csv(f\"../data/import/{f}\", sep=\"\\t\", index=None)\n",
    "\n",
    "\n",
    "q = '''LOAD CSV WITH HEADERS FROM 'file:///{file_name}' AS line  FIELDTERMINATOR '\\t'\n",
    "       MATCH (parent:Family {{ name:line.family }}) RETURN parent.name AS name, labels(parent)   AS labels\n",
    "    '''.format(file_name=f)\n",
    "print(q)\n",
    "qr = graph.run(q)\n",
    "\n",
    "df = pd.DataFrame(qr.data())\n",
    "df['labels'] = df['labels'].apply(clean_labels)\n",
    "df = df.drop_duplicates(keep='first')\n",
    "df = functional_clusters_import.join(df.set_index('name'), on='family')\n",
    "\n",
    "df.head()"
   ]
  },
  {
   "cell_type": "code",
   "execution_count": null,
   "metadata": {},
   "outputs": [],
   "source": [
    "df['labels'].value_counts()"
   ]
  },
  {
   "cell_type": "code",
   "execution_count": null,
   "metadata": {},
   "outputs": [],
   "source": [
    "# save node types\n",
    "label = \"FunctionalCluster\"\n",
    "print(label, \"\\t\", df.shape[0])\n",
    "\n",
    "for t, subdf in df.groupby('labels'):\n",
    "    subdf.to_csv(f\"../data/import/{label}-{t}-components.tsv\", sep=\"\\t\", index=None)\n",
    "\n",
    "    query = functional_cluster_query(f\"{label}-{t}-components.tsv\", [label, t], n_name=\"line.functional_cluster_name\")\n",
    "    qr = graph.run(query)\n",
    "    print(t, \"\\t\", subdf.shape[0], qr.stats()['nodes_created'])"
   ]
  },
  {
   "cell_type": "code",
   "execution_count": null,
   "metadata": {},
   "outputs": [],
   "source": [
    "functional_clusters_import"
   ]
  },
  {
   "cell_type": "code",
   "execution_count": null,
   "metadata": {},
   "outputs": [],
   "source": [
    "# component to complex edges\n",
    "edge_type = 'TAKES_PART'\n",
    "want_cols = ['functional_cluster_name', 'family']\n",
    "\n",
    "f = f'{edge_type}-{label}-edges.tsv'  \n",
    "functional_clusters_import.to_csv(f\"../data/import/{f}\", index=None, sep=\"\\t\")\n",
    "\n",
    "query = make_create_type_of_edge_query(f, edge_type, \n",
    "                       source_label='Family', target_label=label,\n",
    "                       source_name=\"line.family\", target_name=\"line.functional_cluster_name\",\n",
    "                      )\n",
    "print(query)\n",
    "qr = graph.run(query)\n",
    "\n",
    "print(label, functional_clusters_df.shape[0], qr.stats()['relationships_created'])    \n",
    "if not functional_clusters_df.shape[0] == qr.stats()['relationships_created']:\n",
    "    print(\"\\tnot all edges created\")"
   ]
  },
  {
   "cell_type": "markdown",
   "metadata": {},
   "source": [
    "## Replace ids in edges table"
   ]
  },
  {
   "cell_type": "code",
   "execution_count": null,
   "metadata": {},
   "outputs": [],
   "source": [
    "functional_clusters_df = pd.read_csv(\"FunctionalClusters_first-definition.tsv\", sep=\"\\t\")\n",
    "functional_clusters_df = functional_clusters_df.fillna('')\n",
    "functional_clusters_df.loc[:, \"functional_cluster_name\"] = functional_clusters_df.apply(lambda row: f\"{row['node_name']}[{row['members']}]\", axis=1)\n",
    "\n",
    "functional_clusters_df = functional_clusters_df.drop_duplicates(keep='first', subset=['node_name', 'level', 'species', 'functional_cluster_name'])\n",
    "\n",
    "functional_clusters_translate = functional_clusters_df[['node_name', 'level', 'species', 'functional_cluster_name']].set_index(['node_name', 'level', 'species']).to_dict('index')\n",
    "functional_clusters_translate.keys()"
   ]
  },
  {
   "cell_type": "code",
   "execution_count": null,
   "metadata": {},
   "outputs": [],
   "source": [
    "def get_new_id(x):\n",
    "    specie, id_, level_, label_ = x.values\n",
    "    \n",
    "    if label_ in helpers.plant_node_labels:\n",
    "        try:\n",
    "            return functional_clusters_translate[(id_, level_, specie)]['functional_cluster_name']\n",
    "        except KeyError:\n",
    "            pass\n",
    "        \n",
    "        # if reaction has same node on different levels, then one is removed\n",
    "        return functional_clusters_translate[(id_, 'node', specie)]['functional_cluster_name']\n",
    "        print(id_, level_, label_)\n",
    "    else:\n",
    "        return id_\n",
    "\n",
    "\n",
    "\n",
    "for prefix in ['input1', 'input2', 'input3', 'output1']:\n",
    "    print(prefix)\n",
    "    id_col, form_col, level_col, label_col, new_id =\\\n",
    "            [prefix + x for x in ('_ID',  '_form',  '_level', '_label', '_newID')]\n",
    "\n",
    "    df_edges[new_id] = df_edges[['species', id_col, level_col, label_col]].apply(get_new_id, axis=1, result_type='expand')\n"
   ]
  },
  {
   "cell_type": "code",
   "execution_count": null,
   "metadata": {},
   "outputs": [],
   "source": [
    "df_edges.head()"
   ]
  },
  {
   "cell_type": "code",
   "execution_count": null,
   "metadata": {},
   "outputs": [],
   "source": [
    "len(df_edges['reaction_id'].unique()) == df_edges.shape[0]"
   ]
  },
  {
   "cell_type": "code",
   "execution_count": null,
   "metadata": {},
   "outputs": [],
   "source": [
    "df_edges.to_csv(output_path / \"edges-sheet.tsv\", sep=\"\\t\")"
   ]
  },
  {
   "cell_type": "code",
   "execution_count": null,
   "metadata": {},
   "outputs": [],
   "source": [
    "df.to_csv(output_path / \"functional_clusters.tsv\", sep=\"\\t\", index=False)"
   ]
  },
  {
   "cell_type": "code",
   "execution_count": null,
   "metadata": {},
   "outputs": [],
   "source": [
    "with open(output_path / \"complexes_to_add.tsv\", \"w\") as out:\n",
    "    for c in complexes_to_add:\n",
    "        out.write(f\"{c}\\n\")"
   ]
  },
  {
   "cell_type": "markdown",
   "metadata": {},
   "source": [
    "# END"
   ]
  },
  {
   "cell_type": "code",
   "execution_count": null,
   "metadata": {},
   "outputs": [],
   "source": []
  }
 ],
 "metadata": {
  "kernelspec": {
   "display_name": "Python 3",
   "language": "python",
   "name": "python3"
  },
  "language_info": {
   "codemirror_mode": {
    "name": "ipython",
    "version": 3
   },
   "file_extension": ".py",
   "mimetype": "text/x-python",
   "name": "python",
   "nbconvert_exporter": "python",
   "pygments_lexer": "ipython3",
   "version": "3.9.2"
  }
 },
 "nbformat": 4,
 "nbformat_minor": 2
}
