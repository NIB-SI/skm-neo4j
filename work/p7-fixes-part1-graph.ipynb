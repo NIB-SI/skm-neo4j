{
 "cells": [
  {
   "cell_type": "code",
   "execution_count": 1,
   "metadata": {},
   "outputs": [],
   "source": [
    "version = \"v0.1.0\""
   ]
  },
  {
   "cell_type": "code",
   "execution_count": 2,
   "metadata": {},
   "outputs": [
    {
     "data": {
      "text/html": [
       "<style>.container { width:80% !important; }</style>"
      ],
      "text/plain": [
       "<IPython.core.display.HTML object>"
      ]
     },
     "metadata": {},
     "output_type": "display_data"
    }
   ],
   "source": [
    "from IPython.core.display import display, HTML\n",
    "display(HTML(\"<style>.container { width:80% !important; }</style>\"))"
   ]
  },
  {
   "cell_type": "markdown",
   "metadata": {},
   "source": [
    "# Import neo4j DB: 7/?\n",
    "\n",
    "Code to translate v2.7.9_PIS-model.xlsx to neo4j database. "
   ]
  },
  {
   "cell_type": "markdown",
   "metadata": {},
   "source": [
    "## Setup"
   ]
  },
  {
   "cell_type": "code",
   "execution_count": 3,
   "metadata": {},
   "outputs": [],
   "source": [
    "from collections import defaultdict"
   ]
  },
  {
   "cell_type": "code",
   "execution_count": 4,
   "metadata": {},
   "outputs": [],
   "source": [
    "import pandas as pd\n",
    "import re\n",
    "import numpy as np\n",
    "import os"
   ]
  },
  {
   "cell_type": "code",
   "execution_count": 5,
   "metadata": {},
   "outputs": [],
   "source": [
    "from py2neo import Graph, Node, Relationship"
   ]
  },
  {
   "cell_type": "code",
   "execution_count": 6,
   "metadata": {},
   "outputs": [],
   "source": [
    "import helpers"
   ]
  },
  {
   "cell_type": "code",
   "execution_count": 7,
   "metadata": {},
   "outputs": [],
   "source": [
    "from importlib import reload"
   ]
  },
  {
   "cell_type": "markdown",
   "metadata": {},
   "source": [
    "Connect to graph via docker-compose link. See http://localhost:7474/browser/"
   ]
  },
  {
   "cell_type": "code",
   "execution_count": 8,
   "metadata": {},
   "outputs": [],
   "source": [
    "graph = Graph(host=\"neo4j\")"
   ]
  },
  {
   "cell_type": "code",
   "execution_count": 9,
   "metadata": {},
   "outputs": [],
   "source": [
    "from pathlib import Path\n",
    "\n",
    "base_path = Path(\"..\")\n",
    "parsed_path = base_path / \"data\" / \"parsed\""
   ]
  },
  {
   "cell_type": "markdown",
   "metadata": {},
   "source": [
    "## MK identifier"
   ]
  },
  {
   "cell_type": "code",
   "execution_count": 10,
   "metadata": {},
   "outputs": [],
   "source": [
    "# FIXED in sheet\n",
    "# cy = \"\"\"\n",
    "#     MATCH p=(r {name:\"rx00308\"})--(n {family:\"MYB\"})\n",
    "#     SET n.name = 'MYB33[Sotub06g030530.1.1]'\n",
    "#     SET n.stu_homolugues = ['Sotub06g030530.1.1']\n",
    "#     SET n._identifiers = 'Sotub06g030530.1.1'\n",
    "# \"\"\"\n",
    "# graph.run(cy)"
   ]
  },
  {
   "cell_type": "code",
   "execution_count": 11,
   "metadata": {},
   "outputs": [
    {
     "data": {
      "text/plain": [
       " n                                                                                                                               \n",
       "---------------------------------------------------------------------------------------------------------------------------------\n",
       " (_471:FunctionalCluster:PlantCoding {family: 'MYB', name: 'MYB33[SOTUB06G030530.1.1]', stu_homologues: ['SOTUB06G030530.1.1']}) \n",
       " (_471:FunctionalCluster:PlantCoding {family: 'MYB', name: 'MYB33[SOTUB06G030530.1.1]', stu_homologues: ['SOTUB06G030530.1.1']}) "
      ]
     },
     "execution_count": 11,
     "metadata": {},
     "output_type": "execute_result"
    }
   ],
   "source": [
    "cy = \"\"\"\n",
    "    MATCH p=(r {name:\"rx00308\"})--(n {family:\"MYB\"})\n",
    "    RETURN n\n",
    "\"\"\"\n",
    "\n",
    "graph.run(cy)"
   ]
  },
  {
   "cell_type": "markdown",
   "metadata": {},
   "source": [
    "## Pathways"
   ]
  },
  {
   "cell_type": "code",
   "execution_count": 18,
   "metadata": {},
   "outputs": [],
   "source": [
    "df = pd.read_csv(base_path / \"data\" / \"raw\" / \"pss-pathways - neo4j-for-CB.tsv\", sep=\"\\t\")"
   ]
  },
  {
   "cell_type": "code",
   "execution_count": 19,
   "metadata": {},
   "outputs": [],
   "source": [
    "df = df[~df[\"pathway\"].isna()]"
   ]
  },
  {
   "cell_type": "code",
   "execution_count": 20,
   "metadata": {},
   "outputs": [],
   "source": [
    "df['label'] = df[\"node_type\"].apply(lambda x: \":\".join(eval(x)))"
   ]
  },
  {
   "cell_type": "code",
   "execution_count": 21,
   "metadata": {},
   "outputs": [
    {
     "data": {
      "text/plain": [
       "FunctionalCluster:PlantCoding       229\n",
       "Metabolite                          116\n",
       "Complex                              83\n",
       "ForeignCoding                        14\n",
       "FunctionalCluster:PlantNonCoding     10\n",
       "FunctionalCluster:PlantAbstract       8\n",
       "Process                               6\n",
       "ForeignEntity                         3\n",
       "Name: label, dtype: int64"
      ]
     },
     "execution_count": 21,
     "metadata": {},
     "output_type": "execute_result"
    }
   ],
   "source": [
    "df.label.value_counts()"
   ]
  },
  {
   "cell_type": "code",
   "execution_count": 22,
   "metadata": {},
   "outputs": [
    {
     "data": {
      "text/html": [
       "<div>\n",
       "<style scoped>\n",
       "    .dataframe tbody tr th:only-of-type {\n",
       "        vertical-align: middle;\n",
       "    }\n",
       "\n",
       "    .dataframe tbody tr th {\n",
       "        vertical-align: top;\n",
       "    }\n",
       "\n",
       "    .dataframe thead th {\n",
       "        text-align: right;\n",
       "    }\n",
       "</style>\n",
       "<table border=\"1\" class=\"dataframe\">\n",
       "  <thead>\n",
       "    <tr style=\"text-align: right;\">\n",
       "      <th></th>\n",
       "      <th>name</th>\n",
       "      <th>node_type</th>\n",
       "      <th>pathway</th>\n",
       "      <th>label</th>\n",
       "    </tr>\n",
       "  </thead>\n",
       "  <tbody>\n",
       "    <tr>\n",
       "      <th>2</th>\n",
       "      <td>AGO1,5,7,10|CI</td>\n",
       "      <td>[\"Complex\"]</td>\n",
       "      <td>P:Silencing</td>\n",
       "      <td>Complex</td>\n",
       "    </tr>\n",
       "    <tr>\n",
       "      <th>3</th>\n",
       "      <td>AGO1,5,7,10|HC-Pro</td>\n",
       "      <td>[\"Complex\"]</td>\n",
       "      <td>P:Silencing</td>\n",
       "      <td>Complex</td>\n",
       "    </tr>\n",
       "    <tr>\n",
       "      <th>4</th>\n",
       "      <td>ATPB|HC-Pro</td>\n",
       "      <td>[\"Complex\"]</td>\n",
       "      <td>P:Secondary-metabolism_Terpenoids</td>\n",
       "      <td>Complex</td>\n",
       "    </tr>\n",
       "    <tr>\n",
       "      <th>5</th>\n",
       "      <td>BAK1|FLS2|flg22</td>\n",
       "      <td>[\"Complex\"]</td>\n",
       "      <td>Hormone:BS</td>\n",
       "      <td>Complex</td>\n",
       "    </tr>\n",
       "    <tr>\n",
       "      <th>6</th>\n",
       "      <td>BIK1|Ca2+</td>\n",
       "      <td>[\"Complex\"]</td>\n",
       "      <td>S:Ca</td>\n",
       "      <td>Complex</td>\n",
       "    </tr>\n",
       "  </tbody>\n",
       "</table>\n",
       "</div>"
      ],
      "text/plain": [
       "                 name    node_type                            pathway    label\n",
       "2      AGO1,5,7,10|CI  [\"Complex\"]                        P:Silencing  Complex\n",
       "3  AGO1,5,7,10|HC-Pro  [\"Complex\"]                        P:Silencing  Complex\n",
       "4         ATPB|HC-Pro  [\"Complex\"]  P:Secondary-metabolism_Terpenoids  Complex\n",
       "5     BAK1|FLS2|flg22  [\"Complex\"]                         Hormone:BS  Complex\n",
       "6           BIK1|Ca2+  [\"Complex\"]                               S:Ca  Complex"
      ]
     },
     "execution_count": 22,
     "metadata": {},
     "output_type": "execute_result"
    }
   ],
   "source": [
    "df.head()"
   ]
  },
  {
   "cell_type": "code",
   "execution_count": 24,
   "metadata": {},
   "outputs": [
    {
     "name": "stdout",
     "output_type": "stream",
     "text": [
      "Complex \t\t\t True\n",
      "ForeignCoding \t\t\t True\n",
      "ForeignEntity \t\t\t True\n",
      "FunctionalCluster:PlantAbstract \t\t\t True\n",
      "FunctionalCluster:PlantCoding \t\t\t True\n",
      "FunctionalCluster:PlantNonCoding \t\t\t True\n",
      "Metabolite \t\t\t True\n",
      "Process \t\t\t True\n"
     ]
    }
   ],
   "source": [
    "for label, subdf in df.groupby(\"label\"):\n",
    "    f = f\"pathways-{label}.tsv\"\n",
    "    subdf.to_csv(base_path / \"data\" / \"import\" / f, sep=\"\\t\", index=None)\n",
    "    cy = '''\n",
    "    LOAD CSV WITH HEADERS FROM  'file:///{file}' AS line FIELDTERMINATOR '\\t'\n",
    "           MATCH (n:{label}  {{ name:line.name}})\n",
    "           SET n.pathway = line.pathway\n",
    "           RETURN n.name, n.pathway, line.pathway\n",
    "    '''.format(label=label, file=f)\n",
    "#     print(cy)\n",
    "    qr = graph.run(cy)\n",
    "#     print(qr)\n",
    "    print(label, \"\\t\\t\\t\", len(qr.data())==subdf.shape[0])"
   ]
  },
  {
   "cell_type": "markdown",
   "metadata": {},
   "source": [
    "## Add species to reactions"
   ]
  },
  {
   "cell_type": "code",
   "execution_count": 166,
   "metadata": {},
   "outputs": [],
   "source": [
    "df_edges = pd.read_csv(parsed_path / \"edges-sheet.tsv\", sep=\"\\t\", index_col=0)"
   ]
  },
  {
   "cell_type": "code",
   "execution_count": 174,
   "metadata": {},
   "outputs": [],
   "source": [
    "f = \"reaction_species.tsv\"\n",
    "df_edges[['reaction_id', 'species']].to_csv(base_path / \"data\" / \"import\" / f, sep=\"\\t\", index=None)"
   ]
  },
  {
   "cell_type": "code",
   "execution_count": 178,
   "metadata": {},
   "outputs": [
    {
     "data": {
      "text/plain": [
       "ath                342\n",
       "ath,nta             11\n",
       "stu                 10\n",
       "osa                  8\n",
       "all                  7\n",
       "ath,nbe              5\n",
       "ath,stu              4\n",
       "ath,osa              3\n",
       "ath,osa,psa          2\n",
       "ath,osa,phy          1\n",
       "ath,osa,sly,zma      1\n",
       "Name: species, dtype: int64"
      ]
     },
     "execution_count": 178,
     "metadata": {},
     "output_type": "execute_result"
    }
   ],
   "source": [
    "pd.value_counts(df_edges['species'])"
   ]
  },
  {
   "cell_type": "code",
   "execution_count": 179,
   "metadata": {},
   "outputs": [
    {
     "data": {
      "text/plain": [
       " n.name  | n.species | line.species \n",
       "---------|-----------|--------------\n",
       " rx00001 | ['ath']   | ath          \n",
       " rx00002 | ['ath']   | ath          \n",
       " rx00003 | ['ath']   | ath          "
      ]
     },
     "execution_count": 179,
     "metadata": {},
     "output_type": "execute_result"
    }
   ],
   "source": [
    "cy = '''\n",
    "LOAD CSV WITH HEADERS FROM  'file:///{file}' AS line FIELDTERMINATOR '\\t'\n",
    "       MATCH (n:{label}  {{ name:line.reaction_id}})\n",
    "       SET n.species = split(line.species, ',')\n",
    "       RETURN n.name, n.species, line.species\n",
    "'''.format(label=\"Reaction\", file=f)\n",
    "\n",
    "graph.run(cy)"
   ]
  },
  {
   "cell_type": "code",
   "execution_count": null,
   "metadata": {},
   "outputs": [],
   "source": []
  },
  {
   "cell_type": "markdown",
   "metadata": {},
   "source": [
    "# FunctionalCluster annotations from Ziva file"
   ]
  },
  {
   "cell_type": "markdown",
   "metadata": {},
   "source": [
    "### metabolites"
   ]
  },
  {
   "cell_type": "code",
   "execution_count": 25,
   "metadata": {},
   "outputs": [
    {
     "data": {
      "text/plain": [
       "PosixPath('../data/raw/gmmmeta_20211011.tsv')"
      ]
     },
     "execution_count": 25,
     "metadata": {},
     "output_type": "execute_result"
    }
   ],
   "source": [
    "base_path / \"data\" /\"raw\" / \"gmmmeta_20211011.tsv\""
   ]
  },
  {
   "cell_type": "code",
   "execution_count": 26,
   "metadata": {},
   "outputs": [],
   "source": [
    "df = pd.read_csv(base_path / \"data\" /\"raw\" / \"GMM\" / \"gmmmeta_20211011.tsv\", sep=\"\\t\", header=None, \n",
    "                 usecols=[2, 8],\n",
    "                names=[\"name\", \"chebi\"])"
   ]
  },
  {
   "cell_type": "code",
   "execution_count": 27,
   "metadata": {},
   "outputs": [],
   "source": [
    "df = df[~df[\"chebi\"].isna()]"
   ]
  },
  {
   "cell_type": "code",
   "execution_count": 28,
   "metadata": {},
   "outputs": [],
   "source": [
    "df[\"chebi\"] = df[\"chebi\"].apply(lambda x: ','.join([s.strip().lower() for s in x.split(\"|\")]))"
   ]
  },
  {
   "cell_type": "code",
   "execution_count": 29,
   "metadata": {},
   "outputs": [
    {
     "data": {
      "text/html": [
       "<div>\n",
       "<style scoped>\n",
       "    .dataframe tbody tr th:only-of-type {\n",
       "        vertical-align: middle;\n",
       "    }\n",
       "\n",
       "    .dataframe tbody tr th {\n",
       "        vertical-align: top;\n",
       "    }\n",
       "\n",
       "    .dataframe thead th {\n",
       "        text-align: right;\n",
       "    }\n",
       "</style>\n",
       "<table border=\"1\" class=\"dataframe\">\n",
       "  <thead>\n",
       "    <tr style=\"text-align: right;\">\n",
       "      <th></th>\n",
       "      <th>name</th>\n",
       "      <th>chebi</th>\n",
       "    </tr>\n",
       "  </thead>\n",
       "  <tbody>\n",
       "    <tr>\n",
       "      <th>2</th>\n",
       "      <td>1-aminocyclopropanecarboxylate</td>\n",
       "      <td>chebi:30526</td>\n",
       "    </tr>\n",
       "    <tr>\n",
       "      <th>4</th>\n",
       "      <td>1-deoxy-d-xylulose 5-phosphate</td>\n",
       "      <td>chebi:16493,chebi:57792,chebi:57792</td>\n",
       "    </tr>\n",
       "    <tr>\n",
       "      <th>12</th>\n",
       "      <td>15-cis-phytoene</td>\n",
       "      <td>chebi:27787</td>\n",
       "    </tr>\n",
       "    <tr>\n",
       "      <th>18</th>\n",
       "      <td>2-aminoadipic acid</td>\n",
       "      <td>chebi:37024</td>\n",
       "    </tr>\n",
       "    <tr>\n",
       "      <th>19</th>\n",
       "      <td>2-aminobenzoate</td>\n",
       "      <td>chebi:16567</td>\n",
       "    </tr>\n",
       "  </tbody>\n",
       "</table>\n",
       "</div>"
      ],
      "text/plain": [
       "                              name                                chebi\n",
       "2   1-aminocyclopropanecarboxylate                          chebi:30526\n",
       "4   1-deoxy-d-xylulose 5-phosphate  chebi:16493,chebi:57792,chebi:57792\n",
       "12                 15-cis-phytoene                          chebi:27787\n",
       "18              2-aminoadipic acid                          chebi:37024\n",
       "19                 2-aminobenzoate                          chebi:16567"
      ]
     },
     "execution_count": 29,
     "metadata": {},
     "output_type": "execute_result"
    }
   ],
   "source": [
    "df.head()"
   ]
  },
  {
   "cell_type": "code",
   "execution_count": 30,
   "metadata": {},
   "outputs": [],
   "source": [
    "f = \"gmm_annot_Metabolite.tsv\"\n",
    "df.to_csv(base_path / \"data\" / \"import\" / f, sep=\"\\t\", index=None)"
   ]
  },
  {
   "cell_type": "code",
   "execution_count": 33,
   "metadata": {},
   "outputs": [],
   "source": [
    "cy = '''\n",
    "LOAD CSV WITH HEADERS FROM  'file:///{file}' AS line FIELDTERMINATOR '\\t'\n",
    "       MATCH (n:{label})\n",
    "       WHERE n.description =~ \"(?i)\"+line.name\n",
    "       OR n.name =~ \"(?i)\"+line.name\n",
    "       WITH  n.external_links + split(line.chebi, \",\") as new, n, line\n",
    "       SET n.external_links = apoc.coll.toSet(new)\n",
    "       RETURN n.name, n.external_links\n",
    "'''.format(label=\"Metabolite\", file=f)\n",
    "#     print(cy)\n",
    "qr = graph.run(cy)"
   ]
  },
  {
   "cell_type": "code",
   "execution_count": 34,
   "metadata": {},
   "outputs": [
    {
     "data": {
      "text/plain": [
       " n.name | n.external_links                               \n",
       "--------|------------------------------------------------\n",
       " ADP    | ['chebi:16761', 'chebi:456216']                \n",
       " AMP    | ['chebi:16027', 'chebi:28971', 'chebi:456215'] \n",
       " ATP    | ['chebi:15422', 'chebi:30616']                 "
      ]
     },
     "execution_count": 34,
     "metadata": {},
     "output_type": "execute_result"
    }
   ],
   "source": [
    "qr"
   ]
  },
  {
   "cell_type": "markdown",
   "metadata": {},
   "source": [
    "### srna"
   ]
  },
  {
   "cell_type": "code",
   "execution_count": 35,
   "metadata": {},
   "outputs": [],
   "source": [
    "df = pd.read_csv(base_path / \"data\" /\"raw\" / \"GMM\" / \"gmmsrna_20211011.tsv\", sep=\"\\t\", header=None, \n",
    "                 #usecols=[2, 8],\n",
    "                #names=[\"name\", \"chebi\"]\n",
    "                )"
   ]
  },
  {
   "cell_type": "code",
   "execution_count": 36,
   "metadata": {
    "scrolled": true
   },
   "outputs": [
    {
     "name": "stdout",
     "output_type": "stream",
     "text": [
      "0\n"
     ]
    },
    {
     "data": {
      "text/plain": [
       "2       1\n",
       "675     1\n",
       "671     1\n",
       "669     1\n",
       "667     1\n",
       "       ..\n",
       "1304    1\n",
       "1302    1\n",
       "1300    1\n",
       "1298    1\n",
       "1965    1\n",
       "Name: 0, Length: 1966, dtype: int64"
      ]
     },
     "metadata": {},
     "output_type": "display_data"
    },
    {
     "name": "stdout",
     "output_type": "stream",
     "text": [
      "1\n"
     ]
    },
    {
     "data": {
      "text/plain": [
       "2    1966\n",
       "Name: 1, dtype: int64"
      ]
     },
     "metadata": {},
     "output_type": "display_data"
    },
    {
     "name": "stdout",
     "output_type": "stream",
     "text": [
      "2\n"
     ]
    },
    {
     "data": {
      "text/plain": [
       "novel-miR8157-5p    1\n",
       "phasiRNA2241        1\n",
       "phasiRNA1042        1\n",
       "phasiRNA1208        1\n",
       "novel-miR8244-5p    1\n",
       "                   ..\n",
       "phasiRNA1204        1\n",
       "phasiRNA2091        1\n",
       "phasiRNA2101        1\n",
       "phasiRNA335         1\n",
       "phasiRNA1664        1\n",
       "Name: 2, Length: 1966, dtype: int64"
      ]
     },
     "metadata": {},
     "output_type": "display_data"
    },
    {
     "name": "stdout",
     "output_type": "stream",
     "text": [
      "3\n"
     ]
    },
    {
     "data": {
      "text/plain": [
       "2017-10-13 00:05:00    1966\n",
       "Name: 3, dtype: int64"
      ]
     },
     "metadata": {},
     "output_type": "display_data"
    },
    {
     "name": "stdout",
     "output_type": "stream",
     "text": [
      "4\n"
     ]
    },
    {
     "data": {
      "text/plain": [
       "novel-miR8157-5p    1\n",
       "novel-miR8260-3p    1\n",
       "phasiRNA772         1\n",
       "phasiRNA2336        1\n",
       "phasiRNA2241        1\n",
       "                   ..\n",
       "phasiRNA1204        1\n",
       "phasiRNA2091        1\n",
       "phasiRNA2101        1\n",
       "phasiRNA335         1\n",
       "phasiRNA1664        1\n",
       "Name: 4, Length: 1966, dtype: int64"
      ]
     },
     "metadata": {},
     "output_type": "display_data"
    },
    {
     "name": "stdout",
     "output_type": "stream",
     "text": [
      "5\n"
     ]
    },
    {
     "data": {
      "text/plain": [
       "1    1966\n",
       "Name: 5, dtype: int64"
      ]
     },
     "metadata": {},
     "output_type": "display_data"
    },
    {
     "name": "stdout",
     "output_type": "stream",
     "text": [
      "6\n"
     ]
    },
    {
     "data": {
      "text/plain": [
       "Series([], Name: 6, dtype: int64)"
      ]
     },
     "metadata": {},
     "output_type": "display_data"
    },
    {
     "name": "stdout",
     "output_type": "stream",
     "text": [
      "7\n"
     ]
    },
    {
     "data": {
      "text/plain": [
       "Series([], Name: 7, dtype: int64)"
      ]
     },
     "metadata": {},
     "output_type": "display_data"
    },
    {
     "name": "stdout",
     "output_type": "stream",
     "text": [
      "8\n"
     ]
    },
    {
     "data": {
      "text/plain": [
       "Series([], Name: 8, dtype: int64)"
      ]
     },
     "metadata": {},
     "output_type": "display_data"
    }
   ],
   "source": [
    "for c in df.columns:\n",
    "    print(c)\n",
    "    display(df[c].value_counts())"
   ]
  },
  {
   "cell_type": "markdown",
   "metadata": {},
   "source": [
    "### prot"
   ]
  },
  {
   "cell_type": "code",
   "execution_count": 280,
   "metadata": {},
   "outputs": [
    {
     "data": {
      "text/plain": [
       "['-', '?', '[empty]', 'nan', 'n.a.', nan, '[undefined]', 'NULL', '']"
      ]
     },
     "execution_count": 280,
     "metadata": {},
     "output_type": "execute_result"
    }
   ],
   "source": [
    "helpers.empty_strings"
   ]
  },
  {
   "cell_type": "code",
   "execution_count": 344,
   "metadata": {},
   "outputs": [
    {
     "name": "stderr",
     "output_type": "stream",
     "text": [
      "/opt/conda/lib/python3.9/site-packages/IPython/core/interactiveshell.py:3169: DtypeWarning: Columns (7) have mixed types.Specify dtype option on import or set low_memory=False.\n",
      "  has_raised = await self.run_ast_nodes(code_ast.body, cell_name,\n"
     ]
    },
    {
     "data": {
      "text/html": [
       "<div>\n",
       "<style scoped>\n",
       "    .dataframe tbody tr th:only-of-type {\n",
       "        vertical-align: middle;\n",
       "    }\n",
       "\n",
       "    .dataframe tbody tr th {\n",
       "        vertical-align: top;\n",
       "    }\n",
       "\n",
       "    .dataframe thead th {\n",
       "        text-align: right;\n",
       "    }\n",
       "</style>\n",
       "<table border=\"1\" class=\"dataframe\">\n",
       "  <thead>\n",
       "    <tr style=\"text-align: right;\">\n",
       "      <th></th>\n",
       "      <th>gmm_description1</th>\n",
       "      <th>short_name</th>\n",
       "      <th>synonyms</th>\n",
       "    </tr>\n",
       "    <tr>\n",
       "      <th>identifier</th>\n",
       "      <th></th>\n",
       "      <th></th>\n",
       "      <th></th>\n",
       "    </tr>\n",
       "  </thead>\n",
       "  <tbody>\n",
       "    <tr>\n",
       "      <th>AT1G01010</th>\n",
       "      <td>NAC domain containing protein 1</td>\n",
       "      <td>NAC001</td>\n",
       "      <td>ANAC001,NAC001,NTL10</td>\n",
       "    </tr>\n",
       "    <tr>\n",
       "      <th>AT1G01020</th>\n",
       "      <td>ARV1 family protein</td>\n",
       "      <td>ARV1</td>\n",
       "      <td>ARV1</td>\n",
       "    </tr>\n",
       "    <tr>\n",
       "      <th>AT1G01030</th>\n",
       "      <td>AP2/B3-like transcriptional factor family protein</td>\n",
       "      <td>NGA3</td>\n",
       "      <td>NGA3</td>\n",
       "    </tr>\n",
       "    <tr>\n",
       "      <th>AT1G01040</th>\n",
       "      <td>dicer-like 1</td>\n",
       "      <td>DCL1</td>\n",
       "      <td>ASU1,ATDCL1,CAF,DCL1,EMB60,EMB76,SIN1,SUS1</td>\n",
       "    </tr>\n",
       "    <tr>\n",
       "      <th>AT1G01046</th>\n",
       "      <td>microRNA 838A</td>\n",
       "      <td>MIR838A</td>\n",
       "      <td></td>\n",
       "    </tr>\n",
       "  </tbody>\n",
       "</table>\n",
       "</div>"
      ],
      "text/plain": [
       "                                             gmm_description1 short_name  \\\n",
       "identifier                                                                 \n",
       "AT1G01010                     NAC domain containing protein 1     NAC001   \n",
       "AT1G01020                                 ARV1 family protein       ARV1   \n",
       "AT1G01030   AP2/B3-like transcriptional factor family protein       NGA3   \n",
       "AT1G01040                                        dicer-like 1       DCL1   \n",
       "AT1G01046                                       microRNA 838A    MIR838A   \n",
       "\n",
       "                                              synonyms  \n",
       "identifier                                              \n",
       "AT1G01010                         ANAC001,NAC001,NTL10  \n",
       "AT1G01020                                         ARV1  \n",
       "AT1G01030                                         NGA3  \n",
       "AT1G01040   ASU1,ATDCL1,CAF,DCL1,EMB60,EMB76,SIN1,SUS1  \n",
       "AT1G01046                                               "
      ]
     },
     "execution_count": 344,
     "metadata": {},
     "output_type": "execute_result"
    }
   ],
   "source": [
    "df1 = pd.read_csv(base_path / \"data\" /\"raw\" / \"GMM\" / \"gmmprot_20211011.tsv\", sep=\"\\t\", header=None, \n",
    "                 usecols=[2, 4, 7, 8], \n",
    "                 names=[\"identifier\", \"description\", \"short_name\", \"synonyms\"], \n",
    "                 na_values=helpers.empty_strings, \n",
    "                 converters={\"synonyms\": lambda x: '' if x =='NULL' else ','.join([s.strip() for s in x.split(\"|\")])}\n",
    "                )\n",
    "for c in df1.columns:\n",
    "    df1[c] = df1[c].str.strip()\n",
    "df1.fillna('', inplace=True)\n",
    "df1.set_index(\"identifier\", inplace=True)\n",
    "\n",
    "\n",
    "df1.columns = [\"gmm_description1\", \"short_name\", \"synonyms\"]\n",
    "\n",
    "df1.head()"
   ]
  },
  {
   "cell_type": "code",
   "execution_count": 349,
   "metadata": {},
   "outputs": [
    {
     "name": "stderr",
     "output_type": "stream",
     "text": [
      "/opt/conda/lib/python3.9/site-packages/pandas/io/excel/_base.py:344: ParserWarning: Both a converter and dtype were specified for column GMM:Synonyms - only the converter will be used\n",
      "  data = io.parse(\n"
     ]
    },
    {
     "data": {
      "text/html": [
       "<div>\n",
       "<style scoped>\n",
       "    .dataframe tbody tr th:only-of-type {\n",
       "        vertical-align: middle;\n",
       "    }\n",
       "\n",
       "    .dataframe tbody tr th {\n",
       "        vertical-align: top;\n",
       "    }\n",
       "\n",
       "    .dataframe thead th {\n",
       "        text-align: right;\n",
       "    }\n",
       "</style>\n",
       "<table border=\"1\" class=\"dataframe\">\n",
       "  <thead>\n",
       "    <tr style=\"text-align: right;\">\n",
       "      <th></th>\n",
       "      <th>gmm_ocd_all</th>\n",
       "      <th>gmm_ocd_plaza</th>\n",
       "      <th>gmm_description</th>\n",
       "      <th>GMM:ShortName</th>\n",
       "      <th>GMM:Synonyms</th>\n",
       "    </tr>\n",
       "    <tr>\n",
       "      <th>GeneID</th>\n",
       "      <th></th>\n",
       "      <th></th>\n",
       "      <th></th>\n",
       "      <th></th>\n",
       "      <th></th>\n",
       "    </tr>\n",
       "  </thead>\n",
       "  <tbody>\n",
       "    <tr>\n",
       "      <th>AT1G01010</th>\n",
       "      <td>OCD_all_012402</td>\n",
       "      <td>OCD_PLAZA_011642</td>\n",
       "      <td>NAC domain containing protein 1</td>\n",
       "      <td>NAC001</td>\n",
       "      <td>ANAC001,NAC001,NTL10</td>\n",
       "    </tr>\n",
       "    <tr>\n",
       "      <th>AT1G01020</th>\n",
       "      <td>OCD_all_006935</td>\n",
       "      <td>OCD_PLAZA_005240</td>\n",
       "      <td>ARV1 family protein</td>\n",
       "      <td>ARV1</td>\n",
       "      <td>ARV1</td>\n",
       "    </tr>\n",
       "    <tr>\n",
       "      <th>AT1G01030</th>\n",
       "      <td>OCD_all_001050</td>\n",
       "      <td>OCD_PLAZA_024590</td>\n",
       "      <td>AP2/B3-like transcriptional factor family protein</td>\n",
       "      <td>NGA3</td>\n",
       "      <td>NGA3</td>\n",
       "    </tr>\n",
       "    <tr>\n",
       "      <th>AT1G01040</th>\n",
       "      <td>OCD_all_000310</td>\n",
       "      <td>OCD_PLAZA_001847</td>\n",
       "      <td>dicer-like 1</td>\n",
       "      <td>DCL1</td>\n",
       "      <td>ASU1,ATDCL1,CAF,DCL1,EMB60,EMB76,SIN1,SUS1</td>\n",
       "    </tr>\n",
       "    <tr>\n",
       "      <th>AT1G01046</th>\n",
       "      <td>OCD_all_146545</td>\n",
       "      <td>OCD_PLAZA_162139</td>\n",
       "      <td>microRNA 838A</td>\n",
       "      <td>MIR838A</td>\n",
       "      <td></td>\n",
       "    </tr>\n",
       "  </tbody>\n",
       "</table>\n",
       "</div>"
      ],
      "text/plain": [
       "              gmm_ocd_all     gmm_ocd_plaza  \\\n",
       "GeneID                                        \n",
       "AT1G01010  OCD_all_012402  OCD_PLAZA_011642   \n",
       "AT1G01020  OCD_all_006935  OCD_PLAZA_005240   \n",
       "AT1G01030  OCD_all_001050  OCD_PLAZA_024590   \n",
       "AT1G01040  OCD_all_000310  OCD_PLAZA_001847   \n",
       "AT1G01046  OCD_all_146545  OCD_PLAZA_162139   \n",
       "\n",
       "                                             gmm_description GMM:ShortName  \\\n",
       "GeneID                                                                       \n",
       "AT1G01010                    NAC domain containing protein 1        NAC001   \n",
       "AT1G01020                                ARV1 family protein          ARV1   \n",
       "AT1G01030  AP2/B3-like transcriptional factor family protein          NGA3   \n",
       "AT1G01040                                       dicer-like 1          DCL1   \n",
       "AT1G01046                                      microRNA 838A       MIR838A   \n",
       "\n",
       "                                         GMM:Synonyms  \n",
       "GeneID                                                 \n",
       "AT1G01010                        ANAC001,NAC001,NTL10  \n",
       "AT1G01020                                        ARV1  \n",
       "AT1G01030                                        NGA3  \n",
       "AT1G01040  ASU1,ATDCL1,CAF,DCL1,EMB60,EMB76,SIN1,SUS1  \n",
       "AT1G01046                                              "
      ]
     },
     "execution_count": 349,
     "metadata": {},
     "output_type": "execute_result"
    }
   ],
   "source": [
    "df2 = pd.read_excel(base_path / \"data\" /\"raw\" / \"v2.7.9_PIS-model.xlsx\", \n",
    "                    sheet_name=\"defGMM\", \n",
    "                    header=[0], \n",
    "                    dtype=str, \n",
    "                    usecols=[0, 1, 2, 3, 4, 5],\n",
    "                    converters={\"GMM:Synonyms\": lambda x: '' if x =='NULL' else ','.join([s.strip() for s in x.split(\"|\")])}\n",
    ")\n",
    "for c in df2.columns:\n",
    "    df2[c] = df2[c].str.strip()\n",
    "df2.fillna('', inplace=True)\n",
    "df2.set_index(\"GeneID\", inplace=True)\n",
    "\n",
    "df2.columns = ['gmm_ocd_all', 'gmm_ocd_plaza', 'gmm_description', 'GMM:ShortName',\n",
    "       'GMM:Synonyms']\n",
    "\n",
    "\n",
    "df2.head()"
   ]
  },
  {
   "cell_type": "code",
   "execution_count": 369,
   "metadata": {},
   "outputs": [
    {
     "data": {
      "text/html": [
       "<div>\n",
       "<style scoped>\n",
       "    .dataframe tbody tr th:only-of-type {\n",
       "        vertical-align: middle;\n",
       "    }\n",
       "\n",
       "    .dataframe tbody tr th {\n",
       "        vertical-align: top;\n",
       "    }\n",
       "\n",
       "    .dataframe thead th {\n",
       "        text-align: right;\n",
       "    }\n",
       "</style>\n",
       "<table border=\"1\" class=\"dataframe\">\n",
       "  <thead>\n",
       "    <tr style=\"text-align: right;\">\n",
       "      <th></th>\n",
       "      <th>pis_shortname</th>\n",
       "      <th>pis_synonyms</th>\n",
       "      <th>pis_description</th>\n",
       "      <th>additional_information</th>\n",
       "    </tr>\n",
       "    <tr>\n",
       "      <th>NodeID</th>\n",
       "      <th></th>\n",
       "      <th></th>\n",
       "      <th></th>\n",
       "      <th></th>\n",
       "    </tr>\n",
       "  </thead>\n",
       "  <tbody>\n",
       "    <tr>\n",
       "      <th>AT1G02500</th>\n",
       "      <td>SAM1</td>\n",
       "      <td>AtSAM1,MAT1,METK1,SAM-1,SAM1</td>\n",
       "      <td>SAM synthetase [EC:2.5.1.6]</td>\n",
       "      <td></td>\n",
       "    </tr>\n",
       "    <tr>\n",
       "      <th>AT4G01850</th>\n",
       "      <td>SAM2</td>\n",
       "      <td>AtSAM2,MAT2,SAM-2,SAM2</td>\n",
       "      <td>SAM synthetase [EC:2.5.1.6]</td>\n",
       "      <td></td>\n",
       "    </tr>\n",
       "    <tr>\n",
       "      <th>AT2G36880</th>\n",
       "      <td>SAM3</td>\n",
       "      <td>MAT3,METK3</td>\n",
       "      <td>SAM synthetase [EC:2.5.1.6]</td>\n",
       "      <td></td>\n",
       "    </tr>\n",
       "    <tr>\n",
       "      <th>AT3G17390</th>\n",
       "      <td>SAM4</td>\n",
       "      <td>MAT4,METK4,MTO3,SAMS3,SAM4</td>\n",
       "      <td>SAM synthetase [EC:2.5.1.6]</td>\n",
       "      <td></td>\n",
       "    </tr>\n",
       "    <tr>\n",
       "      <th>AT3G61510</th>\n",
       "      <td>ACS1</td>\n",
       "      <td>ACC2,ACS1,AT-ACS1</td>\n",
       "      <td>ACC synthase [EC:4.4.1.14]</td>\n",
       "      <td></td>\n",
       "    </tr>\n",
       "  </tbody>\n",
       "</table>\n",
       "</div>"
      ],
      "text/plain": [
       "          pis_shortname                  pis_synonyms  \\\n",
       "NodeID                                                  \n",
       "AT1G02500          SAM1  AtSAM1,MAT1,METK1,SAM-1,SAM1   \n",
       "AT4G01850          SAM2        AtSAM2,MAT2,SAM-2,SAM2   \n",
       "AT2G36880          SAM3                    MAT3,METK3   \n",
       "AT3G17390          SAM4    MAT4,METK4,MTO3,SAMS3,SAM4   \n",
       "AT3G61510          ACS1             ACC2,ACS1,AT-ACS1   \n",
       "\n",
       "                       pis_description additional_information  \n",
       "NodeID                                                         \n",
       "AT1G02500  SAM synthetase [EC:2.5.1.6]                         \n",
       "AT4G01850  SAM synthetase [EC:2.5.1.6]                         \n",
       "AT2G36880  SAM synthetase [EC:2.5.1.6]                         \n",
       "AT3G17390  SAM synthetase [EC:2.5.1.6]                         \n",
       "AT3G61510   ACC synthase [EC:4.4.1.14]                         "
      ]
     },
     "execution_count": 369,
     "metadata": {},
     "output_type": "execute_result"
    }
   ],
   "source": [
    "df3 = pd.read_excel(base_path / \"data\" /\"raw\" / \"v2.7.9_PIS-model.xlsx\", \n",
    "                    sheet_name=\"Components\", \n",
    "                    header=[1], \n",
    "                    dtype=str, \n",
    "                    na_values=helpers.empty_strings,\n",
    "                    usecols=[4, 7, 8, 9, 11, 12],\n",
    ")\n",
    "for c in df3.columns:\n",
    "    df3[c] = df3[c].str.strip()\n",
    "df3.fillna('', inplace=True)\n",
    "\n",
    "df3 = df3[df3['NodeType']=='plant_coding']\n",
    "\n",
    "df3[\"GMM:Synonyms\"] = df3[\"GMM:Synonyms\"].apply(lambda x: '' if x =='NULL' else ','.join([s.strip() for s in x.split(\"|\")]))\n",
    "\n",
    "df3 = df3[[\"NodeID\", \"NodeName\",  \"GMM:Synonyms\", \"NodeDescription\", \"AdditionalInfo\"]]\n",
    "df3.columns = [\"NodeID\", \"pis_shortname\", \"pis_synonyms\", \"pis_description\",  \"additional_information\"]\n",
    "\n",
    "df3.set_index(\"NodeID\", inplace=True)\n",
    "\n",
    "df3.head()"
   ]
  },
  {
   "cell_type": "code",
   "execution_count": 386,
   "metadata": {
    "scrolled": true
   },
   "outputs": [],
   "source": [
    "df = df1.join(df2, how='outer').join(df3, how='outer')\n",
    "df.fillna('', inplace=True)"
   ]
  },
  {
   "cell_type": "code",
   "execution_count": 387,
   "metadata": {},
   "outputs": [
    {
     "data": {
      "text/plain": [
       "(488956, 12)"
      ]
     },
     "execution_count": 387,
     "metadata": {},
     "output_type": "execute_result"
    }
   ],
   "source": [
    "df.shape"
   ]
  },
  {
   "cell_type": "code",
   "execution_count": 388,
   "metadata": {},
   "outputs": [
    {
     "data": {
      "text/html": [
       "<div>\n",
       "<style scoped>\n",
       "    .dataframe tbody tr th:only-of-type {\n",
       "        vertical-align: middle;\n",
       "    }\n",
       "\n",
       "    .dataframe tbody tr th {\n",
       "        vertical-align: top;\n",
       "    }\n",
       "\n",
       "    .dataframe thead th {\n",
       "        text-align: right;\n",
       "    }\n",
       "</style>\n",
       "<table border=\"1\" class=\"dataframe\">\n",
       "  <thead>\n",
       "    <tr style=\"text-align: right;\">\n",
       "      <th></th>\n",
       "      <th>gmm_description1</th>\n",
       "      <th>short_name</th>\n",
       "      <th>synonyms</th>\n",
       "      <th>gmm_ocd_all</th>\n",
       "      <th>gmm_ocd_plaza</th>\n",
       "      <th>gmm_description</th>\n",
       "      <th>GMM:ShortName</th>\n",
       "      <th>GMM:Synonyms</th>\n",
       "      <th>pis_shortname</th>\n",
       "      <th>pis_synonyms</th>\n",
       "      <th>pis_description</th>\n",
       "      <th>additional_information</th>\n",
       "    </tr>\n",
       "  </thead>\n",
       "  <tbody>\n",
       "    <tr>\n",
       "      <th>007A03AF.esd</th>\n",
       "      <td></td>\n",
       "      <td></td>\n",
       "      <td></td>\n",
       "      <td></td>\n",
       "      <td></td>\n",
       "      <td></td>\n",
       "      <td></td>\n",
       "      <td></td>\n",
       "      <td></td>\n",
       "      <td></td>\n",
       "      <td></td>\n",
       "      <td></td>\n",
       "    </tr>\n",
       "    <tr>\n",
       "      <th>027A04AF.esd</th>\n",
       "      <td>hypothetical protein [Neurospora crassa] gb_EA...</td>\n",
       "      <td></td>\n",
       "      <td></td>\n",
       "      <td></td>\n",
       "      <td></td>\n",
       "      <td></td>\n",
       "      <td></td>\n",
       "      <td></td>\n",
       "      <td></td>\n",
       "      <td></td>\n",
       "      <td></td>\n",
       "      <td></td>\n",
       "    </tr>\n",
       "    <tr>\n",
       "      <th>027D07AF.esd</th>\n",
       "      <td></td>\n",
       "      <td></td>\n",
       "      <td></td>\n",
       "      <td></td>\n",
       "      <td></td>\n",
       "      <td></td>\n",
       "      <td></td>\n",
       "      <td></td>\n",
       "      <td></td>\n",
       "      <td></td>\n",
       "      <td></td>\n",
       "      <td></td>\n",
       "    </tr>\n",
       "    <tr>\n",
       "      <th>028C01AF.esd</th>\n",
       "      <td></td>\n",
       "      <td></td>\n",
       "      <td></td>\n",
       "      <td></td>\n",
       "      <td></td>\n",
       "      <td></td>\n",
       "      <td></td>\n",
       "      <td></td>\n",
       "      <td></td>\n",
       "      <td></td>\n",
       "      <td></td>\n",
       "      <td></td>\n",
       "    </tr>\n",
       "    <tr>\n",
       "      <th>032H03AF.esd</th>\n",
       "      <td></td>\n",
       "      <td></td>\n",
       "      <td></td>\n",
       "      <td></td>\n",
       "      <td></td>\n",
       "      <td></td>\n",
       "      <td></td>\n",
       "      <td></td>\n",
       "      <td></td>\n",
       "      <td></td>\n",
       "      <td></td>\n",
       "      <td></td>\n",
       "    </tr>\n",
       "  </tbody>\n",
       "</table>\n",
       "</div>"
      ],
      "text/plain": [
       "                                               gmm_description1 short_name  \\\n",
       "007A03AF.esd                                                                 \n",
       "027A04AF.esd  hypothetical protein [Neurospora crassa] gb_EA...              \n",
       "027D07AF.esd                                                                 \n",
       "028C01AF.esd                                                                 \n",
       "032H03AF.esd                                                                 \n",
       "\n",
       "             synonyms gmm_ocd_all gmm_ocd_plaza gmm_description GMM:ShortName  \\\n",
       "007A03AF.esd                                                                    \n",
       "027A04AF.esd                                                                    \n",
       "027D07AF.esd                                                                    \n",
       "028C01AF.esd                                                                    \n",
       "032H03AF.esd                                                                    \n",
       "\n",
       "             GMM:Synonyms pis_shortname pis_synonyms pis_description  \\\n",
       "007A03AF.esd                                                           \n",
       "027A04AF.esd                                                           \n",
       "027D07AF.esd                                                           \n",
       "028C01AF.esd                                                           \n",
       "032H03AF.esd                                                           \n",
       "\n",
       "             additional_information  \n",
       "007A03AF.esd                         \n",
       "027A04AF.esd                         \n",
       "027D07AF.esd                         \n",
       "028C01AF.esd                         \n",
       "032H03AF.esd                         "
      ]
     },
     "execution_count": 388,
     "metadata": {},
     "output_type": "execute_result"
    }
   ],
   "source": [
    "df.head()"
   ]
  },
  {
   "cell_type": "code",
   "execution_count": 389,
   "metadata": {},
   "outputs": [
    {
     "data": {
      "text/plain": [
       "gmm_description1                                   isopentenyltransferase 3\n",
       "short_name                                                             IPT3\n",
       "synonyms                                                        ATIPT3,IPT3\n",
       "gmm_ocd_all                                                  OCD_all_001709\n",
       "gmm_ocd_plaza                                              OCD_PLAZA_010676\n",
       "gmm_description                                    isopentenyltransferase 3\n",
       "GMM:ShortName                                                          IPT3\n",
       "GMM:Synonyms                                                    ATIPT3,IPT3\n",
       "pis_shortname                                                          IPT3\n",
       "pis_synonyms                                                    ATIPT3,IPT3\n",
       "pis_description           adenylate dimethylallyltransferase EC:2.5.1.27...\n",
       "additional_information                             isopentenyltransferase 3\n",
       "Name: AT3G63110, dtype: object"
      ]
     },
     "execution_count": 389,
     "metadata": {},
     "output_type": "execute_result"
    }
   ],
   "source": [
    "df.loc['AT3G63110']"
   ]
  },
  {
   "cell_type": "code",
   "execution_count": 390,
   "metadata": {},
   "outputs": [],
   "source": [
    "def get_gmm_description_one(x):\n",
    "    zd = x[\"gmm_description1\"] #ziva file\n",
    "    fd = x[\"gmm_description\"]  #xtra sheet in PIS\n",
    "    \n",
    "    if zd != '':\n",
    "        return zd\n",
    "    else:\n",
    "        return fd\n",
    "\n",
    "\n",
    "\n",
    "df[\"new_gmm_description\"] = df[[\"gmm_description1\", \"gmm_description\", \"pis_description\"]].apply(get_gmm_description_one, axis=1)"
   ]
  },
  {
   "cell_type": "code",
   "execution_count": 391,
   "metadata": {},
   "outputs": [],
   "source": [
    "def get_description_one(x):\n",
    "    zd = x[\"gmm_description1\"] #ziva file\n",
    "    fd = x[\"gmm_description\"]  #xtra sheet in PIS\n",
    "    lr = x[\"pis_description\"]  #pis NodeDescription\n",
    "    \n",
    "    if lr != '':\n",
    "        return lr\n",
    "    elif fd != '':\n",
    "        return fd\n",
    "    else:\n",
    "        return zd\n",
    "\n",
    "\n",
    "df[\"new_description\"] = df[[\"gmm_description1\", \"gmm_description\", \"pis_description\"]].apply(get_description_one, axis=1)"
   ]
  },
  {
   "cell_type": "code",
   "execution_count": 392,
   "metadata": {},
   "outputs": [],
   "source": [
    "def get_set(x):\n",
    "    zd = x[\"synonyms\"]\n",
    "    fd = x[\"GMM:Synonyms\"]\n",
    "    lr = x[\"pis_synonyms\"]\n",
    "\n",
    "    s = set(zd.split(\",\") + fd.split(\",\") + lr.split(\",\") + [x[\"pis_shortname\"], x[\"short_name\"]])\n",
    "    s.discard('')\n",
    "    \n",
    "    return ','.join(list(s))\n",
    "\n",
    "df[\"new_synonyms\"] = df[[\"pis_shortname\", \"short_name\", \"synonyms\", \"GMM:Synonyms\", \"pis_synonyms\"]].apply(get_set, axis=1)"
   ]
  },
  {
   "cell_type": "code",
   "execution_count": 393,
   "metadata": {},
   "outputs": [
    {
     "data": {
      "text/html": [
       "<div>\n",
       "<style scoped>\n",
       "    .dataframe tbody tr th:only-of-type {\n",
       "        vertical-align: middle;\n",
       "    }\n",
       "\n",
       "    .dataframe tbody tr th {\n",
       "        vertical-align: top;\n",
       "    }\n",
       "\n",
       "    .dataframe thead th {\n",
       "        text-align: right;\n",
       "    }\n",
       "</style>\n",
       "<table border=\"1\" class=\"dataframe\">\n",
       "  <thead>\n",
       "    <tr style=\"text-align: right;\">\n",
       "      <th></th>\n",
       "      <th>gmm_description1</th>\n",
       "      <th>short_name</th>\n",
       "      <th>synonyms</th>\n",
       "      <th>gmm_ocd_all</th>\n",
       "      <th>gmm_ocd_plaza</th>\n",
       "      <th>gmm_description</th>\n",
       "      <th>GMM:ShortName</th>\n",
       "      <th>GMM:Synonyms</th>\n",
       "      <th>pis_shortname</th>\n",
       "      <th>pis_synonyms</th>\n",
       "      <th>pis_description</th>\n",
       "      <th>additional_information</th>\n",
       "      <th>new_gmm_description</th>\n",
       "      <th>new_description</th>\n",
       "      <th>new_synonyms</th>\n",
       "    </tr>\n",
       "  </thead>\n",
       "  <tbody>\n",
       "    <tr>\n",
       "      <th>tr|W5IC80|W5IC80_WHEAT</th>\n",
       "      <td>Uncharacterized protein</td>\n",
       "      <td></td>\n",
       "      <td></td>\n",
       "      <td></td>\n",
       "      <td></td>\n",
       "      <td></td>\n",
       "      <td></td>\n",
       "      <td></td>\n",
       "      <td></td>\n",
       "      <td></td>\n",
       "      <td></td>\n",
       "      <td></td>\n",
       "      <td>Uncharacterized protein</td>\n",
       "      <td>Uncharacterized protein</td>\n",
       "      <td></td>\n",
       "    </tr>\n",
       "    <tr>\n",
       "      <th>tr|W5ICC7|W5ICC7_WHEAT</th>\n",
       "      <td>Uncharacterized protein</td>\n",
       "      <td></td>\n",
       "      <td></td>\n",
       "      <td></td>\n",
       "      <td></td>\n",
       "      <td></td>\n",
       "      <td></td>\n",
       "      <td></td>\n",
       "      <td></td>\n",
       "      <td></td>\n",
       "      <td></td>\n",
       "      <td></td>\n",
       "      <td>Uncharacterized protein</td>\n",
       "      <td>Uncharacterized protein</td>\n",
       "      <td></td>\n",
       "    </tr>\n",
       "    <tr>\n",
       "      <th>tr|W5QKY9|W5QKY9_WHEAT</th>\n",
       "      <td>Chalcone-flavonone isomerase family protein</td>\n",
       "      <td></td>\n",
       "      <td></td>\n",
       "      <td></td>\n",
       "      <td></td>\n",
       "      <td></td>\n",
       "      <td></td>\n",
       "      <td></td>\n",
       "      <td></td>\n",
       "      <td></td>\n",
       "      <td></td>\n",
       "      <td></td>\n",
       "      <td>Chalcone-flavonone isomerase family protein</td>\n",
       "      <td>Chalcone-flavonone isomerase family protein</td>\n",
       "      <td></td>\n",
       "    </tr>\n",
       "    <tr>\n",
       "      <th>tr|W6EK34|W6EK34_WHEAT</th>\n",
       "      <td>S-adenosylmethionine decarboxylase proenzyme</td>\n",
       "      <td></td>\n",
       "      <td></td>\n",
       "      <td></td>\n",
       "      <td></td>\n",
       "      <td></td>\n",
       "      <td></td>\n",
       "      <td></td>\n",
       "      <td></td>\n",
       "      <td></td>\n",
       "      <td></td>\n",
       "      <td></td>\n",
       "      <td>S-adenosylmethionine decarboxylase proenzyme</td>\n",
       "      <td>S-adenosylmethionine decarboxylase proenzyme</td>\n",
       "      <td></td>\n",
       "    </tr>\n",
       "    <tr>\n",
       "      <th>tr|X5DA31|X5DA31_WHEAT</th>\n",
       "      <td>Squamosa promoter-binding-like protein 21</td>\n",
       "      <td></td>\n",
       "      <td></td>\n",
       "      <td></td>\n",
       "      <td></td>\n",
       "      <td></td>\n",
       "      <td></td>\n",
       "      <td></td>\n",
       "      <td></td>\n",
       "      <td></td>\n",
       "      <td></td>\n",
       "      <td></td>\n",
       "      <td>Squamosa promoter-binding-like protein 21</td>\n",
       "      <td>Squamosa promoter-binding-like protein 21</td>\n",
       "      <td></td>\n",
       "    </tr>\n",
       "  </tbody>\n",
       "</table>\n",
       "</div>"
      ],
      "text/plain": [
       "                                                    gmm_description1  \\\n",
       "tr|W5IC80|W5IC80_WHEAT                       Uncharacterized protein   \n",
       "tr|W5ICC7|W5ICC7_WHEAT                       Uncharacterized protein   \n",
       "tr|W5QKY9|W5QKY9_WHEAT   Chalcone-flavonone isomerase family protein   \n",
       "tr|W6EK34|W6EK34_WHEAT  S-adenosylmethionine decarboxylase proenzyme   \n",
       "tr|X5DA31|X5DA31_WHEAT     Squamosa promoter-binding-like protein 21   \n",
       "\n",
       "                       short_name synonyms gmm_ocd_all gmm_ocd_plaza  \\\n",
       "tr|W5IC80|W5IC80_WHEAT                                                 \n",
       "tr|W5ICC7|W5ICC7_WHEAT                                                 \n",
       "tr|W5QKY9|W5QKY9_WHEAT                                                 \n",
       "tr|W6EK34|W6EK34_WHEAT                                                 \n",
       "tr|X5DA31|X5DA31_WHEAT                                                 \n",
       "\n",
       "                       gmm_description GMM:ShortName GMM:Synonyms  \\\n",
       "tr|W5IC80|W5IC80_WHEAT                                              \n",
       "tr|W5ICC7|W5ICC7_WHEAT                                              \n",
       "tr|W5QKY9|W5QKY9_WHEAT                                              \n",
       "tr|W6EK34|W6EK34_WHEAT                                              \n",
       "tr|X5DA31|X5DA31_WHEAT                                              \n",
       "\n",
       "                       pis_shortname pis_synonyms pis_description  \\\n",
       "tr|W5IC80|W5IC80_WHEAT                                              \n",
       "tr|W5ICC7|W5ICC7_WHEAT                                              \n",
       "tr|W5QKY9|W5QKY9_WHEAT                                              \n",
       "tr|W6EK34|W6EK34_WHEAT                                              \n",
       "tr|X5DA31|X5DA31_WHEAT                                              \n",
       "\n",
       "                       additional_information  \\\n",
       "tr|W5IC80|W5IC80_WHEAT                          \n",
       "tr|W5ICC7|W5ICC7_WHEAT                          \n",
       "tr|W5QKY9|W5QKY9_WHEAT                          \n",
       "tr|W6EK34|W6EK34_WHEAT                          \n",
       "tr|X5DA31|X5DA31_WHEAT                          \n",
       "\n",
       "                                                 new_gmm_description  \\\n",
       "tr|W5IC80|W5IC80_WHEAT                       Uncharacterized protein   \n",
       "tr|W5ICC7|W5ICC7_WHEAT                       Uncharacterized protein   \n",
       "tr|W5QKY9|W5QKY9_WHEAT   Chalcone-flavonone isomerase family protein   \n",
       "tr|W6EK34|W6EK34_WHEAT  S-adenosylmethionine decarboxylase proenzyme   \n",
       "tr|X5DA31|X5DA31_WHEAT     Squamosa promoter-binding-like protein 21   \n",
       "\n",
       "                                                     new_description  \\\n",
       "tr|W5IC80|W5IC80_WHEAT                       Uncharacterized protein   \n",
       "tr|W5ICC7|W5ICC7_WHEAT                       Uncharacterized protein   \n",
       "tr|W5QKY9|W5QKY9_WHEAT   Chalcone-flavonone isomerase family protein   \n",
       "tr|W6EK34|W6EK34_WHEAT  S-adenosylmethionine decarboxylase proenzyme   \n",
       "tr|X5DA31|X5DA31_WHEAT     Squamosa promoter-binding-like protein 21   \n",
       "\n",
       "                       new_synonyms  \n",
       "tr|W5IC80|W5IC80_WHEAT               \n",
       "tr|W5ICC7|W5ICC7_WHEAT               \n",
       "tr|W5QKY9|W5QKY9_WHEAT               \n",
       "tr|W6EK34|W6EK34_WHEAT               \n",
       "tr|X5DA31|X5DA31_WHEAT               "
      ]
     },
     "execution_count": 393,
     "metadata": {},
     "output_type": "execute_result"
    }
   ],
   "source": [
    "df.tail()"
   ]
  },
  {
   "cell_type": "code",
   "execution_count": 394,
   "metadata": {},
   "outputs": [],
   "source": [
    "df = df[[\"new_description\", \"new_gmm_description\", \"new_synonyms\", \"additional_information\"]]\n",
    "df.columns = [\"description\", \"gmm_description\", \"synonyms\", \"additional_information\"]"
   ]
  },
  {
   "cell_type": "code",
   "execution_count": 395,
   "metadata": {},
   "outputs": [
    {
     "data": {
      "text/plain": [
       "description                              cytokinin hydroxylase EC:1.14.13.-\n",
       "gmm_description           cytochrome P450%2C family 735%2C subfamily A%2...\n",
       "synonyms                                                           CYP735A1\n",
       "additional_information                                 Cytochrome P450 35A1\n",
       "Name: AT5G38450, dtype: object"
      ]
     },
     "execution_count": 395,
     "metadata": {},
     "output_type": "execute_result"
    }
   ],
   "source": [
    "df.loc['AT5G38450']"
   ]
  },
  {
   "cell_type": "code",
   "execution_count": 396,
   "metadata": {},
   "outputs": [
    {
     "data": {
      "text/plain": [
       "description                                           D53; Protein DWARF 53\n",
       "gmm_description                                                            \n",
       "synonyms                                                                D53\n",
       "additional_information    D53 binds to the complex S-D14-MAX2 to be degr...\n",
       "Name: Os11g0104300, dtype: object"
      ]
     },
     "execution_count": 396,
     "metadata": {},
     "output_type": "execute_result"
    }
   ],
   "source": [
    "df.loc['Os11g0104300']"
   ]
  },
  {
   "cell_type": "code",
   "execution_count": 397,
   "metadata": {},
   "outputs": [
    {
     "data": {
      "text/plain": [
       "description                                F-box protein GID2\n",
       "gmm_description           14-3-3 protein, putative, expressed\n",
       "synonyms                                                 GID2\n",
       "additional_information                                       \n",
       "Name: LOC_Os02g36974, dtype: object"
      ]
     },
     "execution_count": 397,
     "metadata": {},
     "output_type": "execute_result"
    }
   ],
   "source": [
    "df.loc['LOC_Os02g36974']"
   ]
  },
  {
   "cell_type": "code",
   "execution_count": 398,
   "metadata": {},
   "outputs": [
    {
     "data": {
      "text/plain": [
       " n                                                                                                                                                          | size(n.ath_homologues) \n",
       "------------------------------------------------------------------------------------------------------------------------------------------------------------|------------------------\n",
       " (_391:FunctionalCluster:PlantCoding {ath_homologues: ['AT3G03990'], family: '&alpha;/&beta; hydroxylase', name: 'D14[AT3G03990]', pathway: 'Hormone:SLs'}) |                      1 "
      ]
     },
     "execution_count": 398,
     "metadata": {},
     "output_type": "execute_result"
    }
   ],
   "source": [
    "cy = \"\"\"\n",
    "    MATCH (n:FunctionalCluster)\n",
    "    WHERE size(n.ath_homologues) = 1\n",
    "    AND \"AT3G03990\" IN n.ath_homologues\n",
    "    RETURN n, size(n.ath_homologues)\n",
    "\"\"\"\n",
    "\n",
    "qr = graph.run(cy)\n",
    "qr"
   ]
  },
  {
   "cell_type": "code",
   "execution_count": 399,
   "metadata": {},
   "outputs": [
    {
     "data": {
      "text/plain": [
       " count(*) \n",
       "----------\n",
       "      134 "
      ]
     },
     "execution_count": 399,
     "metadata": {},
     "output_type": "execute_result"
    }
   ],
   "source": [
    "cy = \"\"\"\n",
    "    MATCH (n:FunctionalCluster:PlantCoding)\n",
    "    WHERE size(n.ath_homologues) = 1\n",
    "    AND n.sly_homologues IS NULL\n",
    "    AND n.stu_homologues IS NULL\n",
    "    AND n.osa_homologues IS NULL\n",
    "    RETURN count(*)\n",
    "\"\"\"\n",
    "\n",
    "qr = graph.run(cy)\n",
    "qr"
   ]
  },
  {
   "cell_type": "code",
   "execution_count": 400,
   "metadata": {},
   "outputs": [
    {
     "data": {
      "text/plain": [
       " count(*) \n",
       "----------\n",
       "        0 "
      ]
     },
     "execution_count": 400,
     "metadata": {},
     "output_type": "execute_result"
    }
   ],
   "source": [
    "cy = \"\"\"\n",
    "    MATCH (n:FunctionalCluster:PlantCoding)\n",
    "    WHERE size(n.sly_homologues) = 1\n",
    "    AND n.ath_homologues IS NULL\n",
    "    AND n.stu_homologues IS NULL\n",
    "    AND n.osa_homologues IS NULL    \n",
    "    RETURN count(*)\n",
    "\"\"\"\n",
    "\n",
    "qr = graph.run(cy)\n",
    "qr"
   ]
  },
  {
   "cell_type": "code",
   "execution_count": 401,
   "metadata": {},
   "outputs": [
    {
     "data": {
      "text/plain": [
       " count(*) \n",
       "----------\n",
       "        8 "
      ]
     },
     "execution_count": 401,
     "metadata": {},
     "output_type": "execute_result"
    }
   ],
   "source": [
    "cy = \"\"\"\n",
    "    MATCH (n:FunctionalCluster:PlantCoding)\n",
    "    WHERE size(n.stu_homologues) = 1\n",
    "    AND n.sly_homologues IS NULL\n",
    "    AND n.ath_homologues IS NULL\n",
    "    AND n.osa_homologues IS NULL    \n",
    "    RETURN count(*)\n",
    "\"\"\"\n",
    "\n",
    "qr = graph.run(cy)\n",
    "qr"
   ]
  },
  {
   "cell_type": "code",
   "execution_count": 402,
   "metadata": {},
   "outputs": [
    {
     "data": {
      "text/plain": [
       " count(*) \n",
       "----------\n",
       "        5 "
      ]
     },
     "execution_count": 402,
     "metadata": {},
     "output_type": "execute_result"
    }
   ],
   "source": [
    "cy = \"\"\"\n",
    "    MATCH (n:FunctionalCluster:PlantCoding)\n",
    "    WHERE size(n.osa_homologues) = 1\n",
    "    AND n.sly_homologues IS NULL\n",
    "    AND n.stu_homologues IS NULL\n",
    "    AND n.ath_homologues IS NULL    \n",
    "    RETURN count(*)\n",
    "\"\"\"\n",
    "\n",
    "qr = graph.run(cy)\n",
    "qr"
   ]
  },
  {
   "cell_type": "code",
   "execution_count": 403,
   "metadata": {},
   "outputs": [],
   "source": [
    "df.index.name = 'identifier'"
   ]
  },
  {
   "cell_type": "code",
   "execution_count": 404,
   "metadata": {},
   "outputs": [
    {
     "name": "stdout",
     "output_type": "stream",
     "text": [
      "ath 33341\n",
      "sly 35768\n",
      "stu 35004\n"
     ]
    }
   ],
   "source": [
    "per_species = {}\n",
    "for species, prefix in [\n",
    "    ('ath', \"AT\"),\n",
    "    #('osa', ), os in table are LOC_Os????\n",
    "    ('sly', \"Soly\"), \n",
    "    ('stu', 'Sotub', )\n",
    "     ]:\n",
    "    tdf = df[df.index.str.startswith(prefix)]\n",
    "    print(species, tdf.shape[0])\n",
    "    f = f\"gmm_annot_Prot-{species}.tsv\"\n",
    "    tdf.reset_index().to_csv(base_path / \"data\" / \"import\" / f, sep=\"\\t\", index=None)\n",
    "    per_species[species]  = f"
   ]
  },
  {
   "cell_type": "code",
   "execution_count": 441,
   "metadata": {},
   "outputs": [],
   "source": [
    "#x_found['new_synonyms'] = x_found['n.name'].apply(lambda x : x.split(\"[\")[0])\n",
    "def get_synonyms(x):\n",
    "    synonyms = [x['short_name']]\n",
    "\n",
    "    if x['line.short_name']:\n",
    "        synonyms.append(x['line.short_name'])\n",
    "    \n",
    "    if x['line.synonyms']:\n",
    "        synonyms += x['line.synonyms'].split(',')\n",
    "    \n",
    "    synonyms = [x.strip().upper() for x in synonyms]\n",
    "    \n",
    "    synonyms = set(synonyms)\n",
    "    synonyms.discard('')\n",
    "    \n",
    "    return ','.join(sorted(list(synonyms)))\n",
    "    \n",
    "def combine_exists_and_found(species):\n",
    "    f = per_species[species]\n",
    "\n",
    "    s_exc = ''\n",
    "    for sp2 in [\"ath\", \"osa\", \"sly\", \"stu\"]:\n",
    "        if sp2 != species:\n",
    "            s_exc += f\"AND n.{sp2}_homologues IS NULL\\n\"\n",
    "    \n",
    "    \n",
    "    cy = '''\n",
    "    LOAD CSV WITH HEADERS FROM  'file:///{file}' AS line FIELDTERMINATOR '\\t'\n",
    "           MATCH (n:{label})\n",
    "           WHERE size(n.{species}_homologues) = 1\n",
    "           {s_exc}\n",
    "           AND ANY ( item IN n.{species}_homologues WHERE item =~ \"(?i)\" + line.identifier )\n",
    "           RETURN n.name, line.short_name, n.description, line.description, n.synonyms, line.synonyms, line.gmm_description \n",
    "    '''.format(label=\"FunctionalCluster\", file=f, species=species, s_exc=s_exc)\n",
    "    print(cy)\n",
    "    qr = graph.run(cy)    \n",
    "    x_found = pd.DataFrame(qr.data())\n",
    "    print(len(x_found))\n",
    "    \n",
    "    x_found['short_name'] = x_found['n.name'].apply(lambda x : x.split(\"[\")[0])\n",
    "    x_found['synonyms'] = x_found[['line.short_name', 'line.synonyms', 'short_name']].apply(get_synonyms, axis=1)\n",
    "\n",
    "    x_found['name'] = x_found['n.name']\n",
    "    x_found['description'] = x_found['line.description']\n",
    "    x_found['gmm_description'] = x_found['line.gmm_description']\n",
    "\n",
    "    \n",
    "    x_found = x_found[['name', 'short_name', 'synonyms', 'description', 'gmm_description']]\n",
    "    \n",
    "    return x_found\n",
    "\n",
    "def add_properties(species, df):\n",
    "    f = f\"gmm_annot_Prot-{species}-combined.tsv\"\n",
    "\n",
    "    df.to_csv(base_path / \"data\" / \"import\" / f, sep=\"\\t\", index=None)\n",
    "    \n",
    "    cy = '''\n",
    "    LOAD CSV WITH HEADERS FROM  'file:///{file}' AS line FIELDTERMINATOR '\\t'\n",
    "           MATCH (n:{label} {{name:line.name}})\n",
    "           SET n.short_name = line.short_name\n",
    "           SET n.synonyms = split(line.synonyms, ',')\n",
    "           SET n.description = line.description\n",
    "           SET n.gmm_description = line.gmm_description\n",
    "           RETURN n.name \n",
    "    '''.format(label=\"FunctionalCluster\", file=f, species=species, s_exc=s_exc)\n",
    "    print(cy)\n",
    "    qr = graph.run(cy)    \n",
    "    \n",
    "    return qr"
   ]
  },
  {
   "cell_type": "code",
   "execution_count": 443,
   "metadata": {
    "scrolled": true
   },
   "outputs": [
    {
     "name": "stdout",
     "output_type": "stream",
     "text": [
      "\n",
      "    LOAD CSV WITH HEADERS FROM  'file:///gmm_annot_Prot-ath.tsv' AS line FIELDTERMINATOR '\t'\n",
      "           MATCH (n:FunctionalCluster)\n",
      "           WHERE size(n.ath_homologues) = 1\n",
      "           AND n.osa_homologues IS NULL\n",
      "AND n.sly_homologues IS NULL\n",
      "AND n.stu_homologues IS NULL\n",
      "\n",
      "           AND ANY ( item IN n.ath_homologues WHERE item =~ \"(?i)\" + line.identifier )\n",
      "           RETURN n.name, line.short_name, n.description, line.description, n.synonyms, line.synonyms, line.gmm_description \n",
      "    \n",
      "134\n",
      "\n",
      "    LOAD CSV WITH HEADERS FROM  'file:///gmm_annot_Prot-ath-combined.tsv' AS line FIELDTERMINATOR '\t'\n",
      "           MATCH (n:FunctionalCluster {name:line.name})\n",
      "           SET n.short_name = line.short_name\n",
      "           SET n.synonyms = split(line.synonyms, ',')\n",
      "           SET n.description = line.description\n",
      "           SET n.gmm_description = line.gmm_description\n",
      "           RETURN n.name \n",
      "    \n",
      "134\n"
     ]
    }
   ],
   "source": [
    "x_found = combine_exists_and_found(\"ath\")\n",
    "qr = add_properties('ath', x_found)\n",
    "print(len(qr.data()))"
   ]
  },
  {
   "cell_type": "code",
   "execution_count": 436,
   "metadata": {},
   "outputs": [
    {
     "name": "stdout",
     "output_type": "stream",
     "text": [
      "0\n"
     ]
    }
   ],
   "source": []
  },
  {
   "cell_type": "code",
   "execution_count": 437,
   "metadata": {},
   "outputs": [],
   "source": []
  },
  {
   "cell_type": "code",
   "execution_count": 438,
   "metadata": {},
   "outputs": [
    {
     "data": {
      "text/plain": [
       "[{'n.name': 'CPS[SOTUB06G034690.1.1]'},\n",
       " {'n.name': 'GA20ox.x3[SOTUB09G017710.1.1]'},\n",
       " {'n.name': 'GA20ox.x5[SOTUB10G011620.1.1]'},\n",
       " {'n.name': 'GA20ox1[SOTUB03G007160.1.1]'},\n",
       " {'n.name': 'GA20ox3[SOTUB11G029030.1.1]'},\n",
       " {'n.name': 'GA20ox4[SOTUB01G031210.1.1]'},\n",
       " {'n.name': 'GA3ox[SOTUB06G023360.1.1]'},\n",
       " {'n.name': 'MYB33[SOTUB06G030530.1.1]'}]"
      ]
     },
     "execution_count": 438,
     "metadata": {},
     "output_type": "execute_result"
    }
   ],
   "source": [
    "cy = \"\"\"\n",
    "    MATCH (n:FunctionalCluster:PlantCoding)\n",
    "    WHERE size(n.stu_homologues) = 1\n",
    "    AND n.sly_homologues IS NULL\n",
    "    AND n.ath_homologues IS NULL\n",
    "    AND n.osa_homologues IS NULL    \n",
    "    RETURN n.name\n",
    "\"\"\"\n",
    "\n",
    "qr = graph.run(cy)\n",
    "qr.data()"
   ]
  },
  {
   "cell_type": "code",
   "execution_count": null,
   "metadata": {},
   "outputs": [],
   "source": []
  },
  {
   "cell_type": "code",
   "execution_count": null,
   "metadata": {},
   "outputs": [],
   "source": []
  },
  {
   "cell_type": "code",
   "execution_count": 444,
   "metadata": {},
   "outputs": [
    {
     "name": "stdout",
     "output_type": "stream",
     "text": [
      "\n",
      "    LOAD CSV WITH HEADERS FROM  'file:///gmm_annot_Prot-stu.tsv' AS line FIELDTERMINATOR '\t'\n",
      "           MATCH (n:FunctionalCluster)\n",
      "           WHERE size(n.stu_homologues) = 1\n",
      "           AND n.ath_homologues IS NULL\n",
      "AND n.osa_homologues IS NULL\n",
      "AND n.sly_homologues IS NULL\n",
      "\n",
      "           AND ANY ( item IN n.stu_homologues WHERE item =~ \"(?i)\" + line.identifier )\n",
      "           RETURN n.name, line.short_name, n.description, line.description, n.synonyms, line.synonyms, line.gmm_description \n",
      "    \n",
      "8\n",
      "\n",
      "    LOAD CSV WITH HEADERS FROM  'file:///gmm_annot_Prot-stu-combined.tsv' AS line FIELDTERMINATOR '\t'\n",
      "           MATCH (n:FunctionalCluster {name:line.name})\n",
      "           SET n.short_name = line.short_name\n",
      "           SET n.synonyms = split(line.synonyms, ',')\n",
      "           SET n.description = line.description\n",
      "           SET n.gmm_description = line.gmm_description\n",
      "           RETURN n.name \n",
      "    \n",
      "8\n"
     ]
    }
   ],
   "source": [
    "x_found = combine_exists_and_found(\"stu\")\n",
    "qr = add_properties('stu', x_found)\n",
    "print(len(qr.data()))"
   ]
  },
  {
   "cell_type": "code",
   "execution_count": 445,
   "metadata": {},
   "outputs": [
    {
     "name": "stdout",
     "output_type": "stream",
     "text": [
      "\n",
      "    LOAD CSV WITH HEADERS FROM  'file:///gmm_annot_Prot-sly.tsv' AS line FIELDTERMINATOR '\t'\n",
      "           MATCH (n:FunctionalCluster)\n",
      "           WHERE size(n.sly_homologues) = 1\n",
      "           AND n.ath_homologues IS NULL\n",
      "AND n.osa_homologues IS NULL\n",
      "AND n.stu_homologues IS NULL\n",
      "\n",
      "           AND ANY ( item IN n.sly_homologues WHERE item =~ \"(?i)\" + line.identifier )\n",
      "           RETURN n.name, line.short_name, n.description, line.description, n.synonyms, line.synonyms, line.gmm_description \n",
      "    \n",
      "0\n"
     ]
    },
    {
     "ename": "KeyError",
     "evalue": "'n.name'",
     "output_type": "error",
     "traceback": [
      "\u001b[0;31m---------------------------------------------------------------------------\u001b[0m",
      "\u001b[0;31mKeyError\u001b[0m                                  Traceback (most recent call last)",
      "\u001b[0;32m/opt/conda/lib/python3.9/site-packages/pandas/core/indexes/base.py\u001b[0m in \u001b[0;36mget_loc\u001b[0;34m(self, key, method, tolerance)\u001b[0m\n\u001b[1;32m   3079\u001b[0m             \u001b[0;32mtry\u001b[0m\u001b[0;34m:\u001b[0m\u001b[0;34m\u001b[0m\u001b[0;34m\u001b[0m\u001b[0m\n\u001b[0;32m-> 3080\u001b[0;31m                 \u001b[0;32mreturn\u001b[0m \u001b[0mself\u001b[0m\u001b[0;34m.\u001b[0m\u001b[0m_engine\u001b[0m\u001b[0;34m.\u001b[0m\u001b[0mget_loc\u001b[0m\u001b[0;34m(\u001b[0m\u001b[0mcasted_key\u001b[0m\u001b[0;34m)\u001b[0m\u001b[0;34m\u001b[0m\u001b[0;34m\u001b[0m\u001b[0m\n\u001b[0m\u001b[1;32m   3081\u001b[0m             \u001b[0;32mexcept\u001b[0m \u001b[0mKeyError\u001b[0m \u001b[0;32mas\u001b[0m \u001b[0merr\u001b[0m\u001b[0;34m:\u001b[0m\u001b[0;34m\u001b[0m\u001b[0;34m\u001b[0m\u001b[0m\n",
      "\u001b[0;32mpandas/_libs/index.pyx\u001b[0m in \u001b[0;36mpandas._libs.index.IndexEngine.get_loc\u001b[0;34m()\u001b[0m\n",
      "\u001b[0;32mpandas/_libs/index.pyx\u001b[0m in \u001b[0;36mpandas._libs.index.IndexEngine.get_loc\u001b[0;34m()\u001b[0m\n",
      "\u001b[0;32mpandas/_libs/hashtable_class_helper.pxi\u001b[0m in \u001b[0;36mpandas._libs.hashtable.PyObjectHashTable.get_item\u001b[0;34m()\u001b[0m\n",
      "\u001b[0;32mpandas/_libs/hashtable_class_helper.pxi\u001b[0m in \u001b[0;36mpandas._libs.hashtable.PyObjectHashTable.get_item\u001b[0;34m()\u001b[0m\n",
      "\u001b[0;31mKeyError\u001b[0m: 'n.name'",
      "\nThe above exception was the direct cause of the following exception:\n",
      "\u001b[0;31mKeyError\u001b[0m                                  Traceback (most recent call last)",
      "\u001b[0;32m<ipython-input-445-0c5d18a7bfbe>\u001b[0m in \u001b[0;36m<module>\u001b[0;34m\u001b[0m\n\u001b[0;32m----> 1\u001b[0;31m \u001b[0mx_found\u001b[0m \u001b[0;34m=\u001b[0m \u001b[0mcombine_exists_and_found\u001b[0m\u001b[0;34m(\u001b[0m\u001b[0;34m\"sly\"\u001b[0m\u001b[0;34m)\u001b[0m\u001b[0;34m\u001b[0m\u001b[0;34m\u001b[0m\u001b[0m\n\u001b[0m\u001b[1;32m      2\u001b[0m \u001b[0;31m# #qr = add_properties('sly', x_found)\u001b[0m\u001b[0;34m\u001b[0m\u001b[0;34m\u001b[0m\u001b[0;34m\u001b[0m\u001b[0m\n\u001b[1;32m      3\u001b[0m \u001b[0;31m# #print(len(qr.data()))\u001b[0m\u001b[0;34m\u001b[0m\u001b[0;34m\u001b[0m\u001b[0;34m\u001b[0m\u001b[0m\n",
      "\u001b[0;32m<ipython-input-441-f926bd16faa3>\u001b[0m in \u001b[0;36mcombine_exists_and_found\u001b[0;34m(species)\u001b[0m\n\u001b[1;32m     38\u001b[0m     \u001b[0mprint\u001b[0m\u001b[0;34m(\u001b[0m\u001b[0mlen\u001b[0m\u001b[0;34m(\u001b[0m\u001b[0mx_found\u001b[0m\u001b[0;34m)\u001b[0m\u001b[0;34m)\u001b[0m\u001b[0;34m\u001b[0m\u001b[0;34m\u001b[0m\u001b[0m\n\u001b[1;32m     39\u001b[0m \u001b[0;34m\u001b[0m\u001b[0m\n\u001b[0;32m---> 40\u001b[0;31m     \u001b[0mx_found\u001b[0m\u001b[0;34m[\u001b[0m\u001b[0;34m'short_name'\u001b[0m\u001b[0;34m]\u001b[0m \u001b[0;34m=\u001b[0m \u001b[0mx_found\u001b[0m\u001b[0;34m[\u001b[0m\u001b[0;34m'n.name'\u001b[0m\u001b[0;34m]\u001b[0m\u001b[0;34m.\u001b[0m\u001b[0mapply\u001b[0m\u001b[0;34m(\u001b[0m\u001b[0;32mlambda\u001b[0m \u001b[0mx\u001b[0m \u001b[0;34m:\u001b[0m \u001b[0mx\u001b[0m\u001b[0;34m.\u001b[0m\u001b[0msplit\u001b[0m\u001b[0;34m(\u001b[0m\u001b[0;34m\"[\"\u001b[0m\u001b[0;34m)\u001b[0m\u001b[0;34m[\u001b[0m\u001b[0;36m0\u001b[0m\u001b[0;34m]\u001b[0m\u001b[0;34m)\u001b[0m\u001b[0;34m\u001b[0m\u001b[0;34m\u001b[0m\u001b[0m\n\u001b[0m\u001b[1;32m     41\u001b[0m     \u001b[0mx_found\u001b[0m\u001b[0;34m[\u001b[0m\u001b[0;34m'synonyms'\u001b[0m\u001b[0;34m]\u001b[0m \u001b[0;34m=\u001b[0m \u001b[0mx_found\u001b[0m\u001b[0;34m[\u001b[0m\u001b[0;34m[\u001b[0m\u001b[0;34m'line.short_name'\u001b[0m\u001b[0;34m,\u001b[0m \u001b[0;34m'line.synonyms'\u001b[0m\u001b[0;34m,\u001b[0m \u001b[0;34m'short_name'\u001b[0m\u001b[0;34m]\u001b[0m\u001b[0;34m]\u001b[0m\u001b[0;34m.\u001b[0m\u001b[0mapply\u001b[0m\u001b[0;34m(\u001b[0m\u001b[0mget_synonyms\u001b[0m\u001b[0;34m,\u001b[0m \u001b[0maxis\u001b[0m\u001b[0;34m=\u001b[0m\u001b[0;36m1\u001b[0m\u001b[0;34m)\u001b[0m\u001b[0;34m\u001b[0m\u001b[0;34m\u001b[0m\u001b[0m\n\u001b[1;32m     42\u001b[0m \u001b[0;34m\u001b[0m\u001b[0m\n",
      "\u001b[0;32m/opt/conda/lib/python3.9/site-packages/pandas/core/frame.py\u001b[0m in \u001b[0;36m__getitem__\u001b[0;34m(self, key)\u001b[0m\n\u001b[1;32m   3022\u001b[0m             \u001b[0;32mif\u001b[0m \u001b[0mself\u001b[0m\u001b[0;34m.\u001b[0m\u001b[0mcolumns\u001b[0m\u001b[0;34m.\u001b[0m\u001b[0mnlevels\u001b[0m \u001b[0;34m>\u001b[0m \u001b[0;36m1\u001b[0m\u001b[0;34m:\u001b[0m\u001b[0;34m\u001b[0m\u001b[0;34m\u001b[0m\u001b[0m\n\u001b[1;32m   3023\u001b[0m                 \u001b[0;32mreturn\u001b[0m \u001b[0mself\u001b[0m\u001b[0;34m.\u001b[0m\u001b[0m_getitem_multilevel\u001b[0m\u001b[0;34m(\u001b[0m\u001b[0mkey\u001b[0m\u001b[0;34m)\u001b[0m\u001b[0;34m\u001b[0m\u001b[0;34m\u001b[0m\u001b[0m\n\u001b[0;32m-> 3024\u001b[0;31m             \u001b[0mindexer\u001b[0m \u001b[0;34m=\u001b[0m \u001b[0mself\u001b[0m\u001b[0;34m.\u001b[0m\u001b[0mcolumns\u001b[0m\u001b[0;34m.\u001b[0m\u001b[0mget_loc\u001b[0m\u001b[0;34m(\u001b[0m\u001b[0mkey\u001b[0m\u001b[0;34m)\u001b[0m\u001b[0;34m\u001b[0m\u001b[0;34m\u001b[0m\u001b[0m\n\u001b[0m\u001b[1;32m   3025\u001b[0m             \u001b[0;32mif\u001b[0m \u001b[0mis_integer\u001b[0m\u001b[0;34m(\u001b[0m\u001b[0mindexer\u001b[0m\u001b[0;34m)\u001b[0m\u001b[0;34m:\u001b[0m\u001b[0;34m\u001b[0m\u001b[0;34m\u001b[0m\u001b[0m\n\u001b[1;32m   3026\u001b[0m                 \u001b[0mindexer\u001b[0m \u001b[0;34m=\u001b[0m \u001b[0;34m[\u001b[0m\u001b[0mindexer\u001b[0m\u001b[0;34m]\u001b[0m\u001b[0;34m\u001b[0m\u001b[0;34m\u001b[0m\u001b[0m\n",
      "\u001b[0;32m/opt/conda/lib/python3.9/site-packages/pandas/core/indexes/base.py\u001b[0m in \u001b[0;36mget_loc\u001b[0;34m(self, key, method, tolerance)\u001b[0m\n\u001b[1;32m   3080\u001b[0m                 \u001b[0;32mreturn\u001b[0m \u001b[0mself\u001b[0m\u001b[0;34m.\u001b[0m\u001b[0m_engine\u001b[0m\u001b[0;34m.\u001b[0m\u001b[0mget_loc\u001b[0m\u001b[0;34m(\u001b[0m\u001b[0mcasted_key\u001b[0m\u001b[0;34m)\u001b[0m\u001b[0;34m\u001b[0m\u001b[0;34m\u001b[0m\u001b[0m\n\u001b[1;32m   3081\u001b[0m             \u001b[0;32mexcept\u001b[0m \u001b[0mKeyError\u001b[0m \u001b[0;32mas\u001b[0m \u001b[0merr\u001b[0m\u001b[0;34m:\u001b[0m\u001b[0;34m\u001b[0m\u001b[0;34m\u001b[0m\u001b[0m\n\u001b[0;32m-> 3082\u001b[0;31m                 \u001b[0;32mraise\u001b[0m \u001b[0mKeyError\u001b[0m\u001b[0;34m(\u001b[0m\u001b[0mkey\u001b[0m\u001b[0;34m)\u001b[0m \u001b[0;32mfrom\u001b[0m \u001b[0merr\u001b[0m\u001b[0;34m\u001b[0m\u001b[0;34m\u001b[0m\u001b[0m\n\u001b[0m\u001b[1;32m   3083\u001b[0m \u001b[0;34m\u001b[0m\u001b[0m\n\u001b[1;32m   3084\u001b[0m         \u001b[0;32mif\u001b[0m \u001b[0mtolerance\u001b[0m \u001b[0;32mis\u001b[0m \u001b[0;32mnot\u001b[0m \u001b[0;32mNone\u001b[0m\u001b[0;34m:\u001b[0m\u001b[0;34m\u001b[0m\u001b[0;34m\u001b[0m\u001b[0m\n",
      "\u001b[0;31mKeyError\u001b[0m: 'n.name'"
     ]
    }
   ],
   "source": [
    "x_found = combine_exists_and_found(\"sly\")\n",
    "# #qr = add_properties('sly', x_found)\n",
    "# #print(len(qr.data()))"
   ]
  },
  {
   "cell_type": "code",
   "execution_count": null,
   "metadata": {},
   "outputs": [],
   "source": []
  },
  {
   "cell_type": "code",
   "execution_count": 450,
   "metadata": {},
   "outputs": [
    {
     "data": {
      "text/plain": [
       " n.name     \n",
       "------------\n",
       " BA2H[]     \n",
       " GPAphid2[] \n",
       " IPL[]      "
      ]
     },
     "execution_count": 450,
     "metadata": {},
     "output_type": "execute_result"
    }
   ],
   "source": [
    "cy = \"\"\"\n",
    "    MATCH (n:FunctionalCluster)\n",
    "    WHERE n.stu_homologues IS NULL\n",
    "    AND n.sly_homologues IS NULL\n",
    "    AND n.ath_homologues IS NULL\n",
    "    AND n.osa_homologues IS NULL    \n",
    "    RETURN n.name\n",
    "\"\"\"\n",
    "\n",
    "qr = graph.run(cy)\n",
    "qr"
   ]
  },
  {
   "cell_type": "code",
   "execution_count": 451,
   "metadata": {},
   "outputs": [],
   "source": [
    "df = pd.DataFrame(qr.data())"
   ]
  },
  {
   "cell_type": "code",
   "execution_count": 453,
   "metadata": {},
   "outputs": [],
   "source": [
    "df['short_name'] = df['n.name'].apply(lambda x : x.split(\"[\")[0])"
   ]
  },
  {
   "cell_type": "code",
   "execution_count": 455,
   "metadata": {},
   "outputs": [],
   "source": [
    "df.columns = [\"name\", \"short_name\"]"
   ]
  },
  {
   "cell_type": "code",
   "execution_count": 456,
   "metadata": {},
   "outputs": [
    {
     "data": {
      "text/html": [
       "<div>\n",
       "<style scoped>\n",
       "    .dataframe tbody tr th:only-of-type {\n",
       "        vertical-align: middle;\n",
       "    }\n",
       "\n",
       "    .dataframe tbody tr th {\n",
       "        vertical-align: top;\n",
       "    }\n",
       "\n",
       "    .dataframe thead th {\n",
       "        text-align: right;\n",
       "    }\n",
       "</style>\n",
       "<table border=\"1\" class=\"dataframe\">\n",
       "  <thead>\n",
       "    <tr style=\"text-align: right;\">\n",
       "      <th></th>\n",
       "      <th>name</th>\n",
       "      <th>short_name</th>\n",
       "    </tr>\n",
       "  </thead>\n",
       "  <tbody>\n",
       "    <tr>\n",
       "      <th>0</th>\n",
       "      <td>BA2H[]</td>\n",
       "      <td>BA2H</td>\n",
       "    </tr>\n",
       "    <tr>\n",
       "      <th>1</th>\n",
       "      <td>GPAphid2[]</td>\n",
       "      <td>GPAphid2</td>\n",
       "    </tr>\n",
       "    <tr>\n",
       "      <th>2</th>\n",
       "      <td>IPL[]</td>\n",
       "      <td>IPL</td>\n",
       "    </tr>\n",
       "    <tr>\n",
       "      <th>3</th>\n",
       "      <td>R-gene[]</td>\n",
       "      <td>R-gene</td>\n",
       "    </tr>\n",
       "    <tr>\n",
       "      <th>4</th>\n",
       "      <td>Rx1[]</td>\n",
       "      <td>Rx1</td>\n",
       "    </tr>\n",
       "  </tbody>\n",
       "</table>\n",
       "</div>"
      ],
      "text/plain": [
       "         name short_name\n",
       "0      BA2H[]       BA2H\n",
       "1  GPAphid2[]   GPAphid2\n",
       "2       IPL[]        IPL\n",
       "3    R-gene[]     R-gene\n",
       "4       Rx1[]        Rx1"
      ]
     },
     "execution_count": 456,
     "metadata": {},
     "output_type": "execute_result"
    }
   ],
   "source": [
    "df.head()"
   ]
  },
  {
   "cell_type": "code",
   "execution_count": 459,
   "metadata": {},
   "outputs": [
    {
     "name": "stdout",
     "output_type": "stream",
     "text": [
      "\n",
      "LOAD CSV WITH HEADERS FROM  'file:///gmm_annot_Prot-sly-nonname.tsv' AS line FIELDTERMINATOR '\t'\n",
      "       MATCH (n:FunctionalCluster {name:line.name})\n",
      "       SET n.short_name = line.short_name\n",
      "       RETURN n.name \n",
      "\n"
     ]
    }
   ],
   "source": [
    "f = f\"gmm_annot_Prot-{species}-nonname.tsv\"\n",
    "\n",
    "df.to_csv(base_path / \"data\" / \"import\" / f, sep=\"\\t\", index=None)\n",
    "\n",
    "cy = '''\n",
    "LOAD CSV WITH HEADERS FROM  'file:///{file}' AS line FIELDTERMINATOR '\\t'\n",
    "       MATCH (n:{label} {{name:line.name}})\n",
    "       SET n.short_name = line.short_name\n",
    "       RETURN n.name \n",
    "'''.format(label=\"FunctionalCluster\", file=f)\n",
    "print(cy)\n",
    "qr = graph.run(cy)    \n"
   ]
  },
  {
   "cell_type": "code",
   "execution_count": 460,
   "metadata": {},
   "outputs": [
    {
     "data": {
      "text/plain": [
       " n.name     \n",
       "------------\n",
       " BA2H[]     \n",
       " GPAphid2[] \n",
       " IPL[]      "
      ]
     },
     "execution_count": 460,
     "metadata": {},
     "output_type": "execute_result"
    }
   ],
   "source": [
    "qr"
   ]
  },
  {
   "cell_type": "code",
   "execution_count": null,
   "metadata": {},
   "outputs": [],
   "source": []
  }
 ],
 "metadata": {
  "kernelspec": {
   "display_name": "Python 3",
   "language": "python",
   "name": "python3"
  },
  "language_info": {
   "codemirror_mode": {
    "name": "ipython",
    "version": 3
   },
   "file_extension": ".py",
   "mimetype": "text/x-python",
   "name": "python",
   "nbconvert_exporter": "python",
   "pygments_lexer": "ipython3",
   "version": "3.9.2"
  }
 },
 "nbformat": 4,
 "nbformat_minor": 2
}
