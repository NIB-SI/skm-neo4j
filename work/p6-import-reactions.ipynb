{
 "cells": [
  {
   "cell_type": "code",
   "execution_count": 1,
   "metadata": {},
   "outputs": [],
   "source": [
    "version = \"v0.1.0\""
   ]
  },
  {
   "cell_type": "code",
   "execution_count": 2,
   "metadata": {},
   "outputs": [
    {
     "data": {
      "text/html": [
       "<style>.container { width:80% !important; }</style>"
      ],
      "text/plain": [
       "<IPython.core.display.HTML object>"
      ]
     },
     "metadata": {},
     "output_type": "display_data"
    }
   ],
   "source": [
    "from IPython.core.display import display, HTML\n",
    "display(HTML(\"<style>.container { width:80% !important; }</style>\"))"
   ]
  },
  {
   "cell_type": "markdown",
   "metadata": {},
   "source": [
    "# Import neo4j DB: 4/5\n",
    "\n",
    "Code to translate v2.7.4_PIS-model.xlsx to neo4j database. "
   ]
  },
  {
   "cell_type": "markdown",
   "metadata": {},
   "source": [
    "## Setup"
   ]
  },
  {
   "cell_type": "code",
   "execution_count": 3,
   "metadata": {},
   "outputs": [],
   "source": [
    "from collections import defaultdict"
   ]
  },
  {
   "cell_type": "code",
   "execution_count": 4,
   "metadata": {},
   "outputs": [],
   "source": [
    "import pandas as pd\n",
    "import re\n",
    "import numpy as np\n",
    "import os"
   ]
  },
  {
   "cell_type": "code",
   "execution_count": 5,
   "metadata": {},
   "outputs": [],
   "source": [
    "from py2neo import Graph, Node, Relationship"
   ]
  },
  {
   "cell_type": "code",
   "execution_count": 6,
   "metadata": {},
   "outputs": [],
   "source": [
    "import helpers"
   ]
  },
  {
   "cell_type": "code",
   "execution_count": 7,
   "metadata": {},
   "outputs": [],
   "source": [
    "from importlib import reload"
   ]
  },
  {
   "cell_type": "markdown",
   "metadata": {},
   "source": [
    "Connect to graph via docker-compose link. See http://localhost:7474/browser/"
   ]
  },
  {
   "cell_type": "code",
   "execution_count": 8,
   "metadata": {},
   "outputs": [],
   "source": [
    "graph = Graph(host=\"neo4j\")"
   ]
  },
  {
   "cell_type": "code",
   "execution_count": 9,
   "metadata": {},
   "outputs": [],
   "source": [
    "from pathlib import Path\n",
    "\n",
    "base_path = Path(\"..\")\n",
    "parsed_path = base_path / \"data\" / \"parsed\""
   ]
  },
  {
   "cell_type": "markdown",
   "metadata": {},
   "source": [
    "## Components summary"
   ]
  },
  {
   "cell_type": "code",
   "execution_count": 10,
   "metadata": {},
   "outputs": [],
   "source": [
    "q = '''MATCH (n) RETURN DISTINCT n.name AS name'''\n",
    "nodes = graph.run(q).data()\n",
    "all_nodes_in_components = set([(d[\"name\"]) for d in nodes])"
   ]
  },
  {
   "cell_type": "code",
   "execution_count": 11,
   "metadata": {},
   "outputs": [
    {
     "data": {
      "text/plain": [
       "{'&alpha;/&beta; hydroxylase',\n",
       " '&beta;-carotene isomerase',\n",
       " '12,13-EOT',\n",
       " '12-OH-JA-Ile',\n",
       " '13-HPOT',\n",
       " '4CLL',\n",
       " '6K1',\n",
       " '6K2',\n",
       " '9-cis-&beta;-carotene',\n",
       " '9-cis-10&prime;-apo-&beta;-carotenal',\n",
       " 'AAO',\n",
       " 'AAO[AT1G04580,AT2G27150,AT3G43600,AT4G34890,AT4G34900,AT5G20960]',\n",
       " 'ACC',\n",
       " 'ACH',\n",
       " 'ACH[AT2G30720,AT5G48370]',\n",
       " 'ACO',\n",
       " 'ACO[AT1G05010,AT1G12010,AT1G62380,AT1G77330,AT2G19590]',\n",
       " 'ACS',\n",
       " 'ACS2[AT1G01480]',\n",
       " 'ACS6[AT4G11280]',\n",
       " 'ACS[AT1G01480,AT1G62960,AT2G22810,AT3G49700,AT3G61510,AT4G08040,AT4G11280,AT4G26200,AT4G37770,AT5G51690,AT5G65800]',\n",
       " 'ACX',\n",
       " 'ACX2[AT5G65110]',\n",
       " 'ACX2|CAT2',\n",
       " 'ACX3[AT1G06290]',\n",
       " 'ACX3|CAT2',\n",
       " 'ACX[AT1G06290,AT1G06310,AT2G35690,AT3G06690,AT3G51840,AT4G16760,AT5G65110]',\n",
       " 'ADK',\n",
       " 'ADK[AT3G09820,AT5G03300]',\n",
       " 'ADP',\n",
       " 'ADT',\n",
       " 'ADT[AT1G08250,AT1G11790,AT2G27820,AT3G07630,AT3G44720,AT5G22630]',\n",
       " 'AGO',\n",
       " 'AGO1,5,7,10[AT1G48410,AT1G69440,AT2G27880,AT5G43810]',\n",
       " 'AGO1,5,7,10|CI',\n",
       " 'AGO1,5,7,10|HC-Pro',\n",
       " 'AHK',\n",
       " 'AHK2,3,4[AT1G27320,AT2G01830,AT5G35750]',\n",
       " 'AHP',\n",
       " 'AHP1,2,3,4,5[AT1G03430,AT3G16360,AT3G21510,AT3G29350,AT5G39340]',\n",
       " 'AHP6[AT1G80100]',\n",
       " 'AMP',\n",
       " 'AOC',\n",
       " 'AOC[AT1G13280,AT3G25760,AT3G25770,AT3G25780]',\n",
       " 'AOS',\n",
       " 'AOS[AT5G42650]',\n",
       " 'AOX',\n",
       " 'AOX[AT1G32350,AT3G22360,AT3G22370,AT3G27620,AT5G64210]',\n",
       " 'APT',\n",
       " 'APT[AT1G27450,AT1G80050,AT4G12440,AT4G22570,AT5G11160]',\n",
       " 'APX',\n",
       " 'APX[AT1G07890,AT1G77490,AT3G09640,AT4G08390,AT4G09010,AT4G32320,AT4G35000,AT4G35970]',\n",
       " 'ARF',\n",
       " 'ARF2[AT5G62000]',\n",
       " 'ARF3[AT2G33860]',\n",
       " 'ARF4[AT5G60450]',\n",
       " 'ARR',\n",
       " 'ARR-A[AT1G10470,AT1G19050,AT1G59940,AT1G74890,AT2G40670,AT2G41310,AT3G48100,AT3G56380,AT3G57040,AT5G62920]',\n",
       " 'ARR-B[AT1G49190,AT1G67710,AT2G01760,AT2G25180,AT2G27070,AT3G16857,AT3G62670,AT4G16110,AT4G31920,AT5G07210,AT5G58080]',\n",
       " 'ASK',\n",
       " 'ASK[AT1G75950,AT5G42190]',\n",
       " 'ATP',\n",
       " 'ATPB',\n",
       " 'ATPB[ATCG00480]',\n",
       " 'ATPB|HC-Pro',\n",
       " 'AUX-signalling',\n",
       " 'Ade',\n",
       " 'Ado',\n",
       " 'Anthocyanin-accumulation',\n",
       " 'BA',\n",
       " 'BA2H',\n",
       " 'BA2H[BA2H]',\n",
       " 'BAK1[AT4G33430]',\n",
       " 'BAK1|FLS2|flg22',\n",
       " 'BG',\n",
       " 'BIK1',\n",
       " 'BIK1[AT2G39660]',\n",
       " 'BIK1|Ca2+',\n",
       " 'BR1',\n",
       " 'C19-GA2ox[AT1G02400,AT1G30040,AT1G47990,AT1G78440,AT2G34555]',\n",
       " 'CAM',\n",
       " 'CAMTA',\n",
       " 'CAMTA3[AT2G22300]',\n",
       " 'CAM[AT1G66410,AT3G01830,AT4G20780,AT5G44460]',\n",
       " 'CAM|Ca2+',\n",
       " 'CAT',\n",
       " 'CAT2[AT4G35090]',\n",
       " 'CAT[AT1G20620,AT1G20630,AT4G35090]',\n",
       " 'CAT|LSD1',\n",
       " 'CBP60G',\n",
       " 'CBP60G[AT5G26920]',\n",
       " 'CCD',\n",
       " 'CCD7[AT2G44990]',\n",
       " 'CCD8[AT4G32810]',\n",
       " 'CDPK',\n",
       " 'CDPK[AT1G35670,AT1G50700,AT1G61950,AT1G76040,AT2G17290,AT2G38910,AT3G10660,AT3G20410,AT4G04695,AT4G04700,AT4G04710,AT4G04720,AT4G04740,AT4G09570,AT4G21940,AT4G23650,AT4G35310,AT5G04870,AT5G12180,AT5G19360,AT5G23580]',\n",
       " 'CI',\n",
       " 'CI|PSAK',\n",
       " 'CKX',\n",
       " 'CKX[AT1G75450,AT2G19500,AT2G41510,AT3G63440,AT4G29740,AT5G21482,AT5G56970]',\n",
       " 'CL',\n",
       " 'CLA',\n",
       " 'CLH',\n",
       " 'CLH[AT1G19670,AT5G43860]',\n",
       " 'CM',\n",
       " 'CML40[AT3G01830]',\n",
       " 'CML40|HC-Pro',\n",
       " 'CML42[AT4G20780]',\n",
       " 'CML42|Ca2+',\n",
       " 'CM[AT1G69370,AT3G29200,AT5G10870]',\n",
       " 'CO',\n",
       " 'CO2-deficiency',\n",
       " 'COI1',\n",
       " 'COI1[AT2G39940]',\n",
       " 'COI1|JA-Ile|SCF',\n",
       " 'COI1|OMR1',\n",
       " 'COI1|RBCS-3B',\n",
       " 'CO[AT5G15840]',\n",
       " 'CO|OBE1',\n",
       " 'CP',\n",
       " 'CPIP1,2b[AT1G10350]',\n",
       " 'CPIP2a[AT3G08910]',\n",
       " 'CPK11[AT1G35670]',\n",
       " 'CPK1[AT5G04870]',\n",
       " 'CPK2[AT3G10660]',\n",
       " 'CPK4,5,6,11[AT1G35670,AT2G17290,AT4G09570,AT4G35310]',\n",
       " 'CPK4[AT4G09570]',\n",
       " 'CPS',\n",
       " 'CPS[AT4G02780,SOTUB06G034690.1.1]',\n",
       " 'CP|CPIP1,2b',\n",
       " 'CP|CPIP2a',\n",
       " 'CRT',\n",
       " 'CRT1[AT1G56340]',\n",
       " 'CRT1|ETR1',\n",
       " 'CRT1|HC-Pro',\n",
       " 'CRT2[AT1G09210]',\n",
       " 'CRT2|HC-Pro',\n",
       " 'CRT3[AT1G08450]',\n",
       " 'CRT3|HC-Pro',\n",
       " 'CRT[AT1G08450,AT1G09210,AT1G56340]',\n",
       " 'CRT|Ca2+',\n",
       " 'CTR',\n",
       " 'CTR[AT4G24480,AT5G03730]',\n",
       " 'CTR|ETR',\n",
       " 'CTS',\n",
       " 'CTS[AT4G39850]',\n",
       " 'CUL',\n",
       " 'CUL[AT1G02980,AT1G43140,AT4G02570]',\n",
       " 'CYP',\n",
       " 'CYP71B',\n",
       " 'CYP735',\n",
       " 'CYP735A1,A2[AT1G67110,AT5G38450]',\n",
       " 'CYP94',\n",
       " 'CYP94[AT1G34540,AT2G27690,AT3G01900,AT3G48520,AT3G56630,AT5G63450]',\n",
       " 'Ca2+',\n",
       " 'Chor',\n",
       " 'Class I Clp ATPase',\n",
       " 'Cu2+',\n",
       " 'D14[AT3G03990]',\n",
       " 'D14|MAX2|SCF',\n",
       " 'D27[OS11G0587000]',\n",
       " 'D53[OS11G0104300]',\n",
       " 'DAMP/HAMP',\n",
       " 'DELLA',\n",
       " 'DELLA[AT1G14920,AT1G66350,AT2G01570,AT3G03450,AT5G17490,LOC_OS06G03710,SOLYC11G011260.1.1,SOTUB11G008520.1.1]',\n",
       " 'DELLA|GA1|GID1',\n",
       " 'DELLA|GA3|GID1',\n",
       " 'DELLA|GA4|GID1',\n",
       " 'DELLA|JAZ',\n",
       " 'DELLA|MYC2',\n",
       " 'DMAPP',\n",
       " 'DXPS',\n",
       " 'DXPS2[AT4G15560]',\n",
       " 'DXPS2|HC-Pro',\n",
       " 'DZ',\n",
       " 'DZ7G',\n",
       " 'DZ9G',\n",
       " 'DZOG',\n",
       " 'DZR',\n",
       " 'DZRMP',\n",
       " 'DZROG',\n",
       " 'EBF',\n",
       " 'EBF[AT2G25490,AT5G25350]',\n",
       " 'EBF|SCF',\n",
       " 'EDF2[AT1G68840]',\n",
       " 'EDF2|HC-Pro',\n",
       " 'EDS1',\n",
       " 'EDS1[AT3G48090]',\n",
       " 'EDS1|MPK3|PAD4',\n",
       " 'EDS1|MPK6|PAD4',\n",
       " 'EDS1|NPR1|TGA2,5,6',\n",
       " 'EDS1|PAD4',\n",
       " 'EDS1|PAD4|SAG101',\n",
       " 'EDS5',\n",
       " 'EDS5[AT2G21340,AT4G39030]',\n",
       " 'EDS5[AT4G39030]',\n",
       " 'EDS5|NPR1|TGA2,5,6',\n",
       " 'EIN2',\n",
       " 'EIN2[AT5G03280]',\n",
       " 'EIN3(like)',\n",
       " 'EIN3(like)[AT1G73730,AT2G27050,AT3G20770,AT5G10120,AT5G21120,AT5G65100]',\n",
       " 'EIN3(like)|JAZ',\n",
       " 'EIN3[AT3G20770]',\n",
       " 'EIN5[AT1G54490]',\n",
       " 'ERF',\n",
       " 'ERF/EDF',\n",
       " 'ERF/EDF[AT1G04370,AT1G13260,AT1G25560,AT1G50680,AT1G51120,AT1G68840,AT2G44840,AT3G23220,AT3G23230,AT3G23240,AT3G25730,AT4G17500,AT5G43410,AT5G47220,AT5G61600]',\n",
       " 'ERF096[AT5G43410]',\n",
       " 'ERF104[AT5G61600]',\n",
       " 'ERF105[AT5G51190]',\n",
       " 'ERF1[AT3G23240,AT4G17500]',\n",
       " 'ERF5[AT5G47230]',\n",
       " 'ERF6[AT4G17490]',\n",
       " 'ERF[AT1G06160,AT2G31230,AT4G17490,AT5G47230,AT5G51190]',\n",
       " 'ESP/NSP',\n",
       " 'ESP[AT1G54040]',\n",
       " 'ESP|WRKY53',\n",
       " 'ET',\n",
       " 'ETP',\n",
       " 'ETP[AT2G04920,AT2G07140,AT2G24510,AT2G27520,AT3G17265,AT3G17280,AT3G17480,AT3G17490,AT3G17500,AT3G17530,AT3G17540,AT3G17560,AT3G17570,AT3G18320,AT3G18330,AT3G18900,AT3G18910,AT3G18980,AT3G19410,AT3G21120,AT3G21130,AT3G21170,AT3G22350,AT3G22700,AT3G22710,AT3G22720,AT3G22730,AT3G23260,AT3G24700,AT3G25460,AT3G44120,AT3G49980,AT4G09870,AT4G10190,AT5G47300,AT5G62830]',\n",
       " 'ETP|SCF',\n",
       " 'ETR',\n",
       " 'ETR1[AT1G66340]',\n",
       " 'ETR[AT1G04310,AT1G66340,AT2G40940,AT3G04580,AT3G23150]',\n",
       " 'ET|ETR',\n",
       " 'F-box/LRR-repeat',\n",
       " 'FLS2[AT5G46330]',\n",
       " 'GA1',\n",
       " 'GA1-methylester',\n",
       " 'GA12',\n",
       " 'GA1|GID1',\n",
       " 'GA1|GID1|SLR1',\n",
       " 'GA20',\n",
       " 'GA20ox',\n",
       " 'GA20ox.x3[SOTUB09G017710.1.1]',\n",
       " 'GA20ox.x5[SOTUB10G011620.1.1]',\n",
       " 'GA20ox1[AT4G25420,SOLYC03G006880.3.1,SOTUB03G007160.1.1]',\n",
       " 'GA20ox3[AT5G07200,SOLYC11G072310.2.1,SOTUB11G029030.1.1]',\n",
       " 'GA20ox4[AT1G60980,SOLYC01G093980.3.1,SOTUB01G031210.1.1]',\n",
       " 'GA20ox[AT1G44090,AT1G60980,AT4G25420,AT5G07200,AT5G51810,SOLYC01G093980.3.1,SOLYC03G006880.3.1,SOLYC06G035530.3.1,SOLYC06G050110.2.1,SOLYC09G009110.3.1,SOLYC11G072310.2.1,SOTUB01G031210.1.1,SOTUB03G007160.1.1,SOTUB06G009210.1.1,SOTUB06G023200.1.1,SOTUB09G017710.1.1,SOTUB09G017720.1.1,SOTUB09G019010.1.1,SOTUB10G011620.1.1,SOTUB11G029030.1.1]',\n",
       " 'GA2ox',\n",
       " 'GA3',\n",
       " 'GA3-methylester',\n",
       " 'GA34',\n",
       " 'GA3ox',\n",
       " 'GA3ox[AT1G15550,AT1G80330,AT1G80340,AT4G21690,SOLYC03G119910.3.1,SOLYC06G066820.3.1,SOTUB03G033480.1.1,SOTUB06G023360.1.1]',\n",
       " 'GA3|GID1',\n",
       " 'GA3|GID1|SLR1',\n",
       " 'GA4',\n",
       " 'GA4-methylester',\n",
       " 'GA4|GID1',\n",
       " 'GA4|GID1|SLR1',\n",
       " 'GA8',\n",
       " 'GA9',\n",
       " 'GAMT',\n",
       " 'GAMT1,2[AT4G26420,AT5G56300]',\n",
       " 'GID',\n",
       " 'GID1[AT3G05120,AT3G63010,AT5G27320,LOC_OS05G33730,SOLYC01G098390.3.1,SOLYC06G008870.2.1,SOLYC09G074270.3.1,SOTUB01G036020.1.1,SOTUB06G008680.1.1,SOTUB09G021750.1.1]',\n",
       " 'GID1[LOC_OS05G33730]',\n",
       " 'GID2[LOC_OS02G36974]',\n",
       " 'GID2|SCF',\n",
       " 'GPAphid2[GPAphid2]',\n",
       " 'GPAphid2|RANGAP',\n",
       " 'GPX',\n",
       " 'GPX[AT1G63460,AT2G25080,AT2G31570,AT2G43350,AT2G48150,AT3G63080,AT4G11600,AT4G31870]',\n",
       " 'GRAS',\n",
       " 'GRX',\n",
       " 'GRX480[AT1G28480]',\n",
       " 'GSNO',\n",
       " 'GSNO[AT5G43940]',\n",
       " 'GST',\n",
       " 'GSTU24[AT1G17170]',\n",
       " 'GSTU24|ROS',\n",
       " 'GST[AT1G02920,AT1G02930,AT1G17170,AT1G17180,AT1G78380,AT2G02930,AT2G30860,AT2G30870,AT2G47730,AT4G02520]',\n",
       " 'GST|SA',\n",
       " 'Geranylgeranyl-PP',\n",
       " 'Glu',\n",
       " 'H2O',\n",
       " 'H2O2',\n",
       " 'HC-Pro',\n",
       " 'HC-Pro|MIND1',\n",
       " 'HC-Pro|PAA2',\n",
       " 'HC-Pro|PBB2',\n",
       " 'HC-Pro|PBE1',\n",
       " 'HC-Pro|RNA-silencing',\n",
       " 'HC-Pro|SAHH',\n",
       " 'HC-Pro|SAM3',\n",
       " 'HC-Pro|TDX',\n",
       " 'HC-Pro|ribosome',\n",
       " 'HECT',\n",
       " 'HLS',\n",
       " 'HMA',\n",
       " 'HMA[AT1G63440,AT4G33520,AT5G21930,AT5G44790]',\n",
       " 'HMBDP',\n",
       " 'HMGR',\n",
       " 'HO2.',\n",
       " 'HSP',\n",
       " 'HSP90[AT2G04030,AT3G07770,AT4G24190,AT5G52640,AT5G56000,AT5G56010,AT5G56030]',\n",
       " 'HSP90|RAR1|SGT1',\n",
       " 'IAA29',\n",
       " 'IAA29[AT4G32280]',\n",
       " 'IAA29|WRKY57',\n",
       " 'ICS',\n",
       " 'ICS1[AT1G74710]',\n",
       " 'ICS[AT1G18870,AT1G74710]',\n",
       " 'IEGT',\n",
       " 'IPL',\n",
       " 'IPL[IPL]',\n",
       " 'IPT',\n",
       " 'IPT1,3,5,7,8[AT1G68460,AT3G19160,AT3G23630,AT3G63110,AT5G19040]',\n",
       " 'IPT2,9[AT2G27760,AT5G20040]',\n",
       " 'IPT4,6[AT1G25410,AT4G24650]',\n",
       " 'ISPH',\n",
       " 'ISPH[AT4G34350]',\n",
       " 'Ile',\n",
       " 'IsoChor',\n",
       " 'JA',\n",
       " 'JA-CoA',\n",
       " 'JA-Ile',\n",
       " 'JAL',\n",
       " 'JAM',\n",
       " 'JAM[AT1G01260,AT2G46510,AT4G16430]',\n",
       " 'JAR',\n",
       " 'JAR[AT2G46370,AT4G03400]',\n",
       " 'JAZ',\n",
       " 'JAZ3[AT3G17860]',\n",
       " 'JAZ3|RBCS-2B',\n",
       " 'JAZ4[AT1G48500]',\n",
       " 'JAZ4|WRKY57',\n",
       " 'JAZ8[AT1G30135]',\n",
       " 'JAZ8|WRKY57',\n",
       " 'JAZ[AT1G17380,AT1G19180,AT1G30135,AT1G48500,AT1G70700,AT1G72450,AT1G74950,AT2G34600,AT3G17860,AT3G43440,AT5G13220,AT5G20900]',\n",
       " 'JAZ|MYC',\n",
       " 'JMT',\n",
       " 'JMT[AT1G19640,AT4G36470]',\n",
       " 'JR1[AT3G16470]',\n",
       " 'KAO',\n",
       " 'KAO1,2[AT1G05160,AT2G32440]',\n",
       " 'KAT',\n",
       " 'KAT[AT1G04710,AT2G33150,AT5G48880]',\n",
       " 'KO',\n",
       " 'KO[AT5G25900]',\n",
       " 'KS',\n",
       " 'KS[AT1G79460]',\n",
       " 'L-Met',\n",
       " 'LOG',\n",
       " 'LOG[AT2G28305,AT2G35990,AT2G37210,AT3G53450,AT4G35190,AT5G06300,AT5G11950,AT5G26140]',\n",
       " 'LOX',\n",
       " 'LOX[AT1G17420,AT1G55020,AT1G67560,AT1G72520,AT3G22400,AT3G45140]',\n",
       " 'LRR-BAK1',\n",
       " 'LRR-FLS2',\n",
       " 'LSD1',\n",
       " 'LSD1[AT4G20380]',\n",
       " 'MAPK',\n",
       " 'MAPKKK',\n",
       " 'MAPKKK8[AT4G08500]',\n",
       " 'MAX1[AT2G26170]',\n",
       " 'MAX2[AT2G42620]',\n",
       " 'MES',\n",
       " 'MES9[AT4G37150]',\n",
       " 'MES[AT2G23550,AT2G23560,AT2G23570,AT2G23580,AT2G23590,AT2G23600,AT2G23610,AT2G23620,AT4G37150,AT5G10300]',\n",
       " 'MFP',\n",
       " 'MFP[AT1G24470,AT1G67730,AT3G06860,AT3G15290,AT4G29010]',\n",
       " 'MIND1',\n",
       " 'MIND1[AT5G24020]',\n",
       " 'MIR390',\n",
       " 'MIR390[AT2G38325,AT5G58465]',\n",
       " 'MKK',\n",
       " 'MKS1',\n",
       " 'MKS1[AT3G18690]',\n",
       " 'MKS1|WRKY33',\n",
       " 'MOS',\n",
       " 'MOS[AT1G02690,AT1G09270,AT1G80680,AT3G05720,AT3G06720,AT4G02150,AT4G16143,AT5G05680,AT5G49310]',\n",
       " 'MPK3[AT3G45640]',\n",
       " 'MPK4[AT4G01370]',\n",
       " 'MPK6[AT2G43790]',\n",
       " 'MYB',\n",
       " 'MYB113[AT1G66370]',\n",
       " 'MYB33,65[AT3G11440,AT5G06100,SOLYC01G009070.3.1,SOLYC06G073640.3.1,SOTUB01G009890.1.1,SOTUB06G030530.1.1]',\n",
       " 'MYB33[AT5G06100]',\n",
       " 'MYB44[AT5G67300]',\n",
       " 'MYB65[AT3G11440]',\n",
       " 'MYC',\n",
       " 'MYC2[AT1G32640]',\n",
       " 'MYC[AT1G32640,AT4G17880,AT5G46760]',\n",
       " 'MeJA',\n",
       " 'MeSA',\n",
       " 'NAC',\n",
       " 'NAC019[AT1G52890]',\n",
       " 'NAC032[AT1G77450]',\n",
       " 'NAC055[AT3G15500]',\n",
       " 'NAC072[AT4G27410]',\n",
       " 'NADPH',\n",
       " 'NADPH-dehydrogenase',\n",
       " 'NADPH-dehydrogenase[AT1G07180,AT2G20800,AT2G29990,AT4G05020,AT4G21490,AT4G28220,AT5G08740]',\n",
       " 'NADPH-oxidase',\n",
       " 'NADPH-oxidase[AT1G09090,AT1G19230,AT1G64060,AT3G45810,AT4G11230,AT4G25090,AT5G07390,AT5G47910,AT5G51060,AT5G60010]',\n",
       " 'NDR',\n",
       " 'NDR1[AT3G20600]',\n",
       " 'NDR1|RIN4',\n",
       " 'NIMIN',\n",
       " 'NIMIN[AT1G02450,AT1G09415,AT3G25882,AT4G01895]',\n",
       " 'NIMIN|NPR1',\n",
       " 'NIa-Pro',\n",
       " 'NIb',\n",
       " 'NPH3',\n",
       " 'NPR',\n",
       " 'NPR1[AT1G64280]',\n",
       " 'NPR1|NPR1',\n",
       " 'NPR1|PAD4|TGA2,5,6',\n",
       " 'NPR1|TGA2,5,6',\n",
       " 'O2',\n",
       " 'O2.-',\n",
       " 'O3',\n",
       " 'OBE',\n",
       " 'OBE1[AT3G07780]',\n",
       " 'OBE1|VPg',\n",
       " 'OBE1|WRKY11',\n",
       " 'OBE1|WRKY17',\n",
       " 'OG',\n",
       " 'OH.',\n",
       " 'OMR',\n",
       " 'OMR1[AT3G10050]',\n",
       " 'OPC4-CoA',\n",
       " 'OPC6-CoA',\n",
       " 'OPC8',\n",
       " 'OPC8-CoA',\n",
       " 'OPCL1[AT1G20510]',\n",
       " 'OPDA',\n",
       " 'OPR',\n",
       " 'OPR1[AT1G76680]',\n",
       " 'OPR[AT1G09400,AT1G76680,AT1G76690,AT2G06050]',\n",
       " 'ORA59[AT1G06160]',\n",
       " 'OrthoCA',\n",
       " 'P1',\n",
       " 'P3',\n",
       " 'P3N-PIPO',\n",
       " 'P3|RBCL',\n",
       " 'P3|RBCS-1A',\n",
       " 'P3|RBCS-1B',\n",
       " 'P3|RBCS-2B',\n",
       " 'P3|RBCS-3B',\n",
       " 'PA',\n",
       " 'PAA',\n",
       " 'PAA2[AT2G05840]',\n",
       " 'PAD4',\n",
       " 'PAD4[AT3G52430]',\n",
       " 'PAL',\n",
       " 'PAL[AT2G37040,AT3G10340,AT3G53260,AT5G04230]',\n",
       " 'PA[AT2G22250]',\n",
       " 'PBB',\n",
       " 'PBB2[AT5G40580]',\n",
       " 'PBE',\n",
       " 'PBE1[AT1G13060]',\n",
       " 'PDF1',\n",
       " 'PDF1.2[AT2G26020,AT5G44420,AT5G44430]',\n",
       " 'PPL',\n",
       " 'PR1',\n",
       " 'PR13',\n",
       " 'PR13[AT1G12660,AT1G12663,AT1G12665,AT1G12672,AT1G66100,AT1G72260,AT2G15010,AT5G36910]',\n",
       " 'PR1[AT1G50060,AT2G14580,AT2G14610,AT4G33710,AT4G33720,AT5G26130]',\n",
       " 'PR2[AT3G57260]',\n",
       " 'PR3',\n",
       " 'PR3[AT3G12500]',\n",
       " 'PR4',\n",
       " 'PR4[AT3G04720]',\n",
       " 'PR5',\n",
       " 'PR5[AT1G75030,AT1G75040,AT1G75050]',\n",
       " 'PSAK',\n",
       " 'PSAK[AT1G30380]',\n",
       " 'PUFA:LA',\n",
       " 'PheAla',\n",
       " 'PhePyr',\n",
       " 'PostROS',\n",
       " 'PreROS',\n",
       " 'Prep',\n",
       " 'R-gene',\n",
       " 'R-gene[GPAphid2,HRT,Ny,Rx1,Rx2,Ry]',\n",
       " 'R-gene|potyvirus',\n",
       " 'RANGAP',\n",
       " 'RANGAP[AT3G63130,AT5G19320]',\n",
       " 'RANGAP|Rx1',\n",
       " 'RANGAP|Rx2',\n",
       " 'RAR1',\n",
       " 'RAR1[AT5G51700]',\n",
       " 'RBCL',\n",
       " 'RBCL[ATCG00490]',\n",
       " 'RBCS',\n",
       " 'RBCS-1A[AT1G67090]',\n",
       " 'RBCS-1B[AT5G38430]',\n",
       " 'RBCS-2B[AT5G38420]',\n",
       " 'RBCS-3B[AT5G38410]',\n",
       " 'RBOHD[AT5G47910]',\n",
       " 'RBX',\n",
       " 'RBX[AT3G42830,AT5G20570]',\n",
       " 'RH',\n",
       " 'RH8[AT4G00660]',\n",
       " 'RH8|VPg',\n",
       " 'RIN4',\n",
       " 'RIN4[AT3G25070]',\n",
       " 'RNA-silencing',\n",
       " 'RNA-silencing|potyvirus',\n",
       " 'ROS',\n",
       " 'ROS-production',\n",
       " 'RPL17',\n",
       " 'RPL7',\n",
       " 'RTE1',\n",
       " 'RTE1[AT2G26070]',\n",
       " 'RTM1[AT1G05760]',\n",
       " 'RTM1|RTM2|RTM3',\n",
       " 'RTM2[AT5G04890]',\n",
       " 'RTM3[AT3G58350]',\n",
       " 'Rx1[Rx1]',\n",
       " 'Rx2[Rx2]',\n",
       " 'SA',\n",
       " 'SAG',\n",
       " 'SAG101',\n",
       " 'SAG101[AT5G14930]',\n",
       " 'SAG12',\n",
       " 'SAG12[AT5G45890]',\n",
       " 'SAGT',\n",
       " 'SAGT[AT2G43820,AT2G43840,AT4G31570]',\n",
       " 'SAHH',\n",
       " 'SAHH[AT3G23810,AT4G13940]',\n",
       " 'SAM',\n",
       " 'SAM3[AT2G36880]',\n",
       " 'SAMC',\n",
       " 'SAMC[AT1G34065,AT4G39460]',\n",
       " 'SAMS[AT1G02500,AT2G36880,AT3G17390,AT4G01850]',\n",
       " 'SAMe',\n",
       " 'SCF',\n",
       " 'SCF|SLY1',\n",
       " 'SCL14[AT1G07530]',\n",
       " 'SCL14|TGA2,5,6',\n",
       " 'SEN4',\n",
       " 'SEN4[AT4G30270]',\n",
       " 'SGE',\n",
       " 'SGT1',\n",
       " 'SGT1[AT4G11260,AT4G23570]',\n",
       " 'SL',\n",
       " 'SLR1[LOC_OS06G03710]',\n",
       " 'SLY',\n",
       " 'SLY1[AT4G24210]',\n",
       " 'SLs',\n",
       " 'SOD',\n",
       " 'SOD[AT1G08830,AT1G12520,AT2G28190,AT3G10920,AT3G56350,AT4G00651,AT4G25100,AT5G18100,AT5G23310,AT5G51100]',\n",
       " 'SR1IP1[AT5G67385]',\n",
       " 'TAS3',\n",
       " 'TAS3[AT3G17185,AT5G49615]',\n",
       " 'TDX',\n",
       " 'TDX[AT3G17880]',\n",
       " 'TGA',\n",
       " 'TGA2,5,6[AT3G12250,AT5G06950,AT5G06960]',\n",
       " 'TRAF',\n",
       " 'TRX-H',\n",
       " 'TRX-H[AT1G19730,AT1G45145,AT5G42980]',\n",
       " 'Thr',\n",
       " 'TransCA',\n",
       " 'Trichome-initiation',\n",
       " 'UDP glucose',\n",
       " 'UGT73',\n",
       " 'UGT73C1,C5[AT2G36750,AT2G36800]',\n",
       " 'UGT76',\n",
       " 'UGT76C1,C2[AT5G05860,AT5G05870]',\n",
       " 'UGT77',\n",
       " 'UGT85',\n",
       " 'UGT85A1[AT1G22400]',\n",
       " 'UPL5[AT4G12570]',\n",
       " 'VDAC1',\n",
       " 'VPg',\n",
       " 'VSP',\n",
       " 'VSP[AT5G24770,AT5G24780]',\n",
       " 'WAK',\n",
       " 'WAK1[AT1G21250]',\n",
       " 'WD/bHLH/MYB',\n",
       " 'WD40',\n",
       " 'WRKY',\n",
       " 'WRKY11[AT4G31550]',\n",
       " 'WRKY17[AT2G24570]',\n",
       " 'WRKY28[AT4G18170]',\n",
       " 'WRKY30[AT5G24110]',\n",
       " 'WRKY30|WRKY53',\n",
       " 'WRKY33[AT2G38470]',\n",
       " 'WRKY46[AT2G46400]',\n",
       " 'WRKY48[AT5G49520]',\n",
       " 'WRKY53[AT4G23810]',\n",
       " 'WRKY57[AT1G69310]',\n",
       " 'WRKY6[AT1G62300]',\n",
       " 'WRKY70[AT3G56400]',\n",
       " 'WRKY8[AT5G46350]',\n",
       " 'X1',\n",
       " 'X1[X1]',\n",
       " 'X2',\n",
       " 'X3',\n",
       " 'X4',\n",
       " 'X4[X4]',\n",
       " 'XRN',\n",
       " 'all-trans-&beta;-carotene',\n",
       " 'alpha-linolenic-acid',\n",
       " 'anthocyanin',\n",
       " 'bHLH',\n",
       " 'cZ',\n",
       " 'cZ7G',\n",
       " 'cZ9G',\n",
       " 'cZOG',\n",
       " 'cZR',\n",
       " 'cZRMP',\n",
       " 'cZROG',\n",
       " 'ch',\n",
       " 'cis-prenyl-tRNA',\n",
       " 'e-',\n",
       " 'elf18',\n",
       " 'ent-Copalyl-PP',\n",
       " 'ent-Kaurene',\n",
       " 'ent-Kaurenoic acid',\n",
       " 'flg22',\n",
       " 'iP',\n",
       " 'iP7G',\n",
       " 'iP9G',\n",
       " 'iPOG',\n",
       " 'iPR',\n",
       " 'iPRDP',\n",
       " 'iPRMP',\n",
       " 'iPROG',\n",
       " 'iPRTP',\n",
       " 'miR159',\n",
       " 'miR159a[miR159a]',\n",
       " 'miR159b[miR159b]',\n",
       " 'miR167',\n",
       " 'miR167e-3p[miR167e-3p]',\n",
       " 'miR319',\n",
       " 'miR319a-3p[miR319a-3p]',\n",
       " 'miR6022',\n",
       " 'miR6022[miR6022-3p]',\n",
       " 'oomycete',\n",
       " 'phasiRNA931',\n",
       " 'phasiRNA931[phasiRNA931]',\n",
       " 'potyvirus',\n",
       " 'prenyl-tRNA',\n",
       " 'ribosome',\n",
       " 'tRNA',\n",
       " 'tZ',\n",
       " 'tZ7G',\n",
       " 'tZ9G',\n",
       " 'tZOG',\n",
       " 'tZR',\n",
       " 'tZRDP',\n",
       " 'tZRMP',\n",
       " 'tZROG',\n",
       " 'tZRP',\n",
       " 'tZRTP',\n",
       " 'trichous-bacteria',\n",
       " 'vsiRNA12986',\n",
       " 'vsiRNA12986[vsiRNA12986]',\n",
       " 'vsiRNA34327',\n",
       " 'vsiRNA34327[vsiRNA34327]'}"
      ]
     },
     "execution_count": 11,
     "metadata": {},
     "output_type": "execute_result"
    }
   ],
   "source": [
    "all_nodes_in_components"
   ]
  },
  {
   "cell_type": "code",
   "execution_count": 12,
   "metadata": {},
   "outputs": [
    {
     "data": {
      "text/plain": [
       "656"
      ]
     },
     "execution_count": 12,
     "metadata": {},
     "output_type": "execute_result"
    }
   ],
   "source": [
    "len(all_nodes_in_components)"
   ]
  },
  {
   "cell_type": "code",
   "execution_count": 13,
   "metadata": {},
   "outputs": [
    {
     "data": {
      "text/plain": [
       "<module 'helpers' from '/home/jovyan/work/helpers.py'>"
      ]
     },
     "execution_count": 13,
     "metadata": {},
     "output_type": "execute_result"
    }
   ],
   "source": [
    "reload(helpers)"
   ]
  },
  {
   "cell_type": "code",
   "execution_count": 14,
   "metadata": {},
   "outputs": [
    {
     "name": "stdout",
     "output_type": "stream",
     "text": [
      "FunctionalCluster 245\n",
      "ForeignEntity 3\n",
      "ForeignCoding 14\n",
      "ForeignNonCoding 0\n",
      "ForeignAbstract 0\n",
      "Complex 94\n",
      "Process 6\n",
      "MetaboliteFamily 6\n",
      "Metabolite 110\n"
     ]
    }
   ],
   "source": [
    "node_dict = {}\n",
    "for label in helpers.reaction_participant_labels:\n",
    "    if label == \"Metabolite\":\n",
    "        q = '''MATCH (n:%s) WHERE NOT n:MetaboliteFamily RETURN DISTINCT n.name'''%label\n",
    "    else:\n",
    "        q = '''MATCH (n:%s) RETURN DISTINCT n.name'''%label\n",
    "    s = set([d['n.name'] for d in graph.run(q).data()])\n",
    "    print(label, len(s))\n",
    "    node_dict[label] = s\n",
    "\n",
    "    "
   ]
  },
  {
   "cell_type": "code",
   "execution_count": 15,
   "metadata": {},
   "outputs": [],
   "source": [
    "all_species = ['ath', 'osa', 'stu', 'sly']"
   ]
  },
  {
   "cell_type": "markdown",
   "metadata": {},
   "source": [
    "### Reactions sheet"
   ]
  },
  {
   "cell_type": "code",
   "execution_count": 16,
   "metadata": {},
   "outputs": [],
   "source": [
    "df_edges = pd.read_csv(parsed_path / \"edges-sheet.tsv\", sep=\"\\t\", index_col=0)"
   ]
  },
  {
   "cell_type": "code",
   "execution_count": 17,
   "metadata": {},
   "outputs": [
    {
     "data": {
      "text/html": [
       "<div>\n",
       "<style scoped>\n",
       "    .dataframe tbody tr th:only-of-type {\n",
       "        vertical-align: middle;\n",
       "    }\n",
       "\n",
       "    .dataframe tbody tr th {\n",
       "        vertical-align: top;\n",
       "    }\n",
       "\n",
       "    .dataframe thead th {\n",
       "        text-align: right;\n",
       "    }\n",
       "</style>\n",
       "<table border=\"1\" class=\"dataframe\">\n",
       "  <thead>\n",
       "    <tr style=\"text-align: right;\">\n",
       "      <th></th>\n",
       "      <th>Status</th>\n",
       "      <th>AddedBy</th>\n",
       "      <th>ConnID</th>\n",
       "      <th>Species</th>\n",
       "      <th>input1_ID</th>\n",
       "      <th>input1_level</th>\n",
       "      <th>input1_localisation</th>\n",
       "      <th>input1_type</th>\n",
       "      <th>input2_ID</th>\n",
       "      <th>input2_level</th>\n",
       "      <th>...</th>\n",
       "      <th>output1_family</th>\n",
       "      <th>input1_newID</th>\n",
       "      <th>input2_newID</th>\n",
       "      <th>input3_newID</th>\n",
       "      <th>output1_newID</th>\n",
       "      <th>input1_location</th>\n",
       "      <th>input2_location</th>\n",
       "      <th>input3_location</th>\n",
       "      <th>output1_location</th>\n",
       "      <th>reaction_type</th>\n",
       "    </tr>\n",
       "  </thead>\n",
       "  <tbody>\n",
       "    <tr>\n",
       "      <th>0</th>\n",
       "      <td>forCB</td>\n",
       "      <td>KG</td>\n",
       "      <td>Conn001</td>\n",
       "      <td>ath</td>\n",
       "      <td>L-Met</td>\n",
       "      <td>family</td>\n",
       "      <td>ER</td>\n",
       "      <td>metabolite</td>\n",
       "      <td>SAMS</td>\n",
       "      <td>clade</td>\n",
       "      <td>...</td>\n",
       "      <td>NaN</td>\n",
       "      <td>L-Met</td>\n",
       "      <td>SAMS[AT1G02500,AT2G36880,AT3G17390,AT4G01850]</td>\n",
       "      <td>NaN</td>\n",
       "      <td>SAMe</td>\n",
       "      <td>endoplasmic reticulum</td>\n",
       "      <td>endoplasmic reticulum</td>\n",
       "      <td>putative:cytoplasm</td>\n",
       "      <td>endoplasmic reticulum</td>\n",
       "      <td>catalysis/auto-catalysis</td>\n",
       "    </tr>\n",
       "    <tr>\n",
       "      <th>1</th>\n",
       "      <td>forCB</td>\n",
       "      <td>KG</td>\n",
       "      <td>Conn002</td>\n",
       "      <td>ath</td>\n",
       "      <td>SAMe</td>\n",
       "      <td>family</td>\n",
       "      <td>ER</td>\n",
       "      <td>metabolite</td>\n",
       "      <td>ACS</td>\n",
       "      <td>family</td>\n",
       "      <td>...</td>\n",
       "      <td>NaN</td>\n",
       "      <td>SAMe</td>\n",
       "      <td>ACS[AT1G01480,AT1G62960,AT2G22810,AT3G49700,AT...</td>\n",
       "      <td>NaN</td>\n",
       "      <td>ACC</td>\n",
       "      <td>endoplasmic reticulum</td>\n",
       "      <td>endoplasmic reticulum</td>\n",
       "      <td>putative:cytoplasm</td>\n",
       "      <td>endoplasmic reticulum</td>\n",
       "      <td>catalysis/auto-catalysis</td>\n",
       "    </tr>\n",
       "    <tr>\n",
       "      <th>2</th>\n",
       "      <td>forCB</td>\n",
       "      <td>KG</td>\n",
       "      <td>Conn003</td>\n",
       "      <td>ath</td>\n",
       "      <td>ACC</td>\n",
       "      <td>family</td>\n",
       "      <td>ER</td>\n",
       "      <td>metabolite</td>\n",
       "      <td>ACO</td>\n",
       "      <td>family</td>\n",
       "      <td>...</td>\n",
       "      <td>NaN</td>\n",
       "      <td>ACC</td>\n",
       "      <td>ACO[AT1G05010,AT1G12010,AT1G62380,AT1G77330,AT...</td>\n",
       "      <td>NaN</td>\n",
       "      <td>ET</td>\n",
       "      <td>endoplasmic reticulum</td>\n",
       "      <td>endoplasmic reticulum</td>\n",
       "      <td>putative:cytoplasm</td>\n",
       "      <td>endoplasmic reticulum</td>\n",
       "      <td>catalysis/auto-catalysis</td>\n",
       "    </tr>\n",
       "    <tr>\n",
       "      <th>3</th>\n",
       "      <td>forCB</td>\n",
       "      <td>KG</td>\n",
       "      <td>Conn004</td>\n",
       "      <td>ath</td>\n",
       "      <td>Cu2+</td>\n",
       "      <td>family</td>\n",
       "      <td>cytoplasm</td>\n",
       "      <td>metabolite</td>\n",
       "      <td>HMA</td>\n",
       "      <td>family</td>\n",
       "      <td>...</td>\n",
       "      <td>NaN</td>\n",
       "      <td>Cu2+</td>\n",
       "      <td>HMA[AT1G63440,AT4G33520,AT5G21930,AT5G44790]</td>\n",
       "      <td>NaN</td>\n",
       "      <td>Cu2+</td>\n",
       "      <td>cytoplasm</td>\n",
       "      <td>endoplasmic reticulum</td>\n",
       "      <td>putative:cytoplasm</td>\n",
       "      <td>endoplasmic reticulum</td>\n",
       "      <td>translocation</td>\n",
       "    </tr>\n",
       "    <tr>\n",
       "      <th>4</th>\n",
       "      <td>forCB</td>\n",
       "      <td>KG</td>\n",
       "      <td>Conn005</td>\n",
       "      <td>ath</td>\n",
       "      <td>ETR</td>\n",
       "      <td>family</td>\n",
       "      <td>ER</td>\n",
       "      <td>protein</td>\n",
       "      <td>Cu2+</td>\n",
       "      <td>family</td>\n",
       "      <td>...</td>\n",
       "      <td>ETR</td>\n",
       "      <td>ETR[AT1G04310,AT1G66340,AT2G40940,AT3G04580,AT...</td>\n",
       "      <td>Cu2+</td>\n",
       "      <td>NaN</td>\n",
       "      <td>ETR[AT1G04310,AT1G66340,AT2G40940,AT3G04580,AT...</td>\n",
       "      <td>endoplasmic reticulum</td>\n",
       "      <td>endoplasmic reticulum</td>\n",
       "      <td>putative:cytoplasm</td>\n",
       "      <td>endoplasmic reticulum</td>\n",
       "      <td>protein activation</td>\n",
       "    </tr>\n",
       "    <tr>\n",
       "      <th>5</th>\n",
       "      <td>forCB</td>\n",
       "      <td>KG</td>\n",
       "      <td>Conn006</td>\n",
       "      <td>ath</td>\n",
       "      <td>CTR</td>\n",
       "      <td>family</td>\n",
       "      <td>cytoplasm</td>\n",
       "      <td>protein [active]</td>\n",
       "      <td>ETR</td>\n",
       "      <td>family</td>\n",
       "      <td>...</td>\n",
       "      <td>NaN</td>\n",
       "      <td>CTR[AT4G24480,AT5G03730]</td>\n",
       "      <td>ETR[AT1G04310,AT1G66340,AT2G40940,AT3G04580,AT...</td>\n",
       "      <td>NaN</td>\n",
       "      <td>CTR|ETR</td>\n",
       "      <td>cytoplasm</td>\n",
       "      <td>endoplasmic reticulum</td>\n",
       "      <td>putative:cytoplasm</td>\n",
       "      <td>endoplasmic reticulum</td>\n",
       "      <td>binding/oligomerisation</td>\n",
       "    </tr>\n",
       "    <tr>\n",
       "      <th>6</th>\n",
       "      <td>forCB</td>\n",
       "      <td>KG</td>\n",
       "      <td>Conn007</td>\n",
       "      <td>ath</td>\n",
       "      <td>CTR|ETR</td>\n",
       "      <td>family</td>\n",
       "      <td>ER</td>\n",
       "      <td>complex</td>\n",
       "      <td>RTE1</td>\n",
       "      <td>family</td>\n",
       "      <td>...</td>\n",
       "      <td>NaN</td>\n",
       "      <td>CTR|ETR</td>\n",
       "      <td>RTE1[AT2G26070]</td>\n",
       "      <td>NaN</td>\n",
       "      <td>CTR|ETR</td>\n",
       "      <td>endoplasmic reticulum</td>\n",
       "      <td>golgi apparatus</td>\n",
       "      <td>putative:cytoplasm</td>\n",
       "      <td>endoplasmic reticulum</td>\n",
       "      <td>protein activation</td>\n",
       "    </tr>\n",
       "    <tr>\n",
       "      <th>7</th>\n",
       "      <td>_TBD</td>\n",
       "      <td>KG</td>\n",
       "      <td>Conn008</td>\n",
       "      <td>ath</td>\n",
       "      <td>ET</td>\n",
       "      <td>family</td>\n",
       "      <td>cytoplasm</td>\n",
       "      <td>metabolite</td>\n",
       "      <td>ETR</td>\n",
       "      <td>family</td>\n",
       "      <td>...</td>\n",
       "      <td>NaN</td>\n",
       "      <td>ET</td>\n",
       "      <td>ETR[AT1G04310,AT1G66340,AT2G40940,AT3G04580,AT...</td>\n",
       "      <td>NaN</td>\n",
       "      <td>ET|ETR</td>\n",
       "      <td>cytoplasm</td>\n",
       "      <td>cytoplasm</td>\n",
       "      <td>putative:cytoplasm</td>\n",
       "      <td>cytoplasm</td>\n",
       "      <td>binding/oligomerisation</td>\n",
       "    </tr>\n",
       "    <tr>\n",
       "      <th>8</th>\n",
       "      <td>forCB</td>\n",
       "      <td>KG</td>\n",
       "      <td>Conn009</td>\n",
       "      <td>ath</td>\n",
       "      <td>EIN2</td>\n",
       "      <td>node</td>\n",
       "      <td>ER</td>\n",
       "      <td>protein</td>\n",
       "      <td>ETP|SCF</td>\n",
       "      <td>family</td>\n",
       "      <td>...</td>\n",
       "      <td>EIN2</td>\n",
       "      <td>EIN2[AT5G03280]</td>\n",
       "      <td>ETP|SCF</td>\n",
       "      <td>NaN</td>\n",
       "      <td>EIN2[AT5G03280]</td>\n",
       "      <td>endoplasmic reticulum</td>\n",
       "      <td>cytoplasm</td>\n",
       "      <td>putative:cytoplasm</td>\n",
       "      <td>endoplasmic reticulum</td>\n",
       "      <td>protein activation</td>\n",
       "    </tr>\n",
       "    <tr>\n",
       "      <th>9</th>\n",
       "      <td>forCB</td>\n",
       "      <td>KG</td>\n",
       "      <td>Conn010</td>\n",
       "      <td>ath</td>\n",
       "      <td>CTR|ETR</td>\n",
       "      <td>family</td>\n",
       "      <td>ER</td>\n",
       "      <td>complex</td>\n",
       "      <td>EIN2</td>\n",
       "      <td>family</td>\n",
       "      <td>...</td>\n",
       "      <td>EIN2</td>\n",
       "      <td>CTR|ETR</td>\n",
       "      <td>EIN2[AT5G03280]</td>\n",
       "      <td>NaN</td>\n",
       "      <td>EIN2[AT5G03280]</td>\n",
       "      <td>endoplasmic reticulum</td>\n",
       "      <td>endoplasmic reticulum</td>\n",
       "      <td>putative:cytoplasm</td>\n",
       "      <td>endoplasmic reticulum</td>\n",
       "      <td>protein deactivation</td>\n",
       "    </tr>\n",
       "  </tbody>\n",
       "</table>\n",
       "<p>10 rows × 53 columns</p>\n",
       "</div>"
      ],
      "text/plain": [
       "  Status AddedBy   ConnID Species input1_ID input1_level input1_localisation  \\\n",
       "0  forCB      KG  Conn001     ath     L-Met       family                  ER   \n",
       "1  forCB      KG  Conn002     ath      SAMe       family                  ER   \n",
       "2  forCB      KG  Conn003     ath       ACC       family                  ER   \n",
       "3  forCB      KG  Conn004     ath      Cu2+       family           cytoplasm   \n",
       "4  forCB      KG  Conn005     ath       ETR       family                  ER   \n",
       "5  forCB      KG  Conn006     ath       CTR       family           cytoplasm   \n",
       "6  forCB      KG  Conn007     ath   CTR|ETR       family                  ER   \n",
       "7   _TBD      KG  Conn008     ath        ET       family           cytoplasm   \n",
       "8  forCB      KG  Conn009     ath      EIN2         node                  ER   \n",
       "9  forCB      KG  Conn010     ath   CTR|ETR       family                  ER   \n",
       "\n",
       "        input1_type input2_ID input2_level  ... output1_family  \\\n",
       "0        metabolite      SAMS        clade  ...            NaN   \n",
       "1        metabolite       ACS       family  ...            NaN   \n",
       "2        metabolite       ACO       family  ...            NaN   \n",
       "3        metabolite       HMA       family  ...            NaN   \n",
       "4           protein      Cu2+       family  ...            ETR   \n",
       "5  protein [active]       ETR       family  ...            NaN   \n",
       "6           complex      RTE1       family  ...            NaN   \n",
       "7        metabolite       ETR       family  ...            NaN   \n",
       "8           protein   ETP|SCF       family  ...           EIN2   \n",
       "9           complex      EIN2       family  ...           EIN2   \n",
       "\n",
       "                                        input1_newID  \\\n",
       "0                                              L-Met   \n",
       "1                                               SAMe   \n",
       "2                                                ACC   \n",
       "3                                               Cu2+   \n",
       "4  ETR[AT1G04310,AT1G66340,AT2G40940,AT3G04580,AT...   \n",
       "5                           CTR[AT4G24480,AT5G03730]   \n",
       "6                                            CTR|ETR   \n",
       "7                                                 ET   \n",
       "8                                    EIN2[AT5G03280]   \n",
       "9                                            CTR|ETR   \n",
       "\n",
       "                                        input2_newID input3_newID  \\\n",
       "0      SAMS[AT1G02500,AT2G36880,AT3G17390,AT4G01850]          NaN   \n",
       "1  ACS[AT1G01480,AT1G62960,AT2G22810,AT3G49700,AT...          NaN   \n",
       "2  ACO[AT1G05010,AT1G12010,AT1G62380,AT1G77330,AT...          NaN   \n",
       "3       HMA[AT1G63440,AT4G33520,AT5G21930,AT5G44790]          NaN   \n",
       "4                                               Cu2+          NaN   \n",
       "5  ETR[AT1G04310,AT1G66340,AT2G40940,AT3G04580,AT...          NaN   \n",
       "6                                    RTE1[AT2G26070]          NaN   \n",
       "7  ETR[AT1G04310,AT1G66340,AT2G40940,AT3G04580,AT...          NaN   \n",
       "8                                            ETP|SCF          NaN   \n",
       "9                                    EIN2[AT5G03280]          NaN   \n",
       "\n",
       "                                       output1_newID        input1_location  \\\n",
       "0                                               SAMe  endoplasmic reticulum   \n",
       "1                                                ACC  endoplasmic reticulum   \n",
       "2                                                 ET  endoplasmic reticulum   \n",
       "3                                               Cu2+              cytoplasm   \n",
       "4  ETR[AT1G04310,AT1G66340,AT2G40940,AT3G04580,AT...  endoplasmic reticulum   \n",
       "5                                            CTR|ETR              cytoplasm   \n",
       "6                                            CTR|ETR  endoplasmic reticulum   \n",
       "7                                             ET|ETR              cytoplasm   \n",
       "8                                    EIN2[AT5G03280]  endoplasmic reticulum   \n",
       "9                                    EIN2[AT5G03280]  endoplasmic reticulum   \n",
       "\n",
       "         input2_location     input3_location       output1_location  \\\n",
       "0  endoplasmic reticulum  putative:cytoplasm  endoplasmic reticulum   \n",
       "1  endoplasmic reticulum  putative:cytoplasm  endoplasmic reticulum   \n",
       "2  endoplasmic reticulum  putative:cytoplasm  endoplasmic reticulum   \n",
       "3  endoplasmic reticulum  putative:cytoplasm  endoplasmic reticulum   \n",
       "4  endoplasmic reticulum  putative:cytoplasm  endoplasmic reticulum   \n",
       "5  endoplasmic reticulum  putative:cytoplasm  endoplasmic reticulum   \n",
       "6        golgi apparatus  putative:cytoplasm  endoplasmic reticulum   \n",
       "7              cytoplasm  putative:cytoplasm              cytoplasm   \n",
       "8              cytoplasm  putative:cytoplasm  endoplasmic reticulum   \n",
       "9  endoplasmic reticulum  putative:cytoplasm  endoplasmic reticulum   \n",
       "\n",
       "              reaction_type  \n",
       "0  catalysis/auto-catalysis  \n",
       "1  catalysis/auto-catalysis  \n",
       "2  catalysis/auto-catalysis  \n",
       "3             translocation  \n",
       "4        protein activation  \n",
       "5   binding/oligomerisation  \n",
       "6        protein activation  \n",
       "7   binding/oligomerisation  \n",
       "8        protein activation  \n",
       "9      protein deactivation  \n",
       "\n",
       "[10 rows x 53 columns]"
      ]
     },
     "execution_count": 17,
     "metadata": {},
     "output_type": "execute_result"
    }
   ],
   "source": [
    "df_edges.head(10)"
   ]
  },
  {
   "cell_type": "code",
   "execution_count": 18,
   "metadata": {},
   "outputs": [
    {
     "data": {
      "text/html": [
       "<div>\n",
       "<style scoped>\n",
       "    .dataframe tbody tr th:only-of-type {\n",
       "        vertical-align: middle;\n",
       "    }\n",
       "\n",
       "    .dataframe tbody tr th {\n",
       "        vertical-align: top;\n",
       "    }\n",
       "\n",
       "    .dataframe thead th {\n",
       "        text-align: right;\n",
       "    }\n",
       "</style>\n",
       "<table border=\"1\" class=\"dataframe\">\n",
       "  <thead>\n",
       "    <tr style=\"text-align: right;\">\n",
       "      <th></th>\n",
       "      <th>input1_ID</th>\n",
       "      <th>input1_newID</th>\n",
       "      <th>input1_label</th>\n",
       "    </tr>\n",
       "  </thead>\n",
       "  <tbody>\n",
       "    <tr>\n",
       "      <th>341</th>\n",
       "      <td>DZ</td>\n",
       "      <td>DZ</td>\n",
       "      <td>Metabolite</td>\n",
       "    </tr>\n",
       "    <tr>\n",
       "      <th>345</th>\n",
       "      <td>DZ</td>\n",
       "      <td>DZ</td>\n",
       "      <td>Metabolite</td>\n",
       "    </tr>\n",
       "    <tr>\n",
       "      <th>346</th>\n",
       "      <td>DZ</td>\n",
       "      <td>DZ</td>\n",
       "      <td>Metabolite</td>\n",
       "    </tr>\n",
       "    <tr>\n",
       "      <th>347</th>\n",
       "      <td>DZ</td>\n",
       "      <td>DZ</td>\n",
       "      <td>Metabolite</td>\n",
       "    </tr>\n",
       "    <tr>\n",
       "      <th>348</th>\n",
       "      <td>DZ</td>\n",
       "      <td>DZ</td>\n",
       "      <td>Metabolite</td>\n",
       "    </tr>\n",
       "    <tr>\n",
       "      <th>349</th>\n",
       "      <td>DZ</td>\n",
       "      <td>DZ</td>\n",
       "      <td>Metabolite</td>\n",
       "    </tr>\n",
       "    <tr>\n",
       "      <th>350</th>\n",
       "      <td>DZ</td>\n",
       "      <td>DZ</td>\n",
       "      <td>Metabolite</td>\n",
       "    </tr>\n",
       "    <tr>\n",
       "      <th>351</th>\n",
       "      <td>DZ</td>\n",
       "      <td>DZ</td>\n",
       "      <td>Metabolite</td>\n",
       "    </tr>\n",
       "    <tr>\n",
       "      <th>352</th>\n",
       "      <td>DZ</td>\n",
       "      <td>DZ</td>\n",
       "      <td>Metabolite</td>\n",
       "    </tr>\n",
       "  </tbody>\n",
       "</table>\n",
       "</div>"
      ],
      "text/plain": [
       "    input1_ID input1_newID input1_label\n",
       "341        DZ           DZ   Metabolite\n",
       "345        DZ           DZ   Metabolite\n",
       "346        DZ           DZ   Metabolite\n",
       "347        DZ           DZ   Metabolite\n",
       "348        DZ           DZ   Metabolite\n",
       "349        DZ           DZ   Metabolite\n",
       "350        DZ           DZ   Metabolite\n",
       "351        DZ           DZ   Metabolite\n",
       "352        DZ           DZ   Metabolite"
      ]
     },
     "execution_count": 18,
     "metadata": {},
     "output_type": "execute_result"
    }
   ],
   "source": [
    "df_edges[df_edges['input1_ID']==\"DZ\"][['input1_ID', 'input1_newID', 'input1_label']]"
   ]
  },
  {
   "cell_type": "code",
   "execution_count": 19,
   "metadata": {},
   "outputs": [
    {
     "data": {
      "text/plain": [
       "['-', '?', '[empty]', 'nan', 'n.a.', nan, '[undefined]', '']"
      ]
     },
     "execution_count": 19,
     "metadata": {},
     "output_type": "execute_result"
    }
   ],
   "source": [
    "helpers.empty_strings"
   ]
  },
  {
   "cell_type": "code",
   "execution_count": 20,
   "metadata": {},
   "outputs": [],
   "source": [
    "def generate_list(subdf, ids, new_name):\n",
    "    col_suffixes = ['_newID', '_location', '_label', '_form']\n",
    "    new_col_suffixes = ['_name', '_location', '_label', '_form']\n",
    "    \n",
    "    for old_suf, new_suf in zip(col_suffixes, new_col_suffixes):\n",
    "        new_col = new_name + new_suf\n",
    "        old_cols = [id_ + old_suf for id_ in ids]\n",
    "        subdf[new_col] = subdf[old_cols].apply(lambda x: [i for i in x.values], axis=1)\n",
    "        \n",
    "        \n",
    "def rename_target(subdf, id_, new_name):\n",
    "    col_suffixes = ['_newID', '_location', '_label', '_form']\n",
    "    new_col_suffixes = ['_name', '_location', '_label', '_form']\n",
    "    \n",
    "    for old_suf, new_suf in zip(col_suffixes, new_col_suffixes):\n",
    "        new_col = new_name + new_suf\n",
    "        old_col = id_ + old_suf\n",
    "        subdf[new_col] = subdf[old_col]"
   ]
  },
  {
   "cell_type": "code",
   "execution_count": 21,
   "metadata": {},
   "outputs": [],
   "source": [
    "def get_x_nodes(df, x):\n",
    "    rows_with_x = set()\n",
    "    for i, row in df.iterrows():\n",
    "        for col_prefix in ['input1', 'input2', 'input3', 'output1']:\n",
    "            if row[col_prefix + \"_newID\"] in x:\n",
    "                rows_with_x.add(i)\n",
    "    return rows_with_x"
   ]
  },
  {
   "cell_type": "code",
   "execution_count": 22,
   "metadata": {},
   "outputs": [],
   "source": [
    "def number_input_different(df, catalyst=False):\n",
    "    ''' If catalyst is True, it is the last \"input\" col. '''\n",
    "\n",
    "    if catalyst:\n",
    "        # two inputs, input2 -> catalyst\n",
    "        subdf2 = df[df[\"input3_newID\"].isna()].copy()\n",
    "        generate_list(subdf2, ['input1'], 'substrate')\n",
    "        rename_target(subdf2, 'input2', 'catalyst')\n",
    "\n",
    "        # three inputs, input3 -> catalyst\n",
    "        subdf3 = df[~df[\"input3_newID\"].isna()].copy()\n",
    "        generate_list(subdf3, ['input1', 'input2'], 'substrate')        \n",
    "        rename_target(subdf3, 'input3', 'catalyst') \n",
    "        \n",
    "    else:\n",
    "        # two inputs\n",
    "        subdf2 = df[df[\"input3_newID\"].isna()].copy()\n",
    "        generate_list(subdf2, ['input1', 'input2'], 'substrate')\n",
    "\n",
    "        # three inputs\n",
    "        subdf3 = df[~df[\"input3_newID\"].isna()].copy()\n",
    "        generate_list(subdf3, ['input1', 'input2', 'input3'], 'substrate')\n",
    "    \n",
    "    # combine\n",
    "    new_subdf = subdf2.append(subdf3)\n",
    "    rename_target(new_subdf, 'output1', 'product')\n",
    "    \n",
    "    return new_subdf"
   ]
  },
  {
   "cell_type": "code",
   "execution_count": 23,
   "metadata": {},
   "outputs": [],
   "source": [
    "# transcription genes\n",
    "\n",
    "substrate_cols = [ f'substrate{x}' for x in ['_name', '_label', '_form', '_location']] \n",
    "catalyst_cols = [ f'catalyst{x}' for x in ['_name', '_label', '_form', '_location']] \n",
    "product_cols = [ f'product{x}' for x in ['_name', '_label', '_form', '_location']] \n",
    "\n",
    "reaction_standard_columns = ['AddedBy', 'Species', \n",
    "       'AdditionalInfo',  'external_links', 'trust_level',\n",
    "       'ModelV', 'ReactionEffect', 'reaction_type', 'Modifications', 'reaction_id']"
   ]
  },
  {
   "cell_type": "markdown",
   "metadata": {},
   "source": [
    "# Add reactions"
   ]
  },
  {
   "cell_type": "code",
   "execution_count": 24,
   "metadata": {},
   "outputs": [],
   "source": [
    "def pretty_print_result(t, df, qr, input_type, multiplier=1):\n",
    "    if input_type in ['nodes', 'relationships']:\n",
    "        key = input_type + '_created'\n",
    "    else:\n",
    "        key = input_type\n",
    "    \n",
    "    try:\n",
    "        stat = qr.stats()[key]\n",
    "    except:\n",
    "        stat = 0\n",
    "    \n",
    "    print(f\"{t:20}\\t{df.shape[0]:3}\\t{stat:3}\", end=\"\")\n",
    "    if df.shape[0]*multiplier == stat:\n",
    "        print()\n",
    "    \n",
    "    elif df.shape[0]*multiplier < stat:\n",
    "        print(f\"\\t**too many {input_type} created**\")\n",
    "    else:\n",
    "        print(f\"\\t**not all {input_type} created**\")"
   ]
  },
  {
   "cell_type": "code",
   "execution_count": 25,
   "metadata": {},
   "outputs": [
    {
     "data": {
      "text/plain": [
       "0"
      ]
     },
     "execution_count": 25,
     "metadata": {},
     "output_type": "execute_result"
    }
   ],
   "source": [
    "df_edges.index.duplicated().sum()"
   ]
  },
  {
   "cell_type": "markdown",
   "metadata": {},
   "source": [
    "## binding / oligomerisation"
   ]
  },
  {
   "cell_type": "code",
   "execution_count": 26,
   "metadata": {},
   "outputs": [
    {
     "name": "stdout",
     "output_type": "stream",
     "text": [
      "BINDING_OGLIMERISATION 104\n"
     ]
    }
   ],
   "source": [
    "key = 'binding/oligomerisation'\n",
    "reaction_type = \"BINDING_OGLIMERISATION\"\n",
    "subdf = df_edges.loc[df_edges['reaction_type'] == key].copy()\n",
    "print(reaction_type, subdf.shape[0])"
   ]
  },
  {
   "cell_type": "code",
   "execution_count": 27,
   "metadata": {},
   "outputs": [],
   "source": [
    "binding_wo_catalyst = subdf.loc[subdf['Modifications'] != 'with catalyst']\n",
    "binding_w_catalyst = subdf.loc[subdf['Modifications'] == 'with catalyst']"
   ]
  },
  {
   "cell_type": "code",
   "execution_count": 28,
   "metadata": {},
   "outputs": [],
   "source": [
    "subdf_wo_catalyst = number_input_different(binding_wo_catalyst)\n",
    "subdf_w_catalyst = number_input_different(binding_w_catalyst, catalyst=True)"
   ]
  },
  {
   "cell_type": "code",
   "execution_count": 29,
   "metadata": {},
   "outputs": [
    {
     "name": "stdout",
     "output_type": "stream",
     "text": [
      "Reaction            \t104\t104\n"
     ]
    }
   ],
   "source": [
    "# make reaction nodes\n",
    "f = f\"{reaction_type}-reaction.tsv\"\n",
    "subdf[reaction_standard_columns].to_csv(f\"../data/import/{f}\", sep=\"\\t\", index=None)\n",
    "query = helpers.reaction_node_query(f, name=\"line.reaction_id\")\n",
    "\n",
    "qr = graph.run(query)\n",
    "pretty_print_result('Reaction', subdf, qr, 'nodes')"
   ]
  },
  {
   "cell_type": "markdown",
   "metadata": {},
   "source": [
    "### Without catalyst"
   ]
  },
  {
   "cell_type": "code",
   "execution_count": 30,
   "metadata": {},
   "outputs": [],
   "source": [
    "explode_cols = substrate_cols\n",
    "exploded_new_subdf = helpers.unnesting(subdf_wo_catalyst, explode_cols)#.drop_duplicates()"
   ]
  },
  {
   "cell_type": "code",
   "execution_count": 31,
   "metadata": {},
   "outputs": [
    {
     "data": {
      "text/plain": [
       "<module 'helpers' from '/home/jovyan/work/helpers.py'>"
      ]
     },
     "execution_count": 31,
     "metadata": {},
     "output_type": "execute_result"
    }
   ],
   "source": [
    "reload(helpers)"
   ]
  },
  {
   "cell_type": "code",
   "execution_count": 32,
   "metadata": {
    "scrolled": true
   },
   "outputs": [
    {
     "name": "stdout",
     "output_type": "stream",
     "text": [
      "Complex             \t 16\t 16\n",
      "ForeignCoding       \t 30\t 30\n",
      "ForeignEntity       \t  3\t  3\n",
      "Metabolite          \t 32\t 32\n",
      "PlantAbstract       \t  4\t  4\n",
      "PlantCoding         \t131\t131\n",
      "Process             \t  3\t  3\n"
     ]
    }
   ],
   "source": [
    "# binding substrate edges\n",
    "want_cols = reaction_standard_columns + substrate_cols\n",
    "\n",
    "for t, this_subdf in exploded_new_subdf.groupby(\"substrate_label\"):\n",
    "    f = f\"{reaction_type}-{t}-substrate_edges.tsv\"\n",
    "    this_subdf[want_cols].to_csv(f\"../data/import/{f}\", index=None, sep=\"\\t\")\n",
    "    if t in helpers.plant_node_labels:\n",
    "        labels = ['FunctionalCluster', t]\n",
    "    else:\n",
    "        labels = t\n",
    "    query = helpers.make_create_reaction_edge_query(f, 'SUBSTRATE', \n",
    "                                                    \"substrate\", \"dne\",\n",
    "                                                    source_label=labels, \n",
    "                                                    target_label=\"Reaction\", \n",
    "                                                    target_name=\"line.reaction_id\"\n",
    "                                                   )\n",
    "\n",
    "    qr = graph.run(query)\n",
    "\n",
    "    pretty_print_result(t, this_subdf, qr, 'relationships')\n"
   ]
  },
  {
   "cell_type": "code",
   "execution_count": 33,
   "metadata": {},
   "outputs": [
    {
     "data": {
      "text/plain": [
       "103"
      ]
     },
     "execution_count": 33,
     "metadata": {},
     "output_type": "execute_result"
    }
   ],
   "source": [
    "subdf_wo_catalyst.shape[0]"
   ]
  },
  {
   "cell_type": "code",
   "execution_count": 34,
   "metadata": {},
   "outputs": [
    {
     "name": "stdout",
     "output_type": "stream",
     "text": [
      "-                   \t 90\t 90\n",
      "-                   \t  9\t  9\n",
      "-                   \t  4\t  4\n"
     ]
    }
   ],
   "source": [
    "# binding product edges\n",
    "want_cols = reaction_standard_columns + product_cols\n",
    "\n",
    "for t, this_subdf in subdf_wo_catalyst.groupby(\"product_label\"):\n",
    "    f = f\"{reaction_type}-{t}-product_edges.tsv\"\n",
    "    this_subdf[want_cols].to_csv(f'../data/import/{f}', sep=\"\\t\", index=None)\n",
    "    if t in helpers.plant_node_labels:\n",
    "        labels = ['FunctionalCluster', t]\n",
    "    else:\n",
    "        labels = t\n",
    "    query = helpers.make_create_reaction_edge_query(f, \"PRODUCT\", \n",
    "                                                    \"dne\", \"product\",\n",
    "                                                    source_name=\"line.reaction_id\", \n",
    "                                                    source_label=\"Reaction\",\n",
    "                                                    target_label=labels\n",
    "                                                   )\n",
    "    qr = graph.run(query)\n",
    "    pretty_print_result('-', this_subdf, qr, 'relationships')"
   ]
  },
  {
   "cell_type": "markdown",
   "metadata": {},
   "source": [
    "### With catalyst"
   ]
  },
  {
   "cell_type": "code",
   "execution_count": 35,
   "metadata": {},
   "outputs": [],
   "source": [
    "explode_cols = substrate_cols\n",
    "exploded_new_subdf = helpers.unnesting(subdf_w_catalyst, explode_cols).drop_duplicates()"
   ]
  },
  {
   "cell_type": "code",
   "execution_count": 36,
   "metadata": {},
   "outputs": [
    {
     "name": "stdout",
     "output_type": "stream",
     "text": [
      "PlantCoding         \t  1\t  1\n"
     ]
    }
   ],
   "source": [
    "# binding substrate edges\n",
    "want_cols = reaction_standard_columns + substrate_cols\n",
    "\n",
    "for t, this_subdf in exploded_new_subdf.groupby(\"substrate_label\"):\n",
    "    f = f\"{reaction_type}-wicat-{t}-substrate_edges.tsv\"\n",
    "    this_subdf[want_cols].to_csv(f\"../data/import/{f}\", index=None, sep=\"\\t\")\n",
    "    if t in helpers.plant_node_labels:\n",
    "        labels = ['FunctionalCluster', t]\n",
    "    else:\n",
    "        labels = t\n",
    "    query = helpers.make_create_reaction_edge_query(f, 'SUBSTRATE', \n",
    "                                                    \"substrate\", \"dne\",\n",
    "                                                    source_label=labels, \n",
    "                                                    target_label=\"Reaction\", \n",
    "                                                    target_name=\"line.reaction_id\"\n",
    "                                                   )\n",
    "\n",
    "    qr = graph.run(query)\n",
    "\n",
    "    pretty_print_result(t, this_subdf, qr, 'relationships')\n"
   ]
  },
  {
   "cell_type": "code",
   "execution_count": 37,
   "metadata": {},
   "outputs": [
    {
     "name": "stdout",
     "output_type": "stream",
     "text": [
      "PlantCoding         \t  1\t  1\n"
     ]
    }
   ],
   "source": [
    "# binding catalyst edges\n",
    "\n",
    "want_cols = reaction_standard_columns + catalyst_cols\n",
    "\n",
    "for t, this_subdf in exploded_new_subdf.groupby(\"substrate_label\"):\n",
    "    f = f\"{reaction_type}-wicat-{t}-catalyst_label_edges.tsv\"\n",
    "    this_subdf[want_cols].to_csv(f\"../data/import/{f}\", index=None, sep=\"\\t\")\n",
    "    if t in helpers.plant_node_labels:\n",
    "        labels = ['FunctionalCluster', t]\n",
    "    else:\n",
    "        labels = t\n",
    "    query = helpers.make_create_reaction_edge_query(f, 'ACTIVATES', \n",
    "                                                    \"catalyst\", \"dne\",\n",
    "                                                    source_label=labels, \n",
    "                                                    target_label=\"Reaction\", \n",
    "                                                    target_name=\"line.reaction_id\"\n",
    "                                                   )\n",
    "\n",
    "    qr = graph.run(query)\n",
    "\n",
    "    pretty_print_result(t, this_subdf, qr, 'relationships')\n",
    "    "
   ]
  },
  {
   "cell_type": "code",
   "execution_count": 38,
   "metadata": {},
   "outputs": [],
   "source": [
    "f = f\"{reaction_type}-wicat-catalyst-product_edges.tsv\"\n",
    "want_cols = reaction_standard_columns + product_cols\n",
    "subdf_w_catalyst[want_cols].to_csv(f'../data/import/{f}', sep=\"\\t\", index=None)"
   ]
  },
  {
   "cell_type": "code",
   "execution_count": 39,
   "metadata": {},
   "outputs": [
    {
     "name": "stdout",
     "output_type": "stream",
     "text": [
      "Complex             \t  1\t  1\n"
     ]
    }
   ],
   "source": [
    "# binding product edges\n",
    "want_cols = reaction_standard_columns + product_cols\n",
    "\n",
    "for t, this_subdf in subdf_w_catalyst.groupby(\"product_label\"):\n",
    "    f = f\"{reaction_type}-wicat-{t}-catalyst-product_edges.tsv\"\n",
    "    this_subdf[want_cols].to_csv(f'../data/import/{f}', sep=\"\\t\", index=None)\n",
    "    if t in helpers.plant_node_labels:\n",
    "        labels = ['FunctionalCluster', t]\n",
    "    else:\n",
    "        labels = t\n",
    "    query = helpers.make_create_reaction_edge_query(f, \"PRODUCT\", \n",
    "                                                    \"dne\", \"product\",\n",
    "                                                    source_name=\"line.reaction_id\", \n",
    "                                                    source_label=\"Reaction\",\n",
    "                                                    target_label=labels\n",
    "                                                   )\n",
    "    qr = graph.run(query)\n",
    "    pretty_print_result(t, this_subdf, qr, 'relationships')"
   ]
  },
  {
   "cell_type": "markdown",
   "metadata": {},
   "source": [
    "## catalysis / auto-catalysis"
   ]
  },
  {
   "cell_type": "code",
   "execution_count": 40,
   "metadata": {},
   "outputs": [
    {
     "name": "stdout",
     "output_type": "stream",
     "text": [
      "CATALYSIS 79\n"
     ]
    }
   ],
   "source": [
    "key = 'catalysis/auto-catalysis'\n",
    "reaction_type = 'CATALYSIS'\n",
    "subdf = df_edges[df_edges['reaction_type'] == key]\n",
    "print(reaction_type, subdf.shape[0])"
   ]
  },
  {
   "cell_type": "code",
   "execution_count": 41,
   "metadata": {},
   "outputs": [
    {
     "data": {
      "text/plain": [
       "0"
      ]
     },
     "execution_count": 41,
     "metadata": {},
     "output_type": "execute_result"
    }
   ],
   "source": [
    "subdf.duplicated().sum()"
   ]
  },
  {
   "cell_type": "code",
   "execution_count": 42,
   "metadata": {},
   "outputs": [
    {
     "name": "stdout",
     "output_type": "stream",
     "text": [
      "Reaction            \t 79\t 79\n"
     ]
    }
   ],
   "source": [
    "# make reaction nodes\n",
    "f = f\"{reaction_type}-reaction.tsv\"\n",
    "subdf[reaction_standard_columns].to_csv(f\"../data/import/{f}\", sep=\"\\t\", index=None)\n",
    "query = helpers.reaction_node_query(f, name=\"line.reaction_id\")\n",
    "\n",
    "qr = graph.run(query)\n",
    "pretty_print_result('Reaction', subdf, qr, 'nodes')"
   ]
  },
  {
   "cell_type": "code",
   "execution_count": 43,
   "metadata": {},
   "outputs": [],
   "source": [
    "catalysis_wo_catalyst = subdf[subdf['input2_ID'].isna() & subdf['input3_ID'].isna()]\n",
    "catalysis_w_catalyst = subdf[~(subdf['input2_ID'].isna() & subdf['input3_ID'].isna())]"
   ]
  },
  {
   "cell_type": "markdown",
   "metadata": {},
   "source": [
    "### With catalyst"
   ]
  },
  {
   "cell_type": "code",
   "execution_count": 44,
   "metadata": {},
   "outputs": [],
   "source": [
    "subdf_w_catalyst = number_input_different(catalysis_w_catalyst, catalyst=True)\n",
    "new_subdf = number_input_different(subdf_w_catalyst, catalyst=True)"
   ]
  },
  {
   "cell_type": "code",
   "execution_count": 45,
   "metadata": {},
   "outputs": [
    {
     "name": "stdout",
     "output_type": "stream",
     "text": [
      "Metabolite          \t 79\t 79\n",
      "PlantCoding         \t 21\t 21\n"
     ]
    }
   ],
   "source": [
    "# substrate to reaction\n",
    "exploded_new_subdf = helpers.unnesting(new_subdf, substrate_cols)\n",
    "want_cols = reaction_standard_columns + substrate_cols\n",
    "for t, this_subdf in exploded_new_subdf.groupby(\"substrate_label\"):\n",
    "    f = f\"{reaction_type}-wicat-{t}-substrate_edges.tsv\"\n",
    "    this_subdf[want_cols].to_csv(f\"../data/import/{f}\", index=None, sep=\"\\t\")\n",
    "    if t in helpers.plant_node_labels:\n",
    "        labels = ['FunctionalCluster', t]\n",
    "    else:\n",
    "        labels = t    \n",
    "    query = helpers.make_create_reaction_edge_query(f, 'SUBSTRATE', \n",
    "                                                    \"substrate\", \"dne\",\n",
    "                                                    source_label=labels, target_label=\"Reaction\", \n",
    "                                                    target_name=\"line.reaction_id\"\n",
    "                                                   )\n",
    "    qr = graph.run(query)\n",
    "    pretty_print_result(t, this_subdf, qr, 'relationships')"
   ]
  },
  {
   "cell_type": "code",
   "execution_count": 46,
   "metadata": {},
   "outputs": [
    {
     "name": "stdout",
     "output_type": "stream",
     "text": [
      "Metabolite          \t 21\t 21\n",
      "MetaboliteFamily    \t  1\t  1\n",
      "PlantAbstract       \t  3\t  3\n",
      "PlantCoding         \t 52\t 52\n",
      "Process             \t  1\t  1\n"
     ]
    }
   ],
   "source": [
    "# catalyst to reaction\n",
    "want_cols = reaction_standard_columns + catalyst_cols\n",
    "\n",
    "for t, this_subdf in subdf_w_catalyst.groupby(\"catalyst_label\"):\n",
    "    f = f\"{reaction_type}-wicat-{t}-catalyst_edges.tsv\"\n",
    "    this_subdf[want_cols].to_csv(f\"../data/import/{f}\", index=None, sep=\"\\t\")\n",
    "    if t in helpers.plant_node_labels:\n",
    "        labels = ['FunctionalCluster', t]\n",
    "    else:\n",
    "        labels = t        \n",
    "    query = helpers.make_create_reaction_edge_query(f, 'ACTIVATES', \n",
    "                                                    \"catalyst\", \"dne\",\n",
    "                                                    source_label=labels, target_label=\"Reaction\", \n",
    "                                                    target_name=\"line.reaction_id\"\n",
    "                                                   )\n",
    "    qr = graph.run(query)\n",
    "    pretty_print_result(t, this_subdf, qr, 'relationships')"
   ]
  },
  {
   "cell_type": "code",
   "execution_count": 47,
   "metadata": {},
   "outputs": [
    {
     "name": "stdout",
     "output_type": "stream",
     "text": [
      "Metabolite          \t 76\t 76\n",
      "MetaboliteFamily    \t  2\t  2\n"
     ]
    }
   ],
   "source": [
    "# product to reaction\n",
    "want_cols = reaction_standard_columns + product_cols\n",
    "for t, this_subdf in subdf_w_catalyst.groupby(\"product_label\"):\n",
    "    f = f\"{reaction_type}-wicat-{t}-product_edges.tsv\"    \n",
    "    this_subdf[want_cols].to_csv(f\"../data/import/{f}\", index=None, sep=\"\\t\")\n",
    "    if t in helpers.plant_node_labels:\n",
    "        labels = ['FunctionalCluster', t]\n",
    "    else:\n",
    "        labels = t       \n",
    "    query = helpers.make_create_reaction_edge_query(f, 'PRODUCT', \n",
    "                                                    \"dne\", \"product\",\n",
    "                                                    target_label=labels, source_label=\"Reaction\", \n",
    "                                                    source_name=\"line.reaction_id\"\n",
    "                                                   )    \n",
    "    qr = graph.run(query)\n",
    "\n",
    "    pretty_print_result(t, this_subdf, qr, 'relationships')"
   ]
  },
  {
   "cell_type": "markdown",
   "metadata": {},
   "source": [
    "### Without catalyst"
   ]
  },
  {
   "cell_type": "code",
   "execution_count": 48,
   "metadata": {},
   "outputs": [
    {
     "name": "stderr",
     "output_type": "stream",
     "text": [
      "<ipython-input-20-661505cdd578>:18: SettingWithCopyWarning: \n",
      "A value is trying to be set on a copy of a slice from a DataFrame.\n",
      "Try using .loc[row_indexer,col_indexer] = value instead\n",
      "\n",
      "See the caveats in the documentation: https://pandas.pydata.org/pandas-docs/stable/user_guide/indexing.html#returning-a-view-versus-a-copy\n",
      "  subdf[new_col] = subdf[old_col]\n"
     ]
    }
   ],
   "source": [
    "rename_target(catalysis_wo_catalyst, 'output1', 'product')\n",
    "rename_target(catalysis_wo_catalyst, 'input1',  'substrate')"
   ]
  },
  {
   "cell_type": "code",
   "execution_count": 49,
   "metadata": {},
   "outputs": [
    {
     "data": {
      "text/plain": [
       "378    rx00379\n",
       "Name: reaction_id, dtype: object"
      ]
     },
     "execution_count": 49,
     "metadata": {},
     "output_type": "execute_result"
    }
   ],
   "source": [
    "catalysis_wo_catalyst['reaction_id']"
   ]
  },
  {
   "cell_type": "code",
   "execution_count": 50,
   "metadata": {},
   "outputs": [
    {
     "name": "stdout",
     "output_type": "stream",
     "text": [
      "MetaboliteFamily    \t  1\t  1\n"
     ]
    }
   ],
   "source": [
    "# binding substrate edges\n",
    "want_cols = reaction_standard_columns + substrate_cols\n",
    "\n",
    "for t, this_subdf in catalysis_wo_catalyst.groupby(\"substrate_label\"):\n",
    "    f = f\"{reaction_type}-{t}-substrate_edges.tsv\"\n",
    "    this_subdf[want_cols].to_csv(f\"../data/import/{f}\", index=None, sep=\"\\t\")\n",
    "    if t in helpers.plant_node_labels:\n",
    "        labels = ['FunctionalCluster', t]\n",
    "    else:\n",
    "        labels = t          \n",
    "    query = helpers.make_create_reaction_edge_query(f, 'SUBSTRATE', \n",
    "                                                    \"substrate\", \"dne\",\n",
    "                                                    source_label=labels, \n",
    "                                                    target_label=\"Reaction\", \n",
    "                                                    target_name=\"line.reaction_id\"\n",
    "                                                   )\n",
    "\n",
    "    qr = graph.run(query)\n",
    "\n",
    "    pretty_print_result(t, this_subdf, qr, 'relationships')\n"
   ]
  },
  {
   "cell_type": "code",
   "execution_count": 51,
   "metadata": {},
   "outputs": [
    {
     "name": "stdout",
     "output_type": "stream",
     "text": [
      "-                   \t  1\t  1\n"
     ]
    }
   ],
   "source": [
    "# binding product edges\n",
    "want_cols = reaction_standard_columns + product_cols\n",
    "\n",
    "for t, this_subdf in catalysis_wo_catalyst.groupby(\"product_label\"):\n",
    "    f = f\"{reaction_type}-{t}-product_edges.tsv\"\n",
    "    this_subdf[want_cols].to_csv(f'../data/import/{f}', sep=\"\\t\", index=None)\n",
    "    if t in helpers.plant_node_labels:\n",
    "        labels = ['FunctionalCluster', t]\n",
    "    else:\n",
    "        labels = t\n",
    "    query = helpers.make_create_reaction_edge_query(f, \"PRODUCT\", \n",
    "                                                    \"dne\", \"product\",\n",
    "                                                    source_name=\"line.reaction_id\", \n",
    "                                                    source_label=\"Reaction\",\n",
    "                                                    target_label=labels\n",
    "                                                   )\n",
    "    qr = graph.run(query)\n",
    "    pretty_print_result('-', this_subdf, qr, 'relationships')"
   ]
  },
  {
   "cell_type": "code",
   "execution_count": 52,
   "metadata": {},
   "outputs": [
    {
     "data": {
      "text/plain": [
       "101"
      ]
     },
     "execution_count": 52,
     "metadata": {},
     "output_type": "execute_result"
    }
   ],
   "source": [
    "q = '''MATCH ()-[r:SUBSTRATE {reaction_type:\"catalysis/auto-catalysis\"}]->() RETURN r'''\n",
    "c = graph.run(q).data()\n",
    "len(c) # should be ??"
   ]
  },
  {
   "cell_type": "code",
   "execution_count": 53,
   "metadata": {},
   "outputs": [
    {
     "data": {
      "text/plain": [
       "79"
      ]
     },
     "execution_count": 53,
     "metadata": {},
     "output_type": "execute_result"
    }
   ],
   "source": [
    "q = '''MATCH ()-[r:PRODUCT {reaction_type:\"catalysis/auto-catalysis\"}]->() RETURN r'''\n",
    "c = graph.run(q).data()\n",
    "len(c) # should be ??"
   ]
  },
  {
   "cell_type": "markdown",
   "metadata": {},
   "source": [
    "## dissociation"
   ]
  },
  {
   "cell_type": "code",
   "execution_count": 54,
   "metadata": {},
   "outputs": [
    {
     "name": "stdout",
     "output_type": "stream",
     "text": [
      "DISSOCIATION 1\n"
     ]
    }
   ],
   "source": [
    "key = 'dissociation'\n",
    "reaction_type = 'DISSOCIATION'\n",
    "subdf = df_edges[df_edges['reaction_type'] == key].copy()\n",
    "print(reaction_type, subdf.shape[0])"
   ]
  },
  {
   "cell_type": "code",
   "execution_count": 55,
   "metadata": {
    "scrolled": false
   },
   "outputs": [
    {
     "data": {
      "text/html": [
       "<div>\n",
       "<style scoped>\n",
       "    .dataframe tbody tr th:only-of-type {\n",
       "        vertical-align: middle;\n",
       "    }\n",
       "\n",
       "    .dataframe tbody tr th {\n",
       "        vertical-align: top;\n",
       "    }\n",
       "\n",
       "    .dataframe thead th {\n",
       "        text-align: right;\n",
       "    }\n",
       "</style>\n",
       "<table border=\"1\" class=\"dataframe\">\n",
       "  <thead>\n",
       "    <tr style=\"text-align: right;\">\n",
       "      <th></th>\n",
       "      <th>Status</th>\n",
       "      <th>AddedBy</th>\n",
       "      <th>ConnID</th>\n",
       "      <th>Species</th>\n",
       "      <th>input1_ID</th>\n",
       "      <th>input1_level</th>\n",
       "      <th>input1_localisation</th>\n",
       "      <th>input1_type</th>\n",
       "      <th>input2_ID</th>\n",
       "      <th>input2_level</th>\n",
       "      <th>...</th>\n",
       "      <th>output1_family</th>\n",
       "      <th>input1_newID</th>\n",
       "      <th>input2_newID</th>\n",
       "      <th>input3_newID</th>\n",
       "      <th>output1_newID</th>\n",
       "      <th>input1_location</th>\n",
       "      <th>input2_location</th>\n",
       "      <th>input3_location</th>\n",
       "      <th>output1_location</th>\n",
       "      <th>reaction_type</th>\n",
       "    </tr>\n",
       "  </thead>\n",
       "  <tbody>\n",
       "    <tr>\n",
       "      <th>95</th>\n",
       "      <td>forCB</td>\n",
       "      <td>KG</td>\n",
       "      <td>Conn096</td>\n",
       "      <td>ath</td>\n",
       "      <td>NPR1|NPR1</td>\n",
       "      <td>family</td>\n",
       "      <td>cytoplasm</td>\n",
       "      <td>complex</td>\n",
       "      <td>TRX-H</td>\n",
       "      <td>family</td>\n",
       "      <td>...</td>\n",
       "      <td>NPR</td>\n",
       "      <td>NPR1|NPR1</td>\n",
       "      <td>TRX-H[AT1G19730,AT1G45145,AT5G42980]</td>\n",
       "      <td>NaN</td>\n",
       "      <td>NPR1[AT1G64280]</td>\n",
       "      <td>cytoplasm</td>\n",
       "      <td>cytoplasm</td>\n",
       "      <td>putative:cytoplasm</td>\n",
       "      <td>cytoplasm</td>\n",
       "      <td>dissociation</td>\n",
       "    </tr>\n",
       "  </tbody>\n",
       "</table>\n",
       "<p>1 rows × 53 columns</p>\n",
       "</div>"
      ],
      "text/plain": [
       "   Status AddedBy   ConnID Species  input1_ID input1_level  \\\n",
       "95  forCB      KG  Conn096     ath  NPR1|NPR1       family   \n",
       "\n",
       "   input1_localisation input1_type input2_ID input2_level  ... output1_family  \\\n",
       "95           cytoplasm     complex     TRX-H       family  ...            NPR   \n",
       "\n",
       "   input1_newID                          input2_newID input3_newID  \\\n",
       "95    NPR1|NPR1  TRX-H[AT1G19730,AT1G45145,AT5G42980]          NaN   \n",
       "\n",
       "      output1_newID input1_location input2_location     input3_location  \\\n",
       "95  NPR1[AT1G64280]       cytoplasm       cytoplasm  putative:cytoplasm   \n",
       "\n",
       "   output1_location reaction_type  \n",
       "95        cytoplasm  dissociation  \n",
       "\n",
       "[1 rows x 53 columns]"
      ]
     },
     "execution_count": 55,
     "metadata": {},
     "output_type": "execute_result"
    }
   ],
   "source": [
    "subdf"
   ]
  },
  {
   "cell_type": "code",
   "execution_count": 56,
   "metadata": {},
   "outputs": [],
   "source": [
    "rename_target(subdf, 'output1', 'product')\n",
    "rename_target(subdf, 'input1',  'substrate')\n",
    "rename_target(subdf, 'input2',  'catalyst')"
   ]
  },
  {
   "cell_type": "code",
   "execution_count": 57,
   "metadata": {},
   "outputs": [
    {
     "name": "stdout",
     "output_type": "stream",
     "text": [
      "Reaction            \t  1\t  1\n"
     ]
    }
   ],
   "source": [
    "# make reaction nodes\n",
    "f = f\"{reaction_type}-reaction.tsv\"\n",
    "subdf[reaction_standard_columns].to_csv(f\"../data/import/{f}\", sep=\"\\t\", index=None)\n",
    "query = helpers.reaction_node_query(f, name=\"line.reaction_id\")\n",
    "\n",
    "qr = graph.run(query)\n",
    "pretty_print_result('Reaction', subdf, qr, 'nodes')"
   ]
  },
  {
   "cell_type": "code",
   "execution_count": 58,
   "metadata": {},
   "outputs": [
    {
     "name": "stdout",
     "output_type": "stream",
     "text": [
      "-                   \t  1\t  1\n"
     ]
    }
   ],
   "source": [
    "# substrate to reaction edge\n",
    "f =  f\"{reaction_type}-{t}-substrate_edges.tsv\" \n",
    "want_cols = reaction_standard_columns + substrate_cols\n",
    "subdf.to_csv(f\"../data/import/{f}\", sep=\"\\t\", index=None)\n",
    "\n",
    "query = helpers.make_create_reaction_edge_query(f, 'SUBSTRATE',\n",
    "                                                \"substrate\", \"dne\", \n",
    "                                                target_label=\"Reaction\", \n",
    "                                                target_name=\"line.reaction_id\"\n",
    "                                                \n",
    "                              )\n",
    "qr = graph.run(query)\n",
    "pretty_print_result(\"-\", subdf, qr, 'relationships')"
   ]
  },
  {
   "cell_type": "code",
   "execution_count": 59,
   "metadata": {},
   "outputs": [
    {
     "name": "stdout",
     "output_type": "stream",
     "text": [
      "-                   \t  1\t  1\n"
     ]
    }
   ],
   "source": [
    "# catalyst to reaction edge\n",
    "\n",
    "f =  f\"{reaction_type}-{t}-catalyst_edges.tsv\" \n",
    "want_cols = reaction_standard_columns + catalyst_cols\n",
    "subdf.to_csv(f\"../data/import/{f}\", sep=\"\\t\", index=None)\n",
    "\n",
    "query = helpers.make_create_reaction_edge_query(f, 'ACTIVATES',\n",
    "                                                \"catalyst\" , \"dne\", \n",
    "                                                target_label=\"Reaction\", \n",
    "                                                target_name=\"line.reaction_id\"\n",
    "                              )\n",
    "qr = graph.run(query)\n",
    "pretty_print_result(\"-\", subdf, qr, 'relationships')"
   ]
  },
  {
   "cell_type": "code",
   "execution_count": 60,
   "metadata": {},
   "outputs": [
    {
     "data": {
      "text/plain": [
       "<module 'helpers' from '/home/jovyan/work/helpers.py'>"
      ]
     },
     "execution_count": 60,
     "metadata": {},
     "output_type": "execute_result"
    }
   ],
   "source": [
    "reload(helpers)"
   ]
  },
  {
   "cell_type": "code",
   "execution_count": 61,
   "metadata": {},
   "outputs": [
    {
     "name": "stdout",
     "output_type": "stream",
     "text": [
      "-                   \t  1\t  1\n"
     ]
    }
   ],
   "source": [
    "# product to reaction edge\n",
    "\n",
    "f =  f\"{reaction_type}-{t}-product_edges.tsv\" \n",
    "want_cols = reaction_standard_columns + product_cols\n",
    "subdf.to_csv(f\"../data/import/{f}\", sep=\"\\t\", index=None)\n",
    "\n",
    "query = helpers.make_create_reaction_edge_query(f, 'PRODUCT',\n",
    "                                                \"dne\" , \"product\", \n",
    "                                                source_name=\"line.reaction_id\", \n",
    "                                                source_label=\"Reaction\"\n",
    "                                               \n",
    "                              )\n",
    "qr = graph.run(query)\n",
    "pretty_print_result(\"-\", subdf, qr, 'relationships')"
   ]
  },
  {
   "cell_type": "markdown",
   "metadata": {},
   "source": [
    "## degradation"
   ]
  },
  {
   "cell_type": "code",
   "execution_count": 62,
   "metadata": {},
   "outputs": [
    {
     "name": "stdout",
     "output_type": "stream",
     "text": [
      "DEGRADATION_SECRETION 32\n"
     ]
    }
   ],
   "source": [
    "key = 'degradation/secretion'\n",
    "reaction_type = 'DEGRADATION_SECRETION'\n",
    "subdf = df_edges[df_edges['reaction_type'] == key].copy()\n",
    "print(reaction_type, subdf.shape[0])"
   ]
  },
  {
   "cell_type": "code",
   "execution_count": 63,
   "metadata": {},
   "outputs": [],
   "source": [
    "rename_target(subdf, 'input1',  'catalyst')\n",
    "rename_target(subdf, 'input2',  'substrate')"
   ]
  },
  {
   "cell_type": "code",
   "execution_count": 64,
   "metadata": {},
   "outputs": [
    {
     "name": "stdout",
     "output_type": "stream",
     "text": [
      "Reaction            \t 32\t 32\n"
     ]
    }
   ],
   "source": [
    "# make reaction nodes\n",
    "f = f\"{reaction_type}-reaction.tsv\"\n",
    "subdf[reaction_standard_columns].to_csv(f\"../data/import/{f}\", sep=\"\\t\", index=None)\n",
    "query = helpers.reaction_node_query(f, name=\"line.reaction_id\")\n",
    "\n",
    "qr = graph.run(query)\n",
    "pretty_print_result('Reaction', subdf, qr, 'nodes')"
   ]
  },
  {
   "cell_type": "code",
   "execution_count": 65,
   "metadata": {},
   "outputs": [
    {
     "name": "stdout",
     "output_type": "stream",
     "text": [
      "-                   \t 32\t 32\n"
     ]
    }
   ],
   "source": [
    "# substrate to reaction edge\n",
    "\n",
    "f =  f\"{reaction_type}-substrate_edges.tsv\" \n",
    "want_cols = reaction_standard_columns + substrate_cols\n",
    "subdf[want_cols].to_csv(f\"../data/import/{f}\", sep=\"\\t\", index=None)\n",
    "\n",
    "query = helpers.make_create_reaction_edge_query(f, 'SUBSTRATE',\n",
    "                                                \"substrate\", \"dne\", \n",
    "                                                target_label=\"Reaction\", \n",
    "                                                target_name=\"line.reaction_id\"\n",
    "                              )\n",
    "qr = graph.run(query)\n",
    "pretty_print_result('-', subdf, qr, 'relationships')"
   ]
  },
  {
   "cell_type": "code",
   "execution_count": 66,
   "metadata": {},
   "outputs": [
    {
     "name": "stdout",
     "output_type": "stream",
     "text": [
      "-                   \t 32\t 32\n"
     ]
    }
   ],
   "source": [
    "# catalyst to reaction edge\n",
    "\n",
    "f =  f\"{reaction_type}-catalyst_edges.tsv\" \n",
    "want_cols = reaction_standard_columns + catalyst_cols\n",
    "subdf[want_cols].to_csv(f\"../data/import/{f}\", sep=\"\\t\", index=None)\n",
    "\n",
    "query = helpers.make_create_reaction_edge_query(f, 'ACTIVATES',\n",
    "                                                \"catalyst\", \"dne\", \n",
    "                                                target_label=\"Reaction\", \n",
    "                                                target_name=\"line.reaction_id\"\n",
    "                              )\n",
    "qr = graph.run(query)\n",
    "pretty_print_result('-', subdf, qr, 'relationships')"
   ]
  },
  {
   "cell_type": "markdown",
   "metadata": {},
   "source": [
    "## translocation"
   ]
  },
  {
   "cell_type": "code",
   "execution_count": 67,
   "metadata": {},
   "outputs": [
    {
     "name": "stdout",
     "output_type": "stream",
     "text": [
      "TRANSLOCATION 5\n"
     ]
    }
   ],
   "source": [
    "key = 'translocation'\n",
    "reaction_type = 'TRANSLOCATION'\n",
    "subdf = df_edges[df_edges['reaction_type'] == key].copy()\n",
    "print(reaction_type, subdf.shape[0])"
   ]
  },
  {
   "cell_type": "code",
   "execution_count": 68,
   "metadata": {},
   "outputs": [],
   "source": [
    "rename_target(subdf, 'output1', 'product')\n",
    "rename_target(subdf, 'input1',  'substrate')\n",
    "rename_target(subdf, 'input2',  'catalyst')"
   ]
  },
  {
   "cell_type": "code",
   "execution_count": 69,
   "metadata": {},
   "outputs": [
    {
     "name": "stdout",
     "output_type": "stream",
     "text": [
      "Reaction            \t  5\t  5\n"
     ]
    }
   ],
   "source": [
    "# make reaction nodes\n",
    "f = f\"{reaction_type}-reaction.tsv\"\n",
    "subdf[reaction_standard_columns].to_csv(f\"../data/import/{f}\", sep=\"\\t\", index=None)\n",
    "query = helpers.reaction_node_query(f, name=\"line.reaction_id\")\n",
    "\n",
    "qr = graph.run(query)\n",
    "pretty_print_result('Reaction', subdf, qr, 'nodes')"
   ]
  },
  {
   "cell_type": "code",
   "execution_count": 70,
   "metadata": {},
   "outputs": [
    {
     "name": "stdout",
     "output_type": "stream",
     "text": [
      "-                   \t  5\t  5\n"
     ]
    }
   ],
   "source": [
    "# substrate to reaction edge\n",
    "\n",
    "f =  f\"{reaction_type}-substrate_edges.tsv\" \n",
    "want_cols = reaction_standard_columns + substrate_cols\n",
    "subdf[want_cols].to_csv(f\"../data/import/{f}\", sep=\"\\t\", index=None)\n",
    "\n",
    "query = helpers.make_create_reaction_edge_query(f, 'TRANSLOCATE_FROM',\n",
    "                                                \"substrate\", \"dne\", \n",
    "                                                target_label=\"Reaction\", \n",
    "                                                target_name=\"line.reaction_id\"\n",
    "                              )\n",
    "qr = graph.run(query)\n",
    "pretty_print_result('-', subdf, qr, 'relationships')"
   ]
  },
  {
   "cell_type": "code",
   "execution_count": 71,
   "metadata": {},
   "outputs": [
    {
     "name": "stdout",
     "output_type": "stream",
     "text": [
      "-                   \t  5\t  5\n"
     ]
    }
   ],
   "source": [
    "# catalyst to reaction edge\n",
    "\n",
    "f =  f\"{reaction_type}-catalyst_edges.tsv\" \n",
    "want_cols = reaction_standard_columns + catalyst_cols\n",
    "subdf[want_cols].to_csv(f\"../data/import/{f}\", sep=\"\\t\", index=None)\n",
    "\n",
    "query = helpers.make_create_reaction_edge_query(f, 'ACTIVATES',\n",
    "                                                \"catalyst\", \"dne\", \n",
    "                                                target_label=\"Reaction\", \n",
    "                                                target_name=\"line.reaction_id\"\n",
    "                              )\n",
    "qr = graph.run(query)\n",
    "pretty_print_result('-', subdf, qr, 'relationships')"
   ]
  },
  {
   "cell_type": "code",
   "execution_count": 72,
   "metadata": {},
   "outputs": [
    {
     "name": "stdout",
     "output_type": "stream",
     "text": [
      "-                   \t  5\t  5\n"
     ]
    }
   ],
   "source": [
    "# product edge\n",
    "f =  f\"{reaction_type}--product_edges.tsv\" \n",
    "want_cols = reaction_standard_columns + product_cols\n",
    "subdf[want_cols].to_csv(f\"../data/import/{f}\", sep=\"\\t\", index=None)\n",
    "\n",
    "query = helpers.make_create_reaction_edge_query(f, 'TRANSLOCATE_TO',\n",
    "                                                \"dne\" , \"product\", \n",
    "                                                source_name=\"line.reaction_id\", \n",
    "                                                source_label=\"Reaction\"\n",
    "                              )\n",
    "qr = graph.run(query)\n",
    "pretty_print_result('-', subdf, qr, 'relationships')"
   ]
  },
  {
   "cell_type": "markdown",
   "metadata": {},
   "source": [
    "## protein activation"
   ]
  },
  {
   "cell_type": "code",
   "execution_count": 73,
   "metadata": {},
   "outputs": [
    {
     "name": "stdout",
     "output_type": "stream",
     "text": [
      "PROTEIN_ACTIVATION 52\n"
     ]
    }
   ],
   "source": [
    "key = 'protein activation'\n",
    "reaction_type = 'PROTEIN_ACTIVATION'\n",
    "subdf = df_edges[df_edges['reaction_type'] == key].copy()\n",
    "print(reaction_type, subdf.shape[0])"
   ]
  },
  {
   "cell_type": "code",
   "execution_count": 74,
   "metadata": {},
   "outputs": [],
   "source": [
    "rename_target(subdf, 'output1', 'product')\n",
    "rename_target(subdf, 'input2',  'catalyst')\n",
    "rename_target(subdf, 'input1',  'substrate')"
   ]
  },
  {
   "cell_type": "code",
   "execution_count": 75,
   "metadata": {},
   "outputs": [
    {
     "name": "stdout",
     "output_type": "stream",
     "text": [
      "Reaction            \t 52\t 52\n"
     ]
    }
   ],
   "source": [
    "# make reaction nodes\n",
    "f = f\"{reaction_type}-reaction.tsv\"\n",
    "subdf[reaction_standard_columns].to_csv(f\"../data/import/{f}\", sep=\"\\t\", index=None)\n",
    "query = helpers.reaction_node_query(f, name=\"line.reaction_id\")\n",
    "\n",
    "qr = graph.run(query)\n",
    "pretty_print_result('Reaction', subdf, qr, 'nodes')"
   ]
  },
  {
   "cell_type": "code",
   "execution_count": 76,
   "metadata": {},
   "outputs": [
    {
     "name": "stdout",
     "output_type": "stream",
     "text": [
      "-                   \t 52\t 52\n"
     ]
    }
   ],
   "source": [
    "# substrate to reaction edge\n",
    "\n",
    "f =  f\"{reaction_type}-substrate_edges.tsv\" \n",
    "want_cols = reaction_standard_columns + substrate_cols\n",
    "subdf[want_cols].to_csv(f\"../data/import/{f}\", sep=\"\\t\", index=None)\n",
    "\n",
    "query = helpers.make_create_reaction_edge_query(f, 'SUBSTRATE',\n",
    "                                                \"substrate\", \"dne\", \n",
    "                                                target_label=\"Reaction\", \n",
    "                                                target_name=\"line.reaction_id\"\n",
    "                              )\n",
    "qr = graph.run(query)\n",
    "pretty_print_result('-', subdf, qr, 'relationships')"
   ]
  },
  {
   "cell_type": "code",
   "execution_count": 77,
   "metadata": {},
   "outputs": [
    {
     "name": "stdout",
     "output_type": "stream",
     "text": [
      "-                   \t 52\t 52\n"
     ]
    }
   ],
   "source": [
    "# catalyst to reaction edge\n",
    "\n",
    "f =  f\"{reaction_type}-catalyst_edges.tsv\" \n",
    "want_cols = reaction_standard_columns + catalyst_cols\n",
    "subdf[want_cols].to_csv(f\"../data/import/{f}\", sep=\"\\t\", index=None)\n",
    "\n",
    "query = helpers.make_create_reaction_edge_query(f, 'ACTIVATES',\n",
    "                                                \"catalyst\", \"dne\", \n",
    "                                                target_label=\"Reaction\", \n",
    "                                                target_name=\"line.reaction_id\"\n",
    "                              )\n",
    "qr = graph.run(query)\n",
    "pretty_print_result('-', subdf, qr, 'relationships')"
   ]
  },
  {
   "cell_type": "code",
   "execution_count": 78,
   "metadata": {},
   "outputs": [
    {
     "name": "stdout",
     "output_type": "stream",
     "text": [
      "-                   \t 52\t 52\n"
     ]
    }
   ],
   "source": [
    "# product to reaction edge\n",
    "f =  f\"{reaction_type}-product_edges.tsv\" \n",
    "want_cols = reaction_standard_columns + product_cols\n",
    "subdf[want_cols].to_csv(f\"../data/import/{f}\", sep=\"\\t\", index=None)\n",
    "\n",
    "query = helpers.make_create_reaction_edge_query(f, 'PRODUCT', \"dne\" , \"product\", \n",
    "                                                source_name=\"line.reaction_id\", \n",
    "                                                source_label=\"Reaction\"\n",
    "                              )\n",
    "qr = graph.run(query)\n",
    "pretty_print_result('-', subdf, qr, 'relationships')"
   ]
  },
  {
   "cell_type": "markdown",
   "metadata": {},
   "source": [
    "## protein deactivation"
   ]
  },
  {
   "cell_type": "code",
   "execution_count": 79,
   "metadata": {},
   "outputs": [
    {
     "name": "stdout",
     "output_type": "stream",
     "text": [
      "PROTEIN_DEACTIVATION 4\n"
     ]
    }
   ],
   "source": [
    "key = 'protein deactivation'\n",
    "reaction_type = 'PROTEIN_DEACTIVATION'\n",
    "subdf = df_edges[df_edges['reaction_type'] == key].copy()\n",
    "print(reaction_type, subdf.shape[0])"
   ]
  },
  {
   "cell_type": "code",
   "execution_count": 80,
   "metadata": {},
   "outputs": [],
   "source": [
    "rename_target(subdf, 'output1', 'product')\n",
    "rename_target(subdf, 'input2',  'substrate')\n",
    "rename_target(subdf, 'input1',  'catalyst')"
   ]
  },
  {
   "cell_type": "code",
   "execution_count": 81,
   "metadata": {},
   "outputs": [
    {
     "name": "stdout",
     "output_type": "stream",
     "text": [
      "Reaction            \t  4\t  4\n"
     ]
    }
   ],
   "source": [
    "# make reaction nodes\n",
    "f = f\"{reaction_type}-reaction.tsv\"\n",
    "subdf[reaction_standard_columns].to_csv(f\"../data/import/{f}\", sep=\"\\t\", index=None)\n",
    "query = helpers.reaction_node_query(f, name=\"line.reaction_id\")\n",
    "\n",
    "qr = graph.run(query)\n",
    "pretty_print_result('Reaction', subdf, qr, 'nodes')"
   ]
  },
  {
   "cell_type": "code",
   "execution_count": 82,
   "metadata": {},
   "outputs": [
    {
     "name": "stdout",
     "output_type": "stream",
     "text": [
      "-                   \t  4\t  4\n"
     ]
    }
   ],
   "source": [
    "# substrate to reaction edge\n",
    "\n",
    "f =  f\"{reaction_type}-substrate_edges.tsv\" \n",
    "want_cols = reaction_standard_columns + substrate_cols\n",
    "subdf[want_cols].to_csv(f\"../data/import/{f}\", sep=\"\\t\", index=None)\n",
    "\n",
    "query = helpers.make_create_reaction_edge_query(f, 'SUBSTRATE',\n",
    "                                                \"substrate\", \"dne\", \n",
    "                                                target_label=\"Reaction\", \n",
    "                                                target_name=\"line.reaction_id\"\n",
    "                              )\n",
    "qr = graph.run(query)\n",
    "pretty_print_result('-', subdf, qr, 'relationships')"
   ]
  },
  {
   "cell_type": "code",
   "execution_count": 83,
   "metadata": {},
   "outputs": [
    {
     "name": "stdout",
     "output_type": "stream",
     "text": [
      "-                   \t  4\t  4\n"
     ]
    }
   ],
   "source": [
    "# catalyst to reaction edge\n",
    "\n",
    "f =  f\"{reaction_type}-catalyst_edges.tsv\" \n",
    "want_cols = reaction_standard_columns + catalyst_cols\n",
    "subdf[want_cols].to_csv(f\"../data/import/{f}\", sep=\"\\t\", index=None)\n",
    "\n",
    "query = helpers.make_create_reaction_edge_query(f, 'ACTIVATES',\n",
    "                                                \"catalyst\", \"dne\", \n",
    "                                                target_label=\"Reaction\", \n",
    "                                                target_name=\"line.reaction_id\"\n",
    "                              )\n",
    "qr = graph.run(query)\n",
    "pretty_print_result('-', subdf, qr, 'relationships')"
   ]
  },
  {
   "cell_type": "code",
   "execution_count": 84,
   "metadata": {},
   "outputs": [
    {
     "name": "stdout",
     "output_type": "stream",
     "text": [
      "-                   \t  4\t  4\n"
     ]
    }
   ],
   "source": [
    "# product to reaction edge\n",
    "f =  f\"{reaction_type}-product_edges.tsv\" \n",
    "want_cols = reaction_standard_columns + product_cols\n",
    "subdf[want_cols].to_csv(f\"../data/import/{f}\", sep=\"\\t\", index=None)\n",
    "\n",
    "query = helpers.make_create_reaction_edge_query(f, 'PRODUCT', \n",
    "                                                \"dne\" , \"product\", \n",
    "                                                source_name=\"line.reaction_id\", \n",
    "                                                source_label=\"Reaction\"\n",
    "                              )\n",
    "qr = graph.run(query)\n",
    "pretty_print_result('-', subdf, qr, 'relationships')"
   ]
  },
  {
   "cell_type": "markdown",
   "metadata": {},
   "source": [
    "## transcriptional / translational regulation"
   ]
  },
  {
   "cell_type": "code",
   "execution_count": 85,
   "metadata": {},
   "outputs": [
    {
     "name": "stdout",
     "output_type": "stream",
     "text": [
      "TRANSCRIPTIONAL_TRANSLATIONAL 79\n"
     ]
    }
   ],
   "source": [
    "reaction_type = 'TRANSCRIPTIONAL_TRANSLATIONAL'\n",
    "keys = ['transcriptional/translational induction', 'transcriptional/translational repression']\n",
    "subdf = df_edges[df_edges['reaction_type'].isin(keys)]\n",
    "print(reaction_type, subdf.shape[0])"
   ]
  },
  {
   "cell_type": "code",
   "execution_count": 86,
   "metadata": {},
   "outputs": [],
   "source": [
    "def number_input_different_reverse(df):\n",
    "    ''' If catalyst is True, they are the first \"input\" cols. \n",
    "    last one is left as substrate. '''\n",
    "\n",
    "    # two inputs, input1 -> catalyst\n",
    "    subdf2 = df[df[\"input3_newID\"].isna()].copy()\n",
    "    generate_list(subdf2, ['input1'], 'catalyst')\n",
    "    rename_target(subdf2, 'input2', 'substrate')\n",
    "\n",
    "    # three inputs, input1, input2 -> catalyst\n",
    "    subdf3 = df[~df[\"input3_newID\"].isna()].copy()\n",
    "    generate_list(subdf3, ['input1', 'input2'], 'catalyst')        \n",
    "    rename_target(subdf3, 'input3', 'substrate')\n",
    "     \n",
    "    # combine\n",
    "    new_subdf = subdf2.append(subdf3)\n",
    "    rename_target(new_subdf, 'output1', 'product')\n",
    "    \n",
    "    return new_subdf"
   ]
  },
  {
   "cell_type": "code",
   "execution_count": 87,
   "metadata": {},
   "outputs": [],
   "source": [
    "new_subdf = number_input_different_reverse(subdf)"
   ]
  },
  {
   "cell_type": "code",
   "execution_count": 88,
   "metadata": {},
   "outputs": [
    {
     "data": {
      "text/html": [
       "<div>\n",
       "<style scoped>\n",
       "    .dataframe tbody tr th:only-of-type {\n",
       "        vertical-align: middle;\n",
       "    }\n",
       "\n",
       "    .dataframe tbody tr th {\n",
       "        vertical-align: top;\n",
       "    }\n",
       "\n",
       "    .dataframe thead th {\n",
       "        text-align: right;\n",
       "    }\n",
       "</style>\n",
       "<table border=\"1\" class=\"dataframe\">\n",
       "  <thead>\n",
       "    <tr style=\"text-align: right;\">\n",
       "      <th></th>\n",
       "      <th>Status</th>\n",
       "      <th>ConnID</th>\n",
       "      <th>substrate_name</th>\n",
       "      <th>product_name</th>\n",
       "    </tr>\n",
       "  </thead>\n",
       "  <tbody>\n",
       "    <tr>\n",
       "      <th>44</th>\n",
       "      <td>_TBD</td>\n",
       "      <td>Conn045</td>\n",
       "      <td>OMR1[AT3G10050]</td>\n",
       "      <td>COI1|OMR1</td>\n",
       "    </tr>\n",
       "    <tr>\n",
       "      <th>92</th>\n",
       "      <td>_TBD</td>\n",
       "      <td>Conn093</td>\n",
       "      <td>PAD4[AT3G52430]</td>\n",
       "      <td>NPR1|PAD4|TGA2,5,6</td>\n",
       "    </tr>\n",
       "    <tr>\n",
       "      <th>115</th>\n",
       "      <td>_TBD</td>\n",
       "      <td>Conn116</td>\n",
       "      <td>EDS5[AT2G21340,AT4G39030]</td>\n",
       "      <td>EDS5|NPR1|TGA2,5,6</td>\n",
       "    </tr>\n",
       "    <tr>\n",
       "      <th>117</th>\n",
       "      <td>_TBD</td>\n",
       "      <td>Conn118</td>\n",
       "      <td>EDS1[AT3G48090]</td>\n",
       "      <td>EDS1|NPR1|TGA2,5,6</td>\n",
       "    </tr>\n",
       "    <tr>\n",
       "      <th>119</th>\n",
       "      <td>_TBD</td>\n",
       "      <td>Conn120</td>\n",
       "      <td>PAD4[AT3G52430]</td>\n",
       "      <td>NPR1|PAD4|TGA2,5,6</td>\n",
       "    </tr>\n",
       "    <tr>\n",
       "      <th>148</th>\n",
       "      <td>_TBD</td>\n",
       "      <td>Conn149</td>\n",
       "      <td>GSTU24[AT1G17170]</td>\n",
       "      <td>GSTU24|ROS</td>\n",
       "    </tr>\n",
       "  </tbody>\n",
       "</table>\n",
       "</div>"
      ],
      "text/plain": [
       "    Status   ConnID             substrate_name        product_name\n",
       "44    _TBD  Conn045            OMR1[AT3G10050]           COI1|OMR1\n",
       "92    _TBD  Conn093            PAD4[AT3G52430]  NPR1|PAD4|TGA2,5,6\n",
       "115   _TBD  Conn116  EDS5[AT2G21340,AT4G39030]  EDS5|NPR1|TGA2,5,6\n",
       "117   _TBD  Conn118            EDS1[AT3G48090]  EDS1|NPR1|TGA2,5,6\n",
       "119   _TBD  Conn120            PAD4[AT3G52430]  NPR1|PAD4|TGA2,5,6\n",
       "148   _TBD  Conn149          GSTU24[AT1G17170]          GSTU24|ROS"
      ]
     },
     "execution_count": 88,
     "metadata": {},
     "output_type": "execute_result"
    }
   ],
   "source": [
    "new_subdf[new_subdf['substrate_name'] != new_subdf['product_name']][[\"Status\", \"ConnID\", 'substrate_name', 'product_name' ]]"
   ]
  },
  {
   "cell_type": "code",
   "execution_count": 89,
   "metadata": {
    "scrolled": true
   },
   "outputs": [
    {
     "data": {
      "text/html": [
       "<div>\n",
       "<style scoped>\n",
       "    .dataframe tbody tr th:only-of-type {\n",
       "        vertical-align: middle;\n",
       "    }\n",
       "\n",
       "    .dataframe tbody tr th {\n",
       "        vertical-align: top;\n",
       "    }\n",
       "\n",
       "    .dataframe thead th {\n",
       "        text-align: right;\n",
       "    }\n",
       "</style>\n",
       "<table border=\"1\" class=\"dataframe\">\n",
       "  <thead>\n",
       "    <tr style=\"text-align: right;\">\n",
       "      <th></th>\n",
       "      <th>Status</th>\n",
       "      <th>ConnID</th>\n",
       "      <th>substrate_name</th>\n",
       "      <th>substrate_label</th>\n",
       "      <th>substrate_form</th>\n",
       "      <th>substrate_location</th>\n",
       "    </tr>\n",
       "  </thead>\n",
       "  <tbody>\n",
       "    <tr>\n",
       "      <th>27</th>\n",
       "      <td>forCB</td>\n",
       "      <td>Conn028</td>\n",
       "      <td>LOX[AT1G17420,AT1G55020,AT1G67560,AT1G72520,AT...</td>\n",
       "      <td>PlantCoding</td>\n",
       "      <td>gene</td>\n",
       "      <td>chloroplast</td>\n",
       "    </tr>\n",
       "    <tr>\n",
       "      <th>97</th>\n",
       "      <td>forCB</td>\n",
       "      <td>Conn098</td>\n",
       "      <td>WRKY70[AT3G56400]</td>\n",
       "      <td>PlantCoding</td>\n",
       "      <td>gene</td>\n",
       "      <td>cytoplasm</td>\n",
       "    </tr>\n",
       "    <tr>\n",
       "      <th>110</th>\n",
       "      <td>forCB</td>\n",
       "      <td>Conn111</td>\n",
       "      <td>TAS3[AT3G17185,AT5G49615]</td>\n",
       "      <td>PlantNonCoding</td>\n",
       "      <td>gene</td>\n",
       "      <td>cytoplasm</td>\n",
       "    </tr>\n",
       "    <tr>\n",
       "      <th>123</th>\n",
       "      <td>forCB</td>\n",
       "      <td>Conn124</td>\n",
       "      <td>WRKY53[AT4G23810]</td>\n",
       "      <td>PlantCoding</td>\n",
       "      <td>gene</td>\n",
       "      <td>cytoplasm</td>\n",
       "    </tr>\n",
       "    <tr>\n",
       "      <th>160</th>\n",
       "      <td>forCB</td>\n",
       "      <td>Conn161</td>\n",
       "      <td>PAD4[AT3G52430]</td>\n",
       "      <td>PlantCoding</td>\n",
       "      <td>gene</td>\n",
       "      <td>cytoplasm</td>\n",
       "    </tr>\n",
       "    <tr>\n",
       "      <th>186</th>\n",
       "      <td>forCB</td>\n",
       "      <td>Conn187</td>\n",
       "      <td>ICS1[AT1G74710]</td>\n",
       "      <td>PlantCoding</td>\n",
       "      <td>gene</td>\n",
       "      <td>chloroplast</td>\n",
       "    </tr>\n",
       "    <tr>\n",
       "      <th>187</th>\n",
       "      <td>forCB</td>\n",
       "      <td>Conn188</td>\n",
       "      <td>ICS1[AT1G74710]</td>\n",
       "      <td>PlantCoding</td>\n",
       "      <td>gene</td>\n",
       "      <td>chloroplast</td>\n",
       "    </tr>\n",
       "    <tr>\n",
       "      <th>188</th>\n",
       "      <td>forCB</td>\n",
       "      <td>Conn189</td>\n",
       "      <td>ICS1[AT1G74710]</td>\n",
       "      <td>PlantCoding</td>\n",
       "      <td>gene</td>\n",
       "      <td>chloroplast</td>\n",
       "    </tr>\n",
       "    <tr>\n",
       "      <th>189</th>\n",
       "      <td>forCB</td>\n",
       "      <td>Conn190</td>\n",
       "      <td>ICS1[AT1G74710]</td>\n",
       "      <td>PlantCoding</td>\n",
       "      <td>gene</td>\n",
       "      <td>chloroplast</td>\n",
       "    </tr>\n",
       "    <tr>\n",
       "      <th>192</th>\n",
       "      <td>forCB</td>\n",
       "      <td>Conn193</td>\n",
       "      <td>ACO[AT1G05010,AT1G12010,AT1G62380,AT1G77330,AT...</td>\n",
       "      <td>PlantCoding</td>\n",
       "      <td>gene</td>\n",
       "      <td>endoplasmic reticulum</td>\n",
       "    </tr>\n",
       "    <tr>\n",
       "      <th>208</th>\n",
       "      <td>forCB</td>\n",
       "      <td>Conn209</td>\n",
       "      <td>OPR1[AT1G76680]</td>\n",
       "      <td>PlantCoding</td>\n",
       "      <td>gene</td>\n",
       "      <td>peroxisome</td>\n",
       "    </tr>\n",
       "    <tr>\n",
       "      <th>239</th>\n",
       "      <td>forCB</td>\n",
       "      <td>Conn240</td>\n",
       "      <td>ICS1[AT1G74710]</td>\n",
       "      <td>PlantCoding</td>\n",
       "      <td>gene</td>\n",
       "      <td>chloroplast</td>\n",
       "    </tr>\n",
       "    <tr>\n",
       "      <th>243</th>\n",
       "      <td>forCB</td>\n",
       "      <td>Conn244</td>\n",
       "      <td>WRKY70[AT3G56400]</td>\n",
       "      <td>PlantCoding</td>\n",
       "      <td>gene</td>\n",
       "      <td>cytoplasm</td>\n",
       "    </tr>\n",
       "    <tr>\n",
       "      <th>244</th>\n",
       "      <td>forCB</td>\n",
       "      <td>Conn245</td>\n",
       "      <td>WRKY46[AT2G46400]</td>\n",
       "      <td>PlantCoding</td>\n",
       "      <td>gene</td>\n",
       "      <td>cytoplasm</td>\n",
       "    </tr>\n",
       "    <tr>\n",
       "      <th>245</th>\n",
       "      <td>forCB</td>\n",
       "      <td>Conn246</td>\n",
       "      <td>WRKY46[AT2G46400]</td>\n",
       "      <td>PlantCoding</td>\n",
       "      <td>gene</td>\n",
       "      <td>cytoplasm</td>\n",
       "    </tr>\n",
       "    <tr>\n",
       "      <th>246</th>\n",
       "      <td>forCB</td>\n",
       "      <td>Conn247</td>\n",
       "      <td>WRKY46[AT2G46400]</td>\n",
       "      <td>PlantCoding</td>\n",
       "      <td>gene</td>\n",
       "      <td>cytoplasm</td>\n",
       "    </tr>\n",
       "    <tr>\n",
       "      <th>247</th>\n",
       "      <td>forCB</td>\n",
       "      <td>Conn248</td>\n",
       "      <td>ACS2[AT1G01480]</td>\n",
       "      <td>PlantCoding</td>\n",
       "      <td>gene</td>\n",
       "      <td>endoplasmic reticulum</td>\n",
       "    </tr>\n",
       "    <tr>\n",
       "      <th>248</th>\n",
       "      <td>forCB</td>\n",
       "      <td>Conn249</td>\n",
       "      <td>ACS6[AT4G11280]</td>\n",
       "      <td>PlantCoding</td>\n",
       "      <td>gene</td>\n",
       "      <td>endoplasmic reticulum</td>\n",
       "    </tr>\n",
       "    <tr>\n",
       "      <th>253</th>\n",
       "      <td>forCB</td>\n",
       "      <td>Conn254</td>\n",
       "      <td>ICS1[AT1G74710]</td>\n",
       "      <td>PlantCoding</td>\n",
       "      <td>gene</td>\n",
       "      <td>chloroplast</td>\n",
       "    </tr>\n",
       "    <tr>\n",
       "      <th>254</th>\n",
       "      <td>forCB</td>\n",
       "      <td>Conn255</td>\n",
       "      <td>ICS1[AT1G74710]</td>\n",
       "      <td>PlantCoding</td>\n",
       "      <td>gene</td>\n",
       "      <td>chloroplast</td>\n",
       "    </tr>\n",
       "    <tr>\n",
       "      <th>255</th>\n",
       "      <td>forCB</td>\n",
       "      <td>Conn256</td>\n",
       "      <td>ICS1[AT1G74710]</td>\n",
       "      <td>PlantCoding</td>\n",
       "      <td>gene</td>\n",
       "      <td>chloroplast</td>\n",
       "    </tr>\n",
       "    <tr>\n",
       "      <th>276</th>\n",
       "      <td>forCB</td>\n",
       "      <td>Conn277</td>\n",
       "      <td>GA20ox3[AT5G07200,SOLYC11G072310.2.1,SOTUB11G0...</td>\n",
       "      <td>PlantCoding</td>\n",
       "      <td>gene</td>\n",
       "      <td>putative:cytoplasm</td>\n",
       "    </tr>\n",
       "    <tr>\n",
       "      <th>277</th>\n",
       "      <td>forCB</td>\n",
       "      <td>Conn278</td>\n",
       "      <td>GA20ox1[AT4G25420,SOLYC03G006880.3.1,SOTUB03G0...</td>\n",
       "      <td>PlantCoding</td>\n",
       "      <td>gene</td>\n",
       "      <td>putative:cytoplasm</td>\n",
       "    </tr>\n",
       "    <tr>\n",
       "      <th>278</th>\n",
       "      <td>forCB</td>\n",
       "      <td>Conn279</td>\n",
       "      <td>GA20ox4[AT1G60980,SOLYC01G093980.3.1,SOTUB01G0...</td>\n",
       "      <td>PlantCoding</td>\n",
       "      <td>gene</td>\n",
       "      <td>putative:cytoplasm</td>\n",
       "    </tr>\n",
       "    <tr>\n",
       "      <th>279</th>\n",
       "      <td>forCB</td>\n",
       "      <td>Conn280</td>\n",
       "      <td>GA20ox.x3[SOTUB09G017710.1.1]</td>\n",
       "      <td>PlantCoding</td>\n",
       "      <td>gene</td>\n",
       "      <td>putative:cytoplasm</td>\n",
       "    </tr>\n",
       "    <tr>\n",
       "      <th>280</th>\n",
       "      <td>forCB</td>\n",
       "      <td>Conn281</td>\n",
       "      <td>GA20ox.x5[SOTUB10G011620.1.1]</td>\n",
       "      <td>PlantCoding</td>\n",
       "      <td>gene</td>\n",
       "      <td>putative:cytoplasm</td>\n",
       "    </tr>\n",
       "    <tr>\n",
       "      <th>301</th>\n",
       "      <td>forCB</td>\n",
       "      <td>Conn302</td>\n",
       "      <td>MYB33,65[AT3G11440,AT5G06100,SOLYC01G009070.3....</td>\n",
       "      <td>PlantCoding</td>\n",
       "      <td>gene</td>\n",
       "      <td>putative:cytoplasm</td>\n",
       "    </tr>\n",
       "    <tr>\n",
       "      <th>302</th>\n",
       "      <td>forCB</td>\n",
       "      <td>Conn303</td>\n",
       "      <td>MYB33,65[AT3G11440,AT5G06100,SOLYC01G009070.3....</td>\n",
       "      <td>PlantCoding</td>\n",
       "      <td>gene</td>\n",
       "      <td>putative:cytoplasm</td>\n",
       "    </tr>\n",
       "    <tr>\n",
       "      <th>303</th>\n",
       "      <td>forCB</td>\n",
       "      <td>Conn304</td>\n",
       "      <td>MYB33,65[AT3G11440,AT5G06100,SOLYC01G009070.3....</td>\n",
       "      <td>PlantCoding</td>\n",
       "      <td>gene</td>\n",
       "      <td>putative:cytoplasm</td>\n",
       "    </tr>\n",
       "    <tr>\n",
       "      <th>307</th>\n",
       "      <td>forCB</td>\n",
       "      <td>Conn308</td>\n",
       "      <td>MYB33[AT5G06100]</td>\n",
       "      <td>PlantCoding</td>\n",
       "      <td>gene</td>\n",
       "      <td>putative:cytoplasm</td>\n",
       "    </tr>\n",
       "    <tr>\n",
       "      <th>308</th>\n",
       "      <td>forCB</td>\n",
       "      <td>Conn309</td>\n",
       "      <td>NPR1[AT1G64280]</td>\n",
       "      <td>PlantCoding</td>\n",
       "      <td>gene</td>\n",
       "      <td>putative:cytoplasm</td>\n",
       "    </tr>\n",
       "    <tr>\n",
       "      <th>390</th>\n",
       "      <td>[TBD]</td>\n",
       "      <td>Conn405</td>\n",
       "      <td>ARR-A[AT1G10470,AT1G19050,AT1G59940,AT1G74890,...</td>\n",
       "      <td>PlantCoding</td>\n",
       "      <td>gene</td>\n",
       "      <td>putative:cytoplasm</td>\n",
       "    </tr>\n",
       "    <tr>\n",
       "      <th>393</th>\n",
       "      <td>NaN</td>\n",
       "      <td>Conn408</td>\n",
       "      <td>PR1[AT1G50060,AT2G14580,AT2G14610,AT4G33710,AT...</td>\n",
       "      <td>PlantCoding</td>\n",
       "      <td>gene</td>\n",
       "      <td>putative:cytoplasm</td>\n",
       "    </tr>\n",
       "    <tr>\n",
       "      <th>156</th>\n",
       "      <td>_TBD</td>\n",
       "      <td>Conn157</td>\n",
       "      <td>NAC032[AT1G77450]</td>\n",
       "      <td>PlantCoding</td>\n",
       "      <td>gene</td>\n",
       "      <td>putative:cytoplasm</td>\n",
       "    </tr>\n",
       "  </tbody>\n",
       "</table>\n",
       "</div>"
      ],
      "text/plain": [
       "    Status   ConnID                                     substrate_name  \\\n",
       "27   forCB  Conn028  LOX[AT1G17420,AT1G55020,AT1G67560,AT1G72520,AT...   \n",
       "97   forCB  Conn098                                  WRKY70[AT3G56400]   \n",
       "110  forCB  Conn111                          TAS3[AT3G17185,AT5G49615]   \n",
       "123  forCB  Conn124                                  WRKY53[AT4G23810]   \n",
       "160  forCB  Conn161                                    PAD4[AT3G52430]   \n",
       "186  forCB  Conn187                                    ICS1[AT1G74710]   \n",
       "187  forCB  Conn188                                    ICS1[AT1G74710]   \n",
       "188  forCB  Conn189                                    ICS1[AT1G74710]   \n",
       "189  forCB  Conn190                                    ICS1[AT1G74710]   \n",
       "192  forCB  Conn193  ACO[AT1G05010,AT1G12010,AT1G62380,AT1G77330,AT...   \n",
       "208  forCB  Conn209                                    OPR1[AT1G76680]   \n",
       "239  forCB  Conn240                                    ICS1[AT1G74710]   \n",
       "243  forCB  Conn244                                  WRKY70[AT3G56400]   \n",
       "244  forCB  Conn245                                  WRKY46[AT2G46400]   \n",
       "245  forCB  Conn246                                  WRKY46[AT2G46400]   \n",
       "246  forCB  Conn247                                  WRKY46[AT2G46400]   \n",
       "247  forCB  Conn248                                    ACS2[AT1G01480]   \n",
       "248  forCB  Conn249                                    ACS6[AT4G11280]   \n",
       "253  forCB  Conn254                                    ICS1[AT1G74710]   \n",
       "254  forCB  Conn255                                    ICS1[AT1G74710]   \n",
       "255  forCB  Conn256                                    ICS1[AT1G74710]   \n",
       "276  forCB  Conn277  GA20ox3[AT5G07200,SOLYC11G072310.2.1,SOTUB11G0...   \n",
       "277  forCB  Conn278  GA20ox1[AT4G25420,SOLYC03G006880.3.1,SOTUB03G0...   \n",
       "278  forCB  Conn279  GA20ox4[AT1G60980,SOLYC01G093980.3.1,SOTUB01G0...   \n",
       "279  forCB  Conn280                      GA20ox.x3[SOTUB09G017710.1.1]   \n",
       "280  forCB  Conn281                      GA20ox.x5[SOTUB10G011620.1.1]   \n",
       "301  forCB  Conn302  MYB33,65[AT3G11440,AT5G06100,SOLYC01G009070.3....   \n",
       "302  forCB  Conn303  MYB33,65[AT3G11440,AT5G06100,SOLYC01G009070.3....   \n",
       "303  forCB  Conn304  MYB33,65[AT3G11440,AT5G06100,SOLYC01G009070.3....   \n",
       "307  forCB  Conn308                                   MYB33[AT5G06100]   \n",
       "308  forCB  Conn309                                    NPR1[AT1G64280]   \n",
       "390  [TBD]  Conn405  ARR-A[AT1G10470,AT1G19050,AT1G59940,AT1G74890,...   \n",
       "393    NaN  Conn408  PR1[AT1G50060,AT2G14580,AT2G14610,AT4G33710,AT...   \n",
       "156   _TBD  Conn157                                  NAC032[AT1G77450]   \n",
       "\n",
       "    substrate_label substrate_form     substrate_location  \n",
       "27      PlantCoding           gene            chloroplast  \n",
       "97      PlantCoding           gene              cytoplasm  \n",
       "110  PlantNonCoding           gene              cytoplasm  \n",
       "123     PlantCoding           gene              cytoplasm  \n",
       "160     PlantCoding           gene              cytoplasm  \n",
       "186     PlantCoding           gene            chloroplast  \n",
       "187     PlantCoding           gene            chloroplast  \n",
       "188     PlantCoding           gene            chloroplast  \n",
       "189     PlantCoding           gene            chloroplast  \n",
       "192     PlantCoding           gene  endoplasmic reticulum  \n",
       "208     PlantCoding           gene             peroxisome  \n",
       "239     PlantCoding           gene            chloroplast  \n",
       "243     PlantCoding           gene              cytoplasm  \n",
       "244     PlantCoding           gene              cytoplasm  \n",
       "245     PlantCoding           gene              cytoplasm  \n",
       "246     PlantCoding           gene              cytoplasm  \n",
       "247     PlantCoding           gene  endoplasmic reticulum  \n",
       "248     PlantCoding           gene  endoplasmic reticulum  \n",
       "253     PlantCoding           gene            chloroplast  \n",
       "254     PlantCoding           gene            chloroplast  \n",
       "255     PlantCoding           gene            chloroplast  \n",
       "276     PlantCoding           gene     putative:cytoplasm  \n",
       "277     PlantCoding           gene     putative:cytoplasm  \n",
       "278     PlantCoding           gene     putative:cytoplasm  \n",
       "279     PlantCoding           gene     putative:cytoplasm  \n",
       "280     PlantCoding           gene     putative:cytoplasm  \n",
       "301     PlantCoding           gene     putative:cytoplasm  \n",
       "302     PlantCoding           gene     putative:cytoplasm  \n",
       "303     PlantCoding           gene     putative:cytoplasm  \n",
       "307     PlantCoding           gene     putative:cytoplasm  \n",
       "308     PlantCoding           gene     putative:cytoplasm  \n",
       "390     PlantCoding           gene     putative:cytoplasm  \n",
       "393     PlantCoding           gene     putative:cytoplasm  \n",
       "156     PlantCoding           gene     putative:cytoplasm  "
      ]
     },
     "execution_count": 89,
     "metadata": {},
     "output_type": "execute_result"
    }
   ],
   "source": [
    "new_subdf[(  (new_subdf['substrate_form'] == 'gene') & (new_subdf['substrate_location'] != 'nucleus')  )][[\"Status\", \"ConnID\"] + substrate_cols]"
   ]
  },
  {
   "cell_type": "code",
   "execution_count": 90,
   "metadata": {},
   "outputs": [],
   "source": [
    "#manualfix\n",
    "new_subdf.loc[(  (new_subdf['substrate_form'] == 'gene') & (new_subdf['substrate_location'] != 'nucleus')  ), 'substrate_location'] = 'nucleus'"
   ]
  },
  {
   "cell_type": "code",
   "execution_count": 91,
   "metadata": {},
   "outputs": [
    {
     "data": {
      "text/html": [
       "<div>\n",
       "<style scoped>\n",
       "    .dataframe tbody tr th:only-of-type {\n",
       "        vertical-align: middle;\n",
       "    }\n",
       "\n",
       "    .dataframe tbody tr th {\n",
       "        vertical-align: top;\n",
       "    }\n",
       "\n",
       "    .dataframe thead th {\n",
       "        text-align: right;\n",
       "    }\n",
       "</style>\n",
       "<table border=\"1\" class=\"dataframe\">\n",
       "  <thead>\n",
       "    <tr style=\"text-align: right;\">\n",
       "      <th></th>\n",
       "      <th>Status</th>\n",
       "      <th>AddedBy</th>\n",
       "      <th>ConnID</th>\n",
       "      <th>Species</th>\n",
       "      <th>input1_ID</th>\n",
       "      <th>input1_level</th>\n",
       "      <th>input1_localisation</th>\n",
       "      <th>input1_type</th>\n",
       "      <th>input2_ID</th>\n",
       "      <th>input2_level</th>\n",
       "      <th>...</th>\n",
       "      <th>catalyst_label</th>\n",
       "      <th>catalyst_form</th>\n",
       "      <th>substrate_name</th>\n",
       "      <th>substrate_location</th>\n",
       "      <th>substrate_label</th>\n",
       "      <th>substrate_form</th>\n",
       "      <th>product_name</th>\n",
       "      <th>product_location</th>\n",
       "      <th>product_label</th>\n",
       "      <th>product_form</th>\n",
       "    </tr>\n",
       "  </thead>\n",
       "  <tbody>\n",
       "    <tr>\n",
       "      <th>110</th>\n",
       "      <td>forCB</td>\n",
       "      <td>KG</td>\n",
       "      <td>Conn111</td>\n",
       "      <td>ath</td>\n",
       "      <td>MIR390</td>\n",
       "      <td>family</td>\n",
       "      <td>cytoplasm</td>\n",
       "      <td>ncRNA</td>\n",
       "      <td>TAS3</td>\n",
       "      <td>family</td>\n",
       "      <td>...</td>\n",
       "      <td>[PlantNonCoding]</td>\n",
       "      <td>[ncRNA]</td>\n",
       "      <td>TAS3[AT3G17185,AT5G49615]</td>\n",
       "      <td>nucleus</td>\n",
       "      <td>PlantNonCoding</td>\n",
       "      <td>gene</td>\n",
       "      <td>TAS3[AT3G17185,AT5G49615]</td>\n",
       "      <td>cytoplasm</td>\n",
       "      <td>PlantNonCoding</td>\n",
       "      <td>ncRNA</td>\n",
       "    </tr>\n",
       "  </tbody>\n",
       "</table>\n",
       "<p>1 rows × 65 columns</p>\n",
       "</div>"
      ],
      "text/plain": [
       "    Status AddedBy   ConnID Species input1_ID input1_level  \\\n",
       "110  forCB      KG  Conn111     ath    MIR390       family   \n",
       "\n",
       "    input1_localisation input1_type input2_ID input2_level  ...  \\\n",
       "110           cytoplasm       ncRNA      TAS3       family  ...   \n",
       "\n",
       "       catalyst_label catalyst_form             substrate_name  \\\n",
       "110  [PlantNonCoding]       [ncRNA]  TAS3[AT3G17185,AT5G49615]   \n",
       "\n",
       "    substrate_location substrate_label substrate_form  \\\n",
       "110            nucleus  PlantNonCoding           gene   \n",
       "\n",
       "                  product_name product_location   product_label product_form  \n",
       "110  TAS3[AT3G17185,AT5G49615]        cytoplasm  PlantNonCoding        ncRNA  \n",
       "\n",
       "[1 rows x 65 columns]"
      ]
     },
     "execution_count": 91,
     "metadata": {},
     "output_type": "execute_result"
    }
   ],
   "source": [
    "new_subdf[(  (new_subdf['product_form'].isin(['rna', 'ncRNA']) ))]#& (new_subdf['substrate_location'] != 'nucleus')  )][[\"Status\", \"ConnID\"] + substrate_cols_wo_homologues]"
   ]
  },
  {
   "cell_type": "code",
   "execution_count": 92,
   "metadata": {},
   "outputs": [
    {
     "data": {
      "text/html": [
       "<div>\n",
       "<style scoped>\n",
       "    .dataframe tbody tr th:only-of-type {\n",
       "        vertical-align: middle;\n",
       "    }\n",
       "\n",
       "    .dataframe tbody tr th {\n",
       "        vertical-align: top;\n",
       "    }\n",
       "\n",
       "    .dataframe thead th {\n",
       "        text-align: right;\n",
       "    }\n",
       "</style>\n",
       "<table border=\"1\" class=\"dataframe\">\n",
       "  <thead>\n",
       "    <tr style=\"text-align: right;\">\n",
       "      <th></th>\n",
       "      <th>Status</th>\n",
       "      <th>ConnID</th>\n",
       "      <th>substrate_name</th>\n",
       "      <th>substrate_label</th>\n",
       "      <th>substrate_form</th>\n",
       "      <th>substrate_location</th>\n",
       "    </tr>\n",
       "  </thead>\n",
       "  <tbody>\n",
       "  </tbody>\n",
       "</table>\n",
       "</div>"
      ],
      "text/plain": [
       "Empty DataFrame\n",
       "Columns: [Status, ConnID, substrate_name, substrate_label, substrate_form, substrate_location]\n",
       "Index: []"
      ]
     },
     "execution_count": 92,
     "metadata": {},
     "output_type": "execute_result"
    }
   ],
   "source": [
    "new_subdf[(  (new_subdf['substrate_form'].isin(['rna', 'ncRNA'])) & (new_subdf['substrate_location'] != 'cytoplams')  )][[\"Status\", \"ConnID\"] + substrate_cols]"
   ]
  },
  {
   "cell_type": "code",
   "execution_count": 93,
   "metadata": {
    "scrolled": true
   },
   "outputs": [
    {
     "data": {
      "text/html": [
       "<div>\n",
       "<style scoped>\n",
       "    .dataframe tbody tr th:only-of-type {\n",
       "        vertical-align: middle;\n",
       "    }\n",
       "\n",
       "    .dataframe tbody tr th {\n",
       "        vertical-align: top;\n",
       "    }\n",
       "\n",
       "    .dataframe thead th {\n",
       "        text-align: right;\n",
       "    }\n",
       "</style>\n",
       "<table border=\"1\" class=\"dataframe\">\n",
       "  <thead>\n",
       "    <tr style=\"text-align: right;\">\n",
       "      <th></th>\n",
       "      <th>Status</th>\n",
       "      <th>ConnID</th>\n",
       "      <th>product_name</th>\n",
       "      <th>product_label</th>\n",
       "      <th>product_form</th>\n",
       "      <th>product_location</th>\n",
       "    </tr>\n",
       "  </thead>\n",
       "  <tbody>\n",
       "    <tr>\n",
       "      <th>11</th>\n",
       "      <td>forCB</td>\n",
       "      <td>Conn012</td>\n",
       "      <td>EBF[AT2G25490,AT5G25350]</td>\n",
       "      <td>PlantCoding</td>\n",
       "      <td>protein</td>\n",
       "      <td>nucleus</td>\n",
       "    </tr>\n",
       "    <tr>\n",
       "      <th>20</th>\n",
       "      <td>forCB</td>\n",
       "      <td>Conn021</td>\n",
       "      <td>PR3[AT3G12500]</td>\n",
       "      <td>PlantCoding</td>\n",
       "      <td>protein</td>\n",
       "      <td>nucleus</td>\n",
       "    </tr>\n",
       "    <tr>\n",
       "      <th>21</th>\n",
       "      <td>forCB</td>\n",
       "      <td>Conn022</td>\n",
       "      <td>PR4[AT3G04720]</td>\n",
       "      <td>PlantCoding</td>\n",
       "      <td>protein</td>\n",
       "      <td>nucleus</td>\n",
       "    </tr>\n",
       "    <tr>\n",
       "      <th>24</th>\n",
       "      <td>forCB</td>\n",
       "      <td>Conn025</td>\n",
       "      <td>PDF1.2[AT2G26020,AT5G44420,AT5G44430]</td>\n",
       "      <td>PlantCoding</td>\n",
       "      <td>protein</td>\n",
       "      <td>nucleus</td>\n",
       "    </tr>\n",
       "    <tr>\n",
       "      <th>27</th>\n",
       "      <td>forCB</td>\n",
       "      <td>Conn028</td>\n",
       "      <td>LOX[AT1G17420,AT1G55020,AT1G67560,AT1G72520,AT...</td>\n",
       "      <td>PlantCoding</td>\n",
       "      <td>protein</td>\n",
       "      <td>chloroplast</td>\n",
       "    </tr>\n",
       "    <tr>\n",
       "      <th>45</th>\n",
       "      <td>forCB</td>\n",
       "      <td>Conn046</td>\n",
       "      <td>JAZ[AT1G17380,AT1G19180,AT1G30135,AT1G48500,AT...</td>\n",
       "      <td>PlantCoding</td>\n",
       "      <td>protein</td>\n",
       "      <td>nucleus</td>\n",
       "    </tr>\n",
       "    <tr>\n",
       "      <th>47</th>\n",
       "      <td>forCB</td>\n",
       "      <td>Conn048</td>\n",
       "      <td>MYC[AT1G32640,AT4G17880,AT5G46760]</td>\n",
       "      <td>PlantCoding</td>\n",
       "      <td>protein</td>\n",
       "      <td>nucleus</td>\n",
       "    </tr>\n",
       "    <tr>\n",
       "      <th>48</th>\n",
       "      <td>forCB</td>\n",
       "      <td>Conn049</td>\n",
       "      <td>CLH[AT1G19670,AT5G43860]</td>\n",
       "      <td>PlantCoding</td>\n",
       "      <td>protein</td>\n",
       "      <td>nucleus</td>\n",
       "    </tr>\n",
       "    <tr>\n",
       "      <th>49</th>\n",
       "      <td>forCB</td>\n",
       "      <td>Conn050</td>\n",
       "      <td>JR1[AT3G16470]</td>\n",
       "      <td>PlantCoding</td>\n",
       "      <td>protein</td>\n",
       "      <td>nucleus</td>\n",
       "    </tr>\n",
       "    <tr>\n",
       "      <th>50</th>\n",
       "      <td>forCB</td>\n",
       "      <td>Conn051</td>\n",
       "      <td>PR13[AT1G12660,AT1G12663,AT1G12665,AT1G12672,A...</td>\n",
       "      <td>PlantCoding</td>\n",
       "      <td>protein</td>\n",
       "      <td>nucleus</td>\n",
       "    </tr>\n",
       "    <tr>\n",
       "      <th>100</th>\n",
       "      <td>forCB</td>\n",
       "      <td>Conn101</td>\n",
       "      <td>PR1[AT1G50060,AT2G14580,AT2G14610,AT4G33710,AT...</td>\n",
       "      <td>PlantCoding</td>\n",
       "      <td>protein</td>\n",
       "      <td>nucleus</td>\n",
       "    </tr>\n",
       "    <tr>\n",
       "      <th>101</th>\n",
       "      <td>forCB</td>\n",
       "      <td>Conn102</td>\n",
       "      <td>PR2[AT3G57260]</td>\n",
       "      <td>PlantCoding</td>\n",
       "      <td>protein</td>\n",
       "      <td>nucleus</td>\n",
       "    </tr>\n",
       "    <tr>\n",
       "      <th>102</th>\n",
       "      <td>forCB</td>\n",
       "      <td>Conn103</td>\n",
       "      <td>PR5[AT1G75030,AT1G75040,AT1G75050]</td>\n",
       "      <td>PlantCoding</td>\n",
       "      <td>protein</td>\n",
       "      <td>nucleus</td>\n",
       "    </tr>\n",
       "    <tr>\n",
       "      <th>125</th>\n",
       "      <td>forCB</td>\n",
       "      <td>Conn126</td>\n",
       "      <td>SEN4[AT4G30270]</td>\n",
       "      <td>PlantCoding</td>\n",
       "      <td>protein</td>\n",
       "      <td>nucleus</td>\n",
       "    </tr>\n",
       "    <tr>\n",
       "      <th>126</th>\n",
       "      <td>forCB</td>\n",
       "      <td>Conn127</td>\n",
       "      <td>SAG12[AT5G45890]</td>\n",
       "      <td>PlantCoding</td>\n",
       "      <td>protein</td>\n",
       "      <td>nucleus</td>\n",
       "    </tr>\n",
       "    <tr>\n",
       "      <th>134</th>\n",
       "      <td>forCB</td>\n",
       "      <td>Conn135</td>\n",
       "      <td>PDF1.2[AT2G26020,AT5G44420,AT5G44430]</td>\n",
       "      <td>PlantCoding</td>\n",
       "      <td>protein</td>\n",
       "      <td>nucleus</td>\n",
       "    </tr>\n",
       "    <tr>\n",
       "      <th>147</th>\n",
       "      <td>forCB</td>\n",
       "      <td>Conn148</td>\n",
       "      <td>EDS1[AT3G48090]</td>\n",
       "      <td>PlantCoding</td>\n",
       "      <td>protein</td>\n",
       "      <td>nucleus</td>\n",
       "    </tr>\n",
       "    <tr>\n",
       "      <th>152</th>\n",
       "      <td>forCB</td>\n",
       "      <td>Conn153</td>\n",
       "      <td>MYB113[AT1G66370]</td>\n",
       "      <td>PlantCoding</td>\n",
       "      <td>protein</td>\n",
       "      <td>nucleus</td>\n",
       "    </tr>\n",
       "    <tr>\n",
       "      <th>153</th>\n",
       "      <td>forCB</td>\n",
       "      <td>Conn154</td>\n",
       "      <td>ERF096[AT5G43410]</td>\n",
       "      <td>PlantCoding</td>\n",
       "      <td>protein</td>\n",
       "      <td>nucleus</td>\n",
       "    </tr>\n",
       "    <tr>\n",
       "      <th>154</th>\n",
       "      <td>forCB</td>\n",
       "      <td>Conn155</td>\n",
       "      <td>PDF1.2[AT2G26020,AT5G44420,AT5G44430]</td>\n",
       "      <td>PlantCoding</td>\n",
       "      <td>protein</td>\n",
       "      <td>nucleus</td>\n",
       "    </tr>\n",
       "    <tr>\n",
       "      <th>157</th>\n",
       "      <td>forCB</td>\n",
       "      <td>Conn158</td>\n",
       "      <td>ERF1[AT3G23240,AT4G17500]</td>\n",
       "      <td>PlantCoding</td>\n",
       "      <td>protein</td>\n",
       "      <td>nucleus</td>\n",
       "    </tr>\n",
       "    <tr>\n",
       "      <th>162</th>\n",
       "      <td>forCB</td>\n",
       "      <td>Conn163</td>\n",
       "      <td>DELLA[AT1G14920,AT1G66350,AT2G01570,AT3G03450,...</td>\n",
       "      <td>PlantCoding</td>\n",
       "      <td>protein</td>\n",
       "      <td>nucleus</td>\n",
       "    </tr>\n",
       "    <tr>\n",
       "      <th>184</th>\n",
       "      <td>forCB</td>\n",
       "      <td>Conn185</td>\n",
       "      <td>EDS1[AT3G48090]</td>\n",
       "      <td>PlantCoding</td>\n",
       "      <td>protein</td>\n",
       "      <td>nucleus</td>\n",
       "    </tr>\n",
       "    <tr>\n",
       "      <th>185</th>\n",
       "      <td>forCB</td>\n",
       "      <td>Conn186</td>\n",
       "      <td>EIN3[AT3G20770]</td>\n",
       "      <td>PlantCoding</td>\n",
       "      <td>protein</td>\n",
       "      <td>nucleus</td>\n",
       "    </tr>\n",
       "    <tr>\n",
       "      <th>186</th>\n",
       "      <td>forCB</td>\n",
       "      <td>Conn187</td>\n",
       "      <td>ICS1[AT1G74710]</td>\n",
       "      <td>PlantCoding</td>\n",
       "      <td>protein</td>\n",
       "      <td>chloroplast</td>\n",
       "    </tr>\n",
       "    <tr>\n",
       "      <th>187</th>\n",
       "      <td>forCB</td>\n",
       "      <td>Conn188</td>\n",
       "      <td>ICS1[AT1G74710]</td>\n",
       "      <td>PlantCoding</td>\n",
       "      <td>protein</td>\n",
       "      <td>chloroplast</td>\n",
       "    </tr>\n",
       "    <tr>\n",
       "      <th>188</th>\n",
       "      <td>forCB</td>\n",
       "      <td>Conn189</td>\n",
       "      <td>ICS1[AT1G74710]</td>\n",
       "      <td>PlantCoding</td>\n",
       "      <td>protein</td>\n",
       "      <td>chloroplast</td>\n",
       "    </tr>\n",
       "    <tr>\n",
       "      <th>189</th>\n",
       "      <td>forCB</td>\n",
       "      <td>Conn190</td>\n",
       "      <td>ICS1[AT1G74710]</td>\n",
       "      <td>PlantCoding</td>\n",
       "      <td>protein</td>\n",
       "      <td>chloroplast</td>\n",
       "    </tr>\n",
       "    <tr>\n",
       "      <th>192</th>\n",
       "      <td>forCB</td>\n",
       "      <td>Conn193</td>\n",
       "      <td>ACO[AT1G05010,AT1G12010,AT1G62380,AT1G77330,AT...</td>\n",
       "      <td>PlantCoding</td>\n",
       "      <td>protein</td>\n",
       "      <td>endoplasmic reticulum</td>\n",
       "    </tr>\n",
       "    <tr>\n",
       "      <th>195</th>\n",
       "      <td>_TBD</td>\n",
       "      <td>Conn196</td>\n",
       "      <td>COI1[AT2G39940]</td>\n",
       "      <td>PlantCoding</td>\n",
       "      <td>protein</td>\n",
       "      <td>nucleus</td>\n",
       "    </tr>\n",
       "    <tr>\n",
       "      <th>205</th>\n",
       "      <td>forCB</td>\n",
       "      <td>Conn206</td>\n",
       "      <td>ERF1[AT3G23240,AT4G17500]</td>\n",
       "      <td>PlantCoding</td>\n",
       "      <td>protein</td>\n",
       "      <td>nucleus</td>\n",
       "    </tr>\n",
       "    <tr>\n",
       "      <th>208</th>\n",
       "      <td>forCB</td>\n",
       "      <td>Conn209</td>\n",
       "      <td>OPR1[AT1G76680]</td>\n",
       "      <td>PlantCoding</td>\n",
       "      <td>protein</td>\n",
       "      <td>peroxisome</td>\n",
       "    </tr>\n",
       "    <tr>\n",
       "      <th>239</th>\n",
       "      <td>forCB</td>\n",
       "      <td>Conn240</td>\n",
       "      <td>ICS1[AT1G74710]</td>\n",
       "      <td>PlantCoding</td>\n",
       "      <td>protein</td>\n",
       "      <td>chloroplast</td>\n",
       "    </tr>\n",
       "    <tr>\n",
       "      <th>247</th>\n",
       "      <td>forCB</td>\n",
       "      <td>Conn248</td>\n",
       "      <td>ACS2[AT1G01480]</td>\n",
       "      <td>PlantCoding</td>\n",
       "      <td>protein</td>\n",
       "      <td>endoplasmic reticulum</td>\n",
       "    </tr>\n",
       "    <tr>\n",
       "      <th>248</th>\n",
       "      <td>forCB</td>\n",
       "      <td>Conn249</td>\n",
       "      <td>ACS6[AT4G11280]</td>\n",
       "      <td>PlantCoding</td>\n",
       "      <td>protein</td>\n",
       "      <td>endoplasmic reticulum</td>\n",
       "    </tr>\n",
       "    <tr>\n",
       "      <th>249</th>\n",
       "      <td>forCB</td>\n",
       "      <td>Conn250</td>\n",
       "      <td>ORA59[AT1G06160]</td>\n",
       "      <td>PlantCoding</td>\n",
       "      <td>protein</td>\n",
       "      <td>nucleus</td>\n",
       "    </tr>\n",
       "    <tr>\n",
       "      <th>250</th>\n",
       "      <td>forCB</td>\n",
       "      <td>Conn251</td>\n",
       "      <td>NAC019[AT1G52890]</td>\n",
       "      <td>PlantCoding</td>\n",
       "      <td>protein</td>\n",
       "      <td>nucleus</td>\n",
       "    </tr>\n",
       "    <tr>\n",
       "      <th>251</th>\n",
       "      <td>forCB</td>\n",
       "      <td>Conn252</td>\n",
       "      <td>NAC055[AT3G15500]</td>\n",
       "      <td>PlantCoding</td>\n",
       "      <td>protein</td>\n",
       "      <td>nucleus</td>\n",
       "    </tr>\n",
       "    <tr>\n",
       "      <th>252</th>\n",
       "      <td>forCB</td>\n",
       "      <td>Conn253</td>\n",
       "      <td>NAC072[AT4G27410]</td>\n",
       "      <td>PlantCoding</td>\n",
       "      <td>protein</td>\n",
       "      <td>nucleus</td>\n",
       "    </tr>\n",
       "    <tr>\n",
       "      <th>253</th>\n",
       "      <td>forCB</td>\n",
       "      <td>Conn254</td>\n",
       "      <td>ICS1[AT1G74710]</td>\n",
       "      <td>PlantCoding</td>\n",
       "      <td>protein</td>\n",
       "      <td>chloroplast</td>\n",
       "    </tr>\n",
       "    <tr>\n",
       "      <th>254</th>\n",
       "      <td>forCB</td>\n",
       "      <td>Conn255</td>\n",
       "      <td>ICS1[AT1G74710]</td>\n",
       "      <td>PlantCoding</td>\n",
       "      <td>protein</td>\n",
       "      <td>chloroplast</td>\n",
       "    </tr>\n",
       "    <tr>\n",
       "      <th>255</th>\n",
       "      <td>forCB</td>\n",
       "      <td>Conn256</td>\n",
       "      <td>ICS1[AT1G74710]</td>\n",
       "      <td>PlantCoding</td>\n",
       "      <td>protein</td>\n",
       "      <td>chloroplast</td>\n",
       "    </tr>\n",
       "    <tr>\n",
       "      <th>256</th>\n",
       "      <td>forCB</td>\n",
       "      <td>Conn257</td>\n",
       "      <td>SAGT[AT2G43820,AT2G43840,AT4G31570]</td>\n",
       "      <td>PlantCoding</td>\n",
       "      <td>protein</td>\n",
       "      <td>nucleus</td>\n",
       "    </tr>\n",
       "    <tr>\n",
       "      <th>257</th>\n",
       "      <td>forCB</td>\n",
       "      <td>Conn258</td>\n",
       "      <td>SAGT[AT2G43820,AT2G43840,AT4G31570]</td>\n",
       "      <td>PlantCoding</td>\n",
       "      <td>protein</td>\n",
       "      <td>nucleus</td>\n",
       "    </tr>\n",
       "    <tr>\n",
       "      <th>258</th>\n",
       "      <td>forCB</td>\n",
       "      <td>Conn259</td>\n",
       "      <td>SAGT[AT2G43820,AT2G43840,AT4G31570]</td>\n",
       "      <td>PlantCoding</td>\n",
       "      <td>protein</td>\n",
       "      <td>nucleus</td>\n",
       "    </tr>\n",
       "    <tr>\n",
       "      <th>276</th>\n",
       "      <td>forCB</td>\n",
       "      <td>Conn277</td>\n",
       "      <td>GA20ox3[AT5G07200,SOLYC11G072310.2.1,SOTUB11G0...</td>\n",
       "      <td>PlantCoding</td>\n",
       "      <td>protein</td>\n",
       "      <td>putative:cytoplasm</td>\n",
       "    </tr>\n",
       "    <tr>\n",
       "      <th>277</th>\n",
       "      <td>forCB</td>\n",
       "      <td>Conn278</td>\n",
       "      <td>GA20ox1[AT4G25420,SOLYC03G006880.3.1,SOTUB03G0...</td>\n",
       "      <td>PlantCoding</td>\n",
       "      <td>protein</td>\n",
       "      <td>putative:cytoplasm</td>\n",
       "    </tr>\n",
       "    <tr>\n",
       "      <th>278</th>\n",
       "      <td>forCB</td>\n",
       "      <td>Conn279</td>\n",
       "      <td>GA20ox4[AT1G60980,SOLYC01G093980.3.1,SOTUB01G0...</td>\n",
       "      <td>PlantCoding</td>\n",
       "      <td>protein</td>\n",
       "      <td>putative:cytoplasm</td>\n",
       "    </tr>\n",
       "    <tr>\n",
       "      <th>279</th>\n",
       "      <td>forCB</td>\n",
       "      <td>Conn280</td>\n",
       "      <td>GA20ox.x3[SOTUB09G017710.1.1]</td>\n",
       "      <td>PlantCoding</td>\n",
       "      <td>protein</td>\n",
       "      <td>putative:cytoplasm</td>\n",
       "    </tr>\n",
       "    <tr>\n",
       "      <th>280</th>\n",
       "      <td>forCB</td>\n",
       "      <td>Conn281</td>\n",
       "      <td>GA20ox.x5[SOTUB10G011620.1.1]</td>\n",
       "      <td>PlantCoding</td>\n",
       "      <td>protein</td>\n",
       "      <td>putative:cytoplasm</td>\n",
       "    </tr>\n",
       "    <tr>\n",
       "      <th>301</th>\n",
       "      <td>forCB</td>\n",
       "      <td>Conn302</td>\n",
       "      <td>MYB33,65[AT3G11440,AT5G06100,SOLYC01G009070.3....</td>\n",
       "      <td>PlantCoding</td>\n",
       "      <td>protein</td>\n",
       "      <td>putative:cytoplasm</td>\n",
       "    </tr>\n",
       "    <tr>\n",
       "      <th>302</th>\n",
       "      <td>forCB</td>\n",
       "      <td>Conn303</td>\n",
       "      <td>MYB33,65[AT3G11440,AT5G06100,SOLYC01G009070.3....</td>\n",
       "      <td>PlantCoding</td>\n",
       "      <td>protein</td>\n",
       "      <td>putative:cytoplasm</td>\n",
       "    </tr>\n",
       "    <tr>\n",
       "      <th>303</th>\n",
       "      <td>forCB</td>\n",
       "      <td>Conn304</td>\n",
       "      <td>MYB33,65[AT3G11440,AT5G06100,SOLYC01G009070.3....</td>\n",
       "      <td>PlantCoding</td>\n",
       "      <td>protein</td>\n",
       "      <td>putative:cytoplasm</td>\n",
       "    </tr>\n",
       "    <tr>\n",
       "      <th>307</th>\n",
       "      <td>forCB</td>\n",
       "      <td>Conn308</td>\n",
       "      <td>MYB33[AT5G06100]</td>\n",
       "      <td>PlantCoding</td>\n",
       "      <td>protein</td>\n",
       "      <td>putative:cytoplasm</td>\n",
       "    </tr>\n",
       "    <tr>\n",
       "      <th>308</th>\n",
       "      <td>forCB</td>\n",
       "      <td>Conn309</td>\n",
       "      <td>NPR1[AT1G64280]</td>\n",
       "      <td>PlantCoding</td>\n",
       "      <td>protein</td>\n",
       "      <td>putative:cytoplasm</td>\n",
       "    </tr>\n",
       "    <tr>\n",
       "      <th>390</th>\n",
       "      <td>[TBD]</td>\n",
       "      <td>Conn405</td>\n",
       "      <td>ARR-A[AT1G10470,AT1G19050,AT1G59940,AT1G74890,...</td>\n",
       "      <td>PlantCoding</td>\n",
       "      <td>protein</td>\n",
       "      <td>putative:cytoplasm</td>\n",
       "    </tr>\n",
       "    <tr>\n",
       "      <th>393</th>\n",
       "      <td>NaN</td>\n",
       "      <td>Conn408</td>\n",
       "      <td>PR1[AT1G50060,AT2G14580,AT2G14610,AT4G33710,AT...</td>\n",
       "      <td>PlantCoding</td>\n",
       "      <td>protein</td>\n",
       "      <td>putative:cytoplasm</td>\n",
       "    </tr>\n",
       "    <tr>\n",
       "      <th>151</th>\n",
       "      <td>forCB</td>\n",
       "      <td>Conn152</td>\n",
       "      <td>ORA59[AT1G06160]</td>\n",
       "      <td>PlantCoding</td>\n",
       "      <td>protein</td>\n",
       "      <td>nucleus</td>\n",
       "    </tr>\n",
       "    <tr>\n",
       "      <th>156</th>\n",
       "      <td>_TBD</td>\n",
       "      <td>Conn157</td>\n",
       "      <td>NAC032[AT1G77450]</td>\n",
       "      <td>PlantCoding</td>\n",
       "      <td>protein</td>\n",
       "      <td>putative:cytoplasm</td>\n",
       "    </tr>\n",
       "  </tbody>\n",
       "</table>\n",
       "</div>"
      ],
      "text/plain": [
       "    Status   ConnID                                       product_name  \\\n",
       "11   forCB  Conn012                           EBF[AT2G25490,AT5G25350]   \n",
       "20   forCB  Conn021                                     PR3[AT3G12500]   \n",
       "21   forCB  Conn022                                     PR4[AT3G04720]   \n",
       "24   forCB  Conn025              PDF1.2[AT2G26020,AT5G44420,AT5G44430]   \n",
       "27   forCB  Conn028  LOX[AT1G17420,AT1G55020,AT1G67560,AT1G72520,AT...   \n",
       "45   forCB  Conn046  JAZ[AT1G17380,AT1G19180,AT1G30135,AT1G48500,AT...   \n",
       "47   forCB  Conn048                 MYC[AT1G32640,AT4G17880,AT5G46760]   \n",
       "48   forCB  Conn049                           CLH[AT1G19670,AT5G43860]   \n",
       "49   forCB  Conn050                                     JR1[AT3G16470]   \n",
       "50   forCB  Conn051  PR13[AT1G12660,AT1G12663,AT1G12665,AT1G12672,A...   \n",
       "100  forCB  Conn101  PR1[AT1G50060,AT2G14580,AT2G14610,AT4G33710,AT...   \n",
       "101  forCB  Conn102                                     PR2[AT3G57260]   \n",
       "102  forCB  Conn103                 PR5[AT1G75030,AT1G75040,AT1G75050]   \n",
       "125  forCB  Conn126                                    SEN4[AT4G30270]   \n",
       "126  forCB  Conn127                                   SAG12[AT5G45890]   \n",
       "134  forCB  Conn135              PDF1.2[AT2G26020,AT5G44420,AT5G44430]   \n",
       "147  forCB  Conn148                                    EDS1[AT3G48090]   \n",
       "152  forCB  Conn153                                  MYB113[AT1G66370]   \n",
       "153  forCB  Conn154                                  ERF096[AT5G43410]   \n",
       "154  forCB  Conn155              PDF1.2[AT2G26020,AT5G44420,AT5G44430]   \n",
       "157  forCB  Conn158                          ERF1[AT3G23240,AT4G17500]   \n",
       "162  forCB  Conn163  DELLA[AT1G14920,AT1G66350,AT2G01570,AT3G03450,...   \n",
       "184  forCB  Conn185                                    EDS1[AT3G48090]   \n",
       "185  forCB  Conn186                                    EIN3[AT3G20770]   \n",
       "186  forCB  Conn187                                    ICS1[AT1G74710]   \n",
       "187  forCB  Conn188                                    ICS1[AT1G74710]   \n",
       "188  forCB  Conn189                                    ICS1[AT1G74710]   \n",
       "189  forCB  Conn190                                    ICS1[AT1G74710]   \n",
       "192  forCB  Conn193  ACO[AT1G05010,AT1G12010,AT1G62380,AT1G77330,AT...   \n",
       "195   _TBD  Conn196                                    COI1[AT2G39940]   \n",
       "205  forCB  Conn206                          ERF1[AT3G23240,AT4G17500]   \n",
       "208  forCB  Conn209                                    OPR1[AT1G76680]   \n",
       "239  forCB  Conn240                                    ICS1[AT1G74710]   \n",
       "247  forCB  Conn248                                    ACS2[AT1G01480]   \n",
       "248  forCB  Conn249                                    ACS6[AT4G11280]   \n",
       "249  forCB  Conn250                                   ORA59[AT1G06160]   \n",
       "250  forCB  Conn251                                  NAC019[AT1G52890]   \n",
       "251  forCB  Conn252                                  NAC055[AT3G15500]   \n",
       "252  forCB  Conn253                                  NAC072[AT4G27410]   \n",
       "253  forCB  Conn254                                    ICS1[AT1G74710]   \n",
       "254  forCB  Conn255                                    ICS1[AT1G74710]   \n",
       "255  forCB  Conn256                                    ICS1[AT1G74710]   \n",
       "256  forCB  Conn257                SAGT[AT2G43820,AT2G43840,AT4G31570]   \n",
       "257  forCB  Conn258                SAGT[AT2G43820,AT2G43840,AT4G31570]   \n",
       "258  forCB  Conn259                SAGT[AT2G43820,AT2G43840,AT4G31570]   \n",
       "276  forCB  Conn277  GA20ox3[AT5G07200,SOLYC11G072310.2.1,SOTUB11G0...   \n",
       "277  forCB  Conn278  GA20ox1[AT4G25420,SOLYC03G006880.3.1,SOTUB03G0...   \n",
       "278  forCB  Conn279  GA20ox4[AT1G60980,SOLYC01G093980.3.1,SOTUB01G0...   \n",
       "279  forCB  Conn280                      GA20ox.x3[SOTUB09G017710.1.1]   \n",
       "280  forCB  Conn281                      GA20ox.x5[SOTUB10G011620.1.1]   \n",
       "301  forCB  Conn302  MYB33,65[AT3G11440,AT5G06100,SOLYC01G009070.3....   \n",
       "302  forCB  Conn303  MYB33,65[AT3G11440,AT5G06100,SOLYC01G009070.3....   \n",
       "303  forCB  Conn304  MYB33,65[AT3G11440,AT5G06100,SOLYC01G009070.3....   \n",
       "307  forCB  Conn308                                   MYB33[AT5G06100]   \n",
       "308  forCB  Conn309                                    NPR1[AT1G64280]   \n",
       "390  [TBD]  Conn405  ARR-A[AT1G10470,AT1G19050,AT1G59940,AT1G74890,...   \n",
       "393    NaN  Conn408  PR1[AT1G50060,AT2G14580,AT2G14610,AT4G33710,AT...   \n",
       "151  forCB  Conn152                                   ORA59[AT1G06160]   \n",
       "156   _TBD  Conn157                                  NAC032[AT1G77450]   \n",
       "\n",
       "    product_label product_form       product_location  \n",
       "11    PlantCoding      protein                nucleus  \n",
       "20    PlantCoding      protein                nucleus  \n",
       "21    PlantCoding      protein                nucleus  \n",
       "24    PlantCoding      protein                nucleus  \n",
       "27    PlantCoding      protein            chloroplast  \n",
       "45    PlantCoding      protein                nucleus  \n",
       "47    PlantCoding      protein                nucleus  \n",
       "48    PlantCoding      protein                nucleus  \n",
       "49    PlantCoding      protein                nucleus  \n",
       "50    PlantCoding      protein                nucleus  \n",
       "100   PlantCoding      protein                nucleus  \n",
       "101   PlantCoding      protein                nucleus  \n",
       "102   PlantCoding      protein                nucleus  \n",
       "125   PlantCoding      protein                nucleus  \n",
       "126   PlantCoding      protein                nucleus  \n",
       "134   PlantCoding      protein                nucleus  \n",
       "147   PlantCoding      protein                nucleus  \n",
       "152   PlantCoding      protein                nucleus  \n",
       "153   PlantCoding      protein                nucleus  \n",
       "154   PlantCoding      protein                nucleus  \n",
       "157   PlantCoding      protein                nucleus  \n",
       "162   PlantCoding      protein                nucleus  \n",
       "184   PlantCoding      protein                nucleus  \n",
       "185   PlantCoding      protein                nucleus  \n",
       "186   PlantCoding      protein            chloroplast  \n",
       "187   PlantCoding      protein            chloroplast  \n",
       "188   PlantCoding      protein            chloroplast  \n",
       "189   PlantCoding      protein            chloroplast  \n",
       "192   PlantCoding      protein  endoplasmic reticulum  \n",
       "195   PlantCoding      protein                nucleus  \n",
       "205   PlantCoding      protein                nucleus  \n",
       "208   PlantCoding      protein             peroxisome  \n",
       "239   PlantCoding      protein            chloroplast  \n",
       "247   PlantCoding      protein  endoplasmic reticulum  \n",
       "248   PlantCoding      protein  endoplasmic reticulum  \n",
       "249   PlantCoding      protein                nucleus  \n",
       "250   PlantCoding      protein                nucleus  \n",
       "251   PlantCoding      protein                nucleus  \n",
       "252   PlantCoding      protein                nucleus  \n",
       "253   PlantCoding      protein            chloroplast  \n",
       "254   PlantCoding      protein            chloroplast  \n",
       "255   PlantCoding      protein            chloroplast  \n",
       "256   PlantCoding      protein                nucleus  \n",
       "257   PlantCoding      protein                nucleus  \n",
       "258   PlantCoding      protein                nucleus  \n",
       "276   PlantCoding      protein     putative:cytoplasm  \n",
       "277   PlantCoding      protein     putative:cytoplasm  \n",
       "278   PlantCoding      protein     putative:cytoplasm  \n",
       "279   PlantCoding      protein     putative:cytoplasm  \n",
       "280   PlantCoding      protein     putative:cytoplasm  \n",
       "301   PlantCoding      protein     putative:cytoplasm  \n",
       "302   PlantCoding      protein     putative:cytoplasm  \n",
       "303   PlantCoding      protein     putative:cytoplasm  \n",
       "307   PlantCoding      protein     putative:cytoplasm  \n",
       "308   PlantCoding      protein     putative:cytoplasm  \n",
       "390   PlantCoding      protein     putative:cytoplasm  \n",
       "393   PlantCoding      protein     putative:cytoplasm  \n",
       "151   PlantCoding      protein                nucleus  \n",
       "156   PlantCoding      protein     putative:cytoplasm  "
      ]
     },
     "execution_count": 93,
     "metadata": {},
     "output_type": "execute_result"
    }
   ],
   "source": [
    "new_subdf[(  (new_subdf['product_form'] == 'protein') & (new_subdf['product_location'] != 'cytoplasm')  )][[\"Status\", \"ConnID\"] + product_cols]"
   ]
  },
  {
   "cell_type": "code",
   "execution_count": 94,
   "metadata": {},
   "outputs": [],
   "source": [
    "# manualfix\n",
    "new_subdf.loc[(  (new_subdf['product_form'] == 'protein') & (new_subdf['product_location'] != 'cytoplasm')  ), 'product_location'] = 'cytoplasm'"
   ]
  },
  {
   "cell_type": "code",
   "execution_count": 95,
   "metadata": {},
   "outputs": [
    {
     "data": {
      "text/html": [
       "<div>\n",
       "<style scoped>\n",
       "    .dataframe tbody tr th:only-of-type {\n",
       "        vertical-align: middle;\n",
       "    }\n",
       "\n",
       "    .dataframe tbody tr th {\n",
       "        vertical-align: top;\n",
       "    }\n",
       "\n",
       "    .dataframe thead th {\n",
       "        text-align: right;\n",
       "    }\n",
       "</style>\n",
       "<table border=\"1\" class=\"dataframe\">\n",
       "  <thead>\n",
       "    <tr style=\"text-align: right;\">\n",
       "      <th></th>\n",
       "      <th>Status</th>\n",
       "      <th>ConnID</th>\n",
       "      <th>substrate_name</th>\n",
       "      <th>substrate_label</th>\n",
       "      <th>substrate_form</th>\n",
       "      <th>substrate_location</th>\n",
       "    </tr>\n",
       "  </thead>\n",
       "  <tbody>\n",
       "    <tr>\n",
       "      <th>62</th>\n",
       "      <td>forCB</td>\n",
       "      <td>Conn063</td>\n",
       "      <td>Anthocyanin-accumulation</td>\n",
       "      <td>Process</td>\n",
       "      <td>process</td>\n",
       "      <td>cytoplasm</td>\n",
       "    </tr>\n",
       "    <tr>\n",
       "      <th>63</th>\n",
       "      <td>forCB</td>\n",
       "      <td>Conn064</td>\n",
       "      <td>Trichome-initiation</td>\n",
       "      <td>Process</td>\n",
       "      <td>process</td>\n",
       "      <td>cytoplasm</td>\n",
       "    </tr>\n",
       "  </tbody>\n",
       "</table>\n",
       "</div>"
      ],
      "text/plain": [
       "   Status   ConnID            substrate_name substrate_label substrate_form  \\\n",
       "62  forCB  Conn063  Anthocyanin-accumulation         Process        process   \n",
       "63  forCB  Conn064       Trichome-initiation         Process        process   \n",
       "\n",
       "   substrate_location  \n",
       "62          cytoplasm  \n",
       "63          cytoplasm  "
      ]
     },
     "execution_count": 95,
     "metadata": {},
     "output_type": "execute_result"
    }
   ],
   "source": [
    "new_subdf[~new_subdf['substrate_label'].isin([\"PlantCoding\", \"PlantNonCoding\"])][[\"Status\", \"ConnID\"] + substrate_cols] #+ catalyst_cols_wo_homologues + product_cols_wo_homologues]"
   ]
  },
  {
   "cell_type": "code",
   "execution_count": 96,
   "metadata": {},
   "outputs": [
    {
     "data": {
      "text/html": [
       "<div>\n",
       "<style scoped>\n",
       "    .dataframe tbody tr th:only-of-type {\n",
       "        vertical-align: middle;\n",
       "    }\n",
       "\n",
       "    .dataframe tbody tr th {\n",
       "        vertical-align: top;\n",
       "    }\n",
       "\n",
       "    .dataframe thead th {\n",
       "        text-align: right;\n",
       "    }\n",
       "</style>\n",
       "<table border=\"1\" class=\"dataframe\">\n",
       "  <thead>\n",
       "    <tr style=\"text-align: right;\">\n",
       "      <th></th>\n",
       "      <th>Status</th>\n",
       "      <th>ConnID</th>\n",
       "      <th>product_name</th>\n",
       "      <th>product_label</th>\n",
       "      <th>product_form</th>\n",
       "      <th>product_location</th>\n",
       "    </tr>\n",
       "  </thead>\n",
       "  <tbody>\n",
       "    <tr>\n",
       "      <th>44</th>\n",
       "      <td>_TBD</td>\n",
       "      <td>Conn045</td>\n",
       "      <td>COI1|OMR1</td>\n",
       "      <td>Complex</td>\n",
       "      <td>complex</td>\n",
       "      <td>nucleus</td>\n",
       "    </tr>\n",
       "    <tr>\n",
       "      <th>62</th>\n",
       "      <td>forCB</td>\n",
       "      <td>Conn063</td>\n",
       "      <td>Anthocyanin-accumulation</td>\n",
       "      <td>Process</td>\n",
       "      <td>process_active</td>\n",
       "      <td>cytoplasm</td>\n",
       "    </tr>\n",
       "    <tr>\n",
       "      <th>63</th>\n",
       "      <td>forCB</td>\n",
       "      <td>Conn064</td>\n",
       "      <td>Trichome-initiation</td>\n",
       "      <td>Process</td>\n",
       "      <td>process_active</td>\n",
       "      <td>cytoplasm</td>\n",
       "    </tr>\n",
       "    <tr>\n",
       "      <th>92</th>\n",
       "      <td>_TBD</td>\n",
       "      <td>Conn093</td>\n",
       "      <td>NPR1|PAD4|TGA2,5,6</td>\n",
       "      <td>Complex</td>\n",
       "      <td>complex</td>\n",
       "      <td>nucleus</td>\n",
       "    </tr>\n",
       "    <tr>\n",
       "      <th>115</th>\n",
       "      <td>_TBD</td>\n",
       "      <td>Conn116</td>\n",
       "      <td>EDS5|NPR1|TGA2,5,6</td>\n",
       "      <td>Complex</td>\n",
       "      <td>complex</td>\n",
       "      <td>nucleus</td>\n",
       "    </tr>\n",
       "    <tr>\n",
       "      <th>117</th>\n",
       "      <td>_TBD</td>\n",
       "      <td>Conn118</td>\n",
       "      <td>EDS1|NPR1|TGA2,5,6</td>\n",
       "      <td>Complex</td>\n",
       "      <td>complex</td>\n",
       "      <td>nucleus</td>\n",
       "    </tr>\n",
       "    <tr>\n",
       "      <th>119</th>\n",
       "      <td>_TBD</td>\n",
       "      <td>Conn120</td>\n",
       "      <td>NPR1|PAD4|TGA2,5,6</td>\n",
       "      <td>Complex</td>\n",
       "      <td>complex</td>\n",
       "      <td>nucleus</td>\n",
       "    </tr>\n",
       "    <tr>\n",
       "      <th>148</th>\n",
       "      <td>_TBD</td>\n",
       "      <td>Conn149</td>\n",
       "      <td>GSTU24|ROS</td>\n",
       "      <td>Complex</td>\n",
       "      <td>complex</td>\n",
       "      <td>nucleus</td>\n",
       "    </tr>\n",
       "  </tbody>\n",
       "</table>\n",
       "</div>"
      ],
      "text/plain": [
       "    Status   ConnID              product_name product_label    product_form  \\\n",
       "44    _TBD  Conn045                 COI1|OMR1       Complex         complex   \n",
       "62   forCB  Conn063  Anthocyanin-accumulation       Process  process_active   \n",
       "63   forCB  Conn064       Trichome-initiation       Process  process_active   \n",
       "92    _TBD  Conn093        NPR1|PAD4|TGA2,5,6       Complex         complex   \n",
       "115   _TBD  Conn116        EDS5|NPR1|TGA2,5,6       Complex         complex   \n",
       "117   _TBD  Conn118        EDS1|NPR1|TGA2,5,6       Complex         complex   \n",
       "119   _TBD  Conn120        NPR1|PAD4|TGA2,5,6       Complex         complex   \n",
       "148   _TBD  Conn149                GSTU24|ROS       Complex         complex   \n",
       "\n",
       "    product_location  \n",
       "44           nucleus  \n",
       "62         cytoplasm  \n",
       "63         cytoplasm  \n",
       "92           nucleus  \n",
       "115          nucleus  \n",
       "117          nucleus  \n",
       "119          nucleus  \n",
       "148          nucleus  "
      ]
     },
     "execution_count": 96,
     "metadata": {},
     "output_type": "execute_result"
    }
   ],
   "source": [
    "new_subdf[~new_subdf['product_label'].isin([\"PlantCoding\", \"PlantNonCoding\"])][[\"Status\", \"ConnID\"] + product_cols]"
   ]
  },
  {
   "cell_type": "markdown",
   "metadata": {},
   "source": [
    "## Reaction nodes"
   ]
  },
  {
   "cell_type": "code",
   "execution_count": 97,
   "metadata": {},
   "outputs": [
    {
     "data": {
      "text/html": [
       "<div>\n",
       "<style scoped>\n",
       "    .dataframe tbody tr th:only-of-type {\n",
       "        vertical-align: middle;\n",
       "    }\n",
       "\n",
       "    .dataframe tbody tr th {\n",
       "        vertical-align: top;\n",
       "    }\n",
       "\n",
       "    .dataframe thead th {\n",
       "        text-align: right;\n",
       "    }\n",
       "</style>\n",
       "<table border=\"1\" class=\"dataframe\">\n",
       "  <thead>\n",
       "    <tr style=\"text-align: right;\">\n",
       "      <th></th>\n",
       "      <th>substrate_name</th>\n",
       "      <th>substrate_label</th>\n",
       "      <th>substrate_form</th>\n",
       "      <th>substrate_location</th>\n",
       "      <th>product_name</th>\n",
       "      <th>product_label</th>\n",
       "      <th>product_form</th>\n",
       "      <th>product_location</th>\n",
       "      <th>catalyst_name</th>\n",
       "      <th>catalyst_label</th>\n",
       "      <th>catalyst_form</th>\n",
       "      <th>catalyst_location</th>\n",
       "    </tr>\n",
       "  </thead>\n",
       "  <tbody>\n",
       "    <tr>\n",
       "      <th>147</th>\n",
       "      <td>EDS1[AT3G48090]</td>\n",
       "      <td>PlantCoding</td>\n",
       "      <td>gene</td>\n",
       "      <td>nucleus</td>\n",
       "      <td>EDS1[AT3G48090]</td>\n",
       "      <td>PlantCoding</td>\n",
       "      <td>protein</td>\n",
       "      <td>cytoplasm</td>\n",
       "      <td>[CAMTA3[AT2G22300]]</td>\n",
       "      <td>[PlantCoding]</td>\n",
       "      <td>[protein]</td>\n",
       "      <td>[nucleus]</td>\n",
       "    </tr>\n",
       "    <tr>\n",
       "      <th>184</th>\n",
       "      <td>EDS1[AT3G48090]</td>\n",
       "      <td>PlantCoding</td>\n",
       "      <td>gene</td>\n",
       "      <td>nucleus</td>\n",
       "      <td>EDS1[AT3G48090]</td>\n",
       "      <td>PlantCoding</td>\n",
       "      <td>protein</td>\n",
       "      <td>cytoplasm</td>\n",
       "      <td>[CAMTA3[AT2G22300]]</td>\n",
       "      <td>[PlantCoding]</td>\n",
       "      <td>[protein]</td>\n",
       "      <td>[nucleus]</td>\n",
       "    </tr>\n",
       "  </tbody>\n",
       "</table>\n",
       "</div>"
      ],
      "text/plain": [
       "      substrate_name substrate_label substrate_form substrate_location  \\\n",
       "147  EDS1[AT3G48090]     PlantCoding           gene            nucleus   \n",
       "184  EDS1[AT3G48090]     PlantCoding           gene            nucleus   \n",
       "\n",
       "        product_name product_label product_form product_location  \\\n",
       "147  EDS1[AT3G48090]   PlantCoding      protein        cytoplasm   \n",
       "184  EDS1[AT3G48090]   PlantCoding      protein        cytoplasm   \n",
       "\n",
       "           catalyst_name catalyst_label catalyst_form catalyst_location  \n",
       "147  [CAMTA3[AT2G22300]]  [PlantCoding]     [protein]         [nucleus]  \n",
       "184  [CAMTA3[AT2G22300]]  [PlantCoding]     [protein]         [nucleus]  "
      ]
     },
     "execution_count": 97,
     "metadata": {},
     "output_type": "execute_result"
    }
   ],
   "source": [
    "new_subdf[new_subdf['reaction_id'].isin(['rx00148', 'rx00185'])][substrate_cols + product_cols + catalyst_cols]"
   ]
  },
  {
   "cell_type": "code",
   "execution_count": 98,
   "metadata": {},
   "outputs": [
    {
     "name": "stdout",
     "output_type": "stream",
     "text": [
      "Reaction            \t 79\t 79\n"
     ]
    }
   ],
   "source": [
    "# make reaction nodes\n",
    "f = f\"{reaction_type}-reaction.tsv\"\n",
    "new_subdf[reaction_standard_columns].to_csv(f\"../data/import/{f}\", sep=\"\\t\", index=None)\n",
    "query = helpers.reaction_node_query(f, name=\"line.reaction_id\")\n",
    "\n",
    "qr = graph.run(query)\n",
    "pretty_print_result('Reaction', new_subdf, qr, 'nodes')"
   ]
  },
  {
   "cell_type": "code",
   "execution_count": null,
   "metadata": {},
   "outputs": [],
   "source": []
  },
  {
   "cell_type": "markdown",
   "metadata": {},
   "source": [
    "## induction"
   ]
  },
  {
   "cell_type": "code",
   "execution_count": 99,
   "metadata": {},
   "outputs": [],
   "source": [
    "edge_label = \"ACTIVATES\"\n",
    "reaction_type = 'transcriptional/translational induction'\n",
    "reaction_type_nice = 'transcriptional_translational_induction'\n",
    "act_subdf = new_subdf[new_subdf['reaction_type']==reaction_type]"
   ]
  },
  {
   "cell_type": "code",
   "execution_count": 100,
   "metadata": {},
   "outputs": [
    {
     "name": "stdout",
     "output_type": "stream",
     "text": [
      "-                   \t 60\t 60\n"
     ]
    }
   ],
   "source": [
    "# substrate to reaction edge\n",
    "f =  f\"{reaction_type_nice}-substrate_edges.tsv\" \n",
    "want_cols = reaction_standard_columns + substrate_cols\n",
    "act_subdf[want_cols].to_csv(f\"../data/import/{f}\", sep=\"\\t\", index=None)\n",
    "\n",
    "query = helpers.make_create_reaction_edge_query(f, 'SUBSTRATE',\n",
    "                                                \"substrate\", \"dne\", \n",
    "                                                target_label=\"Reaction\", \n",
    "                                                target_name=\"line.reaction_id\"\n",
    "                              )\n",
    "qr = graph.run(query)\n",
    "pretty_print_result('-', act_subdf, qr, 'relationships')"
   ]
  },
  {
   "cell_type": "code",
   "execution_count": 101,
   "metadata": {},
   "outputs": [
    {
     "name": "stdout",
     "output_type": "stream",
     "text": [
      "-                   \t 62\t 62\n"
     ]
    }
   ],
   "source": [
    "# catalyst to reaction edge\n",
    "exploded_new_subdf = helpers.unnesting(act_subdf, catalyst_cols)\n",
    "\n",
    "f =  f\"{reaction_type_nice}-catalyst_edges.tsv\" \n",
    "want_cols = reaction_standard_columns + catalyst_cols\n",
    "exploded_new_subdf[want_cols].to_csv(f\"../data/import/{f}\", sep=\"\\t\", index=None)\n",
    "\n",
    "query = helpers.make_create_reaction_edge_query(f, 'ACTIVATES',\n",
    "                                                \"catalyst\", \"dne\", \n",
    "                                                target_label=\"Reaction\", \n",
    "                                                target_name=\"line.reaction_id\"\n",
    "                              )\n",
    "qr = graph.run(query)\n",
    "pretty_print_result('-', exploded_new_subdf, qr, 'relationships')"
   ]
  },
  {
   "cell_type": "code",
   "execution_count": 102,
   "metadata": {},
   "outputs": [
    {
     "name": "stdout",
     "output_type": "stream",
     "text": [
      "-                   \t 60\t 60\n"
     ]
    }
   ],
   "source": [
    "# product to reaction edge\n",
    "f =  f\"{reaction_type_nice}-product_edges.tsv\" \n",
    "want_cols = reaction_standard_columns + product_cols\n",
    "act_subdf[want_cols].to_csv(f\"../data/import/{f}\", sep=\"\\t\", index=None)\n",
    "\n",
    "query = helpers.make_create_reaction_edge_query(f, 'PRODUCT', \"dne\" , \"product\", \n",
    "                                                source_name=\"line.reaction_id\", \n",
    "                                                source_label=\"Reaction\"\n",
    "                              )\n",
    "qr = graph.run(query)\n",
    "pretty_print_result('-', act_subdf, qr, 'relationships')"
   ]
  },
  {
   "cell_type": "markdown",
   "metadata": {},
   "source": [
    "## repression"
   ]
  },
  {
   "cell_type": "code",
   "execution_count": 103,
   "metadata": {},
   "outputs": [],
   "source": [
    "reaction_type = 'transcriptional/translational repression'\n",
    "reaction_type_nice = 'transcriptional_translational_repression'\n",
    "inh_subdf = new_subdf[new_subdf['reaction_type']==reaction_type]"
   ]
  },
  {
   "cell_type": "code",
   "execution_count": 104,
   "metadata": {},
   "outputs": [
    {
     "name": "stdout",
     "output_type": "stream",
     "text": [
      "-                   \t 19\t 19\n"
     ]
    }
   ],
   "source": [
    "# substrate to reaction edge\n",
    "f =  f\"{reaction_type_nice}-substrate_edges.tsv\" \n",
    "want_cols = reaction_standard_columns + substrate_cols\n",
    "inh_subdf[want_cols].to_csv(f\"../data/import/{f}\", sep=\"\\t\", index=None)\n",
    "\n",
    "query = helpers.make_create_reaction_edge_query(f, 'SUBSTRATE',\n",
    "                                                \"substrate\", \"dne\", \n",
    "                                                target_label=\"Reaction\", \n",
    "                                                target_name=\"line.reaction_id\"\n",
    "                              )\n",
    "qr = graph.run(query)\n",
    "pretty_print_result('-', inh_subdf, qr, 'relationships')"
   ]
  },
  {
   "cell_type": "code",
   "execution_count": 105,
   "metadata": {},
   "outputs": [
    {
     "name": "stdout",
     "output_type": "stream",
     "text": [
      "-                   \t 19\t 19\n"
     ]
    }
   ],
   "source": [
    "# catalyst to reaction edge\n",
    "exploded_new_subdf = helpers.unnesting(inh_subdf, catalyst_cols)\n",
    "\n",
    "\n",
    "f =  f\"{reaction_type_nice}-catalyst_edges.tsv\" \n",
    "want_cols = reaction_standard_columns + catalyst_cols\n",
    "exploded_new_subdf[want_cols].to_csv(f\"../data/import/{f}\", sep=\"\\t\", index=None)\n",
    "\n",
    "query = helpers.make_create_reaction_edge_query(f, 'INHIBITS',\n",
    "                                                \"catalyst\", \"dne\", \n",
    "                                                target_label=\"Reaction\", \n",
    "                                                target_name=\"line.reaction_id\"\n",
    "                              )\n",
    "qr = graph.run(query)\n",
    "pretty_print_result('-', exploded_new_subdf, qr, 'relationships')"
   ]
  },
  {
   "cell_type": "code",
   "execution_count": 106,
   "metadata": {},
   "outputs": [
    {
     "name": "stdout",
     "output_type": "stream",
     "text": [
      "-                   \t 19\t 19\n"
     ]
    }
   ],
   "source": [
    "# product to reaction edge\n",
    "f =  f\"{reaction_type_nice}-product_edges.tsv\" \n",
    "want_cols = reaction_standard_columns + product_cols\n",
    "inh_subdf[want_cols].to_csv(f\"../data/import/{f}\", sep=\"\\t\", index=None)\n",
    "\n",
    "query = helpers.make_create_reaction_edge_query(f, 'PRODUCT', \"dne\" , \"product\", \n",
    "                                                source_name=\"line.reaction_id\", \n",
    "                                                source_label=\"Reaction\"\n",
    "                              )\n",
    "qr = graph.run(query)\n",
    "pretty_print_result('-', inh_subdf, qr, 'relationships')"
   ]
  },
  {
   "cell_type": "markdown",
   "metadata": {},
   "source": [
    "## cleavage/auto-cleavage"
   ]
  },
  {
   "cell_type": "code",
   "execution_count": 107,
   "metadata": {},
   "outputs": [],
   "source": [
    "#Image(filename='./reaction_types/activation/cleavage_autocleavage.png')"
   ]
  },
  {
   "cell_type": "code",
   "execution_count": 108,
   "metadata": {},
   "outputs": [
    {
     "name": "stdout",
     "output_type": "stream",
     "text": [
      "CLEAVAGE_AUTOCLEAVAGE 29\n"
     ]
    }
   ],
   "source": [
    "key = 'cleavage/auto-cleavage'\n",
    "reaction_type = 'CLEAVAGE_AUTOCLEAVAGE'\n",
    "subdf = df_edges[df_edges['reaction_type'] == key].copy()\n",
    "print(reaction_type, subdf.shape[0])"
   ]
  },
  {
   "cell_type": "code",
   "execution_count": 109,
   "metadata": {},
   "outputs": [
    {
     "name": "stdout",
     "output_type": "stream",
     "text": [
      "Reaction            \t 29\t 29\n"
     ]
    }
   ],
   "source": [
    "# make reaction nodes\n",
    "f = f\"{reaction_type}-wicat-reaction.tsv\"\n",
    "subdf[reaction_standard_columns].to_csv(f\"../data/import/{f}\", sep=\"\\t\", index=None)\n",
    "query = helpers.reaction_node_query(f, name=\"line.reaction_id\")\n",
    "\n",
    "qr = graph.run(query)\n",
    "pretty_print_result('Reaction', subdf, qr, 'nodes')"
   ]
  },
  {
   "cell_type": "code",
   "execution_count": 110,
   "metadata": {
    "scrolled": true
   },
   "outputs": [],
   "source": [
    "cleavage_wo_catalyst = subdf[subdf['input2_ID'].isna() & subdf['input3_ID'].isna()]\n",
    "cleavage_w_catalyst = subdf[~(subdf['input2_ID'].isna() & subdf['input3_ID'].isna())]"
   ]
  },
  {
   "cell_type": "markdown",
   "metadata": {},
   "source": [
    "## with catalyst"
   ]
  },
  {
   "cell_type": "code",
   "execution_count": 111,
   "metadata": {},
   "outputs": [
    {
     "name": "stderr",
     "output_type": "stream",
     "text": [
      "<ipython-input-20-661505cdd578>:18: SettingWithCopyWarning: \n",
      "A value is trying to be set on a copy of a slice from a DataFrame.\n",
      "Try using .loc[row_indexer,col_indexer] = value instead\n",
      "\n",
      "See the caveats in the documentation: https://pandas.pydata.org/pandas-docs/stable/user_guide/indexing.html#returning-a-view-versus-a-copy\n",
      "  subdf[new_col] = subdf[old_col]\n"
     ]
    }
   ],
   "source": [
    "rename_target(cleavage_w_catalyst, 'output1', 'product')\n",
    "rename_target(cleavage_w_catalyst, 'input1',  'substrate')\n",
    "rename_target(cleavage_w_catalyst, 'input2',  'catalyst')"
   ]
  },
  {
   "cell_type": "code",
   "execution_count": 112,
   "metadata": {},
   "outputs": [
    {
     "name": "stdout",
     "output_type": "stream",
     "text": [
      "-                   \t 19\t 19\n"
     ]
    }
   ],
   "source": [
    "# substrate to reaction edge\n",
    "f =  f\"{reaction_type}-wicat-substrate_edges.tsv\" \n",
    "want_cols = reaction_standard_columns + substrate_cols\n",
    "cleavage_w_catalyst[want_cols].to_csv(f\"../data/import/{f}\", sep=\"\\t\", index=None)\n",
    "\n",
    "query = helpers.make_create_reaction_edge_query(f, 'SUBSTRATE',\n",
    "                                                \"substrate\", \"dne\", \n",
    "                                                target_label=\"Reaction\", \n",
    "                                                target_name=\"line.reaction_id\"\n",
    "                              )\n",
    "qr = graph.run(query)\n",
    "pretty_print_result('-', cleavage_w_catalyst, qr, 'relationships')"
   ]
  },
  {
   "cell_type": "code",
   "execution_count": 113,
   "metadata": {},
   "outputs": [
    {
     "name": "stdout",
     "output_type": "stream",
     "text": [
      "-                   \t 19\t 19\n"
     ]
    }
   ],
   "source": [
    "# catalyst to reaction edge\n",
    "\n",
    "f =  f\"{reaction_type}-wicat-catalyst_edges.tsv\" \n",
    "want_cols = reaction_standard_columns + catalyst_cols\n",
    "cleavage_w_catalyst[want_cols].to_csv(f\"../data/import/{f}\", sep=\"\\t\", index=None)\n",
    "\n",
    "query = helpers.make_create_reaction_edge_query(f, 'ACTIVATES',\n",
    "                                                \"catalyst\", \"dne\", \n",
    "                                                target_label=\"Reaction\", \n",
    "                                                target_name=\"line.reaction_id\"\n",
    "                              )\n",
    "qr = graph.run(query)\n",
    "pretty_print_result('-', cleavage_w_catalyst, qr, 'relationships')"
   ]
  },
  {
   "cell_type": "code",
   "execution_count": 114,
   "metadata": {},
   "outputs": [
    {
     "name": "stdout",
     "output_type": "stream",
     "text": [
      "-                   \t 19\t 19\n"
     ]
    }
   ],
   "source": [
    "# product to reaction edge\n",
    "f =  f\"{reaction_type}-wicat-product_edges.tsv\" \n",
    "want_cols = reaction_standard_columns + product_cols\n",
    "cleavage_w_catalyst[want_cols].to_csv(f\"../data/import/{f}\", sep=\"\\t\", index=None)\n",
    "\n",
    "query = helpers.make_create_reaction_edge_query(f, 'PRODUCT', \"dne\" , \"product\", \n",
    "                                                source_name=\"line.reaction_id\", \n",
    "                                                source_label=\"Reaction\"\n",
    "                              )\n",
    "qr = graph.run(query)\n",
    "pretty_print_result('-', cleavage_w_catalyst, qr, 'relationships')"
   ]
  },
  {
   "cell_type": "markdown",
   "metadata": {},
   "source": [
    "## w/o catalyst"
   ]
  },
  {
   "cell_type": "code",
   "execution_count": 115,
   "metadata": {},
   "outputs": [
    {
     "name": "stderr",
     "output_type": "stream",
     "text": [
      "<ipython-input-20-661505cdd578>:18: SettingWithCopyWarning: \n",
      "A value is trying to be set on a copy of a slice from a DataFrame.\n",
      "Try using .loc[row_indexer,col_indexer] = value instead\n",
      "\n",
      "See the caveats in the documentation: https://pandas.pydata.org/pandas-docs/stable/user_guide/indexing.html#returning-a-view-versus-a-copy\n",
      "  subdf[new_col] = subdf[old_col]\n"
     ]
    }
   ],
   "source": [
    "rename_target(cleavage_wo_catalyst, 'output1', 'product')\n",
    "rename_target(cleavage_wo_catalyst, 'input1',  'substrate')"
   ]
  },
  {
   "cell_type": "code",
   "execution_count": 116,
   "metadata": {},
   "outputs": [
    {
     "name": "stdout",
     "output_type": "stream",
     "text": [
      "-                   \t 10\t 10\n"
     ]
    }
   ],
   "source": [
    "# substrate to reaction edge\n",
    "f =  f\"{reaction_type}-substrate_edges.tsv\" \n",
    "want_cols = reaction_standard_columns + substrate_cols\n",
    "cleavage_wo_catalyst[want_cols].to_csv(f\"../data/import/{f}\", sep=\"\\t\", index=None)\n",
    "\n",
    "query = helpers.make_create_reaction_edge_query(f, 'SUBSTRATE',\n",
    "                                                \"substrate\", \"dne\", \n",
    "                                                target_label=\"Reaction\", \n",
    "                                                target_name=\"line.reaction_id\"\n",
    "                              )\n",
    "qr = graph.run(query)\n",
    "pretty_print_result('-', cleavage_wo_catalyst, qr, 'relationships')"
   ]
  },
  {
   "cell_type": "code",
   "execution_count": 117,
   "metadata": {},
   "outputs": [
    {
     "name": "stdout",
     "output_type": "stream",
     "text": [
      "-                   \t 10\t 10\n"
     ]
    }
   ],
   "source": [
    "# product to reaction edge\n",
    "f =  f\"{reaction_type}-product_edges.tsv\" \n",
    "want_cols = reaction_standard_columns + product_cols\n",
    "cleavage_wo_catalyst[want_cols].to_csv(f\"../data/import/{f}\", sep=\"\\t\", index=None)\n",
    "\n",
    "query = helpers.make_create_reaction_edge_query(f, 'PRODUCT', \"dne\" , \"product\", \n",
    "                                                source_name=\"line.reaction_id\", \n",
    "                                                source_label=\"Reaction\"\n",
    "                              )\n",
    "qr = graph.run(query)\n",
    "pretty_print_result('-', cleavage_wo_catalyst, qr, 'relationships')"
   ]
  },
  {
   "cell_type": "markdown",
   "metadata": {},
   "source": [
    "## undefined"
   ]
  },
  {
   "cell_type": "code",
   "execution_count": 118,
   "metadata": {},
   "outputs": [],
   "source": [
    "#Image(filename='./reaction_types/...png')"
   ]
  },
  {
   "cell_type": "code",
   "execution_count": 119,
   "metadata": {},
   "outputs": [
    {
     "name": "stdout",
     "output_type": "stream",
     "text": [
      "UNDEFINED 9\n"
     ]
    }
   ],
   "source": [
    "key = 'undefined'\n",
    "reaction_type = 'UNDEFINED'\n",
    "subdf = df_edges[df_edges['reaction_type'] == key].copy()\n",
    "print(reaction_type, subdf.shape[0])"
   ]
  },
  {
   "cell_type": "code",
   "execution_count": 120,
   "metadata": {},
   "outputs": [],
   "source": [
    "rename_target(subdf, 'output1', 'product')\n",
    "rename_target(subdf, 'input2',  'substrate')\n",
    "rename_target(subdf, 'input1',  'catalyst')"
   ]
  },
  {
   "cell_type": "code",
   "execution_count": 121,
   "metadata": {},
   "outputs": [
    {
     "data": {
      "text/html": [
       "<div>\n",
       "<style scoped>\n",
       "    .dataframe tbody tr th:only-of-type {\n",
       "        vertical-align: middle;\n",
       "    }\n",
       "\n",
       "    .dataframe tbody tr th {\n",
       "        vertical-align: top;\n",
       "    }\n",
       "\n",
       "    .dataframe thead th {\n",
       "        text-align: right;\n",
       "    }\n",
       "</style>\n",
       "<table border=\"1\" class=\"dataframe\">\n",
       "  <thead>\n",
       "    <tr style=\"text-align: right;\">\n",
       "      <th></th>\n",
       "      <th>substrate_name</th>\n",
       "      <th>substrate_label</th>\n",
       "      <th>substrate_form</th>\n",
       "      <th>substrate_location</th>\n",
       "      <th>product_name</th>\n",
       "      <th>product_label</th>\n",
       "      <th>product_form</th>\n",
       "      <th>product_location</th>\n",
       "      <th>catalyst_name</th>\n",
       "      <th>catalyst_label</th>\n",
       "      <th>catalyst_form</th>\n",
       "      <th>catalyst_location</th>\n",
       "    </tr>\n",
       "  </thead>\n",
       "  <tbody>\n",
       "    <tr>\n",
       "      <th>31</th>\n",
       "      <td>OPDA</td>\n",
       "      <td>Metabolite</td>\n",
       "      <td>metabolite</td>\n",
       "      <td>putative:cytoplasm</td>\n",
       "      <td>OPDA</td>\n",
       "      <td>Metabolite</td>\n",
       "      <td>metabolite</td>\n",
       "      <td>putative:cytoplasm</td>\n",
       "      <td>SA</td>\n",
       "      <td>Metabolite</td>\n",
       "      <td>metabolite</td>\n",
       "      <td>putative:cytoplasm</td>\n",
       "    </tr>\n",
       "    <tr>\n",
       "      <th>60</th>\n",
       "      <td>potyvirus</td>\n",
       "      <td>ForeignEntity</td>\n",
       "      <td>protein_active</td>\n",
       "      <td>putative:cytoplasm</td>\n",
       "      <td>potyvirus</td>\n",
       "      <td>ForeignEntity</td>\n",
       "      <td>protein</td>\n",
       "      <td>putative:cytoplasm</td>\n",
       "      <td>RTM1|RTM2|RTM3</td>\n",
       "      <td>Complex</td>\n",
       "      <td>complex</td>\n",
       "      <td>putative:cytoplasm</td>\n",
       "    </tr>\n",
       "    <tr>\n",
       "      <th>87</th>\n",
       "      <td>EDS1|PAD4</td>\n",
       "      <td>Complex</td>\n",
       "      <td>complex_active</td>\n",
       "      <td>putative:cytoplasm</td>\n",
       "      <td>EDS1|PAD4</td>\n",
       "      <td>Complex</td>\n",
       "      <td>complex</td>\n",
       "      <td>putative:cytoplasm</td>\n",
       "      <td>NPR1[AT1G64280]</td>\n",
       "      <td>PlantCoding</td>\n",
       "      <td>protein</td>\n",
       "      <td>putative:cytoplasm</td>\n",
       "    </tr>\n",
       "    <tr>\n",
       "      <th>88</th>\n",
       "      <td>EDS1|PAD4</td>\n",
       "      <td>Complex</td>\n",
       "      <td>complex_active</td>\n",
       "      <td>putative:cytoplasm</td>\n",
       "      <td>EDS1|PAD4</td>\n",
       "      <td>Complex</td>\n",
       "      <td>complex</td>\n",
       "      <td>putative:cytoplasm</td>\n",
       "      <td>MPK4[AT4G01370]</td>\n",
       "      <td>PlantCoding</td>\n",
       "      <td>protein</td>\n",
       "      <td>putative:cytoplasm</td>\n",
       "    </tr>\n",
       "    <tr>\n",
       "      <th>91</th>\n",
       "      <td>EDS5[AT2G21340,AT4G39030]</td>\n",
       "      <td>PlantCoding</td>\n",
       "      <td>protein</td>\n",
       "      <td>putative:cytoplasm</td>\n",
       "      <td>EDS5[AT2G21340,AT4G39030]</td>\n",
       "      <td>PlantCoding</td>\n",
       "      <td>protein_active</td>\n",
       "      <td>putative:cytoplasm</td>\n",
       "      <td>EDS1|PAD4</td>\n",
       "      <td>Complex</td>\n",
       "      <td>complex</td>\n",
       "      <td>putative:cytoplasm</td>\n",
       "    </tr>\n",
       "    <tr>\n",
       "      <th>120</th>\n",
       "      <td>AUX-signalling</td>\n",
       "      <td>Process</td>\n",
       "      <td>process_active</td>\n",
       "      <td>putative:cytoplasm</td>\n",
       "      <td>AUX-signalling</td>\n",
       "      <td>Process</td>\n",
       "      <td>process</td>\n",
       "      <td>putative:cytoplasm</td>\n",
       "      <td>ARF2[AT5G62000]</td>\n",
       "      <td>PlantCoding</td>\n",
       "      <td>protein</td>\n",
       "      <td>putative:cytoplasm</td>\n",
       "    </tr>\n",
       "    <tr>\n",
       "      <th>150</th>\n",
       "      <td>TGA2,5,6[AT3G12250,AT5G06950,AT5G06960]</td>\n",
       "      <td>PlantCoding</td>\n",
       "      <td>protein_active</td>\n",
       "      <td>putative:cytoplasm</td>\n",
       "      <td>TGA2,5,6[AT3G12250,AT5G06950,AT5G06960]</td>\n",
       "      <td>PlantCoding</td>\n",
       "      <td>protein</td>\n",
       "      <td>putative:cytoplasm</td>\n",
       "      <td>GRX480[AT1G28480]</td>\n",
       "      <td>PlantCoding</td>\n",
       "      <td>protein_active</td>\n",
       "      <td>putative:cytoplasm</td>\n",
       "    </tr>\n",
       "    <tr>\n",
       "      <th>209</th>\n",
       "      <td>PR1[AT1G50060,AT2G14580,AT2G14610,AT4G33710,AT...</td>\n",
       "      <td>PlantCoding</td>\n",
       "      <td>protein_active</td>\n",
       "      <td>putative:cytoplasm</td>\n",
       "      <td>PR1[AT1G50060,AT2G14580,AT2G14610,AT4G33710,AT...</td>\n",
       "      <td>PlantCoding</td>\n",
       "      <td>protein</td>\n",
       "      <td>putative:cytoplasm</td>\n",
       "      <td>EIN2[AT5G03280]</td>\n",
       "      <td>PlantCoding</td>\n",
       "      <td>protein</td>\n",
       "      <td>putative:cytoplasm</td>\n",
       "    </tr>\n",
       "    <tr>\n",
       "      <th>310</th>\n",
       "      <td>CAT2[AT4G35090]</td>\n",
       "      <td>PlantCoding</td>\n",
       "      <td>protein_active</td>\n",
       "      <td>putative:cytoplasm</td>\n",
       "      <td>CAT2[AT4G35090]</td>\n",
       "      <td>PlantCoding</td>\n",
       "      <td>protein</td>\n",
       "      <td>putative:cytoplasm</td>\n",
       "      <td>SA</td>\n",
       "      <td>Metabolite</td>\n",
       "      <td>metabolite</td>\n",
       "      <td>putative:cytoplasm</td>\n",
       "    </tr>\n",
       "  </tbody>\n",
       "</table>\n",
       "</div>"
      ],
      "text/plain": [
       "                                        substrate_name substrate_label  \\\n",
       "31                                                OPDA      Metabolite   \n",
       "60                                           potyvirus   ForeignEntity   \n",
       "87                                           EDS1|PAD4         Complex   \n",
       "88                                           EDS1|PAD4         Complex   \n",
       "91                           EDS5[AT2G21340,AT4G39030]     PlantCoding   \n",
       "120                                     AUX-signalling         Process   \n",
       "150            TGA2,5,6[AT3G12250,AT5G06950,AT5G06960]     PlantCoding   \n",
       "209  PR1[AT1G50060,AT2G14580,AT2G14610,AT4G33710,AT...     PlantCoding   \n",
       "310                                    CAT2[AT4G35090]     PlantCoding   \n",
       "\n",
       "     substrate_form  substrate_location  \\\n",
       "31       metabolite  putative:cytoplasm   \n",
       "60   protein_active  putative:cytoplasm   \n",
       "87   complex_active  putative:cytoplasm   \n",
       "88   complex_active  putative:cytoplasm   \n",
       "91          protein  putative:cytoplasm   \n",
       "120  process_active  putative:cytoplasm   \n",
       "150  protein_active  putative:cytoplasm   \n",
       "209  protein_active  putative:cytoplasm   \n",
       "310  protein_active  putative:cytoplasm   \n",
       "\n",
       "                                          product_name  product_label  \\\n",
       "31                                                OPDA     Metabolite   \n",
       "60                                           potyvirus  ForeignEntity   \n",
       "87                                           EDS1|PAD4        Complex   \n",
       "88                                           EDS1|PAD4        Complex   \n",
       "91                           EDS5[AT2G21340,AT4G39030]    PlantCoding   \n",
       "120                                     AUX-signalling        Process   \n",
       "150            TGA2,5,6[AT3G12250,AT5G06950,AT5G06960]    PlantCoding   \n",
       "209  PR1[AT1G50060,AT2G14580,AT2G14610,AT4G33710,AT...    PlantCoding   \n",
       "310                                    CAT2[AT4G35090]    PlantCoding   \n",
       "\n",
       "       product_form    product_location      catalyst_name catalyst_label  \\\n",
       "31       metabolite  putative:cytoplasm                 SA     Metabolite   \n",
       "60          protein  putative:cytoplasm     RTM1|RTM2|RTM3        Complex   \n",
       "87          complex  putative:cytoplasm    NPR1[AT1G64280]    PlantCoding   \n",
       "88          complex  putative:cytoplasm    MPK4[AT4G01370]    PlantCoding   \n",
       "91   protein_active  putative:cytoplasm          EDS1|PAD4        Complex   \n",
       "120         process  putative:cytoplasm    ARF2[AT5G62000]    PlantCoding   \n",
       "150         protein  putative:cytoplasm  GRX480[AT1G28480]    PlantCoding   \n",
       "209         protein  putative:cytoplasm    EIN2[AT5G03280]    PlantCoding   \n",
       "310         protein  putative:cytoplasm                 SA     Metabolite   \n",
       "\n",
       "      catalyst_form   catalyst_location  \n",
       "31       metabolite  putative:cytoplasm  \n",
       "60          complex  putative:cytoplasm  \n",
       "87          protein  putative:cytoplasm  \n",
       "88          protein  putative:cytoplasm  \n",
       "91          complex  putative:cytoplasm  \n",
       "120         protein  putative:cytoplasm  \n",
       "150  protein_active  putative:cytoplasm  \n",
       "209         protein  putative:cytoplasm  \n",
       "310      metabolite  putative:cytoplasm  "
      ]
     },
     "execution_count": 121,
     "metadata": {},
     "output_type": "execute_result"
    }
   ],
   "source": [
    "subdf[substrate_cols + product_cols + catalyst_cols]"
   ]
  },
  {
   "cell_type": "code",
   "execution_count": 122,
   "metadata": {},
   "outputs": [
    {
     "data": {
      "text/html": [
       "<div>\n",
       "<style scoped>\n",
       "    .dataframe tbody tr th:only-of-type {\n",
       "        vertical-align: middle;\n",
       "    }\n",
       "\n",
       "    .dataframe tbody tr th {\n",
       "        vertical-align: top;\n",
       "    }\n",
       "\n",
       "    .dataframe thead th {\n",
       "        text-align: right;\n",
       "    }\n",
       "</style>\n",
       "<table border=\"1\" class=\"dataframe\">\n",
       "  <thead>\n",
       "    <tr style=\"text-align: right;\">\n",
       "      <th></th>\n",
       "      <th>AddedBy</th>\n",
       "      <th>Species</th>\n",
       "      <th>AdditionalInfo</th>\n",
       "      <th>external_links</th>\n",
       "      <th>trust_level</th>\n",
       "      <th>ModelV</th>\n",
       "      <th>ReactionEffect</th>\n",
       "      <th>reaction_type</th>\n",
       "      <th>Modifications</th>\n",
       "      <th>reaction_id</th>\n",
       "    </tr>\n",
       "  </thead>\n",
       "  <tbody>\n",
       "    <tr>\n",
       "      <th>31</th>\n",
       "      <td>KG</td>\n",
       "      <td>ath</td>\n",
       "      <td>NaN</td>\n",
       "      <td>doi:10.1007/s00344-003-0027-6</td>\n",
       "      <td>R4</td>\n",
       "      <td>v1.0</td>\n",
       "      <td>inhibition</td>\n",
       "      <td>undefined</td>\n",
       "      <td>NaN</td>\n",
       "      <td>rx00032</td>\n",
       "    </tr>\n",
       "    <tr>\n",
       "      <th>60</th>\n",
       "      <td>ZR</td>\n",
       "      <td>ath</td>\n",
       "      <td>RTM proteins block the long distance transport...</td>\n",
       "      <td>doi:10.1371/journal.pone.0039169</td>\n",
       "      <td>R4</td>\n",
       "      <td>v2.7</td>\n",
       "      <td>inhibition</td>\n",
       "      <td>undefined</td>\n",
       "      <td>NaN</td>\n",
       "      <td>rx00061</td>\n",
       "    </tr>\n",
       "    <tr>\n",
       "      <th>87</th>\n",
       "      <td>KG</td>\n",
       "      <td>ath</td>\n",
       "      <td>Check if this simplification would work (inste...</td>\n",
       "      <td>doi:10.1016/s1369-5266(03)00058-x</td>\n",
       "      <td>R4</td>\n",
       "      <td>v1.0</td>\n",
       "      <td>inhibition</td>\n",
       "      <td>undefined</td>\n",
       "      <td>NaN</td>\n",
       "      <td>rx00088</td>\n",
       "    </tr>\n",
       "    <tr>\n",
       "      <th>88</th>\n",
       "      <td>KG</td>\n",
       "      <td>ath</td>\n",
       "      <td>Check if this simplification would work (inste...</td>\n",
       "      <td>doi:10.1104/pp.112.194647,doi:10.1111/j.1365-3...</td>\n",
       "      <td>R4</td>\n",
       "      <td>v1.0</td>\n",
       "      <td>inhibition</td>\n",
       "      <td>undefined</td>\n",
       "      <td>NaN</td>\n",
       "      <td>rx00089</td>\n",
       "    </tr>\n",
       "    <tr>\n",
       "      <th>91</th>\n",
       "      <td>KG</td>\n",
       "      <td>ath</td>\n",
       "      <td>NaN</td>\n",
       "      <td>doi:10.1111/j.1365-313x.2004.02241.x,doi:10.10...</td>\n",
       "      <td>R4</td>\n",
       "      <td>v1.0</td>\n",
       "      <td>activation</td>\n",
       "      <td>undefined</td>\n",
       "      <td>NaN</td>\n",
       "      <td>rx00092</td>\n",
       "    </tr>\n",
       "    <tr>\n",
       "      <th>120</th>\n",
       "      <td>KG</td>\n",
       "      <td>ath</td>\n",
       "      <td>demonstrating that ARF2 is a repressor of auxi...</td>\n",
       "      <td>doi:10.1093/jxb/erq010</td>\n",
       "      <td>R4</td>\n",
       "      <td>v2.7</td>\n",
       "      <td>inhibition</td>\n",
       "      <td>undefined</td>\n",
       "      <td>NaN</td>\n",
       "      <td>rx00121</td>\n",
       "    </tr>\n",
       "    <tr>\n",
       "      <th>150</th>\n",
       "      <td>KG</td>\n",
       "      <td>ath</td>\n",
       "      <td>This inactivation of tga256 diables binding on...</td>\n",
       "      <td>doi:10.1093/mp/ssr113</td>\n",
       "      <td>R1</td>\n",
       "      <td>v2.7</td>\n",
       "      <td>inhibition</td>\n",
       "      <td>undefined</td>\n",
       "      <td>NaN</td>\n",
       "      <td>rx00151</td>\n",
       "    </tr>\n",
       "    <tr>\n",
       "      <th>209</th>\n",
       "      <td>ZR</td>\n",
       "      <td>ath</td>\n",
       "      <td>NaN</td>\n",
       "      <td>doi:10.1104/pp.104.056028</td>\n",
       "      <td>R4</td>\n",
       "      <td>v2.7</td>\n",
       "      <td>inhibition</td>\n",
       "      <td>undefined</td>\n",
       "      <td>NaN</td>\n",
       "      <td>rx00210</td>\n",
       "    </tr>\n",
       "    <tr>\n",
       "      <th>310</th>\n",
       "      <td>SB</td>\n",
       "      <td>ath</td>\n",
       "      <td>SA decreased CAT2 activity in a dose-dependent...</td>\n",
       "      <td>doi:10.1016/j.chom.2017.01.007</td>\n",
       "      <td>R4</td>\n",
       "      <td>v2.7</td>\n",
       "      <td>inhibition</td>\n",
       "      <td>undefined</td>\n",
       "      <td>NaN</td>\n",
       "      <td>rx00311</td>\n",
       "    </tr>\n",
       "  </tbody>\n",
       "</table>\n",
       "</div>"
      ],
      "text/plain": [
       "    AddedBy Species                                     AdditionalInfo  \\\n",
       "31       KG     ath                                                NaN   \n",
       "60       ZR     ath  RTM proteins block the long distance transport...   \n",
       "87       KG     ath  Check if this simplification would work (inste...   \n",
       "88       KG     ath  Check if this simplification would work (inste...   \n",
       "91       KG     ath                                                NaN   \n",
       "120      KG     ath  demonstrating that ARF2 is a repressor of auxi...   \n",
       "150      KG     ath  This inactivation of tga256 diables binding on...   \n",
       "209      ZR     ath                                                NaN   \n",
       "310      SB     ath  SA decreased CAT2 activity in a dose-dependent...   \n",
       "\n",
       "                                        external_links trust_level ModelV  \\\n",
       "31                       doi:10.1007/s00344-003-0027-6          R4   v1.0   \n",
       "60                    doi:10.1371/journal.pone.0039169          R4   v2.7   \n",
       "87                   doi:10.1016/s1369-5266(03)00058-x          R4   v1.0   \n",
       "88   doi:10.1104/pp.112.194647,doi:10.1111/j.1365-3...          R4   v1.0   \n",
       "91   doi:10.1111/j.1365-313x.2004.02241.x,doi:10.10...          R4   v1.0   \n",
       "120                             doi:10.1093/jxb/erq010          R4   v2.7   \n",
       "150                              doi:10.1093/mp/ssr113          R1   v2.7   \n",
       "209                          doi:10.1104/pp.104.056028          R4   v2.7   \n",
       "310                     doi:10.1016/j.chom.2017.01.007          R4   v2.7   \n",
       "\n",
       "    ReactionEffect reaction_type Modifications reaction_id  \n",
       "31      inhibition     undefined           NaN     rx00032  \n",
       "60      inhibition     undefined           NaN     rx00061  \n",
       "87      inhibition     undefined           NaN     rx00088  \n",
       "88      inhibition     undefined           NaN     rx00089  \n",
       "91      activation     undefined           NaN     rx00092  \n",
       "120     inhibition     undefined           NaN     rx00121  \n",
       "150     inhibition     undefined           NaN     rx00151  \n",
       "209     inhibition     undefined           NaN     rx00210  \n",
       "310     inhibition     undefined           NaN     rx00311  "
      ]
     },
     "execution_count": 122,
     "metadata": {},
     "output_type": "execute_result"
    }
   ],
   "source": [
    "subdf[reaction_standard_columns]"
   ]
  },
  {
   "cell_type": "code",
   "execution_count": 123,
   "metadata": {},
   "outputs": [],
   "source": [
    "activation_subdf = subdf[subdf['ReactionEffect'] == 'activation' ]\n",
    "inhibition_subdf = subdf[subdf['ReactionEffect'] == 'inhibition' ]"
   ]
  },
  {
   "cell_type": "code",
   "execution_count": 124,
   "metadata": {},
   "outputs": [
    {
     "name": "stdout",
     "output_type": "stream",
     "text": [
      "Reaction            \t  9\t  9\n"
     ]
    }
   ],
   "source": [
    "# make reaction nodes\n",
    "f = f\"{reaction_type}-reaction.tsv\"\n",
    "subdf[reaction_standard_columns].to_csv(f\"../data/import/{f}\", sep=\"\\t\", index=None)\n",
    "query = helpers.reaction_node_query(f, name=\"line.reaction_id\")\n",
    "\n",
    "qr = graph.run(query)\n",
    "pretty_print_result('Reaction', subdf, qr, 'nodes')"
   ]
  },
  {
   "cell_type": "code",
   "execution_count": 125,
   "metadata": {},
   "outputs": [
    {
     "name": "stdout",
     "output_type": "stream",
     "text": [
      "-                   \t  9\t  9\n"
     ]
    }
   ],
   "source": [
    "# substrate to reaction edge\n",
    "f =  f\"{reaction_type}-wicat-substrate_edges.tsv\" \n",
    "want_cols = reaction_standard_columns + substrate_cols\n",
    "subdf[want_cols].to_csv(f\"../data/import/{f}\", sep=\"\\t\", index=None)\n",
    "\n",
    "query = helpers.make_create_reaction_edge_query(f, 'SUBSTRATE',\n",
    "                                                \"substrate\", \"dne\", \n",
    "                                                target_label=\"Reaction\", \n",
    "                                                target_name=\"line.reaction_id\"\n",
    "                              )\n",
    "qr = graph.run(query)\n",
    "pretty_print_result('-', subdf, qr, 'relationships')"
   ]
  },
  {
   "cell_type": "code",
   "execution_count": 126,
   "metadata": {},
   "outputs": [
    {
     "name": "stdout",
     "output_type": "stream",
     "text": [
      "-                   \t  9\t  9\n"
     ]
    }
   ],
   "source": [
    "# product to reaction edge\n",
    "f =  f\"{reaction_type}-wicat-product_edges.tsv\" \n",
    "want_cols = reaction_standard_columns + product_cols\n",
    "subdf[want_cols].to_csv(f\"../data/import/{f}\", sep=\"\\t\", index=None)\n",
    "\n",
    "query = helpers.make_create_reaction_edge_query(f, 'PRODUCT', \"dne\" , \"product\", \n",
    "                                                source_name=\"line.reaction_id\", \n",
    "                                                source_label=\"Reaction\"\n",
    "                              )\n",
    "qr = graph.run(query)\n",
    "pretty_print_result('-', subdf, qr, 'relationships')"
   ]
  },
  {
   "cell_type": "markdown",
   "metadata": {},
   "source": [
    "## activation"
   ]
  },
  {
   "cell_type": "code",
   "execution_count": 127,
   "metadata": {},
   "outputs": [
    {
     "data": {
      "text/html": [
       "<div>\n",
       "<style scoped>\n",
       "    .dataframe tbody tr th:only-of-type {\n",
       "        vertical-align: middle;\n",
       "    }\n",
       "\n",
       "    .dataframe tbody tr th {\n",
       "        vertical-align: top;\n",
       "    }\n",
       "\n",
       "    .dataframe thead th {\n",
       "        text-align: right;\n",
       "    }\n",
       "</style>\n",
       "<table border=\"1\" class=\"dataframe\">\n",
       "  <thead>\n",
       "    <tr style=\"text-align: right;\">\n",
       "      <th></th>\n",
       "      <th>substrate_name</th>\n",
       "      <th>substrate_label</th>\n",
       "      <th>substrate_form</th>\n",
       "      <th>substrate_location</th>\n",
       "      <th>product_name</th>\n",
       "      <th>product_label</th>\n",
       "      <th>product_form</th>\n",
       "      <th>product_location</th>\n",
       "      <th>catalyst_name</th>\n",
       "      <th>catalyst_label</th>\n",
       "      <th>catalyst_form</th>\n",
       "      <th>catalyst_location</th>\n",
       "    </tr>\n",
       "  </thead>\n",
       "  <tbody>\n",
       "    <tr>\n",
       "      <th>91</th>\n",
       "      <td>EDS5[AT2G21340,AT4G39030]</td>\n",
       "      <td>PlantCoding</td>\n",
       "      <td>protein</td>\n",
       "      <td>putative:cytoplasm</td>\n",
       "      <td>EDS5[AT2G21340,AT4G39030]</td>\n",
       "      <td>PlantCoding</td>\n",
       "      <td>protein_active</td>\n",
       "      <td>putative:cytoplasm</td>\n",
       "      <td>EDS1|PAD4</td>\n",
       "      <td>Complex</td>\n",
       "      <td>complex</td>\n",
       "      <td>putative:cytoplasm</td>\n",
       "    </tr>\n",
       "  </tbody>\n",
       "</table>\n",
       "</div>"
      ],
      "text/plain": [
       "               substrate_name substrate_label substrate_form  \\\n",
       "91  EDS5[AT2G21340,AT4G39030]     PlantCoding        protein   \n",
       "\n",
       "    substrate_location               product_name product_label  \\\n",
       "91  putative:cytoplasm  EDS5[AT2G21340,AT4G39030]   PlantCoding   \n",
       "\n",
       "      product_form    product_location catalyst_name catalyst_label  \\\n",
       "91  protein_active  putative:cytoplasm     EDS1|PAD4        Complex   \n",
       "\n",
       "   catalyst_form   catalyst_location  \n",
       "91       complex  putative:cytoplasm  "
      ]
     },
     "execution_count": 127,
     "metadata": {},
     "output_type": "execute_result"
    }
   ],
   "source": [
    "activation_subdf[substrate_cols + product_cols + catalyst_cols]"
   ]
  },
  {
   "cell_type": "code",
   "execution_count": 128,
   "metadata": {},
   "outputs": [
    {
     "name": "stdout",
     "output_type": "stream",
     "text": [
      "-                   \t  1\t  1\n"
     ]
    }
   ],
   "source": [
    "# catalyst to reaction edge\n",
    "\n",
    "f =  f\"{reaction_type}-catalyst_edges.tsv\" \n",
    "want_cols = reaction_standard_columns + catalyst_cols\n",
    "activation_subdf[want_cols].to_csv(f\"../data/import/{f}\", sep=\"\\t\", index=None)\n",
    "\n",
    "query = helpers.make_create_reaction_edge_query(f, 'ACTIVATES',\n",
    "                                                \"catalyst\", \"dne\", \n",
    "                                                target_label=\"Reaction\", \n",
    "                                                target_name=\"line.reaction_id\"\n",
    "                              )\n",
    "qr = graph.run(query)\n",
    "pretty_print_result('-', activation_subdf, qr, 'relationships')"
   ]
  },
  {
   "cell_type": "markdown",
   "metadata": {},
   "source": [
    "## inhibition"
   ]
  },
  {
   "cell_type": "code",
   "execution_count": 129,
   "metadata": {},
   "outputs": [
    {
     "data": {
      "text/html": [
       "<div>\n",
       "<style scoped>\n",
       "    .dataframe tbody tr th:only-of-type {\n",
       "        vertical-align: middle;\n",
       "    }\n",
       "\n",
       "    .dataframe tbody tr th {\n",
       "        vertical-align: top;\n",
       "    }\n",
       "\n",
       "    .dataframe thead th {\n",
       "        text-align: right;\n",
       "    }\n",
       "</style>\n",
       "<table border=\"1\" class=\"dataframe\">\n",
       "  <thead>\n",
       "    <tr style=\"text-align: right;\">\n",
       "      <th></th>\n",
       "      <th>substrate_name</th>\n",
       "      <th>substrate_label</th>\n",
       "      <th>substrate_form</th>\n",
       "      <th>substrate_location</th>\n",
       "      <th>product_name</th>\n",
       "      <th>product_label</th>\n",
       "      <th>product_form</th>\n",
       "      <th>product_location</th>\n",
       "      <th>catalyst_name</th>\n",
       "      <th>catalyst_label</th>\n",
       "      <th>catalyst_form</th>\n",
       "      <th>catalyst_location</th>\n",
       "    </tr>\n",
       "  </thead>\n",
       "  <tbody>\n",
       "    <tr>\n",
       "      <th>31</th>\n",
       "      <td>OPDA</td>\n",
       "      <td>Metabolite</td>\n",
       "      <td>metabolite</td>\n",
       "      <td>putative:cytoplasm</td>\n",
       "      <td>OPDA</td>\n",
       "      <td>Metabolite</td>\n",
       "      <td>metabolite</td>\n",
       "      <td>putative:cytoplasm</td>\n",
       "      <td>SA</td>\n",
       "      <td>Metabolite</td>\n",
       "      <td>metabolite</td>\n",
       "      <td>putative:cytoplasm</td>\n",
       "    </tr>\n",
       "    <tr>\n",
       "      <th>60</th>\n",
       "      <td>potyvirus</td>\n",
       "      <td>ForeignEntity</td>\n",
       "      <td>protein_active</td>\n",
       "      <td>putative:cytoplasm</td>\n",
       "      <td>potyvirus</td>\n",
       "      <td>ForeignEntity</td>\n",
       "      <td>protein</td>\n",
       "      <td>putative:cytoplasm</td>\n",
       "      <td>RTM1|RTM2|RTM3</td>\n",
       "      <td>Complex</td>\n",
       "      <td>complex</td>\n",
       "      <td>putative:cytoplasm</td>\n",
       "    </tr>\n",
       "    <tr>\n",
       "      <th>87</th>\n",
       "      <td>EDS1|PAD4</td>\n",
       "      <td>Complex</td>\n",
       "      <td>complex_active</td>\n",
       "      <td>putative:cytoplasm</td>\n",
       "      <td>EDS1|PAD4</td>\n",
       "      <td>Complex</td>\n",
       "      <td>complex</td>\n",
       "      <td>putative:cytoplasm</td>\n",
       "      <td>NPR1[AT1G64280]</td>\n",
       "      <td>PlantCoding</td>\n",
       "      <td>protein</td>\n",
       "      <td>putative:cytoplasm</td>\n",
       "    </tr>\n",
       "    <tr>\n",
       "      <th>88</th>\n",
       "      <td>EDS1|PAD4</td>\n",
       "      <td>Complex</td>\n",
       "      <td>complex_active</td>\n",
       "      <td>putative:cytoplasm</td>\n",
       "      <td>EDS1|PAD4</td>\n",
       "      <td>Complex</td>\n",
       "      <td>complex</td>\n",
       "      <td>putative:cytoplasm</td>\n",
       "      <td>MPK4[AT4G01370]</td>\n",
       "      <td>PlantCoding</td>\n",
       "      <td>protein</td>\n",
       "      <td>putative:cytoplasm</td>\n",
       "    </tr>\n",
       "    <tr>\n",
       "      <th>120</th>\n",
       "      <td>AUX-signalling</td>\n",
       "      <td>Process</td>\n",
       "      <td>process_active</td>\n",
       "      <td>putative:cytoplasm</td>\n",
       "      <td>AUX-signalling</td>\n",
       "      <td>Process</td>\n",
       "      <td>process</td>\n",
       "      <td>putative:cytoplasm</td>\n",
       "      <td>ARF2[AT5G62000]</td>\n",
       "      <td>PlantCoding</td>\n",
       "      <td>protein</td>\n",
       "      <td>putative:cytoplasm</td>\n",
       "    </tr>\n",
       "    <tr>\n",
       "      <th>150</th>\n",
       "      <td>TGA2,5,6[AT3G12250,AT5G06950,AT5G06960]</td>\n",
       "      <td>PlantCoding</td>\n",
       "      <td>protein_active</td>\n",
       "      <td>putative:cytoplasm</td>\n",
       "      <td>TGA2,5,6[AT3G12250,AT5G06950,AT5G06960]</td>\n",
       "      <td>PlantCoding</td>\n",
       "      <td>protein</td>\n",
       "      <td>putative:cytoplasm</td>\n",
       "      <td>GRX480[AT1G28480]</td>\n",
       "      <td>PlantCoding</td>\n",
       "      <td>protein_active</td>\n",
       "      <td>putative:cytoplasm</td>\n",
       "    </tr>\n",
       "    <tr>\n",
       "      <th>209</th>\n",
       "      <td>PR1[AT1G50060,AT2G14580,AT2G14610,AT4G33710,AT...</td>\n",
       "      <td>PlantCoding</td>\n",
       "      <td>protein_active</td>\n",
       "      <td>putative:cytoplasm</td>\n",
       "      <td>PR1[AT1G50060,AT2G14580,AT2G14610,AT4G33710,AT...</td>\n",
       "      <td>PlantCoding</td>\n",
       "      <td>protein</td>\n",
       "      <td>putative:cytoplasm</td>\n",
       "      <td>EIN2[AT5G03280]</td>\n",
       "      <td>PlantCoding</td>\n",
       "      <td>protein</td>\n",
       "      <td>putative:cytoplasm</td>\n",
       "    </tr>\n",
       "    <tr>\n",
       "      <th>310</th>\n",
       "      <td>CAT2[AT4G35090]</td>\n",
       "      <td>PlantCoding</td>\n",
       "      <td>protein_active</td>\n",
       "      <td>putative:cytoplasm</td>\n",
       "      <td>CAT2[AT4G35090]</td>\n",
       "      <td>PlantCoding</td>\n",
       "      <td>protein</td>\n",
       "      <td>putative:cytoplasm</td>\n",
       "      <td>SA</td>\n",
       "      <td>Metabolite</td>\n",
       "      <td>metabolite</td>\n",
       "      <td>putative:cytoplasm</td>\n",
       "    </tr>\n",
       "  </tbody>\n",
       "</table>\n",
       "</div>"
      ],
      "text/plain": [
       "                                        substrate_name substrate_label  \\\n",
       "31                                                OPDA      Metabolite   \n",
       "60                                           potyvirus   ForeignEntity   \n",
       "87                                           EDS1|PAD4         Complex   \n",
       "88                                           EDS1|PAD4         Complex   \n",
       "120                                     AUX-signalling         Process   \n",
       "150            TGA2,5,6[AT3G12250,AT5G06950,AT5G06960]     PlantCoding   \n",
       "209  PR1[AT1G50060,AT2G14580,AT2G14610,AT4G33710,AT...     PlantCoding   \n",
       "310                                    CAT2[AT4G35090]     PlantCoding   \n",
       "\n",
       "     substrate_form  substrate_location  \\\n",
       "31       metabolite  putative:cytoplasm   \n",
       "60   protein_active  putative:cytoplasm   \n",
       "87   complex_active  putative:cytoplasm   \n",
       "88   complex_active  putative:cytoplasm   \n",
       "120  process_active  putative:cytoplasm   \n",
       "150  protein_active  putative:cytoplasm   \n",
       "209  protein_active  putative:cytoplasm   \n",
       "310  protein_active  putative:cytoplasm   \n",
       "\n",
       "                                          product_name  product_label  \\\n",
       "31                                                OPDA     Metabolite   \n",
       "60                                           potyvirus  ForeignEntity   \n",
       "87                                           EDS1|PAD4        Complex   \n",
       "88                                           EDS1|PAD4        Complex   \n",
       "120                                     AUX-signalling        Process   \n",
       "150            TGA2,5,6[AT3G12250,AT5G06950,AT5G06960]    PlantCoding   \n",
       "209  PR1[AT1G50060,AT2G14580,AT2G14610,AT4G33710,AT...    PlantCoding   \n",
       "310                                    CAT2[AT4G35090]    PlantCoding   \n",
       "\n",
       "    product_form    product_location      catalyst_name catalyst_label  \\\n",
       "31    metabolite  putative:cytoplasm                 SA     Metabolite   \n",
       "60       protein  putative:cytoplasm     RTM1|RTM2|RTM3        Complex   \n",
       "87       complex  putative:cytoplasm    NPR1[AT1G64280]    PlantCoding   \n",
       "88       complex  putative:cytoplasm    MPK4[AT4G01370]    PlantCoding   \n",
       "120      process  putative:cytoplasm    ARF2[AT5G62000]    PlantCoding   \n",
       "150      protein  putative:cytoplasm  GRX480[AT1G28480]    PlantCoding   \n",
       "209      protein  putative:cytoplasm    EIN2[AT5G03280]    PlantCoding   \n",
       "310      protein  putative:cytoplasm                 SA     Metabolite   \n",
       "\n",
       "      catalyst_form   catalyst_location  \n",
       "31       metabolite  putative:cytoplasm  \n",
       "60          complex  putative:cytoplasm  \n",
       "87          protein  putative:cytoplasm  \n",
       "88          protein  putative:cytoplasm  \n",
       "120         protein  putative:cytoplasm  \n",
       "150  protein_active  putative:cytoplasm  \n",
       "209         protein  putative:cytoplasm  \n",
       "310      metabolite  putative:cytoplasm  "
      ]
     },
     "execution_count": 129,
     "metadata": {},
     "output_type": "execute_result"
    }
   ],
   "source": [
    "inhibition_subdf[substrate_cols + product_cols + catalyst_cols]"
   ]
  },
  {
   "cell_type": "code",
   "execution_count": 130,
   "metadata": {},
   "outputs": [
    {
     "name": "stdout",
     "output_type": "stream",
     "text": [
      "-                   \t  8\t  8\n"
     ]
    }
   ],
   "source": [
    "# catalyst to reaction edge\n",
    "\n",
    "f =  f\"{reaction_type}-catalyst_edges.tsv\" \n",
    "want_cols = reaction_standard_columns + catalyst_cols\n",
    "inhibition_subdf[want_cols].to_csv(f\"../data/import/{f}\", sep=\"\\t\", index=None)\n",
    "\n",
    "query = helpers.make_create_reaction_edge_query(f, 'INHIBITS',\n",
    "                                                \"catalyst\", \"dne\", \n",
    "                                                target_label=\"Reaction\", \n",
    "                                                target_name=\"line.reaction_id\"\n",
    "                              )\n",
    "qr = graph.run(query)\n",
    "pretty_print_result('-', inhibition_subdf, qr, 'relationships')"
   ]
  },
  {
   "cell_type": "code",
   "execution_count": null,
   "metadata": {},
   "outputs": [],
   "source": []
  },
  {
   "cell_type": "code",
   "execution_count": null,
   "metadata": {},
   "outputs": [],
   "source": []
  },
  {
   "cell_type": "code",
   "execution_count": null,
   "metadata": {},
   "outputs": [],
   "source": []
  },
  {
   "cell_type": "markdown",
   "metadata": {},
   "source": [
    "# END "
   ]
  },
  {
   "cell_type": "code",
   "execution_count": null,
   "metadata": {},
   "outputs": [],
   "source": []
  }
 ],
 "metadata": {
  "kernelspec": {
   "display_name": "Python 3",
   "language": "python",
   "name": "python3"
  },
  "language_info": {
   "codemirror_mode": {
    "name": "ipython",
    "version": 3
   },
   "file_extension": ".py",
   "mimetype": "text/x-python",
   "name": "python",
   "nbconvert_exporter": "python",
   "pygments_lexer": "ipython3",
   "version": "3.9.2"
  }
 },
 "nbformat": 4,
 "nbformat_minor": 2
}
