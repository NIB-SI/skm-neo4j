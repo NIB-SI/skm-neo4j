{
 "cells": [
  {
   "cell_type": "code",
   "execution_count": null,
   "metadata": {},
   "outputs": [],
   "source": [
    "version = \"v0.1.0\""
   ]
  },
  {
   "cell_type": "code",
   "execution_count": null,
   "metadata": {},
   "outputs": [],
   "source": [
    "from IPython.core.display import display, HTML\n",
    "display(HTML(\"<style>.container { width:80% !important; }</style>\"))"
   ]
  },
  {
   "cell_type": "markdown",
   "metadata": {},
   "source": [
    "# Import neo4j DB: 4/5\n",
    "\n",
    "Code to translate v2.7.4_PIS-model.xlsx to neo4j database. "
   ]
  },
  {
   "cell_type": "markdown",
   "metadata": {},
   "source": [
    "## Setup"
   ]
  },
  {
   "cell_type": "code",
   "execution_count": null,
   "metadata": {},
   "outputs": [],
   "source": [
    "from collections import defaultdict"
   ]
  },
  {
   "cell_type": "code",
   "execution_count": null,
   "metadata": {},
   "outputs": [],
   "source": [
    "import pandas as pd\n",
    "import re\n",
    "import numpy as np\n",
    "import os"
   ]
  },
  {
   "cell_type": "code",
   "execution_count": null,
   "metadata": {},
   "outputs": [],
   "source": [
    "from py2neo import Graph, Node, Relationship"
   ]
  },
  {
   "cell_type": "code",
   "execution_count": null,
   "metadata": {},
   "outputs": [],
   "source": [
    "import helpers"
   ]
  },
  {
   "cell_type": "code",
   "execution_count": null,
   "metadata": {},
   "outputs": [],
   "source": [
    "from importlib import reload"
   ]
  },
  {
   "cell_type": "markdown",
   "metadata": {},
   "source": [
    "Connect to graph via docker-compose link. See http://localhost:7474/browser/"
   ]
  },
  {
   "cell_type": "code",
   "execution_count": null,
   "metadata": {},
   "outputs": [],
   "source": [
    "graph = Graph(host=\"neo4j\")"
   ]
  },
  {
   "cell_type": "code",
   "execution_count": null,
   "metadata": {},
   "outputs": [],
   "source": [
    "from pathlib import Path\n",
    "\n",
    "base_path = Path(\"..\")\n",
    "parsed_path = base_path / \"data\" / \"parsed\""
   ]
  },
  {
   "cell_type": "markdown",
   "metadata": {},
   "source": [
    "## Components summary"
   ]
  },
  {
   "cell_type": "code",
   "execution_count": null,
   "metadata": {},
   "outputs": [],
   "source": [
    "q = '''MATCH (n) RETURN DISTINCT n.name AS name'''\n",
    "nodes = graph.run(q).data()\n",
    "all_nodes_in_components = set([(d[\"name\"]) for d in nodes])"
   ]
  },
  {
   "cell_type": "code",
   "execution_count": null,
   "metadata": {},
   "outputs": [],
   "source": [
    "all_nodes_in_components"
   ]
  },
  {
   "cell_type": "code",
   "execution_count": null,
   "metadata": {},
   "outputs": [],
   "source": [
    "len(all_nodes_in_components)"
   ]
  },
  {
   "cell_type": "code",
   "execution_count": null,
   "metadata": {},
   "outputs": [],
   "source": [
    "reload(helpers)"
   ]
  },
  {
   "cell_type": "code",
   "execution_count": null,
   "metadata": {},
   "outputs": [],
   "source": [
    "node_dict = {}\n",
    "for label in helpers.reaction_participant_labels:\n",
    "    if label == \"Metabolite\":\n",
    "        q = '''MATCH (n:%s) WHERE NOT n:MetaboliteFamily RETURN DISTINCT n.name'''%label\n",
    "    else:\n",
    "        q = '''MATCH (n:%s) RETURN DISTINCT n.name'''%label\n",
    "    s = set([d['n.name'] for d in graph.run(q).data()])\n",
    "    print(label, len(s))\n",
    "    node_dict[label] = s\n",
    "\n",
    "    "
   ]
  },
  {
   "cell_type": "code",
   "execution_count": null,
   "metadata": {},
   "outputs": [],
   "source": [
    "all_species = ['ath', 'osa', 'stu', 'sly']"
   ]
  },
  {
   "cell_type": "markdown",
   "metadata": {},
   "source": [
    "### Reactions sheet"
   ]
  },
  {
   "cell_type": "code",
   "execution_count": null,
   "metadata": {},
   "outputs": [],
   "source": [
    "df_edges = pd.read_csv(parsed_path / \"edges-sheet.tsv\", sep=\"\\t\", index_col=0)"
   ]
  },
  {
   "cell_type": "code",
   "execution_count": null,
   "metadata": {},
   "outputs": [],
   "source": [
    "df_edges.head(10)"
   ]
  },
  {
   "cell_type": "code",
   "execution_count": null,
   "metadata": {},
   "outputs": [],
   "source": [
    "df_edges[df_edges['input1_ID']==\"DZ\"][['input1_ID', 'input1_newID', 'input1_label']]"
   ]
  },
  {
   "cell_type": "code",
   "execution_count": null,
   "metadata": {},
   "outputs": [],
   "source": [
    "helpers.empty_strings"
   ]
  },
  {
   "cell_type": "code",
   "execution_count": null,
   "metadata": {},
   "outputs": [],
   "source": [
    "def generate_list(subdf, ids, new_name):\n",
    "    col_suffixes = ['_newID', '_location', '_label', '_form']\n",
    "    new_col_suffixes = ['_name', '_location', '_label', '_form']\n",
    "    \n",
    "    for old_suf, new_suf in zip(col_suffixes, new_col_suffixes):\n",
    "        new_col = new_name + new_suf\n",
    "        old_cols = [id_ + old_suf for id_ in ids]\n",
    "        subdf[new_col] = subdf[old_cols].apply(lambda x: [i for i in x.values], axis=1)\n",
    "        \n",
    "        \n",
    "def rename_target(subdf, id_, new_name):\n",
    "    col_suffixes = ['_newID', '_location', '_label', '_form']\n",
    "    new_col_suffixes = ['_name', '_location', '_label', '_form']\n",
    "    \n",
    "    for old_suf, new_suf in zip(col_suffixes, new_col_suffixes):\n",
    "        new_col = new_name + new_suf\n",
    "        old_col = id_ + old_suf\n",
    "        subdf[new_col] = subdf[old_col]"
   ]
  },
  {
   "cell_type": "code",
   "execution_count": null,
   "metadata": {},
   "outputs": [],
   "source": [
    "def get_x_nodes(df, x):\n",
    "    rows_with_x = set()\n",
    "    for i, row in df.iterrows():\n",
    "        for col_prefix in ['input1', 'input2', 'input3', 'output1']:\n",
    "            if row[col_prefix + \"_newID\"] in x:\n",
    "                rows_with_x.add(i)\n",
    "    return rows_with_x"
   ]
  },
  {
   "cell_type": "code",
   "execution_count": null,
   "metadata": {},
   "outputs": [],
   "source": [
    "def number_input_different(df, catalyst=False):\n",
    "    ''' If catalyst is True, it is the last \"input\" col. '''\n",
    "\n",
    "    if catalyst:\n",
    "        # two inputs, input2 -> catalyst\n",
    "        subdf2 = df[df[\"input3_newID\"].isna()].copy()\n",
    "        generate_list(subdf2, ['input1'], 'substrate')\n",
    "        rename_target(subdf2, 'input2', 'catalyst')\n",
    "\n",
    "        # three inputs, input3 -> catalyst\n",
    "        subdf3 = df[~df[\"input3_newID\"].isna()].copy()\n",
    "        generate_list(subdf3, ['input1', 'input2'], 'substrate')        \n",
    "        rename_target(subdf3, 'input3', 'catalyst') \n",
    "        \n",
    "    else:\n",
    "        # two inputs\n",
    "        subdf2 = df[df[\"input3_newID\"].isna()].copy()\n",
    "        generate_list(subdf2, ['input1', 'input2'], 'substrate')\n",
    "\n",
    "        # three inputs\n",
    "        subdf3 = df[~df[\"input3_newID\"].isna()].copy()\n",
    "        generate_list(subdf3, ['input1', 'input2', 'input3'], 'substrate')\n",
    "    \n",
    "    # combine\n",
    "    new_subdf = subdf2.append(subdf3)\n",
    "    rename_target(new_subdf, 'output1', 'product')\n",
    "    \n",
    "    return new_subdf"
   ]
  },
  {
   "cell_type": "code",
   "execution_count": null,
   "metadata": {},
   "outputs": [],
   "source": [
    "# transcription genes\n",
    "\n",
    "substrate_cols = [ f'substrate{x}' for x in ['_name', '_label', '_form', '_location']] \n",
    "catalyst_cols = [ f'catalyst{x}' for x in ['_name', '_label', '_form', '_location']] \n",
    "product_cols = [ f'product{x}' for x in ['_name', '_label', '_form', '_location']] \n",
    "\n",
    "reaction_standard_columns = ['AddedBy', 'Species', \n",
    "       'AdditionalInfo',  'external_links', 'trust_level',\n",
    "       'ModelV', 'ReactionEffect', 'reaction_type', 'Modifications', 'reaction_id']"
   ]
  },
  {
   "cell_type": "markdown",
   "metadata": {},
   "source": [
    "# Add reactions"
   ]
  },
  {
   "cell_type": "code",
   "execution_count": null,
   "metadata": {},
   "outputs": [],
   "source": [
    "def pretty_print_result(t, df, qr, input_type, multiplier=1):\n",
    "    if input_type in ['nodes', 'relationships']:\n",
    "        key = input_type + '_created'\n",
    "    else:\n",
    "        key = input_type\n",
    "    \n",
    "    try:\n",
    "        stat = qr.stats()[key]\n",
    "    except:\n",
    "        stat = 0\n",
    "    \n",
    "    print(f\"{t:20}\\t{df.shape[0]:3}\\t{stat:3}\", end=\"\")\n",
    "    if df.shape[0]*multiplier == stat:\n",
    "        print()\n",
    "    \n",
    "    elif df.shape[0]*multiplier < stat:\n",
    "        print(f\"\\t**too many {input_type} created**\")\n",
    "    else:\n",
    "        print(f\"\\t**not all {input_type} created**\")"
   ]
  },
  {
   "cell_type": "code",
   "execution_count": null,
   "metadata": {},
   "outputs": [],
   "source": [
    "df_edges.index.duplicated().sum()"
   ]
  },
  {
   "cell_type": "markdown",
   "metadata": {},
   "source": [
    "## binding / oligomerisation"
   ]
  },
  {
   "cell_type": "code",
   "execution_count": null,
   "metadata": {},
   "outputs": [],
   "source": [
    "key = 'binding/oligomerisation'\n",
    "reaction_type = \"BINDING_OGLIMERISATION\"\n",
    "subdf = df_edges.loc[df_edges['reaction_type'] == key].copy()\n",
    "print(reaction_type, subdf.shape[0])"
   ]
  },
  {
   "cell_type": "code",
   "execution_count": null,
   "metadata": {},
   "outputs": [],
   "source": [
    "binding_wo_catalyst = subdf.loc[subdf['Modifications'] != 'with catalyst']\n",
    "binding_w_catalyst = subdf.loc[subdf['Modifications'] == 'with catalyst']"
   ]
  },
  {
   "cell_type": "code",
   "execution_count": null,
   "metadata": {},
   "outputs": [],
   "source": [
    "subdf_wo_catalyst = number_input_different(binding_wo_catalyst)\n",
    "subdf_w_catalyst = number_input_different(binding_w_catalyst, catalyst=True)"
   ]
  },
  {
   "cell_type": "code",
   "execution_count": null,
   "metadata": {},
   "outputs": [],
   "source": [
    "# make reaction nodes\n",
    "f = f\"{reaction_type}-reaction.tsv\"\n",
    "subdf[reaction_standard_columns].to_csv(f\"../data/import/{f}\", sep=\"\\t\", index=None)\n",
    "query = helpers.reaction_node_query(f, name=\"line.reaction_id\")\n",
    "\n",
    "qr = graph.run(query)\n",
    "pretty_print_result('Reaction', subdf, qr, 'nodes')"
   ]
  },
  {
   "cell_type": "markdown",
   "metadata": {},
   "source": [
    "### Without catalyst"
   ]
  },
  {
   "cell_type": "code",
   "execution_count": null,
   "metadata": {},
   "outputs": [],
   "source": [
    "explode_cols = substrate_cols\n",
    "exploded_new_subdf = helpers.unnesting(subdf_wo_catalyst, explode_cols)#.drop_duplicates()"
   ]
  },
  {
   "cell_type": "code",
   "execution_count": null,
   "metadata": {},
   "outputs": [],
   "source": [
    "reload(helpers)"
   ]
  },
  {
   "cell_type": "code",
   "execution_count": null,
   "metadata": {},
   "outputs": [],
   "source": [
    "# binding substrate edges\n",
    "want_cols = reaction_standard_columns + substrate_cols\n",
    "\n",
    "for t, this_subdf in exploded_new_subdf.groupby(\"substrate_label\"):\n",
    "    f = f\"{reaction_type}-{t}-substrate_edges.tsv\"\n",
    "    this_subdf[want_cols].to_csv(f\"../data/import/{f}\", index=None, sep=\"\\t\")\n",
    "    if t in helpers.plant_node_labels:\n",
    "        labels = ['FunctionalCluster', t]\n",
    "    else:\n",
    "        labels = t\n",
    "    query = helpers.make_create_reaction_edge_query(f, 'SUBSTRATE', \n",
    "                                                    \"substrate\", \"dne\",\n",
    "                                                    source_label=labels, \n",
    "                                                    target_label=\"Reaction\", \n",
    "                                                    target_name=\"line.reaction_id\"\n",
    "                                                   )\n",
    "\n",
    "    qr = graph.run(query)\n",
    "\n",
    "    pretty_print_result(t, this_subdf, qr, 'relationships')\n"
   ]
  },
  {
   "cell_type": "code",
   "execution_count": null,
   "metadata": {},
   "outputs": [],
   "source": [
    "subdf_wo_catalyst.shape[0]"
   ]
  },
  {
   "cell_type": "code",
   "execution_count": null,
   "metadata": {},
   "outputs": [],
   "source": [
    "# binding product edges\n",
    "want_cols = reaction_standard_columns + product_cols\n",
    "\n",
    "for t, this_subdf in subdf_wo_catalyst.groupby(\"product_label\"):\n",
    "    f = f\"{reaction_type}-{t}-product_edges.tsv\"\n",
    "    this_subdf[want_cols].to_csv(f'../data/import/{f}', sep=\"\\t\", index=None)\n",
    "    if t in helpers.plant_node_labels:\n",
    "        labels = ['FunctionalCluster', t]\n",
    "    else:\n",
    "        labels = t\n",
    "    query = helpers.make_create_reaction_edge_query(f, \"PRODUCT\", \n",
    "                                                    \"dne\", \"product\",\n",
    "                                                    source_name=\"line.reaction_id\", \n",
    "                                                    source_label=\"Reaction\",\n",
    "                                                    target_label=labels\n",
    "                                                   )\n",
    "    qr = graph.run(query)\n",
    "    pretty_print_result('-', this_subdf, qr, 'relationships')"
   ]
  },
  {
   "cell_type": "markdown",
   "metadata": {},
   "source": [
    "### With catalyst"
   ]
  },
  {
   "cell_type": "code",
   "execution_count": null,
   "metadata": {},
   "outputs": [],
   "source": [
    "explode_cols = substrate_cols\n",
    "exploded_new_subdf = helpers.unnesting(subdf_w_catalyst, explode_cols).drop_duplicates()"
   ]
  },
  {
   "cell_type": "code",
   "execution_count": null,
   "metadata": {},
   "outputs": [],
   "source": [
    "# binding substrate edges\n",
    "want_cols = reaction_standard_columns + substrate_cols\n",
    "\n",
    "for t, this_subdf in exploded_new_subdf.groupby(\"substrate_label\"):\n",
    "    f = f\"{reaction_type}-wicat-{t}-substrate_edges.tsv\"\n",
    "    this_subdf[want_cols].to_csv(f\"../data/import/{f}\", index=None, sep=\"\\t\")\n",
    "    if t in helpers.plant_node_labels:\n",
    "        labels = ['FunctionalCluster', t]\n",
    "    else:\n",
    "        labels = t\n",
    "    query = helpers.make_create_reaction_edge_query(f, 'SUBSTRATE', \n",
    "                                                    \"substrate\", \"dne\",\n",
    "                                                    source_label=labels, \n",
    "                                                    target_label=\"Reaction\", \n",
    "                                                    target_name=\"line.reaction_id\"\n",
    "                                                   )\n",
    "\n",
    "    qr = graph.run(query)\n",
    "\n",
    "    pretty_print_result(t, this_subdf, qr, 'relationships')\n"
   ]
  },
  {
   "cell_type": "code",
   "execution_count": null,
   "metadata": {},
   "outputs": [],
   "source": [
    "# binding catalyst edges\n",
    "\n",
    "want_cols = reaction_standard_columns + catalyst_cols\n",
    "\n",
    "for t, this_subdf in exploded_new_subdf.groupby(\"substrate_label\"):\n",
    "    f = f\"{reaction_type}-wicat-{t}-catalyst_label_edges.tsv\"\n",
    "    this_subdf[want_cols].to_csv(f\"../data/import/{f}\", index=None, sep=\"\\t\")\n",
    "    if t in helpers.plant_node_labels:\n",
    "        labels = ['FunctionalCluster', t]\n",
    "    else:\n",
    "        labels = t\n",
    "    query = helpers.make_create_reaction_edge_query(f, 'ACTIVATES', \n",
    "                                                    \"catalyst\", \"dne\",\n",
    "                                                    source_label=labels, \n",
    "                                                    target_label=\"Reaction\", \n",
    "                                                    target_name=\"line.reaction_id\"\n",
    "                                                   )\n",
    "\n",
    "    qr = graph.run(query)\n",
    "\n",
    "    pretty_print_result(t, this_subdf, qr, 'relationships')\n",
    "    "
   ]
  },
  {
   "cell_type": "code",
   "execution_count": null,
   "metadata": {},
   "outputs": [],
   "source": [
    "f = f\"{reaction_type}-wicat-catalyst-product_edges.tsv\"\n",
    "want_cols = reaction_standard_columns + product_cols\n",
    "subdf_w_catalyst[want_cols].to_csv(f'../data/import/{f}', sep=\"\\t\", index=None)"
   ]
  },
  {
   "cell_type": "code",
   "execution_count": null,
   "metadata": {},
   "outputs": [],
   "source": [
    "# binding product edges\n",
    "want_cols = reaction_standard_columns + product_cols\n",
    "\n",
    "for t, this_subdf in subdf_w_catalyst.groupby(\"product_label\"):\n",
    "    f = f\"{reaction_type}-wicat-{t}-catalyst-product_edges.tsv\"\n",
    "    this_subdf[want_cols].to_csv(f'../data/import/{f}', sep=\"\\t\", index=None)\n",
    "    if t in helpers.plant_node_labels:\n",
    "        labels = ['FunctionalCluster', t]\n",
    "    else:\n",
    "        labels = t\n",
    "    query = helpers.make_create_reaction_edge_query(f, \"PRODUCT\", \n",
    "                                                    \"dne\", \"product\",\n",
    "                                                    source_name=\"line.reaction_id\", \n",
    "                                                    source_label=\"Reaction\",\n",
    "                                                    target_label=labels\n",
    "                                                   )\n",
    "    qr = graph.run(query)\n",
    "    pretty_print_result(t, this_subdf, qr, 'relationships')"
   ]
  },
  {
   "cell_type": "markdown",
   "metadata": {},
   "source": [
    "## catalysis / auto-catalysis"
   ]
  },
  {
   "cell_type": "code",
   "execution_count": null,
   "metadata": {},
   "outputs": [],
   "source": [
    "key = 'catalysis'\n",
    "reaction_type = 'CATALYSIS'\n",
    "subdf = df_edges[df_edges['reaction_type'] == key]\n",
    "print(reaction_type, subdf.shape[0])"
   ]
  },
  {
   "cell_type": "code",
   "execution_count": null,
   "metadata": {},
   "outputs": [],
   "source": [
    "subdf.duplicated().sum()"
   ]
  },
  {
   "cell_type": "code",
   "execution_count": null,
   "metadata": {},
   "outputs": [],
   "source": [
    "# make reaction nodes\n",
    "f = f\"{reaction_type}-reaction.tsv\"\n",
    "subdf[reaction_standard_columns].to_csv(f\"../data/import/{f}\", sep=\"\\t\", index=None)\n",
    "query = helpers.reaction_node_query(f, name=\"line.reaction_id\")\n",
    "\n",
    "qr = graph.run(query)\n",
    "pretty_print_result('Reaction', subdf, qr, 'nodes')"
   ]
  },
  {
   "cell_type": "code",
   "execution_count": null,
   "metadata": {},
   "outputs": [],
   "source": [
    "catalysis_wo_catalyst = subdf[subdf['input2_ID'].isna() & subdf['input3_ID'].isna()]\n",
    "catalysis_w_catalyst = subdf[~(subdf['input2_ID'].isna() & subdf['input3_ID'].isna())]"
   ]
  },
  {
   "cell_type": "markdown",
   "metadata": {},
   "source": [
    "### With catalyst"
   ]
  },
  {
   "cell_type": "code",
   "execution_count": null,
   "metadata": {},
   "outputs": [],
   "source": [
    "subdf_w_catalyst = number_input_different(catalysis_w_catalyst, catalyst=True)\n",
    "new_subdf = number_input_different(subdf_w_catalyst, catalyst=True)"
   ]
  },
  {
   "cell_type": "code",
   "execution_count": null,
   "metadata": {},
   "outputs": [],
   "source": [
    "# substrate to reaction\n",
    "exploded_new_subdf = helpers.unnesting(new_subdf, substrate_cols)\n",
    "want_cols = reaction_standard_columns + substrate_cols\n",
    "for t, this_subdf in exploded_new_subdf.groupby(\"substrate_label\"):\n",
    "    f = f\"{reaction_type}-wicat-{t}-substrate_edges.tsv\"\n",
    "    this_subdf[want_cols].to_csv(f\"../data/import/{f}\", index=None, sep=\"\\t\")\n",
    "    if t in helpers.plant_node_labels:\n",
    "        labels = ['FunctionalCluster', t]\n",
    "    else:\n",
    "        labels = t    \n",
    "    query = helpers.make_create_reaction_edge_query(f, 'SUBSTRATE', \n",
    "                                                    \"substrate\", \"dne\",\n",
    "                                                    source_label=labels, target_label=\"Reaction\", \n",
    "                                                    target_name=\"line.reaction_id\"\n",
    "                                                   )\n",
    "    qr = graph.run(query)\n",
    "    pretty_print_result(t, this_subdf, qr, 'relationships')"
   ]
  },
  {
   "cell_type": "code",
   "execution_count": null,
   "metadata": {},
   "outputs": [],
   "source": [
    "# catalyst to reaction\n",
    "want_cols = reaction_standard_columns + catalyst_cols\n",
    "\n",
    "for t, this_subdf in subdf_w_catalyst.groupby(\"catalyst_label\"):\n",
    "    f = f\"{reaction_type}-wicat-{t}-catalyst_edges.tsv\"\n",
    "    this_subdf[want_cols].to_csv(f\"../data/import/{f}\", index=None, sep=\"\\t\")\n",
    "    if t in helpers.plant_node_labels:\n",
    "        labels = ['FunctionalCluster', t]\n",
    "    else:\n",
    "        labels = t        \n",
    "    query = helpers.make_create_reaction_edge_query(f, 'ACTIVATES', \n",
    "                                                    \"catalyst\", \"dne\",\n",
    "                                                    source_label=labels, target_label=\"Reaction\", \n",
    "                                                    target_name=\"line.reaction_id\"\n",
    "                                                   )\n",
    "    qr = graph.run(query)\n",
    "    pretty_print_result(t, this_subdf, qr, 'relationships')"
   ]
  },
  {
   "cell_type": "code",
   "execution_count": null,
   "metadata": {},
   "outputs": [],
   "source": [
    "# product to reaction\n",
    "want_cols = reaction_standard_columns + product_cols\n",
    "for t, this_subdf in subdf_w_catalyst.groupby(\"product_label\"):\n",
    "    f = f\"{reaction_type}-wicat-{t}-product_edges.tsv\"    \n",
    "    this_subdf[want_cols].to_csv(f\"../data/import/{f}\", index=None, sep=\"\\t\")\n",
    "    if t in helpers.plant_node_labels:\n",
    "        labels = ['FunctionalCluster', t]\n",
    "    else:\n",
    "        labels = t       \n",
    "    query = helpers.make_create_reaction_edge_query(f, 'PRODUCT', \n",
    "                                                    \"dne\", \"product\",\n",
    "                                                    target_label=labels, source_label=\"Reaction\", \n",
    "                                                    source_name=\"line.reaction_id\"\n",
    "                                                   )    \n",
    "    qr = graph.run(query)\n",
    "\n",
    "    pretty_print_result(t, this_subdf, qr, 'relationships')"
   ]
  },
  {
   "cell_type": "markdown",
   "metadata": {},
   "source": [
    "### Without catalyst"
   ]
  },
  {
   "cell_type": "code",
   "execution_count": null,
   "metadata": {},
   "outputs": [],
   "source": [
    "rename_target(catalysis_wo_catalyst, 'output1', 'product')\n",
    "rename_target(catalysis_wo_catalyst, 'input1',  'substrate')"
   ]
  },
  {
   "cell_type": "code",
   "execution_count": null,
   "metadata": {},
   "outputs": [],
   "source": [
    "catalysis_wo_catalyst['reaction_id']"
   ]
  },
  {
   "cell_type": "code",
   "execution_count": null,
   "metadata": {},
   "outputs": [],
   "source": [
    "# binding substrate edges\n",
    "want_cols = reaction_standard_columns + substrate_cols\n",
    "\n",
    "for t, this_subdf in catalysis_wo_catalyst.groupby(\"substrate_label\"):\n",
    "    f = f\"{reaction_type}-{t}-substrate_edges.tsv\"\n",
    "    this_subdf[want_cols].to_csv(f\"../data/import/{f}\", index=None, sep=\"\\t\")\n",
    "    if t in helpers.plant_node_labels:\n",
    "        labels = ['FunctionalCluster', t]\n",
    "    else:\n",
    "        labels = t          \n",
    "    query = helpers.make_create_reaction_edge_query(f, 'SUBSTRATE', \n",
    "                                                    \"substrate\", \"dne\",\n",
    "                                                    source_label=labels, \n",
    "                                                    target_label=\"Reaction\", \n",
    "                                                    target_name=\"line.reaction_id\"\n",
    "                                                   )\n",
    "\n",
    "    qr = graph.run(query)\n",
    "\n",
    "    pretty_print_result(t, this_subdf, qr, 'relationships')\n"
   ]
  },
  {
   "cell_type": "code",
   "execution_count": null,
   "metadata": {},
   "outputs": [],
   "source": [
    "# binding product edges\n",
    "want_cols = reaction_standard_columns + product_cols\n",
    "\n",
    "for t, this_subdf in catalysis_wo_catalyst.groupby(\"product_label\"):\n",
    "    f = f\"{reaction_type}-{t}-product_edges.tsv\"\n",
    "    this_subdf[want_cols].to_csv(f'../data/import/{f}', sep=\"\\t\", index=None)\n",
    "    if t in helpers.plant_node_labels:\n",
    "        labels = ['FunctionalCluster', t]\n",
    "    else:\n",
    "        labels = t\n",
    "    query = helpers.make_create_reaction_edge_query(f, \"PRODUCT\", \n",
    "                                                    \"dne\", \"product\",\n",
    "                                                    source_name=\"line.reaction_id\", \n",
    "                                                    source_label=\"Reaction\",\n",
    "                                                    target_label=labels\n",
    "                                                   )\n",
    "    qr = graph.run(query)\n",
    "    pretty_print_result('-', this_subdf, qr, 'relationships')"
   ]
  },
  {
   "cell_type": "code",
   "execution_count": null,
   "metadata": {},
   "outputs": [],
   "source": [
    "q = '''MATCH ()-[r:SUBSTRATE {reaction_type:\"catalysis\"}]->() RETURN r'''\n",
    "c = graph.run(q).data()\n",
    "len(c) # should be ??"
   ]
  },
  {
   "cell_type": "code",
   "execution_count": null,
   "metadata": {},
   "outputs": [],
   "source": [
    "q = '''MATCH ()-[r:PRODUCT {reaction_type:\"catalysis\"}]->() RETURN r'''\n",
    "c = graph.run(q).data()\n",
    "len(c) # should be ??"
   ]
  },
  {
   "cell_type": "markdown",
   "metadata": {},
   "source": [
    "## dissociation"
   ]
  },
  {
   "cell_type": "code",
   "execution_count": null,
   "metadata": {},
   "outputs": [],
   "source": [
    "key = 'dissociation'\n",
    "reaction_type = 'DISSOCIATION'\n",
    "subdf = df_edges[df_edges['reaction_type'] == key].copy()\n",
    "print(reaction_type, subdf.shape[0])"
   ]
  },
  {
   "cell_type": "code",
   "execution_count": null,
   "metadata": {},
   "outputs": [],
   "source": [
    "subdf"
   ]
  },
  {
   "cell_type": "code",
   "execution_count": null,
   "metadata": {},
   "outputs": [],
   "source": [
    "rename_target(subdf, 'output1', 'product')\n",
    "rename_target(subdf, 'input1',  'substrate')\n",
    "rename_target(subdf, 'input2',  'catalyst')"
   ]
  },
  {
   "cell_type": "code",
   "execution_count": null,
   "metadata": {},
   "outputs": [],
   "source": [
    "# make reaction nodes\n",
    "f = f\"{reaction_type}-reaction.tsv\"\n",
    "subdf[reaction_standard_columns].to_csv(f\"../data/import/{f}\", sep=\"\\t\", index=None)\n",
    "query = helpers.reaction_node_query(f, name=\"line.reaction_id\")\n",
    "\n",
    "qr = graph.run(query)\n",
    "pretty_print_result('Reaction', subdf, qr, 'nodes')"
   ]
  },
  {
   "cell_type": "code",
   "execution_count": null,
   "metadata": {},
   "outputs": [],
   "source": [
    "# substrate to reaction edge\n",
    "f =  f\"{reaction_type}-{t}-substrate_edges.tsv\" \n",
    "want_cols = reaction_standard_columns + substrate_cols\n",
    "subdf.to_csv(f\"../data/import/{f}\", sep=\"\\t\", index=None)\n",
    "\n",
    "query = helpers.make_create_reaction_edge_query(f, 'SUBSTRATE',\n",
    "                                                \"substrate\", \"dne\", \n",
    "                                                target_label=\"Reaction\", \n",
    "                                                target_name=\"line.reaction_id\"\n",
    "                                                \n",
    "                              )\n",
    "qr = graph.run(query)\n",
    "pretty_print_result(\"-\", subdf, qr, 'relationships')"
   ]
  },
  {
   "cell_type": "code",
   "execution_count": null,
   "metadata": {},
   "outputs": [],
   "source": [
    "# catalyst to reaction edge\n",
    "\n",
    "f =  f\"{reaction_type}-{t}-catalyst_edges.tsv\" \n",
    "want_cols = reaction_standard_columns + catalyst_cols\n",
    "subdf.to_csv(f\"../data/import/{f}\", sep=\"\\t\", index=None)\n",
    "\n",
    "query = helpers.make_create_reaction_edge_query(f, 'ACTIVATES',\n",
    "                                                \"catalyst\" , \"dne\", \n",
    "                                                target_label=\"Reaction\", \n",
    "                                                target_name=\"line.reaction_id\"\n",
    "                              )\n",
    "qr = graph.run(query)\n",
    "pretty_print_result(\"-\", subdf, qr, 'relationships')"
   ]
  },
  {
   "cell_type": "code",
   "execution_count": null,
   "metadata": {},
   "outputs": [],
   "source": [
    "reload(helpers)"
   ]
  },
  {
   "cell_type": "code",
   "execution_count": null,
   "metadata": {},
   "outputs": [],
   "source": [
    "# product to reaction edge\n",
    "\n",
    "f =  f\"{reaction_type}-{t}-product_edges.tsv\" \n",
    "want_cols = reaction_standard_columns + product_cols\n",
    "subdf.to_csv(f\"../data/import/{f}\", sep=\"\\t\", index=None)\n",
    "\n",
    "query = helpers.make_create_reaction_edge_query(f, 'PRODUCT',\n",
    "                                                \"dne\" , \"product\", \n",
    "                                                source_name=\"line.reaction_id\", \n",
    "                                                source_label=\"Reaction\"\n",
    "                                               \n",
    "                              )\n",
    "qr = graph.run(query)\n",
    "pretty_print_result(\"-\", subdf, qr, 'relationships')"
   ]
  },
  {
   "cell_type": "markdown",
   "metadata": {},
   "source": [
    "## degradation"
   ]
  },
  {
   "cell_type": "code",
   "execution_count": null,
   "metadata": {},
   "outputs": [],
   "source": [
    "key = 'degradation/secretion'\n",
    "reaction_type = 'DEGRADATION_SECRETION'\n",
    "subdf = df_edges[df_edges['reaction_type'] == key].copy()\n",
    "print(reaction_type, subdf.shape[0])"
   ]
  },
  {
   "cell_type": "code",
   "execution_count": null,
   "metadata": {},
   "outputs": [],
   "source": [
    "rename_target(subdf, 'input1',  'catalyst')\n",
    "rename_target(subdf, 'input2',  'substrate')"
   ]
  },
  {
   "cell_type": "code",
   "execution_count": null,
   "metadata": {},
   "outputs": [],
   "source": [
    "# make reaction nodes\n",
    "f = f\"{reaction_type}-reaction.tsv\"\n",
    "subdf[reaction_standard_columns].to_csv(f\"../data/import/{f}\", sep=\"\\t\", index=None)\n",
    "query = helpers.reaction_node_query(f, name=\"line.reaction_id\")\n",
    "\n",
    "qr = graph.run(query)\n",
    "pretty_print_result('Reaction', subdf, qr, 'nodes')"
   ]
  },
  {
   "cell_type": "code",
   "execution_count": null,
   "metadata": {},
   "outputs": [],
   "source": [
    "# substrate to reaction edge\n",
    "\n",
    "f =  f\"{reaction_type}-substrate_edges.tsv\" \n",
    "want_cols = reaction_standard_columns + substrate_cols\n",
    "subdf[want_cols].to_csv(f\"../data/import/{f}\", sep=\"\\t\", index=None)\n",
    "\n",
    "query = helpers.make_create_reaction_edge_query(f, 'SUBSTRATE',\n",
    "                                                \"substrate\", \"dne\", \n",
    "                                                target_label=\"Reaction\", \n",
    "                                                target_name=\"line.reaction_id\"\n",
    "                              )\n",
    "qr = graph.run(query)\n",
    "pretty_print_result('-', subdf, qr, 'relationships')"
   ]
  },
  {
   "cell_type": "code",
   "execution_count": null,
   "metadata": {},
   "outputs": [],
   "source": [
    "# catalyst to reaction edge\n",
    "\n",
    "f =  f\"{reaction_type}-catalyst_edges.tsv\" \n",
    "want_cols = reaction_standard_columns + catalyst_cols\n",
    "subdf[want_cols].to_csv(f\"../data/import/{f}\", sep=\"\\t\", index=None)\n",
    "\n",
    "query = helpers.make_create_reaction_edge_query(f, 'ACTIVATES',\n",
    "                                                \"catalyst\", \"dne\", \n",
    "                                                target_label=\"Reaction\", \n",
    "                                                target_name=\"line.reaction_id\"\n",
    "                              )\n",
    "qr = graph.run(query)\n",
    "pretty_print_result('-', subdf, qr, 'relationships')"
   ]
  },
  {
   "cell_type": "markdown",
   "metadata": {},
   "source": [
    "## translocation"
   ]
  },
  {
   "cell_type": "code",
   "execution_count": null,
   "metadata": {},
   "outputs": [],
   "source": [
    "key = 'translocation'\n",
    "reaction_type = 'TRANSLOCATION'\n",
    "subdf = df_edges[df_edges['reaction_type'] == key].copy()\n",
    "print(reaction_type, subdf.shape[0])"
   ]
  },
  {
   "cell_type": "code",
   "execution_count": null,
   "metadata": {},
   "outputs": [],
   "source": [
    "rename_target(subdf, 'output1', 'product')\n",
    "rename_target(subdf, 'input1',  'substrate')\n",
    "rename_target(subdf, 'input2',  'catalyst')"
   ]
  },
  {
   "cell_type": "code",
   "execution_count": null,
   "metadata": {},
   "outputs": [],
   "source": [
    "# make reaction nodes\n",
    "f = f\"{reaction_type}-reaction.tsv\"\n",
    "subdf[reaction_standard_columns].to_csv(f\"../data/import/{f}\", sep=\"\\t\", index=None)\n",
    "query = helpers.reaction_node_query(f, name=\"line.reaction_id\")\n",
    "\n",
    "qr = graph.run(query)\n",
    "pretty_print_result('Reaction', subdf, qr, 'nodes')"
   ]
  },
  {
   "cell_type": "code",
   "execution_count": null,
   "metadata": {},
   "outputs": [],
   "source": [
    "# substrate to reaction edge\n",
    "\n",
    "f =  f\"{reaction_type}-substrate_edges.tsv\" \n",
    "want_cols = reaction_standard_columns + substrate_cols\n",
    "subdf[want_cols].to_csv(f\"../data/import/{f}\", sep=\"\\t\", index=None)\n",
    "\n",
    "query = helpers.make_create_reaction_edge_query(f, 'TRANSLOCATE_FROM',\n",
    "                                                \"substrate\", \"dne\", \n",
    "                                                target_label=\"Reaction\", \n",
    "                                                target_name=\"line.reaction_id\"\n",
    "                              )\n",
    "qr = graph.run(query)\n",
    "pretty_print_result('-', subdf, qr, 'relationships')"
   ]
  },
  {
   "cell_type": "code",
   "execution_count": null,
   "metadata": {},
   "outputs": [],
   "source": [
    "# catalyst to reaction edge\n",
    "\n",
    "f =  f\"{reaction_type}-catalyst_edges.tsv\" \n",
    "want_cols = reaction_standard_columns + catalyst_cols\n",
    "subdf[want_cols].to_csv(f\"../data/import/{f}\", sep=\"\\t\", index=None)\n",
    "\n",
    "query = helpers.make_create_reaction_edge_query(f, 'ACTIVATES',\n",
    "                                                \"catalyst\", \"dne\", \n",
    "                                                target_label=\"Reaction\", \n",
    "                                                target_name=\"line.reaction_id\"\n",
    "                              )\n",
    "qr = graph.run(query)\n",
    "pretty_print_result('-', subdf, qr, 'relationships')"
   ]
  },
  {
   "cell_type": "code",
   "execution_count": null,
   "metadata": {},
   "outputs": [],
   "source": [
    "# product edge\n",
    "f =  f\"{reaction_type}--product_edges.tsv\" \n",
    "want_cols = reaction_standard_columns + product_cols\n",
    "subdf[want_cols].to_csv(f\"../data/import/{f}\", sep=\"\\t\", index=None)\n",
    "\n",
    "query = helpers.make_create_reaction_edge_query(f, 'TRANSLOCATE_TO',\n",
    "                                                \"dne\" , \"product\", \n",
    "                                                source_name=\"line.reaction_id\", \n",
    "                                                source_label=\"Reaction\"\n",
    "                              )\n",
    "qr = graph.run(query)\n",
    "pretty_print_result('-', subdf, qr, 'relationships')"
   ]
  },
  {
   "cell_type": "markdown",
   "metadata": {},
   "source": [
    "## protein activation"
   ]
  },
  {
   "cell_type": "code",
   "execution_count": null,
   "metadata": {},
   "outputs": [],
   "source": [
    "key = 'protein activation'\n",
    "reaction_type = 'PROTEIN_ACTIVATION'\n",
    "subdf = df_edges[df_edges['reaction_type'] == key].copy()\n",
    "print(reaction_type, subdf.shape[0])"
   ]
  },
  {
   "cell_type": "code",
   "execution_count": null,
   "metadata": {},
   "outputs": [],
   "source": [
    "rename_target(subdf, 'output1', 'product')\n",
    "rename_target(subdf, 'input2',  'catalyst')\n",
    "rename_target(subdf, 'input1',  'substrate')"
   ]
  },
  {
   "cell_type": "code",
   "execution_count": null,
   "metadata": {},
   "outputs": [],
   "source": [
    "# make reaction nodes\n",
    "f = f\"{reaction_type}-reaction.tsv\"\n",
    "subdf[reaction_standard_columns].to_csv(f\"../data/import/{f}\", sep=\"\\t\", index=None)\n",
    "query = helpers.reaction_node_query(f, name=\"line.reaction_id\")\n",
    "\n",
    "qr = graph.run(query)\n",
    "pretty_print_result('Reaction', subdf, qr, 'nodes')"
   ]
  },
  {
   "cell_type": "code",
   "execution_count": null,
   "metadata": {},
   "outputs": [],
   "source": [
    "# substrate to reaction edge\n",
    "\n",
    "f =  f\"{reaction_type}-substrate_edges.tsv\" \n",
    "want_cols = reaction_standard_columns + substrate_cols\n",
    "subdf[want_cols].to_csv(f\"../data/import/{f}\", sep=\"\\t\", index=None)\n",
    "\n",
    "query = helpers.make_create_reaction_edge_query(f, 'SUBSTRATE',\n",
    "                                                \"substrate\", \"dne\", \n",
    "                                                target_label=\"Reaction\", \n",
    "                                                target_name=\"line.reaction_id\"\n",
    "                              )\n",
    "qr = graph.run(query)\n",
    "pretty_print_result('-', subdf, qr, 'relationships')"
   ]
  },
  {
   "cell_type": "code",
   "execution_count": null,
   "metadata": {},
   "outputs": [],
   "source": [
    "# catalyst to reaction edge\n",
    "\n",
    "f =  f\"{reaction_type}-catalyst_edges.tsv\" \n",
    "want_cols = reaction_standard_columns + catalyst_cols\n",
    "subdf[want_cols].to_csv(f\"../data/import/{f}\", sep=\"\\t\", index=None)\n",
    "\n",
    "query = helpers.make_create_reaction_edge_query(f, 'ACTIVATES',\n",
    "                                                \"catalyst\", \"dne\", \n",
    "                                                target_label=\"Reaction\", \n",
    "                                                target_name=\"line.reaction_id\"\n",
    "                              )\n",
    "qr = graph.run(query)\n",
    "pretty_print_result('-', subdf, qr, 'relationships')"
   ]
  },
  {
   "cell_type": "code",
   "execution_count": null,
   "metadata": {},
   "outputs": [],
   "source": [
    "# product to reaction edge\n",
    "f =  f\"{reaction_type}-product_edges.tsv\" \n",
    "want_cols = reaction_standard_columns + product_cols\n",
    "subdf[want_cols].to_csv(f\"../data/import/{f}\", sep=\"\\t\", index=None)\n",
    "\n",
    "query = helpers.make_create_reaction_edge_query(f, 'PRODUCT', \"dne\" , \"product\", \n",
    "                                                source_name=\"line.reaction_id\", \n",
    "                                                source_label=\"Reaction\"\n",
    "                              )\n",
    "qr = graph.run(query)\n",
    "pretty_print_result('-', subdf, qr, 'relationships')"
   ]
  },
  {
   "cell_type": "markdown",
   "metadata": {},
   "source": [
    "## protein deactivation"
   ]
  },
  {
   "cell_type": "code",
   "execution_count": null,
   "metadata": {},
   "outputs": [],
   "source": [
    "key = 'protein deactivation'\n",
    "reaction_type = 'PROTEIN_DEACTIVATION'\n",
    "subdf = df_edges[df_edges['reaction_type'] == key].copy()\n",
    "print(reaction_type, subdf.shape[0])"
   ]
  },
  {
   "cell_type": "code",
   "execution_count": null,
   "metadata": {},
   "outputs": [],
   "source": [
    "rename_target(subdf, 'output1', 'product')\n",
    "rename_target(subdf, 'input2',  'substrate')\n",
    "rename_target(subdf, 'input1',  'catalyst')"
   ]
  },
  {
   "cell_type": "code",
   "execution_count": null,
   "metadata": {},
   "outputs": [],
   "source": [
    "# make reaction nodes\n",
    "f = f\"{reaction_type}-reaction.tsv\"\n",
    "subdf[reaction_standard_columns].to_csv(f\"../data/import/{f}\", sep=\"\\t\", index=None)\n",
    "query = helpers.reaction_node_query(f, name=\"line.reaction_id\")\n",
    "\n",
    "qr = graph.run(query)\n",
    "pretty_print_result('Reaction', subdf, qr, 'nodes')"
   ]
  },
  {
   "cell_type": "code",
   "execution_count": null,
   "metadata": {},
   "outputs": [],
   "source": [
    "# substrate to reaction edge\n",
    "\n",
    "f =  f\"{reaction_type}-substrate_edges.tsv\" \n",
    "want_cols = reaction_standard_columns + substrate_cols\n",
    "subdf[want_cols].to_csv(f\"../data/import/{f}\", sep=\"\\t\", index=None)\n",
    "\n",
    "query = helpers.make_create_reaction_edge_query(f, 'SUBSTRATE',\n",
    "                                                \"substrate\", \"dne\", \n",
    "                                                target_label=\"Reaction\", \n",
    "                                                target_name=\"line.reaction_id\"\n",
    "                              )\n",
    "qr = graph.run(query)\n",
    "pretty_print_result('-', subdf, qr, 'relationships')"
   ]
  },
  {
   "cell_type": "code",
   "execution_count": null,
   "metadata": {},
   "outputs": [],
   "source": [
    "# catalyst to reaction edge\n",
    "\n",
    "f =  f\"{reaction_type}-catalyst_edges.tsv\" \n",
    "want_cols = reaction_standard_columns + catalyst_cols\n",
    "subdf[want_cols].to_csv(f\"../data/import/{f}\", sep=\"\\t\", index=None)\n",
    "\n",
    "query = helpers.make_create_reaction_edge_query(f, 'ACTIVATES',\n",
    "                                                \"catalyst\", \"dne\", \n",
    "                                                target_label=\"Reaction\", \n",
    "                                                target_name=\"line.reaction_id\"\n",
    "                              )\n",
    "qr = graph.run(query)\n",
    "pretty_print_result('-', subdf, qr, 'relationships')"
   ]
  },
  {
   "cell_type": "code",
   "execution_count": null,
   "metadata": {},
   "outputs": [],
   "source": [
    "# product to reaction edge\n",
    "f =  f\"{reaction_type}-product_edges.tsv\" \n",
    "want_cols = reaction_standard_columns + product_cols\n",
    "subdf[want_cols].to_csv(f\"../data/import/{f}\", sep=\"\\t\", index=None)\n",
    "\n",
    "query = helpers.make_create_reaction_edge_query(f, 'PRODUCT', \n",
    "                                                \"dne\" , \"product\", \n",
    "                                                source_name=\"line.reaction_id\", \n",
    "                                                source_label=\"Reaction\"\n",
    "                              )\n",
    "qr = graph.run(query)\n",
    "pretty_print_result('-', subdf, qr, 'relationships')"
   ]
  },
  {
   "cell_type": "markdown",
   "metadata": {},
   "source": [
    "## transcriptional / translational regulation"
   ]
  },
  {
   "cell_type": "code",
   "execution_count": null,
   "metadata": {},
   "outputs": [],
   "source": [
    "reaction_type = 'TRANSCRIPTIONAL_TRANSLATIONAL'\n",
    "keys = ['transcriptional/translational activation', 'transcriptional/translational repression']\n",
    "subdf = df_edges[df_edges['reaction_type'].isin(keys)]\n",
    "print(reaction_type, subdf.shape[0])"
   ]
  },
  {
   "cell_type": "code",
   "execution_count": null,
   "metadata": {},
   "outputs": [],
   "source": [
    "def number_input_different_reverse(df):\n",
    "    ''' If catalyst is True, they are the first \"input\" cols. \n",
    "    last one is left as substrate. '''\n",
    "\n",
    "    # two inputs, input1 -> catalyst\n",
    "    subdf2 = df[df[\"input3_newID\"].isna()].copy()\n",
    "    generate_list(subdf2, ['input1'], 'catalyst')\n",
    "    rename_target(subdf2, 'input2', 'substrate')\n",
    "\n",
    "    # three inputs, input1, input2 -> catalyst\n",
    "    subdf3 = df[~df[\"input3_newID\"].isna()].copy()\n",
    "    generate_list(subdf3, ['input1', 'input2'], 'catalyst')        \n",
    "    rename_target(subdf3, 'input3', 'substrate')\n",
    "     \n",
    "    # combine\n",
    "    new_subdf = subdf2.append(subdf3)\n",
    "    rename_target(new_subdf, 'output1', 'product')\n",
    "    \n",
    "    return new_subdf"
   ]
  },
  {
   "cell_type": "code",
   "execution_count": null,
   "metadata": {},
   "outputs": [],
   "source": [
    "new_subdf = number_input_different_reverse(subdf)"
   ]
  },
  {
   "cell_type": "code",
   "execution_count": null,
   "metadata": {},
   "outputs": [],
   "source": [
    "new_subdf[new_subdf['substrate_name'] != new_subdf['product_name']][[\"Status\", \"ConnID\", 'substrate_name', 'product_name' ]]"
   ]
  },
  {
   "cell_type": "code",
   "execution_count": null,
   "metadata": {},
   "outputs": [],
   "source": [
    "new_subdf[(  (new_subdf['substrate_form'] == 'gene') & (new_subdf['substrate_location'] != 'nucleus')  )][[\"Status\", \"ConnID\"] + substrate_cols]"
   ]
  },
  {
   "cell_type": "code",
   "execution_count": null,
   "metadata": {},
   "outputs": [],
   "source": [
    "#manualfix\n",
    "new_subdf.loc[(  (new_subdf['substrate_form'] == 'gene') & (new_subdf['substrate_location'] != 'nucleus')  ), 'substrate_location'] = 'nucleus'"
   ]
  },
  {
   "cell_type": "code",
   "execution_count": null,
   "metadata": {},
   "outputs": [],
   "source": [
    "new_subdf[(  (new_subdf['product_form'].isin(['rna', 'ncRNA']) ))]#& (new_subdf['substrate_location'] != 'nucleus')  )][[\"Status\", \"ConnID\"] + substrate_cols_wo_homologues]"
   ]
  },
  {
   "cell_type": "code",
   "execution_count": null,
   "metadata": {},
   "outputs": [],
   "source": [
    "new_subdf[(  (new_subdf['substrate_form'].isin(['rna', 'ncRNA'])) & (new_subdf['substrate_location'] != 'cytoplams')  )][[\"Status\", \"ConnID\"] + substrate_cols]"
   ]
  },
  {
   "cell_type": "code",
   "execution_count": null,
   "metadata": {},
   "outputs": [],
   "source": [
    "new_subdf[(  (new_subdf['product_form'] == 'protein') & (new_subdf['product_location'] != 'cytoplasm')  )][[\"Status\", \"ConnID\"] + product_cols]"
   ]
  },
  {
   "cell_type": "code",
   "execution_count": null,
   "metadata": {},
   "outputs": [],
   "source": [
    "# manualfix\n",
    "new_subdf.loc[(  (new_subdf['product_form'] == 'protein') & (new_subdf['product_location'] != 'cytoplasm')  ), 'product_location'] = 'cytoplasm'"
   ]
  },
  {
   "cell_type": "code",
   "execution_count": null,
   "metadata": {},
   "outputs": [],
   "source": [
    "new_subdf[~new_subdf['substrate_label'].isin([\"PlantCoding\", \"PlantNonCoding\"])][[\"Status\", \"ConnID\"] + substrate_cols] #+ catalyst_cols_wo_homologues + product_cols_wo_homologues]"
   ]
  },
  {
   "cell_type": "code",
   "execution_count": null,
   "metadata": {},
   "outputs": [],
   "source": [
    "new_subdf[~new_subdf['product_label'].isin([\"PlantCoding\", \"PlantNonCoding\"])][[\"Status\", \"ConnID\"] + product_cols]"
   ]
  },
  {
   "cell_type": "markdown",
   "metadata": {},
   "source": [
    "## Reaction nodes"
   ]
  },
  {
   "cell_type": "code",
   "execution_count": null,
   "metadata": {},
   "outputs": [],
   "source": [
    "new_subdf[new_subdf['reaction_id'].isin(['rx00148', 'rx00185'])][substrate_cols + product_cols + catalyst_cols]"
   ]
  },
  {
   "cell_type": "code",
   "execution_count": null,
   "metadata": {},
   "outputs": [],
   "source": [
    "# make reaction nodes\n",
    "f = f\"{reaction_type}-reaction.tsv\"\n",
    "new_subdf[reaction_standard_columns].to_csv(f\"../data/import/{f}\", sep=\"\\t\", index=None)\n",
    "query = helpers.reaction_node_query(f, name=\"line.reaction_id\")\n",
    "\n",
    "qr = graph.run(query)\n",
    "pretty_print_result('Reaction', new_subdf, qr, 'nodes')"
   ]
  },
  {
   "cell_type": "code",
   "execution_count": null,
   "metadata": {},
   "outputs": [],
   "source": []
  },
  {
   "cell_type": "markdown",
   "metadata": {},
   "source": [
    "## induction"
   ]
  },
  {
   "cell_type": "code",
   "execution_count": null,
   "metadata": {},
   "outputs": [],
   "source": [
    "edge_label = \"ACTIVATES\"\n",
    "reaction_type = 'transcriptional/translational activation'\n",
    "reaction_type_nice = 'transcriptional_translational_induction'\n",
    "act_subdf = new_subdf[new_subdf['reaction_type']==reaction_type]"
   ]
  },
  {
   "cell_type": "code",
   "execution_count": null,
   "metadata": {},
   "outputs": [],
   "source": [
    "# substrate to reaction edge\n",
    "f =  f\"{reaction_type_nice}-substrate_edges.tsv\" \n",
    "want_cols = reaction_standard_columns + substrate_cols\n",
    "act_subdf[want_cols].to_csv(f\"../data/import/{f}\", sep=\"\\t\", index=None)\n",
    "\n",
    "query = helpers.make_create_reaction_edge_query(f, 'SUBSTRATE',\n",
    "                                                \"substrate\", \"dne\", \n",
    "                                                target_label=\"Reaction\", \n",
    "                                                target_name=\"line.reaction_id\"\n",
    "                              )\n",
    "qr = graph.run(query)\n",
    "pretty_print_result('-', act_subdf, qr, 'relationships')"
   ]
  },
  {
   "cell_type": "code",
   "execution_count": null,
   "metadata": {},
   "outputs": [],
   "source": [
    "# catalyst to reaction edge\n",
    "exploded_new_subdf = helpers.unnesting(act_subdf, catalyst_cols)\n",
    "\n",
    "f =  f\"{reaction_type_nice}-catalyst_edges.tsv\" \n",
    "want_cols = reaction_standard_columns + catalyst_cols\n",
    "exploded_new_subdf[want_cols].to_csv(f\"../data/import/{f}\", sep=\"\\t\", index=None)\n",
    "\n",
    "query = helpers.make_create_reaction_edge_query(f, 'ACTIVATES',\n",
    "                                                \"catalyst\", \"dne\", \n",
    "                                                target_label=\"Reaction\", \n",
    "                                                target_name=\"line.reaction_id\"\n",
    "                              )\n",
    "qr = graph.run(query)\n",
    "pretty_print_result('-', exploded_new_subdf, qr, 'relationships')"
   ]
  },
  {
   "cell_type": "code",
   "execution_count": null,
   "metadata": {},
   "outputs": [],
   "source": [
    "# product to reaction edge\n",
    "f =  f\"{reaction_type_nice}-product_edges.tsv\" \n",
    "want_cols = reaction_standard_columns + product_cols\n",
    "act_subdf[want_cols].to_csv(f\"../data/import/{f}\", sep=\"\\t\", index=None)\n",
    "\n",
    "query = helpers.make_create_reaction_edge_query(f, 'PRODUCT', \"dne\" , \"product\", \n",
    "                                                source_name=\"line.reaction_id\", \n",
    "                                                source_label=\"Reaction\"\n",
    "                              )\n",
    "qr = graph.run(query)\n",
    "pretty_print_result('-', act_subdf, qr, 'relationships')"
   ]
  },
  {
   "cell_type": "markdown",
   "metadata": {},
   "source": [
    "## repression"
   ]
  },
  {
   "cell_type": "code",
   "execution_count": null,
   "metadata": {},
   "outputs": [],
   "source": [
    "reaction_type = 'transcriptional/translational repression'\n",
    "reaction_type_nice = 'transcriptional_translational_repression'\n",
    "inh_subdf = new_subdf[new_subdf['reaction_type']==reaction_type]"
   ]
  },
  {
   "cell_type": "code",
   "execution_count": null,
   "metadata": {},
   "outputs": [],
   "source": [
    "# substrate to reaction edge\n",
    "f =  f\"{reaction_type_nice}-substrate_edges.tsv\" \n",
    "want_cols = reaction_standard_columns + substrate_cols\n",
    "inh_subdf[want_cols].to_csv(f\"../data/import/{f}\", sep=\"\\t\", index=None)\n",
    "\n",
    "query = helpers.make_create_reaction_edge_query(f, 'SUBSTRATE',\n",
    "                                                \"substrate\", \"dne\", \n",
    "                                                target_label=\"Reaction\", \n",
    "                                                target_name=\"line.reaction_id\"\n",
    "                              )\n",
    "qr = graph.run(query)\n",
    "pretty_print_result('-', inh_subdf, qr, 'relationships')"
   ]
  },
  {
   "cell_type": "code",
   "execution_count": null,
   "metadata": {},
   "outputs": [],
   "source": [
    "# catalyst to reaction edge\n",
    "exploded_new_subdf = helpers.unnesting(inh_subdf, catalyst_cols)\n",
    "\n",
    "\n",
    "f =  f\"{reaction_type_nice}-catalyst_edges.tsv\" \n",
    "want_cols = reaction_standard_columns + catalyst_cols\n",
    "exploded_new_subdf[want_cols].to_csv(f\"../data/import/{f}\", sep=\"\\t\", index=None)\n",
    "\n",
    "query = helpers.make_create_reaction_edge_query(f, 'INHIBITS',\n",
    "                                                \"catalyst\", \"dne\", \n",
    "                                                target_label=\"Reaction\", \n",
    "                                                target_name=\"line.reaction_id\"\n",
    "                              )\n",
    "qr = graph.run(query)\n",
    "pretty_print_result('-', exploded_new_subdf, qr, 'relationships')"
   ]
  },
  {
   "cell_type": "code",
   "execution_count": null,
   "metadata": {},
   "outputs": [],
   "source": [
    "# product to reaction edge\n",
    "f =  f\"{reaction_type_nice}-product_edges.tsv\" \n",
    "want_cols = reaction_standard_columns + product_cols\n",
    "inh_subdf[want_cols].to_csv(f\"../data/import/{f}\", sep=\"\\t\", index=None)\n",
    "\n",
    "query = helpers.make_create_reaction_edge_query(f, 'PRODUCT', \"dne\" , \"product\", \n",
    "                                                source_name=\"line.reaction_id\", \n",
    "                                                source_label=\"Reaction\"\n",
    "                              )\n",
    "qr = graph.run(query)\n",
    "pretty_print_result('-', inh_subdf, qr, 'relationships')"
   ]
  },
  {
   "cell_type": "markdown",
   "metadata": {},
   "source": [
    "## cleavage/auto-cleavage"
   ]
  },
  {
   "cell_type": "code",
   "execution_count": null,
   "metadata": {},
   "outputs": [],
   "source": [
    "#Image(filename='./reaction_types/activation/cleavage_autocleavage.png')"
   ]
  },
  {
   "cell_type": "code",
   "execution_count": null,
   "metadata": {},
   "outputs": [],
   "source": [
    "key = 'cleavage/auto-cleavage'\n",
    "reaction_type = 'CLEAVAGE_AUTOCLEAVAGE'\n",
    "subdf = df_edges[df_edges['reaction_type'] == key].copy()\n",
    "print(reaction_type, subdf.shape[0])"
   ]
  },
  {
   "cell_type": "code",
   "execution_count": null,
   "metadata": {},
   "outputs": [],
   "source": [
    "# make reaction nodes\n",
    "f = f\"{reaction_type}-wicat-reaction.tsv\"\n",
    "subdf[reaction_standard_columns].to_csv(f\"../data/import/{f}\", sep=\"\\t\", index=None)\n",
    "query = helpers.reaction_node_query(f, name=\"line.reaction_id\")\n",
    "\n",
    "qr = graph.run(query)\n",
    "pretty_print_result('Reaction', subdf, qr, 'nodes')"
   ]
  },
  {
   "cell_type": "code",
   "execution_count": null,
   "metadata": {},
   "outputs": [],
   "source": [
    "cleavage_wo_catalyst = subdf[subdf['input2_ID'].isna() & subdf['input3_ID'].isna()]\n",
    "cleavage_w_catalyst = subdf[~(subdf['input2_ID'].isna() & subdf['input3_ID'].isna())]"
   ]
  },
  {
   "cell_type": "markdown",
   "metadata": {},
   "source": [
    "## with catalyst"
   ]
  },
  {
   "cell_type": "code",
   "execution_count": null,
   "metadata": {},
   "outputs": [],
   "source": [
    "rename_target(cleavage_w_catalyst, 'output1', 'product')\n",
    "rename_target(cleavage_w_catalyst, 'input1',  'substrate')\n",
    "rename_target(cleavage_w_catalyst, 'input2',  'catalyst')"
   ]
  },
  {
   "cell_type": "code",
   "execution_count": null,
   "metadata": {},
   "outputs": [],
   "source": [
    "# substrate to reaction edge\n",
    "f =  f\"{reaction_type}-wicat-substrate_edges.tsv\" \n",
    "want_cols = reaction_standard_columns + substrate_cols\n",
    "cleavage_w_catalyst[want_cols].to_csv(f\"../data/import/{f}\", sep=\"\\t\", index=None)\n",
    "\n",
    "query = helpers.make_create_reaction_edge_query(f, 'SUBSTRATE',\n",
    "                                                \"substrate\", \"dne\", \n",
    "                                                target_label=\"Reaction\", \n",
    "                                                target_name=\"line.reaction_id\"\n",
    "                              )\n",
    "qr = graph.run(query)\n",
    "pretty_print_result('-', cleavage_w_catalyst, qr, 'relationships')"
   ]
  },
  {
   "cell_type": "code",
   "execution_count": null,
   "metadata": {},
   "outputs": [],
   "source": [
    "# catalyst to reaction edge\n",
    "\n",
    "f =  f\"{reaction_type}-wicat-catalyst_edges.tsv\" \n",
    "want_cols = reaction_standard_columns + catalyst_cols\n",
    "cleavage_w_catalyst[want_cols].to_csv(f\"../data/import/{f}\", sep=\"\\t\", index=None)\n",
    "\n",
    "query = helpers.make_create_reaction_edge_query(f, 'ACTIVATES',\n",
    "                                                \"catalyst\", \"dne\", \n",
    "                                                target_label=\"Reaction\", \n",
    "                                                target_name=\"line.reaction_id\"\n",
    "                              )\n",
    "qr = graph.run(query)\n",
    "pretty_print_result('-', cleavage_w_catalyst, qr, 'relationships')"
   ]
  },
  {
   "cell_type": "code",
   "execution_count": null,
   "metadata": {},
   "outputs": [],
   "source": [
    "# product to reaction edge\n",
    "f =  f\"{reaction_type}-wicat-product_edges.tsv\" \n",
    "want_cols = reaction_standard_columns + product_cols\n",
    "cleavage_w_catalyst[want_cols].to_csv(f\"../data/import/{f}\", sep=\"\\t\", index=None)\n",
    "\n",
    "query = helpers.make_create_reaction_edge_query(f, 'PRODUCT', \"dne\" , \"product\", \n",
    "                                                source_name=\"line.reaction_id\", \n",
    "                                                source_label=\"Reaction\"\n",
    "                              )\n",
    "qr = graph.run(query)\n",
    "pretty_print_result('-', cleavage_w_catalyst, qr, 'relationships')"
   ]
  },
  {
   "cell_type": "markdown",
   "metadata": {},
   "source": [
    "## w/o catalyst"
   ]
  },
  {
   "cell_type": "code",
   "execution_count": null,
   "metadata": {},
   "outputs": [],
   "source": [
    "rename_target(cleavage_wo_catalyst, 'output1', 'product')\n",
    "rename_target(cleavage_wo_catalyst, 'input1',  'substrate')"
   ]
  },
  {
   "cell_type": "code",
   "execution_count": null,
   "metadata": {},
   "outputs": [],
   "source": [
    "# substrate to reaction edge\n",
    "f =  f\"{reaction_type}-substrate_edges.tsv\" \n",
    "want_cols = reaction_standard_columns + substrate_cols\n",
    "cleavage_wo_catalyst[want_cols].to_csv(f\"../data/import/{f}\", sep=\"\\t\", index=None)\n",
    "\n",
    "query = helpers.make_create_reaction_edge_query(f, 'SUBSTRATE',\n",
    "                                                \"substrate\", \"dne\", \n",
    "                                                target_label=\"Reaction\", \n",
    "                                                target_name=\"line.reaction_id\"\n",
    "                              )\n",
    "qr = graph.run(query)\n",
    "pretty_print_result('-', cleavage_wo_catalyst, qr, 'relationships')"
   ]
  },
  {
   "cell_type": "code",
   "execution_count": null,
   "metadata": {},
   "outputs": [],
   "source": [
    "# product to reaction edge\n",
    "f =  f\"{reaction_type}-product_edges.tsv\" \n",
    "want_cols = reaction_standard_columns + product_cols\n",
    "cleavage_wo_catalyst[want_cols].to_csv(f\"../data/import/{f}\", sep=\"\\t\", index=None)\n",
    "\n",
    "query = helpers.make_create_reaction_edge_query(f, 'PRODUCT', \"dne\" , \"product\", \n",
    "                                                source_name=\"line.reaction_id\", \n",
    "                                                source_label=\"Reaction\"\n",
    "                              )\n",
    "qr = graph.run(query)\n",
    "pretty_print_result('-', cleavage_wo_catalyst, qr, 'relationships')"
   ]
  },
  {
   "cell_type": "markdown",
   "metadata": {},
   "source": [
    "## undefined"
   ]
  },
  {
   "cell_type": "code",
   "execution_count": null,
   "metadata": {},
   "outputs": [],
   "source": [
    "#Image(filename='./reaction_types/...png')"
   ]
  },
  {
   "cell_type": "code",
   "execution_count": null,
   "metadata": {},
   "outputs": [],
   "source": [
    "key = 'undefined'\n",
    "reaction_type = 'UNDEFINED'\n",
    "subdf = df_edges[df_edges['reaction_type'] == key].copy()\n",
    "print(reaction_type, subdf.shape[0])"
   ]
  },
  {
   "cell_type": "code",
   "execution_count": null,
   "metadata": {},
   "outputs": [],
   "source": [
    "rename_target(subdf, 'output1', 'product')\n",
    "rename_target(subdf, 'input2',  'substrate')\n",
    "rename_target(subdf, 'input1',  'catalyst')"
   ]
  },
  {
   "cell_type": "code",
   "execution_count": null,
   "metadata": {},
   "outputs": [],
   "source": [
    "subdf[substrate_cols + product_cols + catalyst_cols]"
   ]
  },
  {
   "cell_type": "code",
   "execution_count": null,
   "metadata": {},
   "outputs": [],
   "source": [
    "subdf[reaction_standard_columns]"
   ]
  },
  {
   "cell_type": "code",
   "execution_count": null,
   "metadata": {},
   "outputs": [],
   "source": [
    "activation_subdf = subdf[subdf['ReactionEffect'] == 'activation' ]\n",
    "inhibition_subdf = subdf[subdf['ReactionEffect'] == 'inhibition' ]"
   ]
  },
  {
   "cell_type": "code",
   "execution_count": null,
   "metadata": {},
   "outputs": [],
   "source": [
    "# make reaction nodes\n",
    "f = f\"{reaction_type}-reaction.tsv\"\n",
    "subdf[reaction_standard_columns].to_csv(f\"../data/import/{f}\", sep=\"\\t\", index=None)\n",
    "query = helpers.reaction_node_query(f, name=\"line.reaction_id\")\n",
    "\n",
    "qr = graph.run(query)\n",
    "pretty_print_result('Reaction', subdf, qr, 'nodes')"
   ]
  },
  {
   "cell_type": "code",
   "execution_count": null,
   "metadata": {},
   "outputs": [],
   "source": [
    "# substrate to reaction edge\n",
    "f =  f\"{reaction_type}-wicat-substrate_edges.tsv\" \n",
    "want_cols = reaction_standard_columns + substrate_cols\n",
    "subdf[want_cols].to_csv(f\"../data/import/{f}\", sep=\"\\t\", index=None)\n",
    "\n",
    "query = helpers.make_create_reaction_edge_query(f, 'SUBSTRATE',\n",
    "                                                \"substrate\", \"dne\", \n",
    "                                                target_label=\"Reaction\", \n",
    "                                                target_name=\"line.reaction_id\"\n",
    "                              )\n",
    "qr = graph.run(query)\n",
    "pretty_print_result('-', subdf, qr, 'relationships')"
   ]
  },
  {
   "cell_type": "code",
   "execution_count": null,
   "metadata": {},
   "outputs": [],
   "source": [
    "# product to reaction edge\n",
    "f =  f\"{reaction_type}-wicat-product_edges.tsv\" \n",
    "want_cols = reaction_standard_columns + product_cols\n",
    "subdf[want_cols].to_csv(f\"../data/import/{f}\", sep=\"\\t\", index=None)\n",
    "\n",
    "query = helpers.make_create_reaction_edge_query(f, 'PRODUCT', \"dne\" , \"product\", \n",
    "                                                source_name=\"line.reaction_id\", \n",
    "                                                source_label=\"Reaction\"\n",
    "                              )\n",
    "qr = graph.run(query)\n",
    "pretty_print_result('-', subdf, qr, 'relationships')"
   ]
  },
  {
   "cell_type": "markdown",
   "metadata": {},
   "source": [
    "## activation"
   ]
  },
  {
   "cell_type": "code",
   "execution_count": null,
   "metadata": {},
   "outputs": [],
   "source": [
    "activation_subdf[substrate_cols + product_cols + catalyst_cols]"
   ]
  },
  {
   "cell_type": "code",
   "execution_count": null,
   "metadata": {},
   "outputs": [],
   "source": [
    "# catalyst to reaction edge\n",
    "\n",
    "f =  f\"{reaction_type}-catalyst_edges.tsv\" \n",
    "want_cols = reaction_standard_columns + catalyst_cols\n",
    "activation_subdf[want_cols].to_csv(f\"../data/import/{f}\", sep=\"\\t\", index=None)\n",
    "\n",
    "query = helpers.make_create_reaction_edge_query(f, 'ACTIVATES',\n",
    "                                                \"catalyst\", \"dne\", \n",
    "                                                target_label=\"Reaction\", \n",
    "                                                target_name=\"line.reaction_id\"\n",
    "                              )\n",
    "qr = graph.run(query)\n",
    "pretty_print_result('-', activation_subdf, qr, 'relationships')"
   ]
  },
  {
   "cell_type": "markdown",
   "metadata": {},
   "source": [
    "## inhibition"
   ]
  },
  {
   "cell_type": "code",
   "execution_count": null,
   "metadata": {},
   "outputs": [],
   "source": [
    "inhibition_subdf[substrate_cols + product_cols + catalyst_cols]"
   ]
  },
  {
   "cell_type": "code",
   "execution_count": null,
   "metadata": {},
   "outputs": [],
   "source": [
    "# catalyst to reaction edge\n",
    "\n",
    "f =  f\"{reaction_type}-catalyst_edges.tsv\" \n",
    "want_cols = reaction_standard_columns + catalyst_cols\n",
    "inhibition_subdf[want_cols].to_csv(f\"../data/import/{f}\", sep=\"\\t\", index=None)\n",
    "\n",
    "query = helpers.make_create_reaction_edge_query(f, 'INHIBITS',\n",
    "                                                \"catalyst\", \"dne\", \n",
    "                                                target_label=\"Reaction\", \n",
    "                                                target_name=\"line.reaction_id\"\n",
    "                              )\n",
    "qr = graph.run(query)\n",
    "pretty_print_result('-', inhibition_subdf, qr, 'relationships')"
   ]
  },
  {
   "cell_type": "code",
   "execution_count": null,
   "metadata": {},
   "outputs": [],
   "source": []
  },
  {
   "cell_type": "code",
   "execution_count": null,
   "metadata": {},
   "outputs": [],
   "source": []
  },
  {
   "cell_type": "code",
   "execution_count": null,
   "metadata": {},
   "outputs": [],
   "source": []
  },
  {
   "cell_type": "markdown",
   "metadata": {},
   "source": [
    "# END "
   ]
  },
  {
   "cell_type": "code",
   "execution_count": null,
   "metadata": {},
   "outputs": [],
   "source": []
  }
 ],
 "metadata": {
  "kernelspec": {
   "display_name": "Python 3",
   "language": "python",
   "name": "python3"
  },
  "language_info": {
   "codemirror_mode": {
    "name": "ipython",
    "version": 3
   },
   "file_extension": ".py",
   "mimetype": "text/x-python",
   "name": "python",
   "nbconvert_exporter": "python",
   "pygments_lexer": "ipython3",
   "version": "3.9.2"
  }
 },
 "nbformat": 4,
 "nbformat_minor": 2
}
