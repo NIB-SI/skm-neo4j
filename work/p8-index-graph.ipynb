{
 "cells": [
  {
   "cell_type": "code",
   "execution_count": 8,
   "metadata": {},
   "outputs": [],
   "source": [
    "version = \"v0.1.0\""
   ]
  },
  {
   "cell_type": "code",
   "execution_count": 9,
   "metadata": {},
   "outputs": [
    {
     "data": {
      "text/html": [
       "<style>.container { width:80% !important; }</style>"
      ],
      "text/plain": [
       "<IPython.core.display.HTML object>"
      ]
     },
     "metadata": {},
     "output_type": "display_data"
    }
   ],
   "source": [
    "from IPython.core.display import display, HTML\n",
    "display(HTML(\"<style>.container { width:80% !important; }</style>\"))"
   ]
  },
  {
   "cell_type": "markdown",
   "metadata": {},
   "source": [
    "# Import neo4j DB: 6/?\n",
    "\n",
    "Code to translate v2.7.4_PIS-model.xlsx to neo4j database. "
   ]
  },
  {
   "cell_type": "markdown",
   "metadata": {},
   "source": [
    "## Setup"
   ]
  },
  {
   "cell_type": "code",
   "execution_count": 10,
   "metadata": {},
   "outputs": [],
   "source": [
    "from collections import defaultdict"
   ]
  },
  {
   "cell_type": "code",
   "execution_count": 11,
   "metadata": {},
   "outputs": [],
   "source": [
    "import pandas as pd\n",
    "import re\n",
    "import numpy as np\n",
    "import os"
   ]
  },
  {
   "cell_type": "code",
   "execution_count": 12,
   "metadata": {},
   "outputs": [],
   "source": [
    "from py2neo import Graph, Node, Relationship"
   ]
  },
  {
   "cell_type": "code",
   "execution_count": 13,
   "metadata": {},
   "outputs": [],
   "source": [
    "import helpers"
   ]
  },
  {
   "cell_type": "code",
   "execution_count": 14,
   "metadata": {},
   "outputs": [],
   "source": [
    "from importlib import reload"
   ]
  },
  {
   "cell_type": "markdown",
   "metadata": {},
   "source": [
    "Connect to graph via docker-compose link. See http://localhost:7474/browser/"
   ]
  },
  {
   "cell_type": "code",
   "execution_count": 15,
   "metadata": {},
   "outputs": [],
   "source": [
    "graph = Graph(host=\"neo4j\")"
   ]
  },
  {
   "cell_type": "code",
   "execution_count": 16,
   "metadata": {},
   "outputs": [],
   "source": [
    "from pathlib import Path\n",
    "\n",
    "base_path = Path(\"..\")\n",
    "parsed_path = base_path / \"data\" / \"parsed\""
   ]
  },
  {
   "cell_type": "markdown",
   "metadata": {},
   "source": [
    "## Add string lists for full text search"
   ]
  },
  {
   "cell_type": "code",
   "execution_count": 17,
   "metadata": {},
   "outputs": [
    {
     "name": "stdout",
     "output_type": "stream",
     "text": [
      "\n",
      "MATCH (m)\n",
      "WHERE EXISTS(m.external_links)\n",
      "SET m._external_links = trim(reduce(s='', el IN m.external_links | s + el + ' '))\n",
      "\n"
     ]
    },
    {
     "data": {
      "text/plain": [
       "(No data)"
      ]
     },
     "execution_count": 17,
     "metadata": {},
     "output_type": "execute_result"
    }
   ],
   "source": [
    "# str external links\n",
    "\n",
    "cy = f'''\n",
    "MATCH (m)\n",
    "WHERE EXISTS(m.external_links)\n",
    "SET m._external_links = trim(reduce(s='', el IN m.external_links | s + el + ' '))\n",
    "'''\n",
    "print(cy)\n",
    "graph.run(cy)"
   ]
  },
  {
   "cell_type": "code",
   "execution_count": 18,
   "metadata": {},
   "outputs": [
    {
     "name": "stdout",
     "output_type": "stream",
     "text": [
      "\n",
      "MATCH (m:Family)\n",
      "WITH m, COALESCE(trim(reduce(s='', el IN m.ath_homologues | s + el + ' ')), '') AS ath,  \n",
      "        COALESCE(trim(reduce(s='', el IN m.osa_homologues | s + el + ' ')), '') AS osa, \n",
      "        COALESCE(trim(reduce(s='', el IN m.sly_homologues | s + el + ' ')), '') AS sly, \n",
      "        COALESCE(trim(reduce(s='', el IN m.stu_homologues | s + el + ' ')), '') AS stu\n",
      "SET m._identifiers = trim(reduce(s='', el IN [ath, osa, sly, stu] | s + el + ' '))\n",
      "\n",
      "\n",
      "MATCH (m:FunctionalCluster)\n",
      "WITH m, COALESCE(trim(reduce(s='', el IN m.ath_homologues | s + el + ' ')), '') AS ath,  \n",
      "        COALESCE(trim(reduce(s='', el IN m.osa_homologues | s + el + ' ')), '') AS osa, \n",
      "        COALESCE(trim(reduce(s='', el IN m.sly_homologues | s + el + ' ')), '') AS sly, \n",
      "        COALESCE(trim(reduce(s='', el IN m.stu_homologues | s + el + ' ')), '') AS stu\n",
      "SET m._identifiers = trim(reduce(s='', el IN [ath, osa, sly, stu] | s + el + ' '))\n",
      "\n"
     ]
    },
    {
     "data": {
      "text/plain": [
       "(No data)"
      ]
     },
     "execution_count": 18,
     "metadata": {},
     "output_type": "execute_result"
    }
   ],
   "source": [
    "# str identifiers\n",
    "cy = '''\n",
    "MATCH (m:Family)\n",
    "WITH m, COALESCE(trim(reduce(s='', el IN m.ath_homologues | s + el + ' ')), '') AS ath,  \n",
    "        COALESCE(trim(reduce(s='', el IN m.osa_homologues | s + el + ' ')), '') AS osa, \n",
    "        COALESCE(trim(reduce(s='', el IN m.sly_homologues | s + el + ' ')), '') AS sly, \n",
    "        COALESCE(trim(reduce(s='', el IN m.stu_homologues | s + el + ' ')), '') AS stu\n",
    "SET m._identifiers = trim(reduce(s='', el IN [ath, osa, sly, stu] | s + el + ' '))\n",
    "'''\n",
    "print(cy)\n",
    "graph.run(cy)\n",
    "\n",
    "\n",
    "# str identifiers\n",
    "cy = '''\n",
    "MATCH (m:FunctionalCluster)\n",
    "WITH m, COALESCE(trim(reduce(s='', el IN m.ath_homologues | s + el + ' ')), '') AS ath,  \n",
    "        COALESCE(trim(reduce(s='', el IN m.osa_homologues | s + el + ' ')), '') AS osa, \n",
    "        COALESCE(trim(reduce(s='', el IN m.sly_homologues | s + el + ' ')), '') AS sly, \n",
    "        COALESCE(trim(reduce(s='', el IN m.stu_homologues | s + el + ' ')), '') AS stu\n",
    "SET m._identifiers = trim(reduce(s='', el IN [ath, osa, sly, stu] | s + el + ' '))\n",
    "'''\n",
    "print(cy)\n",
    "graph.run(cy)"
   ]
  },
  {
   "cell_type": "code",
   "execution_count": 19,
   "metadata": {},
   "outputs": [
    {
     "name": "stdout",
     "output_type": "stream",
     "text": [
      "\n",
      "MATCH (m)\n",
      "WHERE EXISTS(m.synonyms)\n",
      "SET m._synonyms = trim(reduce(s='', el IN m.synonyms | s + el + ' '))\n",
      "\n"
     ]
    },
    {
     "data": {
      "text/plain": [
       "(No data)"
      ]
     },
     "execution_count": 19,
     "metadata": {},
     "output_type": "execute_result"
    }
   ],
   "source": [
    "cy = f'''\n",
    "MATCH (m)\n",
    "WHERE EXISTS(m.synonyms)\n",
    "SET m._synonyms = trim(reduce(s='', el IN m.synonyms | s + el + ' '))\n",
    "'''\n",
    "print(cy)\n",
    "graph.run(cy)"
   ]
  },
  {
   "cell_type": "markdown",
   "metadata": {},
   "source": [
    "## Indexes"
   ]
  },
  {
   "cell_type": "code",
   "execution_count": 20,
   "metadata": {},
   "outputs": [
    {
     "data": {
      "text/plain": [
       "(No data)"
      ]
     },
     "execution_count": 20,
     "metadata": {},
     "output_type": "execute_result"
    }
   ],
   "source": [
    "# metabolites\n",
    "\n",
    "cy = '''\n",
    "CREATE FULLTEXT INDEX  metabolites_all\n",
    "FOR (m:Metabolite)\n",
    "ON EACH [\n",
    "    m.name, \n",
    "    m._synonyms, \n",
    "    m.description, \n",
    "    m.additional_information,    \n",
    "    m._external_links\n",
    "]\n",
    "'''\n",
    "graph.run(cy)"
   ]
  },
  {
   "cell_type": "code",
   "execution_count": 21,
   "metadata": {},
   "outputs": [
    {
     "data": {
      "text/plain": [
       "(No data)"
      ]
     },
     "execution_count": 21,
     "metadata": {},
     "output_type": "execute_result"
    }
   ],
   "source": [
    "# complexes \n",
    "\n",
    "cy = '''\n",
    "CREATE FULLTEXT INDEX complex_all \n",
    "FOR (m:Complex) \n",
    "ON EACH [\n",
    "     m.name, \n",
    "     m._synonyms, \n",
    "     m.description, \n",
    "     m.additional_information,    \n",
    "     m._external_links\n",
    "] \n",
    "'''\n",
    "graph.run(cy)"
   ]
  },
  {
   "cell_type": "code",
   "execution_count": 22,
   "metadata": {},
   "outputs": [
    {
     "data": {
      "text/plain": [
       "(No data)"
      ]
     },
     "execution_count": 22,
     "metadata": {},
     "output_type": "execute_result"
    }
   ],
   "source": [
    "# foreign\n",
    "\n",
    "cy = '''\n",
    "CREATE FULLTEXT INDEX foreign_all \n",
    "FOR (m:Foreign) \n",
    "ON EACH [\n",
    "    m.name, \n",
    "    m._synonyms,\n",
    "    m._identifiers,\n",
    "    m.description, \n",
    "    m.additional_information,    \n",
    "    m._external_links\n",
    "    ] \n",
    "'''\n",
    "\n",
    "graph.run(cy)"
   ]
  },
  {
   "cell_type": "code",
   "execution_count": 23,
   "metadata": {},
   "outputs": [
    {
     "data": {
      "text/plain": [
       "(No data)"
      ]
     },
     "execution_count": 23,
     "metadata": {},
     "output_type": "execute_result"
    }
   ],
   "source": [
    "# process\n",
    "\n",
    "cy = '''\n",
    "CREATE FULLTEXT INDEX process_all \n",
    "FOR (m:Process) \n",
    "ON EACH [\n",
    "    m.name, \n",
    "    m._synonyms, \n",
    "    m.description, \n",
    "    m.additional_information,        \n",
    "    m._external_links\n",
    "    ] \n",
    "'''\n",
    "graph.run(cy)"
   ]
  },
  {
   "cell_type": "code",
   "execution_count": 24,
   "metadata": {
    "scrolled": true
   },
   "outputs": [
    {
     "data": {
      "text/plain": [
       "(No data)"
      ]
     },
     "execution_count": 24,
     "metadata": {},
     "output_type": "execute_result"
    }
   ],
   "source": [
    "# identifiers\n",
    "\n",
    "cy = '''\n",
    "CREATE FULLTEXT INDEX family_identifiers \n",
    "FOR (m:Family) \n",
    "ON EACH [m._identifiers]\n",
    "'''\n",
    "graph.run(cy)"
   ]
  },
  {
   "cell_type": "code",
   "execution_count": 25,
   "metadata": {},
   "outputs": [
    {
     "data": {
      "text/plain": [
       "(No data)"
      ]
     },
     "execution_count": 25,
     "metadata": {},
     "output_type": "execute_result"
    }
   ],
   "source": [
    "# plant parts\n",
    "\n",
    "cy = '''MATCH (n:FunctionalCluster) CALL apoc.create.addLabels(n, ['Plant']) YIELD node RETURN node '''\n",
    "graph.run(cy)\n",
    "\n",
    "\n",
    "cy = '''\n",
    "CREATE FULLTEXT INDEX plant_all \n",
    "FOR (m:Plant) \n",
    "ON EACH [    \n",
    "    m.name, \n",
    "    m._synonyms, \n",
    "    m.description, \n",
    "    m.additional_information,    \n",
    "    m._external_links,\n",
    "    m._identifiers\n",
    "    ]\n",
    "'''\n",
    "graph.run(cy)"
   ]
  },
  {
   "cell_type": "code",
   "execution_count": 26,
   "metadata": {},
   "outputs": [
    {
     "data": {
      "text/plain": [
       "(No data)"
      ]
     },
     "execution_count": 26,
     "metadata": {},
     "output_type": "execute_result"
    }
   ],
   "source": [
    "# everything \n",
    "cy = '''\n",
    "MATCH (n)\n",
    "SET n :Node\n",
    "'''\n",
    "graph.run(cy)\n",
    "\n",
    "cy = '''\n",
    "CREATE FULLTEXT INDEX general_text \n",
    "FOR (m:Node)\n",
    "ON EACH [    \n",
    "    m.name, \n",
    "    m._synonyms, \n",
    "    m.description, \n",
    "    m.additional_information,\n",
    "    m._external_links,\n",
    "    m._identifiers\n",
    "    ]\n",
    "'''\n",
    "graph.run(cy)"
   ]
  },
  {
   "cell_type": "markdown",
   "metadata": {},
   "source": [
    "## Data Science graph"
   ]
  },
  {
   "cell_type": "code",
   "execution_count": 27,
   "metadata": {},
   "outputs": [
    {
     "data": {
      "text/plain": [
       " graphName       | nodeCount | relationshipCount | createMillis \n",
       "-----------------|-----------|-------------------|--------------\n",
       " reaction-graph1 |       874 |              1176 |         1312 "
      ]
     },
     "execution_count": 27,
     "metadata": {},
     "output_type": "execute_result"
    }
   ],
   "source": [
    "cy = '''\n",
    "CALL gds.graph.create.cypher(\n",
    "    'reaction-graph1',\n",
    "    'MATCH (n) WHERE NOT n:Family RETURN id(n) AS id',\n",
    "    'MATCH (a)-[r]->(b) WHERE EXISTS(r.reaction_type) RETURN id(a) AS source, id(b) AS target'\n",
    ")\n",
    "YIELD graphName, nodeCount, relationshipCount, createMillis;\n",
    "'''\n",
    "graph.run(cy)"
   ]
  },
  {
   "cell_type": "code",
   "execution_count": 28,
   "metadata": {},
   "outputs": [
    {
     "data": {
      "text/html": [
       "<div>\n",
       "<style scoped>\n",
       "    .dataframe tbody tr th:only-of-type {\n",
       "        vertical-align: middle;\n",
       "    }\n",
       "\n",
       "    .dataframe tbody tr th {\n",
       "        vertical-align: top;\n",
       "    }\n",
       "\n",
       "    .dataframe thead th {\n",
       "        text-align: right;\n",
       "    }\n",
       "</style>\n",
       "<table border=\"1\" class=\"dataframe\">\n",
       "  <thead>\n",
       "    <tr style=\"text-align: right;\">\n",
       "      <th></th>\n",
       "      <th>componentId</th>\n",
       "      <th>componentSize</th>\n",
       "    </tr>\n",
       "  </thead>\n",
       "  <tbody>\n",
       "    <tr>\n",
       "      <th>0</th>\n",
       "      <td>0</td>\n",
       "      <td>721</td>\n",
       "    </tr>\n",
       "    <tr>\n",
       "      <th>1</th>\n",
       "      <td>3</td>\n",
       "      <td>13</td>\n",
       "    </tr>\n",
       "    <tr>\n",
       "      <th>2</th>\n",
       "      <td>49</td>\n",
       "      <td>1</td>\n",
       "    </tr>\n",
       "    <tr>\n",
       "      <th>3</th>\n",
       "      <td>59</td>\n",
       "      <td>1</td>\n",
       "    </tr>\n",
       "    <tr>\n",
       "      <th>4</th>\n",
       "      <td>63</td>\n",
       "      <td>1</td>\n",
       "    </tr>\n",
       "    <tr>\n",
       "      <th>5</th>\n",
       "      <td>65</td>\n",
       "      <td>1</td>\n",
       "    </tr>\n",
       "    <tr>\n",
       "      <th>6</th>\n",
       "      <td>66</td>\n",
       "      <td>1</td>\n",
       "    </tr>\n",
       "    <tr>\n",
       "      <th>7</th>\n",
       "      <td>71</td>\n",
       "      <td>1</td>\n",
       "    </tr>\n",
       "    <tr>\n",
       "      <th>8</th>\n",
       "      <td>74</td>\n",
       "      <td>1</td>\n",
       "    </tr>\n",
       "    <tr>\n",
       "      <th>9</th>\n",
       "      <td>77</td>\n",
       "      <td>1</td>\n",
       "    </tr>\n",
       "    <tr>\n",
       "      <th>10</th>\n",
       "      <td>107</td>\n",
       "      <td>1</td>\n",
       "    </tr>\n",
       "    <tr>\n",
       "      <th>11</th>\n",
       "      <td>110</td>\n",
       "      <td>1</td>\n",
       "    </tr>\n",
       "    <tr>\n",
       "      <th>12</th>\n",
       "      <td>111</td>\n",
       "      <td>1</td>\n",
       "    </tr>\n",
       "    <tr>\n",
       "      <th>13</th>\n",
       "      <td>112</td>\n",
       "      <td>1</td>\n",
       "    </tr>\n",
       "    <tr>\n",
       "      <th>14</th>\n",
       "      <td>116</td>\n",
       "      <td>1</td>\n",
       "    </tr>\n",
       "    <tr>\n",
       "      <th>15</th>\n",
       "      <td>118</td>\n",
       "      <td>1</td>\n",
       "    </tr>\n",
       "    <tr>\n",
       "      <th>16</th>\n",
       "      <td>119</td>\n",
       "      <td>1</td>\n",
       "    </tr>\n",
       "    <tr>\n",
       "      <th>17</th>\n",
       "      <td>120</td>\n",
       "      <td>1</td>\n",
       "    </tr>\n",
       "    <tr>\n",
       "      <th>18</th>\n",
       "      <td>122</td>\n",
       "      <td>8</td>\n",
       "    </tr>\n",
       "    <tr>\n",
       "      <th>19</th>\n",
       "      <td>124</td>\n",
       "      <td>1</td>\n",
       "    </tr>\n",
       "    <tr>\n",
       "      <th>20</th>\n",
       "      <td>125</td>\n",
       "      <td>1</td>\n",
       "    </tr>\n",
       "    <tr>\n",
       "      <th>21</th>\n",
       "      <td>126</td>\n",
       "      <td>1</td>\n",
       "    </tr>\n",
       "    <tr>\n",
       "      <th>22</th>\n",
       "      <td>128</td>\n",
       "      <td>1</td>\n",
       "    </tr>\n",
       "    <tr>\n",
       "      <th>23</th>\n",
       "      <td>129</td>\n",
       "      <td>16</td>\n",
       "    </tr>\n",
       "    <tr>\n",
       "      <th>24</th>\n",
       "      <td>130</td>\n",
       "      <td>1</td>\n",
       "    </tr>\n",
       "    <tr>\n",
       "      <th>25</th>\n",
       "      <td>132</td>\n",
       "      <td>1</td>\n",
       "    </tr>\n",
       "    <tr>\n",
       "      <th>26</th>\n",
       "      <td>133</td>\n",
       "      <td>3</td>\n",
       "    </tr>\n",
       "    <tr>\n",
       "      <th>27</th>\n",
       "      <td>137</td>\n",
       "      <td>1</td>\n",
       "    </tr>\n",
       "    <tr>\n",
       "      <th>28</th>\n",
       "      <td>143</td>\n",
       "      <td>10</td>\n",
       "    </tr>\n",
       "    <tr>\n",
       "      <th>29</th>\n",
       "      <td>171</td>\n",
       "      <td>7</td>\n",
       "    </tr>\n",
       "    <tr>\n",
       "      <th>30</th>\n",
       "      <td>197</td>\n",
       "      <td>9</td>\n",
       "    </tr>\n",
       "    <tr>\n",
       "      <th>31</th>\n",
       "      <td>202</td>\n",
       "      <td>3</td>\n",
       "    </tr>\n",
       "    <tr>\n",
       "      <th>32</th>\n",
       "      <td>234</td>\n",
       "      <td>11</td>\n",
       "    </tr>\n",
       "    <tr>\n",
       "      <th>33</th>\n",
       "      <td>240</td>\n",
       "      <td>13</td>\n",
       "    </tr>\n",
       "    <tr>\n",
       "      <th>34</th>\n",
       "      <td>245</td>\n",
       "      <td>3</td>\n",
       "    </tr>\n",
       "    <tr>\n",
       "      <th>35</th>\n",
       "      <td>257</td>\n",
       "      <td>5</td>\n",
       "    </tr>\n",
       "    <tr>\n",
       "      <th>36</th>\n",
       "      <td>258</td>\n",
       "      <td>14</td>\n",
       "    </tr>\n",
       "    <tr>\n",
       "      <th>37</th>\n",
       "      <td>293</td>\n",
       "      <td>5</td>\n",
       "    </tr>\n",
       "    <tr>\n",
       "      <th>38</th>\n",
       "      <td>294</td>\n",
       "      <td>3</td>\n",
       "    </tr>\n",
       "    <tr>\n",
       "      <th>39</th>\n",
       "      <td>297</td>\n",
       "      <td>3</td>\n",
       "    </tr>\n",
       "    <tr>\n",
       "      <th>40</th>\n",
       "      <td>306</td>\n",
       "      <td>4</td>\n",
       "    </tr>\n",
       "  </tbody>\n",
       "</table>\n",
       "</div>"
      ],
      "text/plain": [
       "    componentId  componentSize\n",
       "0             0            721\n",
       "1             3             13\n",
       "2            49              1\n",
       "3            59              1\n",
       "4            63              1\n",
       "5            65              1\n",
       "6            66              1\n",
       "7            71              1\n",
       "8            74              1\n",
       "9            77              1\n",
       "10          107              1\n",
       "11          110              1\n",
       "12          111              1\n",
       "13          112              1\n",
       "14          116              1\n",
       "15          118              1\n",
       "16          119              1\n",
       "17          120              1\n",
       "18          122              8\n",
       "19          124              1\n",
       "20          125              1\n",
       "21          126              1\n",
       "22          128              1\n",
       "23          129             16\n",
       "24          130              1\n",
       "25          132              1\n",
       "26          133              3\n",
       "27          137              1\n",
       "28          143             10\n",
       "29          171              7\n",
       "30          197              9\n",
       "31          202              3\n",
       "32          234             11\n",
       "33          240             13\n",
       "34          245              3\n",
       "35          257              5\n",
       "36          258             14\n",
       "37          293              5\n",
       "38          294              3\n",
       "39          297              3\n",
       "40          306              4"
      ]
     },
     "execution_count": 28,
     "metadata": {},
     "output_type": "execute_result"
    }
   ],
   "source": [
    "# check connected components\n",
    "\n",
    "cy = '''\n",
    "CALL gds.wcc.stream('reaction-graph1')\n",
    "YIELD nodeId, componentId\n",
    "WITH componentId, count(*) AS componentSize\n",
    "RETURN componentId, componentSize ORDER BY componentId\n",
    "'''\n",
    "data = graph.run(cy).data()\n",
    "cc_sizes = pd.DataFrame(data)\n",
    "cc_sizes"
   ]
  },
  {
   "cell_type": "code",
   "execution_count": 29,
   "metadata": {},
   "outputs": [
    {
     "data": {
      "text/html": [
       "<div>\n",
       "<style scoped>\n",
       "    .dataframe tbody tr th:only-of-type {\n",
       "        vertical-align: middle;\n",
       "    }\n",
       "\n",
       "    .dataframe tbody tr th {\n",
       "        vertical-align: top;\n",
       "    }\n",
       "\n",
       "    .dataframe thead th {\n",
       "        text-align: right;\n",
       "    }\n",
       "</style>\n",
       "<table border=\"1\" class=\"dataframe\">\n",
       "  <thead>\n",
       "    <tr style=\"text-align: right;\">\n",
       "      <th></th>\n",
       "      <th>name</th>\n",
       "      <th>componentId</th>\n",
       "    </tr>\n",
       "  </thead>\n",
       "  <tbody>\n",
       "    <tr>\n",
       "      <th>0</th>\n",
       "      <td>12,13-EOT</td>\n",
       "      <td>0</td>\n",
       "    </tr>\n",
       "    <tr>\n",
       "      <th>1</th>\n",
       "      <td>12-OH-JA-Ile</td>\n",
       "      <td>0</td>\n",
       "    </tr>\n",
       "    <tr>\n",
       "      <th>2</th>\n",
       "      <td>13-HPOT</td>\n",
       "      <td>0</td>\n",
       "    </tr>\n",
       "    <tr>\n",
       "      <th>3</th>\n",
       "      <td>AAO[AT1G04580,AT2G27150,AT5G20960]</td>\n",
       "      <td>0</td>\n",
       "    </tr>\n",
       "    <tr>\n",
       "      <th>4</th>\n",
       "      <td>ACC</td>\n",
       "      <td>0</td>\n",
       "    </tr>\n",
       "    <tr>\n",
       "      <th>...</th>\n",
       "      <td>...</td>\n",
       "      <td>...</td>\n",
       "    </tr>\n",
       "    <tr>\n",
       "      <th>869</th>\n",
       "      <td>rx00306</td>\n",
       "      <td>297</td>\n",
       "    </tr>\n",
       "    <tr>\n",
       "      <th>870</th>\n",
       "      <td>NDR1[AT3G20600]</td>\n",
       "      <td>306</td>\n",
       "    </tr>\n",
       "    <tr>\n",
       "      <th>871</th>\n",
       "      <td>NDR1|RIN4</td>\n",
       "      <td>306</td>\n",
       "    </tr>\n",
       "    <tr>\n",
       "      <th>872</th>\n",
       "      <td>RIN4[AT3G25070]</td>\n",
       "      <td>306</td>\n",
       "    </tr>\n",
       "    <tr>\n",
       "      <th>873</th>\n",
       "      <td>rx00055</td>\n",
       "      <td>306</td>\n",
       "    </tr>\n",
       "  </tbody>\n",
       "</table>\n",
       "<p>874 rows × 2 columns</p>\n",
       "</div>"
      ],
      "text/plain": [
       "                                   name  componentId\n",
       "0                             12,13-EOT            0\n",
       "1                          12-OH-JA-Ile            0\n",
       "2                               13-HPOT            0\n",
       "3    AAO[AT1G04580,AT2G27150,AT5G20960]            0\n",
       "4                                   ACC            0\n",
       "..                                  ...          ...\n",
       "869                             rx00306          297\n",
       "870                     NDR1[AT3G20600]          306\n",
       "871                           NDR1|RIN4          306\n",
       "872                     RIN4[AT3G25070]          306\n",
       "873                             rx00055          306\n",
       "\n",
       "[874 rows x 2 columns]"
      ]
     },
     "execution_count": 29,
     "metadata": {},
     "output_type": "execute_result"
    }
   ],
   "source": [
    "cy = '''\n",
    "CALL gds.wcc.stream('reaction-graph1')\n",
    "YIELD nodeId, componentId\n",
    "RETURN gds.util.asNode(nodeId).name AS name, componentId\n",
    "ORDER BY componentId, name\n",
    "'''\n",
    "data = graph.run(cy).data()\n",
    "cc_nodes = pd.DataFrame(data)\n",
    "cc_nodes"
   ]
  },
  {
   "cell_type": "code",
   "execution_count": 30,
   "metadata": {},
   "outputs": [
    {
     "name": "stdout",
     "output_type": "stream",
     "text": [
      "compponentID\n",
      "compponentID\n",
      "3\t13\t9-cis-&beta;-carotene, 9-cis-10&prime;-apo-&beta;-carotenal, CCD7[AT2G44990], CCD8[AT4G32810], CL, CLA, D27[OS11G0587000], MAX1[AT2G26170], all-trans-&beta;-carotene, rx00314, rx00315, rx00316, rx00317\n",
      "compponentID\n",
      "49\t1\tNADPH\n",
      "compponentID\n",
      "59\t1\tH2O\n",
      "compponentID\n",
      "63\t1\tHO2.\n",
      "compponentID\n",
      "65\t1\tO3\n",
      "compponentID\n",
      "66\t1\tOH.\n",
      "compponentID\n",
      "71\t1\tSL\n",
      "compponentID\n",
      "74\t1\tUDP glucose\n",
      "compponentID\n",
      "77\t1\tanthocyanin\n",
      "compponentID\n",
      "107\t1\ttZRP\n",
      "compponentID\n",
      "110\t1\tDAMP/HAMP\n",
      "compponentID\n",
      "111\t1\tPostROS\n",
      "compponentID\n",
      "112\t1\tPreROS\n",
      "compponentID\n",
      "116\t1\telf18\n",
      "compponentID\n",
      "118\t1\tch\n",
      "compponentID\n",
      "119\t1\t6K1\n",
      "compponentID\n",
      "120\t1\t6K2\n",
      "compponentID\n",
      "122\t8\tCP, CPIP1,2b[AT1G10350], CPIP2a[AT3G08910], CP|CPIP1,2b, CP|CPIP2a, rx00201, rx00202, rx00203\n",
      "compponentID\n",
      "124\t1\tNIa-Pro\n",
      "compponentID\n",
      "125\t1\tNIb\n",
      "compponentID\n",
      "126\t1\tP1\n",
      "compponentID\n",
      "128\t1\tP3N-PIPO\n",
      "compponentID\n",
      "129\t16\tCO[AT5G15840], CO|OBE1, OBE1[AT3G07780], OBE1|VPg, OBE1|WRKY11, OBE1|WRKY17, RH8[AT4G00660], RH8|VPg, VPg, WRKY11[AT4G31550], WRKY17[AT2G24570], rx00226, rx00227, rx00229, rx00230, rx00231\n",
      "compponentID\n",
      "130\t1\toomycete\n",
      "compponentID\n",
      "132\t1\ttrichous-bacteria\n",
      "compponentID\n",
      "133\t3\tARF2[AT5G62000], AUX-signalling, rx00121\n",
      "compponentID\n",
      "137\t1\tROS-production\n",
      "compponentID\n",
      "143\t10\tGPAphid2[], GPAphid2|RANGAP, RANGAP[AT3G63130], RANGAP|Rx1, RANGAP|Rx2, Rx1[], Rx2[], rx00057, rx00058, rx00059\n",
      "compponentID\n",
      "171\t7\tARF3[AT2G33860], ARF4[AT5G60450], MIR390[AT2G38325,AT5G58465], TAS3[AT3G17185,AT5G49615], rx00111, rx00112, rx00113\n",
      "compponentID\n",
      "197\t9\tCPK11[AT1G35670], CPK1[AT5G04870], CPK2[AT3G10660], CPK4[AT4G09570], RBOHD[AT5G47910], rx00174, rx00175, rx00176, rx00177\n",
      "compponentID\n",
      "202\t3\tCPS[SOTUB06G034690.1.1], rx00275, vsiRNA34327[vsiRNA34327]\n",
      "compponentID\n",
      "234\t11\tESP[AT1G54040], ESP|WRKY53, MAPKKK8[AT4G08500], UPL5[AT4G12570], WRKY30[AT5G24110], WRKY30|WRKY53, WRKY53[AT4G23810], rx00122, rx00123, rx00124, rx00125\n",
      "compponentID\n",
      "240\t13\tGA20ox.x3[SOTUB09G017710.1.1], GA20ox.x5[SOTUB10G011620.1.1], GA20ox1[SOTUB03G007160.1.1], GA20ox3[SOTUB11G029030.1.1], GA20ox4[SOTUB01G031210.1.1], miR167e-3p[miR167e-3p], rx00276, rx00277, rx00278, rx00279, rx00280, rx00281, vsiRNA12986[vsiRNA12986]\n",
      "compponentID\n",
      "245\t3\tGA3ox[SOTUB06G023360.1.1], phasiRNA931[phasiRNA931], rx00282\n",
      "compponentID\n",
      "257\t5\tHSP90[AT2G04030,AT3G07770,AT4G24190,AT5G52640,AT5G56000,AT5G56010,AT5G56030], HSP90|RAR1|SGT1, RAR1[AT5G51700], SGT1[AT4G11260,AT4G23570], rx00053\n",
      "compponentID\n",
      "258\t14\tIAA29[AT4G32280], IAA29|WRKY57, JAZ4[AT1G48500], JAZ4|WRKY57, JAZ8[AT1G30135], JAZ8|WRKY57, SAG12[AT5G45890], SEN4[AT4G30270], WRKY57[AT1G69310], rx00126, rx00127, rx00128, rx00129, rx00130\n",
      "compponentID\n",
      "293\t5\tMYB33[SOTUB06G030530.1.1], miR319a-3p[miR319a-3p], miR6022[miR6022-3p], rx00307, rx00308\n",
      "compponentID\n",
      "294\t3\tMYB33[AT5G06100], miR159a[miR159a], rx00305\n",
      "compponentID\n",
      "297\t3\tMYB65[AT3G11440], miR159b[miR159b], rx00306\n",
      "compponentID\n",
      "306\t4\tNDR1[AT3G20600], NDR1|RIN4, RIN4[AT3G25070], rx00055\n"
     ]
    }
   ],
   "source": [
    "for componentID, subdf in cc_nodes.groupby('componentId'):\n",
    "    print(\"compponentID\")\n",
    "    if subdf.shape[0] < cc_sizes['componentSize'].max():\n",
    "        print(f'{componentID}\\t{subdf.shape[0]}\\t{\", \".join(list(subdf[\"name\"].values))}')"
   ]
  },
  {
   "cell_type": "markdown",
   "metadata": {},
   "source": [
    "# END "
   ]
  },
  {
   "cell_type": "code",
   "execution_count": null,
   "metadata": {},
   "outputs": [],
   "source": []
  }
 ],
 "metadata": {
  "kernelspec": {
   "display_name": "Python 3",
   "language": "python",
   "name": "python3"
  },
  "language_info": {
   "codemirror_mode": {
    "name": "ipython",
    "version": 3
   },
   "file_extension": ".py",
   "mimetype": "text/x-python",
   "name": "python",
   "nbconvert_exporter": "python",
   "pygments_lexer": "ipython3",
   "version": "3.9.2"
  }
 },
 "nbformat": 4,
 "nbformat_minor": 2
}
