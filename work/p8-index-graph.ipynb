{
 "cells": [
  {
   "cell_type": "code",
   "execution_count": null,
   "metadata": {},
   "outputs": [],
   "source": [
    "version = \"v0.1.0\""
   ]
  },
  {
   "cell_type": "code",
   "execution_count": null,
   "metadata": {},
   "outputs": [],
   "source": [
    "from IPython.core.display import display, HTML\n",
    "display(HTML(\"<style>.container { width:80% !important; }</style>\"))"
   ]
  },
  {
   "cell_type": "markdown",
   "metadata": {},
   "source": [
    "# Import neo4j DB: 6/?\n",
    "\n",
    "Code to translate v2.7.4_PIS-model.xlsx to neo4j database. "
   ]
  },
  {
   "cell_type": "markdown",
   "metadata": {},
   "source": [
    "## Setup"
   ]
  },
  {
   "cell_type": "code",
   "execution_count": null,
   "metadata": {},
   "outputs": [],
   "source": [
    "from collections import defaultdict"
   ]
  },
  {
   "cell_type": "code",
   "execution_count": null,
   "metadata": {},
   "outputs": [],
   "source": [
    "import pandas as pd\n",
    "import re\n",
    "import numpy as np\n",
    "import os"
   ]
  },
  {
   "cell_type": "code",
   "execution_count": null,
   "metadata": {},
   "outputs": [],
   "source": [
    "from py2neo import Graph, Node, Relationship"
   ]
  },
  {
   "cell_type": "code",
   "execution_count": null,
   "metadata": {},
   "outputs": [],
   "source": [
    "import helpers"
   ]
  },
  {
   "cell_type": "code",
   "execution_count": null,
   "metadata": {},
   "outputs": [],
   "source": [
    "from importlib import reload"
   ]
  },
  {
   "cell_type": "markdown",
   "metadata": {},
   "source": [
    "Connect to graph via docker-compose link. See http://localhost:7474/browser/"
   ]
  },
  {
   "cell_type": "code",
   "execution_count": null,
   "metadata": {},
   "outputs": [],
   "source": [
    "graph = Graph(host=\"neo4j\")"
   ]
  },
  {
   "cell_type": "code",
   "execution_count": null,
   "metadata": {},
   "outputs": [],
   "source": [
    "from pathlib import Path\n",
    "\n",
    "base_path = Path(\"..\")\n",
    "parsed_path = base_path / \"data\" / \"parsed\""
   ]
  },
  {
   "cell_type": "markdown",
   "metadata": {},
   "source": [
    "## Add string lists for full text search"
   ]
  },
  {
   "cell_type": "code",
   "execution_count": null,
   "metadata": {},
   "outputs": [],
   "source": [
    "# str external links\n",
    "\n",
    "cy = f'''\n",
    "MATCH (m)\n",
    "WHERE EXISTS(m.external_links)\n",
    "SET m._external_links = trim(reduce(s='', el IN m.external_links | s + el + ' '))\n",
    "'''\n",
    "print(cy)\n",
    "graph.run(cy)"
   ]
  },
  {
   "cell_type": "code",
   "execution_count": null,
   "metadata": {},
   "outputs": [],
   "source": [
    "# str identifiers\n",
    "cy = '''\n",
    "MATCH (m:Family)\n",
    "WITH m, COALESCE(trim(reduce(s='', el IN m.ath_homologues | s + el + ' ')), '') AS ath,  \n",
    "        COALESCE(trim(reduce(s='', el IN m.osa_homologues | s + el + ' ')), '') AS osa, \n",
    "        COALESCE(trim(reduce(s='', el IN m.sly_homologues | s + el + ' ')), '') AS sly, \n",
    "        COALESCE(trim(reduce(s='', el IN m.stu_homologues | s + el + ' ')), '') AS stu\n",
    "SET m._identifiers = trim(reduce(s='', el IN [ath, osa, sly, stu] | s + el + ' '))\n",
    "'''\n",
    "print(cy)\n",
    "graph.run(cy)\n",
    "\n",
    "\n",
    "# str identifiers\n",
    "cy = '''\n",
    "MATCH (m:FunctionalCluster)\n",
    "WITH m, COALESCE(trim(reduce(s='', el IN m.ath_homologues | s + el + ' ')), '') AS ath,  \n",
    "        COALESCE(trim(reduce(s='', el IN m.osa_homologues | s + el + ' ')), '') AS osa, \n",
    "        COALESCE(trim(reduce(s='', el IN m.sly_homologues | s + el + ' ')), '') AS sly, \n",
    "        COALESCE(trim(reduce(s='', el IN m.stu_homologues | s + el + ' ')), '') AS stu\n",
    "SET m._identifiers = trim(reduce(s='', el IN [ath, osa, sly, stu] | s + el + ' '))\n",
    "'''\n",
    "print(cy)\n",
    "graph.run(cy)"
   ]
  },
  {
   "cell_type": "code",
   "execution_count": null,
   "metadata": {},
   "outputs": [],
   "source": [
    "cy = f'''\n",
    "MATCH (m)\n",
    "WHERE EXISTS(m.synonyms)\n",
    "SET m._synonyms = trim(reduce(s='', el IN m.synonyms | s + el + ' '))\n",
    "'''\n",
    "print(cy)\n",
    "graph.run(cy)"
   ]
  },
  {
   "cell_type": "markdown",
   "metadata": {},
   "source": [
    "## Indexes"
   ]
  },
  {
   "cell_type": "code",
   "execution_count": null,
   "metadata": {},
   "outputs": [],
   "source": [
    "# metabolites\n",
    "\n",
    "cy = '''\n",
    "CREATE FULLTEXT INDEX  metabolites_all\n",
    "FOR (m:Metabolite)\n",
    "ON EACH [\n",
    "    m.name, \n",
    "    m._synonyms, \n",
    "    m.description, \n",
    "    m.additional_information,    \n",
    "    m._external_links\n",
    "]\n",
    "'''\n",
    "graph.run(cy)"
   ]
  },
  {
   "cell_type": "code",
   "execution_count": null,
   "metadata": {},
   "outputs": [],
   "source": [
    "# complexes \n",
    "\n",
    "cy = '''\n",
    "CREATE FULLTEXT INDEX complex_all \n",
    "FOR (m:Complex) \n",
    "ON EACH [\n",
    "     m.name, \n",
    "     m._synonyms, \n",
    "     m.description, \n",
    "     m.additional_information,    \n",
    "     m._external_links\n",
    "] \n",
    "'''\n",
    "graph.run(cy)"
   ]
  },
  {
   "cell_type": "code",
   "execution_count": null,
   "metadata": {},
   "outputs": [],
   "source": [
    "# foreign\n",
    "\n",
    "cy = '''\n",
    "CREATE FULLTEXT INDEX foreign_all \n",
    "FOR (m:Foreign) \n",
    "ON EACH [\n",
    "    m.name, \n",
    "    m._synonyms,\n",
    "    m._identifiers,\n",
    "    m.description, \n",
    "    m.additional_information,    \n",
    "    m._external_links\n",
    "    ] \n",
    "'''\n",
    "\n",
    "graph.run(cy)"
   ]
  },
  {
   "cell_type": "code",
   "execution_count": null,
   "metadata": {},
   "outputs": [],
   "source": [
    "# process\n",
    "\n",
    "cy = '''\n",
    "CREATE FULLTEXT INDEX process_all \n",
    "FOR (m:Process) \n",
    "ON EACH [\n",
    "    m.name, \n",
    "    m._synonyms, \n",
    "    m.description, \n",
    "    m.additional_information,        \n",
    "    m._external_links\n",
    "    ] \n",
    "'''\n",
    "graph.run(cy)"
   ]
  },
  {
   "cell_type": "code",
   "execution_count": null,
   "metadata": {},
   "outputs": [],
   "source": [
    "# identifiers\n",
    "\n",
    "cy = '''\n",
    "CREATE FULLTEXT INDEX family_identifiers \n",
    "FOR (m:Family) \n",
    "ON EACH [m._identifiers]\n",
    "'''\n",
    "graph.run(cy)"
   ]
  },
  {
   "cell_type": "code",
   "execution_count": null,
   "metadata": {},
   "outputs": [],
   "source": [
    "# plant parts\n",
    "\n",
    "cy = '''MATCH (n:FunctionalCluster) CALL apoc.create.addLabels(n, ['Plant']) YIELD node RETURN node '''\n",
    "graph.run(cy)\n",
    "\n",
    "\n",
    "cy = '''\n",
    "CREATE FULLTEXT INDEX plant_all \n",
    "FOR (m:Plant) \n",
    "ON EACH [    \n",
    "    m.name, \n",
    "    m._synonyms, \n",
    "    m.description, \n",
    "    m.additional_information,    \n",
    "    m._external_links,\n",
    "    m._identifiers\n",
    "    ]\n",
    "'''\n",
    "graph.run(cy)"
   ]
  },
  {
   "cell_type": "code",
   "execution_count": null,
   "metadata": {},
   "outputs": [],
   "source": [
    "# everything \n",
    "cy = '''\n",
    "MATCH (n)\n",
    "SET n :Node\n",
    "'''\n",
    "graph.run(cy)\n",
    "\n",
    "cy = '''\n",
    "CREATE FULLTEXT INDEX general_text \n",
    "FOR (m:Node)\n",
    "ON EACH [    \n",
    "    m.name, \n",
    "    m._synonyms, \n",
    "    m.description, \n",
    "    m.additional_information,\n",
    "    m._external_links,\n",
    "    m._identifiers\n",
    "    ]\n",
    "'''\n",
    "graph.run(cy)"
   ]
  },
  {
   "cell_type": "markdown",
   "metadata": {},
   "source": [
    "## Data Science graph"
   ]
  },
  {
   "cell_type": "code",
   "execution_count": null,
   "metadata": {},
   "outputs": [],
   "source": [
    "cy = '''\n",
    "CALL gds.graph.create.cypher(\n",
    "    'reaction-graph1',\n",
    "    'MATCH (n) WHERE NOT n:Family RETURN id(n) AS id',\n",
    "    'MATCH (a)-[r]->(b) WHERE EXISTS(r.reaction_type) RETURN id(a) AS source, id(b) AS target'\n",
    ")\n",
    "YIELD graphName, nodeCount, relationshipCount, createMillis;\n",
    "'''\n",
    "graph.run(cy)"
   ]
  },
  {
   "cell_type": "code",
   "execution_count": null,
   "metadata": {},
   "outputs": [],
   "source": [
    "# check connected components\n",
    "\n",
    "cy = '''\n",
    "CALL gds.wcc.stream('reaction-graph1')\n",
    "YIELD nodeId, componentId\n",
    "WITH componentId, count(*) AS componentSize\n",
    "RETURN componentId, componentSize ORDER BY componentId\n",
    "'''\n",
    "data = graph.run(cy).data()\n",
    "cc_sizes = pd.DataFrame(data)\n",
    "cc_sizes"
   ]
  },
  {
   "cell_type": "code",
   "execution_count": null,
   "metadata": {},
   "outputs": [],
   "source": [
    "cy = '''\n",
    "CALL gds.wcc.stream('reaction-graph1')\n",
    "YIELD nodeId, componentId\n",
    "RETURN gds.util.asNode(nodeId).name AS name, componentId\n",
    "ORDER BY componentId, name\n",
    "'''\n",
    "data = graph.run(cy).data()\n",
    "cc_nodes = pd.DataFrame(data)\n",
    "cc_nodes"
   ]
  },
  {
   "cell_type": "code",
   "execution_count": null,
   "metadata": {},
   "outputs": [],
   "source": [
    "for componentID, subdf in cc_nodes.groupby('componentId'):\n",
    "    print(\"compponentID\")\n",
    "    if subdf.shape[0] < cc_sizes['componentSize'].max():\n",
    "        print(f'{componentID}\\t{subdf.shape[0]}\\t{\", \".join(list(subdf[\"name\"].values))}')"
   ]
  },
  {
   "cell_type": "markdown",
   "metadata": {},
   "source": [
    "# END "
   ]
  },
  {
   "cell_type": "code",
   "execution_count": null,
   "metadata": {},
   "outputs": [],
   "source": []
  }
 ],
 "metadata": {
  "kernelspec": {
   "display_name": "Python 3 (ipykernel)",
   "language": "python",
   "name": "python3"
  },
  "language_info": {
   "codemirror_mode": {
    "name": "ipython",
    "version": 3
   },
   "file_extension": ".py",
   "mimetype": "text/x-python",
   "name": "python",
   "nbconvert_exporter": "python",
   "pygments_lexer": "ipython3",
   "version": "3.8.1"
  }
 },
 "nbformat": 4,
 "nbformat_minor": 2
}
