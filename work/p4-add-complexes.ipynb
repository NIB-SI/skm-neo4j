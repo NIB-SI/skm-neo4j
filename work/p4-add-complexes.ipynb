{
 "cells": [
  {
   "cell_type": "code",
   "execution_count": 1,
   "metadata": {},
   "outputs": [
    {
     "data": {
      "text/html": [
       "<style>.container { width:80% !important; }</style>"
      ],
      "text/plain": [
       "<IPython.core.display.HTML object>"
      ]
     },
     "metadata": {},
     "output_type": "display_data"
    }
   ],
   "source": [
    "from IPython.core.display import display, HTML\n",
    "display(HTML(\"<style>.container { width:80% !important; }</style>\"))"
   ]
  },
  {
   "cell_type": "markdown",
   "metadata": {},
   "source": [
    "# Import neo4j DB: 4/4\n",
    "\n",
    "Code to translate v2.7.4_PIS-model.xlsx to neo4j database. "
   ]
  },
  {
   "cell_type": "markdown",
   "metadata": {},
   "source": [
    "## Setup"
   ]
  },
  {
   "cell_type": "code",
   "execution_count": 2,
   "metadata": {},
   "outputs": [],
   "source": [
    "import pandas as pd\n",
    "import re\n",
    "import numpy as np\n",
    "import os\n",
    "from IPython.display import Image\n",
    "from IPython.display import display"
   ]
  },
  {
   "cell_type": "code",
   "execution_count": 3,
   "metadata": {},
   "outputs": [],
   "source": [
    "from py2neo import Graph, Node, Relationship"
   ]
  },
  {
   "cell_type": "code",
   "execution_count": 4,
   "metadata": {},
   "outputs": [],
   "source": [
    "import helpers"
   ]
  },
  {
   "cell_type": "code",
   "execution_count": 5,
   "metadata": {},
   "outputs": [],
   "source": [
    "from importlib import reload"
   ]
  },
  {
   "cell_type": "markdown",
   "metadata": {},
   "source": [
    "Connect to graph via docker-compose link. See http://localhost:7474/browser/"
   ]
  },
  {
   "cell_type": "code",
   "execution_count": 6,
   "metadata": {},
   "outputs": [],
   "source": [
    "graph = Graph(host=\"neo4j\")"
   ]
  },
  {
   "cell_type": "code",
   "execution_count": 7,
   "metadata": {},
   "outputs": [],
   "source": [
    "from pathlib import Path\n",
    "\n",
    "base_path = Path(\"..\")\n",
    "parsed_path = base_path / \"data\" / \"parsed\""
   ]
  },
  {
   "cell_type": "code",
   "execution_count": 8,
   "metadata": {},
   "outputs": [],
   "source": [
    "all_species = ['ath', 'osa', 'stu', 'sly']"
   ]
  },
  {
   "cell_type": "markdown",
   "metadata": {},
   "source": [
    "### Reactions sheet"
   ]
  },
  {
   "cell_type": "code",
   "execution_count": 9,
   "metadata": {},
   "outputs": [],
   "source": [
    "df_edges = pd.read_csv(parsed_path / \"edges-sheet.tsv\", sep=\"\\t\", index_col=0)"
   ]
  },
  {
   "cell_type": "code",
   "execution_count": 10,
   "metadata": {},
   "outputs": [
    {
     "data": {
      "text/html": [
       "<div>\n",
       "<style scoped>\n",
       "    .dataframe tbody tr th:only-of-type {\n",
       "        vertical-align: middle;\n",
       "    }\n",
       "\n",
       "    .dataframe tbody tr th {\n",
       "        vertical-align: top;\n",
       "    }\n",
       "\n",
       "    .dataframe thead th {\n",
       "        text-align: right;\n",
       "    }\n",
       "</style>\n",
       "<table border=\"1\" class=\"dataframe\">\n",
       "  <thead>\n",
       "    <tr style=\"text-align: right;\">\n",
       "      <th></th>\n",
       "      <th>Status</th>\n",
       "      <th>AddedBy</th>\n",
       "      <th>ConnID</th>\n",
       "      <th>Species</th>\n",
       "      <th>input1_ID</th>\n",
       "      <th>input1_level</th>\n",
       "      <th>input1_localisation</th>\n",
       "      <th>input1_type</th>\n",
       "      <th>input2_ID</th>\n",
       "      <th>input2_level</th>\n",
       "      <th>...</th>\n",
       "      <th>output1_ath_homologues</th>\n",
       "      <th>output1_stu_homologues</th>\n",
       "      <th>output1_sly_homologues</th>\n",
       "      <th>output1_osa_homologues</th>\n",
       "      <th>input1_location</th>\n",
       "      <th>input2_location</th>\n",
       "      <th>input3_location</th>\n",
       "      <th>output1_location</th>\n",
       "      <th>reaction_type</th>\n",
       "      <th>reaction_id</th>\n",
       "    </tr>\n",
       "  </thead>\n",
       "  <tbody>\n",
       "    <tr>\n",
       "      <th>0</th>\n",
       "      <td>forCB</td>\n",
       "      <td>KG</td>\n",
       "      <td>Conn001</td>\n",
       "      <td>ath</td>\n",
       "      <td>L-Met</td>\n",
       "      <td>family</td>\n",
       "      <td>ER</td>\n",
       "      <td>metabolite</td>\n",
       "      <td>SAMS</td>\n",
       "      <td>clade</td>\n",
       "      <td>...</td>\n",
       "      <td>NaN</td>\n",
       "      <td>NaN</td>\n",
       "      <td>NaN</td>\n",
       "      <td>NaN</td>\n",
       "      <td>endoplasmic reticulum</td>\n",
       "      <td>endoplasmic reticulum</td>\n",
       "      <td>putative:cytoplasm</td>\n",
       "      <td>endoplasmic reticulum</td>\n",
       "      <td>catalysis/auto-catalysis</td>\n",
       "      <td>rx00001</td>\n",
       "    </tr>\n",
       "    <tr>\n",
       "      <th>1</th>\n",
       "      <td>forCB</td>\n",
       "      <td>KG</td>\n",
       "      <td>Conn002</td>\n",
       "      <td>ath</td>\n",
       "      <td>SAMe</td>\n",
       "      <td>family</td>\n",
       "      <td>ER</td>\n",
       "      <td>metabolite</td>\n",
       "      <td>ACS</td>\n",
       "      <td>family</td>\n",
       "      <td>...</td>\n",
       "      <td>NaN</td>\n",
       "      <td>NaN</td>\n",
       "      <td>NaN</td>\n",
       "      <td>NaN</td>\n",
       "      <td>endoplasmic reticulum</td>\n",
       "      <td>endoplasmic reticulum</td>\n",
       "      <td>putative:cytoplasm</td>\n",
       "      <td>endoplasmic reticulum</td>\n",
       "      <td>catalysis/auto-catalysis</td>\n",
       "      <td>rx00002</td>\n",
       "    </tr>\n",
       "    <tr>\n",
       "      <th>2</th>\n",
       "      <td>forCB</td>\n",
       "      <td>KG</td>\n",
       "      <td>Conn003</td>\n",
       "      <td>ath</td>\n",
       "      <td>ACC</td>\n",
       "      <td>family</td>\n",
       "      <td>ER</td>\n",
       "      <td>metabolite</td>\n",
       "      <td>ACO</td>\n",
       "      <td>family</td>\n",
       "      <td>...</td>\n",
       "      <td>NaN</td>\n",
       "      <td>NaN</td>\n",
       "      <td>NaN</td>\n",
       "      <td>NaN</td>\n",
       "      <td>endoplasmic reticulum</td>\n",
       "      <td>endoplasmic reticulum</td>\n",
       "      <td>putative:cytoplasm</td>\n",
       "      <td>endoplasmic reticulum</td>\n",
       "      <td>catalysis/auto-catalysis</td>\n",
       "      <td>rx00003</td>\n",
       "    </tr>\n",
       "    <tr>\n",
       "      <th>3</th>\n",
       "      <td>forCB</td>\n",
       "      <td>KG</td>\n",
       "      <td>Conn004</td>\n",
       "      <td>ath</td>\n",
       "      <td>Cu2+</td>\n",
       "      <td>family</td>\n",
       "      <td>cytoplasm</td>\n",
       "      <td>metabolite</td>\n",
       "      <td>HMA</td>\n",
       "      <td>family</td>\n",
       "      <td>...</td>\n",
       "      <td>NaN</td>\n",
       "      <td>NaN</td>\n",
       "      <td>NaN</td>\n",
       "      <td>NaN</td>\n",
       "      <td>cytoplasm</td>\n",
       "      <td>endoplasmic reticulum</td>\n",
       "      <td>putative:cytoplasm</td>\n",
       "      <td>endoplasmic reticulum</td>\n",
       "      <td>translocation</td>\n",
       "      <td>rx00004</td>\n",
       "    </tr>\n",
       "    <tr>\n",
       "      <th>4</th>\n",
       "      <td>forCB</td>\n",
       "      <td>KG</td>\n",
       "      <td>Conn005</td>\n",
       "      <td>ath</td>\n",
       "      <td>ETR</td>\n",
       "      <td>family</td>\n",
       "      <td>ER</td>\n",
       "      <td>protein</td>\n",
       "      <td>Cu2+</td>\n",
       "      <td>family</td>\n",
       "      <td>...</td>\n",
       "      <td>AT3G04580,AT2G40940,AT1G66340,AT3G23150,AT1G04310</td>\n",
       "      <td>NaN</td>\n",
       "      <td>NaN</td>\n",
       "      <td>NaN</td>\n",
       "      <td>endoplasmic reticulum</td>\n",
       "      <td>endoplasmic reticulum</td>\n",
       "      <td>putative:cytoplasm</td>\n",
       "      <td>endoplasmic reticulum</td>\n",
       "      <td>protein activation</td>\n",
       "      <td>rx00005</td>\n",
       "    </tr>\n",
       "  </tbody>\n",
       "</table>\n",
       "<p>5 rows × 65 columns</p>\n",
       "</div>"
      ],
      "text/plain": [
       "  Status AddedBy   ConnID Species input1_ID input1_level input1_localisation  \\\n",
       "0  forCB      KG  Conn001     ath     L-Met       family                  ER   \n",
       "1  forCB      KG  Conn002     ath      SAMe       family                  ER   \n",
       "2  forCB      KG  Conn003     ath       ACC       family                  ER   \n",
       "3  forCB      KG  Conn004     ath      Cu2+       family           cytoplasm   \n",
       "4  forCB      KG  Conn005     ath       ETR       family                  ER   \n",
       "\n",
       "  input1_type input2_ID input2_level  ...  \\\n",
       "0  metabolite      SAMS        clade  ...   \n",
       "1  metabolite       ACS       family  ...   \n",
       "2  metabolite       ACO       family  ...   \n",
       "3  metabolite       HMA       family  ...   \n",
       "4     protein      Cu2+       family  ...   \n",
       "\n",
       "                              output1_ath_homologues output1_stu_homologues  \\\n",
       "0                                                NaN                    NaN   \n",
       "1                                                NaN                    NaN   \n",
       "2                                                NaN                    NaN   \n",
       "3                                                NaN                    NaN   \n",
       "4  AT3G04580,AT2G40940,AT1G66340,AT3G23150,AT1G04310                    NaN   \n",
       "\n",
       "  output1_sly_homologues output1_osa_homologues        input1_location  \\\n",
       "0                    NaN                    NaN  endoplasmic reticulum   \n",
       "1                    NaN                    NaN  endoplasmic reticulum   \n",
       "2                    NaN                    NaN  endoplasmic reticulum   \n",
       "3                    NaN                    NaN              cytoplasm   \n",
       "4                    NaN                    NaN  endoplasmic reticulum   \n",
       "\n",
       "         input2_location     input3_location       output1_location  \\\n",
       "0  endoplasmic reticulum  putative:cytoplasm  endoplasmic reticulum   \n",
       "1  endoplasmic reticulum  putative:cytoplasm  endoplasmic reticulum   \n",
       "2  endoplasmic reticulum  putative:cytoplasm  endoplasmic reticulum   \n",
       "3  endoplasmic reticulum  putative:cytoplasm  endoplasmic reticulum   \n",
       "4  endoplasmic reticulum  putative:cytoplasm  endoplasmic reticulum   \n",
       "\n",
       "              reaction_type reaction_id  \n",
       "0  catalysis/auto-catalysis     rx00001  \n",
       "1  catalysis/auto-catalysis     rx00002  \n",
       "2  catalysis/auto-catalysis     rx00003  \n",
       "3             translocation     rx00004  \n",
       "4        protein activation     rx00005  \n",
       "\n",
       "[5 rows x 65 columns]"
      ]
     },
     "execution_count": 10,
     "metadata": {},
     "output_type": "execute_result"
    }
   ],
   "source": [
    "df_edges.head()"
   ]
  },
  {
   "cell_type": "code",
   "execution_count": null,
   "metadata": {},
   "outputs": [],
   "source": []
  },
  {
   "cell_type": "code",
   "execution_count": 11,
   "metadata": {},
   "outputs": [],
   "source": [
    "def generate_list(subdf, ids, new_name, homologues=True):\n",
    "    col_suffixes = ['_newID', '_location', '_label', '_form']\n",
    "    new_col_suffixes = ['_name', '_location', '_label', '_form']\n",
    "\n",
    "    if homologues:\n",
    "        col_suffixes += homologue_cols\n",
    "        new_col_suffixes += homologue_cols\n",
    "        \n",
    "    for old_suf, new_suf in zip(col_suffixes, new_col_suffixes):\n",
    "        new_col = new_name + new_suf\n",
    "        old_cols = [id_ + old_suf for id_ in ids]\n",
    "        subdf[new_col] = subdf[old_cols].apply(lambda x: [i for i in x.values], axis=1)\n",
    "        \n",
    "        \n",
    "def rename_target(subdf, id_, new_name, homologues=True):\n",
    "    col_suffixes = ['_newID', '_location', '_label', '_form']\n",
    "    new_col_suffixes = ['_name', '_location', '_label', '_form']\n",
    "\n",
    "    if homologues:\n",
    "        col_suffixes += homologue_cols\n",
    "        new_col_suffixes += homologue_cols\n",
    "\n",
    "    for old_suf, new_suf in zip(col_suffixes, new_col_suffixes):\n",
    "        new_col = new_name + new_suf\n",
    "        old_col = id_ + old_suf\n",
    "        subdf[new_col] = subdf[old_col]"
   ]
  },
  {
   "cell_type": "code",
   "execution_count": 12,
   "metadata": {},
   "outputs": [],
   "source": [
    "def get_x_nodes(df, x):\n",
    "    rows_with_x = set()\n",
    "    for i, row in df.iterrows():\n",
    "        for col_prefix in ['input1', 'input2', 'input3', 'output1']:\n",
    "            if row[col_prefix + \"_newID\"] in x:\n",
    "                rows_with_x.add(i)\n",
    "    return rows_with_x"
   ]
  },
  {
   "cell_type": "code",
   "execution_count": 13,
   "metadata": {},
   "outputs": [],
   "source": [
    "def number_input_different(df, homologues=True, catalyst=False):\n",
    "    ''' If catalyst is True, it is the last \"input\" col. '''\n",
    "\n",
    "    if catalyst:\n",
    "        # two inputs, input2 -> catalyst\n",
    "        subdf2 = df[df[\"input3_newID\"].isna()].copy()\n",
    "        generate_list(subdf2, ['input1'], 'substrate', homologues=homologues)\n",
    "        rename_target(subdf2, 'input2', 'catalyst', homologues=homologues)\n",
    "\n",
    "        # three inputs, input3 -> catalyst\n",
    "        subdf3 = df[~df[\"input3_newID\"].isna()].copy()\n",
    "        generate_list(subdf3, ['input1', 'input2'], 'substrate', homologues=homologues)        \n",
    "        rename_target(subdf3, 'input3', 'catalyst', homologues=homologues)\n",
    "        \n",
    "    else:\n",
    "        # two inputs\n",
    "        subdf2 = df[df[\"input3_newID\"].isna()].copy()\n",
    "        generate_list(subdf2, ['input1', 'input2'], 'substrate', homologues=homologues)\n",
    "\n",
    "        # three inputs\n",
    "        subdf3 = df[~df[\"input3_newID\"].isna()].copy()\n",
    "        generate_list(subdf3, ['input1', 'input2', 'input3'], 'substrate', homologues=homologues)\n",
    "    \n",
    "    # combine\n",
    "    new_subdf = subdf2.append(subdf3)\n",
    "    rename_target(new_subdf, 'output1', 'product', homologues=homologues)\n",
    "    \n",
    "    return new_subdf"
   ]
  },
  {
   "cell_type": "code",
   "execution_count": 14,
   "metadata": {},
   "outputs": [],
   "source": [
    "# transcription genes\n",
    "substrate_cols_wo_homologues = ['substrate_name', 'substrate_form', 'substrate_label', 'substrate_location']\n",
    "product_cols_wo_homologues = ['product_name', 'product_form', 'product_label',  'product_location']\n",
    "catalyst_cols_wo_homologues = ['catalyst_name', 'catalyst_form', 'catalyst_label', 'catalyst_location']\n",
    "\n",
    "homologue_cols = [f\"_{x}_homologues\" for x in all_species]\n",
    "\n",
    "substrate_cols = [ f'substrate{x}' for x in ['_name', '_label', '_form', '_location']] +\\\n",
    "                [f\"substrate{x}\" for x in homologue_cols]\n",
    "catalyst_cols = [ f'catalyst{x}' for x in ['_name', '_label', '_form', '_location']] +\\\n",
    "                [f\"catalyst{x}\" for x in homologue_cols] \n",
    "product_cols = [ f'product{x}' for x in ['_name', '_label', '_form', '_location']] +\\\n",
    "                [f\"product{x}\" for x in homologue_cols]\n",
    "\n",
    "reaction_standard_columns = ['AddedBy', 'Species', \n",
    "       'AdditionalInfo',  'external_links', 'trust_level',\n",
    "       'ModelV', 'ReactionEffect', 'reaction_type', 'Modifications', 'reaction_id']"
   ]
  },
  {
   "cell_type": "code",
   "execution_count": 15,
   "metadata": {},
   "outputs": [],
   "source": [
    "def read_dict(file):\n",
    "    d = {}\n",
    "    with open(file, \"r\") as f:\n",
    "        for line in f:\n",
    "            key, value = line.strip().split(\"\\t\")\n",
    "            d[key] = value\n",
    "    return d"
   ]
  },
  {
   "cell_type": "code",
   "execution_count": 16,
   "metadata": {},
   "outputs": [],
   "source": [
    "node_to_family = read_dict(parsed_path / \"node_to_family.tsv\")\n",
    "clade_to_family = read_dict(parsed_path / \"clade_to_family.tsv\")"
   ]
  },
  {
   "cell_type": "code",
   "execution_count": 17,
   "metadata": {},
   "outputs": [],
   "source": [
    "def node_id_to_node_label(id_):\n",
    "\n",
    "    query = '''MATCH (s) WHERE s.name=$x \n",
    "               RETURN s.name AS substrate_name, labels(s) AS substrate_label'''\n",
    "    \n",
    "    cursor = graph.run(query, x=id_)\n",
    "    d = cursor.data()\n",
    "    \n",
    "    if len(d) == 0:\n",
    "        print(id_, d, \"no hit\")\n",
    "        return \"\"\n",
    "    elif len(d) == 1:\n",
    "        s = set(d[0]['substrate_label']) - set(['Family'])\n",
    "        return s.pop()\n",
    "    else:\n",
    "        print(id_, d, 'multiple hits') # should be impossible\n",
    "        return \"\""
   ]
  },
  {
   "cell_type": "markdown",
   "metadata": {},
   "source": [
    "### Add complexes"
   ]
  },
  {
   "cell_type": "code",
   "execution_count": 18,
   "metadata": {},
   "outputs": [
    {
     "data": {
      "text/plain": [
       "{'SCF', 'WD/bHLH/MYB', 'ribosome'}"
      ]
     },
     "execution_count": 18,
     "metadata": {},
     "output_type": "execute_result"
    }
   ],
   "source": [
    "label = \"Complex\"\n",
    "q = '''MATCH (n:%s) RETURN DISTINCT n.name'''%label\n",
    "already_defined_complexes = set([d['n.name'] for d in graph.run(q).data()])\n",
    "already_defined_complexes"
   ]
  },
  {
   "cell_type": "code",
   "execution_count": 19,
   "metadata": {},
   "outputs": [
    {
     "data": {
      "text/plain": [
       "91"
      ]
     },
     "execution_count": 19,
     "metadata": {},
     "output_type": "execute_result"
    }
   ],
   "source": [
    "complexes_to_add = set(pd.read_csv(parsed_path / \"complexes_to_add.tsv\", sep=\"\\t\", header=None)[0]) - set(already_defined_complexes)\n",
    "len(complexes_to_add)"
   ]
  },
  {
   "cell_type": "code",
   "execution_count": 20,
   "metadata": {},
   "outputs": [],
   "source": [
    "rows_w_new_complex = get_x_nodes(df_edges, complexes_to_add)"
   ]
  },
  {
   "cell_type": "code",
   "execution_count": 21,
   "metadata": {},
   "outputs": [],
   "source": [
    "want_cols = ['reaction_type', 'Modifications']\n",
    "for prefix in ['input1', 'input2', 'input3', 'output1']:\n",
    "    want_cols += [f\"{prefix}_{x}\" for x in ['newID', 'location', 'label', 'form']]\n",
    "\n",
    "df_new_complex = df_edges.loc[rows_w_new_complex, want_cols]"
   ]
  },
  {
   "cell_type": "code",
   "execution_count": 22,
   "metadata": {},
   "outputs": [],
   "source": [
    "# first complexes defined by binding/oglimerisation reactions\n",
    "key = 'binding/oligomerisation'\n",
    "subdf = df_new_complex.loc[df_new_complex['reaction_type'] == key]\n",
    "\n",
    "binding_w_catalyst = subdf.loc[subdf['Modifications'] == 'with catalyst']\n",
    "binding_wo_catalyst = subdf.loc[subdf['Modifications'] != 'with catalyst']"
   ]
  },
  {
   "cell_type": "code",
   "execution_count": 23,
   "metadata": {},
   "outputs": [],
   "source": [
    "subdf_wo_catalyst = number_input_different(binding_wo_catalyst, homologues=False)\n",
    "subdf_w_catalyst = number_input_different(binding_w_catalyst, homologues=False, catalyst=True)"
   ]
  },
  {
   "cell_type": "code",
   "execution_count": 24,
   "metadata": {},
   "outputs": [],
   "source": [
    "subdf_wo_catalyst = subdf_wo_catalyst[['substrate_name', 'substrate_label', 'substrate_form', 'output1_newID', 'product_name']]\n",
    "subdf_w_catalyst = subdf_w_catalyst[['substrate_name', 'substrate_label', 'substrate_form', 'output1_newID', 'product_name']]"
   ]
  },
  {
   "cell_type": "code",
   "execution_count": 25,
   "metadata": {},
   "outputs": [],
   "source": [
    "new_subdf = pd.concat([subdf_wo_catalyst, subdf_w_catalyst])"
   ]
  },
  {
   "cell_type": "code",
   "execution_count": 26,
   "metadata": {},
   "outputs": [],
   "source": [
    "new_subdf.drop_duplicates('product_name', keep='first', inplace=True)"
   ]
  },
  {
   "cell_type": "code",
   "execution_count": 27,
   "metadata": {},
   "outputs": [
    {
     "data": {
      "text/html": [
       "<div>\n",
       "<style scoped>\n",
       "    .dataframe tbody tr th:only-of-type {\n",
       "        vertical-align: middle;\n",
       "    }\n",
       "\n",
       "    .dataframe tbody tr th {\n",
       "        vertical-align: top;\n",
       "    }\n",
       "\n",
       "    .dataframe thead th {\n",
       "        text-align: right;\n",
       "    }\n",
       "</style>\n",
       "<table border=\"1\" class=\"dataframe\">\n",
       "  <thead>\n",
       "    <tr style=\"text-align: right;\">\n",
       "      <th></th>\n",
       "      <th>substrate_name</th>\n",
       "      <th>substrate_label</th>\n",
       "      <th>substrate_form</th>\n",
       "      <th>output1_newID</th>\n",
       "      <th>product_name</th>\n",
       "    </tr>\n",
       "  </thead>\n",
       "  <tbody>\n",
       "    <tr>\n",
       "      <th>5</th>\n",
       "      <td>[CTR, ETR]</td>\n",
       "      <td>[PlantCoding, PlantCoding]</td>\n",
       "      <td>[protein_active, protein_active]</td>\n",
       "      <td>CTR|ETR</td>\n",
       "      <td>CTR|ETR</td>\n",
       "    </tr>\n",
       "    <tr>\n",
       "      <th>7</th>\n",
       "      <td>[ET, ETR]</td>\n",
       "      <td>[Metabolite, PlantCoding]</td>\n",
       "      <td>[metabolite, protein_active]</td>\n",
       "      <td>ET|ETR</td>\n",
       "      <td>ET|ETR</td>\n",
       "    </tr>\n",
       "    <tr>\n",
       "      <th>10</th>\n",
       "      <td>[ETP, SCF]</td>\n",
       "      <td>[PlantCoding, Complex]</td>\n",
       "      <td>[protein, complex]</td>\n",
       "      <td>ETP|SCF</td>\n",
       "      <td>ETP|SCF</td>\n",
       "    </tr>\n",
       "    <tr>\n",
       "      <th>15</th>\n",
       "      <td>[EBF, SCF]</td>\n",
       "      <td>[PlantCoding, Complex]</td>\n",
       "      <td>[protein, complex]</td>\n",
       "      <td>EBF|SCF</td>\n",
       "      <td>EBF|SCF</td>\n",
       "    </tr>\n",
       "    <tr>\n",
       "      <th>17</th>\n",
       "      <td>[JAZ, EIN3(like)]</td>\n",
       "      <td>[PlantCoding, PlantCoding]</td>\n",
       "      <td>[protein, protein_active]</td>\n",
       "      <td>EIN3(like)|JAZ</td>\n",
       "      <td>EIN3(like)|JAZ</td>\n",
       "    </tr>\n",
       "  </tbody>\n",
       "</table>\n",
       "</div>"
      ],
      "text/plain": [
       "       substrate_name             substrate_label  \\\n",
       "5          [CTR, ETR]  [PlantCoding, PlantCoding]   \n",
       "7           [ET, ETR]   [Metabolite, PlantCoding]   \n",
       "10         [ETP, SCF]      [PlantCoding, Complex]   \n",
       "15         [EBF, SCF]      [PlantCoding, Complex]   \n",
       "17  [JAZ, EIN3(like)]  [PlantCoding, PlantCoding]   \n",
       "\n",
       "                      substrate_form   output1_newID    product_name  \n",
       "5   [protein_active, protein_active]         CTR|ETR         CTR|ETR  \n",
       "7       [metabolite, protein_active]          ET|ETR          ET|ETR  \n",
       "10                [protein, complex]         ETP|SCF         ETP|SCF  \n",
       "15                [protein, complex]         EBF|SCF         EBF|SCF  \n",
       "17         [protein, protein_active]  EIN3(like)|JAZ  EIN3(like)|JAZ  "
      ]
     },
     "execution_count": 27,
     "metadata": {},
     "output_type": "execute_result"
    }
   ],
   "source": [
    "new_subdf.head()"
   ]
  },
  {
   "cell_type": "code",
   "execution_count": 28,
   "metadata": {},
   "outputs": [],
   "source": [
    "binding_defined_complexes = set(new_subdf['product_name'].values)"
   ]
  },
  {
   "cell_type": "code",
   "execution_count": 29,
   "metadata": {},
   "outputs": [
    {
     "data": {
      "text/plain": [
       "85"
      ]
     },
     "execution_count": 29,
     "metadata": {},
     "output_type": "execute_result"
    }
   ],
   "source": [
    "len(binding_defined_complexes)"
   ]
  },
  {
   "cell_type": "code",
   "execution_count": 30,
   "metadata": {},
   "outputs": [],
   "source": [
    "# other complexes\n",
    "other_complexes = set()\n",
    "for i , row in df_new_complex.iterrows():\n",
    "    for col_prefix in ['input1', 'input2', 'input3', 'output1']:\n",
    "        if row[col_prefix + \"_label\"] == 'Complex':\n",
    "            c = row[col_prefix + \"_newID\"]\n",
    "            if not ((c in binding_defined_complexes) or (c in already_defined_complexes)):\n",
    "                other_complexes.add(row[col_prefix + \"_newID\"])"
   ]
  },
  {
   "cell_type": "code",
   "execution_count": 31,
   "metadata": {},
   "outputs": [
    {
     "data": {
      "text/plain": [
       "{'CAM|Ca2+',\n",
       " 'COI1|OMR1',\n",
       " 'EDS1|NPR1|TGA2,5,6',\n",
       " 'EDS5|NPR1|TGA2,5,6',\n",
       " 'GSTU24|ROS',\n",
       " 'NPR1|PAD4|TGA2,5,6'}"
      ]
     },
     "execution_count": 31,
     "metadata": {},
     "output_type": "execute_result"
    }
   ],
   "source": [
    "other_complexes"
   ]
  },
  {
   "cell_type": "code",
   "execution_count": 32,
   "metadata": {},
   "outputs": [],
   "source": [
    "other_complexes = pd.DataFrame(other_complexes, columns=['output1_newID'])"
   ]
  },
  {
   "cell_type": "code",
   "execution_count": 33,
   "metadata": {},
   "outputs": [],
   "source": [
    "def get_subunits(x):\n",
    "    if '|' in x:\n",
    "        return x.split('|')\n",
    "    else:\n",
    "        return []"
   ]
  },
  {
   "cell_type": "code",
   "execution_count": 34,
   "metadata": {},
   "outputs": [],
   "source": [
    "other_complexes['substrate_og_name'] = other_complexes['output1_newID'].apply(get_subunits)\n",
    "other_complexes['substrate_form'] = other_complexes['substrate_og_name'].apply(lambda x: [\"\" for c in x])\n",
    "other_complexes['product_name'] = other_complexes['output1_newID']"
   ]
  },
  {
   "cell_type": "code",
   "execution_count": 35,
   "metadata": {},
   "outputs": [
    {
     "data": {
      "text/html": [
       "<div>\n",
       "<style scoped>\n",
       "    .dataframe tbody tr th:only-of-type {\n",
       "        vertical-align: middle;\n",
       "    }\n",
       "\n",
       "    .dataframe tbody tr th {\n",
       "        vertical-align: top;\n",
       "    }\n",
       "\n",
       "    .dataframe thead th {\n",
       "        text-align: right;\n",
       "    }\n",
       "</style>\n",
       "<table border=\"1\" class=\"dataframe\">\n",
       "  <thead>\n",
       "    <tr style=\"text-align: right;\">\n",
       "      <th></th>\n",
       "      <th>output1_newID</th>\n",
       "      <th>substrate_og_name</th>\n",
       "      <th>substrate_form</th>\n",
       "      <th>product_name</th>\n",
       "    </tr>\n",
       "  </thead>\n",
       "  <tbody>\n",
       "    <tr>\n",
       "      <th>0</th>\n",
       "      <td>GSTU24|ROS</td>\n",
       "      <td>[GSTU24, ROS]</td>\n",
       "      <td>[, ]</td>\n",
       "      <td>GSTU24|ROS</td>\n",
       "    </tr>\n",
       "    <tr>\n",
       "      <th>1</th>\n",
       "      <td>EDS1|NPR1|TGA2,5,6</td>\n",
       "      <td>[EDS1, NPR1, TGA2,5,6]</td>\n",
       "      <td>[, , ]</td>\n",
       "      <td>EDS1|NPR1|TGA2,5,6</td>\n",
       "    </tr>\n",
       "    <tr>\n",
       "      <th>2</th>\n",
       "      <td>CAM|Ca2+</td>\n",
       "      <td>[CAM, Ca2+]</td>\n",
       "      <td>[, ]</td>\n",
       "      <td>CAM|Ca2+</td>\n",
       "    </tr>\n",
       "    <tr>\n",
       "      <th>3</th>\n",
       "      <td>EDS5|NPR1|TGA2,5,6</td>\n",
       "      <td>[EDS5, NPR1, TGA2,5,6]</td>\n",
       "      <td>[, , ]</td>\n",
       "      <td>EDS5|NPR1|TGA2,5,6</td>\n",
       "    </tr>\n",
       "    <tr>\n",
       "      <th>4</th>\n",
       "      <td>COI1|OMR1</td>\n",
       "      <td>[COI1, OMR1]</td>\n",
       "      <td>[, ]</td>\n",
       "      <td>COI1|OMR1</td>\n",
       "    </tr>\n",
       "    <tr>\n",
       "      <th>5</th>\n",
       "      <td>NPR1|PAD4|TGA2,5,6</td>\n",
       "      <td>[NPR1, PAD4, TGA2,5,6]</td>\n",
       "      <td>[, , ]</td>\n",
       "      <td>NPR1|PAD4|TGA2,5,6</td>\n",
       "    </tr>\n",
       "  </tbody>\n",
       "</table>\n",
       "</div>"
      ],
      "text/plain": [
       "        output1_newID       substrate_og_name substrate_form  \\\n",
       "0          GSTU24|ROS           [GSTU24, ROS]           [, ]   \n",
       "1  EDS1|NPR1|TGA2,5,6  [EDS1, NPR1, TGA2,5,6]         [, , ]   \n",
       "2            CAM|Ca2+             [CAM, Ca2+]           [, ]   \n",
       "3  EDS5|NPR1|TGA2,5,6  [EDS5, NPR1, TGA2,5,6]         [, , ]   \n",
       "4           COI1|OMR1            [COI1, OMR1]           [, ]   \n",
       "5  NPR1|PAD4|TGA2,5,6  [NPR1, PAD4, TGA2,5,6]         [, , ]   \n",
       "\n",
       "         product_name  \n",
       "0          GSTU24|ROS  \n",
       "1  EDS1|NPR1|TGA2,5,6  \n",
       "2            CAM|Ca2+  \n",
       "3  EDS5|NPR1|TGA2,5,6  \n",
       "4           COI1|OMR1  \n",
       "5  NPR1|PAD4|TGA2,5,6  "
      ]
     },
     "execution_count": 35,
     "metadata": {},
     "output_type": "execute_result"
    }
   ],
   "source": [
    "other_complexes"
   ]
  },
  {
   "cell_type": "code",
   "execution_count": 36,
   "metadata": {},
   "outputs": [],
   "source": [
    "def get_name(ids_):\n",
    "    names = []\n",
    "    for x in ids_:\n",
    "        label1 = node_id_to_node_label(x)\n",
    "        if not (label1 == ''):\n",
    "            names.append(x)\n",
    "        else:\n",
    "            if x in clade_to_family:\n",
    "                names.append(clade_to_family[x])\n",
    "                print('using as clade id to get family\\t', x, \"\\t\", clade_to_family[x])\n",
    "\n",
    "            elif x in node_to_family:\n",
    "                names.append(node_to_family[x])\n",
    "                print('using as node id to get family\\t', x, \"\\t\", node_to_family[x])\n",
    "\n",
    "            else:\n",
    "                names.append(x)\n",
    "    \n",
    "    return names"
   ]
  },
  {
   "cell_type": "code",
   "execution_count": 37,
   "metadata": {},
   "outputs": [],
   "source": [
    "def components_missing_label(ids_):\n",
    "    labels = []\n",
    "    for x in ids_:\n",
    "        label1 = node_id_to_node_label(x)\n",
    "        if label1 == '':\n",
    "            if x in clade_to_family:\n",
    "                label1 = node_id_to_node_label(clade_to_family[x])\n",
    "                print('using as clade id to get family label\\t', x, \"\\t\", label1)\n",
    "            elif x in node_to_family:\n",
    "                label1 = node_id_to_node_label(node_to_family[x])\n",
    "                print('using as node id to get family label\\t', x, \"\\t\", label1)\n",
    "        \n",
    "        if label == '':\n",
    "            print(x)\n",
    "        labels.append(label1)\n",
    "    return labels\n"
   ]
  },
  {
   "cell_type": "code",
   "execution_count": 38,
   "metadata": {},
   "outputs": [
    {
     "name": "stdout",
     "output_type": "stream",
     "text": [
      "GSTU24 [] no hit\n",
      "using as node id to get family\t GSTU24 \t GST\n",
      "NPR1 [] no hit\n",
      "using as node id to get family\t NPR1 \t NPR\n",
      "TGA2,5,6 [] no hit\n",
      "using as clade id to get family\t TGA2,5,6 \t TGA\n",
      "NPR1 [] no hit\n",
      "using as node id to get family\t NPR1 \t NPR\n",
      "TGA2,5,6 [] no hit\n",
      "using as clade id to get family\t TGA2,5,6 \t TGA\n",
      "OMR1 [] no hit\n",
      "using as clade id to get family\t OMR1 \t OMR\n",
      "NPR1 [] no hit\n",
      "using as node id to get family\t NPR1 \t NPR\n",
      "TGA2,5,6 [] no hit\n",
      "using as clade id to get family\t TGA2,5,6 \t TGA\n"
     ]
    }
   ],
   "source": [
    "other_complexes['substrate_name'] = other_complexes['substrate_og_name'].apply(get_name)\n",
    "other_complexes['substrate_label'] = other_complexes['substrate_name'].apply(components_missing_label)"
   ]
  },
  {
   "cell_type": "code",
   "execution_count": 39,
   "metadata": {},
   "outputs": [],
   "source": [
    "del other_complexes['substrate_og_name']"
   ]
  },
  {
   "cell_type": "code",
   "execution_count": 40,
   "metadata": {
    "scrolled": true
   },
   "outputs": [],
   "source": [
    "new_complexes = other_complexes.append(new_subdf, sort=True)"
   ]
  },
  {
   "cell_type": "code",
   "execution_count": 41,
   "metadata": {},
   "outputs": [
    {
     "data": {
      "text/plain": [
       "Index(['output1_newID', 'product_name', 'substrate_form', 'substrate_label',\n",
       "       'substrate_name'],\n",
       "      dtype='object')"
      ]
     },
     "execution_count": 41,
     "metadata": {},
     "output_type": "execute_result"
    }
   ],
   "source": [
    "new_complexes.columns"
   ]
  },
  {
   "cell_type": "code",
   "execution_count": 42,
   "metadata": {},
   "outputs": [],
   "source": [
    "# save new complexes \n",
    "label = 'Complex'\n",
    "f = f'{label}-new-components.tsv'\n",
    "want_cols = 'product_name'\n",
    "new_complexes[want_cols].to_csv(f'../data/import/{f}', sep=\"\\t\", index=None, header=True)"
   ]
  },
  {
   "cell_type": "code",
   "execution_count": 43,
   "metadata": {},
   "outputs": [
    {
     "name": "stdout",
     "output_type": "stream",
     "text": [
      "91\n"
     ]
    }
   ],
   "source": [
    "print(new_complexes.shape[0])"
   ]
  },
  {
   "cell_type": "code",
   "execution_count": null,
   "metadata": {},
   "outputs": [],
   "source": []
  },
  {
   "cell_type": "code",
   "execution_count": 44,
   "metadata": {
    "scrolled": true
   },
   "outputs": [],
   "source": [
    "query = helpers.bioelement_node_query(f, \"Complex\", \n",
    "                           n_name=\"line.product_name\")\n",
    "#print(query)\n",
    "qr = graph.run(query)\n",
    "if not new_complexes.shape[0] == qr.stats()['nodes_created']:\n",
    "     raise Exception"
   ]
  },
  {
   "cell_type": "code",
   "execution_count": 45,
   "metadata": {},
   "outputs": [],
   "source": [
    "exploded_new_subdf = helpers.unnesting(new_complexes, ['substrate_name', 'substrate_label', 'substrate_form']).drop_duplicates()"
   ]
  },
  {
   "cell_type": "code",
   "execution_count": 46,
   "metadata": {},
   "outputs": [
    {
     "data": {
      "text/html": [
       "<div>\n",
       "<style scoped>\n",
       "    .dataframe tbody tr th:only-of-type {\n",
       "        vertical-align: middle;\n",
       "    }\n",
       "\n",
       "    .dataframe tbody tr th {\n",
       "        vertical-align: top;\n",
       "    }\n",
       "\n",
       "    .dataframe thead th {\n",
       "        text-align: right;\n",
       "    }\n",
       "</style>\n",
       "<table border=\"1\" class=\"dataframe\">\n",
       "  <thead>\n",
       "    <tr style=\"text-align: right;\">\n",
       "      <th></th>\n",
       "      <th>substrate_name</th>\n",
       "      <th>substrate_label</th>\n",
       "      <th>substrate_form</th>\n",
       "      <th>output1_newID</th>\n",
       "      <th>product_name</th>\n",
       "    </tr>\n",
       "  </thead>\n",
       "  <tbody>\n",
       "    <tr>\n",
       "      <th>318</th>\n",
       "      <td>&amp;alpha;/&amp;beta; hydroxylase</td>\n",
       "      <td>PlantCoding</td>\n",
       "      <td>protein_active</td>\n",
       "      <td>D14|MAX2|SCF</td>\n",
       "      <td>D14|MAX2|SCF</td>\n",
       "    </tr>\n",
       "    <tr>\n",
       "      <th>318</th>\n",
       "      <td>F-box/LRR-repeat</td>\n",
       "      <td>PlantCoding</td>\n",
       "      <td>protein_active</td>\n",
       "      <td>D14|MAX2|SCF</td>\n",
       "      <td>D14|MAX2|SCF</td>\n",
       "    </tr>\n",
       "    <tr>\n",
       "      <th>318</th>\n",
       "      <td>SCF</td>\n",
       "      <td>Complex</td>\n",
       "      <td>complex</td>\n",
       "      <td>D14|MAX2|SCF</td>\n",
       "      <td>D14|MAX2|SCF</td>\n",
       "    </tr>\n",
       "  </tbody>\n",
       "</table>\n",
       "</div>"
      ],
      "text/plain": [
       "                 substrate_name substrate_label  substrate_form output1_newID  \\\n",
       "318  &alpha;/&beta; hydroxylase     PlantCoding  protein_active  D14|MAX2|SCF   \n",
       "318            F-box/LRR-repeat     PlantCoding  protein_active  D14|MAX2|SCF   \n",
       "318                         SCF         Complex         complex  D14|MAX2|SCF   \n",
       "\n",
       "     product_name  \n",
       "318  D14|MAX2|SCF  \n",
       "318  D14|MAX2|SCF  \n",
       "318  D14|MAX2|SCF  "
      ]
     },
     "execution_count": 46,
     "metadata": {},
     "output_type": "execute_result"
    }
   ],
   "source": [
    "exploded_new_subdf[exploded_new_subdf['product_name']=='D14|MAX2|SCF']"
   ]
  },
  {
   "cell_type": "code",
   "execution_count": 47,
   "metadata": {},
   "outputs": [
    {
     "data": {
      "text/html": [
       "<div>\n",
       "<style scoped>\n",
       "    .dataframe tbody tr th:only-of-type {\n",
       "        vertical-align: middle;\n",
       "    }\n",
       "\n",
       "    .dataframe tbody tr th {\n",
       "        vertical-align: top;\n",
       "    }\n",
       "\n",
       "    .dataframe thead th {\n",
       "        text-align: right;\n",
       "    }\n",
       "</style>\n",
       "<table border=\"1\" class=\"dataframe\">\n",
       "  <thead>\n",
       "    <tr style=\"text-align: right;\">\n",
       "      <th></th>\n",
       "      <th>substrate_name</th>\n",
       "      <th>substrate_label</th>\n",
       "      <th>substrate_form</th>\n",
       "      <th>output1_newID</th>\n",
       "      <th>product_name</th>\n",
       "    </tr>\n",
       "  </thead>\n",
       "  <tbody>\n",
       "    <tr>\n",
       "      <th>312</th>\n",
       "      <td>CAT</td>\n",
       "      <td>PlantCoding</td>\n",
       "      <td>protein</td>\n",
       "      <td>ACX3|CAT2</td>\n",
       "      <td>ACX3|CAT2</td>\n",
       "    </tr>\n",
       "    <tr>\n",
       "      <th>312</th>\n",
       "      <td>ACX</td>\n",
       "      <td>PlantCoding</td>\n",
       "      <td>protein</td>\n",
       "      <td>ACX3|CAT2</td>\n",
       "      <td>ACX3|CAT2</td>\n",
       "    </tr>\n",
       "    <tr>\n",
       "      <th>318</th>\n",
       "      <td>&amp;alpha;/&amp;beta; hydroxylase</td>\n",
       "      <td>PlantCoding</td>\n",
       "      <td>protein_active</td>\n",
       "      <td>D14|MAX2|SCF</td>\n",
       "      <td>D14|MAX2|SCF</td>\n",
       "    </tr>\n",
       "    <tr>\n",
       "      <th>318</th>\n",
       "      <td>F-box/LRR-repeat</td>\n",
       "      <td>PlantCoding</td>\n",
       "      <td>protein_active</td>\n",
       "      <td>D14|MAX2|SCF</td>\n",
       "      <td>D14|MAX2|SCF</td>\n",
       "    </tr>\n",
       "    <tr>\n",
       "      <th>318</th>\n",
       "      <td>SCF</td>\n",
       "      <td>Complex</td>\n",
       "      <td>complex</td>\n",
       "      <td>D14|MAX2|SCF</td>\n",
       "      <td>D14|MAX2|SCF</td>\n",
       "    </tr>\n",
       "  </tbody>\n",
       "</table>\n",
       "</div>"
      ],
      "text/plain": [
       "                 substrate_name substrate_label  substrate_form output1_newID  \\\n",
       "312                         CAT     PlantCoding         protein     ACX3|CAT2   \n",
       "312                         ACX     PlantCoding         protein     ACX3|CAT2   \n",
       "318  &alpha;/&beta; hydroxylase     PlantCoding  protein_active  D14|MAX2|SCF   \n",
       "318            F-box/LRR-repeat     PlantCoding  protein_active  D14|MAX2|SCF   \n",
       "318                         SCF         Complex         complex  D14|MAX2|SCF   \n",
       "\n",
       "     product_name  \n",
       "312     ACX3|CAT2  \n",
       "312     ACX3|CAT2  \n",
       "318  D14|MAX2|SCF  \n",
       "318  D14|MAX2|SCF  \n",
       "318  D14|MAX2|SCF  "
      ]
     },
     "execution_count": 47,
     "metadata": {},
     "output_type": "execute_result"
    }
   ],
   "source": [
    "exploded_new_subdf.tail()"
   ]
  },
  {
   "cell_type": "code",
   "execution_count": 48,
   "metadata": {},
   "outputs": [
    {
     "name": "stdout",
     "output_type": "stream",
     "text": [
      "Complex 16 16\n",
      "ForeignCoding 29 29\n",
      "ForeignEntity 2 2\n",
      "Metabolite 10 10\n",
      "MetaboliteFamily 1 1\n",
      "PlantAbstract 4 4\n",
      "PlantCoding 128 128\n",
      "Process 2 2\n"
     ]
    }
   ],
   "source": [
    "# component to complex edges\n",
    "edge_type = 'COMPONENT_OF'\n",
    "want_cols = ['substrate_name', 'substrate_form', 'substrate_label', 'product_name']\n",
    "\n",
    "for t, this_subdf in exploded_new_subdf[exploded_new_subdf['substrate_label'].isin(helpers.node_labels)].groupby(\"substrate_label\"):\n",
    "    f = f'{edge_type}-{label}-{t}-edges.tsv'  \n",
    "    this_subdf[want_cols].to_csv(f\"../data/import/{f}\", index=None, sep=\"\\t\")\n",
    "\n",
    "    query = helpers.make_create_type_of_edge_query(f, 'COMPONENT_OF',\n",
    "                           source_label=t, target_label=\"Complex\",\n",
    "                           source_name=\"line.substrate_name\", target_name=\"line.product_name\",\n",
    "                           #source_form=\"line.substrate_form\"\n",
    "                          )\n",
    "    #print(query)\n",
    "    qr = graph.run(query)\n",
    "\n",
    "    print(t, this_subdf.shape[0], qr.stats()['relationships_created'])    \n",
    "    if not this_subdf.shape[0] == qr.stats()['relationships_created']:\n",
    "        print(\"\\tnot all edges created\")"
   ]
  },
  {
   "cell_type": "markdown",
   "metadata": {},
   "source": [
    "# END "
   ]
  },
  {
   "cell_type": "code",
   "execution_count": null,
   "metadata": {},
   "outputs": [],
   "source": []
  }
 ],
 "metadata": {
  "kernelspec": {
   "display_name": "Python 3",
   "language": "python",
   "name": "python3"
  },
  "language_info": {
   "codemirror_mode": {
    "name": "ipython",
    "version": 3
   },
   "file_extension": ".py",
   "mimetype": "text/x-python",
   "name": "python",
   "nbconvert_exporter": "python",
   "pygments_lexer": "ipython3",
   "version": "3.9.2"
  }
 },
 "nbformat": 4,
 "nbformat_minor": 2
}
