{
 "cells": [
  {
   "cell_type": "code",
   "execution_count": 1,
   "metadata": {},
   "outputs": [
    {
     "data": {
      "text/html": [
       "<style>.container { width:80% !important; }</style>"
      ],
      "text/plain": [
       "<IPython.core.display.HTML object>"
      ]
     },
     "metadata": {},
     "output_type": "display_data"
    }
   ],
   "source": [
    "from IPython.core.display import display, HTML\n",
    "display(HTML(\"<style>.container { width:80% !important; }</style>\"))"
   ]
  },
  {
   "cell_type": "markdown",
   "metadata": {},
   "source": [
    "# Import neo4j DB: 4/4\n",
    "\n",
    "Code to translate v2.7.4_PIS-model.xlsx to neo4j database. "
   ]
  },
  {
   "cell_type": "markdown",
   "metadata": {},
   "source": [
    "## Setup"
   ]
  },
  {
   "cell_type": "code",
   "execution_count": 2,
   "metadata": {},
   "outputs": [
    {
     "data": {
      "text/html": [
       "<style>.container { width:80% !important; }</style>"
      ],
      "text/plain": [
       "<IPython.core.display.HTML object>"
      ]
     },
     "metadata": {},
     "output_type": "display_data"
    }
   ],
   "source": [
    "from IPython.core.display import display, HTML\n",
    "display(HTML(\"<style>.container { width:80% !important; }</style>\"))"
   ]
  },
  {
   "cell_type": "code",
   "execution_count": 3,
   "metadata": {},
   "outputs": [],
   "source": [
    "import pandas as pd\n",
    "import re\n",
    "import numpy as np\n",
    "import os\n",
    "from IPython.display import Image\n",
    "from IPython.display import display"
   ]
  },
  {
   "cell_type": "code",
   "execution_count": 4,
   "metadata": {},
   "outputs": [],
   "source": [
    "from py2neo import Graph, Node, Relationship"
   ]
  },
  {
   "cell_type": "code",
   "execution_count": 5,
   "metadata": {},
   "outputs": [],
   "source": [
    "import helpers"
   ]
  },
  {
   "cell_type": "code",
   "execution_count": 6,
   "metadata": {},
   "outputs": [],
   "source": [
    "from importlib import reload"
   ]
  },
  {
   "cell_type": "markdown",
   "metadata": {},
   "source": [
    "Connect to graph via docker-compose link. See http://localhost:7474/browser/"
   ]
  },
  {
   "cell_type": "code",
   "execution_count": 7,
   "metadata": {},
   "outputs": [],
   "source": [
    "graph = Graph(host=\"neo4j\")"
   ]
  },
  {
   "cell_type": "code",
   "execution_count": 8,
   "metadata": {},
   "outputs": [],
   "source": [
    "from pathlib import Path\n",
    "\n",
    "base_path = Path(\"..\")\n",
    "parsed_path = base_path / \"data\" / \"parsed\""
   ]
  },
  {
   "cell_type": "markdown",
   "metadata": {},
   "source": [
    "## Components summary"
   ]
  },
  {
   "cell_type": "code",
   "execution_count": 9,
   "metadata": {},
   "outputs": [],
   "source": [
    "q = '''MATCH (n) RETURN DISTINCT n.name AS name'''\n",
    "nodes = graph.run(q).data()\n",
    "all_nodes_in_components = set([(d[\"name\"]) for d in nodes])"
   ]
  },
  {
   "cell_type": "code",
   "execution_count": 10,
   "metadata": {},
   "outputs": [
    {
     "data": {
      "text/plain": [
       "{'&alpha;/&beta; hydroxylase',\n",
       " '&beta;-carotene isomerase',\n",
       " '12,13-EOT',\n",
       " '12-OH-JA-Ile',\n",
       " '13-HPOT',\n",
       " '4CLL',\n",
       " '6K1',\n",
       " '6K2',\n",
       " '9-cis-&beta;-carotene',\n",
       " '9-cis-10&prime;-apo-&beta;-carotenal',\n",
       " 'AAO',\n",
       " 'ACC',\n",
       " 'ACH',\n",
       " 'ACO',\n",
       " 'ACS',\n",
       " 'ACX',\n",
       " 'ADK',\n",
       " 'ADP',\n",
       " 'ADT',\n",
       " 'AGO',\n",
       " 'AHK',\n",
       " 'AHP',\n",
       " 'AMP',\n",
       " 'AOC',\n",
       " 'AOS',\n",
       " 'AOX',\n",
       " 'APT',\n",
       " 'APX',\n",
       " 'ARF',\n",
       " 'ARR',\n",
       " 'ASK',\n",
       " 'ATP',\n",
       " 'ATPB',\n",
       " 'AUX-signalling',\n",
       " 'Ade',\n",
       " 'Ado',\n",
       " 'Anthocyanin-accumulation',\n",
       " 'BA',\n",
       " 'BA2H',\n",
       " 'BG',\n",
       " 'BIK1',\n",
       " 'BR1',\n",
       " 'CAM',\n",
       " 'CAMTA',\n",
       " 'CAT',\n",
       " 'CBP60G',\n",
       " 'CCD',\n",
       " 'CDPK',\n",
       " 'CI',\n",
       " 'CKX',\n",
       " 'CL',\n",
       " 'CLA',\n",
       " 'CLH',\n",
       " 'CM',\n",
       " 'CO',\n",
       " 'CO2-deficiency',\n",
       " 'COI1',\n",
       " 'CP',\n",
       " 'CPS',\n",
       " 'CRT',\n",
       " 'CTR',\n",
       " 'CTS',\n",
       " 'CUL',\n",
       " 'CYP',\n",
       " 'CYP71B',\n",
       " 'CYP735',\n",
       " 'CYP94',\n",
       " 'Ca2+',\n",
       " 'Chor',\n",
       " 'Class I Clp ATPase',\n",
       " 'Cu2+',\n",
       " 'DAMP/HAMP',\n",
       " 'DELLA',\n",
       " 'DMAPP',\n",
       " 'DXPS',\n",
       " 'DZ',\n",
       " 'DZ7G',\n",
       " 'DZ9G',\n",
       " 'DZOG',\n",
       " 'DZR',\n",
       " 'DZRMP',\n",
       " 'DZROG',\n",
       " 'EBF',\n",
       " 'EDS1',\n",
       " 'EDS5',\n",
       " 'EIN2',\n",
       " 'EIN3(like)',\n",
       " 'ERF',\n",
       " 'ERF/EDF',\n",
       " 'ESP/NSP',\n",
       " 'ET',\n",
       " 'ETP',\n",
       " 'ETR',\n",
       " 'F-box/LRR-repeat',\n",
       " 'GA1',\n",
       " 'GA1-methylester',\n",
       " 'GA12',\n",
       " 'GA20',\n",
       " 'GA20ox',\n",
       " 'GA2ox',\n",
       " 'GA3',\n",
       " 'GA3-methylester',\n",
       " 'GA34',\n",
       " 'GA3ox',\n",
       " 'GA4',\n",
       " 'GA4-methylester',\n",
       " 'GA8',\n",
       " 'GA9',\n",
       " 'GAMT',\n",
       " 'GID',\n",
       " 'GPX',\n",
       " 'GRAS',\n",
       " 'GRX',\n",
       " 'GSNO',\n",
       " 'GST',\n",
       " 'Geranylgeranyl-PP',\n",
       " 'Glu',\n",
       " 'H2O',\n",
       " 'H2O2',\n",
       " 'HC-Pro',\n",
       " 'HECT',\n",
       " 'HLS',\n",
       " 'HMA',\n",
       " 'HMBDP',\n",
       " 'HMGR',\n",
       " 'HO2.',\n",
       " 'HSP',\n",
       " 'IAA29',\n",
       " 'ICS',\n",
       " 'IEGT',\n",
       " 'IPL',\n",
       " 'IPT',\n",
       " 'ISPH',\n",
       " 'Ile',\n",
       " 'IsoChor',\n",
       " 'JA',\n",
       " 'JA-CoA',\n",
       " 'JA-Ile',\n",
       " 'JAL',\n",
       " 'JAM',\n",
       " 'JAR',\n",
       " 'JAZ',\n",
       " 'JMT',\n",
       " 'KAO',\n",
       " 'KAT',\n",
       " 'KO',\n",
       " 'KS',\n",
       " 'L-Met',\n",
       " 'LOG',\n",
       " 'LOX',\n",
       " 'LRR-BAK1',\n",
       " 'LRR-FLS2',\n",
       " 'LSD1',\n",
       " 'MAPK',\n",
       " 'MAPKKK',\n",
       " 'MES',\n",
       " 'MFP',\n",
       " 'MIND1',\n",
       " 'MIR390',\n",
       " 'MKK',\n",
       " 'MKS1',\n",
       " 'MOS',\n",
       " 'MYB',\n",
       " 'MYC',\n",
       " 'MeJA',\n",
       " 'MeSA',\n",
       " 'NAC',\n",
       " 'NADPH',\n",
       " 'NADPH-dehydrogenase',\n",
       " 'NADPH-oxidase',\n",
       " 'NDR',\n",
       " 'NIMIN',\n",
       " 'NIa-Pro',\n",
       " 'NIb',\n",
       " 'NPH3',\n",
       " 'NPR',\n",
       " 'O2',\n",
       " 'O2.-',\n",
       " 'O3',\n",
       " 'OBE',\n",
       " 'OG',\n",
       " 'OH.',\n",
       " 'OMR',\n",
       " 'OPC4-CoA',\n",
       " 'OPC6-CoA',\n",
       " 'OPC8',\n",
       " 'OPC8-CoA',\n",
       " 'OPDA',\n",
       " 'OPR',\n",
       " 'OrthoCA',\n",
       " 'P1',\n",
       " 'P3',\n",
       " 'P3N-PIPO',\n",
       " 'PA',\n",
       " 'PAA',\n",
       " 'PAD4',\n",
       " 'PAL',\n",
       " 'PBB',\n",
       " 'PBE',\n",
       " 'PDF1',\n",
       " 'PPL',\n",
       " 'PR1',\n",
       " 'PR13',\n",
       " 'PR3',\n",
       " 'PR4',\n",
       " 'PR5',\n",
       " 'PSAK',\n",
       " 'PUFA:LA',\n",
       " 'PheAla',\n",
       " 'PhePyr',\n",
       " 'PostROS',\n",
       " 'PreROS',\n",
       " 'Prep',\n",
       " 'R-gene',\n",
       " 'RANGAP',\n",
       " 'RAR1',\n",
       " 'RBCL',\n",
       " 'RBCS',\n",
       " 'RBX',\n",
       " 'RH',\n",
       " 'RIN4',\n",
       " 'RNA-silencing',\n",
       " 'ROS',\n",
       " 'ROS-production',\n",
       " 'RPL17',\n",
       " 'RPL7',\n",
       " 'RTE1',\n",
       " 'SA',\n",
       " 'SAG',\n",
       " 'SAG101',\n",
       " 'SAG12',\n",
       " 'SAGT',\n",
       " 'SAHH',\n",
       " 'SAM',\n",
       " 'SAMC',\n",
       " 'SAMe',\n",
       " 'SCF',\n",
       " 'SEN4',\n",
       " 'SGE',\n",
       " 'SGT1',\n",
       " 'SL',\n",
       " 'SLY',\n",
       " 'SLs',\n",
       " 'SOD',\n",
       " 'TAS3',\n",
       " 'TDX',\n",
       " 'TGA',\n",
       " 'TRAF',\n",
       " 'TRX-H',\n",
       " 'Thr',\n",
       " 'TransCA',\n",
       " 'Trichome-initiation',\n",
       " 'UDP glucose',\n",
       " 'UGT73',\n",
       " 'UGT76',\n",
       " 'UGT77',\n",
       " 'UGT85',\n",
       " 'VDAC1',\n",
       " 'VPg',\n",
       " 'VSP',\n",
       " 'WAK',\n",
       " 'WD/bHLH/MYB',\n",
       " 'WD40',\n",
       " 'WRKY',\n",
       " 'X1',\n",
       " 'X2',\n",
       " 'X3',\n",
       " 'X4',\n",
       " 'XRN',\n",
       " 'all-trans-&beta;-carotene',\n",
       " 'alpha-linolenic-acid',\n",
       " 'anthocyanin',\n",
       " 'bHLH',\n",
       " 'cZ',\n",
       " 'cZ7G',\n",
       " 'cZ9G',\n",
       " 'cZOG',\n",
       " 'cZR',\n",
       " 'cZRMP',\n",
       " 'cZROG',\n",
       " 'ch',\n",
       " 'cis-prenyl-tRNA',\n",
       " 'e-',\n",
       " 'elf18',\n",
       " 'ent-Copalyl-PP',\n",
       " 'ent-Kaurene',\n",
       " 'ent-Kaurenoic acid',\n",
       " 'flg22',\n",
       " 'iP',\n",
       " 'iP7G',\n",
       " 'iP9G',\n",
       " 'iPOG',\n",
       " 'iPR',\n",
       " 'iPRDP',\n",
       " 'iPRMP',\n",
       " 'iPROG',\n",
       " 'iPRTP',\n",
       " 'miR159',\n",
       " 'miR167',\n",
       " 'miR319',\n",
       " 'miR6022',\n",
       " 'oomycete',\n",
       " 'phasiRNA931',\n",
       " 'potyvirus',\n",
       " 'prenyl-tRNA',\n",
       " 'ribosome',\n",
       " 'tRNA',\n",
       " 'tZ',\n",
       " 'tZ7G',\n",
       " 'tZ9G',\n",
       " 'tZOG',\n",
       " 'tZR',\n",
       " 'tZRDP',\n",
       " 'tZRMP',\n",
       " 'tZROG',\n",
       " 'tZRP',\n",
       " 'tZRTP',\n",
       " 'trichous-bacteria',\n",
       " 'vsiRNA12986',\n",
       " 'vsiRNA34327'}"
      ]
     },
     "execution_count": 10,
     "metadata": {},
     "output_type": "execute_result"
    }
   ],
   "source": [
    "all_nodes_in_components"
   ]
  },
  {
   "cell_type": "code",
   "execution_count": 11,
   "metadata": {},
   "outputs": [
    {
     "data": {
      "text/plain": [
       "320"
      ]
     },
     "execution_count": 11,
     "metadata": {},
     "output_type": "execute_result"
    }
   ],
   "source": [
    "len(all_nodes_in_components)"
   ]
  },
  {
   "cell_type": "code",
   "execution_count": 12,
   "metadata": {},
   "outputs": [],
   "source": [
    "node_labels = helpers.node_labels"
   ]
  },
  {
   "cell_type": "code",
   "execution_count": 13,
   "metadata": {},
   "outputs": [
    {
     "name": "stdout",
     "output_type": "stream",
     "text": [
      "PlantCoding 162\n",
      "PlantNonCoding 9\n",
      "PlantAbstract 7\n",
      "Complex 3\n",
      "ExternalEntity 3\n",
      "ExternalCoding 14\n",
      "ExternalNonCoding 0\n",
      "ExternalAbstract 0\n",
      "Process 6\n",
      "MetaboliteFamily 6\n",
      "Metabolite 110\n",
      "PseudoNode 0\n"
     ]
    }
   ],
   "source": [
    "node_dict = {}\n",
    "for label in node_labels:\n",
    "    q = '''MATCH (n:%s) RETURN DISTINCT n.name'''%label\n",
    "    s = set([d['n.name'] for d in graph.run(q).data()])\n",
    "    print(label, len(s))\n",
    "    node_dict[label] = s\n"
   ]
  },
  {
   "cell_type": "code",
   "execution_count": 14,
   "metadata": {},
   "outputs": [],
   "source": [
    "all_species = ['ath', 'osa', 'stu', 'sly']"
   ]
  },
  {
   "cell_type": "markdown",
   "metadata": {},
   "source": [
    "### Reactions sheet"
   ]
  },
  {
   "cell_type": "code",
   "execution_count": 186,
   "metadata": {},
   "outputs": [],
   "source": [
    "df_edges = pd.read_csv(parsed_path / \"edges-sheet.tsv\", sep=\"\\t\", index_col=0)"
   ]
  },
  {
   "cell_type": "code",
   "execution_count": 187,
   "metadata": {},
   "outputs": [
    {
     "data": {
      "text/html": [
       "<div>\n",
       "<style scoped>\n",
       "    .dataframe tbody tr th:only-of-type {\n",
       "        vertical-align: middle;\n",
       "    }\n",
       "\n",
       "    .dataframe tbody tr th {\n",
       "        vertical-align: top;\n",
       "    }\n",
       "\n",
       "    .dataframe thead th {\n",
       "        text-align: right;\n",
       "    }\n",
       "</style>\n",
       "<table border=\"1\" class=\"dataframe\">\n",
       "  <thead>\n",
       "    <tr style=\"text-align: right;\">\n",
       "      <th></th>\n",
       "      <th>Status</th>\n",
       "      <th>AddedBy</th>\n",
       "      <th>ConnID</th>\n",
       "      <th>Species</th>\n",
       "      <th>input1_ID</th>\n",
       "      <th>input1_level</th>\n",
       "      <th>input1_localisation</th>\n",
       "      <th>input1_type</th>\n",
       "      <th>input2_ID</th>\n",
       "      <th>input2_level</th>\n",
       "      <th>...</th>\n",
       "      <th>output1_ath_homologues</th>\n",
       "      <th>output1_osa_homologues</th>\n",
       "      <th>output1_sly_homologues</th>\n",
       "      <th>output1_stu_homologues</th>\n",
       "      <th>input1_location</th>\n",
       "      <th>input2_location</th>\n",
       "      <th>input3_location</th>\n",
       "      <th>output1_location</th>\n",
       "      <th>reaction_type</th>\n",
       "      <th>reaction_id</th>\n",
       "    </tr>\n",
       "  </thead>\n",
       "  <tbody>\n",
       "    <tr>\n",
       "      <th>0</th>\n",
       "      <td>forCB</td>\n",
       "      <td>KG</td>\n",
       "      <td>Conn001</td>\n",
       "      <td>ath</td>\n",
       "      <td>L-Met</td>\n",
       "      <td>family</td>\n",
       "      <td>ER</td>\n",
       "      <td>metabolite</td>\n",
       "      <td>SAMS</td>\n",
       "      <td>clade</td>\n",
       "      <td>...</td>\n",
       "      <td>NaN</td>\n",
       "      <td>NaN</td>\n",
       "      <td>NaN</td>\n",
       "      <td>NaN</td>\n",
       "      <td>endoplasmic reticulum</td>\n",
       "      <td>endoplasmic reticulum</td>\n",
       "      <td>putative:cytoplasm</td>\n",
       "      <td>endoplasmic reticulum</td>\n",
       "      <td>catalysis/auto-catalysis</td>\n",
       "      <td>rx00001</td>\n",
       "    </tr>\n",
       "    <tr>\n",
       "      <th>1</th>\n",
       "      <td>forCB</td>\n",
       "      <td>KG</td>\n",
       "      <td>Conn002</td>\n",
       "      <td>ath</td>\n",
       "      <td>SAMe</td>\n",
       "      <td>family</td>\n",
       "      <td>ER</td>\n",
       "      <td>metabolite</td>\n",
       "      <td>ACS</td>\n",
       "      <td>family</td>\n",
       "      <td>...</td>\n",
       "      <td>NaN</td>\n",
       "      <td>NaN</td>\n",
       "      <td>NaN</td>\n",
       "      <td>NaN</td>\n",
       "      <td>endoplasmic reticulum</td>\n",
       "      <td>endoplasmic reticulum</td>\n",
       "      <td>putative:cytoplasm</td>\n",
       "      <td>endoplasmic reticulum</td>\n",
       "      <td>catalysis/auto-catalysis</td>\n",
       "      <td>rx00002</td>\n",
       "    </tr>\n",
       "    <tr>\n",
       "      <th>2</th>\n",
       "      <td>forCB</td>\n",
       "      <td>KG</td>\n",
       "      <td>Conn003</td>\n",
       "      <td>ath</td>\n",
       "      <td>ACC</td>\n",
       "      <td>family</td>\n",
       "      <td>ER</td>\n",
       "      <td>metabolite</td>\n",
       "      <td>ACO</td>\n",
       "      <td>family</td>\n",
       "      <td>...</td>\n",
       "      <td>NaN</td>\n",
       "      <td>NaN</td>\n",
       "      <td>NaN</td>\n",
       "      <td>NaN</td>\n",
       "      <td>endoplasmic reticulum</td>\n",
       "      <td>endoplasmic reticulum</td>\n",
       "      <td>putative:cytoplasm</td>\n",
       "      <td>endoplasmic reticulum</td>\n",
       "      <td>catalysis/auto-catalysis</td>\n",
       "      <td>rx00003</td>\n",
       "    </tr>\n",
       "    <tr>\n",
       "      <th>3</th>\n",
       "      <td>forCB</td>\n",
       "      <td>KG</td>\n",
       "      <td>Conn004</td>\n",
       "      <td>ath</td>\n",
       "      <td>Cu2+</td>\n",
       "      <td>family</td>\n",
       "      <td>cytoplasm</td>\n",
       "      <td>metabolite</td>\n",
       "      <td>HMA</td>\n",
       "      <td>family</td>\n",
       "      <td>...</td>\n",
       "      <td>NaN</td>\n",
       "      <td>NaN</td>\n",
       "      <td>NaN</td>\n",
       "      <td>NaN</td>\n",
       "      <td>cytoplasm</td>\n",
       "      <td>endoplasmic reticulum</td>\n",
       "      <td>putative:cytoplasm</td>\n",
       "      <td>endoplasmic reticulum</td>\n",
       "      <td>translocation</td>\n",
       "      <td>rx00004</td>\n",
       "    </tr>\n",
       "    <tr>\n",
       "      <th>4</th>\n",
       "      <td>forCB</td>\n",
       "      <td>KG</td>\n",
       "      <td>Conn005</td>\n",
       "      <td>ath</td>\n",
       "      <td>ETR</td>\n",
       "      <td>family</td>\n",
       "      <td>ER</td>\n",
       "      <td>protein</td>\n",
       "      <td>Cu2+</td>\n",
       "      <td>family</td>\n",
       "      <td>...</td>\n",
       "      <td>AT3G04580,AT1G66340,AT1G04310,AT3G23150,AT2G40940</td>\n",
       "      <td>NaN</td>\n",
       "      <td>NaN</td>\n",
       "      <td>NaN</td>\n",
       "      <td>endoplasmic reticulum</td>\n",
       "      <td>endoplasmic reticulum</td>\n",
       "      <td>putative:cytoplasm</td>\n",
       "      <td>endoplasmic reticulum</td>\n",
       "      <td>protein activation</td>\n",
       "      <td>rx00005</td>\n",
       "    </tr>\n",
       "  </tbody>\n",
       "</table>\n",
       "<p>5 rows × 65 columns</p>\n",
       "</div>"
      ],
      "text/plain": [
       "  Status AddedBy   ConnID Species input1_ID input1_level input1_localisation  \\\n",
       "0  forCB      KG  Conn001     ath     L-Met       family                  ER   \n",
       "1  forCB      KG  Conn002     ath      SAMe       family                  ER   \n",
       "2  forCB      KG  Conn003     ath       ACC       family                  ER   \n",
       "3  forCB      KG  Conn004     ath      Cu2+       family           cytoplasm   \n",
       "4  forCB      KG  Conn005     ath       ETR       family                  ER   \n",
       "\n",
       "  input1_type input2_ID input2_level  ...  \\\n",
       "0  metabolite      SAMS        clade  ...   \n",
       "1  metabolite       ACS       family  ...   \n",
       "2  metabolite       ACO       family  ...   \n",
       "3  metabolite       HMA       family  ...   \n",
       "4     protein      Cu2+       family  ...   \n",
       "\n",
       "                              output1_ath_homologues output1_osa_homologues  \\\n",
       "0                                                NaN                    NaN   \n",
       "1                                                NaN                    NaN   \n",
       "2                                                NaN                    NaN   \n",
       "3                                                NaN                    NaN   \n",
       "4  AT3G04580,AT1G66340,AT1G04310,AT3G23150,AT2G40940                    NaN   \n",
       "\n",
       "  output1_sly_homologues output1_stu_homologues        input1_location  \\\n",
       "0                    NaN                    NaN  endoplasmic reticulum   \n",
       "1                    NaN                    NaN  endoplasmic reticulum   \n",
       "2                    NaN                    NaN  endoplasmic reticulum   \n",
       "3                    NaN                    NaN              cytoplasm   \n",
       "4                    NaN                    NaN  endoplasmic reticulum   \n",
       "\n",
       "         input2_location     input3_location       output1_location  \\\n",
       "0  endoplasmic reticulum  putative:cytoplasm  endoplasmic reticulum   \n",
       "1  endoplasmic reticulum  putative:cytoplasm  endoplasmic reticulum   \n",
       "2  endoplasmic reticulum  putative:cytoplasm  endoplasmic reticulum   \n",
       "3  endoplasmic reticulum  putative:cytoplasm  endoplasmic reticulum   \n",
       "4  endoplasmic reticulum  putative:cytoplasm  endoplasmic reticulum   \n",
       "\n",
       "              reaction_type reaction_id  \n",
       "0  catalysis/auto-catalysis     rx00001  \n",
       "1  catalysis/auto-catalysis     rx00002  \n",
       "2  catalysis/auto-catalysis     rx00003  \n",
       "3             translocation     rx00004  \n",
       "4        protein activation     rx00005  \n",
       "\n",
       "[5 rows x 65 columns]"
      ]
     },
     "execution_count": 187,
     "metadata": {},
     "output_type": "execute_result"
    }
   ],
   "source": [
    "df_edges.head()"
   ]
  },
  {
   "cell_type": "code",
   "execution_count": 188,
   "metadata": {},
   "outputs": [
    {
     "data": {
      "text/html": [
       "<div>\n",
       "<style scoped>\n",
       "    .dataframe tbody tr th:only-of-type {\n",
       "        vertical-align: middle;\n",
       "    }\n",
       "\n",
       "    .dataframe tbody tr th {\n",
       "        vertical-align: top;\n",
       "    }\n",
       "\n",
       "    .dataframe thead th {\n",
       "        text-align: right;\n",
       "    }\n",
       "</style>\n",
       "<table border=\"1\" class=\"dataframe\">\n",
       "  <thead>\n",
       "    <tr style=\"text-align: right;\">\n",
       "      <th></th>\n",
       "      <th>input1_ID</th>\n",
       "      <th>input1_newID</th>\n",
       "      <th>input1_label</th>\n",
       "    </tr>\n",
       "  </thead>\n",
       "  <tbody>\n",
       "    <tr>\n",
       "      <th>341</th>\n",
       "      <td>DZ</td>\n",
       "      <td>DZ</td>\n",
       "      <td>Metabolite</td>\n",
       "    </tr>\n",
       "    <tr>\n",
       "      <th>345</th>\n",
       "      <td>DZ</td>\n",
       "      <td>DZ</td>\n",
       "      <td>Metabolite</td>\n",
       "    </tr>\n",
       "    <tr>\n",
       "      <th>346</th>\n",
       "      <td>DZ</td>\n",
       "      <td>DZ</td>\n",
       "      <td>Metabolite</td>\n",
       "    </tr>\n",
       "    <tr>\n",
       "      <th>347</th>\n",
       "      <td>DZ</td>\n",
       "      <td>DZ</td>\n",
       "      <td>Metabolite</td>\n",
       "    </tr>\n",
       "    <tr>\n",
       "      <th>348</th>\n",
       "      <td>DZ</td>\n",
       "      <td>DZ</td>\n",
       "      <td>Metabolite</td>\n",
       "    </tr>\n",
       "    <tr>\n",
       "      <th>349</th>\n",
       "      <td>DZ</td>\n",
       "      <td>DZ</td>\n",
       "      <td>Metabolite</td>\n",
       "    </tr>\n",
       "    <tr>\n",
       "      <th>350</th>\n",
       "      <td>DZ</td>\n",
       "      <td>DZ</td>\n",
       "      <td>Metabolite</td>\n",
       "    </tr>\n",
       "    <tr>\n",
       "      <th>351</th>\n",
       "      <td>DZ</td>\n",
       "      <td>DZ</td>\n",
       "      <td>Metabolite</td>\n",
       "    </tr>\n",
       "    <tr>\n",
       "      <th>352</th>\n",
       "      <td>DZ</td>\n",
       "      <td>DZ</td>\n",
       "      <td>Metabolite</td>\n",
       "    </tr>\n",
       "  </tbody>\n",
       "</table>\n",
       "</div>"
      ],
      "text/plain": [
       "    input1_ID input1_newID input1_label\n",
       "341        DZ           DZ   Metabolite\n",
       "345        DZ           DZ   Metabolite\n",
       "346        DZ           DZ   Metabolite\n",
       "347        DZ           DZ   Metabolite\n",
       "348        DZ           DZ   Metabolite\n",
       "349        DZ           DZ   Metabolite\n",
       "350        DZ           DZ   Metabolite\n",
       "351        DZ           DZ   Metabolite\n",
       "352        DZ           DZ   Metabolite"
      ]
     },
     "execution_count": 188,
     "metadata": {},
     "output_type": "execute_result"
    }
   ],
   "source": [
    "df_edges[df_edges['input1_ID']==\"DZ\"][['input1_ID', 'input1_newID', 'input1_label']]"
   ]
  },
  {
   "cell_type": "code",
   "execution_count": 189,
   "metadata": {},
   "outputs": [],
   "source": [
    "def generate_list(subdf, ids, new_name, homologues=True):\n",
    "    col_suffixes = ['_newID', '_location', '_label', '_form']\n",
    "    new_col_suffixes = ['_name', '_location', '_label', '_form']\n",
    "\n",
    "    if homologues:\n",
    "        col_suffixes += homologue_cols\n",
    "        new_col_suffixes += homologue_cols\n",
    "        \n",
    "    for old_suf, new_suf in zip(col_suffixes, new_col_suffixes):\n",
    "        new_col = new_name + new_suf\n",
    "        old_cols = [id_ + old_suf for id_ in ids]\n",
    "        subdf[new_col] = subdf[old_cols].apply(lambda x: [i for i in x.values], axis=1)\n",
    "        \n",
    "        \n",
    "def rename_target(subdf, id_, new_name, homologues=True):\n",
    "    col_suffixes = ['_newID', '_location', '_label', '_form']\n",
    "    new_col_suffixes = ['_name', '_location', '_label', '_form']\n",
    "\n",
    "    if homologues:\n",
    "        col_suffixes += homologue_cols\n",
    "        new_col_suffixes += homologue_cols\n",
    "\n",
    "    for old_suf, new_suf in zip(col_suffixes, new_col_suffixes):\n",
    "        new_col = new_name + new_suf\n",
    "        old_col = id_ + old_suf\n",
    "        subdf[new_col] = subdf[old_col]"
   ]
  },
  {
   "cell_type": "code",
   "execution_count": 190,
   "metadata": {},
   "outputs": [],
   "source": [
    "def get_x_nodes(df, x):\n",
    "    rows_with_x = set()\n",
    "    for i, row in df.iterrows():\n",
    "        for col_prefix in ['input1', 'input2', 'input3', 'output1']:\n",
    "            if row[col_prefix + \"_newID\"] in x:\n",
    "                rows_with_x.add(i)\n",
    "    return rows_with_x"
   ]
  },
  {
   "cell_type": "code",
   "execution_count": 191,
   "metadata": {},
   "outputs": [],
   "source": [
    "def number_input_different(df, homologues=True, catalyst=False):\n",
    "    ''' If catalyst is True, it is the last \"input\" col. '''\n",
    "\n",
    "    if catalyst:\n",
    "        # two inputs, input2 -> catalyst\n",
    "        subdf2 = df[df[\"input3_newID\"].isna()].copy()\n",
    "        generate_list(subdf2, ['input1'], 'substrate', homologues=homologues)\n",
    "        rename_target(subdf2, 'input2', 'catalyst', homologues=homologues)\n",
    "\n",
    "        # three inputs, input3 -> catalyst\n",
    "        subdf3 = df[~df[\"input3_newID\"].isna()].copy()\n",
    "        generate_list(subdf3, ['input1', 'input2'], 'substrate', homologues=homologues)        \n",
    "        rename_target(subdf3, 'input3', 'catalyst', homologues=homologues)\n",
    "        \n",
    "    else:\n",
    "        # two inputs\n",
    "        subdf2 = df[df[\"input3_newID\"].isna()].copy()\n",
    "        generate_list(subdf2, ['input1', 'input2'], 'substrate', homologues=homologues)\n",
    "\n",
    "        # three inputs\n",
    "        subdf3 = df[~df[\"input3_newID\"].isna()].copy()\n",
    "        generate_list(subdf3, ['input1', 'input2', 'input3'], 'substrate', homologues=homologues)\n",
    "    \n",
    "    # combine\n",
    "    new_subdf = subdf2.append(subdf3)\n",
    "    rename_target(new_subdf, 'output1', 'product', homologues=homologues)\n",
    "    \n",
    "    return new_subdf"
   ]
  },
  {
   "cell_type": "code",
   "execution_count": 192,
   "metadata": {},
   "outputs": [
    {
     "data": {
      "text/plain": [
       "Index(['Status', 'AddedBy', 'ConnID', 'Species', 'input1_ID', 'input1_level',\n",
       "       'input1_localisation', 'input1_type', 'input2_ID', 'input2_level',\n",
       "       'input2_localisation', 'input2_type', 'input3_ID', 'input3_level',\n",
       "       'input3_localisation', 'input3_type', 'ReactionEffect', 'ReactionMode',\n",
       "       'Modifications', 'output1_ID', 'output1_level', 'output1_localisation',\n",
       "       'output1_type', 'TrustLevel', 'Literature', 'AdditionalInfo', 'ModelV',\n",
       "       'origin', 'trust_level', 'external_links', 'input1_form', 'input2_form',\n",
       "       'input3_form', 'output1_form', 'species', 'input1_newID',\n",
       "       'input1_label', 'input2_newID', 'input2_label', 'input3_newID',\n",
       "       'input3_label', 'output1_newID', 'output1_label',\n",
       "       'input1_ath_homologues', 'input1_osa_homologues',\n",
       "       'input1_sly_homologues', 'input1_stu_homologues',\n",
       "       'input2_ath_homologues', 'input2_osa_homologues',\n",
       "       'input2_sly_homologues', 'input2_stu_homologues',\n",
       "       'input3_ath_homologues', 'input3_osa_homologues',\n",
       "       'input3_sly_homologues', 'input3_stu_homologues',\n",
       "       'output1_ath_homologues', 'output1_osa_homologues',\n",
       "       'output1_sly_homologues', 'output1_stu_homologues', 'input1_location',\n",
       "       'input2_location', 'input3_location', 'output1_location',\n",
       "       'reaction_type', 'reaction_id'],\n",
       "      dtype='object')"
      ]
     },
     "execution_count": 192,
     "metadata": {},
     "output_type": "execute_result"
    }
   ],
   "source": [
    "df_edges.columns"
   ]
  },
  {
   "cell_type": "code",
   "execution_count": 193,
   "metadata": {},
   "outputs": [],
   "source": [
    "# transcription genes\n",
    "substrate_cols_wo_homologues = ['substrate_name', 'substrate_form', 'substrate_label', 'substrate_location']\n",
    "product_cols_wo_homologues = ['product_name', 'product_form', 'product_label',  'product_location']\n",
    "catalyst_cols_wo_homologues = ['catalyst_name', 'catalyst_form', 'catalyst_label', 'catalyst_location']\n",
    "\n",
    "homologue_cols = [f\"_{x}_homologues\" for x in all_species]\n",
    "\n",
    "substrate_cols = [ f'substrate{x}' for x in ['_name', '_label', '_form', '_location']] +\\\n",
    "                [f\"substrate{x}\" for x in homologue_cols]\n",
    "catalyst_cols = [ f'catalyst{x}' for x in ['_name', '_label', '_form', '_location']] +\\\n",
    "                [f\"catalyst{x}\" for x in homologue_cols] \n",
    "product_cols = [ f'product{x}' for x in ['_name', '_label', '_form', '_location']] +\\\n",
    "                [f\"product{x}\" for x in homologue_cols]\n",
    "\n",
    "reaction_standard_columns = ['AddedBy', 'Species', \n",
    "       'AdditionalInfo',  'external_links', 'trust_level',\n",
    "       'ModelV', 'ReactionEffect', 'reaction_type', 'Modifications', 'reaction_id']"
   ]
  },
  {
   "cell_type": "code",
   "execution_count": 194,
   "metadata": {},
   "outputs": [],
   "source": [
    "def read_dict(file):\n",
    "    d = {}\n",
    "    with open(file, \"r\") as f:\n",
    "        for line in f:\n",
    "            key, value = line.strip().split(\"\\t\")\n",
    "            d[key] = value\n",
    "    return d"
   ]
  },
  {
   "cell_type": "code",
   "execution_count": 195,
   "metadata": {},
   "outputs": [],
   "source": [
    "node_to_family = read_dict(parsed_path / \"node_to_family.tsv\")\n",
    "clade_to_family = read_dict(parsed_path / \"clade_to_family.tsv\")"
   ]
  },
  {
   "cell_type": "code",
   "execution_count": 196,
   "metadata": {},
   "outputs": [],
   "source": [
    "def node_id_to_node_label(id_):\n",
    "\n",
    "    query = '''MATCH (s) WHERE s.name=$x \n",
    "               RETURN s.name AS substrate_name, labels(s) AS substrate_label'''\n",
    "    \n",
    "    cursor = graph.run(query, x=id_)\n",
    "    d = cursor.data()\n",
    "    \n",
    "    if len(d) == 0:\n",
    "        print(id_, d, \"no hit\")\n",
    "        return \"\"\n",
    "    elif len(d) == 1:\n",
    "        s = set(d[0]['substrate_label']) - set(['Family'])\n",
    "        return s.pop()\n",
    "    else:\n",
    "        print(id_, d, 'multiple hits') # should be impossible\n",
    "        return \"\""
   ]
  },
  {
   "cell_type": "markdown",
   "metadata": {},
   "source": [
    "### Add complexes"
   ]
  },
  {
   "cell_type": "code",
   "execution_count": 26,
   "metadata": {},
   "outputs": [],
   "source": [
    "already_defined_complexes = node_dict['Complex']"
   ]
  },
  {
   "cell_type": "code",
   "execution_count": 27,
   "metadata": {},
   "outputs": [],
   "source": [
    "complexes_to_add = set(pd.read_csv(parsed_path / \"complexes_to_add.tsv\", sep=\"\\t\", header=None)[0]) - set(already_defined_complexes)"
   ]
  },
  {
   "cell_type": "code",
   "execution_count": 28,
   "metadata": {},
   "outputs": [
    {
     "data": {
      "text/plain": [
       "91"
      ]
     },
     "execution_count": 28,
     "metadata": {},
     "output_type": "execute_result"
    }
   ],
   "source": [
    "len(complexes_to_add)"
   ]
  },
  {
   "cell_type": "code",
   "execution_count": 29,
   "metadata": {},
   "outputs": [],
   "source": [
    "rows_w_new_complex = get_x_nodes(df_edges, complexes_to_add)"
   ]
  },
  {
   "cell_type": "code",
   "execution_count": 30,
   "metadata": {},
   "outputs": [],
   "source": [
    "want_cols = ['reaction_type', 'Modifications']\n",
    "for prefix in ['input1', 'input2', 'input3', 'output1']:\n",
    "    want_cols += [f\"{prefix}_{x}\" for x in ['newID', 'location', 'label', 'form']]\n",
    "\n",
    "df_new_complex = df_edges.loc[rows_w_new_complex, want_cols]"
   ]
  },
  {
   "cell_type": "code",
   "execution_count": 31,
   "metadata": {},
   "outputs": [],
   "source": [
    "# first complexes defined by binding/oglimerisation reactions\n",
    "key = 'binding/oligomerisation'\n",
    "subdf = df_new_complex.loc[df_new_complex['reaction_type'] == key]\n",
    "\n",
    "binding_w_catalyst = subdf.loc[subdf['Modifications'] == 'with catalyst']\n",
    "binding_wo_catalyst = subdf.loc[subdf['Modifications'] != 'with catalyst']"
   ]
  },
  {
   "cell_type": "code",
   "execution_count": 32,
   "metadata": {},
   "outputs": [],
   "source": [
    "subdf_wo_catalyst = number_input_different(binding_wo_catalyst, homologues=False)\n",
    "subdf_w_catalyst = number_input_different(binding_w_catalyst, homologues=False, catalyst=True)"
   ]
  },
  {
   "cell_type": "code",
   "execution_count": 33,
   "metadata": {},
   "outputs": [],
   "source": [
    "subdf_wo_catalyst = subdf_wo_catalyst[['substrate_name', 'substrate_label', 'substrate_form', 'output1_newID', 'product_name']]\n",
    "subdf_w_catalyst = subdf_w_catalyst[['substrate_name', 'substrate_label', 'substrate_form', 'output1_newID', 'product_name']]"
   ]
  },
  {
   "cell_type": "code",
   "execution_count": 34,
   "metadata": {},
   "outputs": [],
   "source": [
    "new_subdf = pd.concat([subdf_wo_catalyst, subdf_w_catalyst])"
   ]
  },
  {
   "cell_type": "code",
   "execution_count": 35,
   "metadata": {},
   "outputs": [],
   "source": [
    "new_subdf.drop_duplicates('product_name', keep='first', inplace=True)"
   ]
  },
  {
   "cell_type": "code",
   "execution_count": 36,
   "metadata": {},
   "outputs": [
    {
     "data": {
      "text/html": [
       "<div>\n",
       "<style scoped>\n",
       "    .dataframe tbody tr th:only-of-type {\n",
       "        vertical-align: middle;\n",
       "    }\n",
       "\n",
       "    .dataframe tbody tr th {\n",
       "        vertical-align: top;\n",
       "    }\n",
       "\n",
       "    .dataframe thead th {\n",
       "        text-align: right;\n",
       "    }\n",
       "</style>\n",
       "<table border=\"1\" class=\"dataframe\">\n",
       "  <thead>\n",
       "    <tr style=\"text-align: right;\">\n",
       "      <th></th>\n",
       "      <th>substrate_name</th>\n",
       "      <th>substrate_label</th>\n",
       "      <th>substrate_form</th>\n",
       "      <th>output1_newID</th>\n",
       "      <th>product_name</th>\n",
       "    </tr>\n",
       "  </thead>\n",
       "  <tbody>\n",
       "    <tr>\n",
       "      <th>5</th>\n",
       "      <td>[CTR, ETR]</td>\n",
       "      <td>[PlantCoding, PlantCoding]</td>\n",
       "      <td>[protein_active, protein_active]</td>\n",
       "      <td>CTR|ETR</td>\n",
       "      <td>CTR|ETR</td>\n",
       "    </tr>\n",
       "    <tr>\n",
       "      <th>7</th>\n",
       "      <td>[ET, ETR]</td>\n",
       "      <td>[Metabolite, PlantCoding]</td>\n",
       "      <td>[metabolite, protein_active]</td>\n",
       "      <td>ET|ETR</td>\n",
       "      <td>ET|ETR</td>\n",
       "    </tr>\n",
       "    <tr>\n",
       "      <th>10</th>\n",
       "      <td>[ETP, SCF]</td>\n",
       "      <td>[PlantCoding, Complex]</td>\n",
       "      <td>[protein, complex]</td>\n",
       "      <td>ETP|SCF</td>\n",
       "      <td>ETP|SCF</td>\n",
       "    </tr>\n",
       "    <tr>\n",
       "      <th>15</th>\n",
       "      <td>[EBF, SCF]</td>\n",
       "      <td>[PlantCoding, Complex]</td>\n",
       "      <td>[protein, complex]</td>\n",
       "      <td>EBF|SCF</td>\n",
       "      <td>EBF|SCF</td>\n",
       "    </tr>\n",
       "    <tr>\n",
       "      <th>17</th>\n",
       "      <td>[JAZ, EIN3(like)]</td>\n",
       "      <td>[PlantCoding, PlantCoding]</td>\n",
       "      <td>[protein, protein_active]</td>\n",
       "      <td>EIN3(like)|JAZ</td>\n",
       "      <td>EIN3(like)|JAZ</td>\n",
       "    </tr>\n",
       "  </tbody>\n",
       "</table>\n",
       "</div>"
      ],
      "text/plain": [
       "       substrate_name             substrate_label  \\\n",
       "5          [CTR, ETR]  [PlantCoding, PlantCoding]   \n",
       "7           [ET, ETR]   [Metabolite, PlantCoding]   \n",
       "10         [ETP, SCF]      [PlantCoding, Complex]   \n",
       "15         [EBF, SCF]      [PlantCoding, Complex]   \n",
       "17  [JAZ, EIN3(like)]  [PlantCoding, PlantCoding]   \n",
       "\n",
       "                      substrate_form   output1_newID    product_name  \n",
       "5   [protein_active, protein_active]         CTR|ETR         CTR|ETR  \n",
       "7       [metabolite, protein_active]          ET|ETR          ET|ETR  \n",
       "10                [protein, complex]         ETP|SCF         ETP|SCF  \n",
       "15                [protein, complex]         EBF|SCF         EBF|SCF  \n",
       "17         [protein, protein_active]  EIN3(like)|JAZ  EIN3(like)|JAZ  "
      ]
     },
     "execution_count": 36,
     "metadata": {},
     "output_type": "execute_result"
    }
   ],
   "source": [
    "new_subdf.head()"
   ]
  },
  {
   "cell_type": "code",
   "execution_count": null,
   "metadata": {},
   "outputs": [],
   "source": []
  },
  {
   "cell_type": "code",
   "execution_count": null,
   "metadata": {},
   "outputs": [],
   "source": []
  },
  {
   "cell_type": "code",
   "execution_count": null,
   "metadata": {},
   "outputs": [],
   "source": []
  },
  {
   "cell_type": "code",
   "execution_count": 37,
   "metadata": {},
   "outputs": [],
   "source": [
    "binding_defined_complexes = set(new_subdf['product_name'].values)"
   ]
  },
  {
   "cell_type": "code",
   "execution_count": 38,
   "metadata": {},
   "outputs": [
    {
     "data": {
      "text/plain": [
       "85"
      ]
     },
     "execution_count": 38,
     "metadata": {},
     "output_type": "execute_result"
    }
   ],
   "source": [
    "len(binding_defined_complexes)"
   ]
  },
  {
   "cell_type": "code",
   "execution_count": 39,
   "metadata": {},
   "outputs": [],
   "source": [
    "# other complexes\n",
    "other_complexes = set()\n",
    "for i , row in df_new_complex.iterrows():\n",
    "    for col_prefix in ['input1', 'input2', 'input3', 'output1']:\n",
    "        if row[col_prefix + \"_label\"] == 'Complex':\n",
    "            c = row[col_prefix + \"_newID\"]\n",
    "            if not ((c in binding_defined_complexes) or (c in already_defined_complexes)):\n",
    "                other_complexes.add(row[col_prefix + \"_newID\"])"
   ]
  },
  {
   "cell_type": "code",
   "execution_count": 40,
   "metadata": {},
   "outputs": [
    {
     "data": {
      "text/plain": [
       "{'CAM|Ca2+',\n",
       " 'COI1|OMR1',\n",
       " 'EDS1|NPR1|TGA2,5,6',\n",
       " 'EDS5|NPR1|TGA2,5,6',\n",
       " 'GSTU24|ROS',\n",
       " 'NPR1|PAD4|TGA2,5,6'}"
      ]
     },
     "execution_count": 40,
     "metadata": {},
     "output_type": "execute_result"
    }
   ],
   "source": [
    "other_complexes"
   ]
  },
  {
   "cell_type": "code",
   "execution_count": 41,
   "metadata": {},
   "outputs": [],
   "source": [
    "other_complexes = pd.DataFrame(other_complexes, columns=['output1_newID'])"
   ]
  },
  {
   "cell_type": "code",
   "execution_count": 42,
   "metadata": {},
   "outputs": [],
   "source": [
    "def get_subunits(x):\n",
    "    if '|' in x:\n",
    "        return x.split('|')\n",
    "    else:\n",
    "        return []"
   ]
  },
  {
   "cell_type": "code",
   "execution_count": 43,
   "metadata": {},
   "outputs": [],
   "source": [
    "other_complexes['substrate_og_name'] = other_complexes['output1_newID'].apply(get_subunits)\n",
    "other_complexes['substrate_form'] = other_complexes['substrate_og_name'].apply(lambda x: [\"\" for c in x])\n",
    "other_complexes['product_name'] = other_complexes['output1_newID']"
   ]
  },
  {
   "cell_type": "code",
   "execution_count": 44,
   "metadata": {},
   "outputs": [
    {
     "data": {
      "text/html": [
       "<div>\n",
       "<style scoped>\n",
       "    .dataframe tbody tr th:only-of-type {\n",
       "        vertical-align: middle;\n",
       "    }\n",
       "\n",
       "    .dataframe tbody tr th {\n",
       "        vertical-align: top;\n",
       "    }\n",
       "\n",
       "    .dataframe thead th {\n",
       "        text-align: right;\n",
       "    }\n",
       "</style>\n",
       "<table border=\"1\" class=\"dataframe\">\n",
       "  <thead>\n",
       "    <tr style=\"text-align: right;\">\n",
       "      <th></th>\n",
       "      <th>output1_newID</th>\n",
       "      <th>substrate_og_name</th>\n",
       "      <th>substrate_form</th>\n",
       "      <th>product_name</th>\n",
       "    </tr>\n",
       "  </thead>\n",
       "  <tbody>\n",
       "    <tr>\n",
       "      <th>0</th>\n",
       "      <td>NPR1|PAD4|TGA2,5,6</td>\n",
       "      <td>[NPR1, PAD4, TGA2,5,6]</td>\n",
       "      <td>[, , ]</td>\n",
       "      <td>NPR1|PAD4|TGA2,5,6</td>\n",
       "    </tr>\n",
       "    <tr>\n",
       "      <th>1</th>\n",
       "      <td>CAM|Ca2+</td>\n",
       "      <td>[CAM, Ca2+]</td>\n",
       "      <td>[, ]</td>\n",
       "      <td>CAM|Ca2+</td>\n",
       "    </tr>\n",
       "    <tr>\n",
       "      <th>2</th>\n",
       "      <td>COI1|OMR1</td>\n",
       "      <td>[COI1, OMR1]</td>\n",
       "      <td>[, ]</td>\n",
       "      <td>COI1|OMR1</td>\n",
       "    </tr>\n",
       "    <tr>\n",
       "      <th>3</th>\n",
       "      <td>EDS5|NPR1|TGA2,5,6</td>\n",
       "      <td>[EDS5, NPR1, TGA2,5,6]</td>\n",
       "      <td>[, , ]</td>\n",
       "      <td>EDS5|NPR1|TGA2,5,6</td>\n",
       "    </tr>\n",
       "    <tr>\n",
       "      <th>4</th>\n",
       "      <td>EDS1|NPR1|TGA2,5,6</td>\n",
       "      <td>[EDS1, NPR1, TGA2,5,6]</td>\n",
       "      <td>[, , ]</td>\n",
       "      <td>EDS1|NPR1|TGA2,5,6</td>\n",
       "    </tr>\n",
       "    <tr>\n",
       "      <th>5</th>\n",
       "      <td>GSTU24|ROS</td>\n",
       "      <td>[GSTU24, ROS]</td>\n",
       "      <td>[, ]</td>\n",
       "      <td>GSTU24|ROS</td>\n",
       "    </tr>\n",
       "  </tbody>\n",
       "</table>\n",
       "</div>"
      ],
      "text/plain": [
       "        output1_newID       substrate_og_name substrate_form  \\\n",
       "0  NPR1|PAD4|TGA2,5,6  [NPR1, PAD4, TGA2,5,6]         [, , ]   \n",
       "1            CAM|Ca2+             [CAM, Ca2+]           [, ]   \n",
       "2           COI1|OMR1            [COI1, OMR1]           [, ]   \n",
       "3  EDS5|NPR1|TGA2,5,6  [EDS5, NPR1, TGA2,5,6]         [, , ]   \n",
       "4  EDS1|NPR1|TGA2,5,6  [EDS1, NPR1, TGA2,5,6]         [, , ]   \n",
       "5          GSTU24|ROS           [GSTU24, ROS]           [, ]   \n",
       "\n",
       "         product_name  \n",
       "0  NPR1|PAD4|TGA2,5,6  \n",
       "1            CAM|Ca2+  \n",
       "2           COI1|OMR1  \n",
       "3  EDS5|NPR1|TGA2,5,6  \n",
       "4  EDS1|NPR1|TGA2,5,6  \n",
       "5          GSTU24|ROS  "
      ]
     },
     "execution_count": 44,
     "metadata": {},
     "output_type": "execute_result"
    }
   ],
   "source": [
    "other_complexes"
   ]
  },
  {
   "cell_type": "code",
   "execution_count": 45,
   "metadata": {},
   "outputs": [],
   "source": [
    "def get_name(ids_):\n",
    "    names = []\n",
    "    for x in ids_:\n",
    "        label1 = node_id_to_node_label(x)\n",
    "        if not (label1 == ''):\n",
    "            names.append(x)\n",
    "        else:\n",
    "            if x in clade_to_family:\n",
    "                names.append(clade_to_family[x])\n",
    "                print('using as clade id to get family\\t', x, \"\\t\", clade_to_family[x])\n",
    "\n",
    "            elif x in node_to_family:\n",
    "                names.append(node_to_family[x])\n",
    "                print('using as node id to get family\\t', x, \"\\t\", node_to_family[x])\n",
    "\n",
    "            else:\n",
    "                names.append(x)\n",
    "    \n",
    "    return names"
   ]
  },
  {
   "cell_type": "code",
   "execution_count": 46,
   "metadata": {},
   "outputs": [],
   "source": [
    "def components_missing_label(ids_):\n",
    "    labels = []\n",
    "    for x in ids_:\n",
    "        label1 = node_id_to_node_label(x)\n",
    "        if label1 == '':\n",
    "            if x in clade_to_family:\n",
    "                label1 = node_id_to_node_label(clade_to_family[x])\n",
    "                print('using as clade id to get family label\\t', x, \"\\t\", label1)\n",
    "            elif x in node_to_family:\n",
    "                label1 = node_id_to_node_label(node_to_family[x])\n",
    "                print('using as node id to get family label\\t', x, \"\\t\", label1)\n",
    "        \n",
    "        if label == '':\n",
    "            print(x)\n",
    "        labels.append(label1)\n",
    "    return labels\n"
   ]
  },
  {
   "cell_type": "code",
   "execution_count": 47,
   "metadata": {},
   "outputs": [
    {
     "name": "stdout",
     "output_type": "stream",
     "text": [
      "NPR1 [] no hit\n",
      "using as node id to get family\t NPR1 \t NPR\n",
      "TGA2,5,6 [] no hit\n",
      "using as clade id to get family\t TGA2,5,6 \t TGA\n",
      "OMR1 [] no hit\n",
      "using as clade id to get family\t OMR1 \t OMR\n",
      "NPR1 [] no hit\n",
      "using as node id to get family\t NPR1 \t NPR\n",
      "TGA2,5,6 [] no hit\n",
      "using as clade id to get family\t TGA2,5,6 \t TGA\n",
      "NPR1 [] no hit\n",
      "using as node id to get family\t NPR1 \t NPR\n",
      "TGA2,5,6 [] no hit\n",
      "using as clade id to get family\t TGA2,5,6 \t TGA\n",
      "GSTU24 [] no hit\n",
      "using as node id to get family\t GSTU24 \t GST\n"
     ]
    }
   ],
   "source": [
    "other_complexes['substrate_name'] = other_complexes['substrate_og_name'].apply(get_name)\n",
    "other_complexes['substrate_label'] = other_complexes['substrate_name'].apply(components_missing_label)"
   ]
  },
  {
   "cell_type": "code",
   "execution_count": 49,
   "metadata": {},
   "outputs": [],
   "source": [
    "del other_complexes['substrate_og_name']"
   ]
  },
  {
   "cell_type": "code",
   "execution_count": 50,
   "metadata": {
    "scrolled": true
   },
   "outputs": [],
   "source": [
    "new_complexes = other_complexes.append(new_subdf, sort=True)"
   ]
  },
  {
   "cell_type": "code",
   "execution_count": 52,
   "metadata": {},
   "outputs": [
    {
     "data": {
      "text/plain": [
       "Index(['output1_newID', 'product_name', 'substrate_form', 'substrate_label',\n",
       "       'substrate_name'],\n",
       "      dtype='object')"
      ]
     },
     "execution_count": 52,
     "metadata": {},
     "output_type": "execute_result"
    }
   ],
   "source": [
    "new_complexes.columns"
   ]
  },
  {
   "cell_type": "code",
   "execution_count": 53,
   "metadata": {},
   "outputs": [],
   "source": [
    "# save new complexes \n",
    "label = 'Complex'\n",
    "f = f'{label}-new-components.tsv'\n",
    "want_cols = 'product_name'\n",
    "new_complexes[want_cols].to_csv(f'../data/import/{f}', sep=\"\\t\", index=None, header=True)"
   ]
  },
  {
   "cell_type": "code",
   "execution_count": 54,
   "metadata": {},
   "outputs": [
    {
     "name": "stdout",
     "output_type": "stream",
     "text": [
      "91\n"
     ]
    }
   ],
   "source": [
    "print(new_complexes.shape[0])"
   ]
  },
  {
   "cell_type": "code",
   "execution_count": null,
   "metadata": {},
   "outputs": [],
   "source": []
  },
  {
   "cell_type": "code",
   "execution_count": 55,
   "metadata": {
    "scrolled": true
   },
   "outputs": [],
   "source": [
    "query = helpers.bioelement_node_query(f, \"Complex\", \n",
    "                           n_name=\"line.product_name\")\n",
    "#print(query)\n",
    "qr = graph.run(query)\n",
    "if not new_complexes.shape[0] == qr.stats()['nodes_created']:\n",
    "     raise Exception"
   ]
  },
  {
   "cell_type": "code",
   "execution_count": 56,
   "metadata": {},
   "outputs": [],
   "source": [
    "exploded_new_subdf = helpers.unnesting(new_complexes, ['substrate_name', 'substrate_label', 'substrate_form']).drop_duplicates()"
   ]
  },
  {
   "cell_type": "code",
   "execution_count": 60,
   "metadata": {},
   "outputs": [
    {
     "data": {
      "text/html": [
       "<div>\n",
       "<style scoped>\n",
       "    .dataframe tbody tr th:only-of-type {\n",
       "        vertical-align: middle;\n",
       "    }\n",
       "\n",
       "    .dataframe tbody tr th {\n",
       "        vertical-align: top;\n",
       "    }\n",
       "\n",
       "    .dataframe thead th {\n",
       "        text-align: right;\n",
       "    }\n",
       "</style>\n",
       "<table border=\"1\" class=\"dataframe\">\n",
       "  <thead>\n",
       "    <tr style=\"text-align: right;\">\n",
       "      <th></th>\n",
       "      <th>substrate_name</th>\n",
       "      <th>substrate_label</th>\n",
       "      <th>substrate_form</th>\n",
       "      <th>output1_newID</th>\n",
       "      <th>product_name</th>\n",
       "    </tr>\n",
       "  </thead>\n",
       "  <tbody>\n",
       "    <tr>\n",
       "      <th>318</th>\n",
       "      <td>&amp;alpha;/&amp;beta; hydroxylase</td>\n",
       "      <td>PlantCoding</td>\n",
       "      <td>protein_active</td>\n",
       "      <td>D14|MAX2|SCF</td>\n",
       "      <td>D14|MAX2|SCF</td>\n",
       "    </tr>\n",
       "    <tr>\n",
       "      <th>318</th>\n",
       "      <td>F-box/LRR-repeat</td>\n",
       "      <td>PlantCoding</td>\n",
       "      <td>protein_active</td>\n",
       "      <td>D14|MAX2|SCF</td>\n",
       "      <td>D14|MAX2|SCF</td>\n",
       "    </tr>\n",
       "    <tr>\n",
       "      <th>318</th>\n",
       "      <td>SCF</td>\n",
       "      <td>Complex</td>\n",
       "      <td>complex</td>\n",
       "      <td>D14|MAX2|SCF</td>\n",
       "      <td>D14|MAX2|SCF</td>\n",
       "    </tr>\n",
       "  </tbody>\n",
       "</table>\n",
       "</div>"
      ],
      "text/plain": [
       "                 substrate_name substrate_label  substrate_form output1_newID  \\\n",
       "318  &alpha;/&beta; hydroxylase     PlantCoding  protein_active  D14|MAX2|SCF   \n",
       "318            F-box/LRR-repeat     PlantCoding  protein_active  D14|MAX2|SCF   \n",
       "318                         SCF         Complex         complex  D14|MAX2|SCF   \n",
       "\n",
       "     product_name  \n",
       "318  D14|MAX2|SCF  \n",
       "318  D14|MAX2|SCF  \n",
       "318  D14|MAX2|SCF  "
      ]
     },
     "execution_count": 60,
     "metadata": {},
     "output_type": "execute_result"
    }
   ],
   "source": [
    "exploded_new_subdf[exploded_new_subdf['product_name']=='D14|MAX2|SCF']"
   ]
  },
  {
   "cell_type": "code",
   "execution_count": 61,
   "metadata": {},
   "outputs": [
    {
     "data": {
      "text/html": [
       "<div>\n",
       "<style scoped>\n",
       "    .dataframe tbody tr th:only-of-type {\n",
       "        vertical-align: middle;\n",
       "    }\n",
       "\n",
       "    .dataframe tbody tr th {\n",
       "        vertical-align: top;\n",
       "    }\n",
       "\n",
       "    .dataframe thead th {\n",
       "        text-align: right;\n",
       "    }\n",
       "</style>\n",
       "<table border=\"1\" class=\"dataframe\">\n",
       "  <thead>\n",
       "    <tr style=\"text-align: right;\">\n",
       "      <th></th>\n",
       "      <th>substrate_name</th>\n",
       "      <th>substrate_label</th>\n",
       "      <th>substrate_form</th>\n",
       "      <th>output1_newID</th>\n",
       "      <th>product_name</th>\n",
       "    </tr>\n",
       "  </thead>\n",
       "  <tbody>\n",
       "    <tr>\n",
       "      <th>312</th>\n",
       "      <td>CAT</td>\n",
       "      <td>PlantCoding</td>\n",
       "      <td>protein</td>\n",
       "      <td>ACX3|CAT2</td>\n",
       "      <td>ACX3|CAT2</td>\n",
       "    </tr>\n",
       "    <tr>\n",
       "      <th>312</th>\n",
       "      <td>ACX</td>\n",
       "      <td>PlantCoding</td>\n",
       "      <td>protein</td>\n",
       "      <td>ACX3|CAT2</td>\n",
       "      <td>ACX3|CAT2</td>\n",
       "    </tr>\n",
       "    <tr>\n",
       "      <th>318</th>\n",
       "      <td>&amp;alpha;/&amp;beta; hydroxylase</td>\n",
       "      <td>PlantCoding</td>\n",
       "      <td>protein_active</td>\n",
       "      <td>D14|MAX2|SCF</td>\n",
       "      <td>D14|MAX2|SCF</td>\n",
       "    </tr>\n",
       "    <tr>\n",
       "      <th>318</th>\n",
       "      <td>F-box/LRR-repeat</td>\n",
       "      <td>PlantCoding</td>\n",
       "      <td>protein_active</td>\n",
       "      <td>D14|MAX2|SCF</td>\n",
       "      <td>D14|MAX2|SCF</td>\n",
       "    </tr>\n",
       "    <tr>\n",
       "      <th>318</th>\n",
       "      <td>SCF</td>\n",
       "      <td>Complex</td>\n",
       "      <td>complex</td>\n",
       "      <td>D14|MAX2|SCF</td>\n",
       "      <td>D14|MAX2|SCF</td>\n",
       "    </tr>\n",
       "  </tbody>\n",
       "</table>\n",
       "</div>"
      ],
      "text/plain": [
       "                 substrate_name substrate_label  substrate_form output1_newID  \\\n",
       "312                         CAT     PlantCoding         protein     ACX3|CAT2   \n",
       "312                         ACX     PlantCoding         protein     ACX3|CAT2   \n",
       "318  &alpha;/&beta; hydroxylase     PlantCoding  protein_active  D14|MAX2|SCF   \n",
       "318            F-box/LRR-repeat     PlantCoding  protein_active  D14|MAX2|SCF   \n",
       "318                         SCF         Complex         complex  D14|MAX2|SCF   \n",
       "\n",
       "     product_name  \n",
       "312     ACX3|CAT2  \n",
       "312     ACX3|CAT2  \n",
       "318  D14|MAX2|SCF  \n",
       "318  D14|MAX2|SCF  \n",
       "318  D14|MAX2|SCF  "
      ]
     },
     "execution_count": 61,
     "metadata": {},
     "output_type": "execute_result"
    }
   ],
   "source": [
    "exploded_new_subdf.tail()"
   ]
  },
  {
   "cell_type": "code",
   "execution_count": 62,
   "metadata": {},
   "outputs": [
    {
     "data": {
      "text/html": [
       "<div>\n",
       "<style scoped>\n",
       "    .dataframe tbody tr th:only-of-type {\n",
       "        vertical-align: middle;\n",
       "    }\n",
       "\n",
       "    .dataframe tbody tr th {\n",
       "        vertical-align: top;\n",
       "    }\n",
       "\n",
       "    .dataframe thead th {\n",
       "        text-align: right;\n",
       "    }\n",
       "</style>\n",
       "<table border=\"1\" class=\"dataframe\">\n",
       "  <thead>\n",
       "    <tr style=\"text-align: right;\">\n",
       "      <th></th>\n",
       "      <th>substrate_name</th>\n",
       "      <th>substrate_label</th>\n",
       "      <th>substrate_form</th>\n",
       "      <th>output1_newID</th>\n",
       "      <th>product_name</th>\n",
       "    </tr>\n",
       "  </thead>\n",
       "  <tbody>\n",
       "  </tbody>\n",
       "</table>\n",
       "</div>"
      ],
      "text/plain": [
       "Empty DataFrame\n",
       "Columns: [substrate_name, substrate_label, substrate_form, output1_newID, product_name]\n",
       "Index: []"
      ]
     },
     "execution_count": 62,
     "metadata": {},
     "output_type": "execute_result"
    }
   ],
   "source": [
    "exploded_new_subdf[~exploded_new_subdf['substrate_label'].isin(node_labels)]"
   ]
  },
  {
   "cell_type": "code",
   "execution_count": 63,
   "metadata": {},
   "outputs": [
    {
     "name": "stdout",
     "output_type": "stream",
     "text": [
      "Complex 16 16\n",
      "ExternalCoding 29 29\n",
      "ExternalEntity 2 2\n",
      "Metabolite 10 10\n",
      "MetaboliteFamily 2 2\n",
      "PlantAbstract 4 4\n",
      "PlantCoding 126 126\n",
      "Process 2 2\n"
     ]
    }
   ],
   "source": [
    "# component to complex edges\n",
    "edge_type = 'COMPONENT_OF'\n",
    "want_cols = ['substrate_name', 'substrate_form', 'substrate_label', 'product_name']\n",
    "\n",
    "for t, this_subdf in exploded_new_subdf[exploded_new_subdf['substrate_label'].isin(node_labels)].groupby(\"substrate_label\"):\n",
    "    f = f'{edge_type}-{label}-{t}-edges.tsv'  \n",
    "    this_subdf[want_cols].to_csv(f\"../data/import/{f}\", index=None, sep=\"\\t\")\n",
    "\n",
    "    query = helpers.make_create_type_of_edge_query(f, 'COMPONENT_OF',\n",
    "                           source_label=t, target_label=\"Complex\",\n",
    "                           source_name=\"line.substrate_name\", target_name=\"line.product_name\",\n",
    "                           #source_form=\"line.substrate_form\"\n",
    "                          )\n",
    "    #print(query)\n",
    "    qr = graph.run(query)\n",
    "\n",
    "    print(t, this_subdf.shape[0], qr.stats()['relationships_created'])    \n",
    "    if not this_subdf.shape[0] == qr.stats()['relationships_created']:\n",
    "        print(\"\\tnot all edges created\")"
   ]
  },
  {
   "cell_type": "markdown",
   "metadata": {},
   "source": [
    "# Add reactions"
   ]
  },
  {
   "cell_type": "code",
   "execution_count": 64,
   "metadata": {},
   "outputs": [],
   "source": [
    "def pretty_print_result(t, df, qr, input_type, multiplier=1):\n",
    "    if input_type in ['nodes', 'relationships']:\n",
    "        key = input_type + '_created'\n",
    "    else:\n",
    "        key = input_type\n",
    "    \n",
    "    try:\n",
    "        stat = qr.stats()[key]\n",
    "    except:\n",
    "        stat = 0\n",
    "    \n",
    "    print(f\"{t:20}\\t{df.shape[0]:3}\\t{stat:3}\", end=\"\")\n",
    "    if df.shape[0]*multiplier == stat:\n",
    "        print()\n",
    "    \n",
    "    elif df.shape[0]*multiplier < stat:\n",
    "        print(f\"\\t**too many {input_type} created**\")\n",
    "    else:\n",
    "        print(f\"\\t**not all {input_type} created**\")"
   ]
  },
  {
   "cell_type": "code",
   "execution_count": 65,
   "metadata": {},
   "outputs": [
    {
     "data": {
      "text/plain": [
       "0"
      ]
     },
     "execution_count": 65,
     "metadata": {},
     "output_type": "execute_result"
    }
   ],
   "source": [
    "df_edges.index.duplicated().sum()"
   ]
  },
  {
   "cell_type": "markdown",
   "metadata": {},
   "source": [
    "## binding / oligomerisation"
   ]
  },
  {
   "cell_type": "code",
   "execution_count": 66,
   "metadata": {},
   "outputs": [
    {
     "data": {
      "image/png": "[encoded data removed]",
      "text/plain": [
       "<IPython.core.display.Image object>"
      ]
     },
     "execution_count": 66,
     "metadata": {},
     "output_type": "execute_result"
    }
   ],
   "source": [
    "Image(filename='./reaction_types/activation/binding_oligomerisation.png')"
   ]
  },
  {
   "cell_type": "code",
   "execution_count": 67,
   "metadata": {},
   "outputs": [
    {
     "name": "stdout",
     "output_type": "stream",
     "text": [
      "BINDING_OGLIMERISATION 104\n"
     ]
    }
   ],
   "source": [
    "key = 'binding/oligomerisation'\n",
    "reaction_type = \"BINDING_OGLIMERISATION\"\n",
    "subdf = df_edges.loc[df_edges['reaction_type'] == key].copy()\n",
    "print(reaction_type, subdf.shape[0])"
   ]
  },
  {
   "cell_type": "code",
   "execution_count": 68,
   "metadata": {},
   "outputs": [],
   "source": [
    "binding_wo_catalyst = subdf.loc[subdf['Modifications'] != 'with catalyst']\n",
    "binding_w_catalyst = subdf.loc[subdf['Modifications'] == 'with catalyst']"
   ]
  },
  {
   "cell_type": "code",
   "execution_count": 69,
   "metadata": {},
   "outputs": [],
   "source": [
    "subdf_wo_catalyst = number_input_different(binding_wo_catalyst)\n",
    "subdf_w_catalyst = number_input_different(binding_w_catalyst, catalyst=True)"
   ]
  },
  {
   "cell_type": "markdown",
   "metadata": {},
   "source": [
    "### Without catalyst"
   ]
  },
  {
   "cell_type": "code",
   "execution_count": 70,
   "metadata": {},
   "outputs": [],
   "source": [
    "# make pseudo nodes\n",
    "f = f\"{reaction_type}-pseudo.tsv\"\n",
    "subdf_wo_catalyst[reaction_standard_columns].to_csv(f\"../data/import/{f}\", sep=\"\\t\", index=None)\n",
    "query = helpers.pseudo_node_query(f, name=\"line.reaction_id\")"
   ]
  },
  {
   "cell_type": "code",
   "execution_count": 71,
   "metadata": {},
   "outputs": [
    {
     "name": "stdout",
     "output_type": "stream",
     "text": [
      "AddedBy\tSpecies\tAdditionalInfo\texternal_links\ttrust_level\tModelV\tReactionEffect\treaction_type\tModifications\treaction_id\r\n",
      "KG\tath\tWhen ETR is active, more ETR(a)/CTR(a) complex exists. RTE1 increases the formation of ETR/CTR complex.\tdoi:10.1104/pp.107.104299,doi:10.1073/pnas.0605528103\tR1\tv1.0\tactivation\tbinding/oligomerisation\t\trx00006\r\n",
      "KG\tath\tModelled as ET competitively binding CTR(a) complex. Without ethylene: EIN2 is targeted for degradation by ETP1/2 (F-box proteins), EIN3/EIL1 are targeted for degradation by EBF1/2 (F-box proteins). Ethylene inhibits ETR-CTR complex.\tdoi:10.1105/tpc.001768\tR1\tv1.0\tactivation\tbinding/oligomerisation\t\trx00008\r\n",
      "KG\tath\tTechnically the ETR(a)-CTR(a) complex keeps EIN2-C domain phosphorylated. In the presence of ethylene, CTR in the complex turns inactive, therefore allowing the cleavage of EIN2 C-terminal domain.\tdoi:10.1093/mp/ssr042,doi:10.1073/pnas.0605528103,doi:10.1042/bj20091102,doi:10.1073/pnas.1214848109,doi:10.1016/j.pbi.2008.06.011,doi:10.1093/mp/ssq036\tR1\tv2.5\tactivation\tbinding/oligomerisation\t\trx00011\r\n",
      "KG\tath\tSCF binds with EBF into an SCF-EBF complex.\tdoi:10.1105/tpc.001768,doi:10.1016/j.pbi.2008.06.011,doi:10.1073/pnas.0605528103\tR1\tv1.0\tactivation\tbinding/oligomerisation\t\trx00016\r\n",
      "KG\tath\tactually binding - acts as inhibition as it outcompetes bdingin to promotor, can be extended to include binding to HISTONE DEACETYLASE 6 (HDA6) 'interacts with JAZs and EIN3/EIL1 as a co-repressor'\tdoi:10.3389/fpls.2012.00041,doi:10.1093/jxb/eru349\tR1\tv2.5\tactivation\tbinding/oligomerisation\t\trx00018\r\n",
      "KG\tath\tbHLH003, bHLH013 and bHLH017 are mainly nuclear proteins and bind DNA with similar specificity to that of MYC2, MYC3 and MYC4, but lack a conserved activation domain, suggesting that repression is achieved by competition for the same cis-regulatory elements\tdoi:10.1105/tpc.110.080788,doi:10.1016/j.jtbi.2010.12.037,doi:10.1146/annurev.arplant.043008.092007,doi:10.1126/scisignal.3109cm4,doi:10.1007/978-0-387-85498-4_8\tR1\tv1.0\tactivation\tbinding/oligomerisation\t\trx00047\r\n",
      "KG\tath\tBind themselves, then additionally CC receptors (exception for HRT vs. TCV).\tdoi:10.1105/tpc.113.111658\tR1\tv2.7\tactivation\tbinding/oligomerisation\t\trx00054\r\n",
      "KG\tath\tBind themselves, then additionally other receptors (e.g. RPM).\tdoi:10.1105/tpc.113.111658\tR1\tv2.7\tactivation\tbinding/oligomerisation\t\trx00055\r\n",
      "KG\tath/stu\tPotato resistance proteins Rx, Rx2, and GREEN PEACH APHID2 interact with RanGAP2. This interaction is required for specific recognition of PVX coat protein (and resistance against it).\tdoi:10.1105/tpc.113.111658\tR1\tv2.7\tactivation\tbinding/oligomerisation\t\trx00057\r\n"
     ]
    }
   ],
   "source": [
    "!head ../data/import/$f"
   ]
  },
  {
   "cell_type": "code",
   "execution_count": 72,
   "metadata": {
    "scrolled": true
   },
   "outputs": [
    {
     "name": "stdout",
     "output_type": "stream",
     "text": [
      "PseudoNode          \t103\t103\n"
     ]
    }
   ],
   "source": [
    "qr = graph.run(query)\n",
    "pretty_print_result('PseudoNode', subdf_wo_catalyst, qr, 'nodes')"
   ]
  },
  {
   "cell_type": "code",
   "execution_count": 73,
   "metadata": {},
   "outputs": [],
   "source": [
    "explode_cols = substrate_cols\n",
    "exploded_new_subdf = helpers.unnesting(subdf_wo_catalyst, explode_cols)#.drop_duplicates()"
   ]
  },
  {
   "cell_type": "code",
   "execution_count": 74,
   "metadata": {},
   "outputs": [
    {
     "name": "stdout",
     "output_type": "stream",
     "text": [
      "Complex             \t 16\t 16\n",
      "ExternalCoding      \t 30\t 30\n",
      "ExternalEntity      \t  3\t  3\n",
      "Metabolite          \t 32\t 32\n",
      "PlantAbstract       \t  4\t  4\n",
      "PlantCoding         \t131\t131\n",
      "Process             \t  3\t  3\n"
     ]
    }
   ],
   "source": [
    "# binding substrate edges\n",
    "want_cols = reaction_standard_columns + substrate_cols\n",
    "\n",
    "for t, this_subdf in exploded_new_subdf.groupby(\"substrate_label\"):\n",
    "    f = f\"{reaction_type}-{t}-substrate_edges.tsv\"\n",
    "    this_subdf[want_cols].to_csv(f\"../data/import/{f}\", index=None, sep=\"\\t\")\n",
    "    \n",
    "    query = helpers.make_create_reaction_edge_query(f, 'SUBSTRATE', \n",
    "                                                    \"substrate\", \"dne\",\n",
    "                                                    source_label=t, \n",
    "                                                    target_label=\"PseudoNode\", \n",
    "                                                    target_name=\"line.reaction_id\"\n",
    "                                                   )\n",
    "\n",
    "    qr = graph.run(query)\n",
    "\n",
    "    pretty_print_result(t, this_subdf, qr, 'relationships')\n"
   ]
  },
  {
   "cell_type": "code",
   "execution_count": 75,
   "metadata": {},
   "outputs": [
    {
     "data": {
      "text/html": [
       "<div>\n",
       "<style scoped>\n",
       "    .dataframe tbody tr th:only-of-type {\n",
       "        vertical-align: middle;\n",
       "    }\n",
       "\n",
       "    .dataframe tbody tr th {\n",
       "        vertical-align: top;\n",
       "    }\n",
       "\n",
       "    .dataframe thead th {\n",
       "        text-align: right;\n",
       "    }\n",
       "</style>\n",
       "<table border=\"1\" class=\"dataframe\">\n",
       "  <thead>\n",
       "    <tr style=\"text-align: right;\">\n",
       "      <th></th>\n",
       "      <th>ConnID</th>\n",
       "      <th>input1_newID</th>\n",
       "      <th>input2_newID</th>\n",
       "      <th>input3_newID</th>\n",
       "      <th>substrate_name</th>\n",
       "    </tr>\n",
       "  </thead>\n",
       "  <tbody>\n",
       "  </tbody>\n",
       "</table>\n",
       "</div>"
      ],
      "text/plain": [
       "Empty DataFrame\n",
       "Columns: [ConnID, input1_newID, input2_newID, input3_newID, substrate_name]\n",
       "Index: []"
      ]
     },
     "execution_count": 75,
     "metadata": {},
     "output_type": "execute_result"
    }
   ],
   "source": [
    "subdf_wo_catalyst[subdf_wo_catalyst['ConnID'].isin(exploded_new_subdf[exploded_new_subdf[\"substrate_label\"]==\"nan\"]['ConnID'].unique())][['ConnID', 'input1_newID', 'input2_newID', 'input3_newID', 'substrate_name']]"
   ]
  },
  {
   "cell_type": "code",
   "execution_count": 76,
   "metadata": {},
   "outputs": [
    {
     "name": "stdout",
     "output_type": "stream",
     "text": [
      "Conn115\n",
      "Conn117\n",
      "Conn119\n"
     ]
    }
   ],
   "source": [
    "for x in this_subdf['ConnID'].unique():\n",
    "    print(x)"
   ]
  },
  {
   "cell_type": "code",
   "execution_count": 77,
   "metadata": {},
   "outputs": [],
   "source": [
    "f = f\"{reaction_type}-product_edges.tsv\"\n",
    "want_cols = reaction_standard_columns + product_cols\n",
    "subdf_wo_catalyst[want_cols].to_csv(f'../data/import/{f}', sep=\"\\t\", index=None)"
   ]
  },
  {
   "cell_type": "code",
   "execution_count": 78,
   "metadata": {},
   "outputs": [
    {
     "data": {
      "text/html": [
       "<div>\n",
       "<style scoped>\n",
       "    .dataframe tbody tr th:only-of-type {\n",
       "        vertical-align: middle;\n",
       "    }\n",
       "\n",
       "    .dataframe tbody tr th {\n",
       "        vertical-align: top;\n",
       "    }\n",
       "\n",
       "    .dataframe thead th {\n",
       "        text-align: right;\n",
       "    }\n",
       "</style>\n",
       "<table border=\"1\" class=\"dataframe\">\n",
       "  <thead>\n",
       "    <tr style=\"text-align: right;\">\n",
       "      <th></th>\n",
       "      <th>product_name</th>\n",
       "      <th>product_label</th>\n",
       "      <th>product_form</th>\n",
       "      <th>product_location</th>\n",
       "      <th>product_ath_homologues</th>\n",
       "      <th>product_osa_homologues</th>\n",
       "      <th>product_stu_homologues</th>\n",
       "      <th>product_sly_homologues</th>\n",
       "      <th>output1_ID</th>\n",
       "      <th>output1_newID</th>\n",
       "      <th>ConnID</th>\n",
       "    </tr>\n",
       "  </thead>\n",
       "  <tbody>\n",
       "  </tbody>\n",
       "</table>\n",
       "</div>"
      ],
      "text/plain": [
       "Empty DataFrame\n",
       "Columns: [product_name, product_label, product_form, product_location, product_ath_homologues, product_osa_homologues, product_stu_homologues, product_sly_homologues, output1_ID, output1_newID, ConnID]\n",
       "Index: []"
      ]
     },
     "execution_count": 78,
     "metadata": {},
     "output_type": "execute_result"
    }
   ],
   "source": [
    "subdf_wo_catalyst[subdf_wo_catalyst[\"product_name\"].isna()][product_cols + [\"output1_ID\", \"output1_newID\", \"ConnID\"]]"
   ]
  },
  {
   "cell_type": "code",
   "execution_count": 79,
   "metadata": {},
   "outputs": [
    {
     "name": "stdout",
     "output_type": "stream",
     "text": [
      "-                   \t103\t103\n"
     ]
    }
   ],
   "source": [
    "# binding product edges\n",
    "query = helpers.make_create_reaction_edge_query(f, \"PRODUCT\", \n",
    "                                                \"dne\", \"product\",\n",
    "                                                source_name=\"line.reaction_id\", \n",
    "                                                source_label=\"PseudoNode\"\n",
    "                                               )\n",
    "qr = graph.run(query)\n",
    "pretty_print_result('-', subdf_wo_catalyst, qr, 'relationships')"
   ]
  },
  {
   "cell_type": "code",
   "execution_count": 80,
   "metadata": {},
   "outputs": [],
   "source": [
    "q = '''LOAD CSV WITH HEADERS FROM  'file:///BINDING_OGLIMERISATION-product_edges.tsv' AS line FIELDTERMINATOR '\t'\n",
    "       OPTIONAL MATCH (source:PseudoNode { name:line.reaction_id})\n",
    "       OPTIONAL MATCH (target { name:line.product_name})\n",
    "\n",
    "        WITH source, target, line\n",
    "            WHERE source IS NULL OR target is NULL\n",
    "            RETURN target, line.reaction_id, line.product_name\n",
    "           '''\n",
    "\n",
    "\n",
    "result = graph.run(q)"
   ]
  },
  {
   "cell_type": "code",
   "execution_count": 81,
   "metadata": {},
   "outputs": [
    {
     "data": {
      "text/plain": [
       "[]"
      ]
     },
     "execution_count": 81,
     "metadata": {},
     "output_type": "execute_result"
    }
   ],
   "source": [
    "d = result.data(); d"
   ]
  },
  {
   "cell_type": "code",
   "execution_count": 82,
   "metadata": {},
   "outputs": [],
   "source": [
    "rx_ids = [x['line.reaction_id'] for x in d]"
   ]
  },
  {
   "cell_type": "code",
   "execution_count": 83,
   "metadata": {},
   "outputs": [
    {
     "data": {
      "text/html": [
       "<div>\n",
       "<style scoped>\n",
       "    .dataframe tbody tr th:only-of-type {\n",
       "        vertical-align: middle;\n",
       "    }\n",
       "\n",
       "    .dataframe tbody tr th {\n",
       "        vertical-align: top;\n",
       "    }\n",
       "\n",
       "    .dataframe thead th {\n",
       "        text-align: right;\n",
       "    }\n",
       "</style>\n",
       "<table border=\"1\" class=\"dataframe\">\n",
       "  <thead>\n",
       "    <tr style=\"text-align: right;\">\n",
       "      <th></th>\n",
       "      <th>Status</th>\n",
       "      <th>ConnID</th>\n",
       "      <th>output1_ID</th>\n",
       "    </tr>\n",
       "  </thead>\n",
       "  <tbody>\n",
       "  </tbody>\n",
       "</table>\n",
       "</div>"
      ],
      "text/plain": [
       "Empty DataFrame\n",
       "Columns: [Status, ConnID, output1_ID]\n",
       "Index: []"
      ]
     },
     "execution_count": 83,
     "metadata": {},
     "output_type": "execute_result"
    }
   ],
   "source": [
    "subdf_wo_catalyst[subdf_wo_catalyst['reaction_id'].isin(rx_ids)][['Status', 'ConnID', 'output1_ID']]"
   ]
  },
  {
   "cell_type": "code",
   "execution_count": null,
   "metadata": {},
   "outputs": [],
   "source": []
  },
  {
   "cell_type": "markdown",
   "metadata": {},
   "source": [
    "### With catalyst"
   ]
  },
  {
   "cell_type": "code",
   "execution_count": 84,
   "metadata": {},
   "outputs": [
    {
     "data": {
      "text/html": [
       "<div>\n",
       "<style scoped>\n",
       "    .dataframe tbody tr th:only-of-type {\n",
       "        vertical-align: middle;\n",
       "    }\n",
       "\n",
       "    .dataframe tbody tr th {\n",
       "        vertical-align: top;\n",
       "    }\n",
       "\n",
       "    .dataframe thead th {\n",
       "        text-align: right;\n",
       "    }\n",
       "</style>\n",
       "<table border=\"1\" class=\"dataframe\">\n",
       "  <thead>\n",
       "    <tr style=\"text-align: right;\">\n",
       "      <th></th>\n",
       "      <th>Status</th>\n",
       "      <th>AddedBy</th>\n",
       "      <th>ConnID</th>\n",
       "      <th>Species</th>\n",
       "      <th>input1_ID</th>\n",
       "      <th>input1_level</th>\n",
       "      <th>input1_localisation</th>\n",
       "      <th>input1_type</th>\n",
       "      <th>input2_ID</th>\n",
       "      <th>input2_level</th>\n",
       "      <th>...</th>\n",
       "      <th>catalyst_stu_homologues</th>\n",
       "      <th>catalyst_sly_homologues</th>\n",
       "      <th>product_name</th>\n",
       "      <th>product_location</th>\n",
       "      <th>product_label</th>\n",
       "      <th>product_form</th>\n",
       "      <th>product_ath_homologues</th>\n",
       "      <th>product_osa_homologues</th>\n",
       "      <th>product_stu_homologues</th>\n",
       "      <th>product_sly_homologues</th>\n",
       "    </tr>\n",
       "  </thead>\n",
       "  <tbody>\n",
       "    <tr>\n",
       "      <th>93</th>\n",
       "      <td>forCB</td>\n",
       "      <td>KG</td>\n",
       "      <td>Conn094</td>\n",
       "      <td>ath</td>\n",
       "      <td>NPR1</td>\n",
       "      <td>node</td>\n",
       "      <td>cytoplasm</td>\n",
       "      <td>protein</td>\n",
       "      <td>NPR1</td>\n",
       "      <td>node</td>\n",
       "      <td>...</td>\n",
       "      <td>NaN</td>\n",
       "      <td>NaN</td>\n",
       "      <td>NPR1|NPR1</td>\n",
       "      <td>cytoplasm</td>\n",
       "      <td>Complex</td>\n",
       "      <td>complex_active</td>\n",
       "      <td>NaN</td>\n",
       "      <td>NaN</td>\n",
       "      <td>NaN</td>\n",
       "      <td>NaN</td>\n",
       "    </tr>\n",
       "  </tbody>\n",
       "</table>\n",
       "<p>1 rows × 89 columns</p>\n",
       "</div>"
      ],
      "text/plain": [
       "   Status AddedBy   ConnID Species input1_ID input1_level input1_localisation  \\\n",
       "93  forCB      KG  Conn094     ath      NPR1         node           cytoplasm   \n",
       "\n",
       "   input1_type input2_ID input2_level  ... catalyst_stu_homologues  \\\n",
       "93     protein      NPR1         node  ...                     NaN   \n",
       "\n",
       "   catalyst_sly_homologues product_name product_location product_label  \\\n",
       "93                     NaN    NPR1|NPR1        cytoplasm       Complex   \n",
       "\n",
       "      product_form product_ath_homologues product_osa_homologues  \\\n",
       "93  complex_active                    NaN                    NaN   \n",
       "\n",
       "   product_stu_homologues product_sly_homologues  \n",
       "93                    NaN                    NaN  \n",
       "\n",
       "[1 rows x 89 columns]"
      ]
     },
     "execution_count": 84,
     "metadata": {},
     "output_type": "execute_result"
    }
   ],
   "source": [
    "subdf_w_catalyst"
   ]
  },
  {
   "cell_type": "code",
   "execution_count": 85,
   "metadata": {
    "scrolled": true
   },
   "outputs": [
    {
     "data": {
      "text/plain": [
       "1"
      ]
     },
     "execution_count": 85,
     "metadata": {},
     "output_type": "execute_result"
    }
   ],
   "source": [
    "subdf_w_catalyst.shape[0]"
   ]
  },
  {
   "cell_type": "code",
   "execution_count": 86,
   "metadata": {},
   "outputs": [],
   "source": [
    "explode_cols = substrate_cols\n",
    "exploded_new_subdf = helpers.unnesting(subdf_w_catalyst, explode_cols).drop_duplicates()"
   ]
  },
  {
   "cell_type": "code",
   "execution_count": 87,
   "metadata": {},
   "outputs": [
    {
     "name": "stdout",
     "output_type": "stream",
     "text": [
      "PlantCoding         \t  1\t  1\n"
     ]
    }
   ],
   "source": [
    "# binding substrate edges\n",
    "\n",
    "want_cols = reaction_standard_columns + substrate_cols + catalyst_cols\n",
    "\n",
    "for t, this_subdf in exploded_new_subdf.groupby(\"substrate_label\"):\n",
    "    f = f\"{reaction_type}-{t}-catalyst-substrate_edges.tsv\"\n",
    "    this_subdf[want_cols].to_csv(f\"../data/import/{f}\", index=None, sep=\"\\t\")\n",
    "    \n",
    "    query = helpers.make_create_reaction_edge_query(f, 'SUBSTRATE',\n",
    "                                                    \"substrate\", \"catalyst\",\n",
    "                                                    source_label=t\n",
    "                                                   )\n",
    "    qr = graph.run(query)\n",
    "    pretty_print_result(t, this_subdf, qr, 'relationships')"
   ]
  },
  {
   "cell_type": "code",
   "execution_count": 88,
   "metadata": {},
   "outputs": [],
   "source": [
    "f = f\"{reaction_type}-catalyst-product_edges.tsv\"\n",
    "want_cols = reaction_standard_columns + catalyst_cols + product_cols\n",
    "subdf_w_catalyst[want_cols].to_csv(f'../data/import/{f}', sep=\"\\t\", index=None)"
   ]
  },
  {
   "cell_type": "code",
   "execution_count": 89,
   "metadata": {},
   "outputs": [
    {
     "name": "stdout",
     "output_type": "stream",
     "text": [
      "-                   \t  1\t  1\n"
     ]
    }
   ],
   "source": [
    "# binding product edges\n",
    "query = helpers.make_create_reaction_edge_query(f, \"PRODUCT\",\n",
    "                                                \"catalyst\", \"product\"\n",
    "                                               )\n",
    "qr = graph.run(query)\n",
    "pretty_print_result('-', subdf_w_catalyst, qr, 'relationships')"
   ]
  },
  {
   "cell_type": "markdown",
   "metadata": {},
   "source": [
    "## catalysis / auto-catalysis"
   ]
  },
  {
   "cell_type": "code",
   "execution_count": 117,
   "metadata": {
    "scrolled": false
   },
   "outputs": [
    {
     "data": {
      "image/png": "[encoded data removed]",
      "text/plain": [
       "<IPython.core.display.Image object>"
      ]
     },
     "execution_count": 117,
     "metadata": {},
     "output_type": "execute_result"
    }
   ],
   "source": [
    "Image(filename='./reaction_types/activation/catalysis_auto_catalysis.png')"
   ]
  },
  {
   "cell_type": "code",
   "execution_count": 118,
   "metadata": {},
   "outputs": [
    {
     "name": "stdout",
     "output_type": "stream",
     "text": [
      "CATALYSIS 79\n"
     ]
    }
   ],
   "source": [
    "key = 'catalysis/auto-catalysis'\n",
    "reaction_type = 'CATALYSIS'\n",
    "subdf = df_edges[df_edges['reaction_type'] == key]\n",
    "print(reaction_type, subdf.shape[0])"
   ]
  },
  {
   "cell_type": "code",
   "execution_count": 119,
   "metadata": {},
   "outputs": [],
   "source": [
    "# with and without catalyst"
   ]
  },
  {
   "cell_type": "code",
   "execution_count": 120,
   "metadata": {},
   "outputs": [
    {
     "data": {
      "text/html": [
       "<div>\n",
       "<style scoped>\n",
       "    .dataframe tbody tr th:only-of-type {\n",
       "        vertical-align: middle;\n",
       "    }\n",
       "\n",
       "    .dataframe tbody tr th {\n",
       "        vertical-align: top;\n",
       "    }\n",
       "\n",
       "    .dataframe thead th {\n",
       "        text-align: right;\n",
       "    }\n",
       "</style>\n",
       "<table border=\"1\" class=\"dataframe\">\n",
       "  <thead>\n",
       "    <tr style=\"text-align: right;\">\n",
       "      <th></th>\n",
       "      <th>Status</th>\n",
       "      <th>AddedBy</th>\n",
       "      <th>ConnID</th>\n",
       "      <th>Species</th>\n",
       "      <th>input1_ID</th>\n",
       "      <th>input1_level</th>\n",
       "      <th>input1_localisation</th>\n",
       "      <th>input1_type</th>\n",
       "      <th>input2_ID</th>\n",
       "      <th>input2_level</th>\n",
       "      <th>...</th>\n",
       "      <th>output1_ath_homologues</th>\n",
       "      <th>output1_osa_homologues</th>\n",
       "      <th>output1_sly_homologues</th>\n",
       "      <th>output1_stu_homologues</th>\n",
       "      <th>input1_location</th>\n",
       "      <th>input2_location</th>\n",
       "      <th>input3_location</th>\n",
       "      <th>output1_location</th>\n",
       "      <th>reaction_type</th>\n",
       "      <th>reaction_id</th>\n",
       "    </tr>\n",
       "  </thead>\n",
       "  <tbody>\n",
       "    <tr>\n",
       "      <th>378</th>\n",
       "      <td>[TBD]</td>\n",
       "      <td>AG</td>\n",
       "      <td>Conn389</td>\n",
       "      <td>Ath</td>\n",
       "      <td>tZRMP</td>\n",
       "      <td>node</td>\n",
       "      <td>cytoplasm?</td>\n",
       "      <td>metabolite</td>\n",
       "      <td>NaN</td>\n",
       "      <td>NaN</td>\n",
       "      <td>...</td>\n",
       "      <td>NaN</td>\n",
       "      <td>NaN</td>\n",
       "      <td>NaN</td>\n",
       "      <td>NaN</td>\n",
       "      <td>putative:cytoplasm</td>\n",
       "      <td>putative:cytoplasm</td>\n",
       "      <td>putative:cytoplasm</td>\n",
       "      <td>putative:cytoplasm</td>\n",
       "      <td>catalysis/auto-catalysis</td>\n",
       "      <td>rx00379</td>\n",
       "    </tr>\n",
       "  </tbody>\n",
       "</table>\n",
       "<p>1 rows × 65 columns</p>\n",
       "</div>"
      ],
      "text/plain": [
       "    Status AddedBy   ConnID Species input1_ID input1_level  \\\n",
       "378  [TBD]      AG  Conn389     Ath     tZRMP         node   \n",
       "\n",
       "    input1_localisation input1_type input2_ID input2_level  ...  \\\n",
       "378          cytoplasm?  metabolite       NaN          NaN  ...   \n",
       "\n",
       "    output1_ath_homologues output1_osa_homologues output1_sly_homologues  \\\n",
       "378                    NaN                    NaN                    NaN   \n",
       "\n",
       "    output1_stu_homologues     input1_location     input2_location  \\\n",
       "378                    NaN  putative:cytoplasm  putative:cytoplasm   \n",
       "\n",
       "        input3_location    output1_location             reaction_type  \\\n",
       "378  putative:cytoplasm  putative:cytoplasm  catalysis/auto-catalysis   \n",
       "\n",
       "    reaction_id  \n",
       "378     rx00379  \n",
       "\n",
       "[1 rows x 65 columns]"
      ]
     },
     "execution_count": 120,
     "metadata": {},
     "output_type": "execute_result"
    }
   ],
   "source": [
    "subdf[subdf['input2_ID'].isna() & subdf['input3_ID'].isna()]"
   ]
  },
  {
   "cell_type": "code",
   "execution_count": 121,
   "metadata": {},
   "outputs": [],
   "source": [
    "catalysis_wo_catalyst = subdf[subdf['input2_ID'].isna() & subdf['input3_ID'].isna()]\n",
    "catalysis_w_catalyst = subdf[~(subdf['input2_ID'].isna() & subdf['input3_ID'].isna())]"
   ]
  },
  {
   "cell_type": "code",
   "execution_count": null,
   "metadata": {},
   "outputs": [],
   "source": []
  },
  {
   "cell_type": "markdown",
   "metadata": {},
   "source": [
    "### With catalyst"
   ]
  },
  {
   "cell_type": "code",
   "execution_count": 122,
   "metadata": {},
   "outputs": [],
   "source": [
    "subdf_w_catalyst = number_input_different(catalysis_w_catalyst, catalyst=True)\n",
    "new_subdf = number_input_different(subdf_w_catalyst, catalyst=True)"
   ]
  },
  {
   "cell_type": "code",
   "execution_count": 123,
   "metadata": {},
   "outputs": [],
   "source": [
    "exploded_new_subdf = helpers.unnesting(new_subdf, substrate_cols)"
   ]
  },
  {
   "cell_type": "code",
   "execution_count": 124,
   "metadata": {},
   "outputs": [
    {
     "name": "stdout",
     "output_type": "stream",
     "text": [
      "Metabolite          \t 79\t 79\n",
      "PlantCoding         \t 21\t 21\n"
     ]
    }
   ],
   "source": [
    "# substrate to catalyst\n",
    "want_cols = reaction_standard_columns + substrate_cols + catalyst_cols\n",
    "\n",
    "for t, this_subdf in exploded_new_subdf.groupby(\"substrate_label\"):\n",
    "    f = f\"{reaction_type}-{t}-substrate_edges.tsv\"\n",
    "    this_subdf[want_cols].to_csv(f\"../data/import/{f}\", index=None, sep=\"\\t\")\n",
    "    \n",
    "    query = helpers.make_create_reaction_edge_query(f, 'SUBSTRATE', \n",
    "                                                    \"substrate\", \"catalyst\",\n",
    "                                                    source_label=t\n",
    "                                                   )\n",
    "    qr = graph.run(query)\n",
    "    pretty_print_result(t, this_subdf, qr, 'relationships')"
   ]
  },
  {
   "cell_type": "code",
   "execution_count": 125,
   "metadata": {},
   "outputs": [
    {
     "data": {
      "text/plain": [
       "[]"
      ]
     },
     "execution_count": 125,
     "metadata": {},
     "output_type": "execute_result"
    }
   ],
   "source": [
    "q = '''LOAD CSV WITH HEADERS FROM  'file:///CATALYSIS-Metabolite-substrate_edges.tsv' AS line FIELDTERMINATOR '\t'\n",
    "       OPTIONAL MATCH (source { name:line.substrate_name})\n",
    "       OPTIONAL MATCH (target { name:line.catalyst_name})\n",
    "\n",
    "        WITH source, target, line\n",
    "            WHERE source IS NULL OR target is NULL\n",
    "            RETURN source.name, line.substrate_name,  target.name, line.catalyst_name, line.reaction_id\n",
    "           '''\n",
    "\n",
    "result = graph.run(q)\n",
    "result.data()"
   ]
  },
  {
   "cell_type": "code",
   "execution_count": 127,
   "metadata": {},
   "outputs": [
    {
     "name": "stdout",
     "output_type": "stream",
     "text": [
      "Metabolite          \t 76\t 76\n",
      "MetaboliteFamily    \t  2\t  2\n"
     ]
    }
   ],
   "source": [
    "# catalyst to product\n",
    "want_cols = reaction_standard_columns + catalyst_cols + product_cols\n",
    "for t, this_subdf in new_subdf.groupby(\"product_label\"):\n",
    "    f = f\"{reaction_type}-{t}-product_edges.tsv\"    \n",
    "    this_subdf[want_cols].to_csv(f\"../data/import/{f}\", index=None, sep=\"\\t\")\n",
    "    \n",
    "    query = helpers.make_create_reaction_edge_query(f, 'PRODUCT', \n",
    "                                                    \"catalyst\", \"product\",\n",
    "                                                    target_label=t\n",
    "                                                   )    \n",
    "    qr = graph.run(query)\n",
    "\n",
    "    pretty_print_result(t, this_subdf, qr, 'relationships')"
   ]
  },
  {
   "cell_type": "code",
   "execution_count": null,
   "metadata": {},
   "outputs": [],
   "source": []
  },
  {
   "cell_type": "code",
   "execution_count": null,
   "metadata": {},
   "outputs": [],
   "source": []
  },
  {
   "cell_type": "markdown",
   "metadata": {},
   "source": [
    "### Without catalyst"
   ]
  },
  {
   "cell_type": "code",
   "execution_count": 128,
   "metadata": {},
   "outputs": [
    {
     "name": "stderr",
     "output_type": "stream",
     "text": [
      "/opt/conda/lib/python3.7/site-packages/ipykernel_launcher.py:26: SettingWithCopyWarning: \n",
      "A value is trying to be set on a copy of a slice from a DataFrame.\n",
      "Try using .loc[row_indexer,col_indexer] = value instead\n",
      "\n",
      "See the caveats in the documentation: http://pandas.pydata.org/pandas-docs/stable/indexing.html#indexing-view-versus-copy\n"
     ]
    }
   ],
   "source": [
    "rename_target(catalysis_wo_catalyst, 'output1', 'product')\n",
    "rename_target(catalysis_wo_catalyst, 'input1',  'substrate')"
   ]
  },
  {
   "cell_type": "code",
   "execution_count": 129,
   "metadata": {},
   "outputs": [
    {
     "data": {
      "text/plain": [
       "378    rx00379\n",
       "Name: reaction_id, dtype: object"
      ]
     },
     "execution_count": 129,
     "metadata": {},
     "output_type": "execute_result"
    }
   ],
   "source": [
    "catalysis_wo_catalyst['reaction_id']"
   ]
  },
  {
   "cell_type": "code",
   "execution_count": 130,
   "metadata": {},
   "outputs": [],
   "source": [
    "# make pseudo nodes\n",
    "f = f\"{reaction_type}-pseudo.tsv\"\n",
    "catalysis_wo_catalyst[reaction_standard_columns].to_csv(f\"../data/import/{f}\", sep=\"\\t\", index=None)\n",
    "query = helpers.pseudo_node_query(f, name=\"line.reaction_id\")"
   ]
  },
  {
   "cell_type": "code",
   "execution_count": 131,
   "metadata": {
    "scrolled": true
   },
   "outputs": [
    {
     "name": "stdout",
     "output_type": "stream",
     "text": [
      "PseudoNode          \t  1\t  1\n"
     ]
    }
   ],
   "source": [
    "qr = graph.run(query)\n",
    "pretty_print_result('PseudoNode', catalysis_wo_catalyst, qr, 'nodes')"
   ]
  },
  {
   "cell_type": "code",
   "execution_count": 132,
   "metadata": {},
   "outputs": [
    {
     "name": "stdout",
     "output_type": "stream",
     "text": [
      "MetaboliteFamily    \t  1\t  1\n"
     ]
    }
   ],
   "source": [
    "# binding substrate edges\n",
    "want_cols = reaction_standard_columns + substrate_cols\n",
    "\n",
    "for t, this_subdf in catalysis_wo_catalyst.groupby(\"substrate_label\"):\n",
    "    f = f\"{reaction_type}-{t}-substrate_edges.tsv\"\n",
    "    this_subdf[want_cols].to_csv(f\"../data/import/{f}\", index=None, sep=\"\\t\")\n",
    "    \n",
    "    query = helpers.make_create_reaction_edge_query(f, 'SUBSTRATE', \n",
    "                                                    \"substrate\", \"dne\",\n",
    "                                                    source_label=t, \n",
    "                                                    target_label=\"PseudoNode\", \n",
    "                                                    target_name=\"line.reaction_id\"\n",
    "                                                   )\n",
    "\n",
    "    qr = graph.run(query)\n",
    "\n",
    "    pretty_print_result(t, this_subdf, qr, 'relationships')\n"
   ]
  },
  {
   "cell_type": "code",
   "execution_count": 133,
   "metadata": {},
   "outputs": [],
   "source": [
    "f = f\"{reaction_type}-product_edges.tsv\"\n",
    "want_cols = reaction_standard_columns + product_cols\n",
    "catalysis_wo_catalyst[want_cols].to_csv(f'../data/import/{f}', sep=\"\\t\", index=None)"
   ]
  },
  {
   "cell_type": "code",
   "execution_count": 134,
   "metadata": {},
   "outputs": [
    {
     "name": "stdout",
     "output_type": "stream",
     "text": [
      "-                   \t  1\t  1\n"
     ]
    }
   ],
   "source": [
    "# binding product edges\n",
    "query = helpers.make_create_reaction_edge_query(f, \"PRODUCT\", \n",
    "                                                \"dne\", \"product\",\n",
    "                                                source_name=\"line.reaction_id\", \n",
    "                                                source_label=\"PseudoNode\"\n",
    "                                               )\n",
    "qr = graph.run(query)\n",
    "pretty_print_result('-', catalysis_wo_catalyst, qr, 'relationships')"
   ]
  },
  {
   "cell_type": "code",
   "execution_count": null,
   "metadata": {},
   "outputs": [],
   "source": []
  },
  {
   "cell_type": "code",
   "execution_count": 135,
   "metadata": {},
   "outputs": [
    {
     "data": {
      "text/plain": [
       "101"
      ]
     },
     "execution_count": 135,
     "metadata": {},
     "output_type": "execute_result"
    }
   ],
   "source": [
    "q = '''MATCH ()-[r:SUBSTRATE {reaction_type:\"catalysis/auto-catalysis\"}]->() RETURN r'''\n",
    "c = graph.run(q).data()\n",
    "len(c) # should be ??"
   ]
  },
  {
   "cell_type": "code",
   "execution_count": 136,
   "metadata": {},
   "outputs": [
    {
     "data": {
      "text/plain": [
       "79"
      ]
     },
     "execution_count": 136,
     "metadata": {},
     "output_type": "execute_result"
    }
   ],
   "source": [
    "q = '''MATCH ()-[r:PRODUCT {reaction_type:\"catalysis/auto-catalysis\"}]->() RETURN r'''\n",
    "c = graph.run(q).data()\n",
    "len(c) # should be ??"
   ]
  },
  {
   "cell_type": "markdown",
   "metadata": {},
   "source": [
    "## dissociation"
   ]
  },
  {
   "cell_type": "code",
   "execution_count": 137,
   "metadata": {},
   "outputs": [
    {
     "data": {
      "image/png": "[encoded data removed]",
      "text/plain": [
       "<IPython.core.display.Image object>"
      ]
     },
     "execution_count": 137,
     "metadata": {},
     "output_type": "execute_result"
    }
   ],
   "source": [
    "Image(filename='./reaction_types/activation/dissociation.png')"
   ]
  },
  {
   "cell_type": "code",
   "execution_count": 138,
   "metadata": {},
   "outputs": [
    {
     "name": "stdout",
     "output_type": "stream",
     "text": [
      "DISSOCIATION 1\n"
     ]
    }
   ],
   "source": [
    "key = 'dissociation'\n",
    "reaction_type = 'DISSOCIATION'\n",
    "subdf = df_edges[df_edges['reaction_type'] == key].copy()\n",
    "print(reaction_type, subdf.shape[0])"
   ]
  },
  {
   "cell_type": "code",
   "execution_count": 139,
   "metadata": {
    "scrolled": false
   },
   "outputs": [
    {
     "data": {
      "text/html": [
       "<div>\n",
       "<style scoped>\n",
       "    .dataframe tbody tr th:only-of-type {\n",
       "        vertical-align: middle;\n",
       "    }\n",
       "\n",
       "    .dataframe tbody tr th {\n",
       "        vertical-align: top;\n",
       "    }\n",
       "\n",
       "    .dataframe thead th {\n",
       "        text-align: right;\n",
       "    }\n",
       "</style>\n",
       "<table border=\"1\" class=\"dataframe\">\n",
       "  <thead>\n",
       "    <tr style=\"text-align: right;\">\n",
       "      <th></th>\n",
       "      <th>Status</th>\n",
       "      <th>AddedBy</th>\n",
       "      <th>ConnID</th>\n",
       "      <th>Species</th>\n",
       "      <th>input1_ID</th>\n",
       "      <th>input1_level</th>\n",
       "      <th>input1_localisation</th>\n",
       "      <th>input1_type</th>\n",
       "      <th>input2_ID</th>\n",
       "      <th>input2_level</th>\n",
       "      <th>...</th>\n",
       "      <th>output1_ath_homologues</th>\n",
       "      <th>output1_osa_homologues</th>\n",
       "      <th>output1_sly_homologues</th>\n",
       "      <th>output1_stu_homologues</th>\n",
       "      <th>input1_location</th>\n",
       "      <th>input2_location</th>\n",
       "      <th>input3_location</th>\n",
       "      <th>output1_location</th>\n",
       "      <th>reaction_type</th>\n",
       "      <th>reaction_id</th>\n",
       "    </tr>\n",
       "  </thead>\n",
       "  <tbody>\n",
       "    <tr>\n",
       "      <th>95</th>\n",
       "      <td>forCB</td>\n",
       "      <td>KG</td>\n",
       "      <td>Conn096</td>\n",
       "      <td>ath</td>\n",
       "      <td>NPR1|NPR1</td>\n",
       "      <td>family</td>\n",
       "      <td>cytoplasm</td>\n",
       "      <td>complex</td>\n",
       "      <td>TRX-H</td>\n",
       "      <td>family</td>\n",
       "      <td>...</td>\n",
       "      <td>AT1G64280</td>\n",
       "      <td>NaN</td>\n",
       "      <td>NaN</td>\n",
       "      <td>NaN</td>\n",
       "      <td>cytoplasm</td>\n",
       "      <td>cytoplasm</td>\n",
       "      <td>putative:cytoplasm</td>\n",
       "      <td>cytoplasm</td>\n",
       "      <td>dissociation</td>\n",
       "      <td>rx00096</td>\n",
       "    </tr>\n",
       "  </tbody>\n",
       "</table>\n",
       "<p>1 rows × 65 columns</p>\n",
       "</div>"
      ],
      "text/plain": [
       "   Status AddedBy   ConnID Species  input1_ID input1_level  \\\n",
       "95  forCB      KG  Conn096     ath  NPR1|NPR1       family   \n",
       "\n",
       "   input1_localisation input1_type input2_ID input2_level  ...  \\\n",
       "95           cytoplasm     complex     TRX-H       family  ...   \n",
       "\n",
       "   output1_ath_homologues output1_osa_homologues output1_sly_homologues  \\\n",
       "95              AT1G64280                    NaN                    NaN   \n",
       "\n",
       "   output1_stu_homologues input1_location input2_location     input3_location  \\\n",
       "95                    NaN       cytoplasm       cytoplasm  putative:cytoplasm   \n",
       "\n",
       "   output1_location reaction_type reaction_id  \n",
       "95        cytoplasm  dissociation     rx00096  \n",
       "\n",
       "[1 rows x 65 columns]"
      ]
     },
     "execution_count": 139,
     "metadata": {},
     "output_type": "execute_result"
    }
   ],
   "source": [
    "subdf"
   ]
  },
  {
   "cell_type": "code",
   "execution_count": 140,
   "metadata": {},
   "outputs": [],
   "source": [
    "rename_target(subdf, 'output1', 'product')\n",
    "rename_target(subdf, 'input1',  'substrate')\n",
    "rename_target(subdf, 'input2',  'catalyst')"
   ]
  },
  {
   "cell_type": "code",
   "execution_count": 141,
   "metadata": {},
   "outputs": [
    {
     "name": "stdout",
     "output_type": "stream",
     "text": [
      "-                   \t  1\t  1\n"
     ]
    }
   ],
   "source": [
    "# substrate to node edge\n",
    "\n",
    "f =  f\"{reaction_type}-{t}-substrate_edges.tsv\" \n",
    "want_cols = reaction_standard_columns + substrate_cols + catalyst_cols\n",
    "subdf.to_csv(f\"../data/import/{f}\", sep=\"\\t\", index=None)\n",
    "\n",
    "query = helpers.make_create_reaction_edge_query(f, 'SUBSTRATE',\n",
    "                                                \"substrate\", \"catalyst\"\n",
    "                              )\n",
    "qr = graph.run(query)\n",
    "pretty_print_result(\"-\", subdf, qr, 'relationships')"
   ]
  },
  {
   "cell_type": "code",
   "execution_count": 142,
   "metadata": {},
   "outputs": [
    {
     "name": "stdout",
     "output_type": "stream",
     "text": [
      "-                   \t  1\t  1\n"
     ]
    }
   ],
   "source": [
    "# catalyst to product edge\n",
    "\n",
    "f =  f\"{reaction_type}-{t}-product_edges.tsv\" \n",
    "want_cols = reaction_standard_columns + catalyst_cols + product_cols\n",
    "subdf.to_csv(f\"../data/import/{f}\", sep=\"\\t\", index=None)\n",
    "\n",
    "query = helpers.make_create_reaction_edge_query(f, 'PRODUCT',\n",
    "                                                \"catalyst\" , \"product\"\n",
    "                              )\n",
    "qr = graph.run(query)\n",
    "pretty_print_result(\"-\", subdf, qr, 'relationships')"
   ]
  },
  {
   "cell_type": "markdown",
   "metadata": {},
   "source": [
    "## degradation"
   ]
  },
  {
   "cell_type": "code",
   "execution_count": 143,
   "metadata": {
    "scrolled": false
   },
   "outputs": [
    {
     "data": {
      "image/png": "[encoded data removed]",
      "text/plain": [
       "<IPython.core.display.Image object>"
      ]
     },
     "execution_count": 143,
     "metadata": {},
     "output_type": "execute_result"
    }
   ],
   "source": [
    "Image(filename='./reaction_types/inhibition/degradation.png')"
   ]
  },
  {
   "cell_type": "code",
   "execution_count": 144,
   "metadata": {},
   "outputs": [
    {
     "name": "stdout",
     "output_type": "stream",
     "text": [
      "DEGRADATION_SECRETION 32\n"
     ]
    }
   ],
   "source": [
    "key = 'degradation/secretion'\n",
    "reaction_type = 'DEGRADATION_SECRETION'\n",
    "subdf = df_edges[df_edges['reaction_type'] == key].copy()\n",
    "print(reaction_type, subdf.shape[0])"
   ]
  },
  {
   "cell_type": "code",
   "execution_count": 145,
   "metadata": {},
   "outputs": [],
   "source": [
    "rename_target(subdf, 'input1',  'catalyst')\n",
    "rename_target(subdf, 'input2',  'substrate')"
   ]
  },
  {
   "cell_type": "code",
   "execution_count": 146,
   "metadata": {},
   "outputs": [
    {
     "name": "stdout",
     "output_type": "stream",
     "text": [
      "-                   \t 32\t 32\n"
     ]
    }
   ],
   "source": [
    "# substrate to catalyst edge\n",
    "\n",
    "f =  f\"{reaction_type}-substrate_edges.tsv\" \n",
    "want_cols = reaction_standard_columns + substrate_cols + catalyst_cols\n",
    "subdf[want_cols].to_csv(f\"../data/import/{f}\", sep=\"\\t\", index=None)\n",
    "\n",
    "query = helpers.make_create_reaction_edge_query(f, 'SUBSTRATE',\n",
    "                                                \"substrate\", \"catalyst\"\n",
    "                              )\n",
    "qr = graph.run(query)\n",
    "pretty_print_result('-', subdf, qr, 'relationships')"
   ]
  },
  {
   "cell_type": "code",
   "execution_count": 147,
   "metadata": {},
   "outputs": [
    {
     "data": {
      "text/plain": [
       "[]"
      ]
     },
     "execution_count": 147,
     "metadata": {},
     "output_type": "execute_result"
    }
   ],
   "source": [
    "\n",
    "q = '''LOAD CSV WITH HEADERS FROM  'file:///DEGRADATION_SECRETION-substrate_edges.tsv' AS line FIELDTERMINATOR '\t'\n",
    "       OPTIONAL MATCH (source { name:line.substrate_name})\n",
    "       OPTIONAL MATCH (target { name:line.catalyst_name})\n",
    "\n",
    "        WITH source, target, line\n",
    "            WHERE source IS NULL OR target is NULL\n",
    "            RETURN source.name, line.substrate_name,  target.name, line.catalyst_name, line.reaction_id\n",
    "           '''\n",
    "\n",
    "result = graph.run(q)\n",
    "result.data()"
   ]
  },
  {
   "cell_type": "code",
   "execution_count": 148,
   "metadata": {},
   "outputs": [
    {
     "data": {
      "text/html": [
       "<div>\n",
       "<style scoped>\n",
       "    .dataframe tbody tr th:only-of-type {\n",
       "        vertical-align: middle;\n",
       "    }\n",
       "\n",
       "    .dataframe tbody tr th {\n",
       "        vertical-align: top;\n",
       "    }\n",
       "\n",
       "    .dataframe thead th {\n",
       "        text-align: right;\n",
       "    }\n",
       "</style>\n",
       "<table border=\"1\" class=\"dataframe\">\n",
       "  <thead>\n",
       "    <tr style=\"text-align: right;\">\n",
       "      <th></th>\n",
       "      <th>Status</th>\n",
       "      <th>AddedBy</th>\n",
       "      <th>ConnID</th>\n",
       "      <th>Species</th>\n",
       "      <th>input1_ID</th>\n",
       "      <th>input1_level</th>\n",
       "      <th>input1_localisation</th>\n",
       "      <th>input1_type</th>\n",
       "      <th>input2_ID</th>\n",
       "      <th>input2_level</th>\n",
       "      <th>...</th>\n",
       "      <th>catalyst_stu_homologues</th>\n",
       "      <th>catalyst_sly_homologues</th>\n",
       "      <th>substrate_name</th>\n",
       "      <th>substrate_location</th>\n",
       "      <th>substrate_label</th>\n",
       "      <th>substrate_form</th>\n",
       "      <th>substrate_ath_homologues</th>\n",
       "      <th>substrate_osa_homologues</th>\n",
       "      <th>substrate_stu_homologues</th>\n",
       "      <th>substrate_sly_homologues</th>\n",
       "    </tr>\n",
       "  </thead>\n",
       "  <tbody>\n",
       "    <tr>\n",
       "      <th>319</th>\n",
       "      <td>[TBD]</td>\n",
       "      <td>JALR</td>\n",
       "      <td>Conn320</td>\n",
       "      <td>ath/osa</td>\n",
       "      <td>D14|MAX2|SCF</td>\n",
       "      <td>family</td>\n",
       "      <td>cytoplasm?</td>\n",
       "      <td>complex [active]</td>\n",
       "      <td>D53</td>\n",
       "      <td>node</td>\n",
       "      <td>...</td>\n",
       "      <td>NaN</td>\n",
       "      <td>NaN</td>\n",
       "      <td>Class I Clp ATPase</td>\n",
       "      <td>putative:cytoplasm</td>\n",
       "      <td>PlantCoding</td>\n",
       "      <td>protein_active</td>\n",
       "      <td>NaN</td>\n",
       "      <td>OS11G0104300</td>\n",
       "      <td>NaN</td>\n",
       "      <td>NaN</td>\n",
       "    </tr>\n",
       "  </tbody>\n",
       "</table>\n",
       "<p>1 rows × 81 columns</p>\n",
       "</div>"
      ],
      "text/plain": [
       "    Status AddedBy   ConnID  Species     input1_ID input1_level  \\\n",
       "319  [TBD]    JALR  Conn320  ath/osa  D14|MAX2|SCF       family   \n",
       "\n",
       "    input1_localisation       input1_type input2_ID input2_level  ...  \\\n",
       "319          cytoplasm?  complex [active]       D53         node  ...   \n",
       "\n",
       "    catalyst_stu_homologues catalyst_sly_homologues      substrate_name  \\\n",
       "319                     NaN                     NaN  Class I Clp ATPase   \n",
       "\n",
       "     substrate_location substrate_label  substrate_form  \\\n",
       "319  putative:cytoplasm     PlantCoding  protein_active   \n",
       "\n",
       "    substrate_ath_homologues substrate_osa_homologues  \\\n",
       "319                      NaN             OS11G0104300   \n",
       "\n",
       "    substrate_stu_homologues substrate_sly_homologues  \n",
       "319                      NaN                      NaN  \n",
       "\n",
       "[1 rows x 81 columns]"
      ]
     },
     "execution_count": 148,
     "metadata": {},
     "output_type": "execute_result"
    }
   ],
   "source": [
    "subdf[subdf['reaction_id'] == 'rx00320']"
   ]
  },
  {
   "cell_type": "markdown",
   "metadata": {},
   "source": [
    "## translocation"
   ]
  },
  {
   "cell_type": "code",
   "execution_count": 149,
   "metadata": {
    "scrolled": false
   },
   "outputs": [
    {
     "data": {
      "image/png": "[encoded data removed]",
      "text/plain": [
       "<IPython.core.display.Image object>"
      ]
     },
     "execution_count": 149,
     "metadata": {},
     "output_type": "execute_result"
    }
   ],
   "source": [
    "Image(filename='./reaction_types/activation/translocation.png')"
   ]
  },
  {
   "cell_type": "code",
   "execution_count": 150,
   "metadata": {},
   "outputs": [
    {
     "name": "stdout",
     "output_type": "stream",
     "text": [
      "TRANSLOCATION 5\n"
     ]
    }
   ],
   "source": [
    "key = 'translocation'\n",
    "reaction_type = 'TRANSLOCATION'\n",
    "subdf = df_edges[df_edges['reaction_type'] == key].copy()\n",
    "print(reaction_type, subdf.shape[0])"
   ]
  },
  {
   "cell_type": "code",
   "execution_count": 151,
   "metadata": {},
   "outputs": [],
   "source": [
    "rename_target(subdf, 'output1', 'product')\n",
    "rename_target(subdf, 'input1',  'substrate')\n",
    "rename_target(subdf, 'input2',  'catalyst')"
   ]
  },
  {
   "cell_type": "code",
   "execution_count": 152,
   "metadata": {},
   "outputs": [
    {
     "name": "stdout",
     "output_type": "stream",
     "text": [
      "-                   \t  5\t  5\n"
     ]
    }
   ],
   "source": [
    "# substrate to catalyst edge\n",
    "\n",
    "f =  f\"{reaction_type}-substrate_edges.tsv\" \n",
    "want_cols = reaction_standard_columns + substrate_cols + catalyst_cols\n",
    "subdf[want_cols].to_csv(f\"../data/import/{f}\", sep=\"\\t\", index=None)\n",
    "\n",
    "query = helpers.make_create_reaction_edge_query(f, 'TRANSLOCATE_FROM',\n",
    "                                                \"substrate\", \"catalyst\"\n",
    "                              )\n",
    "qr = graph.run(query)\n",
    "pretty_print_result('-', subdf, qr, 'relationships')"
   ]
  },
  {
   "cell_type": "code",
   "execution_count": 153,
   "metadata": {},
   "outputs": [
    {
     "name": "stdout",
     "output_type": "stream",
     "text": [
      "-                   \t  5\t  5\n"
     ]
    }
   ],
   "source": [
    "# catalyst to product edge\n",
    "f =  f\"{reaction_type}--product_edges.tsv\" \n",
    "want_cols = reaction_standard_columns + catalyst_cols + product_cols\n",
    "subdf[want_cols].to_csv(f\"../data/import/{f}\", sep=\"\\t\", index=None)\n",
    "\n",
    "query = helpers.make_create_reaction_edge_query(f, 'TRANSLOCATE_TO',\n",
    "                                                \"catalyst\" , \"product\"\n",
    "                              )\n",
    "qr = graph.run(query)\n",
    "pretty_print_result('-', subdf, qr, 'relationships')"
   ]
  },
  {
   "cell_type": "markdown",
   "metadata": {},
   "source": [
    "## protein activation"
   ]
  },
  {
   "cell_type": "code",
   "execution_count": 154,
   "metadata": {},
   "outputs": [
    {
     "data": {
      "image/png": "[encoded data removed]",
      "text/plain": [
       "<IPython.core.display.Image object>"
      ]
     },
     "execution_count": 154,
     "metadata": {},
     "output_type": "execute_result"
    }
   ],
   "source": [
    "Image(filename='./reaction_types/activation/protein_activation.png')"
   ]
  },
  {
   "cell_type": "code",
   "execution_count": 155,
   "metadata": {},
   "outputs": [
    {
     "name": "stdout",
     "output_type": "stream",
     "text": [
      "PROTEIN_ACTIVATION 52\n"
     ]
    }
   ],
   "source": [
    "key = 'protein activation'\n",
    "reaction_type = 'PROTEIN_ACTIVATION'\n",
    "subdf = df_edges[df_edges['reaction_type'] == key].copy()\n",
    "print(reaction_type, subdf.shape[0])"
   ]
  },
  {
   "cell_type": "code",
   "execution_count": 156,
   "metadata": {},
   "outputs": [],
   "source": [
    "rename_target(subdf, 'output1', 'product')\n",
    "rename_target(subdf, 'input1',  'catalyst')\n",
    "rename_target(subdf, 'input2',  'substrate')"
   ]
  },
  {
   "cell_type": "code",
   "execution_count": 157,
   "metadata": {},
   "outputs": [
    {
     "name": "stdout",
     "output_type": "stream",
     "text": [
      "-                   \t 52\t 52\n"
     ]
    }
   ],
   "source": [
    "# substrate to node edge\n",
    "\n",
    "f =  f\"{reaction_type}-substrate_edges.tsv\" \n",
    "want_cols = reaction_standard_columns + substrate_cols + catalyst_cols\n",
    "subdf[want_cols].to_csv(f\"../data/import/{f}\", sep=\"\\t\", index=None)\n",
    "\n",
    "query = helpers.make_create_reaction_edge_query(f, 'SUBSTRATE',\n",
    "                                                \"substrate\", \"catalyst\"\n",
    "                              )\n",
    "qr = graph.run(query)\n",
    "pretty_print_result('-', subdf, qr, 'relationships')"
   ]
  },
  {
   "cell_type": "code",
   "execution_count": 158,
   "metadata": {},
   "outputs": [
    {
     "name": "stdout",
     "output_type": "stream",
     "text": [
      "-                   \t 52\t 52\n"
     ]
    }
   ],
   "source": [
    "# catalyst to product edge\n",
    "f =  f\"{reaction_type}-product_edges.tsv\" \n",
    "want_cols = reaction_standard_columns + catalyst_cols + product_cols\n",
    "subdf[want_cols].to_csv(f\"../data/import/{f}\", sep=\"\\t\", index=None)\n",
    "\n",
    "query = helpers.make_create_reaction_edge_query(f, 'PRODUCT',\n",
    "                                                \"catalyst\" , \"product\"\n",
    "                              )\n",
    "qr = graph.run(query)\n",
    "pretty_print_result('-', subdf, qr, 'relationships')"
   ]
  },
  {
   "cell_type": "markdown",
   "metadata": {},
   "source": [
    "## protein deactivation"
   ]
  },
  {
   "cell_type": "code",
   "execution_count": 159,
   "metadata": {
    "scrolled": false
   },
   "outputs": [
    {
     "data": {
      "image/png": "[encoded data removed]",
      "text/plain": [
       "<IPython.core.display.Image object>"
      ]
     },
     "execution_count": 159,
     "metadata": {},
     "output_type": "execute_result"
    }
   ],
   "source": [
    "Image(filename='./reaction_types/inhibition/protein_deactivation.png')"
   ]
  },
  {
   "cell_type": "code",
   "execution_count": 160,
   "metadata": {},
   "outputs": [
    {
     "name": "stdout",
     "output_type": "stream",
     "text": [
      "PROTEIN_DEACTIVATION 4\n"
     ]
    }
   ],
   "source": [
    "key = 'protein deactivation'\n",
    "reaction_type = 'PROTEIN_DEACTIVATION'\n",
    "subdf = df_edges[df_edges['reaction_type'] == key].copy()\n",
    "print(reaction_type, subdf.shape[0])"
   ]
  },
  {
   "cell_type": "code",
   "execution_count": 161,
   "metadata": {},
   "outputs": [],
   "source": [
    "rename_target(subdf, 'output1', 'product')\n",
    "rename_target(subdf, 'input1',  'substrate')\n",
    "rename_target(subdf, 'input2',  'catalyst')"
   ]
  },
  {
   "cell_type": "code",
   "execution_count": 162,
   "metadata": {},
   "outputs": [
    {
     "name": "stdout",
     "output_type": "stream",
     "text": [
      "-                   \t  4\t  4\n"
     ]
    }
   ],
   "source": [
    "# substrate to catalyst edge\n",
    "f =  f\"{reaction_type}-substrate_edges.tsv\" \n",
    "want_cols = reaction_standard_columns + substrate_cols + catalyst_cols\n",
    "subdf.to_csv(f\"../data/import/{f}\", sep=\"\\t\", index=None)\n",
    "\n",
    "query = helpers.make_create_reaction_edge_query(f, 'SUBSTRATE',\n",
    "                                                \"substrate\", \"catalyst\"\n",
    "                              )\n",
    "qr = graph.run(query)\n",
    "pretty_print_result('-', subdf, qr, 'relationships')"
   ]
  },
  {
   "cell_type": "code",
   "execution_count": 163,
   "metadata": {},
   "outputs": [
    {
     "name": "stdout",
     "output_type": "stream",
     "text": [
      "-                   \t  4\t  4\n"
     ]
    }
   ],
   "source": [
    "# catalyst to product edge\n",
    "f =  f\"{reaction_type}-product_edges.tsv\" \n",
    "want_cols = reaction_standard_columns + catalyst_cols + product_cols\n",
    "subdf.to_csv(f\"../data/import/{f}\", sep=\"\\t\", index=None)\n",
    "\n",
    "query = helpers.make_create_reaction_edge_query(f, 'PRODUCT',\n",
    "                                                \"catalyst\" , \"product\"\n",
    "                              )\n",
    "qr = graph.run(query)\n",
    "pretty_print_result('-', subdf, qr, 'relationships')"
   ]
  },
  {
   "cell_type": "markdown",
   "metadata": {},
   "source": [
    "## transcriptional / translational regulation"
   ]
  },
  {
   "cell_type": "code",
   "execution_count": 197,
   "metadata": {},
   "outputs": [
    {
     "name": "stdout",
     "output_type": "stream",
     "text": [
      "TRANSCRIPTIONAL_TRANSLATIONAL 79\n"
     ]
    }
   ],
   "source": [
    "reaction_type = 'TRANSCRIPTIONAL_TRANSLATIONAL'\n",
    "keys = ['transcriptional/translational induction', 'transcriptional/translational repression']\n",
    "subdf = df_edges[df_edges['reaction_type'].isin(keys)]\n",
    "print(reaction_type, subdf.shape[0])"
   ]
  },
  {
   "cell_type": "code",
   "execution_count": 198,
   "metadata": {},
   "outputs": [],
   "source": [
    "def number_input_different_reverse(df, homologues=True):\n",
    "    ''' If catalyst is True, they are the first \"input\" cols. \n",
    "    last one is left as substrate. '''\n",
    "\n",
    "    # two inputs, input1 -> catalyst\n",
    "    subdf2 = df[df[\"input3_newID\"].isna()].copy()\n",
    "    generate_list(subdf2, ['input1'], 'catalyst', homologues=homologues)\n",
    "    rename_target(subdf2, 'input2', 'substrate', homologues=homologues)\n",
    "\n",
    "    # three inputs, input1, input2 -> catalyst\n",
    "    subdf3 = df[~df[\"input3_newID\"].isna()].copy()\n",
    "    generate_list(subdf3, ['input1', 'input2'], 'catalyst', homologues=homologues)        \n",
    "    rename_target(subdf3, 'input3', 'substrate', homologues=homologues)\n",
    "     \n",
    "    # combine\n",
    "    new_subdf = subdf2.append(subdf3)\n",
    "    rename_target(new_subdf, 'output1', 'product', homologues=homologues)\n",
    "    \n",
    "    return new_subdf"
   ]
  },
  {
   "cell_type": "code",
   "execution_count": 199,
   "metadata": {},
   "outputs": [],
   "source": [
    "new_subdf = number_input_different_reverse(subdf, homologues=True)"
   ]
  },
  {
   "cell_type": "code",
   "execution_count": 200,
   "metadata": {},
   "outputs": [
    {
     "data": {
      "text/html": [
       "<div>\n",
       "<style scoped>\n",
       "    .dataframe tbody tr th:only-of-type {\n",
       "        vertical-align: middle;\n",
       "    }\n",
       "\n",
       "    .dataframe tbody tr th {\n",
       "        vertical-align: top;\n",
       "    }\n",
       "\n",
       "    .dataframe thead th {\n",
       "        text-align: right;\n",
       "    }\n",
       "</style>\n",
       "<table border=\"1\" class=\"dataframe\">\n",
       "  <thead>\n",
       "    <tr style=\"text-align: right;\">\n",
       "      <th></th>\n",
       "      <th>Status</th>\n",
       "      <th>ConnID</th>\n",
       "      <th>substrate_name</th>\n",
       "      <th>product_name</th>\n",
       "    </tr>\n",
       "  </thead>\n",
       "  <tbody>\n",
       "    <tr>\n",
       "      <th>44</th>\n",
       "      <td>_TBD</td>\n",
       "      <td>Conn045</td>\n",
       "      <td>OMR</td>\n",
       "      <td>COI1|OMR1</td>\n",
       "    </tr>\n",
       "    <tr>\n",
       "      <th>92</th>\n",
       "      <td>_TBD</td>\n",
       "      <td>Conn093</td>\n",
       "      <td>PAD4</td>\n",
       "      <td>NPR1|PAD4|TGA2,5,6</td>\n",
       "    </tr>\n",
       "    <tr>\n",
       "      <th>115</th>\n",
       "      <td>_TBD</td>\n",
       "      <td>Conn116</td>\n",
       "      <td>EDS5</td>\n",
       "      <td>EDS5|NPR1|TGA2,5,6</td>\n",
       "    </tr>\n",
       "    <tr>\n",
       "      <th>117</th>\n",
       "      <td>_TBD</td>\n",
       "      <td>Conn118</td>\n",
       "      <td>EDS1</td>\n",
       "      <td>EDS1|NPR1|TGA2,5,6</td>\n",
       "    </tr>\n",
       "    <tr>\n",
       "      <th>119</th>\n",
       "      <td>_TBD</td>\n",
       "      <td>Conn120</td>\n",
       "      <td>PAD4</td>\n",
       "      <td>NPR1|PAD4|TGA2,5,6</td>\n",
       "    </tr>\n",
       "    <tr>\n",
       "      <th>148</th>\n",
       "      <td>_TBD</td>\n",
       "      <td>Conn149</td>\n",
       "      <td>GST</td>\n",
       "      <td>GSTU24|ROS</td>\n",
       "    </tr>\n",
       "  </tbody>\n",
       "</table>\n",
       "</div>"
      ],
      "text/plain": [
       "    Status   ConnID substrate_name        product_name\n",
       "44    _TBD  Conn045            OMR           COI1|OMR1\n",
       "92    _TBD  Conn093           PAD4  NPR1|PAD4|TGA2,5,6\n",
       "115   _TBD  Conn116           EDS5  EDS5|NPR1|TGA2,5,6\n",
       "117   _TBD  Conn118           EDS1  EDS1|NPR1|TGA2,5,6\n",
       "119   _TBD  Conn120           PAD4  NPR1|PAD4|TGA2,5,6\n",
       "148   _TBD  Conn149            GST          GSTU24|ROS"
      ]
     },
     "execution_count": 200,
     "metadata": {},
     "output_type": "execute_result"
    }
   ],
   "source": [
    "new_subdf[new_subdf['substrate_name'] != new_subdf['product_name']][[\"Status\", \"ConnID\", 'substrate_name', 'product_name' ]]"
   ]
  },
  {
   "cell_type": "code",
   "execution_count": 201,
   "metadata": {},
   "outputs": [
    {
     "data": {
      "text/html": [
       "<div>\n",
       "<style scoped>\n",
       "    .dataframe tbody tr th:only-of-type {\n",
       "        vertical-align: middle;\n",
       "    }\n",
       "\n",
       "    .dataframe tbody tr th {\n",
       "        vertical-align: top;\n",
       "    }\n",
       "\n",
       "    .dataframe thead th {\n",
       "        text-align: right;\n",
       "    }\n",
       "</style>\n",
       "<table border=\"1\" class=\"dataframe\">\n",
       "  <thead>\n",
       "    <tr style=\"text-align: right;\">\n",
       "      <th></th>\n",
       "      <th>Status</th>\n",
       "      <th>ConnID</th>\n",
       "      <th>substrate_name</th>\n",
       "      <th>substrate_form</th>\n",
       "      <th>substrate_label</th>\n",
       "      <th>substrate_location</th>\n",
       "    </tr>\n",
       "  </thead>\n",
       "  <tbody>\n",
       "    <tr>\n",
       "      <th>27</th>\n",
       "      <td>forCB</td>\n",
       "      <td>Conn028</td>\n",
       "      <td>LOX</td>\n",
       "      <td>gene</td>\n",
       "      <td>PlantCoding</td>\n",
       "      <td>chloroplast</td>\n",
       "    </tr>\n",
       "    <tr>\n",
       "      <th>97</th>\n",
       "      <td>forCB</td>\n",
       "      <td>Conn098</td>\n",
       "      <td>WRKY</td>\n",
       "      <td>gene</td>\n",
       "      <td>PlantCoding</td>\n",
       "      <td>cytoplasm</td>\n",
       "    </tr>\n",
       "    <tr>\n",
       "      <th>110</th>\n",
       "      <td>forCB</td>\n",
       "      <td>Conn111</td>\n",
       "      <td>TAS3</td>\n",
       "      <td>gene</td>\n",
       "      <td>PlantNonCoding</td>\n",
       "      <td>cytoplasm</td>\n",
       "    </tr>\n",
       "    <tr>\n",
       "      <th>123</th>\n",
       "      <td>forCB</td>\n",
       "      <td>Conn124</td>\n",
       "      <td>WRKY</td>\n",
       "      <td>gene</td>\n",
       "      <td>PlantCoding</td>\n",
       "      <td>cytoplasm</td>\n",
       "    </tr>\n",
       "    <tr>\n",
       "      <th>160</th>\n",
       "      <td>forCB</td>\n",
       "      <td>Conn161</td>\n",
       "      <td>PAD4</td>\n",
       "      <td>gene</td>\n",
       "      <td>PlantCoding</td>\n",
       "      <td>cytoplasm</td>\n",
       "    </tr>\n",
       "    <tr>\n",
       "      <th>186</th>\n",
       "      <td>forCB</td>\n",
       "      <td>Conn187</td>\n",
       "      <td>ICS</td>\n",
       "      <td>gene</td>\n",
       "      <td>PlantCoding</td>\n",
       "      <td>chloroplast</td>\n",
       "    </tr>\n",
       "    <tr>\n",
       "      <th>187</th>\n",
       "      <td>forCB</td>\n",
       "      <td>Conn188</td>\n",
       "      <td>ICS</td>\n",
       "      <td>gene</td>\n",
       "      <td>PlantCoding</td>\n",
       "      <td>chloroplast</td>\n",
       "    </tr>\n",
       "    <tr>\n",
       "      <th>188</th>\n",
       "      <td>forCB</td>\n",
       "      <td>Conn189</td>\n",
       "      <td>ICS</td>\n",
       "      <td>gene</td>\n",
       "      <td>PlantCoding</td>\n",
       "      <td>chloroplast</td>\n",
       "    </tr>\n",
       "    <tr>\n",
       "      <th>189</th>\n",
       "      <td>forCB</td>\n",
       "      <td>Conn190</td>\n",
       "      <td>ICS</td>\n",
       "      <td>gene</td>\n",
       "      <td>PlantCoding</td>\n",
       "      <td>chloroplast</td>\n",
       "    </tr>\n",
       "    <tr>\n",
       "      <th>192</th>\n",
       "      <td>forCB</td>\n",
       "      <td>Conn193</td>\n",
       "      <td>ACO</td>\n",
       "      <td>gene</td>\n",
       "      <td>PlantCoding</td>\n",
       "      <td>endoplasmic reticulum</td>\n",
       "    </tr>\n",
       "    <tr>\n",
       "      <th>208</th>\n",
       "      <td>forCB</td>\n",
       "      <td>Conn209</td>\n",
       "      <td>OPR</td>\n",
       "      <td>gene</td>\n",
       "      <td>PlantCoding</td>\n",
       "      <td>peroxisome</td>\n",
       "    </tr>\n",
       "    <tr>\n",
       "      <th>239</th>\n",
       "      <td>forCB</td>\n",
       "      <td>Conn240</td>\n",
       "      <td>ICS</td>\n",
       "      <td>gene</td>\n",
       "      <td>PlantCoding</td>\n",
       "      <td>chloroplast</td>\n",
       "    </tr>\n",
       "    <tr>\n",
       "      <th>243</th>\n",
       "      <td>forCB</td>\n",
       "      <td>Conn244</td>\n",
       "      <td>WRKY</td>\n",
       "      <td>gene</td>\n",
       "      <td>PlantCoding</td>\n",
       "      <td>cytoplasm</td>\n",
       "    </tr>\n",
       "    <tr>\n",
       "      <th>244</th>\n",
       "      <td>forCB</td>\n",
       "      <td>Conn245</td>\n",
       "      <td>WRKY</td>\n",
       "      <td>gene</td>\n",
       "      <td>PlantCoding</td>\n",
       "      <td>cytoplasm</td>\n",
       "    </tr>\n",
       "    <tr>\n",
       "      <th>245</th>\n",
       "      <td>forCB</td>\n",
       "      <td>Conn246</td>\n",
       "      <td>WRKY</td>\n",
       "      <td>gene</td>\n",
       "      <td>PlantCoding</td>\n",
       "      <td>cytoplasm</td>\n",
       "    </tr>\n",
       "    <tr>\n",
       "      <th>246</th>\n",
       "      <td>forCB</td>\n",
       "      <td>Conn247</td>\n",
       "      <td>WRKY</td>\n",
       "      <td>gene</td>\n",
       "      <td>PlantCoding</td>\n",
       "      <td>cytoplasm</td>\n",
       "    </tr>\n",
       "    <tr>\n",
       "      <th>247</th>\n",
       "      <td>forCB</td>\n",
       "      <td>Conn248</td>\n",
       "      <td>ACS</td>\n",
       "      <td>gene</td>\n",
       "      <td>PlantCoding</td>\n",
       "      <td>endoplasmic reticulum</td>\n",
       "    </tr>\n",
       "    <tr>\n",
       "      <th>248</th>\n",
       "      <td>forCB</td>\n",
       "      <td>Conn249</td>\n",
       "      <td>ACS</td>\n",
       "      <td>gene</td>\n",
       "      <td>PlantCoding</td>\n",
       "      <td>endoplasmic reticulum</td>\n",
       "    </tr>\n",
       "    <tr>\n",
       "      <th>253</th>\n",
       "      <td>forCB</td>\n",
       "      <td>Conn254</td>\n",
       "      <td>ICS</td>\n",
       "      <td>gene</td>\n",
       "      <td>PlantCoding</td>\n",
       "      <td>chloroplast</td>\n",
       "    </tr>\n",
       "    <tr>\n",
       "      <th>254</th>\n",
       "      <td>forCB</td>\n",
       "      <td>Conn255</td>\n",
       "      <td>ICS</td>\n",
       "      <td>gene</td>\n",
       "      <td>PlantCoding</td>\n",
       "      <td>chloroplast</td>\n",
       "    </tr>\n",
       "    <tr>\n",
       "      <th>255</th>\n",
       "      <td>forCB</td>\n",
       "      <td>Conn256</td>\n",
       "      <td>ICS</td>\n",
       "      <td>gene</td>\n",
       "      <td>PlantCoding</td>\n",
       "      <td>chloroplast</td>\n",
       "    </tr>\n",
       "    <tr>\n",
       "      <th>276</th>\n",
       "      <td>forCB</td>\n",
       "      <td>Conn277</td>\n",
       "      <td>GA20ox</td>\n",
       "      <td>gene</td>\n",
       "      <td>PlantCoding</td>\n",
       "      <td>putative:cytoplasm</td>\n",
       "    </tr>\n",
       "    <tr>\n",
       "      <th>277</th>\n",
       "      <td>forCB</td>\n",
       "      <td>Conn278</td>\n",
       "      <td>GA20ox</td>\n",
       "      <td>gene</td>\n",
       "      <td>PlantCoding</td>\n",
       "      <td>putative:cytoplasm</td>\n",
       "    </tr>\n",
       "    <tr>\n",
       "      <th>278</th>\n",
       "      <td>forCB</td>\n",
       "      <td>Conn279</td>\n",
       "      <td>GA20ox</td>\n",
       "      <td>gene</td>\n",
       "      <td>PlantCoding</td>\n",
       "      <td>putative:cytoplasm</td>\n",
       "    </tr>\n",
       "    <tr>\n",
       "      <th>279</th>\n",
       "      <td>forCB</td>\n",
       "      <td>Conn280</td>\n",
       "      <td>GA20ox</td>\n",
       "      <td>gene</td>\n",
       "      <td>PlantCoding</td>\n",
       "      <td>putative:cytoplasm</td>\n",
       "    </tr>\n",
       "    <tr>\n",
       "      <th>280</th>\n",
       "      <td>forCB</td>\n",
       "      <td>Conn281</td>\n",
       "      <td>GA20ox</td>\n",
       "      <td>gene</td>\n",
       "      <td>PlantCoding</td>\n",
       "      <td>putative:cytoplasm</td>\n",
       "    </tr>\n",
       "    <tr>\n",
       "      <th>301</th>\n",
       "      <td>forCB</td>\n",
       "      <td>Conn302</td>\n",
       "      <td>MYB</td>\n",
       "      <td>gene</td>\n",
       "      <td>PlantCoding</td>\n",
       "      <td>putative:cytoplasm</td>\n",
       "    </tr>\n",
       "    <tr>\n",
       "      <th>302</th>\n",
       "      <td>forCB</td>\n",
       "      <td>Conn303</td>\n",
       "      <td>MYB</td>\n",
       "      <td>gene</td>\n",
       "      <td>PlantCoding</td>\n",
       "      <td>putative:cytoplasm</td>\n",
       "    </tr>\n",
       "    <tr>\n",
       "      <th>303</th>\n",
       "      <td>forCB</td>\n",
       "      <td>Conn304</td>\n",
       "      <td>MYB</td>\n",
       "      <td>gene</td>\n",
       "      <td>PlantCoding</td>\n",
       "      <td>putative:cytoplasm</td>\n",
       "    </tr>\n",
       "    <tr>\n",
       "      <th>307</th>\n",
       "      <td>forCB</td>\n",
       "      <td>Conn308</td>\n",
       "      <td>MYB</td>\n",
       "      <td>gene</td>\n",
       "      <td>PlantCoding</td>\n",
       "      <td>putative:cytoplasm</td>\n",
       "    </tr>\n",
       "    <tr>\n",
       "      <th>308</th>\n",
       "      <td>forCB</td>\n",
       "      <td>Conn309</td>\n",
       "      <td>NPR</td>\n",
       "      <td>gene</td>\n",
       "      <td>PlantCoding</td>\n",
       "      <td>putative:cytoplasm</td>\n",
       "    </tr>\n",
       "    <tr>\n",
       "      <th>390</th>\n",
       "      <td>[TBD]</td>\n",
       "      <td>Conn405</td>\n",
       "      <td>ARR</td>\n",
       "      <td>gene</td>\n",
       "      <td>PlantCoding</td>\n",
       "      <td>putative:cytoplasm</td>\n",
       "    </tr>\n",
       "    <tr>\n",
       "      <th>393</th>\n",
       "      <td>NaN</td>\n",
       "      <td>Conn408</td>\n",
       "      <td>PR1</td>\n",
       "      <td>gene</td>\n",
       "      <td>PlantCoding</td>\n",
       "      <td>putative:cytoplasm</td>\n",
       "    </tr>\n",
       "    <tr>\n",
       "      <th>156</th>\n",
       "      <td>_TBD</td>\n",
       "      <td>Conn157</td>\n",
       "      <td>NAC</td>\n",
       "      <td>gene</td>\n",
       "      <td>PlantCoding</td>\n",
       "      <td>putative:cytoplasm</td>\n",
       "    </tr>\n",
       "  </tbody>\n",
       "</table>\n",
       "</div>"
      ],
      "text/plain": [
       "    Status   ConnID substrate_name substrate_form substrate_label  \\\n",
       "27   forCB  Conn028            LOX           gene     PlantCoding   \n",
       "97   forCB  Conn098           WRKY           gene     PlantCoding   \n",
       "110  forCB  Conn111           TAS3           gene  PlantNonCoding   \n",
       "123  forCB  Conn124           WRKY           gene     PlantCoding   \n",
       "160  forCB  Conn161           PAD4           gene     PlantCoding   \n",
       "186  forCB  Conn187            ICS           gene     PlantCoding   \n",
       "187  forCB  Conn188            ICS           gene     PlantCoding   \n",
       "188  forCB  Conn189            ICS           gene     PlantCoding   \n",
       "189  forCB  Conn190            ICS           gene     PlantCoding   \n",
       "192  forCB  Conn193            ACO           gene     PlantCoding   \n",
       "208  forCB  Conn209            OPR           gene     PlantCoding   \n",
       "239  forCB  Conn240            ICS           gene     PlantCoding   \n",
       "243  forCB  Conn244           WRKY           gene     PlantCoding   \n",
       "244  forCB  Conn245           WRKY           gene     PlantCoding   \n",
       "245  forCB  Conn246           WRKY           gene     PlantCoding   \n",
       "246  forCB  Conn247           WRKY           gene     PlantCoding   \n",
       "247  forCB  Conn248            ACS           gene     PlantCoding   \n",
       "248  forCB  Conn249            ACS           gene     PlantCoding   \n",
       "253  forCB  Conn254            ICS           gene     PlantCoding   \n",
       "254  forCB  Conn255            ICS           gene     PlantCoding   \n",
       "255  forCB  Conn256            ICS           gene     PlantCoding   \n",
       "276  forCB  Conn277         GA20ox           gene     PlantCoding   \n",
       "277  forCB  Conn278         GA20ox           gene     PlantCoding   \n",
       "278  forCB  Conn279         GA20ox           gene     PlantCoding   \n",
       "279  forCB  Conn280         GA20ox           gene     PlantCoding   \n",
       "280  forCB  Conn281         GA20ox           gene     PlantCoding   \n",
       "301  forCB  Conn302            MYB           gene     PlantCoding   \n",
       "302  forCB  Conn303            MYB           gene     PlantCoding   \n",
       "303  forCB  Conn304            MYB           gene     PlantCoding   \n",
       "307  forCB  Conn308            MYB           gene     PlantCoding   \n",
       "308  forCB  Conn309            NPR           gene     PlantCoding   \n",
       "390  [TBD]  Conn405            ARR           gene     PlantCoding   \n",
       "393    NaN  Conn408            PR1           gene     PlantCoding   \n",
       "156   _TBD  Conn157            NAC           gene     PlantCoding   \n",
       "\n",
       "        substrate_location  \n",
       "27             chloroplast  \n",
       "97               cytoplasm  \n",
       "110              cytoplasm  \n",
       "123              cytoplasm  \n",
       "160              cytoplasm  \n",
       "186            chloroplast  \n",
       "187            chloroplast  \n",
       "188            chloroplast  \n",
       "189            chloroplast  \n",
       "192  endoplasmic reticulum  \n",
       "208             peroxisome  \n",
       "239            chloroplast  \n",
       "243              cytoplasm  \n",
       "244              cytoplasm  \n",
       "245              cytoplasm  \n",
       "246              cytoplasm  \n",
       "247  endoplasmic reticulum  \n",
       "248  endoplasmic reticulum  \n",
       "253            chloroplast  \n",
       "254            chloroplast  \n",
       "255            chloroplast  \n",
       "276     putative:cytoplasm  \n",
       "277     putative:cytoplasm  \n",
       "278     putative:cytoplasm  \n",
       "279     putative:cytoplasm  \n",
       "280     putative:cytoplasm  \n",
       "301     putative:cytoplasm  \n",
       "302     putative:cytoplasm  \n",
       "303     putative:cytoplasm  \n",
       "307     putative:cytoplasm  \n",
       "308     putative:cytoplasm  \n",
       "390     putative:cytoplasm  \n",
       "393     putative:cytoplasm  \n",
       "156     putative:cytoplasm  "
      ]
     },
     "execution_count": 201,
     "metadata": {},
     "output_type": "execute_result"
    }
   ],
   "source": [
    "new_subdf[(  (new_subdf['substrate_form'] == 'gene') & (new_subdf['substrate_location'] != 'nucleus')  )][[\"Status\", \"ConnID\"] + substrate_cols_wo_homologues]"
   ]
  },
  {
   "cell_type": "code",
   "execution_count": 202,
   "metadata": {},
   "outputs": [],
   "source": [
    "#manualfix\n",
    "new_subdf.loc[(  (new_subdf['substrate_form'] == 'gene') & (new_subdf['substrate_location'] != 'nucleus')  ), 'substrate_location'] = 'nucleus'"
   ]
  },
  {
   "cell_type": "code",
   "execution_count": 203,
   "metadata": {},
   "outputs": [
    {
     "data": {
      "text/html": [
       "<div>\n",
       "<style scoped>\n",
       "    .dataframe tbody tr th:only-of-type {\n",
       "        vertical-align: middle;\n",
       "    }\n",
       "\n",
       "    .dataframe tbody tr th {\n",
       "        vertical-align: top;\n",
       "    }\n",
       "\n",
       "    .dataframe thead th {\n",
       "        text-align: right;\n",
       "    }\n",
       "</style>\n",
       "<table border=\"1\" class=\"dataframe\">\n",
       "  <thead>\n",
       "    <tr style=\"text-align: right;\">\n",
       "      <th></th>\n",
       "      <th>Status</th>\n",
       "      <th>AddedBy</th>\n",
       "      <th>ConnID</th>\n",
       "      <th>Species</th>\n",
       "      <th>input1_ID</th>\n",
       "      <th>input1_level</th>\n",
       "      <th>input1_localisation</th>\n",
       "      <th>input1_type</th>\n",
       "      <th>input2_ID</th>\n",
       "      <th>input2_level</th>\n",
       "      <th>...</th>\n",
       "      <th>substrate_stu_homologues</th>\n",
       "      <th>substrate_sly_homologues</th>\n",
       "      <th>product_name</th>\n",
       "      <th>product_location</th>\n",
       "      <th>product_label</th>\n",
       "      <th>product_form</th>\n",
       "      <th>product_ath_homologues</th>\n",
       "      <th>product_osa_homologues</th>\n",
       "      <th>product_stu_homologues</th>\n",
       "      <th>product_sly_homologues</th>\n",
       "    </tr>\n",
       "  </thead>\n",
       "  <tbody>\n",
       "    <tr>\n",
       "      <th>110</th>\n",
       "      <td>forCB</td>\n",
       "      <td>KG</td>\n",
       "      <td>Conn111</td>\n",
       "      <td>ath</td>\n",
       "      <td>MIR390</td>\n",
       "      <td>family</td>\n",
       "      <td>cytoplasm</td>\n",
       "      <td>ncRNA</td>\n",
       "      <td>TAS3</td>\n",
       "      <td>family</td>\n",
       "      <td>...</td>\n",
       "      <td>NaN</td>\n",
       "      <td>NaN</td>\n",
       "      <td>TAS3</td>\n",
       "      <td>cytoplasm</td>\n",
       "      <td>PlantNonCoding</td>\n",
       "      <td>ncRNA</td>\n",
       "      <td>AT5G49615,AT3G17185</td>\n",
       "      <td>NaN</td>\n",
       "      <td>NaN</td>\n",
       "      <td>NaN</td>\n",
       "    </tr>\n",
       "  </tbody>\n",
       "</table>\n",
       "<p>1 rows × 89 columns</p>\n",
       "</div>"
      ],
      "text/plain": [
       "    Status AddedBy   ConnID Species input1_ID input1_level  \\\n",
       "110  forCB      KG  Conn111     ath    MIR390       family   \n",
       "\n",
       "    input1_localisation input1_type input2_ID input2_level  ...  \\\n",
       "110           cytoplasm       ncRNA      TAS3       family  ...   \n",
       "\n",
       "    substrate_stu_homologues substrate_sly_homologues product_name  \\\n",
       "110                      NaN                      NaN         TAS3   \n",
       "\n",
       "    product_location   product_label product_form product_ath_homologues  \\\n",
       "110        cytoplasm  PlantNonCoding        ncRNA    AT5G49615,AT3G17185   \n",
       "\n",
       "    product_osa_homologues product_stu_homologues product_sly_homologues  \n",
       "110                    NaN                    NaN                    NaN  \n",
       "\n",
       "[1 rows x 89 columns]"
      ]
     },
     "execution_count": 203,
     "metadata": {},
     "output_type": "execute_result"
    }
   ],
   "source": [
    "new_subdf[(  (new_subdf['product_form'].isin(['rna', 'ncRNA']) ))]#& (new_subdf['substrate_location'] != 'nucleus')  )][[\"Status\", \"ConnID\"] + substrate_cols_wo_homologues]"
   ]
  },
  {
   "cell_type": "code",
   "execution_count": 204,
   "metadata": {},
   "outputs": [
    {
     "data": {
      "text/html": [
       "<div>\n",
       "<style scoped>\n",
       "    .dataframe tbody tr th:only-of-type {\n",
       "        vertical-align: middle;\n",
       "    }\n",
       "\n",
       "    .dataframe tbody tr th {\n",
       "        vertical-align: top;\n",
       "    }\n",
       "\n",
       "    .dataframe thead th {\n",
       "        text-align: right;\n",
       "    }\n",
       "</style>\n",
       "<table border=\"1\" class=\"dataframe\">\n",
       "  <thead>\n",
       "    <tr style=\"text-align: right;\">\n",
       "      <th></th>\n",
       "      <th>Status</th>\n",
       "      <th>ConnID</th>\n",
       "      <th>substrate_name</th>\n",
       "      <th>substrate_form</th>\n",
       "      <th>substrate_label</th>\n",
       "      <th>substrate_location</th>\n",
       "    </tr>\n",
       "  </thead>\n",
       "  <tbody>\n",
       "  </tbody>\n",
       "</table>\n",
       "</div>"
      ],
      "text/plain": [
       "Empty DataFrame\n",
       "Columns: [Status, ConnID, substrate_name, substrate_form, substrate_label, substrate_location]\n",
       "Index: []"
      ]
     },
     "execution_count": 204,
     "metadata": {},
     "output_type": "execute_result"
    }
   ],
   "source": [
    "new_subdf[(  (new_subdf['substrate_form'].isin(['rna', 'ncRNA'])) & (new_subdf['substrate_location'] != 'cytoplams')  )][[\"Status\", \"ConnID\"] + substrate_cols_wo_homologues]"
   ]
  },
  {
   "cell_type": "code",
   "execution_count": 205,
   "metadata": {
    "scrolled": true
   },
   "outputs": [
    {
     "data": {
      "text/html": [
       "<div>\n",
       "<style scoped>\n",
       "    .dataframe tbody tr th:only-of-type {\n",
       "        vertical-align: middle;\n",
       "    }\n",
       "\n",
       "    .dataframe tbody tr th {\n",
       "        vertical-align: top;\n",
       "    }\n",
       "\n",
       "    .dataframe thead th {\n",
       "        text-align: right;\n",
       "    }\n",
       "</style>\n",
       "<table border=\"1\" class=\"dataframe\">\n",
       "  <thead>\n",
       "    <tr style=\"text-align: right;\">\n",
       "      <th></th>\n",
       "      <th>Status</th>\n",
       "      <th>ConnID</th>\n",
       "      <th>product_name</th>\n",
       "      <th>product_form</th>\n",
       "      <th>product_label</th>\n",
       "      <th>product_location</th>\n",
       "    </tr>\n",
       "  </thead>\n",
       "  <tbody>\n",
       "    <tr>\n",
       "      <th>11</th>\n",
       "      <td>forCB</td>\n",
       "      <td>Conn012</td>\n",
       "      <td>EBF</td>\n",
       "      <td>protein</td>\n",
       "      <td>PlantCoding</td>\n",
       "      <td>nucleus</td>\n",
       "    </tr>\n",
       "    <tr>\n",
       "      <th>20</th>\n",
       "      <td>forCB</td>\n",
       "      <td>Conn021</td>\n",
       "      <td>PR3</td>\n",
       "      <td>protein</td>\n",
       "      <td>PlantCoding</td>\n",
       "      <td>nucleus</td>\n",
       "    </tr>\n",
       "    <tr>\n",
       "      <th>21</th>\n",
       "      <td>forCB</td>\n",
       "      <td>Conn022</td>\n",
       "      <td>PR4</td>\n",
       "      <td>protein</td>\n",
       "      <td>PlantCoding</td>\n",
       "      <td>nucleus</td>\n",
       "    </tr>\n",
       "    <tr>\n",
       "      <th>24</th>\n",
       "      <td>forCB</td>\n",
       "      <td>Conn025</td>\n",
       "      <td>PDF1</td>\n",
       "      <td>protein</td>\n",
       "      <td>PlantCoding</td>\n",
       "      <td>nucleus</td>\n",
       "    </tr>\n",
       "    <tr>\n",
       "      <th>27</th>\n",
       "      <td>forCB</td>\n",
       "      <td>Conn028</td>\n",
       "      <td>LOX</td>\n",
       "      <td>protein</td>\n",
       "      <td>PlantCoding</td>\n",
       "      <td>chloroplast</td>\n",
       "    </tr>\n",
       "    <tr>\n",
       "      <th>45</th>\n",
       "      <td>forCB</td>\n",
       "      <td>Conn046</td>\n",
       "      <td>JAZ</td>\n",
       "      <td>protein</td>\n",
       "      <td>PlantCoding</td>\n",
       "      <td>nucleus</td>\n",
       "    </tr>\n",
       "    <tr>\n",
       "      <th>47</th>\n",
       "      <td>forCB</td>\n",
       "      <td>Conn048</td>\n",
       "      <td>MYC</td>\n",
       "      <td>protein</td>\n",
       "      <td>PlantCoding</td>\n",
       "      <td>nucleus</td>\n",
       "    </tr>\n",
       "    <tr>\n",
       "      <th>48</th>\n",
       "      <td>forCB</td>\n",
       "      <td>Conn049</td>\n",
       "      <td>CLH</td>\n",
       "      <td>protein</td>\n",
       "      <td>PlantCoding</td>\n",
       "      <td>nucleus</td>\n",
       "    </tr>\n",
       "    <tr>\n",
       "      <th>49</th>\n",
       "      <td>forCB</td>\n",
       "      <td>Conn050</td>\n",
       "      <td>JAL</td>\n",
       "      <td>protein</td>\n",
       "      <td>PlantCoding</td>\n",
       "      <td>nucleus</td>\n",
       "    </tr>\n",
       "    <tr>\n",
       "      <th>50</th>\n",
       "      <td>forCB</td>\n",
       "      <td>Conn051</td>\n",
       "      <td>PR13</td>\n",
       "      <td>protein</td>\n",
       "      <td>PlantCoding</td>\n",
       "      <td>nucleus</td>\n",
       "    </tr>\n",
       "    <tr>\n",
       "      <th>100</th>\n",
       "      <td>forCB</td>\n",
       "      <td>Conn101</td>\n",
       "      <td>PR1</td>\n",
       "      <td>protein</td>\n",
       "      <td>PlantCoding</td>\n",
       "      <td>nucleus</td>\n",
       "    </tr>\n",
       "    <tr>\n",
       "      <th>101</th>\n",
       "      <td>forCB</td>\n",
       "      <td>Conn102</td>\n",
       "      <td>BG</td>\n",
       "      <td>protein</td>\n",
       "      <td>PlantCoding</td>\n",
       "      <td>nucleus</td>\n",
       "    </tr>\n",
       "    <tr>\n",
       "      <th>102</th>\n",
       "      <td>forCB</td>\n",
       "      <td>Conn103</td>\n",
       "      <td>PR5</td>\n",
       "      <td>protein</td>\n",
       "      <td>PlantCoding</td>\n",
       "      <td>nucleus</td>\n",
       "    </tr>\n",
       "    <tr>\n",
       "      <th>125</th>\n",
       "      <td>forCB</td>\n",
       "      <td>Conn126</td>\n",
       "      <td>SEN4</td>\n",
       "      <td>protein</td>\n",
       "      <td>PlantCoding</td>\n",
       "      <td>nucleus</td>\n",
       "    </tr>\n",
       "    <tr>\n",
       "      <th>126</th>\n",
       "      <td>forCB</td>\n",
       "      <td>Conn127</td>\n",
       "      <td>SAG12</td>\n",
       "      <td>protein</td>\n",
       "      <td>PlantCoding</td>\n",
       "      <td>nucleus</td>\n",
       "    </tr>\n",
       "    <tr>\n",
       "      <th>134</th>\n",
       "      <td>forCB</td>\n",
       "      <td>Conn135</td>\n",
       "      <td>PDF1</td>\n",
       "      <td>protein</td>\n",
       "      <td>PlantCoding</td>\n",
       "      <td>nucleus</td>\n",
       "    </tr>\n",
       "    <tr>\n",
       "      <th>147</th>\n",
       "      <td>forCB</td>\n",
       "      <td>Conn148</td>\n",
       "      <td>EDS1</td>\n",
       "      <td>protein</td>\n",
       "      <td>PlantCoding</td>\n",
       "      <td>nucleus</td>\n",
       "    </tr>\n",
       "    <tr>\n",
       "      <th>152</th>\n",
       "      <td>forCB</td>\n",
       "      <td>Conn153</td>\n",
       "      <td>MYB</td>\n",
       "      <td>protein</td>\n",
       "      <td>PlantCoding</td>\n",
       "      <td>nucleus</td>\n",
       "    </tr>\n",
       "    <tr>\n",
       "      <th>153</th>\n",
       "      <td>forCB</td>\n",
       "      <td>Conn154</td>\n",
       "      <td>ERF/EDF</td>\n",
       "      <td>protein</td>\n",
       "      <td>PlantCoding</td>\n",
       "      <td>nucleus</td>\n",
       "    </tr>\n",
       "    <tr>\n",
       "      <th>154</th>\n",
       "      <td>forCB</td>\n",
       "      <td>Conn155</td>\n",
       "      <td>PDF1</td>\n",
       "      <td>protein</td>\n",
       "      <td>PlantCoding</td>\n",
       "      <td>nucleus</td>\n",
       "    </tr>\n",
       "    <tr>\n",
       "      <th>157</th>\n",
       "      <td>forCB</td>\n",
       "      <td>Conn158</td>\n",
       "      <td>ERF/EDF</td>\n",
       "      <td>protein</td>\n",
       "      <td>PlantCoding</td>\n",
       "      <td>nucleus</td>\n",
       "    </tr>\n",
       "    <tr>\n",
       "      <th>162</th>\n",
       "      <td>forCB</td>\n",
       "      <td>Conn163</td>\n",
       "      <td>DELLA</td>\n",
       "      <td>protein</td>\n",
       "      <td>PlantCoding</td>\n",
       "      <td>nucleus</td>\n",
       "    </tr>\n",
       "    <tr>\n",
       "      <th>184</th>\n",
       "      <td>forCB</td>\n",
       "      <td>Conn185</td>\n",
       "      <td>EDS1</td>\n",
       "      <td>protein</td>\n",
       "      <td>PlantCoding</td>\n",
       "      <td>nucleus</td>\n",
       "    </tr>\n",
       "    <tr>\n",
       "      <th>185</th>\n",
       "      <td>forCB</td>\n",
       "      <td>Conn186</td>\n",
       "      <td>EIN3(like)</td>\n",
       "      <td>protein</td>\n",
       "      <td>PlantCoding</td>\n",
       "      <td>nucleus</td>\n",
       "    </tr>\n",
       "    <tr>\n",
       "      <th>186</th>\n",
       "      <td>forCB</td>\n",
       "      <td>Conn187</td>\n",
       "      <td>ICS</td>\n",
       "      <td>protein</td>\n",
       "      <td>PlantCoding</td>\n",
       "      <td>chloroplast</td>\n",
       "    </tr>\n",
       "    <tr>\n",
       "      <th>187</th>\n",
       "      <td>forCB</td>\n",
       "      <td>Conn188</td>\n",
       "      <td>ICS</td>\n",
       "      <td>protein</td>\n",
       "      <td>PlantCoding</td>\n",
       "      <td>chloroplast</td>\n",
       "    </tr>\n",
       "    <tr>\n",
       "      <th>188</th>\n",
       "      <td>forCB</td>\n",
       "      <td>Conn189</td>\n",
       "      <td>ICS</td>\n",
       "      <td>protein</td>\n",
       "      <td>PlantCoding</td>\n",
       "      <td>chloroplast</td>\n",
       "    </tr>\n",
       "    <tr>\n",
       "      <th>189</th>\n",
       "      <td>forCB</td>\n",
       "      <td>Conn190</td>\n",
       "      <td>ICS</td>\n",
       "      <td>protein</td>\n",
       "      <td>PlantCoding</td>\n",
       "      <td>chloroplast</td>\n",
       "    </tr>\n",
       "    <tr>\n",
       "      <th>192</th>\n",
       "      <td>forCB</td>\n",
       "      <td>Conn193</td>\n",
       "      <td>ACO</td>\n",
       "      <td>protein</td>\n",
       "      <td>PlantCoding</td>\n",
       "      <td>endoplasmic reticulum</td>\n",
       "    </tr>\n",
       "    <tr>\n",
       "      <th>195</th>\n",
       "      <td>_TBD</td>\n",
       "      <td>Conn196</td>\n",
       "      <td>COI1</td>\n",
       "      <td>protein</td>\n",
       "      <td>PlantCoding</td>\n",
       "      <td>nucleus</td>\n",
       "    </tr>\n",
       "    <tr>\n",
       "      <th>205</th>\n",
       "      <td>forCB</td>\n",
       "      <td>Conn206</td>\n",
       "      <td>ERF/EDF</td>\n",
       "      <td>protein</td>\n",
       "      <td>PlantCoding</td>\n",
       "      <td>nucleus</td>\n",
       "    </tr>\n",
       "    <tr>\n",
       "      <th>208</th>\n",
       "      <td>forCB</td>\n",
       "      <td>Conn209</td>\n",
       "      <td>OPR</td>\n",
       "      <td>protein</td>\n",
       "      <td>PlantCoding</td>\n",
       "      <td>peroxisome</td>\n",
       "    </tr>\n",
       "    <tr>\n",
       "      <th>239</th>\n",
       "      <td>forCB</td>\n",
       "      <td>Conn240</td>\n",
       "      <td>ICS</td>\n",
       "      <td>protein</td>\n",
       "      <td>PlantCoding</td>\n",
       "      <td>chloroplast</td>\n",
       "    </tr>\n",
       "    <tr>\n",
       "      <th>247</th>\n",
       "      <td>forCB</td>\n",
       "      <td>Conn248</td>\n",
       "      <td>ACS</td>\n",
       "      <td>protein</td>\n",
       "      <td>PlantCoding</td>\n",
       "      <td>endoplasmic reticulum</td>\n",
       "    </tr>\n",
       "    <tr>\n",
       "      <th>248</th>\n",
       "      <td>forCB</td>\n",
       "      <td>Conn249</td>\n",
       "      <td>ACS</td>\n",
       "      <td>protein</td>\n",
       "      <td>PlantCoding</td>\n",
       "      <td>endoplasmic reticulum</td>\n",
       "    </tr>\n",
       "    <tr>\n",
       "      <th>249</th>\n",
       "      <td>forCB</td>\n",
       "      <td>Conn250</td>\n",
       "      <td>ERF</td>\n",
       "      <td>protein</td>\n",
       "      <td>PlantCoding</td>\n",
       "      <td>nucleus</td>\n",
       "    </tr>\n",
       "    <tr>\n",
       "      <th>250</th>\n",
       "      <td>forCB</td>\n",
       "      <td>Conn251</td>\n",
       "      <td>NAC</td>\n",
       "      <td>protein</td>\n",
       "      <td>PlantCoding</td>\n",
       "      <td>nucleus</td>\n",
       "    </tr>\n",
       "    <tr>\n",
       "      <th>251</th>\n",
       "      <td>forCB</td>\n",
       "      <td>Conn252</td>\n",
       "      <td>NAC</td>\n",
       "      <td>protein</td>\n",
       "      <td>PlantCoding</td>\n",
       "      <td>nucleus</td>\n",
       "    </tr>\n",
       "    <tr>\n",
       "      <th>252</th>\n",
       "      <td>forCB</td>\n",
       "      <td>Conn253</td>\n",
       "      <td>NAC</td>\n",
       "      <td>protein</td>\n",
       "      <td>PlantCoding</td>\n",
       "      <td>nucleus</td>\n",
       "    </tr>\n",
       "    <tr>\n",
       "      <th>253</th>\n",
       "      <td>forCB</td>\n",
       "      <td>Conn254</td>\n",
       "      <td>ICS</td>\n",
       "      <td>protein</td>\n",
       "      <td>PlantCoding</td>\n",
       "      <td>chloroplast</td>\n",
       "    </tr>\n",
       "    <tr>\n",
       "      <th>254</th>\n",
       "      <td>forCB</td>\n",
       "      <td>Conn255</td>\n",
       "      <td>ICS</td>\n",
       "      <td>protein</td>\n",
       "      <td>PlantCoding</td>\n",
       "      <td>chloroplast</td>\n",
       "    </tr>\n",
       "    <tr>\n",
       "      <th>255</th>\n",
       "      <td>forCB</td>\n",
       "      <td>Conn256</td>\n",
       "      <td>ICS</td>\n",
       "      <td>protein</td>\n",
       "      <td>PlantCoding</td>\n",
       "      <td>chloroplast</td>\n",
       "    </tr>\n",
       "    <tr>\n",
       "      <th>256</th>\n",
       "      <td>forCB</td>\n",
       "      <td>Conn257</td>\n",
       "      <td>SAGT</td>\n",
       "      <td>protein</td>\n",
       "      <td>PlantCoding</td>\n",
       "      <td>nucleus</td>\n",
       "    </tr>\n",
       "    <tr>\n",
       "      <th>257</th>\n",
       "      <td>forCB</td>\n",
       "      <td>Conn258</td>\n",
       "      <td>SAGT</td>\n",
       "      <td>protein</td>\n",
       "      <td>PlantCoding</td>\n",
       "      <td>nucleus</td>\n",
       "    </tr>\n",
       "    <tr>\n",
       "      <th>258</th>\n",
       "      <td>forCB</td>\n",
       "      <td>Conn259</td>\n",
       "      <td>SAGT</td>\n",
       "      <td>protein</td>\n",
       "      <td>PlantCoding</td>\n",
       "      <td>nucleus</td>\n",
       "    </tr>\n",
       "    <tr>\n",
       "      <th>276</th>\n",
       "      <td>forCB</td>\n",
       "      <td>Conn277</td>\n",
       "      <td>GA20ox</td>\n",
       "      <td>protein</td>\n",
       "      <td>PlantCoding</td>\n",
       "      <td>putative:cytoplasm</td>\n",
       "    </tr>\n",
       "    <tr>\n",
       "      <th>277</th>\n",
       "      <td>forCB</td>\n",
       "      <td>Conn278</td>\n",
       "      <td>GA20ox</td>\n",
       "      <td>protein</td>\n",
       "      <td>PlantCoding</td>\n",
       "      <td>putative:cytoplasm</td>\n",
       "    </tr>\n",
       "    <tr>\n",
       "      <th>278</th>\n",
       "      <td>forCB</td>\n",
       "      <td>Conn279</td>\n",
       "      <td>GA20ox</td>\n",
       "      <td>protein</td>\n",
       "      <td>PlantCoding</td>\n",
       "      <td>putative:cytoplasm</td>\n",
       "    </tr>\n",
       "    <tr>\n",
       "      <th>279</th>\n",
       "      <td>forCB</td>\n",
       "      <td>Conn280</td>\n",
       "      <td>GA20ox</td>\n",
       "      <td>protein</td>\n",
       "      <td>PlantCoding</td>\n",
       "      <td>putative:cytoplasm</td>\n",
       "    </tr>\n",
       "    <tr>\n",
       "      <th>280</th>\n",
       "      <td>forCB</td>\n",
       "      <td>Conn281</td>\n",
       "      <td>GA20ox</td>\n",
       "      <td>protein</td>\n",
       "      <td>PlantCoding</td>\n",
       "      <td>putative:cytoplasm</td>\n",
       "    </tr>\n",
       "    <tr>\n",
       "      <th>301</th>\n",
       "      <td>forCB</td>\n",
       "      <td>Conn302</td>\n",
       "      <td>MYB</td>\n",
       "      <td>protein</td>\n",
       "      <td>PlantCoding</td>\n",
       "      <td>putative:cytoplasm</td>\n",
       "    </tr>\n",
       "    <tr>\n",
       "      <th>302</th>\n",
       "      <td>forCB</td>\n",
       "      <td>Conn303</td>\n",
       "      <td>MYB</td>\n",
       "      <td>protein</td>\n",
       "      <td>PlantCoding</td>\n",
       "      <td>putative:cytoplasm</td>\n",
       "    </tr>\n",
       "    <tr>\n",
       "      <th>303</th>\n",
       "      <td>forCB</td>\n",
       "      <td>Conn304</td>\n",
       "      <td>MYB</td>\n",
       "      <td>protein</td>\n",
       "      <td>PlantCoding</td>\n",
       "      <td>putative:cytoplasm</td>\n",
       "    </tr>\n",
       "    <tr>\n",
       "      <th>307</th>\n",
       "      <td>forCB</td>\n",
       "      <td>Conn308</td>\n",
       "      <td>MYB</td>\n",
       "      <td>protein</td>\n",
       "      <td>PlantCoding</td>\n",
       "      <td>putative:cytoplasm</td>\n",
       "    </tr>\n",
       "    <tr>\n",
       "      <th>308</th>\n",
       "      <td>forCB</td>\n",
       "      <td>Conn309</td>\n",
       "      <td>NPR</td>\n",
       "      <td>protein</td>\n",
       "      <td>PlantCoding</td>\n",
       "      <td>putative:cytoplasm</td>\n",
       "    </tr>\n",
       "    <tr>\n",
       "      <th>390</th>\n",
       "      <td>[TBD]</td>\n",
       "      <td>Conn405</td>\n",
       "      <td>ARR</td>\n",
       "      <td>protein</td>\n",
       "      <td>PlantCoding</td>\n",
       "      <td>putative:cytoplasm</td>\n",
       "    </tr>\n",
       "    <tr>\n",
       "      <th>393</th>\n",
       "      <td>NaN</td>\n",
       "      <td>Conn408</td>\n",
       "      <td>PR1</td>\n",
       "      <td>protein</td>\n",
       "      <td>PlantCoding</td>\n",
       "      <td>putative:cytoplasm</td>\n",
       "    </tr>\n",
       "    <tr>\n",
       "      <th>151</th>\n",
       "      <td>forCB</td>\n",
       "      <td>Conn152</td>\n",
       "      <td>ERF</td>\n",
       "      <td>protein</td>\n",
       "      <td>PlantCoding</td>\n",
       "      <td>nucleus</td>\n",
       "    </tr>\n",
       "    <tr>\n",
       "      <th>156</th>\n",
       "      <td>_TBD</td>\n",
       "      <td>Conn157</td>\n",
       "      <td>NAC</td>\n",
       "      <td>protein</td>\n",
       "      <td>PlantCoding</td>\n",
       "      <td>putative:cytoplasm</td>\n",
       "    </tr>\n",
       "  </tbody>\n",
       "</table>\n",
       "</div>"
      ],
      "text/plain": [
       "    Status   ConnID product_name product_form product_label  \\\n",
       "11   forCB  Conn012          EBF      protein   PlantCoding   \n",
       "20   forCB  Conn021          PR3      protein   PlantCoding   \n",
       "21   forCB  Conn022          PR4      protein   PlantCoding   \n",
       "24   forCB  Conn025         PDF1      protein   PlantCoding   \n",
       "27   forCB  Conn028          LOX      protein   PlantCoding   \n",
       "45   forCB  Conn046          JAZ      protein   PlantCoding   \n",
       "47   forCB  Conn048          MYC      protein   PlantCoding   \n",
       "48   forCB  Conn049          CLH      protein   PlantCoding   \n",
       "49   forCB  Conn050          JAL      protein   PlantCoding   \n",
       "50   forCB  Conn051         PR13      protein   PlantCoding   \n",
       "100  forCB  Conn101          PR1      protein   PlantCoding   \n",
       "101  forCB  Conn102           BG      protein   PlantCoding   \n",
       "102  forCB  Conn103          PR5      protein   PlantCoding   \n",
       "125  forCB  Conn126         SEN4      protein   PlantCoding   \n",
       "126  forCB  Conn127        SAG12      protein   PlantCoding   \n",
       "134  forCB  Conn135         PDF1      protein   PlantCoding   \n",
       "147  forCB  Conn148         EDS1      protein   PlantCoding   \n",
       "152  forCB  Conn153          MYB      protein   PlantCoding   \n",
       "153  forCB  Conn154      ERF/EDF      protein   PlantCoding   \n",
       "154  forCB  Conn155         PDF1      protein   PlantCoding   \n",
       "157  forCB  Conn158      ERF/EDF      protein   PlantCoding   \n",
       "162  forCB  Conn163        DELLA      protein   PlantCoding   \n",
       "184  forCB  Conn185         EDS1      protein   PlantCoding   \n",
       "185  forCB  Conn186   EIN3(like)      protein   PlantCoding   \n",
       "186  forCB  Conn187          ICS      protein   PlantCoding   \n",
       "187  forCB  Conn188          ICS      protein   PlantCoding   \n",
       "188  forCB  Conn189          ICS      protein   PlantCoding   \n",
       "189  forCB  Conn190          ICS      protein   PlantCoding   \n",
       "192  forCB  Conn193          ACO      protein   PlantCoding   \n",
       "195   _TBD  Conn196         COI1      protein   PlantCoding   \n",
       "205  forCB  Conn206      ERF/EDF      protein   PlantCoding   \n",
       "208  forCB  Conn209          OPR      protein   PlantCoding   \n",
       "239  forCB  Conn240          ICS      protein   PlantCoding   \n",
       "247  forCB  Conn248          ACS      protein   PlantCoding   \n",
       "248  forCB  Conn249          ACS      protein   PlantCoding   \n",
       "249  forCB  Conn250          ERF      protein   PlantCoding   \n",
       "250  forCB  Conn251          NAC      protein   PlantCoding   \n",
       "251  forCB  Conn252          NAC      protein   PlantCoding   \n",
       "252  forCB  Conn253          NAC      protein   PlantCoding   \n",
       "253  forCB  Conn254          ICS      protein   PlantCoding   \n",
       "254  forCB  Conn255          ICS      protein   PlantCoding   \n",
       "255  forCB  Conn256          ICS      protein   PlantCoding   \n",
       "256  forCB  Conn257         SAGT      protein   PlantCoding   \n",
       "257  forCB  Conn258         SAGT      protein   PlantCoding   \n",
       "258  forCB  Conn259         SAGT      protein   PlantCoding   \n",
       "276  forCB  Conn277       GA20ox      protein   PlantCoding   \n",
       "277  forCB  Conn278       GA20ox      protein   PlantCoding   \n",
       "278  forCB  Conn279       GA20ox      protein   PlantCoding   \n",
       "279  forCB  Conn280       GA20ox      protein   PlantCoding   \n",
       "280  forCB  Conn281       GA20ox      protein   PlantCoding   \n",
       "301  forCB  Conn302          MYB      protein   PlantCoding   \n",
       "302  forCB  Conn303          MYB      protein   PlantCoding   \n",
       "303  forCB  Conn304          MYB      protein   PlantCoding   \n",
       "307  forCB  Conn308          MYB      protein   PlantCoding   \n",
       "308  forCB  Conn309          NPR      protein   PlantCoding   \n",
       "390  [TBD]  Conn405          ARR      protein   PlantCoding   \n",
       "393    NaN  Conn408          PR1      protein   PlantCoding   \n",
       "151  forCB  Conn152          ERF      protein   PlantCoding   \n",
       "156   _TBD  Conn157          NAC      protein   PlantCoding   \n",
       "\n",
       "          product_location  \n",
       "11                 nucleus  \n",
       "20                 nucleus  \n",
       "21                 nucleus  \n",
       "24                 nucleus  \n",
       "27             chloroplast  \n",
       "45                 nucleus  \n",
       "47                 nucleus  \n",
       "48                 nucleus  \n",
       "49                 nucleus  \n",
       "50                 nucleus  \n",
       "100                nucleus  \n",
       "101                nucleus  \n",
       "102                nucleus  \n",
       "125                nucleus  \n",
       "126                nucleus  \n",
       "134                nucleus  \n",
       "147                nucleus  \n",
       "152                nucleus  \n",
       "153                nucleus  \n",
       "154                nucleus  \n",
       "157                nucleus  \n",
       "162                nucleus  \n",
       "184                nucleus  \n",
       "185                nucleus  \n",
       "186            chloroplast  \n",
       "187            chloroplast  \n",
       "188            chloroplast  \n",
       "189            chloroplast  \n",
       "192  endoplasmic reticulum  \n",
       "195                nucleus  \n",
       "205                nucleus  \n",
       "208             peroxisome  \n",
       "239            chloroplast  \n",
       "247  endoplasmic reticulum  \n",
       "248  endoplasmic reticulum  \n",
       "249                nucleus  \n",
       "250                nucleus  \n",
       "251                nucleus  \n",
       "252                nucleus  \n",
       "253            chloroplast  \n",
       "254            chloroplast  \n",
       "255            chloroplast  \n",
       "256                nucleus  \n",
       "257                nucleus  \n",
       "258                nucleus  \n",
       "276     putative:cytoplasm  \n",
       "277     putative:cytoplasm  \n",
       "278     putative:cytoplasm  \n",
       "279     putative:cytoplasm  \n",
       "280     putative:cytoplasm  \n",
       "301     putative:cytoplasm  \n",
       "302     putative:cytoplasm  \n",
       "303     putative:cytoplasm  \n",
       "307     putative:cytoplasm  \n",
       "308     putative:cytoplasm  \n",
       "390     putative:cytoplasm  \n",
       "393     putative:cytoplasm  \n",
       "151                nucleus  \n",
       "156     putative:cytoplasm  "
      ]
     },
     "execution_count": 205,
     "metadata": {},
     "output_type": "execute_result"
    }
   ],
   "source": [
    "new_subdf[(  (new_subdf['product_form'] == 'protein') & (new_subdf['product_location'] != 'cytoplasm')  )][[\"Status\", \"ConnID\"] + product_cols_wo_homologues]"
   ]
  },
  {
   "cell_type": "code",
   "execution_count": 206,
   "metadata": {},
   "outputs": [],
   "source": [
    "# manualfix\n",
    "new_subdf.loc[(  (new_subdf['product_form'] == 'protein') & (new_subdf['product_location'] != 'cytoplasm')  ), 'product_location'] = 'cytoplasm'"
   ]
  },
  {
   "cell_type": "code",
   "execution_count": 207,
   "metadata": {},
   "outputs": [
    {
     "data": {
      "text/html": [
       "<div>\n",
       "<style scoped>\n",
       "    .dataframe tbody tr th:only-of-type {\n",
       "        vertical-align: middle;\n",
       "    }\n",
       "\n",
       "    .dataframe tbody tr th {\n",
       "        vertical-align: top;\n",
       "    }\n",
       "\n",
       "    .dataframe thead th {\n",
       "        text-align: right;\n",
       "    }\n",
       "</style>\n",
       "<table border=\"1\" class=\"dataframe\">\n",
       "  <thead>\n",
       "    <tr style=\"text-align: right;\">\n",
       "      <th></th>\n",
       "      <th>Status</th>\n",
       "      <th>ConnID</th>\n",
       "      <th>substrate_name</th>\n",
       "      <th>substrate_form</th>\n",
       "      <th>substrate_label</th>\n",
       "      <th>substrate_location</th>\n",
       "    </tr>\n",
       "  </thead>\n",
       "  <tbody>\n",
       "    <tr>\n",
       "      <th>62</th>\n",
       "      <td>forCB</td>\n",
       "      <td>Conn063</td>\n",
       "      <td>Anthocyanin-accumulation</td>\n",
       "      <td>process</td>\n",
       "      <td>Process</td>\n",
       "      <td>cytoplasm</td>\n",
       "    </tr>\n",
       "    <tr>\n",
       "      <th>63</th>\n",
       "      <td>forCB</td>\n",
       "      <td>Conn064</td>\n",
       "      <td>Trichome-initiation</td>\n",
       "      <td>process</td>\n",
       "      <td>Process</td>\n",
       "      <td>cytoplasm</td>\n",
       "    </tr>\n",
       "  </tbody>\n",
       "</table>\n",
       "</div>"
      ],
      "text/plain": [
       "   Status   ConnID            substrate_name substrate_form substrate_label  \\\n",
       "62  forCB  Conn063  Anthocyanin-accumulation        process         Process   \n",
       "63  forCB  Conn064       Trichome-initiation        process         Process   \n",
       "\n",
       "   substrate_location  \n",
       "62          cytoplasm  \n",
       "63          cytoplasm  "
      ]
     },
     "execution_count": 207,
     "metadata": {},
     "output_type": "execute_result"
    }
   ],
   "source": [
    "new_subdf[~new_subdf['substrate_label'].isin([\"PlantCoding\", \"PlantNonCoding\"])][[\"Status\", \"ConnID\"] + substrate_cols_wo_homologues] #+ catalyst_cols_wo_homologues + product_cols_wo_homologues]"
   ]
  },
  {
   "cell_type": "code",
   "execution_count": 208,
   "metadata": {},
   "outputs": [
    {
     "data": {
      "text/html": [
       "<div>\n",
       "<style scoped>\n",
       "    .dataframe tbody tr th:only-of-type {\n",
       "        vertical-align: middle;\n",
       "    }\n",
       "\n",
       "    .dataframe tbody tr th {\n",
       "        vertical-align: top;\n",
       "    }\n",
       "\n",
       "    .dataframe thead th {\n",
       "        text-align: right;\n",
       "    }\n",
       "</style>\n",
       "<table border=\"1\" class=\"dataframe\">\n",
       "  <thead>\n",
       "    <tr style=\"text-align: right;\">\n",
       "      <th></th>\n",
       "      <th>Status</th>\n",
       "      <th>ConnID</th>\n",
       "      <th>product_name</th>\n",
       "      <th>product_form</th>\n",
       "      <th>product_label</th>\n",
       "      <th>product_location</th>\n",
       "    </tr>\n",
       "  </thead>\n",
       "  <tbody>\n",
       "    <tr>\n",
       "      <th>44</th>\n",
       "      <td>_TBD</td>\n",
       "      <td>Conn045</td>\n",
       "      <td>COI1|OMR1</td>\n",
       "      <td>complex</td>\n",
       "      <td>Complex</td>\n",
       "      <td>nucleus</td>\n",
       "    </tr>\n",
       "    <tr>\n",
       "      <th>62</th>\n",
       "      <td>forCB</td>\n",
       "      <td>Conn063</td>\n",
       "      <td>Anthocyanin-accumulation</td>\n",
       "      <td>process_active</td>\n",
       "      <td>Process</td>\n",
       "      <td>cytoplasm</td>\n",
       "    </tr>\n",
       "    <tr>\n",
       "      <th>63</th>\n",
       "      <td>forCB</td>\n",
       "      <td>Conn064</td>\n",
       "      <td>Trichome-initiation</td>\n",
       "      <td>process_active</td>\n",
       "      <td>Process</td>\n",
       "      <td>cytoplasm</td>\n",
       "    </tr>\n",
       "    <tr>\n",
       "      <th>92</th>\n",
       "      <td>_TBD</td>\n",
       "      <td>Conn093</td>\n",
       "      <td>NPR1|PAD4|TGA2,5,6</td>\n",
       "      <td>complex</td>\n",
       "      <td>Complex</td>\n",
       "      <td>nucleus</td>\n",
       "    </tr>\n",
       "    <tr>\n",
       "      <th>115</th>\n",
       "      <td>_TBD</td>\n",
       "      <td>Conn116</td>\n",
       "      <td>EDS5|NPR1|TGA2,5,6</td>\n",
       "      <td>complex</td>\n",
       "      <td>Complex</td>\n",
       "      <td>nucleus</td>\n",
       "    </tr>\n",
       "    <tr>\n",
       "      <th>117</th>\n",
       "      <td>_TBD</td>\n",
       "      <td>Conn118</td>\n",
       "      <td>EDS1|NPR1|TGA2,5,6</td>\n",
       "      <td>complex</td>\n",
       "      <td>Complex</td>\n",
       "      <td>nucleus</td>\n",
       "    </tr>\n",
       "    <tr>\n",
       "      <th>119</th>\n",
       "      <td>_TBD</td>\n",
       "      <td>Conn120</td>\n",
       "      <td>NPR1|PAD4|TGA2,5,6</td>\n",
       "      <td>complex</td>\n",
       "      <td>Complex</td>\n",
       "      <td>nucleus</td>\n",
       "    </tr>\n",
       "    <tr>\n",
       "      <th>148</th>\n",
       "      <td>_TBD</td>\n",
       "      <td>Conn149</td>\n",
       "      <td>GSTU24|ROS</td>\n",
       "      <td>complex</td>\n",
       "      <td>Complex</td>\n",
       "      <td>nucleus</td>\n",
       "    </tr>\n",
       "  </tbody>\n",
       "</table>\n",
       "</div>"
      ],
      "text/plain": [
       "    Status   ConnID              product_name    product_form product_label  \\\n",
       "44    _TBD  Conn045                 COI1|OMR1         complex       Complex   \n",
       "62   forCB  Conn063  Anthocyanin-accumulation  process_active       Process   \n",
       "63   forCB  Conn064       Trichome-initiation  process_active       Process   \n",
       "92    _TBD  Conn093        NPR1|PAD4|TGA2,5,6         complex       Complex   \n",
       "115   _TBD  Conn116        EDS5|NPR1|TGA2,5,6         complex       Complex   \n",
       "117   _TBD  Conn118        EDS1|NPR1|TGA2,5,6         complex       Complex   \n",
       "119   _TBD  Conn120        NPR1|PAD4|TGA2,5,6         complex       Complex   \n",
       "148   _TBD  Conn149                GSTU24|ROS         complex       Complex   \n",
       "\n",
       "    product_location  \n",
       "44           nucleus  \n",
       "62         cytoplasm  \n",
       "63         cytoplasm  \n",
       "92           nucleus  \n",
       "115          nucleus  \n",
       "117          nucleus  \n",
       "119          nucleus  \n",
       "148          nucleus  "
      ]
     },
     "execution_count": 208,
     "metadata": {},
     "output_type": "execute_result"
    }
   ],
   "source": [
    "new_subdf[~new_subdf['product_label'].isin([\"PlantCoding\", \"PlantNonCoding\"])][[\"Status\", \"ConnID\"] + product_cols_wo_homologues]"
   ]
  },
  {
   "cell_type": "code",
   "execution_count": 209,
   "metadata": {},
   "outputs": [],
   "source": [
    "exploded_new_subdf = helpers.unnesting(new_subdf, catalyst_cols)"
   ]
  },
  {
   "cell_type": "code",
   "execution_count": 210,
   "metadata": {},
   "outputs": [],
   "source": [
    "edge_label = \"ACTIVATES\"\n",
    "reaction_type = 'transcriptional/translational induction'\n",
    "reaction_type_nice = 'transcriptional_translational_induction'\n",
    "act_subdf = exploded_new_subdf[exploded_new_subdf['reaction_type']==reaction_type]\n",
    "\n",
    "# substrate to catalyst edge\n",
    "f =  f\"{reaction_type_nice}-{edge_label}.tsv\" \n",
    "want_cols = reaction_standard_columns + catalyst_cols + product_cols + substrate_cols\n",
    "act_subdf[want_cols].to_csv(f\"../data/import/{f}\", sep=\"\\t\", index=None)"
   ]
  },
  {
   "cell_type": "code",
   "execution_count": 211,
   "metadata": {
    "scrolled": true
   },
   "outputs": [
    {
     "name": "stdout",
     "output_type": "stream",
     "text": [
      "-                   \t 62\t 62\n"
     ]
    }
   ],
   "source": [
    "query = helpers.make_create_requlatory_edge_query(f, edge_label,\n",
    "                                        \"catalyst\", \"substrate\", \"product\"\n",
    "                              )\n",
    "qr = graph.run(query)\n",
    "pretty_print_result('-', act_subdf, qr, 'relationships')"
   ]
  },
  {
   "cell_type": "code",
   "execution_count": 212,
   "metadata": {},
   "outputs": [],
   "source": [
    "edge_label = \"INHIBITS\"\n",
    "reaction_type = 'transcriptional/translational repression'\n",
    "reaction_type_nice = 'transcriptional_translational_repression'\n",
    "inh_subdf = exploded_new_subdf[exploded_new_subdf['reaction_type']==reaction_type]\n",
    "\n",
    "# substrate to catalyst edge\n",
    "f =  f\"{reaction_type_nice}-{edge_label}.tsv\" \n",
    "want_cols = reaction_standard_columns + catalyst_cols + product_cols + substrate_cols\n",
    "inh_subdf[want_cols].to_csv(f\"../data/import/{f}\", sep=\"\\t\", index=None)"
   ]
  },
  {
   "cell_type": "code",
   "execution_count": 213,
   "metadata": {
    "scrolled": true
   },
   "outputs": [
    {
     "name": "stdout",
     "output_type": "stream",
     "text": [
      "-                   \t 19\t 19\n"
     ]
    }
   ],
   "source": [
    "query = helpers.make_create_requlatory_edge_query(f, edge_label,\n",
    "                                        \"catalyst\", \"substrate\", \"product\"\n",
    "                              )\n",
    "qr = graph.run(query)\n",
    "pretty_print_result('-', inh_subdf, qr, 'relationships')"
   ]
  },
  {
   "cell_type": "code",
   "execution_count": null,
   "metadata": {},
   "outputs": [],
   "source": []
  },
  {
   "cell_type": "markdown",
   "metadata": {},
   "source": [
    "## cleavage/auto-cleavage"
   ]
  },
  {
   "cell_type": "code",
   "execution_count": 165,
   "metadata": {},
   "outputs": [],
   "source": [
    "#Image(filename='./reaction_types/activation/cleavage_autocleavage.png')"
   ]
  },
  {
   "cell_type": "code",
   "execution_count": 168,
   "metadata": {},
   "outputs": [
    {
     "name": "stdout",
     "output_type": "stream",
     "text": [
      "CLEAVAGE_AUTOCLEAVAGE 29\n"
     ]
    }
   ],
   "source": [
    "key = 'cleavage/auto-cleavage'\n",
    "reaction_type = 'CLEAVAGE_AUTOCLEAVAGE'\n",
    "subdf = df_edges[df_edges['reaction_type'] == key].copy()\n",
    "print(reaction_type, subdf.shape[0])"
   ]
  },
  {
   "cell_type": "code",
   "execution_count": 169,
   "metadata": {
    "scrolled": true
   },
   "outputs": [],
   "source": [
    "cleavage_wo_catalyst = subdf[subdf['input2_ID'].isna() & subdf['input3_ID'].isna()]\n",
    "cleavage_w_catalyst = subdf[~(subdf['input2_ID'].isna() & subdf['input3_ID'].isna())]"
   ]
  },
  {
   "cell_type": "code",
   "execution_count": 170,
   "metadata": {},
   "outputs": [
    {
     "name": "stderr",
     "output_type": "stream",
     "text": [
      "/opt/conda/lib/python3.7/site-packages/ipykernel_launcher.py:26: SettingWithCopyWarning: \n",
      "A value is trying to be set on a copy of a slice from a DataFrame.\n",
      "Try using .loc[row_indexer,col_indexer] = value instead\n",
      "\n",
      "See the caveats in the documentation: http://pandas.pydata.org/pandas-docs/stable/indexing.html#indexing-view-versus-copy\n"
     ]
    }
   ],
   "source": [
    "rename_target(cleavage_w_catalyst, 'output1', 'product')\n",
    "rename_target(cleavage_w_catalyst, 'input1',  'substrate')\n",
    "rename_target(cleavage_w_catalyst, 'input2',  'catalyst')"
   ]
  },
  {
   "cell_type": "code",
   "execution_count": 171,
   "metadata": {},
   "outputs": [
    {
     "name": "stdout",
     "output_type": "stream",
     "text": [
      "-                   \t 19\t 19\n"
     ]
    }
   ],
   "source": [
    "# substrate to node edge\n",
    "\n",
    "f =  f\"{reaction_type}-{t}-substrate_edges.tsv\" \n",
    "want_cols = reaction_standard_columns + substrate_cols + catalyst_cols\n",
    "cleavage_w_catalyst.to_csv(f\"../data/import/{f}\", sep=\"\\t\", index=None)\n",
    "\n",
    "query = helpers.make_create_reaction_edge_query(f, 'SUBSTRATE',\n",
    "                                                \"substrate\", \"catalyst\"\n",
    "                              )\n",
    "qr = graph.run(query)\n",
    "pretty_print_result(\"-\", cleavage_w_catalyst, qr, 'relationships')"
   ]
  },
  {
   "cell_type": "code",
   "execution_count": 172,
   "metadata": {},
   "outputs": [
    {
     "name": "stdout",
     "output_type": "stream",
     "text": [
      "-                   \t 19\t 19\n"
     ]
    }
   ],
   "source": [
    "# catalyst to product edge\n",
    "\n",
    "f =  f\"{reaction_type}-{t}-product_edges.tsv\" \n",
    "want_cols = reaction_standard_columns + catalyst_cols + product_cols\n",
    "cleavage_w_catalyst.to_csv(f\"../data/import/{f}\", sep=\"\\t\", index=None)\n",
    "\n",
    "query = helpers.make_create_reaction_edge_query(f, 'PRODUCT',\n",
    "                                                \"catalyst\" , \"product\"\n",
    "                              )\n",
    "qr = graph.run(query)\n",
    "pretty_print_result(\"-\", cleavage_w_catalyst, qr, 'relationships')"
   ]
  },
  {
   "cell_type": "code",
   "execution_count": 173,
   "metadata": {},
   "outputs": [
    {
     "name": "stderr",
     "output_type": "stream",
     "text": [
      "/opt/conda/lib/python3.7/site-packages/ipykernel_launcher.py:26: SettingWithCopyWarning: \n",
      "A value is trying to be set on a copy of a slice from a DataFrame.\n",
      "Try using .loc[row_indexer,col_indexer] = value instead\n",
      "\n",
      "See the caveats in the documentation: http://pandas.pydata.org/pandas-docs/stable/indexing.html#indexing-view-versus-copy\n"
     ]
    }
   ],
   "source": [
    "rename_target(cleavage_wo_catalyst, 'output1', 'product')\n",
    "rename_target(cleavage_wo_catalyst, 'input1',  'substrate')"
   ]
  },
  {
   "cell_type": "code",
   "execution_count": null,
   "metadata": {},
   "outputs": [],
   "source": []
  },
  {
   "cell_type": "code",
   "execution_count": 174,
   "metadata": {},
   "outputs": [],
   "source": [
    "# make pseudo nodes\n",
    "f = f\"{reaction_type}-pseudo.tsv\"\n",
    "cleavage_wo_catalyst[reaction_standard_columns].to_csv(f\"../data/import/{f}\", sep=\"\\t\", index=None)\n",
    "query = helpers.pseudo_node_query(f, name=\"line.reaction_id\")"
   ]
  },
  {
   "cell_type": "code",
   "execution_count": 175,
   "metadata": {
    "scrolled": true
   },
   "outputs": [
    {
     "name": "stdout",
     "output_type": "stream",
     "text": [
      "PseudoNode          \t 10\t 10\n"
     ]
    }
   ],
   "source": [
    "qr = graph.run(query)\n",
    "pretty_print_result('PseudoNode', cleavage_wo_catalyst, qr, 'nodes')"
   ]
  },
  {
   "cell_type": "code",
   "execution_count": 176,
   "metadata": {},
   "outputs": [
    {
     "name": "stdout",
     "output_type": "stream",
     "text": [
      "Metabolite          \t 10\t 10\n"
     ]
    }
   ],
   "source": [
    "# binding substrate edges\n",
    "want_cols = reaction_standard_columns + substrate_cols\n",
    "\n",
    "for t, this_subdf in cleavage_wo_catalyst.groupby(\"substrate_label\"):\n",
    "    f = f\"{reaction_type}-{t}-substrate_edges.tsv\"\n",
    "    this_subdf[want_cols].to_csv(f\"../data/import/{f}\", index=None, sep=\"\\t\")\n",
    "    \n",
    "    query = helpers.make_create_reaction_edge_query(f, 'SUBSTRATE', \n",
    "                                                    \"substrate\", \"dne\",\n",
    "                                                    source_label=t, \n",
    "                                                    target_label=\"PseudoNode\", \n",
    "                                                    target_name=\"line.reaction_id\"\n",
    "                                                   )\n",
    "\n",
    "    qr = graph.run(query)\n",
    "\n",
    "    pretty_print_result(t, this_subdf, qr, 'relationships')\n"
   ]
  },
  {
   "cell_type": "code",
   "execution_count": 177,
   "metadata": {},
   "outputs": [],
   "source": [
    "f = f\"{reaction_type}-product_edges.tsv\"\n",
    "want_cols = reaction_standard_columns + product_cols\n",
    "cleavage_wo_catalyst[want_cols].to_csv(f'../data/import/{f}', sep=\"\\t\", index=None)"
   ]
  },
  {
   "cell_type": "code",
   "execution_count": 178,
   "metadata": {},
   "outputs": [
    {
     "name": "stdout",
     "output_type": "stream",
     "text": [
      "-                   \t 10\t 10\n"
     ]
    }
   ],
   "source": [
    "# binding product edges\n",
    "query = helpers.make_create_reaction_edge_query(f, \"PRODUCT\", \n",
    "                                                \"dne\", \"product\",\n",
    "                                                source_name=\"line.reaction_id\", \n",
    "                                                source_label=\"PseudoNode\"\n",
    "                                               )\n",
    "qr = graph.run(query)\n",
    "pretty_print_result('-', cleavage_wo_catalyst, qr, 'relationships')"
   ]
  },
  {
   "cell_type": "code",
   "execution_count": null,
   "metadata": {},
   "outputs": [],
   "source": []
  },
  {
   "cell_type": "markdown",
   "metadata": {},
   "source": [
    "## undefined"
   ]
  },
  {
   "cell_type": "code",
   "execution_count": 177,
   "metadata": {},
   "outputs": [],
   "source": [
    "#Image(filename='./reaction_types/...png')"
   ]
  },
  {
   "cell_type": "code",
   "execution_count": 179,
   "metadata": {},
   "outputs": [
    {
     "name": "stdout",
     "output_type": "stream",
     "text": [
      "UNDEFINED 9\n"
     ]
    }
   ],
   "source": [
    "key = 'undefined'\n",
    "reaction_type = 'UNDEFINED'\n",
    "subdf = df_edges[df_edges['reaction_type'] == key].copy()\n",
    "print(reaction_type, subdf.shape[0])"
   ]
  },
  {
   "cell_type": "code",
   "execution_count": 180,
   "metadata": {},
   "outputs": [],
   "source": [
    "rename_target(subdf, 'output1', 'product')\n",
    "rename_target(subdf, 'input2',  'substrate')\n",
    "rename_target(subdf, 'input1',  'catalyst')"
   ]
  },
  {
   "cell_type": "code",
   "execution_count": 181,
   "metadata": {},
   "outputs": [],
   "source": [
    "activation_subdf = subdf[subdf['ReactionEffect'] == 'activation' ]\n",
    "inhibition_subdf = subdf[subdf['ReactionEffect'] == 'inhibition' ]"
   ]
  },
  {
   "cell_type": "code",
   "execution_count": 182,
   "metadata": {},
   "outputs": [],
   "source": [
    "edge_label = \"ACTIVATES\"\n",
    "\n",
    "# substrate to catalyst edge\n",
    "f =  f\"{reaction_type}-{edge_label}.tsv\" \n",
    "want_cols = reaction_standard_columns + catalyst_cols + substrate_cols\n",
    "activation_subdf[want_cols].to_csv(f\"../data/import/{f}\", sep=\"\\t\", index=None)"
   ]
  },
  {
   "cell_type": "code",
   "execution_count": 183,
   "metadata": {
    "scrolled": true
   },
   "outputs": [
    {
     "name": "stdout",
     "output_type": "stream",
     "text": [
      "-                   \t  1\t  1\n"
     ]
    }
   ],
   "source": [
    "query = helpers.make_create_requlatory_edge_query(f, edge_label,\n",
    "                                        \"catalyst\", \"substrate\", \"product\"\n",
    "                              )\n",
    "qr = graph.run(query)\n",
    "pretty_print_result('-', activation_subdf, qr, 'relationships')"
   ]
  },
  {
   "cell_type": "code",
   "execution_count": 184,
   "metadata": {},
   "outputs": [],
   "source": [
    "edge_label = \"INHIBITS\"\n",
    "\n",
    "# substrate to catalyst edge\n",
    "f =  f\"{reaction_type}-{edge_label}.tsv\" \n",
    "want_cols = reaction_standard_columns + catalyst_cols + product_cols + substrate_cols\n",
    "inhibition_subdf[want_cols].to_csv(f\"../data/import/{f}\", sep=\"\\t\", index=None)"
   ]
  },
  {
   "cell_type": "code",
   "execution_count": 185,
   "metadata": {
    "scrolled": true
   },
   "outputs": [
    {
     "name": "stdout",
     "output_type": "stream",
     "text": [
      "-                   \t  8\t  8\n"
     ]
    }
   ],
   "source": [
    "query = helpers.make_create_requlatory_edge_query(f, edge_label,\n",
    "                                        \"catalyst\", \"substrate\", \"product\"\n",
    "                              )\n",
    "qr = graph.run(query)\n",
    "pretty_print_result('-', inhibition_subdf, qr, 'relationships')"
   ]
  },
  {
   "cell_type": "code",
   "execution_count": null,
   "metadata": {},
   "outputs": [],
   "source": []
  },
  {
   "cell_type": "code",
   "execution_count": null,
   "metadata": {},
   "outputs": [],
   "source": []
  },
  {
   "cell_type": "code",
   "execution_count": null,
   "metadata": {},
   "outputs": [],
   "source": []
  },
  {
   "cell_type": "code",
   "execution_count": null,
   "metadata": {},
   "outputs": [],
   "source": []
  },
  {
   "cell_type": "markdown",
   "metadata": {},
   "source": [
    "## END"
   ]
  },
  {
   "cell_type": "code",
   "execution_count": null,
   "metadata": {},
   "outputs": [],
   "source": []
  },
  {
   "cell_type": "code",
   "execution_count": null,
   "metadata": {},
   "outputs": [],
   "source": []
  },
  {
   "cell_type": "code",
   "execution_count": null,
   "metadata": {},
   "outputs": [],
   "source": []
  },
  {
   "cell_type": "code",
   "execution_count": null,
   "metadata": {},
   "outputs": [],
   "source": []
  },
  {
   "cell_type": "code",
   "execution_count": null,
   "metadata": {},
   "outputs": [],
   "source": []
  },
  {
   "cell_type": "code",
   "execution_count": null,
   "metadata": {},
   "outputs": [],
   "source": [
    "\n",
    "only_ge = new_subdf[['ConnID', 'Modifications'] + substrate_cols_wo_homologues + product_cols_wo_homologues].copy()"
   ]
  },
  {
   "cell_type": "code",
   "execution_count": null,
   "metadata": {},
   "outputs": [],
   "source": [
    "# Check that duplicates based just on substrate name is \n",
    "# same as duplicates based on substrate and product cols\n",
    "# I.e. droping duplicates is okay. \n",
    "\n",
    "x = only_ge[only_ge[[\"Modifications\",\"substrate_name\"]].duplicated()]\n",
    "y = only_ge[only_ge[substrate_cols_wo_homologues + product_cols_wo_homologues].duplicated()]\n",
    "\n",
    "bad_dups = only_ge.loc[set(x.index ) - set(y.index)].sort_values('substrate_name')\n",
    "bad_dups"
   ]
  },
  {
   "cell_type": "code",
   "execution_count": null,
   "metadata": {
    "scrolled": false
   },
   "outputs": [],
   "source": [
    "for n in bad_dups['substrate_name']:\n",
    "    display(only_ge[only_ge['substrate_name'] ==n])"
   ]
  },
  {
   "cell_type": "code",
   "execution_count": null,
   "metadata": {},
   "outputs": [],
   "source": [
    "for g, this_subdf in only_ge.groupby('substrate_name'):\n",
    "    print(g, this_subdf['Modifications'].unique())"
   ]
  },
  {
   "cell_type": "code",
   "execution_count": null,
   "metadata": {},
   "outputs": [],
   "source": [
    "from collections import defaultdict"
   ]
  },
  {
   "cell_type": "code",
   "execution_count": null,
   "metadata": {},
   "outputs": [],
   "source": [
    "sub = lambda : defaultdict(set)\n",
    "D = defaultdict(sub)\n",
    "for (gene, modification), this_subdf in only_ge.groupby(['substrate_name', 'Modifications']):\n",
    "    if modification == 'translation':\n",
    "        D[gene]['gene_localisation'].update(this_subdf['substrate_localisation'])\n",
    "        D[gene]['rna_localisation'].update(this_subdf['product_localisation'])\n",
    "    elif modification == 'transcription':\n",
    "        D[gene]['rna_localisation'].update(this_subdf['substrate_localisation'])\n",
    "        D[gene]['gene_product_localisation'].update(this_subdf['product_localisation'])\n",
    "ge_properties = pd.DataFrame.from_dict(D, orient=\"index\")\n",
    "del D"
   ]
  },
  {
   "cell_type": "code",
   "execution_count": null,
   "metadata": {},
   "outputs": [],
   "source": [
    "ge_properties"
   ]
  },
  {
   "cell_type": "code",
   "execution_count": null,
   "metadata": {},
   "outputs": [],
   "source": [
    "only_ge.drop_duplicates(keep=\"first\", inplace=True, subset=['substrate_name'])\n",
    "only_ge = only_ge.set_index('substrate_name').join(ge_properties).reset_index()\n",
    "#only_ge['ge_name'] = only_ge['substrate_name'] + \"-expression\""
   ]
  },
  {
   "cell_type": "code",
   "execution_count": null,
   "metadata": {},
   "outputs": [],
   "source": [
    "for c in ['rna_localisation', 'gene_product_localisation', 'gene_localisation']:\n",
    "    only_ge[c] = only_ge[c].apply(lambda x:\"\" if x is np.nan else x.pop())"
   ]
  },
  {
   "cell_type": "code",
   "execution_count": null,
   "metadata": {},
   "outputs": [],
   "source": [
    "want_cols = ['substrate_name', 'gene_product_localisation', 'rna_localisation', 'gene_localisation']\n",
    "\n",
    "\n",
    "for t, this_subdf in only_ge.groupby(\"substrate_label\"):\n",
    "    \n",
    "    f = f\"{reaction_type}-{t}-GeneExpression.tsv\" \n",
    "    this_subdf[want_cols].to_csv(f\"../data/import/{f}\", sep=\"\\t\", index=None)\n",
    "    \n",
    "    query = '''USING PERIODIC COMMIT 500\n",
    "               LOAD CSV WITH HEADERS FROM  'file:///{file_name}' AS line FIELDTERMINATOR '\\t'\n",
    "               MATCH (n:{label} {{name: line.substrate_name }}) \n",
    "               WITH n, line\n",
    "                   SET n.gene_localisation = line.gene_localisation,\n",
    "                       n.rna_localisation = line.rna_localisation,\n",
    "                       n.gene_product_localisation = line.gene_product_localisation\n",
    "                   '''.format(file_name=f, label=t, new_label=label)\n",
    "\n",
    "    qr = graph.run(query)\n",
    "    pretty_print_result(t, this_subdf, qr, 'properties_set', multiplier=3)\n",
    "\n",
    "# label = \"GeneExpression\"\n",
    "# want_cols = ['substrate_name', 'gene_product_localisation', 'rna_localisation', 'gene_localisation', 'ge_name']\n",
    "\n",
    "\n",
    "# for t, this_subdf in only_ge.groupby(\"substrate_label\"):\n",
    "    \n",
    "#     f = f\"{reaction_type}-{t}-GeneExpression.tsv\" \n",
    "#     this_subdf[want_cols].to_csv(f\"../data/import/{f}\", sep=\"\\t\", index=None)\n",
    "    \n",
    "#     query = '''USING PERIODIC COMMIT 500\n",
    "#                LOAD CSV WITH HEADERS FROM  'file:///{file_name}' AS line FIELDTERMINATOR '\\t'\n",
    "#                MATCH (n:{label} {{name: line.substrate_name }}) \n",
    "#                WITH n as map, line as line\n",
    "#                    CREATE (copy:{new_label}) \n",
    "#                    SET copy=map\n",
    "#                    SET copy.name = line.ge_name, \n",
    "#                        copy.gene_family = map.name,\n",
    "#                        copy.gene_localisation = line.gene_localisation,\n",
    "#                        copy.rna_localisation = line.rna_localisation,\n",
    "#                        copy.gene_product_localisation = line.gene_product_localisation\n",
    "#                    '''.format(file_name=f, label=t, new_label=label)\n",
    "\n",
    "#     qr = graph.run(query)\n",
    "#     pretty_print_result(t, this_subdf, qr, 'nodes')"
   ]
  },
  {
   "cell_type": "code",
   "execution_count": null,
   "metadata": {},
   "outputs": [],
   "source": [
    "# want_cols = ['ge_name'] +  substrate_cols_wo_homologues + product_cols_wo_homologues\n",
    "\n",
    "# for t, this_subdf in only_ge.groupby(\"substrate_label\"):\n",
    "    \n",
    "#     f = f\"{reaction_type}-{t}-GeneExpression-substrate_edges.tsv\" \n",
    "#     this_subdf[want_cols].to_csv(f\"../data/import/{f}\", sep=\"\\t\", index=None)\n",
    "    \n",
    "#     query = helpers.make_create_reaction_edge_query(f, 'SUBSTRATE', \n",
    "#                                                     \"substrate\", \"dne\",\n",
    "#                                                     target_name=\"line.ge_name\",\n",
    "#                                                     source_label=t, \n",
    "#                                                     target_label=\"GeneExpression\", \n",
    "#                                                    )\n",
    "\n",
    "#     qr = graph.run(query)\n",
    "#     pretty_print_result(t, this_subdf, qr, 'relationships')"
   ]
  },
  {
   "cell_type": "code",
   "execution_count": null,
   "metadata": {},
   "outputs": [],
   "source": [
    "# want_cols = ['ge_name'] +  substrate_cols_wo_homologues + product_cols_wo_homologues\n",
    "\n",
    "# for t, this_subdf in only_ge.groupby(\"substrate_label\"):\n",
    "    \n",
    "#     f = f\"{reaction_type}-{t}-GeneExpression-product_edges.tsv\" \n",
    "#     this_subdf[want_cols].to_csv(f\"../data/import/{f}\", sep=\"\\t\", index=None)\n",
    "    \n",
    "#     query = helpers.make_create_reaction_edge_query(f, 'PRODUCT', \n",
    "#                                                     \"dne\", \"product\",\n",
    "#                                                     source_name=\"line.ge_name\",\n",
    "#                                                     target_name=\"line.substrate_name\",\n",
    "#                                                     target_label=t, \n",
    "#                                                     source_label=\"GeneExpression\", \n",
    "#                                                    )\n",
    "\n",
    "#     qr = graph.run(query)\n",
    "#     pretty_print_result(t, this_subdf, qr, 'relationships')"
   ]
  },
  {
   "cell_type": "markdown",
   "metadata": {},
   "source": [
    "### transcriptional / translational induction"
   ]
  },
  {
   "cell_type": "code",
   "execution_count": null,
   "metadata": {
    "scrolled": false
   },
   "outputs": [],
   "source": [
    "Image(filename='./reaction_types/activation/transcriptional_translational_induction.png')"
   ]
  },
  {
   "cell_type": "code",
   "execution_count": null,
   "metadata": {},
   "outputs": [],
   "source": [
    "key = 'transcription/translation induction'\n",
    "reaction_type = 'TRANSCRIPTIONAL_TRANSLATIONAL_INDUCTION'\n",
    "subdf = df_edges[df_edges['reaction_type'] == key]\n",
    "print(reaction_type, subdf.shape[0])"
   ]
  },
  {
   "cell_type": "code",
   "execution_count": null,
   "metadata": {},
   "outputs": [],
   "source": [
    "new_subdf = number_input_different_reverse(subdf, homologues=True)"
   ]
  },
  {
   "cell_type": "code",
   "execution_count": null,
   "metadata": {
    "scrolled": true
   },
   "outputs": [],
   "source": [
    "exploded_new_subdf = helpers.unnesting(new_subdf, catalyst_cols)"
   ]
  },
  {
   "cell_type": "code",
   "execution_count": null,
   "metadata": {},
   "outputs": [],
   "source": [
    "exploded_new_subdf['ge_name'] = exploded_new_subdf['substrate_name'] + \"-expression\""
   ]
  },
  {
   "cell_type": "code",
   "execution_count": null,
   "metadata": {},
   "outputs": [],
   "source": [
    "# catalyst to gene-expression\n",
    "\n",
    "want_cols = reaction_standard_columns + substrate_cols + catalyst_cols + [\"ge_name\"]\n",
    "\n",
    "for t, this_subdf in exploded_new_subdf.groupby(\"catalyst_label\"):\n",
    "    f = f\"{reaction_type}-{t}-catalyst_edges.tsv\"\n",
    "    this_subdf[want_cols].to_csv(f\"../data/import/{f}\", index=None, sep=\"\\t\")\n",
    "    \n",
    "    query = helpers.make_create_reaction_edge_query(f, 'ACTIVATES', \n",
    "                                                    \"catalyst\", \"substrate\",\n",
    "                                                    target_name=\"line.ge_name\",\n",
    "                                                    source_label=t,\n",
    "                                                    target_label=\"GeneExpression\", \n",
    "                                                    \n",
    "                                                   )\n",
    "    qr = graph.run(query)\n",
    "    pretty_print_result(t, this_subdf, qr, 'relationships')"
   ]
  },
  {
   "cell_type": "markdown",
   "metadata": {},
   "source": [
    "## transcription/translation repression"
   ]
  },
  {
   "cell_type": "code",
   "execution_count": null,
   "metadata": {
    "scrolled": false
   },
   "outputs": [],
   "source": [
    "Image(filename='./reaction_types/inhibition/transcriptional_translational_repression.png')"
   ]
  },
  {
   "cell_type": "code",
   "execution_count": null,
   "metadata": {},
   "outputs": [],
   "source": [
    "key = 'transcription/translation repression'\n",
    "reaction_type = 'TRANSCRIPTIONAL_TRANSLATIONAL_REPRESSION'\n",
    "subdf = df_edges[df_edges['reaction_type'] == key]\n",
    "print(reaction_type, subdf.shape[0])"
   ]
  },
  {
   "cell_type": "code",
   "execution_count": null,
   "metadata": {},
   "outputs": [],
   "source": [
    "new_subdf = number_input_different_reverse(subdf, homologues=True)"
   ]
  },
  {
   "cell_type": "code",
   "execution_count": null,
   "metadata": {},
   "outputs": [],
   "source": [
    "exploded_new_subdf = helpers.unnesting(new_subdf, catalyst_cols)"
   ]
  },
  {
   "cell_type": "code",
   "execution_count": null,
   "metadata": {},
   "outputs": [],
   "source": [
    "exploded_new_subdf['ge_name'] = exploded_new_subdf['substrate_name'] + \"-expression\""
   ]
  },
  {
   "cell_type": "code",
   "execution_count": null,
   "metadata": {},
   "outputs": [],
   "source": [
    "# catalyst to gene-expression\n",
    "\n",
    "want_cols = reaction_standard_columns + substrate_cols + catalyst_cols + [\"ge_name\"]\n",
    "\n",
    "for t, this_subdf in exploded_new_subdf.groupby(\"catalyst_label\"):\n",
    "    f = f\"{reaction_type}-{t}-catalyst_edges.tsv\"\n",
    "    this_subdf[want_cols].to_csv(f\"../data/import/{f}\", index=None, sep=\"\\t\")\n",
    "    \n",
    "    query = helpers.make_create_reaction_edge_query(f, 'INHIBTS', \n",
    "                                                    \"catalyst\", \"substrate\",\n",
    "                                                    target_name=\"line.ge_name\",\n",
    "                                                    source_label=t,\n",
    "                                                    target_label=\"GeneExpression\", \n",
    "                                                    \n",
    "                                                   )\n",
    "    qr = graph.run(query)\n",
    "    pretty_print_result(t, this_subdf, qr, 'relationships')"
   ]
  },
  {
   "cell_type": "markdown",
   "metadata": {},
   "source": [
    "# END "
   ]
  },
  {
   "cell_type": "code",
   "execution_count": null,
   "metadata": {},
   "outputs": [],
   "source": []
  }
 ],
 "metadata": {
  "kernelspec": {
   "display_name": "Python 3",
   "language": "python",
   "name": "python3"
  },
  "language_info": {
   "codemirror_mode": {
    "name": "ipython",
    "version": 3
   },
   "file_extension": ".py",
   "mimetype": "text/x-python",
   "name": "python",
   "nbconvert_exporter": "python",
   "pygments_lexer": "ipython3",
   "version": "3.7.3"
  }
 },
 "nbformat": 4,
 "nbformat_minor": 2
}
