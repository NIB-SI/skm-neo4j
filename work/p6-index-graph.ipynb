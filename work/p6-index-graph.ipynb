{
 "cells": [
  {
   "cell_type": "code",
   "execution_count": 1,
   "metadata": {},
   "outputs": [],
   "source": [
    "#%pip install monotonic openpyxl"
   ]
  },
  {
   "cell_type": "code",
   "execution_count": 2,
   "metadata": {},
   "outputs": [],
   "source": [
    "version = \"v0.0.5\""
   ]
  },
  {
   "cell_type": "code",
   "execution_count": 3,
   "metadata": {},
   "outputs": [
    {
     "data": {
      "text/html": [
       "<style>.container { width:80% !important; }</style>"
      ],
      "text/plain": [
       "<IPython.core.display.HTML object>"
      ]
     },
     "metadata": {},
     "output_type": "display_data"
    }
   ],
   "source": [
    "from IPython.core.display import display, HTML\n",
    "display(HTML(\"<style>.container { width:80% !important; }</style>\"))"
   ]
  },
  {
   "cell_type": "markdown",
   "metadata": {},
   "source": [
    "# Import neo4j DB: 6/6\n",
    "\n",
    "Code to translate v2.7.4_PIS-model.xlsx to neo4j database. "
   ]
  },
  {
   "cell_type": "markdown",
   "metadata": {},
   "source": [
    "## Setup"
   ]
  },
  {
   "cell_type": "code",
   "execution_count": 4,
   "metadata": {},
   "outputs": [],
   "source": [
    "from collections import defaultdict"
   ]
  },
  {
   "cell_type": "code",
   "execution_count": 5,
   "metadata": {},
   "outputs": [],
   "source": [
    "import pandas as pd\n",
    "import re\n",
    "import numpy as np\n",
    "import os"
   ]
  },
  {
   "cell_type": "code",
   "execution_count": 6,
   "metadata": {},
   "outputs": [],
   "source": [
    "from py2neo import Graph, Node, Relationship"
   ]
  },
  {
   "cell_type": "code",
   "execution_count": 7,
   "metadata": {},
   "outputs": [],
   "source": [
    "import helpers"
   ]
  },
  {
   "cell_type": "code",
   "execution_count": 8,
   "metadata": {},
   "outputs": [],
   "source": [
    "from importlib import reload"
   ]
  },
  {
   "cell_type": "markdown",
   "metadata": {},
   "source": [
    "Connect to graph via docker-compose link. See http://localhost:7474/browser/"
   ]
  },
  {
   "cell_type": "code",
   "execution_count": 9,
   "metadata": {},
   "outputs": [],
   "source": [
    "graph = Graph(host=\"neo4j\")"
   ]
  },
  {
   "cell_type": "code",
   "execution_count": 10,
   "metadata": {},
   "outputs": [],
   "source": [
    "from pathlib import Path\n",
    "\n",
    "base_path = Path(\"..\")\n",
    "parsed_path = base_path / \"data\" / \"parsed\""
   ]
  },
  {
   "cell_type": "markdown",
   "metadata": {},
   "source": [
    "## Add string lists for full text search"
   ]
  },
  {
   "cell_type": "code",
   "execution_count": 11,
   "metadata": {},
   "outputs": [
    {
     "name": "stdout",
     "output_type": "stream",
     "text": [
      "\n",
      "MATCH (m)\n",
      "WHERE EXISTS(m.external_links)\n",
      "SET m._external_links = trim(reduce(s='', el IN m.external_links | s + el + ' '))\n",
      "\n"
     ]
    },
    {
     "data": {
      "text/plain": [
       "(No data)"
      ]
     },
     "execution_count": 11,
     "metadata": {},
     "output_type": "execute_result"
    }
   ],
   "source": [
    "# str external links\n",
    "\n",
    "cy = f'''\n",
    "MATCH (m)\n",
    "WHERE EXISTS(m.external_links)\n",
    "SET m._external_links = trim(reduce(s='', el IN m.external_links | s + el + ' '))\n",
    "'''\n",
    "print(cy)\n",
    "graph.run(cy)"
   ]
  },
  {
   "cell_type": "code",
   "execution_count": 12,
   "metadata": {},
   "outputs": [
    {
     "name": "stdout",
     "output_type": "stream",
     "text": [
      "\n",
      "MATCH (m:Family)\n",
      "WITH m, COALESCE(trim(reduce(s='', el IN m.ath_homologues | s + el + ' ')), '') AS ath,  \n",
      "        COALESCE(trim(reduce(s='', el IN m.osa_homologues | s + el + ' ')), '') AS osa, \n",
      "        COALESCE(trim(reduce(s='', el IN m.sly_homologues | s + el + ' ')), '') AS sly, \n",
      "        COALESCE(trim(reduce(s='', el IN m.stu_homologues | s + el + ' ')), '') AS stu\n",
      "SET m._identifiers = trim(reduce(s='', el IN [ath, osa, sly, stu] | s + el + ' '))\n",
      "\n"
     ]
    },
    {
     "data": {
      "text/plain": [
       "(No data)"
      ]
     },
     "execution_count": 12,
     "metadata": {},
     "output_type": "execute_result"
    }
   ],
   "source": [
    "# str identifiers\n",
    "cy = '''\n",
    "MATCH (m:Family)\n",
    "WITH m, COALESCE(trim(reduce(s='', el IN m.ath_homologues | s + el + ' ')), '') AS ath,  \n",
    "        COALESCE(trim(reduce(s='', el IN m.osa_homologues | s + el + ' ')), '') AS osa, \n",
    "        COALESCE(trim(reduce(s='', el IN m.sly_homologues | s + el + ' ')), '') AS sly, \n",
    "        COALESCE(trim(reduce(s='', el IN m.stu_homologues | s + el + ' ')), '') AS stu\n",
    "SET m._identifiers = trim(reduce(s='', el IN [ath, osa, sly, stu] | s + el + ' '))\n",
    "'''\n",
    "print(cy)\n",
    "graph.run(cy)"
   ]
  },
  {
   "cell_type": "code",
   "execution_count": 13,
   "metadata": {},
   "outputs": [
    {
     "name": "stdout",
     "output_type": "stream",
     "text": [
      "\n",
      "MATCH (m)\n",
      "WHERE EXISTS(m.synonyms)\n",
      "SET m._synonyms = trim(reduce(s='', el IN m.synonyms | s + el + ' '))\n",
      "\n"
     ]
    },
    {
     "data": {
      "text/plain": [
       "(No data)"
      ]
     },
     "execution_count": 13,
     "metadata": {},
     "output_type": "execute_result"
    }
   ],
   "source": [
    "cy = f'''\n",
    "MATCH (m)\n",
    "WHERE EXISTS(m.synonyms)\n",
    "SET m._synonyms = trim(reduce(s='', el IN m.synonyms | s + el + ' '))\n",
    "'''\n",
    "print(cy)\n",
    "graph.run(cy)"
   ]
  },
  {
   "cell_type": "markdown",
   "metadata": {},
   "source": [
    "## Indexes"
   ]
  },
  {
   "cell_type": "code",
   "execution_count": 14,
   "metadata": {},
   "outputs": [
    {
     "data": {
      "text/plain": [
       "(No data)"
      ]
     },
     "execution_count": 14,
     "metadata": {},
     "output_type": "execute_result"
    }
   ],
   "source": [
    "# metabolites\n",
    "\n",
    "\n",
    "cy = '''\n",
    "CREATE FULLTEXT INDEX  metabolite_names\n",
    "FOR (m:Metabolite)\n",
    "ON EACH [\n",
    "    m.name, \n",
    "    m._synonyms, \n",
    "    m.description, \n",
    "    m._external_links\n",
    "]\n",
    "'''\n",
    "graph.run(cy)"
   ]
  },
  {
   "cell_type": "code",
   "execution_count": 15,
   "metadata": {},
   "outputs": [
    {
     "data": {
      "text/plain": [
       "(No data)"
      ]
     },
     "execution_count": 15,
     "metadata": {},
     "output_type": "execute_result"
    }
   ],
   "source": [
    "# complexes \n",
    "\n",
    "cy = '''\n",
    "CREATE FULLTEXT INDEX complex_names \n",
    "FOR (m:Complex) \n",
    "ON EACH [\n",
    "     m.name, \n",
    "     m._synonyms, \n",
    "     m.description, \n",
    "     m._external_links\n",
    "] \n",
    "'''\n",
    "graph.run(cy)"
   ]
  },
  {
   "cell_type": "code",
   "execution_count": 16,
   "metadata": {},
   "outputs": [
    {
     "data": {
      "text/plain": [
       "(No data)"
      ]
     },
     "execution_count": 16,
     "metadata": {},
     "output_type": "execute_result"
    }
   ],
   "source": [
    "# foreign\n",
    "\n",
    "cy = '''\n",
    "CREATE FULLTEXT INDEX foreign_names \n",
    "FOR (m:Foreign) \n",
    "ON EACH [\n",
    "    m.name, \n",
    "    m._synonyms,\n",
    "    m._identifiers,\n",
    "    m.description, \n",
    "    m._external_links\n",
    "    ] \n",
    "'''\n",
    "\n",
    "graph.run(cy)"
   ]
  },
  {
   "cell_type": "code",
   "execution_count": 17,
   "metadata": {},
   "outputs": [
    {
     "data": {
      "text/plain": [
       "(No data)"
      ]
     },
     "execution_count": 17,
     "metadata": {},
     "output_type": "execute_result"
    }
   ],
   "source": [
    "# process\n",
    "\n",
    "cy = '''\n",
    "CREATE FULLTEXT INDEX process_names \n",
    "FOR (m:Process) \n",
    "ON EACH [\n",
    "    m.name, \n",
    "    m._synonyms, \n",
    "    m.description, \n",
    "    m._external_links\n",
    "    ] \n",
    "'''\n",
    "graph.run(cy)"
   ]
  },
  {
   "cell_type": "code",
   "execution_count": 18,
   "metadata": {},
   "outputs": [
    {
     "data": {
      "text/plain": [
       "(No data)"
      ]
     },
     "execution_count": 18,
     "metadata": {},
     "output_type": "execute_result"
    }
   ],
   "source": [
    "# identifiers\n",
    "\n",
    "cy = '''\n",
    "CREATE FULLTEXT INDEX identifiers \n",
    "FOR (m:Family) \n",
    "ON EACH [m._identifiers]\n",
    "'''\n",
    "graph.run(cy)"
   ]
  },
  {
   "cell_type": "code",
   "execution_count": 19,
   "metadata": {},
   "outputs": [
    {
     "data": {
      "text/plain": [
       "(No data)"
      ]
     },
     "execution_count": 19,
     "metadata": {},
     "output_type": "execute_result"
    }
   ],
   "source": [
    "# plant parts\n",
    "\n",
    "cy = '''\n",
    "CREATE FULLTEXT INDEX plant_names \n",
    "FOR (m:Plant) \n",
    "ON EACH [    \n",
    "    m.name, \n",
    "    m._synonyms, \n",
    "    m.description, \n",
    "    m._external_links,\n",
    "    m._identifiers\n",
    "    ]\n",
    "'''\n",
    "graph.run(cy)"
   ]
  },
  {
   "cell_type": "code",
   "execution_count": 20,
   "metadata": {},
   "outputs": [
    {
     "data": {
      "text/plain": [
       "(No data)"
      ]
     },
     "execution_count": 20,
     "metadata": {},
     "output_type": "execute_result"
    }
   ],
   "source": [
    "# everything \n",
    "cy = '''\n",
    "MATCH (n)\n",
    "SET n :Node\n",
    "'''\n",
    "graph.run(cy)\n",
    "\n",
    "cy = '''\n",
    "CREATE FULLTEXT INDEX general_text \n",
    "FOR (m:Node)\n",
    "ON EACH [    \n",
    "    m.name, \n",
    "    m._synonyms, \n",
    "    m.description, \n",
    "    m._external_links,\n",
    "    m._identifiers\n",
    "    ]\n",
    "'''\n",
    "graph.run(cy)"
   ]
  },
  {
   "cell_type": "markdown",
   "metadata": {},
   "source": [
    "## Data Science graph"
   ]
  },
  {
   "cell_type": "code",
   "execution_count": 21,
   "metadata": {},
   "outputs": [
    {
     "data": {
      "text/plain": [
       " graphName      | nodeCount | relationshipCount | createMillis \n",
       "----------------|-----------|-------------------|--------------\n",
       " reaction-graph |       805 |              1180 |         1292 "
      ]
     },
     "execution_count": 21,
     "metadata": {},
     "output_type": "execute_result"
    }
   ],
   "source": [
    "cy = '''\n",
    "CALL gds.graph.create.cypher(\n",
    "    'reaction-graph',\n",
    "    'MATCH (n) RETURN id(n) AS id',\n",
    "    'MATCH (a)-[r]->(b) WHERE EXISTS(r.reaction_type) RETURN id(a) AS source, id(b) AS target'\n",
    ")\n",
    "YIELD graphName, nodeCount, relationshipCount, createMillis;\n",
    "'''\n",
    "graph.run(cy)"
   ]
  },
  {
   "cell_type": "code",
   "execution_count": 22,
   "metadata": {},
   "outputs": [
    {
     "data": {
      "text/html": [
       "<div>\n",
       "<style scoped>\n",
       "    .dataframe tbody tr th:only-of-type {\n",
       "        vertical-align: middle;\n",
       "    }\n",
       "\n",
       "    .dataframe tbody tr th {\n",
       "        vertical-align: top;\n",
       "    }\n",
       "\n",
       "    .dataframe thead th {\n",
       "        text-align: right;\n",
       "    }\n",
       "</style>\n",
       "<table border=\"1\" class=\"dataframe\">\n",
       "  <thead>\n",
       "    <tr style=\"text-align: right;\">\n",
       "      <th></th>\n",
       "      <th>componentId</th>\n",
       "      <th>componentSize</th>\n",
       "    </tr>\n",
       "  </thead>\n",
       "  <tbody>\n",
       "    <tr>\n",
       "      <th>0</th>\n",
       "      <td>0</td>\n",
       "      <td>1</td>\n",
       "    </tr>\n",
       "    <tr>\n",
       "      <th>1</th>\n",
       "      <td>1</td>\n",
       "      <td>732</td>\n",
       "    </tr>\n",
       "    <tr>\n",
       "      <th>2</th>\n",
       "      <td>2</td>\n",
       "      <td>1</td>\n",
       "    </tr>\n",
       "    <tr>\n",
       "      <th>3</th>\n",
       "      <td>3</td>\n",
       "      <td>1</td>\n",
       "    </tr>\n",
       "    <tr>\n",
       "      <th>4</th>\n",
       "      <td>4</td>\n",
       "      <td>1</td>\n",
       "    </tr>\n",
       "    <tr>\n",
       "      <th>5</th>\n",
       "      <td>6</td>\n",
       "      <td>11</td>\n",
       "    </tr>\n",
       "    <tr>\n",
       "      <th>6</th>\n",
       "      <td>8</td>\n",
       "      <td>1</td>\n",
       "    </tr>\n",
       "    <tr>\n",
       "      <th>7</th>\n",
       "      <td>9</td>\n",
       "      <td>1</td>\n",
       "    </tr>\n",
       "    <tr>\n",
       "      <th>8</th>\n",
       "      <td>10</td>\n",
       "      <td>1</td>\n",
       "    </tr>\n",
       "    <tr>\n",
       "      <th>9</th>\n",
       "      <td>12</td>\n",
       "      <td>1</td>\n",
       "    </tr>\n",
       "    <tr>\n",
       "      <th>10</th>\n",
       "      <td>14</td>\n",
       "      <td>1</td>\n",
       "    </tr>\n",
       "    <tr>\n",
       "      <th>11</th>\n",
       "      <td>16</td>\n",
       "      <td>1</td>\n",
       "    </tr>\n",
       "    <tr>\n",
       "      <th>12</th>\n",
       "      <td>17</td>\n",
       "      <td>8</td>\n",
       "    </tr>\n",
       "    <tr>\n",
       "      <th>13</th>\n",
       "      <td>21</td>\n",
       "      <td>1</td>\n",
       "    </tr>\n",
       "    <tr>\n",
       "      <th>14</th>\n",
       "      <td>30</td>\n",
       "      <td>1</td>\n",
       "    </tr>\n",
       "    <tr>\n",
       "      <th>15</th>\n",
       "      <td>31</td>\n",
       "      <td>1</td>\n",
       "    </tr>\n",
       "    <tr>\n",
       "      <th>16</th>\n",
       "      <td>34</td>\n",
       "      <td>12</td>\n",
       "    </tr>\n",
       "    <tr>\n",
       "      <th>17</th>\n",
       "      <td>57</td>\n",
       "      <td>1</td>\n",
       "    </tr>\n",
       "    <tr>\n",
       "      <th>18</th>\n",
       "      <td>75</td>\n",
       "      <td>1</td>\n",
       "    </tr>\n",
       "    <tr>\n",
       "      <th>19</th>\n",
       "      <td>103</td>\n",
       "      <td>1</td>\n",
       "    </tr>\n",
       "    <tr>\n",
       "      <th>20</th>\n",
       "      <td>105</td>\n",
       "      <td>1</td>\n",
       "    </tr>\n",
       "    <tr>\n",
       "      <th>21</th>\n",
       "      <td>109</td>\n",
       "      <td>1</td>\n",
       "    </tr>\n",
       "    <tr>\n",
       "      <th>22</th>\n",
       "      <td>131</td>\n",
       "      <td>1</td>\n",
       "    </tr>\n",
       "    <tr>\n",
       "      <th>23</th>\n",
       "      <td>188</td>\n",
       "      <td>1</td>\n",
       "    </tr>\n",
       "    <tr>\n",
       "      <th>24</th>\n",
       "      <td>198</td>\n",
       "      <td>1</td>\n",
       "    </tr>\n",
       "    <tr>\n",
       "      <th>25</th>\n",
       "      <td>202</td>\n",
       "      <td>1</td>\n",
       "    </tr>\n",
       "    <tr>\n",
       "      <th>26</th>\n",
       "      <td>204</td>\n",
       "      <td>1</td>\n",
       "    </tr>\n",
       "    <tr>\n",
       "      <th>27</th>\n",
       "      <td>205</td>\n",
       "      <td>1</td>\n",
       "    </tr>\n",
       "    <tr>\n",
       "      <th>28</th>\n",
       "      <td>210</td>\n",
       "      <td>1</td>\n",
       "    </tr>\n",
       "    <tr>\n",
       "      <th>29</th>\n",
       "      <td>213</td>\n",
       "      <td>1</td>\n",
       "    </tr>\n",
       "    <tr>\n",
       "      <th>30</th>\n",
       "      <td>216</td>\n",
       "      <td>1</td>\n",
       "    </tr>\n",
       "    <tr>\n",
       "      <th>31</th>\n",
       "      <td>246</td>\n",
       "      <td>1</td>\n",
       "    </tr>\n",
       "    <tr>\n",
       "      <th>32</th>\n",
       "      <td>249</td>\n",
       "      <td>1</td>\n",
       "    </tr>\n",
       "    <tr>\n",
       "      <th>33</th>\n",
       "      <td>250</td>\n",
       "      <td>1</td>\n",
       "    </tr>\n",
       "    <tr>\n",
       "      <th>34</th>\n",
       "      <td>251</td>\n",
       "      <td>1</td>\n",
       "    </tr>\n",
       "    <tr>\n",
       "      <th>35</th>\n",
       "      <td>255</td>\n",
       "      <td>4</td>\n",
       "    </tr>\n",
       "    <tr>\n",
       "      <th>36</th>\n",
       "      <td>269</td>\n",
       "      <td>1</td>\n",
       "    </tr>\n",
       "    <tr>\n",
       "      <th>37</th>\n",
       "      <td>283</td>\n",
       "      <td>1</td>\n",
       "    </tr>\n",
       "    <tr>\n",
       "      <th>38</th>\n",
       "      <td>284</td>\n",
       "      <td>1</td>\n",
       "    </tr>\n",
       "    <tr>\n",
       "      <th>39</th>\n",
       "      <td>301</td>\n",
       "      <td>1</td>\n",
       "    </tr>\n",
       "    <tr>\n",
       "      <th>40</th>\n",
       "      <td>304</td>\n",
       "      <td>1</td>\n",
       "    </tr>\n",
       "    <tr>\n",
       "      <th>41</th>\n",
       "      <td>307</td>\n",
       "      <td>1</td>\n",
       "    </tr>\n",
       "    <tr>\n",
       "      <th>42</th>\n",
       "      <td>310</td>\n",
       "      <td>1</td>\n",
       "    </tr>\n",
       "  </tbody>\n",
       "</table>\n",
       "</div>"
      ],
      "text/plain": [
       "    componentId  componentSize\n",
       "0             0              1\n",
       "1             1            732\n",
       "2             2              1\n",
       "3             3              1\n",
       "4             4              1\n",
       "5             6             11\n",
       "6             8              1\n",
       "7             9              1\n",
       "8            10              1\n",
       "9            12              1\n",
       "10           14              1\n",
       "11           16              1\n",
       "12           17              8\n",
       "13           21              1\n",
       "14           30              1\n",
       "15           31              1\n",
       "16           34             12\n",
       "17           57              1\n",
       "18           75              1\n",
       "19          103              1\n",
       "20          105              1\n",
       "21          109              1\n",
       "22          131              1\n",
       "23          188              1\n",
       "24          198              1\n",
       "25          202              1\n",
       "26          204              1\n",
       "27          205              1\n",
       "28          210              1\n",
       "29          213              1\n",
       "30          216              1\n",
       "31          246              1\n",
       "32          249              1\n",
       "33          250              1\n",
       "34          251              1\n",
       "35          255              4\n",
       "36          269              1\n",
       "37          283              1\n",
       "38          284              1\n",
       "39          301              1\n",
       "40          304              1\n",
       "41          307              1\n",
       "42          310              1"
      ]
     },
     "execution_count": 22,
     "metadata": {},
     "output_type": "execute_result"
    }
   ],
   "source": [
    "# check connected components\n",
    "\n",
    "cy = '''\n",
    "CALL gds.wcc.stream('reaction-graph')\n",
    "YIELD nodeId, componentId\n",
    "WITH componentId, count(*) AS componentSize\n",
    "RETURN componentId, componentSize ORDER BY componentId\n",
    "'''\n",
    "data = graph.run(cy).data()\n",
    "cc_sizes = pd.DataFrame(data)\n",
    "cc_sizes"
   ]
  },
  {
   "cell_type": "code",
   "execution_count": 23,
   "metadata": {},
   "outputs": [
    {
     "data": {
      "text/html": [
       "<div>\n",
       "<style scoped>\n",
       "    .dataframe tbody tr th:only-of-type {\n",
       "        vertical-align: middle;\n",
       "    }\n",
       "\n",
       "    .dataframe tbody tr th {\n",
       "        vertical-align: top;\n",
       "    }\n",
       "\n",
       "    .dataframe thead th {\n",
       "        text-align: right;\n",
       "    }\n",
       "</style>\n",
       "<table border=\"1\" class=\"dataframe\">\n",
       "  <thead>\n",
       "    <tr style=\"text-align: right;\">\n",
       "      <th></th>\n",
       "      <th>name</th>\n",
       "      <th>componentId</th>\n",
       "    </tr>\n",
       "  </thead>\n",
       "  <tbody>\n",
       "    <tr>\n",
       "      <th>0</th>\n",
       "      <td>elf18</td>\n",
       "      <td>0</td>\n",
       "    </tr>\n",
       "    <tr>\n",
       "      <th>1</th>\n",
       "      <td>&amp;alpha;/&amp;beta; hydroxylase</td>\n",
       "      <td>1</td>\n",
       "    </tr>\n",
       "    <tr>\n",
       "      <th>2</th>\n",
       "      <td>12,13-EOT</td>\n",
       "      <td>1</td>\n",
       "    </tr>\n",
       "    <tr>\n",
       "      <th>3</th>\n",
       "      <td>12-OH-JA-Ile</td>\n",
       "      <td>1</td>\n",
       "    </tr>\n",
       "    <tr>\n",
       "      <th>4</th>\n",
       "      <td>13-HPOT</td>\n",
       "      <td>1</td>\n",
       "    </tr>\n",
       "    <tr>\n",
       "      <th>...</th>\n",
       "      <td>...</td>\n",
       "      <td>...</td>\n",
       "    </tr>\n",
       "    <tr>\n",
       "      <th>800</th>\n",
       "      <td>RPL7</td>\n",
       "      <td>284</td>\n",
       "    </tr>\n",
       "    <tr>\n",
       "      <th>801</th>\n",
       "      <td>UGT76</td>\n",
       "      <td>301</td>\n",
       "    </tr>\n",
       "    <tr>\n",
       "      <th>802</th>\n",
       "      <td>VDAC1</td>\n",
       "      <td>304</td>\n",
       "    </tr>\n",
       "    <tr>\n",
       "      <th>803</th>\n",
       "      <td>WD40</td>\n",
       "      <td>307</td>\n",
       "    </tr>\n",
       "    <tr>\n",
       "      <th>804</th>\n",
       "      <td>bHLH</td>\n",
       "      <td>310</td>\n",
       "    </tr>\n",
       "  </tbody>\n",
       "</table>\n",
       "<p>805 rows × 2 columns</p>\n",
       "</div>"
      ],
      "text/plain": [
       "                           name  componentId\n",
       "0                         elf18            0\n",
       "1    &alpha;/&beta; hydroxylase            1\n",
       "2                     12,13-EOT            1\n",
       "3                  12-OH-JA-Ile            1\n",
       "4                       13-HPOT            1\n",
       "..                          ...          ...\n",
       "800                        RPL7          284\n",
       "801                       UGT76          301\n",
       "802                       VDAC1          304\n",
       "803                        WD40          307\n",
       "804                        bHLH          310\n",
       "\n",
       "[805 rows x 2 columns]"
      ]
     },
     "execution_count": 23,
     "metadata": {},
     "output_type": "execute_result"
    }
   ],
   "source": [
    "cy = '''\n",
    "CALL gds.wcc.stream('reaction-graph')\n",
    "YIELD nodeId, componentId\n",
    "RETURN gds.util.asNode(nodeId).name AS name, componentId\n",
    "ORDER BY componentId, name\n",
    "'''\n",
    "data = graph.run(cy).data()\n",
    "cc_nodes = pd.DataFrame(data)\n",
    "cc_nodes"
   ]
  },
  {
   "cell_type": "code",
   "execution_count": 24,
   "metadata": {},
   "outputs": [
    {
     "name": "stdout",
     "output_type": "stream",
     "text": [
      "0\t1\telf18\n",
      "2\t1\tch\n",
      "3\t1\t6K1\n",
      "4\t1\t6K2\n",
      "6\t11\tCP, CP|CPIP1,2b, CP|CPIP2a, HSP, HSP90|RAR1|SGT1, RAR1, SGT1, rx00053, rx00201, rx00202, rx00203\n",
      "8\t1\tNIa-Pro\n",
      "9\t1\tNIb\n",
      "10\t1\tP1\n",
      "12\t1\tP3N-PIPO\n",
      "14\t1\toomycete\n",
      "16\t1\ttrichous-bacteria\n",
      "17\t8\tARF, AUX-signalling, MIR390, TAS3, rx00111, rx00112, rx00113, rx00121\n",
      "21\t1\tROS-production\n",
      "30\t1\tX2\n",
      "31\t1\tX3\n",
      "34\t12\t&beta;-carotene isomerase, 9-cis-&beta;-carotene, 9-cis-10&prime;-apo-&beta;-carotenal, CCD, CL, CLA, CYP, all-trans-&beta;-carotene, rx00314, rx00315, rx00316, rx00317\n",
      "57\t1\tBR1\n",
      "75\t1\tCYP71B\n",
      "103\t1\tHLS\n",
      "105\t1\tHMGR\n",
      "109\t1\tIEGT\n",
      "131\t1\tMKK\n",
      "188\t1\tNADPH\n",
      "198\t1\tH2O\n",
      "202\t1\tHO2.\n",
      "204\t1\tO3\n",
      "205\t1\tOH.\n",
      "210\t1\tSL\n",
      "213\t1\tUDP glucose\n",
      "216\t1\tanthocyanin\n",
      "246\t1\ttZRP\n",
      "249\t1\tDAMP/HAMP\n",
      "250\t1\tPostROS\n",
      "251\t1\tPreROS\n",
      "255\t4\tNDR, NDR1|RIN4, RIN4, rx00055\n",
      "269\t1\tPPL\n",
      "283\t1\tRPL17\n",
      "284\t1\tRPL7\n",
      "301\t1\tUGT76\n",
      "304\t1\tVDAC1\n",
      "307\t1\tWD40\n",
      "310\t1\tbHLH\n"
     ]
    }
   ],
   "source": [
    "for componentID, subdf in cc_nodes.groupby('componentId'):\n",
    "    if subdf.shape[0] < cc_sizes['componentSize'].max():\n",
    "        print(f'{componentID}\\t{subdf.shape[0]}\\t{\", \".join(list(subdf[\"name\"].values))}')"
   ]
  },
  {
   "cell_type": "markdown",
   "metadata": {},
   "source": [
    "# END "
   ]
  },
  {
   "cell_type": "code",
   "execution_count": null,
   "metadata": {},
   "outputs": [],
   "source": []
  }
 ],
 "metadata": {
  "kernelspec": {
   "display_name": "Python 3",
   "language": "python",
   "name": "python3"
  },
  "language_info": {
   "codemirror_mode": {
    "name": "ipython",
    "version": 3
   },
   "file_extension": ".py",
   "mimetype": "text/x-python",
   "name": "python",
   "nbconvert_exporter": "python",
   "pygments_lexer": "ipython3",
   "version": "3.9.2"
  }
 },
 "nbformat": 4,
 "nbformat_minor": 2
}
