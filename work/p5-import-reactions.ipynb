{
 "cells": [
  {
   "cell_type": "code",
   "execution_count": 1,
   "metadata": {},
   "outputs": [],
   "source": [
    "version = \"v0.0.5\""
   ]
  },
  {
   "cell_type": "code",
   "execution_count": 2,
   "metadata": {},
   "outputs": [
    {
     "data": {
      "text/html": [
       "<style>.container { width:80% !important; }</style>"
      ],
      "text/plain": [
       "<IPython.core.display.HTML object>"
      ]
     },
     "metadata": {},
     "output_type": "display_data"
    }
   ],
   "source": [
    "from IPython.core.display import display, HTML\n",
    "display(HTML(\"<style>.container { width:80% !important; }</style>\"))"
   ]
  },
  {
   "cell_type": "markdown",
   "metadata": {},
   "source": [
    "# Import neo4j DB: 4/5\n",
    "\n",
    "Code to translate v2.7.4_PIS-model.xlsx to neo4j database. "
   ]
  },
  {
   "cell_type": "markdown",
   "metadata": {},
   "source": [
    "## Setup"
   ]
  },
  {
   "cell_type": "code",
   "execution_count": 3,
   "metadata": {},
   "outputs": [],
   "source": [
    "from collections import defaultdict"
   ]
  },
  {
   "cell_type": "code",
   "execution_count": 4,
   "metadata": {},
   "outputs": [],
   "source": [
    "import pandas as pd\n",
    "import re\n",
    "import numpy as np\n",
    "import os"
   ]
  },
  {
   "cell_type": "code",
   "execution_count": 5,
   "metadata": {},
   "outputs": [],
   "source": [
    "from py2neo import Graph, Node, Relationship"
   ]
  },
  {
   "cell_type": "code",
   "execution_count": 6,
   "metadata": {},
   "outputs": [],
   "source": [
    "import helpers"
   ]
  },
  {
   "cell_type": "code",
   "execution_count": 7,
   "metadata": {},
   "outputs": [],
   "source": [
    "from importlib import reload"
   ]
  },
  {
   "cell_type": "markdown",
   "metadata": {},
   "source": [
    "Connect to graph via docker-compose link. See http://localhost:7474/browser/"
   ]
  },
  {
   "cell_type": "code",
   "execution_count": 8,
   "metadata": {},
   "outputs": [],
   "source": [
    "graph = Graph(host=\"neo4j\")"
   ]
  },
  {
   "cell_type": "code",
   "execution_count": 9,
   "metadata": {},
   "outputs": [],
   "source": [
    "from pathlib import Path\n",
    "\n",
    "base_path = Path(\"..\")\n",
    "parsed_path = base_path / \"data\" / \"parsed\""
   ]
  },
  {
   "cell_type": "markdown",
   "metadata": {},
   "source": [
    "## Components summary"
   ]
  },
  {
   "cell_type": "code",
   "execution_count": 10,
   "metadata": {},
   "outputs": [],
   "source": [
    "q = '''MATCH (n) RETURN DISTINCT n.name AS name'''\n",
    "nodes = graph.run(q).data()\n",
    "all_nodes_in_components = set([(d[\"name\"]) for d in nodes])"
   ]
  },
  {
   "cell_type": "code",
   "execution_count": 11,
   "metadata": {},
   "outputs": [
    {
     "data": {
      "text/plain": [
       "{'&alpha;/&beta; hydroxylase',\n",
       " '&beta;-carotene isomerase',\n",
       " '12,13-EOT',\n",
       " '12-OH-JA-Ile',\n",
       " '13-HPOT',\n",
       " '4CLL',\n",
       " '6K1',\n",
       " '6K2',\n",
       " '9-cis-&beta;-carotene',\n",
       " '9-cis-10&prime;-apo-&beta;-carotenal',\n",
       " 'AAO',\n",
       " 'ACC',\n",
       " 'ACH',\n",
       " 'ACO',\n",
       " 'ACS',\n",
       " 'ACX',\n",
       " 'ACX2|CAT2',\n",
       " 'ACX3|CAT2',\n",
       " 'ADK',\n",
       " 'ADP',\n",
       " 'ADT',\n",
       " 'AGO',\n",
       " 'AGO1,5,7,10|CI',\n",
       " 'AGO1,5,7,10|HC-Pro',\n",
       " 'AHK',\n",
       " 'AHP',\n",
       " 'AMP',\n",
       " 'AOC',\n",
       " 'AOS',\n",
       " 'AOX',\n",
       " 'APT',\n",
       " 'APX',\n",
       " 'ARF',\n",
       " 'ARR',\n",
       " 'ASK',\n",
       " 'ATP',\n",
       " 'ATPB',\n",
       " 'ATPB|HC-Pro',\n",
       " 'AUX-signalling',\n",
       " 'Ade',\n",
       " 'Ado',\n",
       " 'Anthocyanin-accumulation',\n",
       " 'BA',\n",
       " 'BA2H',\n",
       " 'BAK1|FLS2|flg22',\n",
       " 'BG',\n",
       " 'BIK1',\n",
       " 'BIK1|Ca2+',\n",
       " 'BR1',\n",
       " 'CAM',\n",
       " 'CAMTA',\n",
       " 'CAM|Ca2+',\n",
       " 'CAT',\n",
       " 'CAT|LSD1',\n",
       " 'CBP60G',\n",
       " 'CCD',\n",
       " 'CDPK',\n",
       " 'CI',\n",
       " 'CI|PSAK',\n",
       " 'CKX',\n",
       " 'CL',\n",
       " 'CLA',\n",
       " 'CLH',\n",
       " 'CM',\n",
       " 'CML40|HC-Pro',\n",
       " 'CML42|Ca2+',\n",
       " 'CO',\n",
       " 'CO2-deficiency',\n",
       " 'COI1',\n",
       " 'COI1|JA-Ile|SCF',\n",
       " 'COI1|OMR1',\n",
       " 'COI1|RBCS-3B',\n",
       " 'CO|OBE1',\n",
       " 'CP',\n",
       " 'CPS',\n",
       " 'CP|CPIP1,2b',\n",
       " 'CP|CPIP2a',\n",
       " 'CRT',\n",
       " 'CRT1|ETR1',\n",
       " 'CRT1|HC-Pro',\n",
       " 'CRT2|HC-Pro',\n",
       " 'CRT3|HC-Pro',\n",
       " 'CRT|Ca2+',\n",
       " 'CTR',\n",
       " 'CTR|ETR',\n",
       " 'CTS',\n",
       " 'CUL',\n",
       " 'CYP',\n",
       " 'CYP71B',\n",
       " 'CYP735',\n",
       " 'CYP94',\n",
       " 'Ca2+',\n",
       " 'Chor',\n",
       " 'Class I Clp ATPase',\n",
       " 'Cu2+',\n",
       " 'D14|MAX2|SCF',\n",
       " 'DAMP/HAMP',\n",
       " 'DELLA',\n",
       " 'DELLA|GA1|GID1',\n",
       " 'DELLA|GA3|GID1',\n",
       " 'DELLA|GA4|GID1',\n",
       " 'DELLA|JAZ',\n",
       " 'DELLA|MYC2',\n",
       " 'DMAPP',\n",
       " 'DXPS',\n",
       " 'DXPS2|HC-Pro',\n",
       " 'DZ',\n",
       " 'DZ7G',\n",
       " 'DZ9G',\n",
       " 'DZOG',\n",
       " 'DZR',\n",
       " 'DZRMP',\n",
       " 'DZROG',\n",
       " 'EBF',\n",
       " 'EBF|SCF',\n",
       " 'EDF2|HC-Pro',\n",
       " 'EDS1',\n",
       " 'EDS1|MPK3|PAD4',\n",
       " 'EDS1|MPK6|PAD4',\n",
       " 'EDS1|NPR1|TGA2,5,6',\n",
       " 'EDS1|PAD4',\n",
       " 'EDS1|PAD4|SAG101',\n",
       " 'EDS5',\n",
       " 'EDS5|NPR1|TGA2,5,6',\n",
       " 'EIN2',\n",
       " 'EIN3(like)',\n",
       " 'EIN3(like)|JAZ',\n",
       " 'ERF',\n",
       " 'ERF/EDF',\n",
       " 'ESP/NSP',\n",
       " 'ESP|WRKY53',\n",
       " 'ET',\n",
       " 'ETP',\n",
       " 'ETP|SCF',\n",
       " 'ETR',\n",
       " 'ET|ETR',\n",
       " 'F-box/LRR-repeat',\n",
       " 'GA1',\n",
       " 'GA1-methylester',\n",
       " 'GA12',\n",
       " 'GA1|GID1',\n",
       " 'GA1|GID1|SLR1',\n",
       " 'GA20',\n",
       " 'GA20ox',\n",
       " 'GA2ox',\n",
       " 'GA3',\n",
       " 'GA3-methylester',\n",
       " 'GA34',\n",
       " 'GA3ox',\n",
       " 'GA3|GID1',\n",
       " 'GA3|GID1|SLR1',\n",
       " 'GA4',\n",
       " 'GA4-methylester',\n",
       " 'GA4|GID1',\n",
       " 'GA4|GID1|SLR1',\n",
       " 'GA8',\n",
       " 'GA9',\n",
       " 'GAMT',\n",
       " 'GID',\n",
       " 'GID2|SCF',\n",
       " 'GPAphid2|RANGAP',\n",
       " 'GPX',\n",
       " 'GRAS',\n",
       " 'GRX',\n",
       " 'GSNO',\n",
       " 'GST',\n",
       " 'GSTU24|ROS',\n",
       " 'GST|SA',\n",
       " 'Geranylgeranyl-PP',\n",
       " 'Glu',\n",
       " 'H2O',\n",
       " 'H2O2',\n",
       " 'HC-Pro',\n",
       " 'HC-Pro|MIND1',\n",
       " 'HC-Pro|PAA2',\n",
       " 'HC-Pro|PBB2',\n",
       " 'HC-Pro|PBE1',\n",
       " 'HC-Pro|RNA-silencing',\n",
       " 'HC-Pro|SAHH',\n",
       " 'HC-Pro|SAM3',\n",
       " 'HC-Pro|TDX',\n",
       " 'HC-Pro|ribosome',\n",
       " 'HECT',\n",
       " 'HLS',\n",
       " 'HMA',\n",
       " 'HMBDP',\n",
       " 'HMGR',\n",
       " 'HO2.',\n",
       " 'HSP',\n",
       " 'HSP90|RAR1|SGT1',\n",
       " 'IAA29',\n",
       " 'IAA29|WRKY57',\n",
       " 'ICS',\n",
       " 'IEGT',\n",
       " 'IPL',\n",
       " 'IPT',\n",
       " 'ISPH',\n",
       " 'Ile',\n",
       " 'IsoChor',\n",
       " 'JA',\n",
       " 'JA-CoA',\n",
       " 'JA-Ile',\n",
       " 'JAL',\n",
       " 'JAM',\n",
       " 'JAR',\n",
       " 'JAZ',\n",
       " 'JAZ3|RBCS-2B',\n",
       " 'JAZ4|WRKY57',\n",
       " 'JAZ8|WRKY57',\n",
       " 'JAZ|MYC',\n",
       " 'JMT',\n",
       " 'KAO',\n",
       " 'KAT',\n",
       " 'KO',\n",
       " 'KS',\n",
       " 'L-Met',\n",
       " 'LOG',\n",
       " 'LOX',\n",
       " 'LRR-BAK1',\n",
       " 'LRR-FLS2',\n",
       " 'LSD1',\n",
       " 'MAPK',\n",
       " 'MAPKKK',\n",
       " 'MES',\n",
       " 'MFP',\n",
       " 'MIND1',\n",
       " 'MIR390',\n",
       " 'MKK',\n",
       " 'MKS1',\n",
       " 'MKS1|WRKY33',\n",
       " 'MOS',\n",
       " 'MYB',\n",
       " 'MYC',\n",
       " 'MeJA',\n",
       " 'MeSA',\n",
       " 'NAC',\n",
       " 'NADPH',\n",
       " 'NADPH-dehydrogenase',\n",
       " 'NADPH-oxidase',\n",
       " 'NDR',\n",
       " 'NDR1|RIN4',\n",
       " 'NIMIN',\n",
       " 'NIMIN|NPR1',\n",
       " 'NIa-Pro',\n",
       " 'NIb',\n",
       " 'NPH3',\n",
       " 'NPR',\n",
       " 'NPR1|NPR1',\n",
       " 'NPR1|PAD4|TGA2,5,6',\n",
       " 'NPR1|TGA2,5,6',\n",
       " 'O2',\n",
       " 'O2.-',\n",
       " 'O3',\n",
       " 'OBE',\n",
       " 'OBE1|VPg',\n",
       " 'OBE1|WRKY11',\n",
       " 'OBE1|WRKY17',\n",
       " 'OG',\n",
       " 'OH.',\n",
       " 'OMR',\n",
       " 'OPC4-CoA',\n",
       " 'OPC6-CoA',\n",
       " 'OPC8',\n",
       " 'OPC8-CoA',\n",
       " 'OPDA',\n",
       " 'OPR',\n",
       " 'OrthoCA',\n",
       " 'P1',\n",
       " 'P3',\n",
       " 'P3N-PIPO',\n",
       " 'P3|RBCL',\n",
       " 'P3|RBCS-1A',\n",
       " 'P3|RBCS-1B',\n",
       " 'P3|RBCS-2B',\n",
       " 'P3|RBCS-3B',\n",
       " 'PA',\n",
       " 'PAA',\n",
       " 'PAD4',\n",
       " 'PAL',\n",
       " 'PBB',\n",
       " 'PBE',\n",
       " 'PDF1',\n",
       " 'PPL',\n",
       " 'PR1',\n",
       " 'PR13',\n",
       " 'PR3',\n",
       " 'PR4',\n",
       " 'PR5',\n",
       " 'PSAK',\n",
       " 'PUFA:LA',\n",
       " 'PheAla',\n",
       " 'PhePyr',\n",
       " 'PostROS',\n",
       " 'PreROS',\n",
       " 'Prep',\n",
       " 'R-gene',\n",
       " 'R-gene|potyvirus',\n",
       " 'RANGAP',\n",
       " 'RANGAP|Rx1',\n",
       " 'RANGAP|Rx2',\n",
       " 'RAR1',\n",
       " 'RBCL',\n",
       " 'RBCS',\n",
       " 'RBX',\n",
       " 'RH',\n",
       " 'RH8|VPg',\n",
       " 'RIN4',\n",
       " 'RNA-silencing',\n",
       " 'RNA-silencing|potyvirus',\n",
       " 'ROS',\n",
       " 'ROS-production',\n",
       " 'RPL17',\n",
       " 'RPL7',\n",
       " 'RTE1',\n",
       " 'RTM1|RTM2|RTM3',\n",
       " 'SA',\n",
       " 'SAG',\n",
       " 'SAG101',\n",
       " 'SAG12',\n",
       " 'SAGT',\n",
       " 'SAHH',\n",
       " 'SAM',\n",
       " 'SAMC',\n",
       " 'SAMe',\n",
       " 'SCF',\n",
       " 'SCF|SLY1',\n",
       " 'SCL14|TGA2,5,6',\n",
       " 'SEN4',\n",
       " 'SGE',\n",
       " 'SGT1',\n",
       " 'SL',\n",
       " 'SLY',\n",
       " 'SLs',\n",
       " 'SOD',\n",
       " 'TAS3',\n",
       " 'TDX',\n",
       " 'TGA',\n",
       " 'TRAF',\n",
       " 'TRX-H',\n",
       " 'Thr',\n",
       " 'TransCA',\n",
       " 'Trichome-initiation',\n",
       " 'UDP glucose',\n",
       " 'UGT73',\n",
       " 'UGT76',\n",
       " 'UGT77',\n",
       " 'UGT85',\n",
       " 'VDAC1',\n",
       " 'VPg',\n",
       " 'VSP',\n",
       " 'WAK',\n",
       " 'WD/bHLH/MYB',\n",
       " 'WD40',\n",
       " 'WRKY',\n",
       " 'WRKY30|WRKY53',\n",
       " 'X1',\n",
       " 'X2',\n",
       " 'X3',\n",
       " 'X4',\n",
       " 'XRN',\n",
       " 'all-trans-&beta;-carotene',\n",
       " 'alpha-linolenic-acid',\n",
       " 'anthocyanin',\n",
       " 'bHLH',\n",
       " 'cZ',\n",
       " 'cZ7G',\n",
       " 'cZ9G',\n",
       " 'cZOG',\n",
       " 'cZR',\n",
       " 'cZRMP',\n",
       " 'cZROG',\n",
       " 'ch',\n",
       " 'cis-prenyl-tRNA',\n",
       " 'e-',\n",
       " 'elf18',\n",
       " 'ent-Copalyl-PP',\n",
       " 'ent-Kaurene',\n",
       " 'ent-Kaurenoic acid',\n",
       " 'flg22',\n",
       " 'iP',\n",
       " 'iP7G',\n",
       " 'iP9G',\n",
       " 'iPOG',\n",
       " 'iPR',\n",
       " 'iPRDP',\n",
       " 'iPRMP',\n",
       " 'iPROG',\n",
       " 'iPRTP',\n",
       " 'miR159',\n",
       " 'miR167',\n",
       " 'miR319',\n",
       " 'miR6022',\n",
       " 'oomycete',\n",
       " 'phasiRNA931',\n",
       " 'potyvirus',\n",
       " 'prenyl-tRNA',\n",
       " 'ribosome',\n",
       " 'tRNA',\n",
       " 'tZ',\n",
       " 'tZ7G',\n",
       " 'tZ9G',\n",
       " 'tZOG',\n",
       " 'tZR',\n",
       " 'tZRDP',\n",
       " 'tZRMP',\n",
       " 'tZROG',\n",
       " 'tZRP',\n",
       " 'tZRTP',\n",
       " 'trichous-bacteria',\n",
       " 'vsiRNA12986',\n",
       " 'vsiRNA34327'}"
      ]
     },
     "execution_count": 11,
     "metadata": {},
     "output_type": "execute_result"
    }
   ],
   "source": [
    "all_nodes_in_components"
   ]
  },
  {
   "cell_type": "code",
   "execution_count": 12,
   "metadata": {},
   "outputs": [
    {
     "data": {
      "text/plain": [
       "411"
      ]
     },
     "execution_count": 12,
     "metadata": {},
     "output_type": "execute_result"
    }
   ],
   "source": [
    "len(all_nodes_in_components)"
   ]
  },
  {
   "cell_type": "code",
   "execution_count": 13,
   "metadata": {},
   "outputs": [],
   "source": [
    "node_labels = helpers.node_labels"
   ]
  },
  {
   "cell_type": "code",
   "execution_count": 14,
   "metadata": {},
   "outputs": [
    {
     "name": "stdout",
     "output_type": "stream",
     "text": [
      "PlantCoding 162\n",
      "PlantNonCoding 9\n",
      "PlantAbstract 7\n",
      "ForeignEntity 3\n",
      "ForeignCoding 14\n",
      "ForeignNonCoding 0\n",
      "ForeignAbstract 0\n",
      "Complex 94\n",
      "Process 6\n",
      "MetaboliteFamily 6\n",
      "Metabolite 116\n",
      "Reaction 0\n"
     ]
    }
   ],
   "source": [
    "node_dict = {}\n",
    "for label in node_labels:\n",
    "    q = '''MATCH (n:%s) RETURN DISTINCT n.name'''%label\n",
    "    s = set([d['n.name'] for d in graph.run(q).data()])\n",
    "    print(label, len(s))\n",
    "    node_dict[label] = s\n"
   ]
  },
  {
   "cell_type": "code",
   "execution_count": 15,
   "metadata": {},
   "outputs": [],
   "source": [
    "all_species = ['ath', 'osa', 'stu', 'sly']"
   ]
  },
  {
   "cell_type": "markdown",
   "metadata": {},
   "source": [
    "### Reactions sheet"
   ]
  },
  {
   "cell_type": "code",
   "execution_count": 16,
   "metadata": {},
   "outputs": [],
   "source": [
    "df_edges = pd.read_csv(parsed_path / \"edges-sheet.tsv\", sep=\"\\t\", index_col=0)"
   ]
  },
  {
   "cell_type": "code",
   "execution_count": 17,
   "metadata": {},
   "outputs": [],
   "source": [
    "homolgue_cols_old = ['input1_ath_homologues', 'input1_osa_homologues', 'input1_sly_homologues', 'input1_stu_homologues', \n",
    "          'input2_ath_homologues', 'input2_osa_homologues', 'input2_sly_homologues', 'input2_stu_homologues', \n",
    "          'input3_ath_homologues', 'input3_osa_homologues', 'input3_sly_homologues', 'input3_stu_homologues', \n",
    "          'output1_ath_homologues', 'output1_osa_homologues', 'output1_sly_homologues', 'output1_stu_homologues']\n",
    "for col in homolgue_cols_old:\n",
    "    df_edges[col].fillna('', inplace=True)\n"
   ]
  },
  {
   "cell_type": "code",
   "execution_count": 18,
   "metadata": {},
   "outputs": [
    {
     "data": {
      "text/html": [
       "<div>\n",
       "<style scoped>\n",
       "    .dataframe tbody tr th:only-of-type {\n",
       "        vertical-align: middle;\n",
       "    }\n",
       "\n",
       "    .dataframe tbody tr th {\n",
       "        vertical-align: top;\n",
       "    }\n",
       "\n",
       "    .dataframe thead th {\n",
       "        text-align: right;\n",
       "    }\n",
       "</style>\n",
       "<table border=\"1\" class=\"dataframe\">\n",
       "  <thead>\n",
       "    <tr style=\"text-align: right;\">\n",
       "      <th></th>\n",
       "      <th>Status</th>\n",
       "      <th>AddedBy</th>\n",
       "      <th>ConnID</th>\n",
       "      <th>Species</th>\n",
       "      <th>input1_ID</th>\n",
       "      <th>input1_level</th>\n",
       "      <th>input1_localisation</th>\n",
       "      <th>input1_type</th>\n",
       "      <th>input2_ID</th>\n",
       "      <th>input2_level</th>\n",
       "      <th>...</th>\n",
       "      <th>output1_ath_homologues</th>\n",
       "      <th>output1_stu_homologues</th>\n",
       "      <th>output1_sly_homologues</th>\n",
       "      <th>output1_osa_homologues</th>\n",
       "      <th>input1_location</th>\n",
       "      <th>input2_location</th>\n",
       "      <th>input3_location</th>\n",
       "      <th>output1_location</th>\n",
       "      <th>reaction_type</th>\n",
       "      <th>reaction_id</th>\n",
       "    </tr>\n",
       "  </thead>\n",
       "  <tbody>\n",
       "    <tr>\n",
       "      <th>0</th>\n",
       "      <td>forCB</td>\n",
       "      <td>KG</td>\n",
       "      <td>Conn001</td>\n",
       "      <td>ath</td>\n",
       "      <td>L-Met</td>\n",
       "      <td>family</td>\n",
       "      <td>ER</td>\n",
       "      <td>metabolite</td>\n",
       "      <td>SAMS</td>\n",
       "      <td>clade</td>\n",
       "      <td>...</td>\n",
       "      <td></td>\n",
       "      <td></td>\n",
       "      <td></td>\n",
       "      <td></td>\n",
       "      <td>endoplasmic reticulum</td>\n",
       "      <td>endoplasmic reticulum</td>\n",
       "      <td>putative:cytoplasm</td>\n",
       "      <td>endoplasmic reticulum</td>\n",
       "      <td>catalysis/auto-catalysis</td>\n",
       "      <td>rx00001</td>\n",
       "    </tr>\n",
       "    <tr>\n",
       "      <th>1</th>\n",
       "      <td>forCB</td>\n",
       "      <td>KG</td>\n",
       "      <td>Conn002</td>\n",
       "      <td>ath</td>\n",
       "      <td>SAMe</td>\n",
       "      <td>family</td>\n",
       "      <td>ER</td>\n",
       "      <td>metabolite</td>\n",
       "      <td>ACS</td>\n",
       "      <td>family</td>\n",
       "      <td>...</td>\n",
       "      <td></td>\n",
       "      <td></td>\n",
       "      <td></td>\n",
       "      <td></td>\n",
       "      <td>endoplasmic reticulum</td>\n",
       "      <td>endoplasmic reticulum</td>\n",
       "      <td>putative:cytoplasm</td>\n",
       "      <td>endoplasmic reticulum</td>\n",
       "      <td>catalysis/auto-catalysis</td>\n",
       "      <td>rx00002</td>\n",
       "    </tr>\n",
       "    <tr>\n",
       "      <th>2</th>\n",
       "      <td>forCB</td>\n",
       "      <td>KG</td>\n",
       "      <td>Conn003</td>\n",
       "      <td>ath</td>\n",
       "      <td>ACC</td>\n",
       "      <td>family</td>\n",
       "      <td>ER</td>\n",
       "      <td>metabolite</td>\n",
       "      <td>ACO</td>\n",
       "      <td>family</td>\n",
       "      <td>...</td>\n",
       "      <td></td>\n",
       "      <td></td>\n",
       "      <td></td>\n",
       "      <td></td>\n",
       "      <td>endoplasmic reticulum</td>\n",
       "      <td>endoplasmic reticulum</td>\n",
       "      <td>putative:cytoplasm</td>\n",
       "      <td>endoplasmic reticulum</td>\n",
       "      <td>catalysis/auto-catalysis</td>\n",
       "      <td>rx00003</td>\n",
       "    </tr>\n",
       "    <tr>\n",
       "      <th>3</th>\n",
       "      <td>forCB</td>\n",
       "      <td>KG</td>\n",
       "      <td>Conn004</td>\n",
       "      <td>ath</td>\n",
       "      <td>Cu2+</td>\n",
       "      <td>family</td>\n",
       "      <td>cytoplasm</td>\n",
       "      <td>metabolite</td>\n",
       "      <td>HMA</td>\n",
       "      <td>family</td>\n",
       "      <td>...</td>\n",
       "      <td></td>\n",
       "      <td></td>\n",
       "      <td></td>\n",
       "      <td></td>\n",
       "      <td>cytoplasm</td>\n",
       "      <td>endoplasmic reticulum</td>\n",
       "      <td>putative:cytoplasm</td>\n",
       "      <td>endoplasmic reticulum</td>\n",
       "      <td>translocation</td>\n",
       "      <td>rx00004</td>\n",
       "    </tr>\n",
       "    <tr>\n",
       "      <th>4</th>\n",
       "      <td>forCB</td>\n",
       "      <td>KG</td>\n",
       "      <td>Conn005</td>\n",
       "      <td>ath</td>\n",
       "      <td>ETR</td>\n",
       "      <td>family</td>\n",
       "      <td>ER</td>\n",
       "      <td>protein</td>\n",
       "      <td>Cu2+</td>\n",
       "      <td>family</td>\n",
       "      <td>...</td>\n",
       "      <td>AT1G04310,AT3G04580,AT3G23150,AT2G40940,AT1G66340</td>\n",
       "      <td></td>\n",
       "      <td></td>\n",
       "      <td></td>\n",
       "      <td>endoplasmic reticulum</td>\n",
       "      <td>endoplasmic reticulum</td>\n",
       "      <td>putative:cytoplasm</td>\n",
       "      <td>endoplasmic reticulum</td>\n",
       "      <td>protein activation</td>\n",
       "      <td>rx00005</td>\n",
       "    </tr>\n",
       "    <tr>\n",
       "      <th>5</th>\n",
       "      <td>forCB</td>\n",
       "      <td>KG</td>\n",
       "      <td>Conn006</td>\n",
       "      <td>ath</td>\n",
       "      <td>CTR</td>\n",
       "      <td>family</td>\n",
       "      <td>cytoplasm</td>\n",
       "      <td>protein [active]</td>\n",
       "      <td>ETR</td>\n",
       "      <td>family</td>\n",
       "      <td>...</td>\n",
       "      <td></td>\n",
       "      <td></td>\n",
       "      <td></td>\n",
       "      <td></td>\n",
       "      <td>cytoplasm</td>\n",
       "      <td>endoplasmic reticulum</td>\n",
       "      <td>putative:cytoplasm</td>\n",
       "      <td>endoplasmic reticulum</td>\n",
       "      <td>binding/oligomerisation</td>\n",
       "      <td>rx00006</td>\n",
       "    </tr>\n",
       "    <tr>\n",
       "      <th>6</th>\n",
       "      <td>forCB</td>\n",
       "      <td>KG</td>\n",
       "      <td>Conn007</td>\n",
       "      <td>ath</td>\n",
       "      <td>CTR|ETR</td>\n",
       "      <td>family</td>\n",
       "      <td>ER</td>\n",
       "      <td>complex</td>\n",
       "      <td>RTE1</td>\n",
       "      <td>family</td>\n",
       "      <td>...</td>\n",
       "      <td></td>\n",
       "      <td></td>\n",
       "      <td></td>\n",
       "      <td></td>\n",
       "      <td>endoplasmic reticulum</td>\n",
       "      <td>golgi apparatus</td>\n",
       "      <td>putative:cytoplasm</td>\n",
       "      <td>endoplasmic reticulum</td>\n",
       "      <td>protein activation</td>\n",
       "      <td>rx00007</td>\n",
       "    </tr>\n",
       "    <tr>\n",
       "      <th>7</th>\n",
       "      <td>_TBD</td>\n",
       "      <td>KG</td>\n",
       "      <td>Conn008</td>\n",
       "      <td>ath</td>\n",
       "      <td>ET</td>\n",
       "      <td>family</td>\n",
       "      <td>cytoplasm</td>\n",
       "      <td>metabolite</td>\n",
       "      <td>ETR</td>\n",
       "      <td>family</td>\n",
       "      <td>...</td>\n",
       "      <td></td>\n",
       "      <td></td>\n",
       "      <td></td>\n",
       "      <td></td>\n",
       "      <td>cytoplasm</td>\n",
       "      <td>cytoplasm</td>\n",
       "      <td>putative:cytoplasm</td>\n",
       "      <td>cytoplasm</td>\n",
       "      <td>binding/oligomerisation</td>\n",
       "      <td>rx00008</td>\n",
       "    </tr>\n",
       "    <tr>\n",
       "      <th>8</th>\n",
       "      <td>forCB</td>\n",
       "      <td>KG</td>\n",
       "      <td>Conn009</td>\n",
       "      <td>ath</td>\n",
       "      <td>EIN2</td>\n",
       "      <td>node</td>\n",
       "      <td>ER</td>\n",
       "      <td>protein</td>\n",
       "      <td>ETP|SCF</td>\n",
       "      <td>family</td>\n",
       "      <td>...</td>\n",
       "      <td>AT5G03280</td>\n",
       "      <td></td>\n",
       "      <td></td>\n",
       "      <td></td>\n",
       "      <td>endoplasmic reticulum</td>\n",
       "      <td>cytoplasm</td>\n",
       "      <td>putative:cytoplasm</td>\n",
       "      <td>endoplasmic reticulum</td>\n",
       "      <td>protein activation</td>\n",
       "      <td>rx00009</td>\n",
       "    </tr>\n",
       "    <tr>\n",
       "      <th>9</th>\n",
       "      <td>forCB</td>\n",
       "      <td>KG</td>\n",
       "      <td>Conn010</td>\n",
       "      <td>ath</td>\n",
       "      <td>CTR|ETR</td>\n",
       "      <td>family</td>\n",
       "      <td>ER</td>\n",
       "      <td>complex</td>\n",
       "      <td>EIN2</td>\n",
       "      <td>family</td>\n",
       "      <td>...</td>\n",
       "      <td>AT5G03280</td>\n",
       "      <td></td>\n",
       "      <td></td>\n",
       "      <td></td>\n",
       "      <td>endoplasmic reticulum</td>\n",
       "      <td>endoplasmic reticulum</td>\n",
       "      <td>putative:cytoplasm</td>\n",
       "      <td>endoplasmic reticulum</td>\n",
       "      <td>protein deactivation</td>\n",
       "      <td>rx00010</td>\n",
       "    </tr>\n",
       "  </tbody>\n",
       "</table>\n",
       "<p>10 rows × 65 columns</p>\n",
       "</div>"
      ],
      "text/plain": [
       "  Status AddedBy   ConnID Species input1_ID input1_level input1_localisation  \\\n",
       "0  forCB      KG  Conn001     ath     L-Met       family                  ER   \n",
       "1  forCB      KG  Conn002     ath      SAMe       family                  ER   \n",
       "2  forCB      KG  Conn003     ath       ACC       family                  ER   \n",
       "3  forCB      KG  Conn004     ath      Cu2+       family           cytoplasm   \n",
       "4  forCB      KG  Conn005     ath       ETR       family                  ER   \n",
       "5  forCB      KG  Conn006     ath       CTR       family           cytoplasm   \n",
       "6  forCB      KG  Conn007     ath   CTR|ETR       family                  ER   \n",
       "7   _TBD      KG  Conn008     ath        ET       family           cytoplasm   \n",
       "8  forCB      KG  Conn009     ath      EIN2         node                  ER   \n",
       "9  forCB      KG  Conn010     ath   CTR|ETR       family                  ER   \n",
       "\n",
       "        input1_type input2_ID input2_level  ...  \\\n",
       "0        metabolite      SAMS        clade  ...   \n",
       "1        metabolite       ACS       family  ...   \n",
       "2        metabolite       ACO       family  ...   \n",
       "3        metabolite       HMA       family  ...   \n",
       "4           protein      Cu2+       family  ...   \n",
       "5  protein [active]       ETR       family  ...   \n",
       "6           complex      RTE1       family  ...   \n",
       "7        metabolite       ETR       family  ...   \n",
       "8           protein   ETP|SCF       family  ...   \n",
       "9           complex      EIN2       family  ...   \n",
       "\n",
       "                              output1_ath_homologues output1_stu_homologues  \\\n",
       "0                                                                             \n",
       "1                                                                             \n",
       "2                                                                             \n",
       "3                                                                             \n",
       "4  AT1G04310,AT3G04580,AT3G23150,AT2G40940,AT1G66340                          \n",
       "5                                                                             \n",
       "6                                                                             \n",
       "7                                                                             \n",
       "8                                          AT5G03280                          \n",
       "9                                          AT5G03280                          \n",
       "\n",
       "  output1_sly_homologues output1_osa_homologues        input1_location  \\\n",
       "0                                                endoplasmic reticulum   \n",
       "1                                                endoplasmic reticulum   \n",
       "2                                                endoplasmic reticulum   \n",
       "3                                                            cytoplasm   \n",
       "4                                                endoplasmic reticulum   \n",
       "5                                                            cytoplasm   \n",
       "6                                                endoplasmic reticulum   \n",
       "7                                                            cytoplasm   \n",
       "8                                                endoplasmic reticulum   \n",
       "9                                                endoplasmic reticulum   \n",
       "\n",
       "         input2_location     input3_location       output1_location  \\\n",
       "0  endoplasmic reticulum  putative:cytoplasm  endoplasmic reticulum   \n",
       "1  endoplasmic reticulum  putative:cytoplasm  endoplasmic reticulum   \n",
       "2  endoplasmic reticulum  putative:cytoplasm  endoplasmic reticulum   \n",
       "3  endoplasmic reticulum  putative:cytoplasm  endoplasmic reticulum   \n",
       "4  endoplasmic reticulum  putative:cytoplasm  endoplasmic reticulum   \n",
       "5  endoplasmic reticulum  putative:cytoplasm  endoplasmic reticulum   \n",
       "6        golgi apparatus  putative:cytoplasm  endoplasmic reticulum   \n",
       "7              cytoplasm  putative:cytoplasm              cytoplasm   \n",
       "8              cytoplasm  putative:cytoplasm  endoplasmic reticulum   \n",
       "9  endoplasmic reticulum  putative:cytoplasm  endoplasmic reticulum   \n",
       "\n",
       "              reaction_type reaction_id  \n",
       "0  catalysis/auto-catalysis     rx00001  \n",
       "1  catalysis/auto-catalysis     rx00002  \n",
       "2  catalysis/auto-catalysis     rx00003  \n",
       "3             translocation     rx00004  \n",
       "4        protein activation     rx00005  \n",
       "5   binding/oligomerisation     rx00006  \n",
       "6        protein activation     rx00007  \n",
       "7   binding/oligomerisation     rx00008  \n",
       "8        protein activation     rx00009  \n",
       "9      protein deactivation     rx00010  \n",
       "\n",
       "[10 rows x 65 columns]"
      ]
     },
     "execution_count": 18,
     "metadata": {},
     "output_type": "execute_result"
    }
   ],
   "source": [
    "df_edges.head(10)"
   ]
  },
  {
   "cell_type": "code",
   "execution_count": null,
   "metadata": {},
   "outputs": [],
   "source": []
  },
  {
   "cell_type": "code",
   "execution_count": null,
   "metadata": {},
   "outputs": [],
   "source": []
  },
  {
   "cell_type": "code",
   "execution_count": null,
   "metadata": {},
   "outputs": [],
   "source": []
  },
  {
   "cell_type": "code",
   "execution_count": 19,
   "metadata": {},
   "outputs": [
    {
     "data": {
      "text/html": [
       "<div>\n",
       "<style scoped>\n",
       "    .dataframe tbody tr th:only-of-type {\n",
       "        vertical-align: middle;\n",
       "    }\n",
       "\n",
       "    .dataframe tbody tr th {\n",
       "        vertical-align: top;\n",
       "    }\n",
       "\n",
       "    .dataframe thead th {\n",
       "        text-align: right;\n",
       "    }\n",
       "</style>\n",
       "<table border=\"1\" class=\"dataframe\">\n",
       "  <thead>\n",
       "    <tr style=\"text-align: right;\">\n",
       "      <th></th>\n",
       "      <th>input1_ID</th>\n",
       "      <th>input1_newID</th>\n",
       "      <th>input1_label</th>\n",
       "    </tr>\n",
       "  </thead>\n",
       "  <tbody>\n",
       "    <tr>\n",
       "      <th>341</th>\n",
       "      <td>DZ</td>\n",
       "      <td>DZ</td>\n",
       "      <td>Metabolite</td>\n",
       "    </tr>\n",
       "    <tr>\n",
       "      <th>345</th>\n",
       "      <td>DZ</td>\n",
       "      <td>DZ</td>\n",
       "      <td>Metabolite</td>\n",
       "    </tr>\n",
       "    <tr>\n",
       "      <th>346</th>\n",
       "      <td>DZ</td>\n",
       "      <td>DZ</td>\n",
       "      <td>Metabolite</td>\n",
       "    </tr>\n",
       "    <tr>\n",
       "      <th>347</th>\n",
       "      <td>DZ</td>\n",
       "      <td>DZ</td>\n",
       "      <td>Metabolite</td>\n",
       "    </tr>\n",
       "    <tr>\n",
       "      <th>348</th>\n",
       "      <td>DZ</td>\n",
       "      <td>DZ</td>\n",
       "      <td>Metabolite</td>\n",
       "    </tr>\n",
       "    <tr>\n",
       "      <th>349</th>\n",
       "      <td>DZ</td>\n",
       "      <td>DZ</td>\n",
       "      <td>Metabolite</td>\n",
       "    </tr>\n",
       "    <tr>\n",
       "      <th>350</th>\n",
       "      <td>DZ</td>\n",
       "      <td>DZ</td>\n",
       "      <td>Metabolite</td>\n",
       "    </tr>\n",
       "    <tr>\n",
       "      <th>351</th>\n",
       "      <td>DZ</td>\n",
       "      <td>DZ</td>\n",
       "      <td>Metabolite</td>\n",
       "    </tr>\n",
       "    <tr>\n",
       "      <th>352</th>\n",
       "      <td>DZ</td>\n",
       "      <td>DZ</td>\n",
       "      <td>Metabolite</td>\n",
       "    </tr>\n",
       "  </tbody>\n",
       "</table>\n",
       "</div>"
      ],
      "text/plain": [
       "    input1_ID input1_newID input1_label\n",
       "341        DZ           DZ   Metabolite\n",
       "345        DZ           DZ   Metabolite\n",
       "346        DZ           DZ   Metabolite\n",
       "347        DZ           DZ   Metabolite\n",
       "348        DZ           DZ   Metabolite\n",
       "349        DZ           DZ   Metabolite\n",
       "350        DZ           DZ   Metabolite\n",
       "351        DZ           DZ   Metabolite\n",
       "352        DZ           DZ   Metabolite"
      ]
     },
     "execution_count": 19,
     "metadata": {},
     "output_type": "execute_result"
    }
   ],
   "source": [
    "df_edges[df_edges['input1_ID']==\"DZ\"][['input1_ID', 'input1_newID', 'input1_label']]"
   ]
  },
  {
   "cell_type": "code",
   "execution_count": 20,
   "metadata": {},
   "outputs": [
    {
     "data": {
      "text/plain": [
       "['-', '?', '[empty]', 'nan', 'n.a.', nan, '[undefined]', '']"
      ]
     },
     "execution_count": 20,
     "metadata": {},
     "output_type": "execute_result"
    }
   ],
   "source": [
    "helpers.empty_strings"
   ]
  },
  {
   "cell_type": "code",
   "execution_count": 21,
   "metadata": {},
   "outputs": [],
   "source": [
    "def generate_list(subdf, ids, new_name, homologues=True):\n",
    "    col_suffixes = ['_newID', '_location', '_label', '_form']\n",
    "    new_col_suffixes = ['_name', '_location', '_label', '_form']\n",
    "\n",
    "    if homologues:\n",
    "        col_suffixes += homologue_cols\n",
    "        new_col_suffixes += homologue_cols\n",
    "        \n",
    "    for old_suf, new_suf in zip(col_suffixes, new_col_suffixes):\n",
    "        new_col = new_name + new_suf\n",
    "        old_cols = [id_ + old_suf for id_ in ids]\n",
    "        subdf[new_col] = subdf[old_cols].apply(lambda x: [i for i in x.values], axis=1)\n",
    "        \n",
    "        \n",
    "def rename_target(subdf, id_, new_name, homologues=True):\n",
    "    col_suffixes = ['_newID', '_location', '_label', '_form']\n",
    "    new_col_suffixes = ['_name', '_location', '_label', '_form']\n",
    "\n",
    "    if homologues:\n",
    "        col_suffixes += homologue_cols\n",
    "        new_col_suffixes += homologue_cols\n",
    "\n",
    "    for old_suf, new_suf in zip(col_suffixes, new_col_suffixes):\n",
    "        new_col = new_name + new_suf\n",
    "        old_col = id_ + old_suf\n",
    "        subdf[new_col] = subdf[old_col]"
   ]
  },
  {
   "cell_type": "code",
   "execution_count": 22,
   "metadata": {},
   "outputs": [],
   "source": [
    "def get_x_nodes(df, x):\n",
    "    rows_with_x = set()\n",
    "    for i, row in df.iterrows():\n",
    "        for col_prefix in ['input1', 'input2', 'input3', 'output1']:\n",
    "            if row[col_prefix + \"_newID\"] in x:\n",
    "                rows_with_x.add(i)\n",
    "    return rows_with_x"
   ]
  },
  {
   "cell_type": "code",
   "execution_count": 23,
   "metadata": {},
   "outputs": [],
   "source": [
    "def number_input_different(df, homologues=True, catalyst=False):\n",
    "    ''' If catalyst is True, it is the last \"input\" col. '''\n",
    "\n",
    "    if catalyst:\n",
    "        # two inputs, input2 -> catalyst\n",
    "        subdf2 = df[df[\"input3_newID\"].isna()].copy()\n",
    "        generate_list(subdf2, ['input1'], 'substrate', homologues=homologues)\n",
    "        rename_target(subdf2, 'input2', 'catalyst', homologues=homologues)\n",
    "\n",
    "        # three inputs, input3 -> catalyst\n",
    "        subdf3 = df[~df[\"input3_newID\"].isna()].copy()\n",
    "        generate_list(subdf3, ['input1', 'input2'], 'substrate', homologues=homologues)        \n",
    "        rename_target(subdf3, 'input3', 'catalyst', homologues=homologues) \n",
    "        \n",
    "    else:\n",
    "        # two inputs\n",
    "        subdf2 = df[df[\"input3_newID\"].isna()].copy()\n",
    "        generate_list(subdf2, ['input1', 'input2'], 'substrate', homologues=homologues)\n",
    "\n",
    "        # three inputs\n",
    "        subdf3 = df[~df[\"input3_newID\"].isna()].copy()\n",
    "        generate_list(subdf3, ['input1', 'input2', 'input3'], 'substrate', homologues=homologues)\n",
    "    \n",
    "    # combine\n",
    "    new_subdf = subdf2.append(subdf3)\n",
    "    rename_target(new_subdf, 'output1', 'product', homologues=homologues)\n",
    "    \n",
    "    return new_subdf"
   ]
  },
  {
   "cell_type": "code",
   "execution_count": 24,
   "metadata": {},
   "outputs": [],
   "source": [
    "df_translate = df_edges[['reaction_id', \n",
    "          'input1_ID', 'input2_ID', 'input3_ID', 'output1_ID', \n",
    "          'input1_newID', 'input2_newID', 'input3_newID', 'output1_newID']].copy()\n"
   ]
  },
  {
   "cell_type": "code",
   "execution_count": 25,
   "metadata": {},
   "outputs": [],
   "source": [
    "translate = defaultdict(dict)\n",
    "for _, row in df_translate.iterrows():\n",
    "    for suffix in ['input1', 'input2', 'input3', 'output1']:\n",
    "        old = f\"{suffix}_ID\"\n",
    "        new = f\"{suffix}_newID\"\n",
    "        if not (row[new] is np.nan):\n",
    "            translate[row['reaction_id']][row[new]] = row[old]"
   ]
  },
  {
   "cell_type": "code",
   "execution_count": 26,
   "metadata": {},
   "outputs": [],
   "source": [
    "import json"
   ]
  },
  {
   "cell_type": "code",
   "execution_count": 27,
   "metadata": {},
   "outputs": [],
   "source": [
    "with open(\"family-to-og-ID-v0.0.4.json\", \"w\") as out:\n",
    "    json.dump(translate, out)"
   ]
  },
  {
   "cell_type": "code",
   "execution_count": 28,
   "metadata": {},
   "outputs": [],
   "source": [
    "# transcription genes\n",
    "substrate_cols_wo_homologues = ['substrate_name', 'substrate_form', 'substrate_label', 'substrate_location']\n",
    "product_cols_wo_homologues = ['product_name', 'product_form', 'product_label',  'product_location']\n",
    "catalyst_cols_wo_homologues = ['catalyst_name', 'catalyst_form', 'catalyst_label', 'catalyst_location']\n",
    "\n",
    "homologue_cols = [f\"_{x}_homologues\" for x in all_species]\n",
    "\n",
    "substrate_cols = [ f'substrate{x}' for x in ['_name', '_label', '_form', '_location']] +\\\n",
    "                [f\"substrate{x}\" for x in homologue_cols]\n",
    "catalyst_cols = [ f'catalyst{x}' for x in ['_name', '_label', '_form', '_location']] +\\\n",
    "                [f\"catalyst{x}\" for x in homologue_cols] \n",
    "product_cols = [ f'product{x}' for x in ['_name', '_label', '_form', '_location']] +\\\n",
    "                [f\"product{x}\" for x in homologue_cols]\n",
    "\n",
    "reaction_standard_columns = ['AddedBy', 'Species', \n",
    "       'AdditionalInfo',  'external_links', 'trust_level',\n",
    "       'ModelV', 'ReactionEffect', 'reaction_type', 'Modifications', 'reaction_id']"
   ]
  },
  {
   "cell_type": "code",
   "execution_count": 29,
   "metadata": {},
   "outputs": [],
   "source": [
    "def read_dict(file):\n",
    "    d = {}\n",
    "    with open(file, \"r\") as f:\n",
    "        for line in f:\n",
    "            key, value = line.strip().split(\"\\t\")\n",
    "            d[key] = value\n",
    "    return d"
   ]
  },
  {
   "cell_type": "code",
   "execution_count": 30,
   "metadata": {},
   "outputs": [],
   "source": [
    "node_to_family = read_dict(parsed_path / \"node_to_family.tsv\")\n",
    "clade_to_family = read_dict(parsed_path / \"clade_to_family.tsv\")"
   ]
  },
  {
   "cell_type": "code",
   "execution_count": 31,
   "metadata": {},
   "outputs": [],
   "source": [
    "def node_id_to_node_label(id_):\n",
    "\n",
    "    query = '''MATCH (s) WHERE s.name=$x \n",
    "               RETURN s.name AS substrate_name, labels(s) AS substrate_label'''\n",
    "    \n",
    "    cursor = graph.run(query, x=id_)\n",
    "    d = cursor.data()\n",
    "    \n",
    "    if len(d) == 0:\n",
    "        print(id_, d, \"no hit\")\n",
    "        return \"\"\n",
    "    elif len(d) == 1:\n",
    "        s = set(d[0]['substrate_label']) - set(['Family'])\n",
    "        return s.pop()\n",
    "    else:\n",
    "        print(id_, d, 'multiple hits') # should be impossible\n",
    "        return \"\""
   ]
  },
  {
   "cell_type": "code",
   "execution_count": 32,
   "metadata": {},
   "outputs": [],
   "source": [
    "def get_name(ids_):\n",
    "    names = []\n",
    "    for x in ids_:\n",
    "        label1 = node_id_to_node_label(x)\n",
    "        if not (label1 == ''):\n",
    "            names.append(x)\n",
    "        else:\n",
    "            if x in clade_to_family:\n",
    "                names.append(clade_to_family[x])\n",
    "                print('using as clade id to get family\\t', x, \"\\t\", clade_to_family[x])\n",
    "\n",
    "            elif x in node_to_family:\n",
    "                names.append(node_to_family[x])\n",
    "                print('using as node id to get family\\t', x, \"\\t\", node_to_family[x])\n",
    "\n",
    "            else:\n",
    "                names.append(x)\n",
    "    \n",
    "    return names"
   ]
  },
  {
   "cell_type": "markdown",
   "metadata": {},
   "source": [
    "# Add reactions"
   ]
  },
  {
   "cell_type": "code",
   "execution_count": 33,
   "metadata": {},
   "outputs": [],
   "source": [
    "def pretty_print_result(t, df, qr, input_type, multiplier=1):\n",
    "    if input_type in ['nodes', 'relationships']:\n",
    "        key = input_type + '_created'\n",
    "    else:\n",
    "        key = input_type\n",
    "    \n",
    "    try:\n",
    "        stat = qr.stats()[key]\n",
    "    except:\n",
    "        stat = 0\n",
    "    \n",
    "    print(f\"{t:20}\\t{df.shape[0]:3}\\t{stat:3}\", end=\"\")\n",
    "    if df.shape[0]*multiplier == stat:\n",
    "        print()\n",
    "    \n",
    "    elif df.shape[0]*multiplier < stat:\n",
    "        print(f\"\\t**too many {input_type} created**\")\n",
    "    else:\n",
    "        print(f\"\\t**not all {input_type} created**\")"
   ]
  },
  {
   "cell_type": "code",
   "execution_count": 34,
   "metadata": {},
   "outputs": [
    {
     "data": {
      "text/plain": [
       "0"
      ]
     },
     "execution_count": 34,
     "metadata": {},
     "output_type": "execute_result"
    }
   ],
   "source": [
    "df_edges.index.duplicated().sum()"
   ]
  },
  {
   "cell_type": "markdown",
   "metadata": {},
   "source": [
    "## binding / oligomerisation"
   ]
  },
  {
   "cell_type": "code",
   "execution_count": 35,
   "metadata": {},
   "outputs": [
    {
     "name": "stdout",
     "output_type": "stream",
     "text": [
      "BINDING_OGLIMERISATION 104\n"
     ]
    }
   ],
   "source": [
    "key = 'binding/oligomerisation'\n",
    "reaction_type = \"BINDING_OGLIMERISATION\"\n",
    "subdf = df_edges.loc[df_edges['reaction_type'] == key].copy()\n",
    "print(reaction_type, subdf.shape[0])"
   ]
  },
  {
   "cell_type": "code",
   "execution_count": 36,
   "metadata": {},
   "outputs": [],
   "source": [
    "binding_wo_catalyst = subdf.loc[subdf['Modifications'] != 'with catalyst']\n",
    "binding_w_catalyst = subdf.loc[subdf['Modifications'] == 'with catalyst']"
   ]
  },
  {
   "cell_type": "code",
   "execution_count": 37,
   "metadata": {},
   "outputs": [],
   "source": [
    "subdf_wo_catalyst = number_input_different(binding_wo_catalyst)\n",
    "subdf_w_catalyst = number_input_different(binding_w_catalyst, catalyst=True)"
   ]
  },
  {
   "cell_type": "code",
   "execution_count": 38,
   "metadata": {},
   "outputs": [
    {
     "name": "stdout",
     "output_type": "stream",
     "text": [
      "Reaction            \t104\t104\n"
     ]
    }
   ],
   "source": [
    "# make reaction nodes\n",
    "f = f\"{reaction_type}-reaction.tsv\"\n",
    "subdf[reaction_standard_columns].to_csv(f\"../data/import/{f}\", sep=\"\\t\", index=None)\n",
    "query = helpers.reaction_node_query(f, name=\"line.reaction_id\")\n",
    "\n",
    "qr = graph.run(query)\n",
    "pretty_print_result('Reaction', subdf, qr, 'nodes')"
   ]
  },
  {
   "cell_type": "markdown",
   "metadata": {},
   "source": [
    "### Without catalyst"
   ]
  },
  {
   "cell_type": "code",
   "execution_count": 39,
   "metadata": {},
   "outputs": [],
   "source": [
    "explode_cols = substrate_cols\n",
    "exploded_new_subdf = helpers.unnesting(subdf_wo_catalyst, explode_cols)#.drop_duplicates()"
   ]
  },
  {
   "cell_type": "code",
   "execution_count": 40,
   "metadata": {
    "scrolled": true
   },
   "outputs": [
    {
     "name": "stdout",
     "output_type": "stream",
     "text": [
      "Complex             \t 16\t 16\n",
      "ForeignCoding       \t 30\t 30\n",
      "ForeignEntity       \t  3\t  3\n",
      "Metabolite          \t 32\t 32\n",
      "PlantAbstract       \t  4\t  4\n",
      "PlantCoding         \t131\t131\n",
      "Process             \t  3\t  3\n"
     ]
    }
   ],
   "source": [
    "# binding substrate edges\n",
    "want_cols = reaction_standard_columns + substrate_cols\n",
    "\n",
    "for t, this_subdf in exploded_new_subdf.groupby(\"substrate_label\"):\n",
    "    f = f\"{reaction_type}-{t}-substrate_edges.tsv\"\n",
    "    this_subdf[want_cols].to_csv(f\"../data/import/{f}\", index=None, sep=\"\\t\")\n",
    "    \n",
    "    query = helpers.make_create_reaction_edge_query(f, 'SUBSTRATE', \n",
    "                                                    \"substrate\", \"dne\",\n",
    "                                                    source_label=t, \n",
    "                                                    target_label=\"Reaction\", \n",
    "                                                    target_name=\"line.reaction_id\"\n",
    "                                                   )\n",
    "\n",
    "    qr = graph.run(query)\n",
    "\n",
    "    pretty_print_result(t, this_subdf, qr, 'relationships')\n"
   ]
  },
  {
   "cell_type": "code",
   "execution_count": 41,
   "metadata": {},
   "outputs": [],
   "source": [
    "f = f\"{reaction_type}-product_edges.tsv\"\n",
    "want_cols = reaction_standard_columns + product_cols\n",
    "subdf_wo_catalyst[want_cols].to_csv(f'../data/import/{f}', sep=\"\\t\", index=None)"
   ]
  },
  {
   "cell_type": "code",
   "execution_count": 42,
   "metadata": {},
   "outputs": [
    {
     "name": "stdout",
     "output_type": "stream",
     "text": [
      "-                   \t103\t103\n"
     ]
    }
   ],
   "source": [
    "# binding product edges\n",
    "query = helpers.make_create_reaction_edge_query(f, \"PRODUCT\", \n",
    "                                                \"dne\", \"product\",\n",
    "                                                source_name=\"line.reaction_id\", \n",
    "                                                source_label=\"Reaction\"\n",
    "                                               )\n",
    "qr = graph.run(query)\n",
    "pretty_print_result('-', subdf_wo_catalyst, qr, 'relationships')"
   ]
  },
  {
   "cell_type": "markdown",
   "metadata": {},
   "source": [
    "### With catalyst"
   ]
  },
  {
   "cell_type": "code",
   "execution_count": 43,
   "metadata": {},
   "outputs": [],
   "source": [
    "explode_cols = substrate_cols\n",
    "exploded_new_subdf = helpers.unnesting(subdf_w_catalyst, explode_cols).drop_duplicates()"
   ]
  },
  {
   "cell_type": "code",
   "execution_count": 44,
   "metadata": {},
   "outputs": [
    {
     "name": "stdout",
     "output_type": "stream",
     "text": [
      "PlantCoding         \t  1\t  1\n"
     ]
    }
   ],
   "source": [
    "# binding substrate edges\n",
    "\n",
    "want_cols = reaction_standard_columns + substrate_cols\n",
    "\n",
    "for t, this_subdf in exploded_new_subdf.groupby(\"substrate_label\"):\n",
    "    f = f\"{reaction_type}-wicat-{t}-substrate_edges.tsv\"\n",
    "    this_subdf[want_cols].to_csv(f\"../data/import/{f}\", index=None, sep=\"\\t\")\n",
    "    \n",
    "    query = helpers.make_create_reaction_edge_query(f, 'SUBSTRATE',\n",
    "                                                    \"substrate\", \"dne\",\n",
    "                                                    source_label=t, target_label=\"Reaction\", \n",
    "                                                    target_name=\"line.reaction_id\"\n",
    "                                                   )\n",
    "    qr = graph.run(query)\n",
    "    pretty_print_result(t, this_subdf, qr, 'relationships')"
   ]
  },
  {
   "cell_type": "code",
   "execution_count": 45,
   "metadata": {},
   "outputs": [
    {
     "name": "stdout",
     "output_type": "stream",
     "text": [
      "PlantCoding         \t  1\t  1\n"
     ]
    }
   ],
   "source": [
    "# binding catalyst edges\n",
    "\n",
    "want_cols = reaction_standard_columns + catalyst_cols\n",
    "\n",
    "for t, this_subdf in subdf_w_catalyst.groupby(\"catalyst_label\"):\n",
    "    f = f\"{reaction_type}-wicat-{t}-catalyst_label_edges.tsv\"\n",
    "    this_subdf[want_cols].to_csv(f\"../data/import/{f}\", index=None, sep=\"\\t\")\n",
    "    \n",
    "    query = helpers.make_create_reaction_edge_query(f, 'ACTIVATES',\n",
    "                                                    \"catalyst\", \"dne\",\n",
    "                                                    source_label=t, target_label=\"Reaction\", \n",
    "                                                    target_name=\"line.reaction_id\"\n",
    "                                                   )\n",
    "    qr = graph.run(query)\n",
    "    pretty_print_result(t, subdf_w_catalyst, qr, 'relationships')"
   ]
  },
  {
   "cell_type": "code",
   "execution_count": 46,
   "metadata": {},
   "outputs": [],
   "source": [
    "f = f\"{reaction_type}-wicat-catalyst-product_edges.tsv\"\n",
    "want_cols = reaction_standard_columns + product_cols\n",
    "subdf_w_catalyst[want_cols].to_csv(f'../data/import/{f}', sep=\"\\t\", index=None)"
   ]
  },
  {
   "cell_type": "code",
   "execution_count": 47,
   "metadata": {},
   "outputs": [
    {
     "name": "stdout",
     "output_type": "stream",
     "text": [
      "-                   \t  1\t  1\n"
     ]
    }
   ],
   "source": [
    "# binding product edges\n",
    "query = helpers.make_create_reaction_edge_query(f, \"PRODUCT\",\n",
    "                                                \"dne\", \"product\", \n",
    "                                                source_name=\"line.reaction_id\"\n",
    "                                               )\n",
    "qr = graph.run(query)\n",
    "pretty_print_result('-', subdf_w_catalyst, qr, 'relationships')"
   ]
  },
  {
   "cell_type": "markdown",
   "metadata": {},
   "source": [
    "## catalysis / auto-catalysis"
   ]
  },
  {
   "cell_type": "code",
   "execution_count": 48,
   "metadata": {},
   "outputs": [
    {
     "name": "stdout",
     "output_type": "stream",
     "text": [
      "CATALYSIS 79\n"
     ]
    }
   ],
   "source": [
    "key = 'catalysis/auto-catalysis'\n",
    "reaction_type = 'CATALYSIS'\n",
    "subdf = df_edges[df_edges['reaction_type'] == key]\n",
    "print(reaction_type, subdf.shape[0])"
   ]
  },
  {
   "cell_type": "code",
   "execution_count": 49,
   "metadata": {},
   "outputs": [
    {
     "data": {
      "text/plain": [
       "0"
      ]
     },
     "execution_count": 49,
     "metadata": {},
     "output_type": "execute_result"
    }
   ],
   "source": [
    "subdf.duplicated().sum()"
   ]
  },
  {
   "cell_type": "code",
   "execution_count": 50,
   "metadata": {},
   "outputs": [
    {
     "name": "stdout",
     "output_type": "stream",
     "text": [
      "Reaction            \t 79\t 79\n"
     ]
    }
   ],
   "source": [
    "# make reaction nodes\n",
    "f = f\"{reaction_type}-wicat-reaction.tsv\"\n",
    "subdf[reaction_standard_columns].to_csv(f\"../data/import/{f}\", sep=\"\\t\", index=None)\n",
    "query = helpers.reaction_node_query(f, name=\"line.reaction_id\")\n",
    "\n",
    "qr = graph.run(query)\n",
    "pretty_print_result('Reaction', subdf, qr, 'nodes')"
   ]
  },
  {
   "cell_type": "code",
   "execution_count": 51,
   "metadata": {},
   "outputs": [],
   "source": [
    "catalysis_wo_catalyst = subdf[subdf['input2_ID'].isna() & subdf['input3_ID'].isna()]\n",
    "catalysis_w_catalyst = subdf[~(subdf['input2_ID'].isna() & subdf['input3_ID'].isna())]"
   ]
  },
  {
   "cell_type": "markdown",
   "metadata": {},
   "source": [
    "### With catalyst"
   ]
  },
  {
   "cell_type": "code",
   "execution_count": 52,
   "metadata": {},
   "outputs": [],
   "source": [
    "subdf_w_catalyst = number_input_different(catalysis_w_catalyst, catalyst=True)\n",
    "new_subdf = number_input_different(subdf_w_catalyst, catalyst=True)"
   ]
  },
  {
   "cell_type": "code",
   "execution_count": 53,
   "metadata": {},
   "outputs": [
    {
     "name": "stdout",
     "output_type": "stream",
     "text": [
      "Metabolite          \t 79\t 79\n",
      "PlantCoding         \t 21\t 21\n"
     ]
    }
   ],
   "source": [
    "# substrate to reaction\n",
    "exploded_new_subdf = helpers.unnesting(new_subdf, substrate_cols)\n",
    "want_cols = reaction_standard_columns + substrate_cols\n",
    "for t, this_subdf in exploded_new_subdf.groupby(\"substrate_label\"):\n",
    "    f = f\"{reaction_type}-wicat-{t}-substrate_edges.tsv\"\n",
    "    this_subdf[want_cols].to_csv(f\"../data/import/{f}\", index=None, sep=\"\\t\")\n",
    "    \n",
    "    query = helpers.make_create_reaction_edge_query(f, 'SUBSTRATE', \n",
    "                                                    \"substrate\", \"dne\",\n",
    "                                                    source_label=t, target_label=\"Reaction\", \n",
    "                                                    target_name=\"line.reaction_id\"\n",
    "                                                   )\n",
    "    qr = graph.run(query)\n",
    "    pretty_print_result(t, this_subdf, qr, 'relationships')"
   ]
  },
  {
   "cell_type": "code",
   "execution_count": 54,
   "metadata": {},
   "outputs": [
    {
     "name": "stdout",
     "output_type": "stream",
     "text": [
      "Metabolite          \t 21\t 21\n",
      "MetaboliteFamily    \t  1\t  1\n",
      "PlantAbstract       \t  3\t  3\n",
      "PlantCoding         \t 52\t 52\n",
      "Process             \t  1\t  1\n"
     ]
    }
   ],
   "source": [
    "# catalyst to reaction\n",
    "want_cols = reaction_standard_columns + catalyst_cols\n",
    "\n",
    "for t, this_subdf in subdf_w_catalyst.groupby(\"catalyst_label\"):\n",
    "    f = f\"{reaction_type}-wicat-{t}-catalyst_edges.tsv\"\n",
    "    this_subdf[want_cols].to_csv(f\"../data/import/{f}\", index=None, sep=\"\\t\")\n",
    "    \n",
    "    query = helpers.make_create_reaction_edge_query(f, 'ACTIVATES', \n",
    "                                                    \"catalyst\", \"dne\",\n",
    "                                                    source_label=t, target_label=\"Reaction\", \n",
    "                                                    target_name=\"line.reaction_id\"\n",
    "                                                   )\n",
    "    qr = graph.run(query)\n",
    "    pretty_print_result(t, this_subdf, qr, 'relationships')"
   ]
  },
  {
   "cell_type": "code",
   "execution_count": 55,
   "metadata": {},
   "outputs": [
    {
     "name": "stdout",
     "output_type": "stream",
     "text": [
      "Metabolite          \t 76\t 76\n",
      "MetaboliteFamily    \t  2\t  2\n"
     ]
    }
   ],
   "source": [
    "# product to reaction\n",
    "want_cols = reaction_standard_columns + product_cols\n",
    "for t, this_subdf in subdf_w_catalyst.groupby(\"product_label\"):\n",
    "    f = f\"{reaction_type}-wicat-{t}-product_edges.tsv\"    \n",
    "    this_subdf[want_cols].to_csv(f\"../data/import/{f}\", index=None, sep=\"\\t\")\n",
    "    \n",
    "    query = helpers.make_create_reaction_edge_query(f, 'PRODUCT', \n",
    "                                                    \"dne\", \"product\",\n",
    "                                                    target_label=t, source_label=\"Reaction\", \n",
    "                                                    source_name=\"line.reaction_id\"\n",
    "                                                   )    \n",
    "    qr = graph.run(query)\n",
    "\n",
    "    pretty_print_result(t, this_subdf, qr, 'relationships')"
   ]
  },
  {
   "cell_type": "markdown",
   "metadata": {},
   "source": [
    "### Without catalyst"
   ]
  },
  {
   "cell_type": "code",
   "execution_count": 56,
   "metadata": {},
   "outputs": [
    {
     "name": "stderr",
     "output_type": "stream",
     "text": [
      "<ipython-input-21-efe0e85a6517>:26: SettingWithCopyWarning: \n",
      "A value is trying to be set on a copy of a slice from a DataFrame.\n",
      "Try using .loc[row_indexer,col_indexer] = value instead\n",
      "\n",
      "See the caveats in the documentation: https://pandas.pydata.org/pandas-docs/stable/user_guide/indexing.html#returning-a-view-versus-a-copy\n",
      "  subdf[new_col] = subdf[old_col]\n"
     ]
    }
   ],
   "source": [
    "rename_target(catalysis_wo_catalyst, 'output1', 'product')\n",
    "rename_target(catalysis_wo_catalyst, 'input1',  'substrate')"
   ]
  },
  {
   "cell_type": "code",
   "execution_count": 57,
   "metadata": {},
   "outputs": [
    {
     "data": {
      "text/plain": [
       "378    rx00379\n",
       "Name: reaction_id, dtype: object"
      ]
     },
     "execution_count": 57,
     "metadata": {},
     "output_type": "execute_result"
    }
   ],
   "source": [
    "catalysis_wo_catalyst['reaction_id']"
   ]
  },
  {
   "cell_type": "code",
   "execution_count": 58,
   "metadata": {},
   "outputs": [
    {
     "name": "stdout",
     "output_type": "stream",
     "text": [
      "MetaboliteFamily    \t  1\t  1\n"
     ]
    }
   ],
   "source": [
    "# binding substrate edges\n",
    "want_cols = reaction_standard_columns + substrate_cols\n",
    "\n",
    "for t, this_subdf in catalysis_wo_catalyst.groupby(\"substrate_label\"):\n",
    "    f = f\"{reaction_type}-{t}-substrate_edges.tsv\"\n",
    "    this_subdf[want_cols].to_csv(f\"../data/import/{f}\", index=None, sep=\"\\t\")\n",
    "    \n",
    "    query = helpers.make_create_reaction_edge_query(f, 'SUBSTRATE', \n",
    "                                                    \"substrate\", \"dne\",\n",
    "                                                    source_label=t, \n",
    "                                                    target_label=\"Reaction\", \n",
    "                                                    target_name=\"line.reaction_id\"\n",
    "                                                   )\n",
    "\n",
    "    qr = graph.run(query)\n",
    "\n",
    "    pretty_print_result(t, this_subdf, qr, 'relationships')\n"
   ]
  },
  {
   "cell_type": "code",
   "execution_count": 59,
   "metadata": {},
   "outputs": [],
   "source": [
    "f = f\"{reaction_type}-product_edges.tsv\"\n",
    "want_cols = reaction_standard_columns + product_cols\n",
    "catalysis_wo_catalyst[want_cols].to_csv(f'../data/import/{f}', sep=\"\\t\", index=None)"
   ]
  },
  {
   "cell_type": "code",
   "execution_count": 60,
   "metadata": {},
   "outputs": [
    {
     "name": "stdout",
     "output_type": "stream",
     "text": [
      "-                   \t  1\t  1\n"
     ]
    }
   ],
   "source": [
    "# binding product edges\n",
    "query = helpers.make_create_reaction_edge_query(f, \"PRODUCT\", \n",
    "                                                \"dne\", \"product\",\n",
    "                                                source_name=\"line.reaction_id\", \n",
    "                                                source_label=\"Reaction\"\n",
    "                                               )\n",
    "qr = graph.run(query)\n",
    "pretty_print_result('-', catalysis_wo_catalyst, qr, 'relationships')"
   ]
  },
  {
   "cell_type": "code",
   "execution_count": null,
   "metadata": {},
   "outputs": [],
   "source": []
  },
  {
   "cell_type": "code",
   "execution_count": 61,
   "metadata": {},
   "outputs": [
    {
     "data": {
      "text/plain": [
       "101"
      ]
     },
     "execution_count": 61,
     "metadata": {},
     "output_type": "execute_result"
    }
   ],
   "source": [
    "q = '''MATCH ()-[r:SUBSTRATE {reaction_type:\"catalysis/auto-catalysis\"}]->() RETURN r'''\n",
    "c = graph.run(q).data()\n",
    "len(c) # should be ??"
   ]
  },
  {
   "cell_type": "code",
   "execution_count": 62,
   "metadata": {},
   "outputs": [
    {
     "data": {
      "text/plain": [
       "79"
      ]
     },
     "execution_count": 62,
     "metadata": {},
     "output_type": "execute_result"
    }
   ],
   "source": [
    "q = '''MATCH ()-[r:PRODUCT {reaction_type:\"catalysis/auto-catalysis\"}]->() RETURN r'''\n",
    "c = graph.run(q).data()\n",
    "len(c) # should be ??"
   ]
  },
  {
   "cell_type": "markdown",
   "metadata": {},
   "source": [
    "## dissociation"
   ]
  },
  {
   "cell_type": "code",
   "execution_count": 63,
   "metadata": {},
   "outputs": [
    {
     "name": "stdout",
     "output_type": "stream",
     "text": [
      "DISSOCIATION 1\n"
     ]
    }
   ],
   "source": [
    "key = 'dissociation'\n",
    "reaction_type = 'DISSOCIATION'\n",
    "subdf = df_edges[df_edges['reaction_type'] == key].copy()\n",
    "print(reaction_type, subdf.shape[0])"
   ]
  },
  {
   "cell_type": "code",
   "execution_count": 64,
   "metadata": {
    "scrolled": false
   },
   "outputs": [
    {
     "data": {
      "text/html": [
       "<div>\n",
       "<style scoped>\n",
       "    .dataframe tbody tr th:only-of-type {\n",
       "        vertical-align: middle;\n",
       "    }\n",
       "\n",
       "    .dataframe tbody tr th {\n",
       "        vertical-align: top;\n",
       "    }\n",
       "\n",
       "    .dataframe thead th {\n",
       "        text-align: right;\n",
       "    }\n",
       "</style>\n",
       "<table border=\"1\" class=\"dataframe\">\n",
       "  <thead>\n",
       "    <tr style=\"text-align: right;\">\n",
       "      <th></th>\n",
       "      <th>Status</th>\n",
       "      <th>AddedBy</th>\n",
       "      <th>ConnID</th>\n",
       "      <th>Species</th>\n",
       "      <th>input1_ID</th>\n",
       "      <th>input1_level</th>\n",
       "      <th>input1_localisation</th>\n",
       "      <th>input1_type</th>\n",
       "      <th>input2_ID</th>\n",
       "      <th>input2_level</th>\n",
       "      <th>...</th>\n",
       "      <th>output1_ath_homologues</th>\n",
       "      <th>output1_stu_homologues</th>\n",
       "      <th>output1_sly_homologues</th>\n",
       "      <th>output1_osa_homologues</th>\n",
       "      <th>input1_location</th>\n",
       "      <th>input2_location</th>\n",
       "      <th>input3_location</th>\n",
       "      <th>output1_location</th>\n",
       "      <th>reaction_type</th>\n",
       "      <th>reaction_id</th>\n",
       "    </tr>\n",
       "  </thead>\n",
       "  <tbody>\n",
       "    <tr>\n",
       "      <th>95</th>\n",
       "      <td>forCB</td>\n",
       "      <td>KG</td>\n",
       "      <td>Conn096</td>\n",
       "      <td>ath</td>\n",
       "      <td>NPR1|NPR1</td>\n",
       "      <td>family</td>\n",
       "      <td>cytoplasm</td>\n",
       "      <td>complex</td>\n",
       "      <td>TRX-H</td>\n",
       "      <td>family</td>\n",
       "      <td>...</td>\n",
       "      <td>AT1G64280</td>\n",
       "      <td></td>\n",
       "      <td></td>\n",
       "      <td></td>\n",
       "      <td>cytoplasm</td>\n",
       "      <td>cytoplasm</td>\n",
       "      <td>putative:cytoplasm</td>\n",
       "      <td>cytoplasm</td>\n",
       "      <td>dissociation</td>\n",
       "      <td>rx00096</td>\n",
       "    </tr>\n",
       "  </tbody>\n",
       "</table>\n",
       "<p>1 rows × 65 columns</p>\n",
       "</div>"
      ],
      "text/plain": [
       "   Status AddedBy   ConnID Species  input1_ID input1_level  \\\n",
       "95  forCB      KG  Conn096     ath  NPR1|NPR1       family   \n",
       "\n",
       "   input1_localisation input1_type input2_ID input2_level  ...  \\\n",
       "95           cytoplasm     complex     TRX-H       family  ...   \n",
       "\n",
       "   output1_ath_homologues output1_stu_homologues output1_sly_homologues  \\\n",
       "95              AT1G64280                                                 \n",
       "\n",
       "   output1_osa_homologues input1_location input2_location     input3_location  \\\n",
       "95                              cytoplasm       cytoplasm  putative:cytoplasm   \n",
       "\n",
       "   output1_location reaction_type reaction_id  \n",
       "95        cytoplasm  dissociation     rx00096  \n",
       "\n",
       "[1 rows x 65 columns]"
      ]
     },
     "execution_count": 64,
     "metadata": {},
     "output_type": "execute_result"
    }
   ],
   "source": [
    "subdf"
   ]
  },
  {
   "cell_type": "code",
   "execution_count": 65,
   "metadata": {},
   "outputs": [],
   "source": [
    "rename_target(subdf, 'output1', 'product')\n",
    "rename_target(subdf, 'input1',  'substrate')\n",
    "rename_target(subdf, 'input2',  'catalyst')"
   ]
  },
  {
   "cell_type": "code",
   "execution_count": 66,
   "metadata": {},
   "outputs": [
    {
     "name": "stdout",
     "output_type": "stream",
     "text": [
      "Reaction            \t  1\t  1\n"
     ]
    }
   ],
   "source": [
    "# make reaction nodes\n",
    "f = f\"{reaction_type}-reaction.tsv\"\n",
    "subdf[reaction_standard_columns].to_csv(f\"../data/import/{f}\", sep=\"\\t\", index=None)\n",
    "query = helpers.reaction_node_query(f, name=\"line.reaction_id\")\n",
    "\n",
    "qr = graph.run(query)\n",
    "pretty_print_result('Reaction', subdf, qr, 'nodes')"
   ]
  },
  {
   "cell_type": "code",
   "execution_count": 67,
   "metadata": {},
   "outputs": [
    {
     "name": "stdout",
     "output_type": "stream",
     "text": [
      "-                   \t  1\t  1\n"
     ]
    }
   ],
   "source": [
    "# substrate to reaction edge\n",
    "f =  f\"{reaction_type}-{t}-substrate_edges.tsv\" \n",
    "want_cols = reaction_standard_columns + substrate_cols\n",
    "subdf.to_csv(f\"../data/import/{f}\", sep=\"\\t\", index=None)\n",
    "\n",
    "query = helpers.make_create_reaction_edge_query(f, 'SUBSTRATE',\n",
    "                                                \"substrate\", \"dne\", \n",
    "                                                target_label=\"Reaction\", \n",
    "                                                target_name=\"line.reaction_id\"\n",
    "                                                \n",
    "                              )\n",
    "qr = graph.run(query)\n",
    "pretty_print_result(\"-\", subdf, qr, 'relationships')"
   ]
  },
  {
   "cell_type": "code",
   "execution_count": 68,
   "metadata": {},
   "outputs": [
    {
     "name": "stdout",
     "output_type": "stream",
     "text": [
      "-                   \t  1\t  1\n"
     ]
    }
   ],
   "source": [
    "# catalyst to reaction edge\n",
    "\n",
    "f =  f\"{reaction_type}-{t}-catalyst_edges.tsv\" \n",
    "want_cols = reaction_standard_columns + catalyst_cols\n",
    "subdf.to_csv(f\"../data/import/{f}\", sep=\"\\t\", index=None)\n",
    "\n",
    "query = helpers.make_create_reaction_edge_query(f, 'ACTIVATES',\n",
    "                                                \"catalyst\" , \"dne\", \n",
    "                                                target_label=\"Reaction\", \n",
    "                                                target_name=\"line.reaction_id\"\n",
    "                              )\n",
    "qr = graph.run(query)\n",
    "pretty_print_result(\"-\", subdf, qr, 'relationships')"
   ]
  },
  {
   "cell_type": "code",
   "execution_count": 69,
   "metadata": {},
   "outputs": [
    {
     "name": "stdout",
     "output_type": "stream",
     "text": [
      "-                   \t  1\t  1\n"
     ]
    }
   ],
   "source": [
    "# product to reaction edge\n",
    "\n",
    "f =  f\"{reaction_type}-{t}-product_edges.tsv\" \n",
    "want_cols = reaction_standard_columns + product_cols\n",
    "subdf.to_csv(f\"../data/import/{f}\", sep=\"\\t\", index=None)\n",
    "\n",
    "query = helpers.make_create_reaction_edge_query(f, 'PRODUCT',\n",
    "                                                \"dne\" , \"product\", \n",
    "                                                source_name=\"line.reaction_id\", \n",
    "                                                source_label=\"Reaction\"\n",
    "                                               \n",
    "                              )\n",
    "qr = graph.run(query)\n",
    "pretty_print_result(\"-\", subdf, qr, 'relationships')"
   ]
  },
  {
   "cell_type": "markdown",
   "metadata": {},
   "source": [
    "## degradation"
   ]
  },
  {
   "cell_type": "code",
   "execution_count": 70,
   "metadata": {},
   "outputs": [
    {
     "name": "stdout",
     "output_type": "stream",
     "text": [
      "DEGRADATION_SECRETION 32\n"
     ]
    }
   ],
   "source": [
    "key = 'degradation/secretion'\n",
    "reaction_type = 'DEGRADATION_SECRETION'\n",
    "subdf = df_edges[df_edges['reaction_type'] == key].copy()\n",
    "print(reaction_type, subdf.shape[0])"
   ]
  },
  {
   "cell_type": "code",
   "execution_count": 71,
   "metadata": {},
   "outputs": [],
   "source": [
    "rename_target(subdf, 'input1',  'catalyst')\n",
    "rename_target(subdf, 'input2',  'substrate')"
   ]
  },
  {
   "cell_type": "code",
   "execution_count": 72,
   "metadata": {},
   "outputs": [
    {
     "name": "stdout",
     "output_type": "stream",
     "text": [
      "Reaction            \t 32\t 32\n"
     ]
    }
   ],
   "source": [
    "# make reaction nodes\n",
    "f = f\"{reaction_type}-reaction.tsv\"\n",
    "subdf[reaction_standard_columns].to_csv(f\"../data/import/{f}\", sep=\"\\t\", index=None)\n",
    "query = helpers.reaction_node_query(f, name=\"line.reaction_id\")\n",
    "\n",
    "qr = graph.run(query)\n",
    "pretty_print_result('Reaction', subdf, qr, 'nodes')"
   ]
  },
  {
   "cell_type": "code",
   "execution_count": 73,
   "metadata": {},
   "outputs": [
    {
     "name": "stdout",
     "output_type": "stream",
     "text": [
      "-                   \t 32\t 32\n"
     ]
    }
   ],
   "source": [
    "# substrate to reaction edge\n",
    "\n",
    "f =  f\"{reaction_type}-substrate_edges.tsv\" \n",
    "want_cols = reaction_standard_columns + substrate_cols\n",
    "subdf[want_cols].to_csv(f\"../data/import/{f}\", sep=\"\\t\", index=None)\n",
    "\n",
    "query = helpers.make_create_reaction_edge_query(f, 'SUBSTRATE',\n",
    "                                                \"substrate\", \"dne\", \n",
    "                                                target_label=\"Reaction\", \n",
    "                                                target_name=\"line.reaction_id\"\n",
    "                              )\n",
    "qr = graph.run(query)\n",
    "pretty_print_result('-', subdf, qr, 'relationships')"
   ]
  },
  {
   "cell_type": "code",
   "execution_count": 74,
   "metadata": {},
   "outputs": [
    {
     "name": "stdout",
     "output_type": "stream",
     "text": [
      "-                   \t 32\t 32\n"
     ]
    }
   ],
   "source": [
    "# catalyst to reaction edge\n",
    "\n",
    "f =  f\"{reaction_type}-catalyst_edges.tsv\" \n",
    "want_cols = reaction_standard_columns + catalyst_cols\n",
    "subdf[want_cols].to_csv(f\"../data/import/{f}\", sep=\"\\t\", index=None)\n",
    "\n",
    "query = helpers.make_create_reaction_edge_query(f, 'ACTIVATES',\n",
    "                                                \"catalyst\", \"dne\", \n",
    "                                                target_label=\"Reaction\", \n",
    "                                                target_name=\"line.reaction_id\"\n",
    "                              )\n",
    "qr = graph.run(query)\n",
    "pretty_print_result('-', subdf, qr, 'relationships')"
   ]
  },
  {
   "cell_type": "markdown",
   "metadata": {},
   "source": [
    "## translocation"
   ]
  },
  {
   "cell_type": "code",
   "execution_count": 75,
   "metadata": {},
   "outputs": [
    {
     "name": "stdout",
     "output_type": "stream",
     "text": [
      "TRANSLOCATION 5\n"
     ]
    }
   ],
   "source": [
    "key = 'translocation'\n",
    "reaction_type = 'TRANSLOCATION'\n",
    "subdf = df_edges[df_edges['reaction_type'] == key].copy()\n",
    "print(reaction_type, subdf.shape[0])"
   ]
  },
  {
   "cell_type": "code",
   "execution_count": 76,
   "metadata": {},
   "outputs": [],
   "source": [
    "rename_target(subdf, 'output1', 'product')\n",
    "rename_target(subdf, 'input1',  'substrate')\n",
    "rename_target(subdf, 'input2',  'catalyst')"
   ]
  },
  {
   "cell_type": "code",
   "execution_count": 77,
   "metadata": {},
   "outputs": [
    {
     "name": "stdout",
     "output_type": "stream",
     "text": [
      "Reaction            \t  5\t  5\n"
     ]
    }
   ],
   "source": [
    "# make reaction nodes\n",
    "f = f\"{reaction_type}-reaction.tsv\"\n",
    "subdf[reaction_standard_columns].to_csv(f\"../data/import/{f}\", sep=\"\\t\", index=None)\n",
    "query = helpers.reaction_node_query(f, name=\"line.reaction_id\")\n",
    "\n",
    "qr = graph.run(query)\n",
    "pretty_print_result('Reaction', subdf, qr, 'nodes')"
   ]
  },
  {
   "cell_type": "code",
   "execution_count": 78,
   "metadata": {},
   "outputs": [
    {
     "name": "stdout",
     "output_type": "stream",
     "text": [
      "-                   \t  5\t  5\n"
     ]
    }
   ],
   "source": [
    "# substrate to reaction edge\n",
    "\n",
    "f =  f\"{reaction_type}-substrate_edges.tsv\" \n",
    "want_cols = reaction_standard_columns + substrate_cols\n",
    "subdf[want_cols].to_csv(f\"../data/import/{f}\", sep=\"\\t\", index=None)\n",
    "\n",
    "query = helpers.make_create_reaction_edge_query(f, 'TRANSLOCATE_FROM',\n",
    "                                                \"substrate\", \"dne\", \n",
    "                                                target_label=\"Reaction\", \n",
    "                                                target_name=\"line.reaction_id\"\n",
    "                              )\n",
    "qr = graph.run(query)\n",
    "pretty_print_result('-', subdf, qr, 'relationships')"
   ]
  },
  {
   "cell_type": "code",
   "execution_count": 79,
   "metadata": {},
   "outputs": [
    {
     "name": "stdout",
     "output_type": "stream",
     "text": [
      "-                   \t  5\t  5\n"
     ]
    }
   ],
   "source": [
    "# catalyst to reaction edge\n",
    "\n",
    "f =  f\"{reaction_type}-catalyst_edges.tsv\" \n",
    "want_cols = reaction_standard_columns + catalyst_cols\n",
    "subdf[want_cols].to_csv(f\"../data/import/{f}\", sep=\"\\t\", index=None)\n",
    "\n",
    "query = helpers.make_create_reaction_edge_query(f, 'ACTIVATES',\n",
    "                                                \"catalyst\", \"dne\", \n",
    "                                                target_label=\"Reaction\", \n",
    "                                                target_name=\"line.reaction_id\"\n",
    "                              )\n",
    "qr = graph.run(query)\n",
    "pretty_print_result('-', subdf, qr, 'relationships')"
   ]
  },
  {
   "cell_type": "code",
   "execution_count": 80,
   "metadata": {},
   "outputs": [
    {
     "name": "stdout",
     "output_type": "stream",
     "text": [
      "-                   \t  5\t  5\n"
     ]
    }
   ],
   "source": [
    "# product edge\n",
    "f =  f\"{reaction_type}--product_edges.tsv\" \n",
    "want_cols = reaction_standard_columns + product_cols\n",
    "subdf[want_cols].to_csv(f\"../data/import/{f}\", sep=\"\\t\", index=None)\n",
    "\n",
    "query = helpers.make_create_reaction_edge_query(f, 'TRANSLOCATE_TO',\n",
    "                                                \"dne\" , \"product\", \n",
    "                                                source_name=\"line.reaction_id\", \n",
    "                                                source_label=\"Reaction\"\n",
    "                              )\n",
    "qr = graph.run(query)\n",
    "pretty_print_result('-', subdf, qr, 'relationships')"
   ]
  },
  {
   "cell_type": "markdown",
   "metadata": {},
   "source": [
    "## protein activation"
   ]
  },
  {
   "cell_type": "code",
   "execution_count": 81,
   "metadata": {},
   "outputs": [
    {
     "name": "stdout",
     "output_type": "stream",
     "text": [
      "PROTEIN_ACTIVATION 52\n"
     ]
    }
   ],
   "source": [
    "key = 'protein activation'\n",
    "reaction_type = 'PROTEIN_ACTIVATION'\n",
    "subdf = df_edges[df_edges['reaction_type'] == key].copy()\n",
    "print(reaction_type, subdf.shape[0])"
   ]
  },
  {
   "cell_type": "code",
   "execution_count": 82,
   "metadata": {},
   "outputs": [],
   "source": [
    "rename_target(subdf, 'output1', 'product')\n",
    "rename_target(subdf, 'input2',  'catalyst')\n",
    "rename_target(subdf, 'input1',  'substrate')"
   ]
  },
  {
   "cell_type": "code",
   "execution_count": 83,
   "metadata": {},
   "outputs": [
    {
     "name": "stdout",
     "output_type": "stream",
     "text": [
      "Reaction            \t 52\t 52\n"
     ]
    }
   ],
   "source": [
    "# make reaction nodes\n",
    "f = f\"{reaction_type}-reaction.tsv\"\n",
    "subdf[reaction_standard_columns].to_csv(f\"../data/import/{f}\", sep=\"\\t\", index=None)\n",
    "query = helpers.reaction_node_query(f, name=\"line.reaction_id\")\n",
    "\n",
    "qr = graph.run(query)\n",
    "pretty_print_result('Reaction', subdf, qr, 'nodes')"
   ]
  },
  {
   "cell_type": "code",
   "execution_count": 84,
   "metadata": {},
   "outputs": [
    {
     "name": "stdout",
     "output_type": "stream",
     "text": [
      "-                   \t 52\t 52\n"
     ]
    }
   ],
   "source": [
    "# substrate to reaction edge\n",
    "\n",
    "f =  f\"{reaction_type}-substrate_edges.tsv\" \n",
    "want_cols = reaction_standard_columns + substrate_cols\n",
    "subdf[want_cols].to_csv(f\"../data/import/{f}\", sep=\"\\t\", index=None)\n",
    "\n",
    "query = helpers.make_create_reaction_edge_query(f, 'SUBSTRATE',\n",
    "                                                \"substrate\", \"dne\", \n",
    "                                                target_label=\"Reaction\", \n",
    "                                                target_name=\"line.reaction_id\"\n",
    "                              )\n",
    "qr = graph.run(query)\n",
    "pretty_print_result('-', subdf, qr, 'relationships')"
   ]
  },
  {
   "cell_type": "code",
   "execution_count": 85,
   "metadata": {},
   "outputs": [
    {
     "name": "stdout",
     "output_type": "stream",
     "text": [
      "-                   \t 52\t 52\n"
     ]
    }
   ],
   "source": [
    "# catalyst to reaction edge\n",
    "\n",
    "f =  f\"{reaction_type}-catalyst_edges.tsv\" \n",
    "want_cols = reaction_standard_columns + catalyst_cols\n",
    "subdf[want_cols].to_csv(f\"../data/import/{f}\", sep=\"\\t\", index=None)\n",
    "\n",
    "query = helpers.make_create_reaction_edge_query(f, 'ACTIVATES',\n",
    "                                                \"catalyst\", \"dne\", \n",
    "                                                target_label=\"Reaction\", \n",
    "                                                target_name=\"line.reaction_id\"\n",
    "                              )\n",
    "qr = graph.run(query)\n",
    "pretty_print_result('-', subdf, qr, 'relationships')"
   ]
  },
  {
   "cell_type": "code",
   "execution_count": 86,
   "metadata": {},
   "outputs": [
    {
     "name": "stdout",
     "output_type": "stream",
     "text": [
      "-                   \t 52\t 52\n"
     ]
    }
   ],
   "source": [
    "# product to reaction edge\n",
    "f =  f\"{reaction_type}-product_edges.tsv\" \n",
    "want_cols = reaction_standard_columns + product_cols\n",
    "subdf[want_cols].to_csv(f\"../data/import/{f}\", sep=\"\\t\", index=None)\n",
    "\n",
    "query = helpers.make_create_reaction_edge_query(f, 'PRODUCT', \"dne\" , \"product\", \n",
    "                                                source_name=\"line.reaction_id\", \n",
    "                                                source_label=\"Reaction\"\n",
    "                              )\n",
    "qr = graph.run(query)\n",
    "pretty_print_result('-', subdf, qr, 'relationships')"
   ]
  },
  {
   "cell_type": "markdown",
   "metadata": {},
   "source": [
    "## protein deactivation"
   ]
  },
  {
   "cell_type": "code",
   "execution_count": 87,
   "metadata": {},
   "outputs": [
    {
     "name": "stdout",
     "output_type": "stream",
     "text": [
      "PROTEIN_DEACTIVATION 4\n"
     ]
    }
   ],
   "source": [
    "key = 'protein deactivation'\n",
    "reaction_type = 'PROTEIN_DEACTIVATION'\n",
    "subdf = df_edges[df_edges['reaction_type'] == key].copy()\n",
    "print(reaction_type, subdf.shape[0])"
   ]
  },
  {
   "cell_type": "code",
   "execution_count": 88,
   "metadata": {},
   "outputs": [],
   "source": [
    "rename_target(subdf, 'output1', 'product')\n",
    "rename_target(subdf, 'input2',  'substrate')\n",
    "rename_target(subdf, 'input1',  'catalyst')"
   ]
  },
  {
   "cell_type": "code",
   "execution_count": 89,
   "metadata": {},
   "outputs": [
    {
     "name": "stdout",
     "output_type": "stream",
     "text": [
      "Reaction            \t  4\t  4\n"
     ]
    }
   ],
   "source": [
    "# make reaction nodes\n",
    "f = f\"{reaction_type}-reaction.tsv\"\n",
    "subdf[reaction_standard_columns].to_csv(f\"../data/import/{f}\", sep=\"\\t\", index=None)\n",
    "query = helpers.reaction_node_query(f, name=\"line.reaction_id\")\n",
    "\n",
    "qr = graph.run(query)\n",
    "pretty_print_result('Reaction', subdf, qr, 'nodes')"
   ]
  },
  {
   "cell_type": "code",
   "execution_count": 90,
   "metadata": {},
   "outputs": [
    {
     "name": "stdout",
     "output_type": "stream",
     "text": [
      "-                   \t  4\t  4\n"
     ]
    }
   ],
   "source": [
    "# substrate to reaction edge\n",
    "\n",
    "f =  f\"{reaction_type}-substrate_edges.tsv\" \n",
    "want_cols = reaction_standard_columns + substrate_cols\n",
    "subdf[want_cols].to_csv(f\"../data/import/{f}\", sep=\"\\t\", index=None)\n",
    "\n",
    "query = helpers.make_create_reaction_edge_query(f, 'SUBSTRATE',\n",
    "                                                \"substrate\", \"dne\", \n",
    "                                                target_label=\"Reaction\", \n",
    "                                                target_name=\"line.reaction_id\"\n",
    "                              )\n",
    "qr = graph.run(query)\n",
    "pretty_print_result('-', subdf, qr, 'relationships')"
   ]
  },
  {
   "cell_type": "code",
   "execution_count": 91,
   "metadata": {},
   "outputs": [
    {
     "name": "stdout",
     "output_type": "stream",
     "text": [
      "-                   \t  4\t  4\n"
     ]
    }
   ],
   "source": [
    "# catalyst to reaction edge\n",
    "\n",
    "f =  f\"{reaction_type}-catalyst_edges.tsv\" \n",
    "want_cols = reaction_standard_columns + catalyst_cols\n",
    "subdf[want_cols].to_csv(f\"../data/import/{f}\", sep=\"\\t\", index=None)\n",
    "\n",
    "query = helpers.make_create_reaction_edge_query(f, 'ACTIVATES',\n",
    "                                                \"catalyst\", \"dne\", \n",
    "                                                target_label=\"Reaction\", \n",
    "                                                target_name=\"line.reaction_id\"\n",
    "                              )\n",
    "qr = graph.run(query)\n",
    "pretty_print_result('-', subdf, qr, 'relationships')"
   ]
  },
  {
   "cell_type": "code",
   "execution_count": 92,
   "metadata": {},
   "outputs": [
    {
     "name": "stdout",
     "output_type": "stream",
     "text": [
      "-                   \t  4\t  4\n"
     ]
    }
   ],
   "source": [
    "# product to reaction edge\n",
    "f =  f\"{reaction_type}-product_edges.tsv\" \n",
    "want_cols = reaction_standard_columns + product_cols\n",
    "subdf[want_cols].to_csv(f\"../data/import/{f}\", sep=\"\\t\", index=None)\n",
    "\n",
    "query = helpers.make_create_reaction_edge_query(f, 'PRODUCT', \"dne\" , \"product\", \n",
    "                                                source_name=\"line.reaction_id\", \n",
    "                                                source_label=\"Reaction\"\n",
    "                              )\n",
    "qr = graph.run(query)\n",
    "pretty_print_result('-', subdf, qr, 'relationships')"
   ]
  },
  {
   "cell_type": "code",
   "execution_count": 93,
   "metadata": {},
   "outputs": [
    {
     "name": "stdout",
     "output_type": "stream",
     "text": [
      "-                   \t  4\t  4\n"
     ]
    }
   ],
   "source": [
    "# catalyst to product edge\n",
    "f =  f\"{reaction_type}-product_edges.tsv\" \n",
    "want_cols = reaction_standard_columns + catalyst_cols + product_cols\n",
    "subdf.to_csv(f\"../data/import/{f}\", sep=\"\\t\", index=None)\n",
    "\n",
    "query = helpers.make_create_reaction_edge_query(f, 'PRODUCT',\n",
    "                                                \"catalyst\" , \"product\"\n",
    "                              )\n",
    "qr = graph.run(query)\n",
    "pretty_print_result('-', subdf, qr, 'relationships')"
   ]
  },
  {
   "cell_type": "markdown",
   "metadata": {},
   "source": [
    "## transcriptional / translational regulation"
   ]
  },
  {
   "cell_type": "code",
   "execution_count": 94,
   "metadata": {},
   "outputs": [
    {
     "name": "stdout",
     "output_type": "stream",
     "text": [
      "TRANSCRIPTIONAL_TRANSLATIONAL 79\n"
     ]
    }
   ],
   "source": [
    "reaction_type = 'TRANSCRIPTIONAL_TRANSLATIONAL'\n",
    "keys = ['transcriptional/translational induction', 'transcriptional/translational repression']\n",
    "subdf = df_edges[df_edges['reaction_type'].isin(keys)]\n",
    "print(reaction_type, subdf.shape[0])"
   ]
  },
  {
   "cell_type": "code",
   "execution_count": 95,
   "metadata": {},
   "outputs": [],
   "source": [
    "def number_input_different_reverse(df, homologues=True):\n",
    "    ''' If catalyst is True, they are the first \"input\" cols. \n",
    "    last one is left as substrate. '''\n",
    "\n",
    "    # two inputs, input1 -> catalyst\n",
    "    subdf2 = df[df[\"input3_newID\"].isna()].copy()\n",
    "    generate_list(subdf2, ['input1'], 'catalyst', homologues=homologues)\n",
    "    rename_target(subdf2, 'input2', 'substrate', homologues=homologues)\n",
    "\n",
    "    # three inputs, input1, input2 -> catalyst\n",
    "    subdf3 = df[~df[\"input3_newID\"].isna()].copy()\n",
    "    generate_list(subdf3, ['input1', 'input2'], 'catalyst', homologues=homologues)        \n",
    "    rename_target(subdf3, 'input3', 'substrate', homologues=homologues)\n",
    "     \n",
    "    # combine\n",
    "    new_subdf = subdf2.append(subdf3)\n",
    "    rename_target(new_subdf, 'output1', 'product', homologues=homologues)\n",
    "    \n",
    "    return new_subdf"
   ]
  },
  {
   "cell_type": "code",
   "execution_count": 96,
   "metadata": {},
   "outputs": [],
   "source": [
    "new_subdf = number_input_different_reverse(subdf, homologues=True)"
   ]
  },
  {
   "cell_type": "code",
   "execution_count": 97,
   "metadata": {},
   "outputs": [
    {
     "data": {
      "text/html": [
       "<div>\n",
       "<style scoped>\n",
       "    .dataframe tbody tr th:only-of-type {\n",
       "        vertical-align: middle;\n",
       "    }\n",
       "\n",
       "    .dataframe tbody tr th {\n",
       "        vertical-align: top;\n",
       "    }\n",
       "\n",
       "    .dataframe thead th {\n",
       "        text-align: right;\n",
       "    }\n",
       "</style>\n",
       "<table border=\"1\" class=\"dataframe\">\n",
       "  <thead>\n",
       "    <tr style=\"text-align: right;\">\n",
       "      <th></th>\n",
       "      <th>Status</th>\n",
       "      <th>ConnID</th>\n",
       "      <th>substrate_name</th>\n",
       "      <th>product_name</th>\n",
       "    </tr>\n",
       "  </thead>\n",
       "  <tbody>\n",
       "    <tr>\n",
       "      <th>44</th>\n",
       "      <td>_TBD</td>\n",
       "      <td>Conn045</td>\n",
       "      <td>OMR</td>\n",
       "      <td>COI1|OMR1</td>\n",
       "    </tr>\n",
       "    <tr>\n",
       "      <th>92</th>\n",
       "      <td>_TBD</td>\n",
       "      <td>Conn093</td>\n",
       "      <td>PAD4</td>\n",
       "      <td>NPR1|PAD4|TGA2,5,6</td>\n",
       "    </tr>\n",
       "    <tr>\n",
       "      <th>115</th>\n",
       "      <td>_TBD</td>\n",
       "      <td>Conn116</td>\n",
       "      <td>EDS5</td>\n",
       "      <td>EDS5|NPR1|TGA2,5,6</td>\n",
       "    </tr>\n",
       "    <tr>\n",
       "      <th>117</th>\n",
       "      <td>_TBD</td>\n",
       "      <td>Conn118</td>\n",
       "      <td>EDS1</td>\n",
       "      <td>EDS1|NPR1|TGA2,5,6</td>\n",
       "    </tr>\n",
       "    <tr>\n",
       "      <th>119</th>\n",
       "      <td>_TBD</td>\n",
       "      <td>Conn120</td>\n",
       "      <td>PAD4</td>\n",
       "      <td>NPR1|PAD4|TGA2,5,6</td>\n",
       "    </tr>\n",
       "    <tr>\n",
       "      <th>148</th>\n",
       "      <td>_TBD</td>\n",
       "      <td>Conn149</td>\n",
       "      <td>GST</td>\n",
       "      <td>GSTU24|ROS</td>\n",
       "    </tr>\n",
       "  </tbody>\n",
       "</table>\n",
       "</div>"
      ],
      "text/plain": [
       "    Status   ConnID substrate_name        product_name\n",
       "44    _TBD  Conn045            OMR           COI1|OMR1\n",
       "92    _TBD  Conn093           PAD4  NPR1|PAD4|TGA2,5,6\n",
       "115   _TBD  Conn116           EDS5  EDS5|NPR1|TGA2,5,6\n",
       "117   _TBD  Conn118           EDS1  EDS1|NPR1|TGA2,5,6\n",
       "119   _TBD  Conn120           PAD4  NPR1|PAD4|TGA2,5,6\n",
       "148   _TBD  Conn149            GST          GSTU24|ROS"
      ]
     },
     "execution_count": 97,
     "metadata": {},
     "output_type": "execute_result"
    }
   ],
   "source": [
    "new_subdf[new_subdf['substrate_name'] != new_subdf['product_name']][[\"Status\", \"ConnID\", 'substrate_name', 'product_name' ]]"
   ]
  },
  {
   "cell_type": "code",
   "execution_count": 98,
   "metadata": {
    "scrolled": true
   },
   "outputs": [
    {
     "data": {
      "text/html": [
       "<div>\n",
       "<style scoped>\n",
       "    .dataframe tbody tr th:only-of-type {\n",
       "        vertical-align: middle;\n",
       "    }\n",
       "\n",
       "    .dataframe tbody tr th {\n",
       "        vertical-align: top;\n",
       "    }\n",
       "\n",
       "    .dataframe thead th {\n",
       "        text-align: right;\n",
       "    }\n",
       "</style>\n",
       "<table border=\"1\" class=\"dataframe\">\n",
       "  <thead>\n",
       "    <tr style=\"text-align: right;\">\n",
       "      <th></th>\n",
       "      <th>Status</th>\n",
       "      <th>ConnID</th>\n",
       "      <th>substrate_name</th>\n",
       "      <th>substrate_form</th>\n",
       "      <th>substrate_label</th>\n",
       "      <th>substrate_location</th>\n",
       "    </tr>\n",
       "  </thead>\n",
       "  <tbody>\n",
       "    <tr>\n",
       "      <th>27</th>\n",
       "      <td>forCB</td>\n",
       "      <td>Conn028</td>\n",
       "      <td>LOX</td>\n",
       "      <td>gene</td>\n",
       "      <td>PlantCoding</td>\n",
       "      <td>chloroplast</td>\n",
       "    </tr>\n",
       "    <tr>\n",
       "      <th>97</th>\n",
       "      <td>forCB</td>\n",
       "      <td>Conn098</td>\n",
       "      <td>WRKY</td>\n",
       "      <td>gene</td>\n",
       "      <td>PlantCoding</td>\n",
       "      <td>cytoplasm</td>\n",
       "    </tr>\n",
       "    <tr>\n",
       "      <th>110</th>\n",
       "      <td>forCB</td>\n",
       "      <td>Conn111</td>\n",
       "      <td>TAS3</td>\n",
       "      <td>gene</td>\n",
       "      <td>PlantNonCoding</td>\n",
       "      <td>cytoplasm</td>\n",
       "    </tr>\n",
       "    <tr>\n",
       "      <th>123</th>\n",
       "      <td>forCB</td>\n",
       "      <td>Conn124</td>\n",
       "      <td>WRKY</td>\n",
       "      <td>gene</td>\n",
       "      <td>PlantCoding</td>\n",
       "      <td>cytoplasm</td>\n",
       "    </tr>\n",
       "    <tr>\n",
       "      <th>160</th>\n",
       "      <td>forCB</td>\n",
       "      <td>Conn161</td>\n",
       "      <td>PAD4</td>\n",
       "      <td>gene</td>\n",
       "      <td>PlantCoding</td>\n",
       "      <td>cytoplasm</td>\n",
       "    </tr>\n",
       "    <tr>\n",
       "      <th>186</th>\n",
       "      <td>forCB</td>\n",
       "      <td>Conn187</td>\n",
       "      <td>ICS</td>\n",
       "      <td>gene</td>\n",
       "      <td>PlantCoding</td>\n",
       "      <td>chloroplast</td>\n",
       "    </tr>\n",
       "    <tr>\n",
       "      <th>187</th>\n",
       "      <td>forCB</td>\n",
       "      <td>Conn188</td>\n",
       "      <td>ICS</td>\n",
       "      <td>gene</td>\n",
       "      <td>PlantCoding</td>\n",
       "      <td>chloroplast</td>\n",
       "    </tr>\n",
       "    <tr>\n",
       "      <th>188</th>\n",
       "      <td>forCB</td>\n",
       "      <td>Conn189</td>\n",
       "      <td>ICS</td>\n",
       "      <td>gene</td>\n",
       "      <td>PlantCoding</td>\n",
       "      <td>chloroplast</td>\n",
       "    </tr>\n",
       "    <tr>\n",
       "      <th>189</th>\n",
       "      <td>forCB</td>\n",
       "      <td>Conn190</td>\n",
       "      <td>ICS</td>\n",
       "      <td>gene</td>\n",
       "      <td>PlantCoding</td>\n",
       "      <td>chloroplast</td>\n",
       "    </tr>\n",
       "    <tr>\n",
       "      <th>192</th>\n",
       "      <td>forCB</td>\n",
       "      <td>Conn193</td>\n",
       "      <td>ACO</td>\n",
       "      <td>gene</td>\n",
       "      <td>PlantCoding</td>\n",
       "      <td>endoplasmic reticulum</td>\n",
       "    </tr>\n",
       "    <tr>\n",
       "      <th>208</th>\n",
       "      <td>forCB</td>\n",
       "      <td>Conn209</td>\n",
       "      <td>OPR</td>\n",
       "      <td>gene</td>\n",
       "      <td>PlantCoding</td>\n",
       "      <td>peroxisome</td>\n",
       "    </tr>\n",
       "    <tr>\n",
       "      <th>239</th>\n",
       "      <td>forCB</td>\n",
       "      <td>Conn240</td>\n",
       "      <td>ICS</td>\n",
       "      <td>gene</td>\n",
       "      <td>PlantCoding</td>\n",
       "      <td>chloroplast</td>\n",
       "    </tr>\n",
       "    <tr>\n",
       "      <th>243</th>\n",
       "      <td>forCB</td>\n",
       "      <td>Conn244</td>\n",
       "      <td>WRKY</td>\n",
       "      <td>gene</td>\n",
       "      <td>PlantCoding</td>\n",
       "      <td>cytoplasm</td>\n",
       "    </tr>\n",
       "    <tr>\n",
       "      <th>244</th>\n",
       "      <td>forCB</td>\n",
       "      <td>Conn245</td>\n",
       "      <td>WRKY</td>\n",
       "      <td>gene</td>\n",
       "      <td>PlantCoding</td>\n",
       "      <td>cytoplasm</td>\n",
       "    </tr>\n",
       "    <tr>\n",
       "      <th>245</th>\n",
       "      <td>forCB</td>\n",
       "      <td>Conn246</td>\n",
       "      <td>WRKY</td>\n",
       "      <td>gene</td>\n",
       "      <td>PlantCoding</td>\n",
       "      <td>cytoplasm</td>\n",
       "    </tr>\n",
       "    <tr>\n",
       "      <th>246</th>\n",
       "      <td>forCB</td>\n",
       "      <td>Conn247</td>\n",
       "      <td>WRKY</td>\n",
       "      <td>gene</td>\n",
       "      <td>PlantCoding</td>\n",
       "      <td>cytoplasm</td>\n",
       "    </tr>\n",
       "    <tr>\n",
       "      <th>247</th>\n",
       "      <td>forCB</td>\n",
       "      <td>Conn248</td>\n",
       "      <td>ACS</td>\n",
       "      <td>gene</td>\n",
       "      <td>PlantCoding</td>\n",
       "      <td>endoplasmic reticulum</td>\n",
       "    </tr>\n",
       "    <tr>\n",
       "      <th>248</th>\n",
       "      <td>forCB</td>\n",
       "      <td>Conn249</td>\n",
       "      <td>ACS</td>\n",
       "      <td>gene</td>\n",
       "      <td>PlantCoding</td>\n",
       "      <td>endoplasmic reticulum</td>\n",
       "    </tr>\n",
       "    <tr>\n",
       "      <th>253</th>\n",
       "      <td>forCB</td>\n",
       "      <td>Conn254</td>\n",
       "      <td>ICS</td>\n",
       "      <td>gene</td>\n",
       "      <td>PlantCoding</td>\n",
       "      <td>chloroplast</td>\n",
       "    </tr>\n",
       "    <tr>\n",
       "      <th>254</th>\n",
       "      <td>forCB</td>\n",
       "      <td>Conn255</td>\n",
       "      <td>ICS</td>\n",
       "      <td>gene</td>\n",
       "      <td>PlantCoding</td>\n",
       "      <td>chloroplast</td>\n",
       "    </tr>\n",
       "    <tr>\n",
       "      <th>255</th>\n",
       "      <td>forCB</td>\n",
       "      <td>Conn256</td>\n",
       "      <td>ICS</td>\n",
       "      <td>gene</td>\n",
       "      <td>PlantCoding</td>\n",
       "      <td>chloroplast</td>\n",
       "    </tr>\n",
       "    <tr>\n",
       "      <th>276</th>\n",
       "      <td>forCB</td>\n",
       "      <td>Conn277</td>\n",
       "      <td>GA20ox</td>\n",
       "      <td>gene</td>\n",
       "      <td>PlantCoding</td>\n",
       "      <td>putative:cytoplasm</td>\n",
       "    </tr>\n",
       "    <tr>\n",
       "      <th>277</th>\n",
       "      <td>forCB</td>\n",
       "      <td>Conn278</td>\n",
       "      <td>GA20ox</td>\n",
       "      <td>gene</td>\n",
       "      <td>PlantCoding</td>\n",
       "      <td>putative:cytoplasm</td>\n",
       "    </tr>\n",
       "    <tr>\n",
       "      <th>278</th>\n",
       "      <td>forCB</td>\n",
       "      <td>Conn279</td>\n",
       "      <td>GA20ox</td>\n",
       "      <td>gene</td>\n",
       "      <td>PlantCoding</td>\n",
       "      <td>putative:cytoplasm</td>\n",
       "    </tr>\n",
       "    <tr>\n",
       "      <th>279</th>\n",
       "      <td>forCB</td>\n",
       "      <td>Conn280</td>\n",
       "      <td>GA20ox</td>\n",
       "      <td>gene</td>\n",
       "      <td>PlantCoding</td>\n",
       "      <td>putative:cytoplasm</td>\n",
       "    </tr>\n",
       "    <tr>\n",
       "      <th>280</th>\n",
       "      <td>forCB</td>\n",
       "      <td>Conn281</td>\n",
       "      <td>GA20ox</td>\n",
       "      <td>gene</td>\n",
       "      <td>PlantCoding</td>\n",
       "      <td>putative:cytoplasm</td>\n",
       "    </tr>\n",
       "    <tr>\n",
       "      <th>301</th>\n",
       "      <td>forCB</td>\n",
       "      <td>Conn302</td>\n",
       "      <td>MYB</td>\n",
       "      <td>gene</td>\n",
       "      <td>PlantCoding</td>\n",
       "      <td>putative:cytoplasm</td>\n",
       "    </tr>\n",
       "    <tr>\n",
       "      <th>302</th>\n",
       "      <td>forCB</td>\n",
       "      <td>Conn303</td>\n",
       "      <td>MYB</td>\n",
       "      <td>gene</td>\n",
       "      <td>PlantCoding</td>\n",
       "      <td>putative:cytoplasm</td>\n",
       "    </tr>\n",
       "    <tr>\n",
       "      <th>303</th>\n",
       "      <td>forCB</td>\n",
       "      <td>Conn304</td>\n",
       "      <td>MYB</td>\n",
       "      <td>gene</td>\n",
       "      <td>PlantCoding</td>\n",
       "      <td>putative:cytoplasm</td>\n",
       "    </tr>\n",
       "    <tr>\n",
       "      <th>307</th>\n",
       "      <td>forCB</td>\n",
       "      <td>Conn308</td>\n",
       "      <td>MYB</td>\n",
       "      <td>gene</td>\n",
       "      <td>PlantCoding</td>\n",
       "      <td>putative:cytoplasm</td>\n",
       "    </tr>\n",
       "    <tr>\n",
       "      <th>308</th>\n",
       "      <td>forCB</td>\n",
       "      <td>Conn309</td>\n",
       "      <td>NPR</td>\n",
       "      <td>gene</td>\n",
       "      <td>PlantCoding</td>\n",
       "      <td>putative:cytoplasm</td>\n",
       "    </tr>\n",
       "    <tr>\n",
       "      <th>390</th>\n",
       "      <td>[TBD]</td>\n",
       "      <td>Conn405</td>\n",
       "      <td>ARR</td>\n",
       "      <td>gene</td>\n",
       "      <td>PlantCoding</td>\n",
       "      <td>putative:cytoplasm</td>\n",
       "    </tr>\n",
       "    <tr>\n",
       "      <th>393</th>\n",
       "      <td>NaN</td>\n",
       "      <td>Conn408</td>\n",
       "      <td>PR1</td>\n",
       "      <td>gene</td>\n",
       "      <td>PlantCoding</td>\n",
       "      <td>putative:cytoplasm</td>\n",
       "    </tr>\n",
       "    <tr>\n",
       "      <th>156</th>\n",
       "      <td>_TBD</td>\n",
       "      <td>Conn157</td>\n",
       "      <td>NAC</td>\n",
       "      <td>gene</td>\n",
       "      <td>PlantCoding</td>\n",
       "      <td>putative:cytoplasm</td>\n",
       "    </tr>\n",
       "  </tbody>\n",
       "</table>\n",
       "</div>"
      ],
      "text/plain": [
       "    Status   ConnID substrate_name substrate_form substrate_label  \\\n",
       "27   forCB  Conn028            LOX           gene     PlantCoding   \n",
       "97   forCB  Conn098           WRKY           gene     PlantCoding   \n",
       "110  forCB  Conn111           TAS3           gene  PlantNonCoding   \n",
       "123  forCB  Conn124           WRKY           gene     PlantCoding   \n",
       "160  forCB  Conn161           PAD4           gene     PlantCoding   \n",
       "186  forCB  Conn187            ICS           gene     PlantCoding   \n",
       "187  forCB  Conn188            ICS           gene     PlantCoding   \n",
       "188  forCB  Conn189            ICS           gene     PlantCoding   \n",
       "189  forCB  Conn190            ICS           gene     PlantCoding   \n",
       "192  forCB  Conn193            ACO           gene     PlantCoding   \n",
       "208  forCB  Conn209            OPR           gene     PlantCoding   \n",
       "239  forCB  Conn240            ICS           gene     PlantCoding   \n",
       "243  forCB  Conn244           WRKY           gene     PlantCoding   \n",
       "244  forCB  Conn245           WRKY           gene     PlantCoding   \n",
       "245  forCB  Conn246           WRKY           gene     PlantCoding   \n",
       "246  forCB  Conn247           WRKY           gene     PlantCoding   \n",
       "247  forCB  Conn248            ACS           gene     PlantCoding   \n",
       "248  forCB  Conn249            ACS           gene     PlantCoding   \n",
       "253  forCB  Conn254            ICS           gene     PlantCoding   \n",
       "254  forCB  Conn255            ICS           gene     PlantCoding   \n",
       "255  forCB  Conn256            ICS           gene     PlantCoding   \n",
       "276  forCB  Conn277         GA20ox           gene     PlantCoding   \n",
       "277  forCB  Conn278         GA20ox           gene     PlantCoding   \n",
       "278  forCB  Conn279         GA20ox           gene     PlantCoding   \n",
       "279  forCB  Conn280         GA20ox           gene     PlantCoding   \n",
       "280  forCB  Conn281         GA20ox           gene     PlantCoding   \n",
       "301  forCB  Conn302            MYB           gene     PlantCoding   \n",
       "302  forCB  Conn303            MYB           gene     PlantCoding   \n",
       "303  forCB  Conn304            MYB           gene     PlantCoding   \n",
       "307  forCB  Conn308            MYB           gene     PlantCoding   \n",
       "308  forCB  Conn309            NPR           gene     PlantCoding   \n",
       "390  [TBD]  Conn405            ARR           gene     PlantCoding   \n",
       "393    NaN  Conn408            PR1           gene     PlantCoding   \n",
       "156   _TBD  Conn157            NAC           gene     PlantCoding   \n",
       "\n",
       "        substrate_location  \n",
       "27             chloroplast  \n",
       "97               cytoplasm  \n",
       "110              cytoplasm  \n",
       "123              cytoplasm  \n",
       "160              cytoplasm  \n",
       "186            chloroplast  \n",
       "187            chloroplast  \n",
       "188            chloroplast  \n",
       "189            chloroplast  \n",
       "192  endoplasmic reticulum  \n",
       "208             peroxisome  \n",
       "239            chloroplast  \n",
       "243              cytoplasm  \n",
       "244              cytoplasm  \n",
       "245              cytoplasm  \n",
       "246              cytoplasm  \n",
       "247  endoplasmic reticulum  \n",
       "248  endoplasmic reticulum  \n",
       "253            chloroplast  \n",
       "254            chloroplast  \n",
       "255            chloroplast  \n",
       "276     putative:cytoplasm  \n",
       "277     putative:cytoplasm  \n",
       "278     putative:cytoplasm  \n",
       "279     putative:cytoplasm  \n",
       "280     putative:cytoplasm  \n",
       "301     putative:cytoplasm  \n",
       "302     putative:cytoplasm  \n",
       "303     putative:cytoplasm  \n",
       "307     putative:cytoplasm  \n",
       "308     putative:cytoplasm  \n",
       "390     putative:cytoplasm  \n",
       "393     putative:cytoplasm  \n",
       "156     putative:cytoplasm  "
      ]
     },
     "execution_count": 98,
     "metadata": {},
     "output_type": "execute_result"
    }
   ],
   "source": [
    "new_subdf[(  (new_subdf['substrate_form'] == 'gene') & (new_subdf['substrate_location'] != 'nucleus')  )][[\"Status\", \"ConnID\"] + substrate_cols_wo_homologues]"
   ]
  },
  {
   "cell_type": "code",
   "execution_count": 99,
   "metadata": {},
   "outputs": [],
   "source": [
    "#manualfix\n",
    "new_subdf.loc[(  (new_subdf['substrate_form'] == 'gene') & (new_subdf['substrate_location'] != 'nucleus')  ), 'substrate_location'] = 'nucleus'"
   ]
  },
  {
   "cell_type": "code",
   "execution_count": 100,
   "metadata": {},
   "outputs": [
    {
     "data": {
      "text/html": [
       "<div>\n",
       "<style scoped>\n",
       "    .dataframe tbody tr th:only-of-type {\n",
       "        vertical-align: middle;\n",
       "    }\n",
       "\n",
       "    .dataframe tbody tr th {\n",
       "        vertical-align: top;\n",
       "    }\n",
       "\n",
       "    .dataframe thead th {\n",
       "        text-align: right;\n",
       "    }\n",
       "</style>\n",
       "<table border=\"1\" class=\"dataframe\">\n",
       "  <thead>\n",
       "    <tr style=\"text-align: right;\">\n",
       "      <th></th>\n",
       "      <th>Status</th>\n",
       "      <th>AddedBy</th>\n",
       "      <th>ConnID</th>\n",
       "      <th>Species</th>\n",
       "      <th>input1_ID</th>\n",
       "      <th>input1_level</th>\n",
       "      <th>input1_localisation</th>\n",
       "      <th>input1_type</th>\n",
       "      <th>input2_ID</th>\n",
       "      <th>input2_level</th>\n",
       "      <th>...</th>\n",
       "      <th>substrate_stu_homologues</th>\n",
       "      <th>substrate_sly_homologues</th>\n",
       "      <th>product_name</th>\n",
       "      <th>product_location</th>\n",
       "      <th>product_label</th>\n",
       "      <th>product_form</th>\n",
       "      <th>product_ath_homologues</th>\n",
       "      <th>product_osa_homologues</th>\n",
       "      <th>product_stu_homologues</th>\n",
       "      <th>product_sly_homologues</th>\n",
       "    </tr>\n",
       "  </thead>\n",
       "  <tbody>\n",
       "    <tr>\n",
       "      <th>110</th>\n",
       "      <td>forCB</td>\n",
       "      <td>KG</td>\n",
       "      <td>Conn111</td>\n",
       "      <td>ath</td>\n",
       "      <td>MIR390</td>\n",
       "      <td>family</td>\n",
       "      <td>cytoplasm</td>\n",
       "      <td>ncRNA</td>\n",
       "      <td>TAS3</td>\n",
       "      <td>family</td>\n",
       "      <td>...</td>\n",
       "      <td></td>\n",
       "      <td></td>\n",
       "      <td>TAS3</td>\n",
       "      <td>cytoplasm</td>\n",
       "      <td>PlantNonCoding</td>\n",
       "      <td>ncRNA</td>\n",
       "      <td>AT3G17185,AT5G49615</td>\n",
       "      <td></td>\n",
       "      <td></td>\n",
       "      <td></td>\n",
       "    </tr>\n",
       "  </tbody>\n",
       "</table>\n",
       "<p>1 rows × 89 columns</p>\n",
       "</div>"
      ],
      "text/plain": [
       "    Status AddedBy   ConnID Species input1_ID input1_level  \\\n",
       "110  forCB      KG  Conn111     ath    MIR390       family   \n",
       "\n",
       "    input1_localisation input1_type input2_ID input2_level  ...  \\\n",
       "110           cytoplasm       ncRNA      TAS3       family  ...   \n",
       "\n",
       "    substrate_stu_homologues substrate_sly_homologues product_name  \\\n",
       "110                                                           TAS3   \n",
       "\n",
       "    product_location   product_label product_form product_ath_homologues  \\\n",
       "110        cytoplasm  PlantNonCoding        ncRNA    AT3G17185,AT5G49615   \n",
       "\n",
       "    product_osa_homologues product_stu_homologues product_sly_homologues  \n",
       "110                                                                       \n",
       "\n",
       "[1 rows x 89 columns]"
      ]
     },
     "execution_count": 100,
     "metadata": {},
     "output_type": "execute_result"
    }
   ],
   "source": [
    "new_subdf[(  (new_subdf['product_form'].isin(['rna', 'ncRNA']) ))]#& (new_subdf['substrate_location'] != 'nucleus')  )][[\"Status\", \"ConnID\"] + substrate_cols_wo_homologues]"
   ]
  },
  {
   "cell_type": "code",
   "execution_count": 101,
   "metadata": {},
   "outputs": [
    {
     "data": {
      "text/html": [
       "<div>\n",
       "<style scoped>\n",
       "    .dataframe tbody tr th:only-of-type {\n",
       "        vertical-align: middle;\n",
       "    }\n",
       "\n",
       "    .dataframe tbody tr th {\n",
       "        vertical-align: top;\n",
       "    }\n",
       "\n",
       "    .dataframe thead th {\n",
       "        text-align: right;\n",
       "    }\n",
       "</style>\n",
       "<table border=\"1\" class=\"dataframe\">\n",
       "  <thead>\n",
       "    <tr style=\"text-align: right;\">\n",
       "      <th></th>\n",
       "      <th>Status</th>\n",
       "      <th>ConnID</th>\n",
       "      <th>substrate_name</th>\n",
       "      <th>substrate_form</th>\n",
       "      <th>substrate_label</th>\n",
       "      <th>substrate_location</th>\n",
       "    </tr>\n",
       "  </thead>\n",
       "  <tbody>\n",
       "  </tbody>\n",
       "</table>\n",
       "</div>"
      ],
      "text/plain": [
       "Empty DataFrame\n",
       "Columns: [Status, ConnID, substrate_name, substrate_form, substrate_label, substrate_location]\n",
       "Index: []"
      ]
     },
     "execution_count": 101,
     "metadata": {},
     "output_type": "execute_result"
    }
   ],
   "source": [
    "new_subdf[(  (new_subdf['substrate_form'].isin(['rna', 'ncRNA'])) & (new_subdf['substrate_location'] != 'cytoplams')  )][[\"Status\", \"ConnID\"] + substrate_cols_wo_homologues]"
   ]
  },
  {
   "cell_type": "code",
   "execution_count": 102,
   "metadata": {
    "scrolled": true
   },
   "outputs": [
    {
     "data": {
      "text/html": [
       "<div>\n",
       "<style scoped>\n",
       "    .dataframe tbody tr th:only-of-type {\n",
       "        vertical-align: middle;\n",
       "    }\n",
       "\n",
       "    .dataframe tbody tr th {\n",
       "        vertical-align: top;\n",
       "    }\n",
       "\n",
       "    .dataframe thead th {\n",
       "        text-align: right;\n",
       "    }\n",
       "</style>\n",
       "<table border=\"1\" class=\"dataframe\">\n",
       "  <thead>\n",
       "    <tr style=\"text-align: right;\">\n",
       "      <th></th>\n",
       "      <th>Status</th>\n",
       "      <th>ConnID</th>\n",
       "      <th>product_name</th>\n",
       "      <th>product_form</th>\n",
       "      <th>product_label</th>\n",
       "      <th>product_location</th>\n",
       "    </tr>\n",
       "  </thead>\n",
       "  <tbody>\n",
       "    <tr>\n",
       "      <th>11</th>\n",
       "      <td>forCB</td>\n",
       "      <td>Conn012</td>\n",
       "      <td>EBF</td>\n",
       "      <td>protein</td>\n",
       "      <td>PlantCoding</td>\n",
       "      <td>nucleus</td>\n",
       "    </tr>\n",
       "    <tr>\n",
       "      <th>20</th>\n",
       "      <td>forCB</td>\n",
       "      <td>Conn021</td>\n",
       "      <td>PR3</td>\n",
       "      <td>protein</td>\n",
       "      <td>PlantCoding</td>\n",
       "      <td>nucleus</td>\n",
       "    </tr>\n",
       "    <tr>\n",
       "      <th>21</th>\n",
       "      <td>forCB</td>\n",
       "      <td>Conn022</td>\n",
       "      <td>PR4</td>\n",
       "      <td>protein</td>\n",
       "      <td>PlantCoding</td>\n",
       "      <td>nucleus</td>\n",
       "    </tr>\n",
       "    <tr>\n",
       "      <th>24</th>\n",
       "      <td>forCB</td>\n",
       "      <td>Conn025</td>\n",
       "      <td>PDF1</td>\n",
       "      <td>protein</td>\n",
       "      <td>PlantCoding</td>\n",
       "      <td>nucleus</td>\n",
       "    </tr>\n",
       "    <tr>\n",
       "      <th>27</th>\n",
       "      <td>forCB</td>\n",
       "      <td>Conn028</td>\n",
       "      <td>LOX</td>\n",
       "      <td>protein</td>\n",
       "      <td>PlantCoding</td>\n",
       "      <td>chloroplast</td>\n",
       "    </tr>\n",
       "    <tr>\n",
       "      <th>45</th>\n",
       "      <td>forCB</td>\n",
       "      <td>Conn046</td>\n",
       "      <td>JAZ</td>\n",
       "      <td>protein</td>\n",
       "      <td>PlantCoding</td>\n",
       "      <td>nucleus</td>\n",
       "    </tr>\n",
       "    <tr>\n",
       "      <th>47</th>\n",
       "      <td>forCB</td>\n",
       "      <td>Conn048</td>\n",
       "      <td>MYC</td>\n",
       "      <td>protein</td>\n",
       "      <td>PlantCoding</td>\n",
       "      <td>nucleus</td>\n",
       "    </tr>\n",
       "    <tr>\n",
       "      <th>48</th>\n",
       "      <td>forCB</td>\n",
       "      <td>Conn049</td>\n",
       "      <td>CLH</td>\n",
       "      <td>protein</td>\n",
       "      <td>PlantCoding</td>\n",
       "      <td>nucleus</td>\n",
       "    </tr>\n",
       "    <tr>\n",
       "      <th>49</th>\n",
       "      <td>forCB</td>\n",
       "      <td>Conn050</td>\n",
       "      <td>JAL</td>\n",
       "      <td>protein</td>\n",
       "      <td>PlantCoding</td>\n",
       "      <td>nucleus</td>\n",
       "    </tr>\n",
       "    <tr>\n",
       "      <th>50</th>\n",
       "      <td>forCB</td>\n",
       "      <td>Conn051</td>\n",
       "      <td>PR13</td>\n",
       "      <td>protein</td>\n",
       "      <td>PlantCoding</td>\n",
       "      <td>nucleus</td>\n",
       "    </tr>\n",
       "    <tr>\n",
       "      <th>100</th>\n",
       "      <td>forCB</td>\n",
       "      <td>Conn101</td>\n",
       "      <td>PR1</td>\n",
       "      <td>protein</td>\n",
       "      <td>PlantCoding</td>\n",
       "      <td>nucleus</td>\n",
       "    </tr>\n",
       "    <tr>\n",
       "      <th>101</th>\n",
       "      <td>forCB</td>\n",
       "      <td>Conn102</td>\n",
       "      <td>BG</td>\n",
       "      <td>protein</td>\n",
       "      <td>PlantCoding</td>\n",
       "      <td>nucleus</td>\n",
       "    </tr>\n",
       "    <tr>\n",
       "      <th>102</th>\n",
       "      <td>forCB</td>\n",
       "      <td>Conn103</td>\n",
       "      <td>PR5</td>\n",
       "      <td>protein</td>\n",
       "      <td>PlantCoding</td>\n",
       "      <td>nucleus</td>\n",
       "    </tr>\n",
       "    <tr>\n",
       "      <th>125</th>\n",
       "      <td>forCB</td>\n",
       "      <td>Conn126</td>\n",
       "      <td>SEN4</td>\n",
       "      <td>protein</td>\n",
       "      <td>PlantCoding</td>\n",
       "      <td>nucleus</td>\n",
       "    </tr>\n",
       "    <tr>\n",
       "      <th>126</th>\n",
       "      <td>forCB</td>\n",
       "      <td>Conn127</td>\n",
       "      <td>SAG12</td>\n",
       "      <td>protein</td>\n",
       "      <td>PlantCoding</td>\n",
       "      <td>nucleus</td>\n",
       "    </tr>\n",
       "    <tr>\n",
       "      <th>134</th>\n",
       "      <td>forCB</td>\n",
       "      <td>Conn135</td>\n",
       "      <td>PDF1</td>\n",
       "      <td>protein</td>\n",
       "      <td>PlantCoding</td>\n",
       "      <td>nucleus</td>\n",
       "    </tr>\n",
       "    <tr>\n",
       "      <th>147</th>\n",
       "      <td>forCB</td>\n",
       "      <td>Conn148</td>\n",
       "      <td>EDS1</td>\n",
       "      <td>protein</td>\n",
       "      <td>PlantCoding</td>\n",
       "      <td>nucleus</td>\n",
       "    </tr>\n",
       "    <tr>\n",
       "      <th>152</th>\n",
       "      <td>forCB</td>\n",
       "      <td>Conn153</td>\n",
       "      <td>MYB</td>\n",
       "      <td>protein</td>\n",
       "      <td>PlantCoding</td>\n",
       "      <td>nucleus</td>\n",
       "    </tr>\n",
       "    <tr>\n",
       "      <th>153</th>\n",
       "      <td>forCB</td>\n",
       "      <td>Conn154</td>\n",
       "      <td>ERF/EDF</td>\n",
       "      <td>protein</td>\n",
       "      <td>PlantCoding</td>\n",
       "      <td>nucleus</td>\n",
       "    </tr>\n",
       "    <tr>\n",
       "      <th>154</th>\n",
       "      <td>forCB</td>\n",
       "      <td>Conn155</td>\n",
       "      <td>PDF1</td>\n",
       "      <td>protein</td>\n",
       "      <td>PlantCoding</td>\n",
       "      <td>nucleus</td>\n",
       "    </tr>\n",
       "    <tr>\n",
       "      <th>157</th>\n",
       "      <td>forCB</td>\n",
       "      <td>Conn158</td>\n",
       "      <td>ERF/EDF</td>\n",
       "      <td>protein</td>\n",
       "      <td>PlantCoding</td>\n",
       "      <td>nucleus</td>\n",
       "    </tr>\n",
       "    <tr>\n",
       "      <th>162</th>\n",
       "      <td>forCB</td>\n",
       "      <td>Conn163</td>\n",
       "      <td>DELLA</td>\n",
       "      <td>protein</td>\n",
       "      <td>PlantCoding</td>\n",
       "      <td>nucleus</td>\n",
       "    </tr>\n",
       "    <tr>\n",
       "      <th>184</th>\n",
       "      <td>forCB</td>\n",
       "      <td>Conn185</td>\n",
       "      <td>EDS1</td>\n",
       "      <td>protein</td>\n",
       "      <td>PlantCoding</td>\n",
       "      <td>nucleus</td>\n",
       "    </tr>\n",
       "    <tr>\n",
       "      <th>185</th>\n",
       "      <td>forCB</td>\n",
       "      <td>Conn186</td>\n",
       "      <td>EIN3(like)</td>\n",
       "      <td>protein</td>\n",
       "      <td>PlantCoding</td>\n",
       "      <td>nucleus</td>\n",
       "    </tr>\n",
       "    <tr>\n",
       "      <th>186</th>\n",
       "      <td>forCB</td>\n",
       "      <td>Conn187</td>\n",
       "      <td>ICS</td>\n",
       "      <td>protein</td>\n",
       "      <td>PlantCoding</td>\n",
       "      <td>chloroplast</td>\n",
       "    </tr>\n",
       "    <tr>\n",
       "      <th>187</th>\n",
       "      <td>forCB</td>\n",
       "      <td>Conn188</td>\n",
       "      <td>ICS</td>\n",
       "      <td>protein</td>\n",
       "      <td>PlantCoding</td>\n",
       "      <td>chloroplast</td>\n",
       "    </tr>\n",
       "    <tr>\n",
       "      <th>188</th>\n",
       "      <td>forCB</td>\n",
       "      <td>Conn189</td>\n",
       "      <td>ICS</td>\n",
       "      <td>protein</td>\n",
       "      <td>PlantCoding</td>\n",
       "      <td>chloroplast</td>\n",
       "    </tr>\n",
       "    <tr>\n",
       "      <th>189</th>\n",
       "      <td>forCB</td>\n",
       "      <td>Conn190</td>\n",
       "      <td>ICS</td>\n",
       "      <td>protein</td>\n",
       "      <td>PlantCoding</td>\n",
       "      <td>chloroplast</td>\n",
       "    </tr>\n",
       "    <tr>\n",
       "      <th>192</th>\n",
       "      <td>forCB</td>\n",
       "      <td>Conn193</td>\n",
       "      <td>ACO</td>\n",
       "      <td>protein</td>\n",
       "      <td>PlantCoding</td>\n",
       "      <td>endoplasmic reticulum</td>\n",
       "    </tr>\n",
       "    <tr>\n",
       "      <th>195</th>\n",
       "      <td>_TBD</td>\n",
       "      <td>Conn196</td>\n",
       "      <td>COI1</td>\n",
       "      <td>protein</td>\n",
       "      <td>PlantCoding</td>\n",
       "      <td>nucleus</td>\n",
       "    </tr>\n",
       "    <tr>\n",
       "      <th>205</th>\n",
       "      <td>forCB</td>\n",
       "      <td>Conn206</td>\n",
       "      <td>ERF/EDF</td>\n",
       "      <td>protein</td>\n",
       "      <td>PlantCoding</td>\n",
       "      <td>nucleus</td>\n",
       "    </tr>\n",
       "    <tr>\n",
       "      <th>208</th>\n",
       "      <td>forCB</td>\n",
       "      <td>Conn209</td>\n",
       "      <td>OPR</td>\n",
       "      <td>protein</td>\n",
       "      <td>PlantCoding</td>\n",
       "      <td>peroxisome</td>\n",
       "    </tr>\n",
       "    <tr>\n",
       "      <th>239</th>\n",
       "      <td>forCB</td>\n",
       "      <td>Conn240</td>\n",
       "      <td>ICS</td>\n",
       "      <td>protein</td>\n",
       "      <td>PlantCoding</td>\n",
       "      <td>chloroplast</td>\n",
       "    </tr>\n",
       "    <tr>\n",
       "      <th>247</th>\n",
       "      <td>forCB</td>\n",
       "      <td>Conn248</td>\n",
       "      <td>ACS</td>\n",
       "      <td>protein</td>\n",
       "      <td>PlantCoding</td>\n",
       "      <td>endoplasmic reticulum</td>\n",
       "    </tr>\n",
       "    <tr>\n",
       "      <th>248</th>\n",
       "      <td>forCB</td>\n",
       "      <td>Conn249</td>\n",
       "      <td>ACS</td>\n",
       "      <td>protein</td>\n",
       "      <td>PlantCoding</td>\n",
       "      <td>endoplasmic reticulum</td>\n",
       "    </tr>\n",
       "    <tr>\n",
       "      <th>249</th>\n",
       "      <td>forCB</td>\n",
       "      <td>Conn250</td>\n",
       "      <td>ERF</td>\n",
       "      <td>protein</td>\n",
       "      <td>PlantCoding</td>\n",
       "      <td>nucleus</td>\n",
       "    </tr>\n",
       "    <tr>\n",
       "      <th>250</th>\n",
       "      <td>forCB</td>\n",
       "      <td>Conn251</td>\n",
       "      <td>NAC</td>\n",
       "      <td>protein</td>\n",
       "      <td>PlantCoding</td>\n",
       "      <td>nucleus</td>\n",
       "    </tr>\n",
       "    <tr>\n",
       "      <th>251</th>\n",
       "      <td>forCB</td>\n",
       "      <td>Conn252</td>\n",
       "      <td>NAC</td>\n",
       "      <td>protein</td>\n",
       "      <td>PlantCoding</td>\n",
       "      <td>nucleus</td>\n",
       "    </tr>\n",
       "    <tr>\n",
       "      <th>252</th>\n",
       "      <td>forCB</td>\n",
       "      <td>Conn253</td>\n",
       "      <td>NAC</td>\n",
       "      <td>protein</td>\n",
       "      <td>PlantCoding</td>\n",
       "      <td>nucleus</td>\n",
       "    </tr>\n",
       "    <tr>\n",
       "      <th>253</th>\n",
       "      <td>forCB</td>\n",
       "      <td>Conn254</td>\n",
       "      <td>ICS</td>\n",
       "      <td>protein</td>\n",
       "      <td>PlantCoding</td>\n",
       "      <td>chloroplast</td>\n",
       "    </tr>\n",
       "    <tr>\n",
       "      <th>254</th>\n",
       "      <td>forCB</td>\n",
       "      <td>Conn255</td>\n",
       "      <td>ICS</td>\n",
       "      <td>protein</td>\n",
       "      <td>PlantCoding</td>\n",
       "      <td>chloroplast</td>\n",
       "    </tr>\n",
       "    <tr>\n",
       "      <th>255</th>\n",
       "      <td>forCB</td>\n",
       "      <td>Conn256</td>\n",
       "      <td>ICS</td>\n",
       "      <td>protein</td>\n",
       "      <td>PlantCoding</td>\n",
       "      <td>chloroplast</td>\n",
       "    </tr>\n",
       "    <tr>\n",
       "      <th>256</th>\n",
       "      <td>forCB</td>\n",
       "      <td>Conn257</td>\n",
       "      <td>SAGT</td>\n",
       "      <td>protein</td>\n",
       "      <td>PlantCoding</td>\n",
       "      <td>nucleus</td>\n",
       "    </tr>\n",
       "    <tr>\n",
       "      <th>257</th>\n",
       "      <td>forCB</td>\n",
       "      <td>Conn258</td>\n",
       "      <td>SAGT</td>\n",
       "      <td>protein</td>\n",
       "      <td>PlantCoding</td>\n",
       "      <td>nucleus</td>\n",
       "    </tr>\n",
       "    <tr>\n",
       "      <th>258</th>\n",
       "      <td>forCB</td>\n",
       "      <td>Conn259</td>\n",
       "      <td>SAGT</td>\n",
       "      <td>protein</td>\n",
       "      <td>PlantCoding</td>\n",
       "      <td>nucleus</td>\n",
       "    </tr>\n",
       "    <tr>\n",
       "      <th>276</th>\n",
       "      <td>forCB</td>\n",
       "      <td>Conn277</td>\n",
       "      <td>GA20ox</td>\n",
       "      <td>protein</td>\n",
       "      <td>PlantCoding</td>\n",
       "      <td>putative:cytoplasm</td>\n",
       "    </tr>\n",
       "    <tr>\n",
       "      <th>277</th>\n",
       "      <td>forCB</td>\n",
       "      <td>Conn278</td>\n",
       "      <td>GA20ox</td>\n",
       "      <td>protein</td>\n",
       "      <td>PlantCoding</td>\n",
       "      <td>putative:cytoplasm</td>\n",
       "    </tr>\n",
       "    <tr>\n",
       "      <th>278</th>\n",
       "      <td>forCB</td>\n",
       "      <td>Conn279</td>\n",
       "      <td>GA20ox</td>\n",
       "      <td>protein</td>\n",
       "      <td>PlantCoding</td>\n",
       "      <td>putative:cytoplasm</td>\n",
       "    </tr>\n",
       "    <tr>\n",
       "      <th>279</th>\n",
       "      <td>forCB</td>\n",
       "      <td>Conn280</td>\n",
       "      <td>GA20ox</td>\n",
       "      <td>protein</td>\n",
       "      <td>PlantCoding</td>\n",
       "      <td>putative:cytoplasm</td>\n",
       "    </tr>\n",
       "    <tr>\n",
       "      <th>280</th>\n",
       "      <td>forCB</td>\n",
       "      <td>Conn281</td>\n",
       "      <td>GA20ox</td>\n",
       "      <td>protein</td>\n",
       "      <td>PlantCoding</td>\n",
       "      <td>putative:cytoplasm</td>\n",
       "    </tr>\n",
       "    <tr>\n",
       "      <th>301</th>\n",
       "      <td>forCB</td>\n",
       "      <td>Conn302</td>\n",
       "      <td>MYB</td>\n",
       "      <td>protein</td>\n",
       "      <td>PlantCoding</td>\n",
       "      <td>putative:cytoplasm</td>\n",
       "    </tr>\n",
       "    <tr>\n",
       "      <th>302</th>\n",
       "      <td>forCB</td>\n",
       "      <td>Conn303</td>\n",
       "      <td>MYB</td>\n",
       "      <td>protein</td>\n",
       "      <td>PlantCoding</td>\n",
       "      <td>putative:cytoplasm</td>\n",
       "    </tr>\n",
       "    <tr>\n",
       "      <th>303</th>\n",
       "      <td>forCB</td>\n",
       "      <td>Conn304</td>\n",
       "      <td>MYB</td>\n",
       "      <td>protein</td>\n",
       "      <td>PlantCoding</td>\n",
       "      <td>putative:cytoplasm</td>\n",
       "    </tr>\n",
       "    <tr>\n",
       "      <th>307</th>\n",
       "      <td>forCB</td>\n",
       "      <td>Conn308</td>\n",
       "      <td>MYB</td>\n",
       "      <td>protein</td>\n",
       "      <td>PlantCoding</td>\n",
       "      <td>putative:cytoplasm</td>\n",
       "    </tr>\n",
       "    <tr>\n",
       "      <th>308</th>\n",
       "      <td>forCB</td>\n",
       "      <td>Conn309</td>\n",
       "      <td>NPR</td>\n",
       "      <td>protein</td>\n",
       "      <td>PlantCoding</td>\n",
       "      <td>putative:cytoplasm</td>\n",
       "    </tr>\n",
       "    <tr>\n",
       "      <th>390</th>\n",
       "      <td>[TBD]</td>\n",
       "      <td>Conn405</td>\n",
       "      <td>ARR</td>\n",
       "      <td>protein</td>\n",
       "      <td>PlantCoding</td>\n",
       "      <td>putative:cytoplasm</td>\n",
       "    </tr>\n",
       "    <tr>\n",
       "      <th>393</th>\n",
       "      <td>NaN</td>\n",
       "      <td>Conn408</td>\n",
       "      <td>PR1</td>\n",
       "      <td>protein</td>\n",
       "      <td>PlantCoding</td>\n",
       "      <td>putative:cytoplasm</td>\n",
       "    </tr>\n",
       "    <tr>\n",
       "      <th>151</th>\n",
       "      <td>forCB</td>\n",
       "      <td>Conn152</td>\n",
       "      <td>ERF</td>\n",
       "      <td>protein</td>\n",
       "      <td>PlantCoding</td>\n",
       "      <td>nucleus</td>\n",
       "    </tr>\n",
       "    <tr>\n",
       "      <th>156</th>\n",
       "      <td>_TBD</td>\n",
       "      <td>Conn157</td>\n",
       "      <td>NAC</td>\n",
       "      <td>protein</td>\n",
       "      <td>PlantCoding</td>\n",
       "      <td>putative:cytoplasm</td>\n",
       "    </tr>\n",
       "  </tbody>\n",
       "</table>\n",
       "</div>"
      ],
      "text/plain": [
       "    Status   ConnID product_name product_form product_label  \\\n",
       "11   forCB  Conn012          EBF      protein   PlantCoding   \n",
       "20   forCB  Conn021          PR3      protein   PlantCoding   \n",
       "21   forCB  Conn022          PR4      protein   PlantCoding   \n",
       "24   forCB  Conn025         PDF1      protein   PlantCoding   \n",
       "27   forCB  Conn028          LOX      protein   PlantCoding   \n",
       "45   forCB  Conn046          JAZ      protein   PlantCoding   \n",
       "47   forCB  Conn048          MYC      protein   PlantCoding   \n",
       "48   forCB  Conn049          CLH      protein   PlantCoding   \n",
       "49   forCB  Conn050          JAL      protein   PlantCoding   \n",
       "50   forCB  Conn051         PR13      protein   PlantCoding   \n",
       "100  forCB  Conn101          PR1      protein   PlantCoding   \n",
       "101  forCB  Conn102           BG      protein   PlantCoding   \n",
       "102  forCB  Conn103          PR5      protein   PlantCoding   \n",
       "125  forCB  Conn126         SEN4      protein   PlantCoding   \n",
       "126  forCB  Conn127        SAG12      protein   PlantCoding   \n",
       "134  forCB  Conn135         PDF1      protein   PlantCoding   \n",
       "147  forCB  Conn148         EDS1      protein   PlantCoding   \n",
       "152  forCB  Conn153          MYB      protein   PlantCoding   \n",
       "153  forCB  Conn154      ERF/EDF      protein   PlantCoding   \n",
       "154  forCB  Conn155         PDF1      protein   PlantCoding   \n",
       "157  forCB  Conn158      ERF/EDF      protein   PlantCoding   \n",
       "162  forCB  Conn163        DELLA      protein   PlantCoding   \n",
       "184  forCB  Conn185         EDS1      protein   PlantCoding   \n",
       "185  forCB  Conn186   EIN3(like)      protein   PlantCoding   \n",
       "186  forCB  Conn187          ICS      protein   PlantCoding   \n",
       "187  forCB  Conn188          ICS      protein   PlantCoding   \n",
       "188  forCB  Conn189          ICS      protein   PlantCoding   \n",
       "189  forCB  Conn190          ICS      protein   PlantCoding   \n",
       "192  forCB  Conn193          ACO      protein   PlantCoding   \n",
       "195   _TBD  Conn196         COI1      protein   PlantCoding   \n",
       "205  forCB  Conn206      ERF/EDF      protein   PlantCoding   \n",
       "208  forCB  Conn209          OPR      protein   PlantCoding   \n",
       "239  forCB  Conn240          ICS      protein   PlantCoding   \n",
       "247  forCB  Conn248          ACS      protein   PlantCoding   \n",
       "248  forCB  Conn249          ACS      protein   PlantCoding   \n",
       "249  forCB  Conn250          ERF      protein   PlantCoding   \n",
       "250  forCB  Conn251          NAC      protein   PlantCoding   \n",
       "251  forCB  Conn252          NAC      protein   PlantCoding   \n",
       "252  forCB  Conn253          NAC      protein   PlantCoding   \n",
       "253  forCB  Conn254          ICS      protein   PlantCoding   \n",
       "254  forCB  Conn255          ICS      protein   PlantCoding   \n",
       "255  forCB  Conn256          ICS      protein   PlantCoding   \n",
       "256  forCB  Conn257         SAGT      protein   PlantCoding   \n",
       "257  forCB  Conn258         SAGT      protein   PlantCoding   \n",
       "258  forCB  Conn259         SAGT      protein   PlantCoding   \n",
       "276  forCB  Conn277       GA20ox      protein   PlantCoding   \n",
       "277  forCB  Conn278       GA20ox      protein   PlantCoding   \n",
       "278  forCB  Conn279       GA20ox      protein   PlantCoding   \n",
       "279  forCB  Conn280       GA20ox      protein   PlantCoding   \n",
       "280  forCB  Conn281       GA20ox      protein   PlantCoding   \n",
       "301  forCB  Conn302          MYB      protein   PlantCoding   \n",
       "302  forCB  Conn303          MYB      protein   PlantCoding   \n",
       "303  forCB  Conn304          MYB      protein   PlantCoding   \n",
       "307  forCB  Conn308          MYB      protein   PlantCoding   \n",
       "308  forCB  Conn309          NPR      protein   PlantCoding   \n",
       "390  [TBD]  Conn405          ARR      protein   PlantCoding   \n",
       "393    NaN  Conn408          PR1      protein   PlantCoding   \n",
       "151  forCB  Conn152          ERF      protein   PlantCoding   \n",
       "156   _TBD  Conn157          NAC      protein   PlantCoding   \n",
       "\n",
       "          product_location  \n",
       "11                 nucleus  \n",
       "20                 nucleus  \n",
       "21                 nucleus  \n",
       "24                 nucleus  \n",
       "27             chloroplast  \n",
       "45                 nucleus  \n",
       "47                 nucleus  \n",
       "48                 nucleus  \n",
       "49                 nucleus  \n",
       "50                 nucleus  \n",
       "100                nucleus  \n",
       "101                nucleus  \n",
       "102                nucleus  \n",
       "125                nucleus  \n",
       "126                nucleus  \n",
       "134                nucleus  \n",
       "147                nucleus  \n",
       "152                nucleus  \n",
       "153                nucleus  \n",
       "154                nucleus  \n",
       "157                nucleus  \n",
       "162                nucleus  \n",
       "184                nucleus  \n",
       "185                nucleus  \n",
       "186            chloroplast  \n",
       "187            chloroplast  \n",
       "188            chloroplast  \n",
       "189            chloroplast  \n",
       "192  endoplasmic reticulum  \n",
       "195                nucleus  \n",
       "205                nucleus  \n",
       "208             peroxisome  \n",
       "239            chloroplast  \n",
       "247  endoplasmic reticulum  \n",
       "248  endoplasmic reticulum  \n",
       "249                nucleus  \n",
       "250                nucleus  \n",
       "251                nucleus  \n",
       "252                nucleus  \n",
       "253            chloroplast  \n",
       "254            chloroplast  \n",
       "255            chloroplast  \n",
       "256                nucleus  \n",
       "257                nucleus  \n",
       "258                nucleus  \n",
       "276     putative:cytoplasm  \n",
       "277     putative:cytoplasm  \n",
       "278     putative:cytoplasm  \n",
       "279     putative:cytoplasm  \n",
       "280     putative:cytoplasm  \n",
       "301     putative:cytoplasm  \n",
       "302     putative:cytoplasm  \n",
       "303     putative:cytoplasm  \n",
       "307     putative:cytoplasm  \n",
       "308     putative:cytoplasm  \n",
       "390     putative:cytoplasm  \n",
       "393     putative:cytoplasm  \n",
       "151                nucleus  \n",
       "156     putative:cytoplasm  "
      ]
     },
     "execution_count": 102,
     "metadata": {},
     "output_type": "execute_result"
    }
   ],
   "source": [
    "new_subdf[(  (new_subdf['product_form'] == 'protein') & (new_subdf['product_location'] != 'cytoplasm')  )][[\"Status\", \"ConnID\"] + product_cols_wo_homologues]"
   ]
  },
  {
   "cell_type": "code",
   "execution_count": 103,
   "metadata": {},
   "outputs": [],
   "source": [
    "# manualfix\n",
    "new_subdf.loc[(  (new_subdf['product_form'] == 'protein') & (new_subdf['product_location'] != 'cytoplasm')  ), 'product_location'] = 'cytoplasm'"
   ]
  },
  {
   "cell_type": "code",
   "execution_count": 104,
   "metadata": {},
   "outputs": [
    {
     "data": {
      "text/html": [
       "<div>\n",
       "<style scoped>\n",
       "    .dataframe tbody tr th:only-of-type {\n",
       "        vertical-align: middle;\n",
       "    }\n",
       "\n",
       "    .dataframe tbody tr th {\n",
       "        vertical-align: top;\n",
       "    }\n",
       "\n",
       "    .dataframe thead th {\n",
       "        text-align: right;\n",
       "    }\n",
       "</style>\n",
       "<table border=\"1\" class=\"dataframe\">\n",
       "  <thead>\n",
       "    <tr style=\"text-align: right;\">\n",
       "      <th></th>\n",
       "      <th>Status</th>\n",
       "      <th>ConnID</th>\n",
       "      <th>substrate_name</th>\n",
       "      <th>substrate_form</th>\n",
       "      <th>substrate_label</th>\n",
       "      <th>substrate_location</th>\n",
       "    </tr>\n",
       "  </thead>\n",
       "  <tbody>\n",
       "    <tr>\n",
       "      <th>62</th>\n",
       "      <td>forCB</td>\n",
       "      <td>Conn063</td>\n",
       "      <td>Anthocyanin-accumulation</td>\n",
       "      <td>process</td>\n",
       "      <td>Process</td>\n",
       "      <td>cytoplasm</td>\n",
       "    </tr>\n",
       "    <tr>\n",
       "      <th>63</th>\n",
       "      <td>forCB</td>\n",
       "      <td>Conn064</td>\n",
       "      <td>Trichome-initiation</td>\n",
       "      <td>process</td>\n",
       "      <td>Process</td>\n",
       "      <td>cytoplasm</td>\n",
       "    </tr>\n",
       "  </tbody>\n",
       "</table>\n",
       "</div>"
      ],
      "text/plain": [
       "   Status   ConnID            substrate_name substrate_form substrate_label  \\\n",
       "62  forCB  Conn063  Anthocyanin-accumulation        process         Process   \n",
       "63  forCB  Conn064       Trichome-initiation        process         Process   \n",
       "\n",
       "   substrate_location  \n",
       "62          cytoplasm  \n",
       "63          cytoplasm  "
      ]
     },
     "execution_count": 104,
     "metadata": {},
     "output_type": "execute_result"
    }
   ],
   "source": [
    "new_subdf[~new_subdf['substrate_label'].isin([\"PlantCoding\", \"PlantNonCoding\"])][[\"Status\", \"ConnID\"] + substrate_cols_wo_homologues] #+ catalyst_cols_wo_homologues + product_cols_wo_homologues]"
   ]
  },
  {
   "cell_type": "code",
   "execution_count": 105,
   "metadata": {},
   "outputs": [
    {
     "data": {
      "text/html": [
       "<div>\n",
       "<style scoped>\n",
       "    .dataframe tbody tr th:only-of-type {\n",
       "        vertical-align: middle;\n",
       "    }\n",
       "\n",
       "    .dataframe tbody tr th {\n",
       "        vertical-align: top;\n",
       "    }\n",
       "\n",
       "    .dataframe thead th {\n",
       "        text-align: right;\n",
       "    }\n",
       "</style>\n",
       "<table border=\"1\" class=\"dataframe\">\n",
       "  <thead>\n",
       "    <tr style=\"text-align: right;\">\n",
       "      <th></th>\n",
       "      <th>Status</th>\n",
       "      <th>ConnID</th>\n",
       "      <th>product_name</th>\n",
       "      <th>product_form</th>\n",
       "      <th>product_label</th>\n",
       "      <th>product_location</th>\n",
       "    </tr>\n",
       "  </thead>\n",
       "  <tbody>\n",
       "    <tr>\n",
       "      <th>44</th>\n",
       "      <td>_TBD</td>\n",
       "      <td>Conn045</td>\n",
       "      <td>COI1|OMR1</td>\n",
       "      <td>complex</td>\n",
       "      <td>Complex</td>\n",
       "      <td>nucleus</td>\n",
       "    </tr>\n",
       "    <tr>\n",
       "      <th>62</th>\n",
       "      <td>forCB</td>\n",
       "      <td>Conn063</td>\n",
       "      <td>Anthocyanin-accumulation</td>\n",
       "      <td>process_active</td>\n",
       "      <td>Process</td>\n",
       "      <td>cytoplasm</td>\n",
       "    </tr>\n",
       "    <tr>\n",
       "      <th>63</th>\n",
       "      <td>forCB</td>\n",
       "      <td>Conn064</td>\n",
       "      <td>Trichome-initiation</td>\n",
       "      <td>process_active</td>\n",
       "      <td>Process</td>\n",
       "      <td>cytoplasm</td>\n",
       "    </tr>\n",
       "    <tr>\n",
       "      <th>92</th>\n",
       "      <td>_TBD</td>\n",
       "      <td>Conn093</td>\n",
       "      <td>NPR1|PAD4|TGA2,5,6</td>\n",
       "      <td>complex</td>\n",
       "      <td>Complex</td>\n",
       "      <td>nucleus</td>\n",
       "    </tr>\n",
       "    <tr>\n",
       "      <th>115</th>\n",
       "      <td>_TBD</td>\n",
       "      <td>Conn116</td>\n",
       "      <td>EDS5|NPR1|TGA2,5,6</td>\n",
       "      <td>complex</td>\n",
       "      <td>Complex</td>\n",
       "      <td>nucleus</td>\n",
       "    </tr>\n",
       "    <tr>\n",
       "      <th>117</th>\n",
       "      <td>_TBD</td>\n",
       "      <td>Conn118</td>\n",
       "      <td>EDS1|NPR1|TGA2,5,6</td>\n",
       "      <td>complex</td>\n",
       "      <td>Complex</td>\n",
       "      <td>nucleus</td>\n",
       "    </tr>\n",
       "    <tr>\n",
       "      <th>119</th>\n",
       "      <td>_TBD</td>\n",
       "      <td>Conn120</td>\n",
       "      <td>NPR1|PAD4|TGA2,5,6</td>\n",
       "      <td>complex</td>\n",
       "      <td>Complex</td>\n",
       "      <td>nucleus</td>\n",
       "    </tr>\n",
       "    <tr>\n",
       "      <th>148</th>\n",
       "      <td>_TBD</td>\n",
       "      <td>Conn149</td>\n",
       "      <td>GSTU24|ROS</td>\n",
       "      <td>complex</td>\n",
       "      <td>Complex</td>\n",
       "      <td>nucleus</td>\n",
       "    </tr>\n",
       "  </tbody>\n",
       "</table>\n",
       "</div>"
      ],
      "text/plain": [
       "    Status   ConnID              product_name    product_form product_label  \\\n",
       "44    _TBD  Conn045                 COI1|OMR1         complex       Complex   \n",
       "62   forCB  Conn063  Anthocyanin-accumulation  process_active       Process   \n",
       "63   forCB  Conn064       Trichome-initiation  process_active       Process   \n",
       "92    _TBD  Conn093        NPR1|PAD4|TGA2,5,6         complex       Complex   \n",
       "115   _TBD  Conn116        EDS5|NPR1|TGA2,5,6         complex       Complex   \n",
       "117   _TBD  Conn118        EDS1|NPR1|TGA2,5,6         complex       Complex   \n",
       "119   _TBD  Conn120        NPR1|PAD4|TGA2,5,6         complex       Complex   \n",
       "148   _TBD  Conn149                GSTU24|ROS         complex       Complex   \n",
       "\n",
       "    product_location  \n",
       "44           nucleus  \n",
       "62         cytoplasm  \n",
       "63         cytoplasm  \n",
       "92           nucleus  \n",
       "115          nucleus  \n",
       "117          nucleus  \n",
       "119          nucleus  \n",
       "148          nucleus  "
      ]
     },
     "execution_count": 105,
     "metadata": {},
     "output_type": "execute_result"
    }
   ],
   "source": [
    "new_subdf[~new_subdf['product_label'].isin([\"PlantCoding\", \"PlantNonCoding\"])][[\"Status\", \"ConnID\"] + product_cols_wo_homologues]"
   ]
  },
  {
   "cell_type": "markdown",
   "metadata": {},
   "source": [
    "## Reaction nodes"
   ]
  },
  {
   "cell_type": "code",
   "execution_count": 106,
   "metadata": {},
   "outputs": [
    {
     "data": {
      "text/html": [
       "<div>\n",
       "<style scoped>\n",
       "    .dataframe tbody tr th:only-of-type {\n",
       "        vertical-align: middle;\n",
       "    }\n",
       "\n",
       "    .dataframe tbody tr th {\n",
       "        vertical-align: top;\n",
       "    }\n",
       "\n",
       "    .dataframe thead th {\n",
       "        text-align: right;\n",
       "    }\n",
       "</style>\n",
       "<table border=\"1\" class=\"dataframe\">\n",
       "  <thead>\n",
       "    <tr style=\"text-align: right;\">\n",
       "      <th></th>\n",
       "      <th>substrate_name</th>\n",
       "      <th>substrate_form</th>\n",
       "      <th>substrate_label</th>\n",
       "      <th>substrate_location</th>\n",
       "      <th>product_name</th>\n",
       "      <th>product_form</th>\n",
       "      <th>product_label</th>\n",
       "      <th>product_location</th>\n",
       "      <th>catalyst_name</th>\n",
       "      <th>catalyst_form</th>\n",
       "      <th>catalyst_label</th>\n",
       "      <th>catalyst_location</th>\n",
       "    </tr>\n",
       "  </thead>\n",
       "  <tbody>\n",
       "    <tr>\n",
       "      <th>147</th>\n",
       "      <td>EDS1</td>\n",
       "      <td>gene</td>\n",
       "      <td>PlantCoding</td>\n",
       "      <td>nucleus</td>\n",
       "      <td>EDS1</td>\n",
       "      <td>protein</td>\n",
       "      <td>PlantCoding</td>\n",
       "      <td>cytoplasm</td>\n",
       "      <td>[CAMTA]</td>\n",
       "      <td>[protein]</td>\n",
       "      <td>[PlantCoding]</td>\n",
       "      <td>[nucleus]</td>\n",
       "    </tr>\n",
       "    <tr>\n",
       "      <th>184</th>\n",
       "      <td>EDS1</td>\n",
       "      <td>gene</td>\n",
       "      <td>PlantCoding</td>\n",
       "      <td>nucleus</td>\n",
       "      <td>EDS1</td>\n",
       "      <td>protein</td>\n",
       "      <td>PlantCoding</td>\n",
       "      <td>cytoplasm</td>\n",
       "      <td>[CAMTA]</td>\n",
       "      <td>[protein]</td>\n",
       "      <td>[PlantCoding]</td>\n",
       "      <td>[nucleus]</td>\n",
       "    </tr>\n",
       "  </tbody>\n",
       "</table>\n",
       "</div>"
      ],
      "text/plain": [
       "    substrate_name substrate_form substrate_label substrate_location  \\\n",
       "147           EDS1           gene     PlantCoding            nucleus   \n",
       "184           EDS1           gene     PlantCoding            nucleus   \n",
       "\n",
       "    product_name product_form product_label product_location catalyst_name  \\\n",
       "147         EDS1      protein   PlantCoding        cytoplasm       [CAMTA]   \n",
       "184         EDS1      protein   PlantCoding        cytoplasm       [CAMTA]   \n",
       "\n",
       "    catalyst_form catalyst_label catalyst_location  \n",
       "147     [protein]  [PlantCoding]         [nucleus]  \n",
       "184     [protein]  [PlantCoding]         [nucleus]  "
      ]
     },
     "execution_count": 106,
     "metadata": {},
     "output_type": "execute_result"
    }
   ],
   "source": [
    "new_subdf[new_subdf['reaction_id'].isin(['rx00148', 'rx00185'])][substrate_cols_wo_homologues + product_cols_wo_homologues + catalyst_cols_wo_homologues]"
   ]
  },
  {
   "cell_type": "code",
   "execution_count": 107,
   "metadata": {},
   "outputs": [
    {
     "name": "stdout",
     "output_type": "stream",
     "text": [
      "Reaction            \t 79\t 79\n"
     ]
    }
   ],
   "source": [
    "# make reaction nodes\n",
    "f = f\"{reaction_type}-reaction.tsv\"\n",
    "new_subdf[reaction_standard_columns].to_csv(f\"../data/import/{f}\", sep=\"\\t\", index=None)\n",
    "query = helpers.reaction_node_query(f, name=\"line.reaction_id\")\n",
    "\n",
    "qr = graph.run(query)\n",
    "pretty_print_result('Reaction', new_subdf, qr, 'nodes')"
   ]
  },
  {
   "cell_type": "code",
   "execution_count": null,
   "metadata": {},
   "outputs": [],
   "source": []
  },
  {
   "cell_type": "markdown",
   "metadata": {},
   "source": [
    "## induction"
   ]
  },
  {
   "cell_type": "code",
   "execution_count": 108,
   "metadata": {},
   "outputs": [],
   "source": [
    "edge_label = \"ACTIVATES\"\n",
    "reaction_type = 'transcriptional/translational induction'\n",
    "reaction_type_nice = 'transcriptional_translational_induction'\n",
    "act_subdf = new_subdf[new_subdf['reaction_type']==reaction_type]"
   ]
  },
  {
   "cell_type": "code",
   "execution_count": 109,
   "metadata": {},
   "outputs": [
    {
     "name": "stdout",
     "output_type": "stream",
     "text": [
      "-                   \t 60\t 60\n"
     ]
    }
   ],
   "source": [
    "# substrate to reaction edge\n",
    "f =  f\"{reaction_type_nice}-substrate_edges.tsv\" \n",
    "want_cols = reaction_standard_columns + substrate_cols\n",
    "act_subdf[want_cols].to_csv(f\"../data/import/{f}\", sep=\"\\t\", index=None)\n",
    "\n",
    "query = helpers.make_create_reaction_edge_query(f, 'SUBSTRATE',\n",
    "                                                \"substrate\", \"dne\", \n",
    "                                                target_label=\"Reaction\", \n",
    "                                                target_name=\"line.reaction_id\"\n",
    "                              )\n",
    "qr = graph.run(query)\n",
    "pretty_print_result('-', act_subdf, qr, 'relationships')"
   ]
  },
  {
   "cell_type": "code",
   "execution_count": 110,
   "metadata": {},
   "outputs": [
    {
     "name": "stdout",
     "output_type": "stream",
     "text": [
      "-                   \t 62\t 62\n"
     ]
    }
   ],
   "source": [
    "# catalyst to reaction edge\n",
    "exploded_new_subdf = helpers.unnesting(act_subdf, catalyst_cols)\n",
    "\n",
    "f =  f\"{reaction_type_nice}-catalyst_edges.tsv\" \n",
    "want_cols = reaction_standard_columns + catalyst_cols\n",
    "exploded_new_subdf[want_cols].to_csv(f\"../data/import/{f}\", sep=\"\\t\", index=None)\n",
    "\n",
    "query = helpers.make_create_reaction_edge_query(f, 'ACTIVATES',\n",
    "                                                \"catalyst\", \"dne\", \n",
    "                                                target_label=\"Reaction\", \n",
    "                                                target_name=\"line.reaction_id\"\n",
    "                              )\n",
    "qr = graph.run(query)\n",
    "pretty_print_result('-', exploded_new_subdf, qr, 'relationships')"
   ]
  },
  {
   "cell_type": "code",
   "execution_count": 111,
   "metadata": {},
   "outputs": [
    {
     "name": "stdout",
     "output_type": "stream",
     "text": [
      "-                   \t 60\t 60\n"
     ]
    }
   ],
   "source": [
    "# product to reaction edge\n",
    "f =  f\"{reaction_type_nice}-product_edges.tsv\" \n",
    "want_cols = reaction_standard_columns + product_cols\n",
    "act_subdf[want_cols].to_csv(f\"../data/import/{f}\", sep=\"\\t\", index=None)\n",
    "\n",
    "query = helpers.make_create_reaction_edge_query(f, 'PRODUCT', \"dne\" , \"product\", \n",
    "                                                source_name=\"line.reaction_id\", \n",
    "                                                source_label=\"Reaction\"\n",
    "                              )\n",
    "qr = graph.run(query)\n",
    "pretty_print_result('-', act_subdf, qr, 'relationships')"
   ]
  },
  {
   "cell_type": "markdown",
   "metadata": {},
   "source": [
    "## repression"
   ]
  },
  {
   "cell_type": "code",
   "execution_count": 112,
   "metadata": {},
   "outputs": [],
   "source": [
    "reaction_type = 'transcriptional/translational repression'\n",
    "reaction_type_nice = 'transcriptional_translational_repression'\n",
    "inh_subdf = new_subdf[new_subdf['reaction_type']==reaction_type]"
   ]
  },
  {
   "cell_type": "code",
   "execution_count": 113,
   "metadata": {},
   "outputs": [
    {
     "name": "stdout",
     "output_type": "stream",
     "text": [
      "-                   \t 19\t 19\n"
     ]
    }
   ],
   "source": [
    "# substrate to reaction edge\n",
    "f =  f\"{reaction_type_nice}-substrate_edges.tsv\" \n",
    "want_cols = reaction_standard_columns + substrate_cols\n",
    "inh_subdf[want_cols].to_csv(f\"../data/import/{f}\", sep=\"\\t\", index=None)\n",
    "\n",
    "query = helpers.make_create_reaction_edge_query(f, 'SUBSTRATE',\n",
    "                                                \"substrate\", \"dne\", \n",
    "                                                target_label=\"Reaction\", \n",
    "                                                target_name=\"line.reaction_id\"\n",
    "                              )\n",
    "qr = graph.run(query)\n",
    "pretty_print_result('-', inh_subdf, qr, 'relationships')"
   ]
  },
  {
   "cell_type": "code",
   "execution_count": 114,
   "metadata": {},
   "outputs": [
    {
     "name": "stdout",
     "output_type": "stream",
     "text": [
      "-                   \t 19\t 19\n"
     ]
    }
   ],
   "source": [
    "# catalyst to reaction edge\n",
    "exploded_new_subdf = helpers.unnesting(inh_subdf, catalyst_cols)\n",
    "\n",
    "\n",
    "f =  f\"{reaction_type_nice}-catalyst_edges.tsv\" \n",
    "want_cols = reaction_standard_columns + catalyst_cols\n",
    "exploded_new_subdf[want_cols].to_csv(f\"../data/import/{f}\", sep=\"\\t\", index=None)\n",
    "\n",
    "query = helpers.make_create_reaction_edge_query(f, 'INHIBITS',\n",
    "                                                \"catalyst\", \"dne\", \n",
    "                                                target_label=\"Reaction\", \n",
    "                                                target_name=\"line.reaction_id\"\n",
    "                              )\n",
    "qr = graph.run(query)\n",
    "pretty_print_result('-', exploded_new_subdf, qr, 'relationships')"
   ]
  },
  {
   "cell_type": "code",
   "execution_count": 115,
   "metadata": {},
   "outputs": [
    {
     "name": "stdout",
     "output_type": "stream",
     "text": [
      "-                   \t 19\t 19\n"
     ]
    }
   ],
   "source": [
    "# product to reaction edge\n",
    "f =  f\"{reaction_type_nice}-product_edges.tsv\" \n",
    "want_cols = reaction_standard_columns + product_cols\n",
    "inh_subdf[want_cols].to_csv(f\"../data/import/{f}\", sep=\"\\t\", index=None)\n",
    "\n",
    "query = helpers.make_create_reaction_edge_query(f, 'PRODUCT', \"dne\" , \"product\", \n",
    "                                                source_name=\"line.reaction_id\", \n",
    "                                                source_label=\"Reaction\"\n",
    "                              )\n",
    "qr = graph.run(query)\n",
    "pretty_print_result('-', inh_subdf, qr, 'relationships')"
   ]
  },
  {
   "cell_type": "markdown",
   "metadata": {},
   "source": [
    "## cleavage/auto-cleavage"
   ]
  },
  {
   "cell_type": "code",
   "execution_count": 116,
   "metadata": {},
   "outputs": [],
   "source": [
    "#Image(filename='./reaction_types/activation/cleavage_autocleavage.png')"
   ]
  },
  {
   "cell_type": "code",
   "execution_count": 117,
   "metadata": {},
   "outputs": [
    {
     "name": "stdout",
     "output_type": "stream",
     "text": [
      "CLEAVAGE_AUTOCLEAVAGE 29\n"
     ]
    }
   ],
   "source": [
    "key = 'cleavage/auto-cleavage'\n",
    "reaction_type = 'CLEAVAGE_AUTOCLEAVAGE'\n",
    "subdf = df_edges[df_edges['reaction_type'] == key].copy()\n",
    "print(reaction_type, subdf.shape[0])"
   ]
  },
  {
   "cell_type": "code",
   "execution_count": 118,
   "metadata": {},
   "outputs": [
    {
     "name": "stdout",
     "output_type": "stream",
     "text": [
      "Reaction            \t 29\t 29\n"
     ]
    }
   ],
   "source": [
    "# make reaction nodes\n",
    "f = f\"{reaction_type}-wicat-reaction.tsv\"\n",
    "subdf[reaction_standard_columns].to_csv(f\"../data/import/{f}\", sep=\"\\t\", index=None)\n",
    "query = helpers.reaction_node_query(f, name=\"line.reaction_id\")\n",
    "\n",
    "qr = graph.run(query)\n",
    "pretty_print_result('Reaction', subdf, qr, 'nodes')"
   ]
  },
  {
   "cell_type": "code",
   "execution_count": 119,
   "metadata": {
    "scrolled": true
   },
   "outputs": [],
   "source": [
    "cleavage_wo_catalyst = subdf[subdf['input2_ID'].isna() & subdf['input3_ID'].isna()]\n",
    "cleavage_w_catalyst = subdf[~(subdf['input2_ID'].isna() & subdf['input3_ID'].isna())]"
   ]
  },
  {
   "cell_type": "markdown",
   "metadata": {},
   "source": [
    "## with catalyst"
   ]
  },
  {
   "cell_type": "code",
   "execution_count": 120,
   "metadata": {},
   "outputs": [
    {
     "name": "stderr",
     "output_type": "stream",
     "text": [
      "<ipython-input-21-efe0e85a6517>:26: SettingWithCopyWarning: \n",
      "A value is trying to be set on a copy of a slice from a DataFrame.\n",
      "Try using .loc[row_indexer,col_indexer] = value instead\n",
      "\n",
      "See the caveats in the documentation: https://pandas.pydata.org/pandas-docs/stable/user_guide/indexing.html#returning-a-view-versus-a-copy\n",
      "  subdf[new_col] = subdf[old_col]\n"
     ]
    }
   ],
   "source": [
    "rename_target(cleavage_w_catalyst, 'output1', 'product')\n",
    "rename_target(cleavage_w_catalyst, 'input1',  'substrate')\n",
    "rename_target(cleavage_w_catalyst, 'input2',  'catalyst')"
   ]
  },
  {
   "cell_type": "code",
   "execution_count": 121,
   "metadata": {},
   "outputs": [
    {
     "name": "stdout",
     "output_type": "stream",
     "text": [
      "-                   \t 19\t 19\n"
     ]
    }
   ],
   "source": [
    "# substrate to reaction edge\n",
    "f =  f\"{reaction_type}-wicat-substrate_edges.tsv\" \n",
    "want_cols = reaction_standard_columns + substrate_cols\n",
    "cleavage_w_catalyst[want_cols].to_csv(f\"../data/import/{f}\", sep=\"\\t\", index=None)\n",
    "\n",
    "query = helpers.make_create_reaction_edge_query(f, 'SUBSTRATE',\n",
    "                                                \"substrate\", \"dne\", \n",
    "                                                target_label=\"Reaction\", \n",
    "                                                target_name=\"line.reaction_id\"\n",
    "                              )\n",
    "qr = graph.run(query)\n",
    "pretty_print_result('-', cleavage_w_catalyst, qr, 'relationships')"
   ]
  },
  {
   "cell_type": "code",
   "execution_count": 122,
   "metadata": {},
   "outputs": [
    {
     "name": "stdout",
     "output_type": "stream",
     "text": [
      "-                   \t 19\t 19\n"
     ]
    }
   ],
   "source": [
    "# catalyst to reaction edge\n",
    "\n",
    "f =  f\"{reaction_type}-wicat-catalyst_edges.tsv\" \n",
    "want_cols = reaction_standard_columns + catalyst_cols\n",
    "cleavage_w_catalyst[want_cols].to_csv(f\"../data/import/{f}\", sep=\"\\t\", index=None)\n",
    "\n",
    "query = helpers.make_create_reaction_edge_query(f, 'ACTIVATES',\n",
    "                                                \"catalyst\", \"dne\", \n",
    "                                                target_label=\"Reaction\", \n",
    "                                                target_name=\"line.reaction_id\"\n",
    "                              )\n",
    "qr = graph.run(query)\n",
    "pretty_print_result('-', cleavage_w_catalyst, qr, 'relationships')"
   ]
  },
  {
   "cell_type": "code",
   "execution_count": 123,
   "metadata": {},
   "outputs": [
    {
     "name": "stdout",
     "output_type": "stream",
     "text": [
      "-                   \t 19\t 19\n"
     ]
    }
   ],
   "source": [
    "# product to reaction edge\n",
    "f =  f\"{reaction_type}-wicat-product_edges.tsv\" \n",
    "want_cols = reaction_standard_columns + product_cols\n",
    "cleavage_w_catalyst[want_cols].to_csv(f\"../data/import/{f}\", sep=\"\\t\", index=None)\n",
    "\n",
    "query = helpers.make_create_reaction_edge_query(f, 'PRODUCT', \"dne\" , \"product\", \n",
    "                                                source_name=\"line.reaction_id\", \n",
    "                                                source_label=\"Reaction\"\n",
    "                              )\n",
    "qr = graph.run(query)\n",
    "pretty_print_result('-', cleavage_w_catalyst, qr, 'relationships')"
   ]
  },
  {
   "cell_type": "markdown",
   "metadata": {},
   "source": [
    "## w/o catalyst"
   ]
  },
  {
   "cell_type": "code",
   "execution_count": 124,
   "metadata": {},
   "outputs": [
    {
     "name": "stderr",
     "output_type": "stream",
     "text": [
      "<ipython-input-21-efe0e85a6517>:26: SettingWithCopyWarning: \n",
      "A value is trying to be set on a copy of a slice from a DataFrame.\n",
      "Try using .loc[row_indexer,col_indexer] = value instead\n",
      "\n",
      "See the caveats in the documentation: https://pandas.pydata.org/pandas-docs/stable/user_guide/indexing.html#returning-a-view-versus-a-copy\n",
      "  subdf[new_col] = subdf[old_col]\n"
     ]
    }
   ],
   "source": [
    "rename_target(cleavage_wo_catalyst, 'output1', 'product')\n",
    "rename_target(cleavage_wo_catalyst, 'input1',  'substrate')"
   ]
  },
  {
   "cell_type": "code",
   "execution_count": 125,
   "metadata": {},
   "outputs": [
    {
     "name": "stdout",
     "output_type": "stream",
     "text": [
      "-                   \t 10\t 10\n"
     ]
    }
   ],
   "source": [
    "# substrate to reaction edge\n",
    "f =  f\"{reaction_type}-substrate_edges.tsv\" \n",
    "want_cols = reaction_standard_columns + substrate_cols\n",
    "cleavage_wo_catalyst[want_cols].to_csv(f\"../data/import/{f}\", sep=\"\\t\", index=None)\n",
    "\n",
    "query = helpers.make_create_reaction_edge_query(f, 'SUBSTRATE',\n",
    "                                                \"substrate\", \"dne\", \n",
    "                                                target_label=\"Reaction\", \n",
    "                                                target_name=\"line.reaction_id\"\n",
    "                              )\n",
    "qr = graph.run(query)\n",
    "pretty_print_result('-', cleavage_wo_catalyst, qr, 'relationships')"
   ]
  },
  {
   "cell_type": "code",
   "execution_count": 126,
   "metadata": {},
   "outputs": [
    {
     "name": "stdout",
     "output_type": "stream",
     "text": [
      "-                   \t 10\t 10\n"
     ]
    }
   ],
   "source": [
    "# product to reaction edge\n",
    "f =  f\"{reaction_type}-product_edges.tsv\" \n",
    "want_cols = reaction_standard_columns + product_cols\n",
    "cleavage_wo_catalyst[want_cols].to_csv(f\"../data/import/{f}\", sep=\"\\t\", index=None)\n",
    "\n",
    "query = helpers.make_create_reaction_edge_query(f, 'PRODUCT', \"dne\" , \"product\", \n",
    "                                                source_name=\"line.reaction_id\", \n",
    "                                                source_label=\"Reaction\"\n",
    "                              )\n",
    "qr = graph.run(query)\n",
    "pretty_print_result('-', cleavage_wo_catalyst, qr, 'relationships')"
   ]
  },
  {
   "cell_type": "markdown",
   "metadata": {},
   "source": [
    "## undefined"
   ]
  },
  {
   "cell_type": "code",
   "execution_count": 127,
   "metadata": {},
   "outputs": [],
   "source": [
    "#Image(filename='./reaction_types/...png')"
   ]
  },
  {
   "cell_type": "code",
   "execution_count": 128,
   "metadata": {},
   "outputs": [
    {
     "name": "stdout",
     "output_type": "stream",
     "text": [
      "UNDEFINED 9\n"
     ]
    }
   ],
   "source": [
    "key = 'undefined'\n",
    "reaction_type = 'UNDEFINED'\n",
    "subdf = df_edges[df_edges['reaction_type'] == key].copy()\n",
    "print(reaction_type, subdf.shape[0])"
   ]
  },
  {
   "cell_type": "code",
   "execution_count": 129,
   "metadata": {},
   "outputs": [],
   "source": [
    "rename_target(subdf, 'output1', 'product')\n",
    "rename_target(subdf, 'input2',  'substrate')\n",
    "rename_target(subdf, 'input1',  'catalyst')"
   ]
  },
  {
   "cell_type": "code",
   "execution_count": 130,
   "metadata": {},
   "outputs": [
    {
     "data": {
      "text/html": [
       "<div>\n",
       "<style scoped>\n",
       "    .dataframe tbody tr th:only-of-type {\n",
       "        vertical-align: middle;\n",
       "    }\n",
       "\n",
       "    .dataframe tbody tr th {\n",
       "        vertical-align: top;\n",
       "    }\n",
       "\n",
       "    .dataframe thead th {\n",
       "        text-align: right;\n",
       "    }\n",
       "</style>\n",
       "<table border=\"1\" class=\"dataframe\">\n",
       "  <thead>\n",
       "    <tr style=\"text-align: right;\">\n",
       "      <th></th>\n",
       "      <th>substrate_name</th>\n",
       "      <th>substrate_form</th>\n",
       "      <th>substrate_label</th>\n",
       "      <th>substrate_location</th>\n",
       "      <th>product_name</th>\n",
       "      <th>product_form</th>\n",
       "      <th>product_label</th>\n",
       "      <th>product_location</th>\n",
       "      <th>catalyst_name</th>\n",
       "      <th>catalyst_form</th>\n",
       "      <th>catalyst_label</th>\n",
       "      <th>catalyst_location</th>\n",
       "    </tr>\n",
       "  </thead>\n",
       "  <tbody>\n",
       "    <tr>\n",
       "      <th>31</th>\n",
       "      <td>OPDA</td>\n",
       "      <td>metabolite</td>\n",
       "      <td>Metabolite</td>\n",
       "      <td>putative:cytoplasm</td>\n",
       "      <td>OPDA</td>\n",
       "      <td>metabolite</td>\n",
       "      <td>Metabolite</td>\n",
       "      <td>putative:cytoplasm</td>\n",
       "      <td>SA</td>\n",
       "      <td>metabolite</td>\n",
       "      <td>Metabolite</td>\n",
       "      <td>putative:cytoplasm</td>\n",
       "    </tr>\n",
       "    <tr>\n",
       "      <th>60</th>\n",
       "      <td>potyvirus</td>\n",
       "      <td>protein_active</td>\n",
       "      <td>ForeignEntity</td>\n",
       "      <td>putative:cytoplasm</td>\n",
       "      <td>potyvirus</td>\n",
       "      <td>protein</td>\n",
       "      <td>ForeignEntity</td>\n",
       "      <td>putative:cytoplasm</td>\n",
       "      <td>RTM1|RTM2|RTM3</td>\n",
       "      <td>complex</td>\n",
       "      <td>Complex</td>\n",
       "      <td>putative:cytoplasm</td>\n",
       "    </tr>\n",
       "    <tr>\n",
       "      <th>87</th>\n",
       "      <td>EDS1|PAD4</td>\n",
       "      <td>complex_active</td>\n",
       "      <td>Complex</td>\n",
       "      <td>putative:cytoplasm</td>\n",
       "      <td>EDS1|PAD4</td>\n",
       "      <td>complex</td>\n",
       "      <td>Complex</td>\n",
       "      <td>putative:cytoplasm</td>\n",
       "      <td>NPR</td>\n",
       "      <td>protein</td>\n",
       "      <td>PlantCoding</td>\n",
       "      <td>putative:cytoplasm</td>\n",
       "    </tr>\n",
       "    <tr>\n",
       "      <th>88</th>\n",
       "      <td>EDS1|PAD4</td>\n",
       "      <td>complex_active</td>\n",
       "      <td>Complex</td>\n",
       "      <td>putative:cytoplasm</td>\n",
       "      <td>EDS1|PAD4</td>\n",
       "      <td>complex</td>\n",
       "      <td>Complex</td>\n",
       "      <td>putative:cytoplasm</td>\n",
       "      <td>MAPK</td>\n",
       "      <td>protein</td>\n",
       "      <td>PlantCoding</td>\n",
       "      <td>putative:cytoplasm</td>\n",
       "    </tr>\n",
       "    <tr>\n",
       "      <th>91</th>\n",
       "      <td>EDS5</td>\n",
       "      <td>protein</td>\n",
       "      <td>PlantCoding</td>\n",
       "      <td>putative:cytoplasm</td>\n",
       "      <td>EDS5</td>\n",
       "      <td>protein_active</td>\n",
       "      <td>PlantCoding</td>\n",
       "      <td>putative:cytoplasm</td>\n",
       "      <td>EDS1|PAD4</td>\n",
       "      <td>complex</td>\n",
       "      <td>Complex</td>\n",
       "      <td>putative:cytoplasm</td>\n",
       "    </tr>\n",
       "    <tr>\n",
       "      <th>120</th>\n",
       "      <td>AUX-signalling</td>\n",
       "      <td>process_active</td>\n",
       "      <td>Process</td>\n",
       "      <td>putative:cytoplasm</td>\n",
       "      <td>AUX-signalling</td>\n",
       "      <td>process</td>\n",
       "      <td>Process</td>\n",
       "      <td>putative:cytoplasm</td>\n",
       "      <td>ARF</td>\n",
       "      <td>protein</td>\n",
       "      <td>PlantCoding</td>\n",
       "      <td>putative:cytoplasm</td>\n",
       "    </tr>\n",
       "    <tr>\n",
       "      <th>150</th>\n",
       "      <td>TGA</td>\n",
       "      <td>protein_active</td>\n",
       "      <td>PlantCoding</td>\n",
       "      <td>putative:cytoplasm</td>\n",
       "      <td>TGA</td>\n",
       "      <td>protein</td>\n",
       "      <td>PlantCoding</td>\n",
       "      <td>putative:cytoplasm</td>\n",
       "      <td>GRX</td>\n",
       "      <td>protein_active</td>\n",
       "      <td>PlantCoding</td>\n",
       "      <td>putative:cytoplasm</td>\n",
       "    </tr>\n",
       "    <tr>\n",
       "      <th>209</th>\n",
       "      <td>PR1</td>\n",
       "      <td>protein_active</td>\n",
       "      <td>PlantCoding</td>\n",
       "      <td>putative:cytoplasm</td>\n",
       "      <td>PR1</td>\n",
       "      <td>protein</td>\n",
       "      <td>PlantCoding</td>\n",
       "      <td>putative:cytoplasm</td>\n",
       "      <td>EIN2</td>\n",
       "      <td>protein</td>\n",
       "      <td>PlantCoding</td>\n",
       "      <td>putative:cytoplasm</td>\n",
       "    </tr>\n",
       "    <tr>\n",
       "      <th>310</th>\n",
       "      <td>CAT</td>\n",
       "      <td>protein_active</td>\n",
       "      <td>PlantCoding</td>\n",
       "      <td>putative:cytoplasm</td>\n",
       "      <td>CAT</td>\n",
       "      <td>protein</td>\n",
       "      <td>PlantCoding</td>\n",
       "      <td>putative:cytoplasm</td>\n",
       "      <td>SA</td>\n",
       "      <td>metabolite</td>\n",
       "      <td>Metabolite</td>\n",
       "      <td>putative:cytoplasm</td>\n",
       "    </tr>\n",
       "  </tbody>\n",
       "</table>\n",
       "</div>"
      ],
      "text/plain": [
       "     substrate_name  substrate_form substrate_label  substrate_location  \\\n",
       "31             OPDA      metabolite      Metabolite  putative:cytoplasm   \n",
       "60        potyvirus  protein_active   ForeignEntity  putative:cytoplasm   \n",
       "87        EDS1|PAD4  complex_active         Complex  putative:cytoplasm   \n",
       "88        EDS1|PAD4  complex_active         Complex  putative:cytoplasm   \n",
       "91             EDS5         protein     PlantCoding  putative:cytoplasm   \n",
       "120  AUX-signalling  process_active         Process  putative:cytoplasm   \n",
       "150             TGA  protein_active     PlantCoding  putative:cytoplasm   \n",
       "209             PR1  protein_active     PlantCoding  putative:cytoplasm   \n",
       "310             CAT  protein_active     PlantCoding  putative:cytoplasm   \n",
       "\n",
       "       product_name    product_form  product_label    product_location  \\\n",
       "31             OPDA      metabolite     Metabolite  putative:cytoplasm   \n",
       "60        potyvirus         protein  ForeignEntity  putative:cytoplasm   \n",
       "87        EDS1|PAD4         complex        Complex  putative:cytoplasm   \n",
       "88        EDS1|PAD4         complex        Complex  putative:cytoplasm   \n",
       "91             EDS5  protein_active    PlantCoding  putative:cytoplasm   \n",
       "120  AUX-signalling         process        Process  putative:cytoplasm   \n",
       "150             TGA         protein    PlantCoding  putative:cytoplasm   \n",
       "209             PR1         protein    PlantCoding  putative:cytoplasm   \n",
       "310             CAT         protein    PlantCoding  putative:cytoplasm   \n",
       "\n",
       "      catalyst_name   catalyst_form catalyst_label   catalyst_location  \n",
       "31               SA      metabolite     Metabolite  putative:cytoplasm  \n",
       "60   RTM1|RTM2|RTM3         complex        Complex  putative:cytoplasm  \n",
       "87              NPR         protein    PlantCoding  putative:cytoplasm  \n",
       "88             MAPK         protein    PlantCoding  putative:cytoplasm  \n",
       "91        EDS1|PAD4         complex        Complex  putative:cytoplasm  \n",
       "120             ARF         protein    PlantCoding  putative:cytoplasm  \n",
       "150             GRX  protein_active    PlantCoding  putative:cytoplasm  \n",
       "209            EIN2         protein    PlantCoding  putative:cytoplasm  \n",
       "310              SA      metabolite     Metabolite  putative:cytoplasm  "
      ]
     },
     "execution_count": 130,
     "metadata": {},
     "output_type": "execute_result"
    }
   ],
   "source": [
    "subdf[substrate_cols_wo_homologues + product_cols_wo_homologues + catalyst_cols_wo_homologues]"
   ]
  },
  {
   "cell_type": "code",
   "execution_count": 131,
   "metadata": {},
   "outputs": [
    {
     "data": {
      "text/html": [
       "<div>\n",
       "<style scoped>\n",
       "    .dataframe tbody tr th:only-of-type {\n",
       "        vertical-align: middle;\n",
       "    }\n",
       "\n",
       "    .dataframe tbody tr th {\n",
       "        vertical-align: top;\n",
       "    }\n",
       "\n",
       "    .dataframe thead th {\n",
       "        text-align: right;\n",
       "    }\n",
       "</style>\n",
       "<table border=\"1\" class=\"dataframe\">\n",
       "  <thead>\n",
       "    <tr style=\"text-align: right;\">\n",
       "      <th></th>\n",
       "      <th>AddedBy</th>\n",
       "      <th>Species</th>\n",
       "      <th>AdditionalInfo</th>\n",
       "      <th>external_links</th>\n",
       "      <th>trust_level</th>\n",
       "      <th>ModelV</th>\n",
       "      <th>ReactionEffect</th>\n",
       "      <th>reaction_type</th>\n",
       "      <th>Modifications</th>\n",
       "      <th>reaction_id</th>\n",
       "    </tr>\n",
       "  </thead>\n",
       "  <tbody>\n",
       "    <tr>\n",
       "      <th>31</th>\n",
       "      <td>KG</td>\n",
       "      <td>ath</td>\n",
       "      <td>NaN</td>\n",
       "      <td>doi:10.1007/s00344-003-0027-6</td>\n",
       "      <td>R4</td>\n",
       "      <td>v1.0</td>\n",
       "      <td>inhibition</td>\n",
       "      <td>undefined</td>\n",
       "      <td>NaN</td>\n",
       "      <td>rx00032</td>\n",
       "    </tr>\n",
       "    <tr>\n",
       "      <th>60</th>\n",
       "      <td>ZR</td>\n",
       "      <td>ath</td>\n",
       "      <td>RTM proteins block the long distance transport...</td>\n",
       "      <td>doi:10.1371/journal.pone.0039169</td>\n",
       "      <td>R4</td>\n",
       "      <td>v2.7</td>\n",
       "      <td>inhibition</td>\n",
       "      <td>undefined</td>\n",
       "      <td>NaN</td>\n",
       "      <td>rx00061</td>\n",
       "    </tr>\n",
       "    <tr>\n",
       "      <th>87</th>\n",
       "      <td>KG</td>\n",
       "      <td>ath</td>\n",
       "      <td>Check if this simplification would work (inste...</td>\n",
       "      <td>doi:10.1016/s1369-5266(03)00058-x</td>\n",
       "      <td>R4</td>\n",
       "      <td>v1.0</td>\n",
       "      <td>inhibition</td>\n",
       "      <td>undefined</td>\n",
       "      <td>NaN</td>\n",
       "      <td>rx00088</td>\n",
       "    </tr>\n",
       "    <tr>\n",
       "      <th>88</th>\n",
       "      <td>KG</td>\n",
       "      <td>ath</td>\n",
       "      <td>Check if this simplification would work (inste...</td>\n",
       "      <td>doi:10.1111/j.1365-313x.2006.02806.x,doi:10.11...</td>\n",
       "      <td>R4</td>\n",
       "      <td>v1.0</td>\n",
       "      <td>inhibition</td>\n",
       "      <td>undefined</td>\n",
       "      <td>NaN</td>\n",
       "      <td>rx00089</td>\n",
       "    </tr>\n",
       "    <tr>\n",
       "      <th>91</th>\n",
       "      <td>KG</td>\n",
       "      <td>ath</td>\n",
       "      <td>NaN</td>\n",
       "      <td>doi:10.1016/s1369-5266(03)00058-x,doi:10.1111/...</td>\n",
       "      <td>R4</td>\n",
       "      <td>v1.0</td>\n",
       "      <td>activation</td>\n",
       "      <td>undefined</td>\n",
       "      <td>NaN</td>\n",
       "      <td>rx00092</td>\n",
       "    </tr>\n",
       "    <tr>\n",
       "      <th>120</th>\n",
       "      <td>KG</td>\n",
       "      <td>ath</td>\n",
       "      <td>demonstrating that ARF2 is a repressor of auxi...</td>\n",
       "      <td>doi:10.1093/jxb/erq010</td>\n",
       "      <td>R4</td>\n",
       "      <td>v2.7</td>\n",
       "      <td>inhibition</td>\n",
       "      <td>undefined</td>\n",
       "      <td>NaN</td>\n",
       "      <td>rx00121</td>\n",
       "    </tr>\n",
       "    <tr>\n",
       "      <th>150</th>\n",
       "      <td>KG</td>\n",
       "      <td>ath</td>\n",
       "      <td>This inactivation of tga256 diables binding on...</td>\n",
       "      <td>doi:10.1093/mp/ssr113</td>\n",
       "      <td>R1</td>\n",
       "      <td>v2.7</td>\n",
       "      <td>inhibition</td>\n",
       "      <td>undefined</td>\n",
       "      <td>NaN</td>\n",
       "      <td>rx00151</td>\n",
       "    </tr>\n",
       "    <tr>\n",
       "      <th>209</th>\n",
       "      <td>ZR</td>\n",
       "      <td>ath</td>\n",
       "      <td>NaN</td>\n",
       "      <td>doi:10.1104/pp.104.056028</td>\n",
       "      <td>R4</td>\n",
       "      <td>v2.7</td>\n",
       "      <td>inhibition</td>\n",
       "      <td>undefined</td>\n",
       "      <td>NaN</td>\n",
       "      <td>rx00210</td>\n",
       "    </tr>\n",
       "    <tr>\n",
       "      <th>310</th>\n",
       "      <td>SB</td>\n",
       "      <td>ath</td>\n",
       "      <td>SA decreased CAT2 activity in a dose-dependent...</td>\n",
       "      <td>doi:10.1016/j.chom.2017.01.007</td>\n",
       "      <td>R4</td>\n",
       "      <td>v2.7</td>\n",
       "      <td>inhibition</td>\n",
       "      <td>undefined</td>\n",
       "      <td>NaN</td>\n",
       "      <td>rx00311</td>\n",
       "    </tr>\n",
       "  </tbody>\n",
       "</table>\n",
       "</div>"
      ],
      "text/plain": [
       "    AddedBy Species                                     AdditionalInfo  \\\n",
       "31       KG     ath                                                NaN   \n",
       "60       ZR     ath  RTM proteins block the long distance transport...   \n",
       "87       KG     ath  Check if this simplification would work (inste...   \n",
       "88       KG     ath  Check if this simplification would work (inste...   \n",
       "91       KG     ath                                                NaN   \n",
       "120      KG     ath  demonstrating that ARF2 is a repressor of auxi...   \n",
       "150      KG     ath  This inactivation of tga256 diables binding on...   \n",
       "209      ZR     ath                                                NaN   \n",
       "310      SB     ath  SA decreased CAT2 activity in a dose-dependent...   \n",
       "\n",
       "                                        external_links trust_level ModelV  \\\n",
       "31                       doi:10.1007/s00344-003-0027-6          R4   v1.0   \n",
       "60                    doi:10.1371/journal.pone.0039169          R4   v2.7   \n",
       "87                   doi:10.1016/s1369-5266(03)00058-x          R4   v1.0   \n",
       "88   doi:10.1111/j.1365-313x.2006.02806.x,doi:10.11...          R4   v1.0   \n",
       "91   doi:10.1016/s1369-5266(03)00058-x,doi:10.1111/...          R4   v1.0   \n",
       "120                             doi:10.1093/jxb/erq010          R4   v2.7   \n",
       "150                              doi:10.1093/mp/ssr113          R1   v2.7   \n",
       "209                          doi:10.1104/pp.104.056028          R4   v2.7   \n",
       "310                     doi:10.1016/j.chom.2017.01.007          R4   v2.7   \n",
       "\n",
       "    ReactionEffect reaction_type Modifications reaction_id  \n",
       "31      inhibition     undefined           NaN     rx00032  \n",
       "60      inhibition     undefined           NaN     rx00061  \n",
       "87      inhibition     undefined           NaN     rx00088  \n",
       "88      inhibition     undefined           NaN     rx00089  \n",
       "91      activation     undefined           NaN     rx00092  \n",
       "120     inhibition     undefined           NaN     rx00121  \n",
       "150     inhibition     undefined           NaN     rx00151  \n",
       "209     inhibition     undefined           NaN     rx00210  \n",
       "310     inhibition     undefined           NaN     rx00311  "
      ]
     },
     "execution_count": 131,
     "metadata": {},
     "output_type": "execute_result"
    }
   ],
   "source": [
    "subdf[reaction_standard_columns]"
   ]
  },
  {
   "cell_type": "code",
   "execution_count": 132,
   "metadata": {},
   "outputs": [],
   "source": [
    "activation_subdf = subdf[subdf['ReactionEffect'] == 'activation' ]\n",
    "inhibition_subdf = subdf[subdf['ReactionEffect'] == 'inhibition' ]"
   ]
  },
  {
   "cell_type": "code",
   "execution_count": 133,
   "metadata": {},
   "outputs": [
    {
     "name": "stdout",
     "output_type": "stream",
     "text": [
      "Reaction            \t  9\t  9\n"
     ]
    }
   ],
   "source": [
    "# make reaction nodes\n",
    "f = f\"{reaction_type}-reaction.tsv\"\n",
    "subdf[reaction_standard_columns].to_csv(f\"../data/import/{f}\", sep=\"\\t\", index=None)\n",
    "query = helpers.reaction_node_query(f, name=\"line.reaction_id\")\n",
    "\n",
    "qr = graph.run(query)\n",
    "pretty_print_result('Reaction', subdf, qr, 'nodes')"
   ]
  },
  {
   "cell_type": "code",
   "execution_count": 134,
   "metadata": {},
   "outputs": [
    {
     "name": "stdout",
     "output_type": "stream",
     "text": [
      "-                   \t  9\t  9\n"
     ]
    }
   ],
   "source": [
    "# substrate to reaction edge\n",
    "f =  f\"{reaction_type}-wicat-substrate_edges.tsv\" \n",
    "want_cols = reaction_standard_columns + substrate_cols\n",
    "subdf[want_cols].to_csv(f\"../data/import/{f}\", sep=\"\\t\", index=None)\n",
    "\n",
    "query = helpers.make_create_reaction_edge_query(f, 'SUBSTRATE',\n",
    "                                                \"substrate\", \"dne\", \n",
    "                                                target_label=\"Reaction\", \n",
    "                                                target_name=\"line.reaction_id\"\n",
    "                              )\n",
    "qr = graph.run(query)\n",
    "pretty_print_result('-', subdf, qr, 'relationships')"
   ]
  },
  {
   "cell_type": "code",
   "execution_count": 135,
   "metadata": {},
   "outputs": [
    {
     "name": "stdout",
     "output_type": "stream",
     "text": [
      "-                   \t  9\t  9\n"
     ]
    }
   ],
   "source": [
    "# product to reaction edge\n",
    "f =  f\"{reaction_type}-wicat-product_edges.tsv\" \n",
    "want_cols = reaction_standard_columns + product_cols\n",
    "subdf[want_cols].to_csv(f\"../data/import/{f}\", sep=\"\\t\", index=None)\n",
    "\n",
    "query = helpers.make_create_reaction_edge_query(f, 'PRODUCT', \"dne\" , \"product\", \n",
    "                                                source_name=\"line.reaction_id\", \n",
    "                                                source_label=\"Reaction\"\n",
    "                              )\n",
    "qr = graph.run(query)\n",
    "pretty_print_result('-', subdf, qr, 'relationships')"
   ]
  },
  {
   "cell_type": "markdown",
   "metadata": {},
   "source": [
    "## activation"
   ]
  },
  {
   "cell_type": "code",
   "execution_count": 136,
   "metadata": {},
   "outputs": [
    {
     "data": {
      "text/html": [
       "<div>\n",
       "<style scoped>\n",
       "    .dataframe tbody tr th:only-of-type {\n",
       "        vertical-align: middle;\n",
       "    }\n",
       "\n",
       "    .dataframe tbody tr th {\n",
       "        vertical-align: top;\n",
       "    }\n",
       "\n",
       "    .dataframe thead th {\n",
       "        text-align: right;\n",
       "    }\n",
       "</style>\n",
       "<table border=\"1\" class=\"dataframe\">\n",
       "  <thead>\n",
       "    <tr style=\"text-align: right;\">\n",
       "      <th></th>\n",
       "      <th>substrate_name</th>\n",
       "      <th>substrate_form</th>\n",
       "      <th>substrate_label</th>\n",
       "      <th>substrate_location</th>\n",
       "      <th>catalyst_name</th>\n",
       "      <th>catalyst_form</th>\n",
       "      <th>catalyst_label</th>\n",
       "      <th>catalyst_location</th>\n",
       "      <th>product_name</th>\n",
       "      <th>product_form</th>\n",
       "      <th>product_label</th>\n",
       "      <th>product_location</th>\n",
       "    </tr>\n",
       "  </thead>\n",
       "  <tbody>\n",
       "    <tr>\n",
       "      <th>91</th>\n",
       "      <td>EDS5</td>\n",
       "      <td>protein</td>\n",
       "      <td>PlantCoding</td>\n",
       "      <td>putative:cytoplasm</td>\n",
       "      <td>EDS1|PAD4</td>\n",
       "      <td>complex</td>\n",
       "      <td>Complex</td>\n",
       "      <td>putative:cytoplasm</td>\n",
       "      <td>EDS5</td>\n",
       "      <td>protein_active</td>\n",
       "      <td>PlantCoding</td>\n",
       "      <td>putative:cytoplasm</td>\n",
       "    </tr>\n",
       "  </tbody>\n",
       "</table>\n",
       "</div>"
      ],
      "text/plain": [
       "   substrate_name substrate_form substrate_label  substrate_location  \\\n",
       "91           EDS5        protein     PlantCoding  putative:cytoplasm   \n",
       "\n",
       "   catalyst_name catalyst_form catalyst_label   catalyst_location  \\\n",
       "91     EDS1|PAD4       complex        Complex  putative:cytoplasm   \n",
       "\n",
       "   product_name    product_form product_label    product_location  \n",
       "91         EDS5  protein_active   PlantCoding  putative:cytoplasm  "
      ]
     },
     "execution_count": 136,
     "metadata": {},
     "output_type": "execute_result"
    }
   ],
   "source": [
    "activation_subdf[substrate_cols_wo_homologues + catalyst_cols_wo_homologues + product_cols_wo_homologues]"
   ]
  },
  {
   "cell_type": "code",
   "execution_count": 137,
   "metadata": {},
   "outputs": [
    {
     "name": "stdout",
     "output_type": "stream",
     "text": [
      "-                   \t  1\t  1\n"
     ]
    }
   ],
   "source": [
    "# catalyst to reaction edge\n",
    "\n",
    "f =  f\"{reaction_type}-catalyst_edges.tsv\" \n",
    "want_cols = reaction_standard_columns + catalyst_cols\n",
    "activation_subdf[want_cols].to_csv(f\"../data/import/{f}\", sep=\"\\t\", index=None)\n",
    "\n",
    "query = helpers.make_create_reaction_edge_query(f, 'ACTIVATES',\n",
    "                                                \"catalyst\", \"dne\", \n",
    "                                                target_label=\"Reaction\", \n",
    "                                                target_name=\"line.reaction_id\"\n",
    "                              )\n",
    "qr = graph.run(query)\n",
    "pretty_print_result('-', activation_subdf, qr, 'relationships')"
   ]
  },
  {
   "cell_type": "markdown",
   "metadata": {},
   "source": [
    "## inhibition"
   ]
  },
  {
   "cell_type": "code",
   "execution_count": 138,
   "metadata": {},
   "outputs": [
    {
     "data": {
      "text/html": [
       "<div>\n",
       "<style scoped>\n",
       "    .dataframe tbody tr th:only-of-type {\n",
       "        vertical-align: middle;\n",
       "    }\n",
       "\n",
       "    .dataframe tbody tr th {\n",
       "        vertical-align: top;\n",
       "    }\n",
       "\n",
       "    .dataframe thead th {\n",
       "        text-align: right;\n",
       "    }\n",
       "</style>\n",
       "<table border=\"1\" class=\"dataframe\">\n",
       "  <thead>\n",
       "    <tr style=\"text-align: right;\">\n",
       "      <th></th>\n",
       "      <th>substrate_name</th>\n",
       "      <th>substrate_form</th>\n",
       "      <th>substrate_label</th>\n",
       "      <th>substrate_location</th>\n",
       "      <th>catalyst_name</th>\n",
       "      <th>catalyst_form</th>\n",
       "      <th>catalyst_label</th>\n",
       "      <th>catalyst_location</th>\n",
       "      <th>product_name</th>\n",
       "      <th>product_form</th>\n",
       "      <th>product_label</th>\n",
       "      <th>product_location</th>\n",
       "    </tr>\n",
       "  </thead>\n",
       "  <tbody>\n",
       "    <tr>\n",
       "      <th>31</th>\n",
       "      <td>OPDA</td>\n",
       "      <td>metabolite</td>\n",
       "      <td>Metabolite</td>\n",
       "      <td>putative:cytoplasm</td>\n",
       "      <td>SA</td>\n",
       "      <td>metabolite</td>\n",
       "      <td>Metabolite</td>\n",
       "      <td>putative:cytoplasm</td>\n",
       "      <td>OPDA</td>\n",
       "      <td>metabolite</td>\n",
       "      <td>Metabolite</td>\n",
       "      <td>putative:cytoplasm</td>\n",
       "    </tr>\n",
       "    <tr>\n",
       "      <th>60</th>\n",
       "      <td>potyvirus</td>\n",
       "      <td>protein_active</td>\n",
       "      <td>ForeignEntity</td>\n",
       "      <td>putative:cytoplasm</td>\n",
       "      <td>RTM1|RTM2|RTM3</td>\n",
       "      <td>complex</td>\n",
       "      <td>Complex</td>\n",
       "      <td>putative:cytoplasm</td>\n",
       "      <td>potyvirus</td>\n",
       "      <td>protein</td>\n",
       "      <td>ForeignEntity</td>\n",
       "      <td>putative:cytoplasm</td>\n",
       "    </tr>\n",
       "    <tr>\n",
       "      <th>87</th>\n",
       "      <td>EDS1|PAD4</td>\n",
       "      <td>complex_active</td>\n",
       "      <td>Complex</td>\n",
       "      <td>putative:cytoplasm</td>\n",
       "      <td>NPR</td>\n",
       "      <td>protein</td>\n",
       "      <td>PlantCoding</td>\n",
       "      <td>putative:cytoplasm</td>\n",
       "      <td>EDS1|PAD4</td>\n",
       "      <td>complex</td>\n",
       "      <td>Complex</td>\n",
       "      <td>putative:cytoplasm</td>\n",
       "    </tr>\n",
       "    <tr>\n",
       "      <th>88</th>\n",
       "      <td>EDS1|PAD4</td>\n",
       "      <td>complex_active</td>\n",
       "      <td>Complex</td>\n",
       "      <td>putative:cytoplasm</td>\n",
       "      <td>MAPK</td>\n",
       "      <td>protein</td>\n",
       "      <td>PlantCoding</td>\n",
       "      <td>putative:cytoplasm</td>\n",
       "      <td>EDS1|PAD4</td>\n",
       "      <td>complex</td>\n",
       "      <td>Complex</td>\n",
       "      <td>putative:cytoplasm</td>\n",
       "    </tr>\n",
       "    <tr>\n",
       "      <th>120</th>\n",
       "      <td>AUX-signalling</td>\n",
       "      <td>process_active</td>\n",
       "      <td>Process</td>\n",
       "      <td>putative:cytoplasm</td>\n",
       "      <td>ARF</td>\n",
       "      <td>protein</td>\n",
       "      <td>PlantCoding</td>\n",
       "      <td>putative:cytoplasm</td>\n",
       "      <td>AUX-signalling</td>\n",
       "      <td>process</td>\n",
       "      <td>Process</td>\n",
       "      <td>putative:cytoplasm</td>\n",
       "    </tr>\n",
       "    <tr>\n",
       "      <th>150</th>\n",
       "      <td>TGA</td>\n",
       "      <td>protein_active</td>\n",
       "      <td>PlantCoding</td>\n",
       "      <td>putative:cytoplasm</td>\n",
       "      <td>GRX</td>\n",
       "      <td>protein_active</td>\n",
       "      <td>PlantCoding</td>\n",
       "      <td>putative:cytoplasm</td>\n",
       "      <td>TGA</td>\n",
       "      <td>protein</td>\n",
       "      <td>PlantCoding</td>\n",
       "      <td>putative:cytoplasm</td>\n",
       "    </tr>\n",
       "    <tr>\n",
       "      <th>209</th>\n",
       "      <td>PR1</td>\n",
       "      <td>protein_active</td>\n",
       "      <td>PlantCoding</td>\n",
       "      <td>putative:cytoplasm</td>\n",
       "      <td>EIN2</td>\n",
       "      <td>protein</td>\n",
       "      <td>PlantCoding</td>\n",
       "      <td>putative:cytoplasm</td>\n",
       "      <td>PR1</td>\n",
       "      <td>protein</td>\n",
       "      <td>PlantCoding</td>\n",
       "      <td>putative:cytoplasm</td>\n",
       "    </tr>\n",
       "    <tr>\n",
       "      <th>310</th>\n",
       "      <td>CAT</td>\n",
       "      <td>protein_active</td>\n",
       "      <td>PlantCoding</td>\n",
       "      <td>putative:cytoplasm</td>\n",
       "      <td>SA</td>\n",
       "      <td>metabolite</td>\n",
       "      <td>Metabolite</td>\n",
       "      <td>putative:cytoplasm</td>\n",
       "      <td>CAT</td>\n",
       "      <td>protein</td>\n",
       "      <td>PlantCoding</td>\n",
       "      <td>putative:cytoplasm</td>\n",
       "    </tr>\n",
       "  </tbody>\n",
       "</table>\n",
       "</div>"
      ],
      "text/plain": [
       "     substrate_name  substrate_form substrate_label  substrate_location  \\\n",
       "31             OPDA      metabolite      Metabolite  putative:cytoplasm   \n",
       "60        potyvirus  protein_active   ForeignEntity  putative:cytoplasm   \n",
       "87        EDS1|PAD4  complex_active         Complex  putative:cytoplasm   \n",
       "88        EDS1|PAD4  complex_active         Complex  putative:cytoplasm   \n",
       "120  AUX-signalling  process_active         Process  putative:cytoplasm   \n",
       "150             TGA  protein_active     PlantCoding  putative:cytoplasm   \n",
       "209             PR1  protein_active     PlantCoding  putative:cytoplasm   \n",
       "310             CAT  protein_active     PlantCoding  putative:cytoplasm   \n",
       "\n",
       "      catalyst_name   catalyst_form catalyst_label   catalyst_location  \\\n",
       "31               SA      metabolite     Metabolite  putative:cytoplasm   \n",
       "60   RTM1|RTM2|RTM3         complex        Complex  putative:cytoplasm   \n",
       "87              NPR         protein    PlantCoding  putative:cytoplasm   \n",
       "88             MAPK         protein    PlantCoding  putative:cytoplasm   \n",
       "120             ARF         protein    PlantCoding  putative:cytoplasm   \n",
       "150             GRX  protein_active    PlantCoding  putative:cytoplasm   \n",
       "209            EIN2         protein    PlantCoding  putative:cytoplasm   \n",
       "310              SA      metabolite     Metabolite  putative:cytoplasm   \n",
       "\n",
       "       product_name product_form  product_label    product_location  \n",
       "31             OPDA   metabolite     Metabolite  putative:cytoplasm  \n",
       "60        potyvirus      protein  ForeignEntity  putative:cytoplasm  \n",
       "87        EDS1|PAD4      complex        Complex  putative:cytoplasm  \n",
       "88        EDS1|PAD4      complex        Complex  putative:cytoplasm  \n",
       "120  AUX-signalling      process        Process  putative:cytoplasm  \n",
       "150             TGA      protein    PlantCoding  putative:cytoplasm  \n",
       "209             PR1      protein    PlantCoding  putative:cytoplasm  \n",
       "310             CAT      protein    PlantCoding  putative:cytoplasm  "
      ]
     },
     "execution_count": 138,
     "metadata": {},
     "output_type": "execute_result"
    }
   ],
   "source": [
    "inhibition_subdf[substrate_cols_wo_homologues + catalyst_cols_wo_homologues + product_cols_wo_homologues]"
   ]
  },
  {
   "cell_type": "code",
   "execution_count": 139,
   "metadata": {},
   "outputs": [
    {
     "name": "stdout",
     "output_type": "stream",
     "text": [
      "-                   \t  8\t  8\n"
     ]
    }
   ],
   "source": [
    "# catalyst to reaction edge\n",
    "\n",
    "f =  f\"{reaction_type}-catalyst_edges.tsv\" \n",
    "want_cols = reaction_standard_columns + catalyst_cols\n",
    "inhibition_subdf[want_cols].to_csv(f\"../data/import/{f}\", sep=\"\\t\", index=None)\n",
    "\n",
    "query = helpers.make_create_reaction_edge_query(f, 'INHIBITS',\n",
    "                                                \"catalyst\", \"dne\", \n",
    "                                                target_label=\"Reaction\", \n",
    "                                                target_name=\"line.reaction_id\"\n",
    "                              )\n",
    "qr = graph.run(query)\n",
    "pretty_print_result('-', inhibition_subdf, qr, 'relationships')"
   ]
  },
  {
   "cell_type": "code",
   "execution_count": null,
   "metadata": {},
   "outputs": [],
   "source": []
  },
  {
   "cell_type": "code",
   "execution_count": null,
   "metadata": {},
   "outputs": [],
   "source": []
  },
  {
   "cell_type": "code",
   "execution_count": null,
   "metadata": {},
   "outputs": [],
   "source": []
  },
  {
   "cell_type": "markdown",
   "metadata": {},
   "source": [
    "# END "
   ]
  },
  {
   "cell_type": "code",
   "execution_count": null,
   "metadata": {},
   "outputs": [],
   "source": []
  }
 ],
 "metadata": {
  "kernelspec": {
   "display_name": "Python 3",
   "language": "python",
   "name": "python3"
  },
  "language_info": {
   "codemirror_mode": {
    "name": "ipython",
    "version": 3
   },
   "file_extension": ".py",
   "mimetype": "text/x-python",
   "name": "python",
   "nbconvert_exporter": "python",
   "pygments_lexer": "ipython3",
   "version": "3.9.2"
  }
 },
 "nbformat": 4,
 "nbformat_minor": 2
}
